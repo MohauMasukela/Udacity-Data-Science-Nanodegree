{
 "cells": [
  {
   "cell_type": "markdown",
   "metadata": {},
   "source": [
    "# Sparkify Project Workspace\n",
    "This workspace contains a tiny subset (128MB) of the full dataset available (12GB). Feel free to use this workspace to build your project, or to explore a smaller subset with Spark before deploying your cluster on the cloud. Instructions for setting up your Spark cluster is included in the last lesson of the Extracurricular Spark Course content.\n",
    "\n",
    "You can follow the steps below to guide your data analysis and model building portion of this project."
   ]
  },
  {
   "cell_type": "code",
   "execution_count": 61,
   "metadata": {},
   "outputs": [],
   "source": [
    "# import libraries\n",
    "from pyspark.sql import SparkSession\n",
    "from pyspark.sql.functions import isnan, when, count, col, hour, udf,countDistinct,desc,avg,from_unixtime,to_date,ceil,min\n",
    "from pyspark.sql.types import StringType,DateType,IntegerType\n",
    "from pyspark.sql.types import IntegerType\n",
    "from pyspark.sql.functions import when\n",
    "import pyspark.sql.functions as F\n",
    "from pyspark.sql import Window\n",
    "import datetime\n",
    "\n",
    "from pyspark.ml import Pipeline\n",
    "from pyspark.ml.feature import StringIndexer\n",
    "from pyspark.ml.feature import VectorAssembler\n",
    "from pyspark.ml.feature import Normalizer\n",
    "from pyspark.ml.feature import StandardScaler\n",
    "\n",
    "from pyspark.ml.classification import RandomForestClassifier\n",
    "from pyspark.ml.classification import LogisticRegression\n",
    "from pyspark.ml.classification import GBTClassifier\n",
    "\n",
    "from pyspark.ml.evaluation import BinaryClassificationEvaluator\n",
    "from pyspark.ml.evaluation import MulticlassClassificationEvaluator\n",
    "\n",
    "from pyspark.ml.tuning import CrossValidator, ParamGridBuilder\n",
    "\n",
    "import pandas as pd\n",
    "import numpy as np\n",
    "import matplotlib.pylab as plt\n",
    "import matplotlib.pyplot as plot\n",
    "import matplotlib.ticker as ticker\n",
    "import seaborn as sns"
   ]
  },
  {
   "cell_type": "code",
   "execution_count": 62,
   "metadata": {},
   "outputs": [],
   "source": [
    "# create a Spark session\n",
    "spark=SparkSession.builder.appName(\"Sparkify\").getOrCreate()"
   ]
  },
  {
   "cell_type": "markdown",
   "metadata": {},
   "source": [
    "# Load and Clean Dataset\n",
    "In this workspace, the mini-dataset file is `mini_sparkify_event_data.json`. Load and clean the dataset, checking for invalid or missing data - for example, records without userids or sessionids. "
   ]
  },
  {
   "cell_type": "code",
   "execution_count": 63,
   "metadata": {},
   "outputs": [
    {
     "data": {
      "text/plain": [
       "DataFrame[artist: string, auth: string, firstName: string, gender: string, itemInSession: bigint, lastName: string, length: double, level: string, location: string, method: string, page: string, registration: bigint, sessionId: bigint, song: string, status: bigint, ts: bigint, userAgent: string, userId: string]"
      ]
     },
     "execution_count": 63,
     "metadata": {},
     "output_type": "execute_result"
    }
   ],
   "source": [
    "data = spark.read.json(\"mini_sparkify_event_data.json\")\n",
    "data"
   ]
  },
  {
   "cell_type": "code",
   "execution_count": 64,
   "metadata": {},
   "outputs": [
    {
     "data": {
      "text/plain": [
       "Row(artist='Martha Tilston', auth='Logged In', firstName='Colin', gender='M', itemInSession=50, lastName='Freeman', length=277.89016, level='paid', location='Bakersfield, CA', method='PUT', page='NextSong', registration=1538173362000, sessionId=29, song='Rockpools', status=200, ts=1538352117000, userAgent='Mozilla/5.0 (Windows NT 6.1; WOW64; rv:31.0) Gecko/20100101 Firefox/31.0', userId='30')"
      ]
     },
     "execution_count": 64,
     "metadata": {},
     "output_type": "execute_result"
    }
   ],
   "source": [
    "data.head()"
   ]
  },
  {
   "cell_type": "code",
   "execution_count": 65,
   "metadata": {},
   "outputs": [
    {
     "name": "stdout",
     "output_type": "stream",
     "text": [
      "(286500, 18)\n"
     ]
    }
   ],
   "source": [
    "#shape of the dataframe\n",
    "print((data.count(), len(data.columns)))"
   ]
  },
  {
   "cell_type": "code",
   "execution_count": 66,
   "metadata": {},
   "outputs": [
    {
     "name": "stdout",
     "output_type": "stream",
     "text": [
      "+------+----+---------+------+-------------+--------+------+-----+--------+------+----+------------+---------+-----+------+---+---------+------+\n",
      "|artist|auth|firstName|gender|itemInSession|lastName|length|level|location|method|page|registration|sessionId| song|status| ts|userAgent|userId|\n",
      "+------+----+---------+------+-------------+--------+------+-----+--------+------+----+------------+---------+-----+------+---+---------+------+\n",
      "| 58392|   0|     8346|  8346|            0|    8346| 58392|    0|    8346|     0|   0|        8346|        0|58392|     0|  0|     8346|     0|\n",
      "+------+----+---------+------+-------------+--------+------+-----+--------+------+----+------------+---------+-----+------+---+---------+------+\n",
      "\n"
     ]
    }
   ],
   "source": [
    "#Check for null/missing values values\n",
    "data.select([F.count(F.when(F.col(i).isNull(), i)).alias(i) for i in data.columns]).show()"
   ]
  },
  {
   "cell_type": "code",
   "execution_count": 67,
   "metadata": {},
   "outputs": [
    {
     "data": {
      "text/plain": [
       "8346"
      ]
     },
     "execution_count": 67,
     "metadata": {},
     "output_type": "execute_result"
    }
   ],
   "source": [
    "data.filter(data[\"registration\"].isNull()).count()\n",
    "#data.filter(data[\"registration\"].isNull()).show()"
   ]
  },
  {
   "cell_type": "code",
   "execution_count": 68,
   "metadata": {},
   "outputs": [],
   "source": [
    "#drop unregistered users\n",
    "data=data.dropna(how=\"any\",subset=[\"registration\"])\n",
    "#data.show()"
   ]
  },
  {
   "cell_type": "code",
   "execution_count": 69,
   "metadata": {},
   "outputs": [
    {
     "name": "stdout",
     "output_type": "stream",
     "text": [
      "+------+-------------+---------+-----+---------------+-------------+---------+------+-------------+------+\n",
      "|gender|itemInSession|   length|level|           page| registration|sessionId|status|           ts|userId|\n",
      "+------+-------------+---------+-----+---------------+-------------+---------+------+-------------+------+\n",
      "|     M|           50|277.89016| paid|       NextSong|1538173362000|       29|   200|1538352117000|    30|\n",
      "|     M|           79|236.09424| free|       NextSong|1538331630000|        8|   200|1538352180000|     9|\n",
      "|     M|           51| 282.8273| paid|       NextSong|1538173362000|       29|   200|1538352394000|    30|\n",
      "|     M|           80|262.71302| free|       NextSong|1538331630000|        8|   200|1538352416000|     9|\n",
      "|     M|           52|223.60771| paid|       NextSong|1538173362000|       29|   200|1538352676000|    30|\n",
      "|     M|           81|208.29995| free|       NextSong|1538331630000|        8|   200|1538352678000|     9|\n",
      "|     M|           82|260.46649| free|       NextSong|1538331630000|        8|   200|1538352886000|     9|\n",
      "|     M|           53|185.44281| paid|       NextSong|1538173362000|       29|   200|1538352899000|    30|\n",
      "|     M|           54|     NULL| paid|Add to Playlist|1538173362000|       29|   200|1538352905000|    30|\n",
      "|     M|           55|134.47791| paid|       NextSong|1538173362000|       29|   200|1538353084000|    30|\n",
      "|     M|           83| 229.8771| free|       NextSong|1538331630000|        8|   200|1538353146000|     9|\n",
      "|     M|           84|     NULL| free|    Roll Advert|1538331630000|        8|   200|1538353150000|     9|\n",
      "|     M|           56|223.58159| paid|       NextSong|1538173362000|       29|   200|1538353218000|    30|\n",
      "|     M|           85|201.06404| free|       NextSong|1538331630000|        8|   200|1538353375000|     9|\n",
      "|     M|           86|     NULL| free|      Thumbs Up|1538331630000|        8|   307|1538353376000|     9|\n",
      "|     M|           57|246.69995| paid|       NextSong|1538173362000|       29|   200|1538353441000|    30|\n",
      "|     M|           87|168.64608| free|       NextSong|1538331630000|        8|   200|1538353576000|     9|\n",
      "|     F|            0| 166.1122| free|       NextSong|1537365219000|      217|   200|1538353668000|    74|\n",
      "|     M|           58|222.22322| paid|       NextSong|1538173362000|       29|   200|1538353687000|    30|\n",
      "|     M|           88|229.77261| free|       NextSong|1538331630000|        8|   200|1538353744000|     9|\n",
      "+------+-------------+---------+-----+---------------+-------------+---------+------+-------------+------+\n",
      "only showing top 20 rows\n",
      "\n"
     ]
    }
   ],
   "source": [
    "#drop columns that are not needed\n",
    "columns_to_drop = ['userAgent', 'firstName','lastName','location','song','artist','auth','method']\n",
    "\n",
    "data=data.drop(*columns_to_drop)\n",
    "data.show()"
   ]
  },
  {
   "cell_type": "code",
   "execution_count": 70,
   "metadata": {},
   "outputs": [
    {
     "data": {
      "text/plain": [
       "159"
      ]
     },
     "execution_count": 70,
     "metadata": {},
     "output_type": "execute_result"
    }
   ],
   "source": [
    "data.filter(data[\"page\"]==\"Submit Upgrade\").count()\n"
   ]
  },
  {
   "cell_type": "code",
   "execution_count": 71,
   "metadata": {},
   "outputs": [
    {
     "data": {
      "text/plain": [
       "63"
      ]
     },
     "execution_count": 71,
     "metadata": {},
     "output_type": "execute_result"
    }
   ],
   "source": [
    "data.filter(data[\"page\"]==\"Submit Downgrade\").count()"
   ]
  },
  {
   "cell_type": "markdown",
   "metadata": {},
   "source": [
    "# Feature Engineering\n",
    "Once you've familiarized yourself with the data, build out the features you find promising to train your model on. To work with the full dataset, you can follow the following steps.\n",
    "- Write a script to extract the necessary features from the smaller subset of data\n",
    "- Ensure that your script is scalable, using the best practices discussed in Lesson 3\n",
    "- Try your script on the full data set, debugging your script if necessary\n",
    "\n",
    "If you are working in the classroom workspace, you can just extract features based on the small subset of data contained here. Be sure to transfer over this work to the larger dataset when you work on your Spark cluster."
   ]
  },
  {
   "cell_type": "code",
   "execution_count": 72,
   "metadata": {},
   "outputs": [
    {
     "name": "stdout",
     "output_type": "stream",
     "text": [
      "+-------------+---------+-----+---------------+-------------+---------+------+-------------+------+---------+-------+------------+---+----+\n",
      "|itemInSession|   length|level|           page| registration|sessionId|status|           ts|userId|downgrade|upgrade|posDowngrade|sex|paid|\n",
      "+-------------+---------+-----+---------------+-------------+---------+------+-------------+------+---------+-------+------------+---+----+\n",
      "|           50|277.89016| paid|       NextSong|1538173362000|       29|   200|1538352117000|    30|        0|      0|           0|  1|   1|\n",
      "|           79|236.09424| free|       NextSong|1538331630000|        8|   200|1538352180000|     9|        0|      0|           0|  1|   0|\n",
      "|           51| 282.8273| paid|       NextSong|1538173362000|       29|   200|1538352394000|    30|        0|      0|           0|  1|   1|\n",
      "|           80|262.71302| free|       NextSong|1538331630000|        8|   200|1538352416000|     9|        0|      0|           0|  1|   0|\n",
      "|           52|223.60771| paid|       NextSong|1538173362000|       29|   200|1538352676000|    30|        0|      0|           0|  1|   1|\n",
      "|           81|208.29995| free|       NextSong|1538331630000|        8|   200|1538352678000|     9|        0|      0|           0|  1|   0|\n",
      "|           82|260.46649| free|       NextSong|1538331630000|        8|   200|1538352886000|     9|        0|      0|           0|  1|   0|\n",
      "|           53|185.44281| paid|       NextSong|1538173362000|       29|   200|1538352899000|    30|        0|      0|           0|  1|   1|\n",
      "|           54|     NULL| paid|Add to Playlist|1538173362000|       29|   200|1538352905000|    30|        0|      0|           0|  1|   1|\n",
      "|           55|134.47791| paid|       NextSong|1538173362000|       29|   200|1538353084000|    30|        0|      0|           0|  1|   1|\n",
      "+-------------+---------+-----+---------------+-------------+---------+------+-------------+------+---------+-------+------------+---+----+\n",
      "only showing top 10 rows\n",
      "\n"
     ]
    }
   ],
   "source": [
    "#create columns for downgraded,upgrade,paid and possible downgrade feature engineering\n",
    "data=data.withColumn('downgrade', F.when(data.page==\"Submit Downgrade\", 1).otherwise(0))\n",
    "data=data.withColumn('upgrade', F.when(data.page==\"Submit Upgrade\", 1).otherwise(0))\n",
    "data=data.withColumn('posDowngrade', F.when(data.page==\"Downgrade\", 1).otherwise(0))\n",
    "data=data.withColumn('sex', F.when(data.gender==\"M\", 1).otherwise(0))\n",
    "data=data.drop('gender')\n",
    "data=data.withColumn('paid', F.when(data.level==\"paid\", 1).otherwise(0))\n",
    "data.show(10)"
   ]
  },
  {
   "cell_type": "code",
   "execution_count": 73,
   "metadata": {},
   "outputs": [],
   "source": [
    "#create a feature to look at the number of sessions a user has completed\n",
    "feature_group = ['userId']\n",
    "data_counts=data.groupBy(feature_group).agg(F.countDistinct('sessionId').alias(\"numSessions\"))\n",
    "\n",
    "data = data.join(data_counts, feature_group)\n"
   ]
  },
  {
   "cell_type": "code",
   "execution_count": 74,
   "metadata": {},
   "outputs": [],
   "source": [
    "#add a column of registration date\n",
    "\n",
    "data=data.withColumn('regDate',F.from_unixtime((F.col('registration')/1000),\"yyyy-MM-dd\"))\n",
    "data=data.drop('registration')"
   ]
  },
  {
   "cell_type": "code",
   "execution_count": 75,
   "metadata": {},
   "outputs": [
    {
     "name": "stdout",
     "output_type": "stream",
     "text": [
      "+------+-------------+---------+-----+--------+---------+------+-------------+---------+-------+------------+---+----+-----------+----------+\n",
      "|userId|itemInSession|   length|level|    page|sessionId|status|           ts|downgrade|upgrade|posDowngrade|sex|paid|numSessions|   regDate|\n",
      "+------+-------------+---------+-----+--------+---------+------+-------------+---------+-------+------------+---+----+-----------+----------+\n",
      "|    51|            6|     NULL| paid|    Home|      236|   200|1538398632000|        0|      0|           0|  1|   1|         10|2018-09-27|\n",
      "|    51|            7|289.69751| paid|NextSong|      236|   200|1538398649000|        0|      0|           0|  1|   1|         10|2018-09-27|\n",
      "|    51|            8|229.82485| paid|NextSong|      236|   200|1538398938000|        0|      0|           0|  1|   1|         10|2018-09-27|\n",
      "+------+-------------+---------+-----+--------+---------+------+-------------+---------+-------+------------+---+----+-----------+----------+\n",
      "only showing top 3 rows\n",
      "\n"
     ]
    }
   ],
   "source": [
    "data.show(3)"
   ]
  },
  {
   "cell_type": "code",
   "execution_count": 76,
   "metadata": {},
   "outputs": [
    {
     "name": "stdout",
     "output_type": "stream",
     "text": [
      "+------+-------------+---------+-----+---------+---------+------+-------------+---------+-------+------------+---+----+-----------+----------+------------+\n",
      "|userId|itemInSession|   length|level|     page|sessionId|status|           ts|downgrade|upgrade|posDowngrade|sex|paid|numSessions|   regDate|avgInSession|\n",
      "+------+-------------+---------+-----+---------+---------+------+-------------+---------+-------+------------+---+----+-----------+----------+------------+\n",
      "|100010|            0|202.97098| free| NextSong|       31|   200|1539003534000|        0|      0|           0|  0|   0|          7|2018-09-27|          20|\n",
      "|100010|            1|196.54485| free| NextSong|       31|   200|1539003736000|        0|      0|           0|  0|   0|          7|2018-09-27|          20|\n",
      "|100010|            2|263.13098| free| NextSong|       31|   200|1539003932000|        0|      0|           0|  0|   0|          7|2018-09-27|          20|\n",
      "|100010|            3|     NULL| free|Thumbs Up|       31|   307|1539003933000|        0|      0|           0|  0|   0|          7|2018-09-27|          20|\n",
      "|100010|            4|316.23791| free| NextSong|       31|   200|1539004195000|        0|      0|           0|  0|   0|          7|2018-09-27|          20|\n",
      "+------+-------------+---------+-----+---------+---------+------+-------------+---------+-------+------------+---+----+-----------+----------+------------+\n",
      "only showing top 5 rows\n",
      "\n"
     ]
    }
   ],
   "source": [
    "#create a feature to look at the ave items in session\n",
    "w = Window.partitionBy(['userId','sessionId'])\n",
    "data=data.withColumn(\"avgInSession\", F.avg(\"itemInSession\").over(w))\n",
    "data=data.withColumn(\"avgInSession\",F.ceil(F.col('avgInSession')))\n",
    "data.show(5)"
   ]
  },
  {
   "cell_type": "code",
   "execution_count": 77,
   "metadata": {},
   "outputs": [
    {
     "name": "stdout",
     "output_type": "stream",
     "text": [
      "+------+-------------+------+-----+----------------+---------+------+-------------+---------+-------+------------+---+----+-----------+----------+------------+\n",
      "|userId|itemInSession|length|level|            page|sessionId|status|           ts|downgrade|upgrade|posDowngrade|sex|paid|numSessions|   regDate|avgInSession|\n",
      "+------+-------------+------+-----+----------------+---------+------+-------------+---------+-------+------------+---+----+-----------+----------+------------+\n",
      "|    11|           23|  NULL| paid|Submit Downgrade|      487|   307|1539239742000|        1|      0|           0|  0|   1|         16|2018-07-25|          29|\n",
      "|    54|           41|  NULL| paid|Submit Downgrade|      859|   307|1539608060000|        1|      0|           0|  0|   1|         37|2018-07-25|          34|\n",
      "|   100|          203|  NULL| paid|Submit Downgrade|     1590|   307|1541367880000|        1|      0|           0|  1|   1|         35|2018-09-26|         156|\n",
      "|100008|          565|  NULL| paid|Submit Downgrade|      132|   307|1542748901000|        1|      0|           0|  0|   1|          6|2018-09-20|         297|\n",
      "|100025|          224|  NULL| paid|Submit Downgrade|      123|   307|1539968728000|        1|      0|           0|  0|   1|          7|2018-07-26|         198|\n",
      "+------+-------------+------+-----+----------------+---------+------+-------------+---------+-------+------------+---+----+-----------+----------+------------+\n",
      "only showing top 5 rows\n",
      "\n"
     ]
    }
   ],
   "source": [
    "data.filter(data['downgrade']==1).show(5)"
   ]
  },
  {
   "cell_type": "code",
   "execution_count": 78,
   "metadata": {},
   "outputs": [
    {
     "name": "stdout",
     "output_type": "stream",
     "text": [
      "+------+-------------+------+-----+---------+---------+------+-------------+---------+-------+------------+---+----+-----------+----------+------------+\n",
      "|userId|itemInSession|length|level|     page|sessionId|status|           ts|downgrade|upgrade|posDowngrade|sex|paid|numSessions|   regDate|avgInSession|\n",
      "+------+-------------+------+-----+---------+---------+------+-------------+---------+-------+------------+---+----+-----------+----------+------------+\n",
      "|100014|           90|  NULL| paid|Downgrade|       98|   200|1539724886000|        0|      0|           1|  1|   1|          6|2018-08-27|          48|\n",
      "|100014|           24|  NULL| paid|Downgrade|      185|   200|1542730888000|        0|      0|           1|  1|   1|          6|2018-08-27|          37|\n",
      "|100014|           71|  NULL| paid|Downgrade|      185|   200|1542740641000|        0|      0|           1|  1|   1|          6|2018-08-27|          37|\n",
      "|   101|          194|  NULL| paid|Downgrade|      312|   200|1538541301000|        0|      0|           1|  1|   1|         10|2018-08-24|         150|\n",
      "|   101|          226|  NULL| paid|Downgrade|      312|   200|1538548628000|        0|      0|           1|  1|   1|         10|2018-08-24|         150|\n",
      "|   101|           74|  NULL| paid|Downgrade|      387|   200|1538699812000|        0|      0|           1|  1|   1|         10|2018-08-24|          79|\n",
      "|   101|           92|  NULL| paid|Downgrade|      387|   200|1538704232000|        0|      0|           1|  1|   1|         10|2018-08-24|          79|\n",
      "|   101|           27|  NULL| paid|Downgrade|      496|   200|1538963597000|        0|      0|           1|  1|   1|         10|2018-08-24|         220|\n",
      "|   101|          165|  NULL| paid|Downgrade|      635|   200|1539102907000|        0|      0|           1|  1|   1|         10|2018-08-24|         451|\n",
      "|   101|          235|  NULL| paid|Downgrade|      635|   200|1539118744000|        0|      0|           1|  1|   1|         10|2018-08-24|         451|\n",
      "+------+-------------+------+-----+---------+---------+------+-------------+---------+-------+------------+---+----+-----------+----------+------------+\n",
      "only showing top 10 rows\n",
      "\n"
     ]
    }
   ],
   "source": [
    "data.filter(data['page']==\"Downgrade\").show(10)"
   ]
  },
  {
   "cell_type": "code",
   "execution_count": 79,
   "metadata": {},
   "outputs": [],
   "source": [
    "#create a feature to see different start times of each sessions- will further look at time lapsed between different start times\n",
    "feature_group = ['userId','sessionId']\n",
    "data_min=data.groupBy(feature_group).agg(F.min('ts').alias(\"sessionStart\"))\n",
    "data=data.join(data_min, feature_group)"
   ]
  },
  {
   "cell_type": "code",
   "execution_count": 80,
   "metadata": {},
   "outputs": [
    {
     "name": "stdout",
     "output_type": "stream",
     "text": [
      "+------+---------+-------------+------+-----+----------+------+-------------+---------+-------+------------+---+----+-----------+----------+------------+-------------+\n",
      "|userId|sessionId|itemInSession|length|level|      page|status|           ts|downgrade|upgrade|posDowngrade|sex|paid|numSessions|   regDate|avgInSession| sessionStart|\n",
      "+------+---------+-------------+------+-----+----------+------+-------------+---------+-------+------------+---+----+-----------+----------+------------+-------------+\n",
      "|   101|      635|            2|  NULL| paid|      Home|   200|1539065365000|        0|      0|           0|  1|   1|         10|2018-08-24|         451|1539065365000|\n",
      "|   101|      635|            3|  NULL| paid|Add Friend|   307|1539065366000|        0|      0|           0|  1|   1|         10|2018-08-24|         451|1539065365000|\n",
      "|   101|      635|            4|  NULL| paid|    Logout|   307|1539065367000|        0|      0|           0|  1|   1|         10|2018-08-24|         451|1539065365000|\n",
      "+------+---------+-------------+------+-----+----------+------+-------------+---------+-------+------------+---+----+-----------+----------+------------+-------------+\n",
      "only showing top 3 rows\n",
      "\n"
     ]
    }
   ],
   "source": [
    "data.show(3)"
   ]
  },
  {
   "cell_type": "code",
   "execution_count": 81,
   "metadata": {},
   "outputs": [
    {
     "name": "stdout",
     "output_type": "stream",
     "text": [
      "+------+---------+-------------+---------+-----+----------+------+-------------+---------+-------+------------+---+----+-----------+----------+------------+-------------+-------------------+\n",
      "|userId|sessionId|itemInSession|   length|level|      page|status|           ts|downgrade|upgrade|posDowngrade|sex|paid|numSessions|   regDate|avgInSession| sessionStart|          sessionSt|\n",
      "+------+---------+-------------+---------+-----+----------+------+-------------+---------+-------+------------+---+----+-----------+----------+------------+-------------+-------------------+\n",
      "|   101|      635|            2|     NULL| paid|      Home|   200|1539065365000|        0|      0|           0|  1|   1|         10|2018-08-24|         451|1539065365000|2018-10-09 08:09:25|\n",
      "|   101|      635|            3|     NULL| paid|Add Friend|   307|1539065366000|        0|      0|           0|  1|   1|         10|2018-08-24|         451|1539065365000|2018-10-09 08:09:25|\n",
      "|   101|      635|            4|     NULL| paid|    Logout|   307|1539065367000|        0|      0|           0|  1|   1|         10|2018-08-24|         451|1539065365000|2018-10-09 08:09:25|\n",
      "|   101|      635|            8|     NULL| paid|      Home|   200|1539065797000|        0|      0|           0|  1|   1|         10|2018-08-24|         451|1539065365000|2018-10-09 08:09:25|\n",
      "|   101|      635|            9|180.40118| paid|  NextSong|   200|1539065912000|        0|      0|           0|  1|   1|         10|2018-08-24|         451|1539065365000|2018-10-09 08:09:25|\n",
      "|   101|      635|           10|228.28363| paid|  NextSong|   200|1539066092000|        0|      0|           0|  1|   1|         10|2018-08-24|         451|1539065365000|2018-10-09 08:09:25|\n",
      "|   101|      635|           11|209.29261| paid|  NextSong|   200|1539066320000|        0|      0|           0|  1|   1|         10|2018-08-24|         451|1539065365000|2018-10-09 08:09:25|\n",
      "|   101|      635|           12|226.19383| paid|  NextSong|   200|1539066529000|        0|      0|           0|  1|   1|         10|2018-08-24|         451|1539065365000|2018-10-09 08:09:25|\n",
      "+------+---------+-------------+---------+-----+----------+------+-------------+---------+-------+------------+---+----+-----------+----------+------------+-------------+-------------------+\n",
      "only showing top 8 rows\n",
      "\n"
     ]
    }
   ],
   "source": [
    "data=data.withColumn('sessionSt',F.from_unixtime((F.col('sessionStart')/1000),\"yyyy-MM-dd HH:mm:ss\"))\n",
    "data.show(8)"
   ]
  },
  {
   "cell_type": "code",
   "execution_count": 82,
   "metadata": {},
   "outputs": [],
   "source": [
    "#difference in days passed from previous session Start\n",
    "w = Window.partitionBy('userId').orderBy('sessionSt')\n",
    "data = data.withColumn(\"tPassed\", F.datediff(data.sessionSt, \n",
    "                                  F.lag(data.sessionSt, 1).over(w)))\n",
    "\n",
    "#fill null on tPassed Column with 0 for calculations later\n",
    "data=data.na.fill(value=0,subset=[\"tPassed\"])"
   ]
  },
  {
   "cell_type": "code",
   "execution_count": 83,
   "metadata": {},
   "outputs": [
    {
     "name": "stdout",
     "output_type": "stream",
     "text": [
      "+------+---------+-------------+---------+-----+-----------+------+-------------+---------+-------+------------+---+----+-----------+----------+------------+-------------+-------------------+-------+\n",
      "|userId|sessionId|itemInSession|   length|level|       page|status|           ts|downgrade|upgrade|posDowngrade|sex|paid|numSessions|   regDate|avgInSession| sessionStart|          sessionSt|tPassed|\n",
      "+------+---------+-------------+---------+-----+-----------+------+-------------+---------+-------+------------+---+----+-----------+----------+------------+-------------+-------------------+-------+\n",
      "|100010|       31|            0|202.97098| free|   NextSong|   200|1539003534000|        0|      0|           0|  0|   0|          7|2018-09-27|          20|1539003534000|2018-10-08 14:58:54|      0|\n",
      "|100010|       31|            1|196.54485| free|   NextSong|   200|1539003736000|        0|      0|           0|  0|   0|          7|2018-09-27|          20|1539003534000|2018-10-08 14:58:54|      0|\n",
      "|100010|       31|            2|263.13098| free|   NextSong|   200|1539003932000|        0|      0|           0|  0|   0|          7|2018-09-27|          20|1539003534000|2018-10-08 14:58:54|      0|\n",
      "|100010|       31|            3|     NULL| free|  Thumbs Up|   307|1539003933000|        0|      0|           0|  0|   0|          7|2018-09-27|          20|1539003534000|2018-10-08 14:58:54|      0|\n",
      "|100010|       31|            4|316.23791| free|   NextSong|   200|1539004195000|        0|      0|           0|  0|   0|          7|2018-09-27|          20|1539003534000|2018-10-08 14:58:54|      0|\n",
      "|100010|       31|            5|183.74485| free|   NextSong|   200|1539004511000|        0|      0|           0|  0|   0|          7|2018-09-27|          20|1539003534000|2018-10-08 14:58:54|      0|\n",
      "|100010|       31|            6|224.67873| free|   NextSong|   200|1539004694000|        0|      0|           0|  0|   0|          7|2018-09-27|          20|1539003534000|2018-10-08 14:58:54|      0|\n",
      "|100010|       31|            7| 239.3073| free|   NextSong|   200|1539004918000|        0|      0|           0|  0|   0|          7|2018-09-27|          20|1539003534000|2018-10-08 14:58:54|      0|\n",
      "|100010|       31|            8|     NULL| free|Roll Advert|   200|1539004961000|        0|      0|           0|  0|   0|          7|2018-09-27|          20|1539003534000|2018-10-08 14:58:54|      0|\n",
      "|100010|       31|            9|142.41914| free|   NextSong|   200|1539005157000|        0|      0|           0|  0|   0|          7|2018-09-27|          20|1539003534000|2018-10-08 14:58:54|      0|\n",
      "+------+---------+-------------+---------+-----+-----------+------+-------------+---------+-------+------------+---+----+-----------+----------+------------+-------------+-------------------+-------+\n",
      "only showing top 10 rows\n",
      "\n"
     ]
    }
   ],
   "source": [
    "data.show(10)"
   ]
  },
  {
   "cell_type": "code",
   "execution_count": 84,
   "metadata": {},
   "outputs": [
    {
     "name": "stdout",
     "output_type": "stream",
     "text": [
      "+------+---------+-------------+---------+-----+--------+------+-------------+---------+-------+------------+---+----+-----------+----------+------------+-------------+-------------------+-------+\n",
      "|userId|sessionId|itemInSession|   length|level|    page|status|           ts|downgrade|upgrade|posDowngrade|sex|paid|numSessions|   regDate|avgInSession| sessionStart|          sessionSt|tPassed|\n",
      "+------+---------+-------------+---------+-----+--------+------+-------------+---------+-------+------------+---+----+-----------+----------+------------+-------------+-------------------+-------+\n",
      "|100010|       31|            0|202.97098| free|NextSong|   200|1539003534000|        0|      0|           0|  0|   0|          7|2018-09-27|          20|1539003534000|2018-10-08 14:58:54|      0|\n",
      "|100010|       78|            0|206.47138| free|NextSong|   200|1539603322000|        0|      0|           0|  0|   0|          7|2018-09-27|           4|1539603322000|2018-10-15 13:35:22|      7|\n",
      "|100010|      113|            1|     NULL| free|    Home|   200|1539699018000|        0|      0|           0|  0|   0|          7|2018-09-27|          30|1539699018000|2018-10-16 16:10:18|      1|\n",
      "|100010|      118|            0|     NULL| free|    Home|   200|1540045112000|        0|      0|           0|  0|   0|          7|2018-09-27|          30|1540045112000|2018-10-20 16:18:32|      4|\n",
      "|100010|      133|            0|497.13587| free|NextSong|   200|1541411290000|        0|      0|           0|  0|   0|          7|2018-09-27|          37|1541411290000|2018-11-05 11:48:10|     16|\n",
      "+------+---------+-------------+---------+-----+--------+------+-------------+---------+-------+------------+---+----+-----------+----------+------------+-------------+-------------------+-------+\n",
      "only showing top 5 rows\n",
      "\n"
     ]
    }
   ],
   "source": [
    "data.dropDuplicates(['userId','sessionId']).show(5)"
   ]
  },
  {
   "cell_type": "code",
   "execution_count": 85,
   "metadata": {},
   "outputs": [
    {
     "name": "stdout",
     "output_type": "stream",
     "text": [
      "+------+---------+-------------+---------+-----+-----------+------+-------------+---------+-------+------------+---+----+-----------+----------+------------+-------------+-------------------+-------+\n",
      "|userId|sessionId|itemInSession|   length|level|       page|status|           ts|downgrade|upgrade|posDowngrade|sex|paid|numSessions|   regDate|avgInSession| sessionStart|          sessionSt|tPassed|\n",
      "+------+---------+-------------+---------+-----+-----------+------+-------------+---------+-------+------------+---+----+-----------+----------+------------+-------------+-------------------+-------+\n",
      "|100010|       31|            0|202.97098| free|   NextSong|   200|1539003534000|        0|      0|           0|  0|   0|          7|2018-09-27|          20|1539003534000|2018-10-08 14:58:54|      0|\n",
      "|100010|       31|            1|196.54485| free|   NextSong|   200|1539003736000|        0|      0|           0|  0|   0|          7|2018-09-27|          20|1539003534000|2018-10-08 14:58:54|      0|\n",
      "|100010|       31|            2|263.13098| free|   NextSong|   200|1539003932000|        0|      0|           0|  0|   0|          7|2018-09-27|          20|1539003534000|2018-10-08 14:58:54|      0|\n",
      "|100010|       31|            3|     NULL| free|  Thumbs Up|   307|1539003933000|        0|      0|           0|  0|   0|          7|2018-09-27|          20|1539003534000|2018-10-08 14:58:54|      0|\n",
      "|100010|       31|            4|316.23791| free|   NextSong|   200|1539004195000|        0|      0|           0|  0|   0|          7|2018-09-27|          20|1539003534000|2018-10-08 14:58:54|      0|\n",
      "|100010|       31|            5|183.74485| free|   NextSong|   200|1539004511000|        0|      0|           0|  0|   0|          7|2018-09-27|          20|1539003534000|2018-10-08 14:58:54|      0|\n",
      "|100010|       31|            6|224.67873| free|   NextSong|   200|1539004694000|        0|      0|           0|  0|   0|          7|2018-09-27|          20|1539003534000|2018-10-08 14:58:54|      0|\n",
      "|100010|       31|            7| 239.3073| free|   NextSong|   200|1539004918000|        0|      0|           0|  0|   0|          7|2018-09-27|          20|1539003534000|2018-10-08 14:58:54|      0|\n",
      "|100010|       31|            8|     NULL| free|Roll Advert|   200|1539004961000|        0|      0|           0|  0|   0|          7|2018-09-27|          20|1539003534000|2018-10-08 14:58:54|      0|\n",
      "|100010|       31|            9|142.41914| free|   NextSong|   200|1539005157000|        0|      0|           0|  0|   0|          7|2018-09-27|          20|1539003534000|2018-10-08 14:58:54|      0|\n",
      "+------+---------+-------------+---------+-----+-----------+------+-------------+---------+-------+------------+---+----+-----------+----------+------------+-------------+-------------------+-------+\n",
      "only showing top 10 rows\n",
      "\n"
     ]
    }
   ],
   "source": [
    "data.show(10)"
   ]
  },
  {
   "cell_type": "code",
   "execution_count": 86,
   "metadata": {},
   "outputs": [
    {
     "name": "stdout",
     "output_type": "stream",
     "text": [
      "+------+---------+-------------+---------+-----+--------+------+-------------+---------+-------+------------+---+----+-----------+----------+------------+-------------+-------------------+-------+\n",
      "|userId|sessionId|itemInSession|   length|level|    page|status|           ts|downgrade|upgrade|posDowngrade|sex|paid|numSessions|   regDate|avgInSession| sessionStart|          sessionSt|tPassed|\n",
      "+------+---------+-------------+---------+-----+--------+------+-------------+---------+-------+------------+---+----+-----------+----------+------------+-------------+-------------------+-------+\n",
      "|100010|       31|            0|202.97098| free|NextSong|   200|1539003534000|        0|      0|           0|  0|   0|          7|2018-09-27|          20|1539003534000|2018-10-08 14:58:54|      0|\n",
      "|100010|       78|            0|206.47138| free|NextSong|   200|1539603322000|        0|      0|           0|  0|   0|          7|2018-09-27|           4|1539603322000|2018-10-15 13:35:22|      7|\n",
      "|100010|      113|            1|     NULL| free|    Home|   200|1539699018000|        0|      0|           0|  0|   0|          7|2018-09-27|          30|1539699018000|2018-10-16 16:10:18|      1|\n",
      "|100010|      118|            0|     NULL| free|    Home|   200|1540045112000|        0|      0|           0|  0|   0|          7|2018-09-27|          30|1540045112000|2018-10-20 16:18:32|      4|\n",
      "|100010|      133|            0|497.13587| free|NextSong|   200|1541411290000|        0|      0|           0|  0|   0|          7|2018-09-27|          37|1541411290000|2018-11-05 11:48:10|     16|\n",
      "|100010|      174|            0|299.72853| free|NextSong|   200|1541731560000|        0|      0|           0|  0|   0|          7|2018-09-27|          56|1541731560000|2018-11-09 04:46:00|      4|\n",
      "|100010|      187|            2|     NULL| free|    Home|   200|1542818132000|        0|      0|           0|  0|   0|          7|2018-09-27|          18|1542818132000|2018-11-21 18:35:32|     12|\n",
      "|100014|       37|            0|215.19628| paid|NextSong|   200|1539177136000|        0|      0|           0|  1|   1|          6|2018-08-27|          28|1539177136000|2018-10-10 15:12:16|      0|\n",
      "|100014|       93|            0|214.96118| paid|NextSong|   200|1539321197000|        0|      0|           0|  1|   1|          6|2018-08-27|          15|1539321197000|2018-10-12 07:13:17|      2|\n",
      "+------+---------+-------------+---------+-----+--------+------+-------------+---------+-------+------------+---+----+-----------+----------+------------+-------------+-------------------+-------+\n",
      "only showing top 9 rows\n",
      "\n"
     ]
    }
   ],
   "source": [
    "data.dropDuplicates(['userId','sessionId']).show(9)"
   ]
  },
  {
   "cell_type": "code",
   "execution_count": 87,
   "metadata": {},
   "outputs": [
    {
     "name": "stdout",
     "output_type": "stream",
     "text": [
      "+------+---------+-------------+---------+-----+---------+------+-------------+---------+-------+------------+---+----+-----------+----------+------------+-------------+-------------------+-------+------+\n",
      "|userId|sessionId|itemInSession|   length|level|     page|status|           ts|downgrade|upgrade|posDowngrade|sex|paid|numSessions|   regDate|avgInSession| sessionStart|          sessionSt|tPassed|daysOn|\n",
      "+------+---------+-------------+---------+-----+---------+------+-------------+---------+-------+------------+---+----+-----------+----------+------------+-------------+-------------------+-------+------+\n",
      "|100010|       31|            0|202.97098| free| NextSong|   200|1539003534000|        0|      0|           0|  0|   0|          7|2018-09-27|          20|1539003534000|2018-10-08 14:58:54|      0|    44|\n",
      "|100010|       31|            1|196.54485| free| NextSong|   200|1539003736000|        0|      0|           0|  0|   0|          7|2018-09-27|          20|1539003534000|2018-10-08 14:58:54|      0|    44|\n",
      "|100010|       31|            2|263.13098| free| NextSong|   200|1539003932000|        0|      0|           0|  0|   0|          7|2018-09-27|          20|1539003534000|2018-10-08 14:58:54|      0|    44|\n",
      "|100010|       31|            3|     NULL| free|Thumbs Up|   307|1539003933000|        0|      0|           0|  0|   0|          7|2018-09-27|          20|1539003534000|2018-10-08 14:58:54|      0|    44|\n",
      "|100010|       31|            4|316.23791| free| NextSong|   200|1539004195000|        0|      0|           0|  0|   0|          7|2018-09-27|          20|1539003534000|2018-10-08 14:58:54|      0|    44|\n",
      "+------+---------+-------------+---------+-----+---------+------+-------------+---------+-------+------------+---+----+-----------+----------+------------+-------------+-------------------+-------+------+\n",
      "only showing top 5 rows\n",
      "\n"
     ]
    }
   ],
   "source": [
    "#total of time on app called sum of days active\n",
    "userId_group = ['userId']\n",
    "days_act=data.groupBy(['userId']).agg(F.sum('tPassed').alias(\"daysOn\"))\n",
    "data=data.join(days_act, userId_group)\n",
    "data.show(5)"
   ]
  },
  {
   "cell_type": "code",
   "execution_count": 88,
   "metadata": {},
   "outputs": [
    {
     "name": "stdout",
     "output_type": "stream",
     "text": [
      "+------+---------+-------------+---------+-----+---------+------+-------------+---------+-------+------------+---+----+-----------+----------+------------+-------------+-------------------+-------+------+-------+\n",
      "|userId|sessionId|itemInSession|   length|level|     page|status|           ts|downgrade|upgrade|posDowngrade|sex|paid|numSessions|   regDate|avgInSession| sessionStart|          sessionSt|tPassed|daysOn|aveWait|\n",
      "+------+---------+-------------+---------+-----+---------+------+-------------+---------+-------+------------+---+----+-----------+----------+------------+-------------+-------------------+-------+------+-------+\n",
      "|100010|       31|            0|202.97098| free| NextSong|   200|1539003534000|        0|      0|           0|  0|   0|          7|2018-09-27|          20|1539003534000|2018-10-08 14:58:54|      0|    44|      7|\n",
      "|100010|       31|            1|196.54485| free| NextSong|   200|1539003736000|        0|      0|           0|  0|   0|          7|2018-09-27|          20|1539003534000|2018-10-08 14:58:54|      0|    44|      7|\n",
      "|100010|       31|            2|263.13098| free| NextSong|   200|1539003932000|        0|      0|           0|  0|   0|          7|2018-09-27|          20|1539003534000|2018-10-08 14:58:54|      0|    44|      7|\n",
      "|100010|       31|            3|     NULL| free|Thumbs Up|   307|1539003933000|        0|      0|           0|  0|   0|          7|2018-09-27|          20|1539003534000|2018-10-08 14:58:54|      0|    44|      7|\n",
      "|100010|       31|            4|316.23791| free| NextSong|   200|1539004195000|        0|      0|           0|  0|   0|          7|2018-09-27|          20|1539003534000|2018-10-08 14:58:54|      0|    44|      7|\n",
      "+------+---------+-------------+---------+-----+---------+------+-------------+---------+-------+------------+---+----+-----------+----------+------------+-------------+-------------------+-------+------+-------+\n",
      "only showing top 5 rows\n",
      "\n"
     ]
    }
   ],
   "source": [
    "#ave wait time before next session \n",
    "data = data.withColumn(\"aveWait\", ceil(F.col(\"daysOn\") / F.col(\"numSessions\")))\n",
    "data.show(5)"
   ]
  },
  {
   "cell_type": "code",
   "execution_count": 89,
   "metadata": {},
   "outputs": [
    {
     "name": "stdout",
     "output_type": "stream",
     "text": [
      "+------+---------+------+\n",
      "|userId|sessionId|daysOn|\n",
      "+------+---------+------+\n",
      "|    10|        9|     0|\n",
      "|    10|      595|    10|\n",
      "|    10|     1047|    12|\n",
      "|    10|     1414|     4|\n",
      "|    10|     1592|    12|\n",
      "|    10|     1981|     4|\n",
      "+------+---------+------+\n",
      "only showing top 6 rows\n",
      "\n"
     ]
    }
   ],
   "source": [
    "data.groupBy(['userId','sessionId']).agg(F.sum('tPassed').alias(\"daysOn\")).show(6)"
   ]
  },
  {
   "cell_type": "code",
   "execution_count": 90,
   "metadata": {},
   "outputs": [
    {
     "name": "stdout",
     "output_type": "stream",
     "text": [
      "+------+------------+\n",
      "|userId|sum(tPassed)|\n",
      "+------+------------+\n",
      "|    10|          42|\n",
      "|   100|          59|\n",
      "|100001|           1|\n",
      "|100002|          55|\n",
      "|100003|           2|\n",
      "|100004|          56|\n",
      "+------+------------+\n",
      "only showing top 6 rows\n",
      "\n"
     ]
    }
   ],
   "source": [
    "data.groupBy(['userId']).agg(F.sum('tPassed')).show(6)"
   ]
  },
  {
   "cell_type": "code",
   "execution_count": null,
   "metadata": {},
   "outputs": [],
   "source": []
  },
  {
   "cell_type": "code",
   "execution_count": 91,
   "metadata": {},
   "outputs": [
    {
     "name": "stdout",
     "output_type": "stream",
     "text": [
      "+------+---------+-------------+---------+-----+--------+------+-------------+---------+-------+------------+---+----+-----------+----------+------------+-------------+-------------------+-------+------+-------+\n",
      "|userId|sessionId|itemInSession|   length|level|    page|status|           ts|downgrade|upgrade|posDowngrade|sex|paid|numSessions|   regDate|avgInSession| sessionStart|          sessionSt|tPassed|daysOn|aveWait|\n",
      "+------+---------+-------------+---------+-----+--------+------+-------------+---------+-------+------------+---+----+-----------+----------+------------+-------------+-------------------+-------+------+-------+\n",
      "|    10|        9|            0|265.53424| paid|NextSong|   200|1538965220000|        0|      0|           0|  1|   1|          6|2018-09-28|          36|1538965220000|2018-10-08 04:20:20|      0|    42|      7|\n",
      "|    10|        9|            1| 200.4371| paid|NextSong|   200|1538965485000|        0|      0|           0|  1|   1|          6|2018-09-28|          36|1538965220000|2018-10-08 04:20:20|      0|    42|      7|\n",
      "|    10|        9|            2|208.03873| paid|NextSong|   200|1538965685000|        0|      0|           0|  1|   1|          6|2018-09-28|          36|1538965220000|2018-10-08 04:20:20|      0|    42|      7|\n",
      "|    10|        9|            3|526.44526| paid|NextSong|   200|1538965893000|        0|      0|           0|  1|   1|          6|2018-09-28|          36|1538965220000|2018-10-08 04:20:20|      0|    42|      7|\n",
      "|    10|        9|            4|272.06485| paid|NextSong|   200|1538966419000|        0|      0|           0|  1|   1|          6|2018-09-28|          36|1538965220000|2018-10-08 04:20:20|      0|    42|      7|\n",
      "+------+---------+-------------+---------+-----+--------+------+-------------+---------+-------+------------+---+----+-----------+----------+------------+-------------+-------------------+-------+------+-------+\n",
      "only showing top 5 rows\n",
      "\n"
     ]
    }
   ],
   "source": [
    "data.filter(data['userId']==10).sort('ts').show(5)"
   ]
  },
  {
   "cell_type": "code",
   "execution_count": 92,
   "metadata": {},
   "outputs": [
    {
     "name": "stdout",
     "output_type": "stream",
     "text": [
      "+------+---------+-------------+---------+-----+--------------------+------+-------------+---------+-------+------------+---+----+-----------+----------+------------+-------------+-------------------+-------+------+-------+\n",
      "|userId|sessionId|itemInSession|   length|level|                page|status|           ts|downgrade|upgrade|posDowngrade|sex|paid|numSessions|   regDate|avgInSession| sessionStart|          sessionSt|tPassed|daysOn|aveWait|\n",
      "+------+---------+-------------+---------+-----+--------------------+------+-------------+---------+-------+------------+---+----+-----------+----------+------------+-------------+-------------------+-------+------+-------+\n",
      "|    12|       11|           25|244.55791| free|            NextSong|   200|1538542024000|        0|      0|           0|  0|   0|          9|2018-08-10|          13|1538533887000|2018-10-03 04:31:27|      0|    19|      3|\n",
      "|    12|      379|          241|   33.802| paid|            NextSong|   200|1539051796000|        0|      0|           0|  0|   1|          9|2018-08-10|         121|1538997108000|2018-10-08 13:11:48|      5|    19|      3|\n",
      "|    12|      632|          138|201.01179| free|            NextSong|   200|1539166402000|        0|      0|           0|  0|   0|          9|2018-08-10|          70|1539134642000|2018-10-10 03:24:02|      2|    19|      3|\n",
      "|    12|      686|          155|     NULL| free|              Logout|   307|1539237907000|        0|      0|           0|  0|   0|          9|2018-08-10|          79|1539204558000|2018-10-10 22:49:18|      0|    19|      3|\n",
      "|    12|      732|           47|210.99057| free|            NextSong|   200|1539385736000|        0|      0|           0|  0|   0|          9|2018-08-10|          24|1539372950000|2018-10-12 21:35:50|      2|    19|      3|\n",
      "|    12|      809|           10|215.30077| free|            NextSong|   200|1539662163000|        0|      0|           0|  0|   0|          9|2018-08-10|           5|1539660297000|2018-10-16 05:24:57|      4|    19|      3|\n",
      "|    12|      910|          375|     NULL| paid|               About|   200|1539802620000|        0|      0|           0|  0|   1|          9|2018-08-10|         185|1539717392000|2018-10-16 21:16:32|      0|    19|      3|\n",
      "|    12|      986|           24|     NULL| paid|              Logout|   307|1539971615000|        0|      0|           0|  0|   1|          9|2018-08-10|          12|1539966818000|2018-10-19 18:33:38|      3|    19|      3|\n",
      "|    12|     1072|           72|     NULL| paid|Cancellation Conf...|   200|1540193374000|        0|      0|           0|  0|   1|          9|2018-08-10|          39|1540178912000|2018-10-22 05:28:32|      3|    19|      3|\n",
      "+------+---------+-------------+---------+-----+--------------------+------+-------------+---------+-------+------------+---+----+-----------+----------+------------+-------------+-------------------+-------+------+-------+\n",
      "\n"
     ]
    }
   ],
   "source": [
    "data.filter(data['userId']==12).dropDuplicates(['userId','sessionId']).show()"
   ]
  },
  {
   "cell_type": "code",
   "execution_count": 93,
   "metadata": {},
   "outputs": [
    {
     "name": "stdout",
     "output_type": "stream",
     "text": [
      "+------+---------+-------------+---------+-----+-----------+------+---------+-------+------------+---+----+-----------+------------+-------+------+-------+\n",
      "|userId|sessionId|itemInSession|   length|level|       page|status|downgrade|upgrade|posDowngrade|sex|paid|numSessions|avgInSession|tPassed|daysOn|aveWait|\n",
      "+------+---------+-------------+---------+-----+-----------+------+---------+-------+------------+---+----+-----------+------------+-------+------+-------+\n",
      "|100010|       31|            0|202.97098| free|   NextSong|   200|        0|      0|           0|  0|   0|          7|          20|      0|    44|      7|\n",
      "|100010|       31|            1|196.54485| free|   NextSong|   200|        0|      0|           0|  0|   0|          7|          20|      0|    44|      7|\n",
      "|100010|       31|            2|263.13098| free|   NextSong|   200|        0|      0|           0|  0|   0|          7|          20|      0|    44|      7|\n",
      "|100010|       31|            3|     NULL| free|  Thumbs Up|   307|        0|      0|           0|  0|   0|          7|          20|      0|    44|      7|\n",
      "|100010|       31|            4|316.23791| free|   NextSong|   200|        0|      0|           0|  0|   0|          7|          20|      0|    44|      7|\n",
      "|100010|       31|            5|183.74485| free|   NextSong|   200|        0|      0|           0|  0|   0|          7|          20|      0|    44|      7|\n",
      "|100010|       31|            6|224.67873| free|   NextSong|   200|        0|      0|           0|  0|   0|          7|          20|      0|    44|      7|\n",
      "|100010|       31|            7| 239.3073| free|   NextSong|   200|        0|      0|           0|  0|   0|          7|          20|      0|    44|      7|\n",
      "|100010|       31|            8|     NULL| free|Roll Advert|   200|        0|      0|           0|  0|   0|          7|          20|      0|    44|      7|\n",
      "|100010|       31|            9|142.41914| free|   NextSong|   200|        0|      0|           0|  0|   0|          7|          20|      0|    44|      7|\n",
      "+------+---------+-------------+---------+-----+-----------+------+---------+-------+------------+---+----+-----------+------------+-------+------+-------+\n",
      "only showing top 10 rows\n",
      "\n"
     ]
    }
   ],
   "source": [
    "drop = ['sessionStart', 'sessionSt','regDate','ts']\n",
    "\n",
    "data=data.drop(*drop)\n",
    "data.show(10)"
   ]
  },
  {
   "cell_type": "code",
   "execution_count": 94,
   "metadata": {},
   "outputs": [],
   "source": [
    "#create a feature to look at the number of sessions a user has completed\n",
    "group = ['userId']\n",
    "data_gender=data.groupBy(group).agg(F.max('downgrade').alias(\"churn\"))\n",
    "\n",
    "data = data.join(data_gender, group)\n"
   ]
  },
  {
   "cell_type": "code",
   "execution_count": 95,
   "metadata": {},
   "outputs": [
    {
     "name": "stdout",
     "output_type": "stream",
     "text": [
      "+------+---------+-------------+---------+-----+-----------+------+---------+-------+------------+---+----+-----------+------------+-------+------+-------+-----+\n",
      "|userId|sessionId|itemInSession|   length|level|       page|status|downgrade|upgrade|posDowngrade|sex|paid|numSessions|avgInSession|tPassed|daysOn|aveWait|churn|\n",
      "+------+---------+-------------+---------+-----+-----------+------+---------+-------+------------+---+----+-----------+------------+-------+------+-------+-----+\n",
      "|100010|       31|            0|202.97098| free|   NextSong|   200|        0|      0|           0|  0|   0|          7|          20|      0|    44|      7|    0|\n",
      "|100010|       31|            1|196.54485| free|   NextSong|   200|        0|      0|           0|  0|   0|          7|          20|      0|    44|      7|    0|\n",
      "|100010|       31|            2|263.13098| free|   NextSong|   200|        0|      0|           0|  0|   0|          7|          20|      0|    44|      7|    0|\n",
      "|100010|       31|            3|     NULL| free|  Thumbs Up|   307|        0|      0|           0|  0|   0|          7|          20|      0|    44|      7|    0|\n",
      "|100010|       31|            4|316.23791| free|   NextSong|   200|        0|      0|           0|  0|   0|          7|          20|      0|    44|      7|    0|\n",
      "|100010|       31|            5|183.74485| free|   NextSong|   200|        0|      0|           0|  0|   0|          7|          20|      0|    44|      7|    0|\n",
      "|100010|       31|            6|224.67873| free|   NextSong|   200|        0|      0|           0|  0|   0|          7|          20|      0|    44|      7|    0|\n",
      "|100010|       31|            7| 239.3073| free|   NextSong|   200|        0|      0|           0|  0|   0|          7|          20|      0|    44|      7|    0|\n",
      "|100010|       31|            8|     NULL| free|Roll Advert|   200|        0|      0|           0|  0|   0|          7|          20|      0|    44|      7|    0|\n",
      "|100010|       31|            9|142.41914| free|   NextSong|   200|        0|      0|           0|  0|   0|          7|          20|      0|    44|      7|    0|\n",
      "+------+---------+-------------+---------+-----+-----------+------+---------+-------+------------+---+----+-----------+------------+-------+------+-------+-----+\n",
      "only showing top 10 rows\n",
      "\n"
     ]
    }
   ],
   "source": [
    "data.show(10)"
   ]
  },
  {
   "cell_type": "markdown",
   "metadata": {},
   "source": [
    "# Exploratory Data Analysis\n",
    "When you're working with the full dataset, perform EDA by loading a small subset of the data and doing basic manipulations within Spark. In this workspace, you are already provided a small subset of data you can explore.\n",
    "\n",
    "### Define Churn\n",
    "\n",
    "Once you've done some preliminary analysis, create a column `Churn` to use as the label for your model. I suggest using the `Cancellation Confirmation` events to define your churn, which happen for both paid and free users. As a bonus task, you can also look into the `Downgrade` events.\n",
    "\n",
    "### Explore Data\n",
    "Once you've defined churn, perform some exploratory data analysis to observe the behavior for users who stayed vs users who churned. You can start by exploring aggregates on these two groups of users, observing how much of a specific action they experienced per a certain time unit or number of songs played."
   ]
  },
  {
   "cell_type": "code",
   "execution_count": 96,
   "metadata": {},
   "outputs": [],
   "source": [
    "# convert to pandas for visualisation\n",
    "df = data.toPandas()"
   ]
  },
  {
   "cell_type": "code",
   "execution_count": 97,
   "metadata": {},
   "outputs": [
    {
     "data": {
      "text/html": [
       "<div>\n",
       "<style scoped>\n",
       "    .dataframe tbody tr th:only-of-type {\n",
       "        vertical-align: middle;\n",
       "    }\n",
       "\n",
       "    .dataframe tbody tr th {\n",
       "        vertical-align: top;\n",
       "    }\n",
       "\n",
       "    .dataframe thead th {\n",
       "        text-align: right;\n",
       "    }\n",
       "</style>\n",
       "<table border=\"1\" class=\"dataframe\">\n",
       "  <thead>\n",
       "    <tr style=\"text-align: right;\">\n",
       "      <th></th>\n",
       "      <th>userId</th>\n",
       "      <th>sessionId</th>\n",
       "      <th>itemInSession</th>\n",
       "      <th>length</th>\n",
       "      <th>level</th>\n",
       "      <th>page</th>\n",
       "      <th>status</th>\n",
       "      <th>downgrade</th>\n",
       "      <th>upgrade</th>\n",
       "      <th>posDowngrade</th>\n",
       "      <th>sex</th>\n",
       "      <th>paid</th>\n",
       "      <th>numSessions</th>\n",
       "      <th>avgInSession</th>\n",
       "      <th>tPassed</th>\n",
       "      <th>daysOn</th>\n",
       "      <th>aveWait</th>\n",
       "      <th>churn</th>\n",
       "    </tr>\n",
       "  </thead>\n",
       "  <tbody>\n",
       "    <tr>\n",
       "      <th>0</th>\n",
       "      <td>100010</td>\n",
       "      <td>31</td>\n",
       "      <td>0</td>\n",
       "      <td>202.97098</td>\n",
       "      <td>free</td>\n",
       "      <td>NextSong</td>\n",
       "      <td>200</td>\n",
       "      <td>0</td>\n",
       "      <td>0</td>\n",
       "      <td>0</td>\n",
       "      <td>0</td>\n",
       "      <td>0</td>\n",
       "      <td>7</td>\n",
       "      <td>20</td>\n",
       "      <td>0</td>\n",
       "      <td>44</td>\n",
       "      <td>7</td>\n",
       "      <td>0</td>\n",
       "    </tr>\n",
       "    <tr>\n",
       "      <th>1</th>\n",
       "      <td>100010</td>\n",
       "      <td>31</td>\n",
       "      <td>1</td>\n",
       "      <td>196.54485</td>\n",
       "      <td>free</td>\n",
       "      <td>NextSong</td>\n",
       "      <td>200</td>\n",
       "      <td>0</td>\n",
       "      <td>0</td>\n",
       "      <td>0</td>\n",
       "      <td>0</td>\n",
       "      <td>0</td>\n",
       "      <td>7</td>\n",
       "      <td>20</td>\n",
       "      <td>0</td>\n",
       "      <td>44</td>\n",
       "      <td>7</td>\n",
       "      <td>0</td>\n",
       "    </tr>\n",
       "    <tr>\n",
       "      <th>2</th>\n",
       "      <td>100010</td>\n",
       "      <td>31</td>\n",
       "      <td>2</td>\n",
       "      <td>263.13098</td>\n",
       "      <td>free</td>\n",
       "      <td>NextSong</td>\n",
       "      <td>200</td>\n",
       "      <td>0</td>\n",
       "      <td>0</td>\n",
       "      <td>0</td>\n",
       "      <td>0</td>\n",
       "      <td>0</td>\n",
       "      <td>7</td>\n",
       "      <td>20</td>\n",
       "      <td>0</td>\n",
       "      <td>44</td>\n",
       "      <td>7</td>\n",
       "      <td>0</td>\n",
       "    </tr>\n",
       "    <tr>\n",
       "      <th>3</th>\n",
       "      <td>100010</td>\n",
       "      <td>31</td>\n",
       "      <td>3</td>\n",
       "      <td>NaN</td>\n",
       "      <td>free</td>\n",
       "      <td>Thumbs Up</td>\n",
       "      <td>307</td>\n",
       "      <td>0</td>\n",
       "      <td>0</td>\n",
       "      <td>0</td>\n",
       "      <td>0</td>\n",
       "      <td>0</td>\n",
       "      <td>7</td>\n",
       "      <td>20</td>\n",
       "      <td>0</td>\n",
       "      <td>44</td>\n",
       "      <td>7</td>\n",
       "      <td>0</td>\n",
       "    </tr>\n",
       "  </tbody>\n",
       "</table>\n",
       "</div>"
      ],
      "text/plain": [
       "   userId  sessionId  itemInSession     length level       page  status  \\\n",
       "0  100010         31              0  202.97098  free   NextSong     200   \n",
       "1  100010         31              1  196.54485  free   NextSong     200   \n",
       "2  100010         31              2  263.13098  free   NextSong     200   \n",
       "3  100010         31              3        NaN  free  Thumbs Up     307   \n",
       "\n",
       "   downgrade  upgrade  posDowngrade  sex  paid  numSessions  avgInSession  \\\n",
       "0          0        0             0    0     0            7            20   \n",
       "1          0        0             0    0     0            7            20   \n",
       "2          0        0             0    0     0            7            20   \n",
       "3          0        0             0    0     0            7            20   \n",
       "\n",
       "   tPassed  daysOn  aveWait  churn  \n",
       "0        0      44        7      0  \n",
       "1        0      44        7      0  \n",
       "2        0      44        7      0  \n",
       "3        0      44        7      0  "
      ]
     },
     "execution_count": 97,
     "metadata": {},
     "output_type": "execute_result"
    }
   ],
   "source": [
    "df.head(4)"
   ]
  },
  {
   "cell_type": "code",
   "execution_count": 98,
   "metadata": {},
   "outputs": [
    {
     "data": {
      "image/png": "[encoded data removed]",
      "text/plain": [
       "<Figure size 1500x500 with 3 Axes>"
      ]
     },
     "metadata": {},
     "output_type": "display_data"
    }
   ],
   "source": [
    "#look at how purchase amount is distributed acrossSeason, Category and Promocode \n",
    "fig, axs = plt.subplots(1, 3, figsize=(15, 5))\n",
    "\n",
    "sns.set_style(\"whitegrid\")\n",
    "sns.set_palette('Set1')\n",
    "flierprops = dict(marker='o', markersize=8,\n",
    "                  linestyle='none',markerfacecolor='none')\n",
    "a=sns.boxplot(data=df,y=\"daysOn\",x='churn',flierprops=flierprops,hue=\"churn\",ax=axs[0])\n",
    "b=sns.boxplot(data=df,y=\"avgInSession\",x='churn',flierprops=flierprops,hue=\"churn\",ax=axs[1])\n",
    "c=sns.boxplot(data=df,y=\"aveWait\",x='churn',flierprops=flierprops,hue=\"churn\",ax=axs[2])\n",
    "a.set(title='Days on App');\n",
    "b.set(title='Average Items in Session');\n",
    "c.set(title='Average Wait Before Next Session');"
   ]
  },
  {
   "cell_type": "code",
   "execution_count": 99,
   "metadata": {},
   "outputs": [
    {
     "data": {
      "image/png": "[encoded data removed]",
      "text/plain": [
       "<Figure size 1200x500 with 2 Axes>"
      ]
     },
     "metadata": {},
     "output_type": "display_data"
    }
   ],
   "source": [
    "fig, axs = plt.subplots(1, 2, figsize=(12, 5))\n",
    "g=sns.histplot(data=df, x='avgInSession' ,bins=70,hue='churn',fill=False,kde=True,ax=axs[0])\n",
    "g.set(title='Ave Items in Session')\n",
    "g.set(xlim=(0, 400));\n",
    "c=sns.histplot(data=df, x='numSessions' ,bins=70,hue='churn',fill=False,kde=True,ax=axs[1])\n",
    "c.set(title='Number of Sessions')\n",
    "\n",
    "c.set(xlim=(0, 60));"
   ]
  },
  {
   "cell_type": "code",
   "execution_count": 100,
   "metadata": {},
   "outputs": [
    {
     "data": {
      "image/png": "[encoded data removed]",
      "text/plain": [
       "<Figure size 1200x400 with 2 Axes>"
      ]
     },
     "metadata": {},
     "output_type": "display_data"
    }
   ],
   "source": [
    "level=df.groupby('churn')['level'].value_counts(normalize=True).mul(100).round(0).rename(\"Percent\").reset_index()\n",
    "sex=df.groupby('churn')['sex'].value_counts(normalize=True).mul(100).round(0).rename(\"Percent\").reset_index()\n",
    "\n",
    "df.groupby('churn')['sex'].value_counts(normalize=True).mul(100).round(0).rename(\"Percent\").reset_index()\n",
    "fig, axs = plt.subplots(1, 2, figsize=(12, 4))\n",
    "g=sns.barplot(data=level,x='churn',y=\"Percent\",hue='level',ax=axs[0])\n",
    "a=sns.barplot(data=sex,x='churn',y=\"Percent\",hue='sex',ax=axs[1])\n",
    "g.set(title='Churn Rate on Subscription Level');\n",
    "a.set(title='Churn Rate on Gender');\n"
   ]
  },
  {
   "cell_type": "markdown",
   "metadata": {},
   "source": [
    "# Modeling Testing\n",
    "Split the full dataset into train, test, and validation sets. Test out several of the machine learning methods you learned. Evaluate the accuracy of the various models, tuning parameters as necessary. Determine your winning model based on test accuracy and report results on the validation set. Since the churned users are a fairly small subset, I suggest using F1 score as the metric to optimize."
   ]
  },
  {
   "cell_type": "code",
   "execution_count": 101,
   "metadata": {},
   "outputs": [
    {
     "name": "stdout",
     "output_type": "stream",
     "text": [
      "+------+---------+-------------+---------+-----------+------+---------+-------+------------+---+----+-----------+------------+-------+------+-------+-----+------------+\n",
      "|userId|sessionId|itemInSession|   length|       page|status|downgrade|upgrade|posDowngrade|sex|paid|numSessions|avgInSession|tPassed|daysOn|aveWait|churn|levelIndexed|\n",
      "+------+---------+-------------+---------+-----------+------+---------+-------+------------+---+----+-----------+------------+-------+------+-------+-----+------------+\n",
      "|100010|       31|            0|202.97098|   NextSong|   200|        0|      0|           0|  0|   0|          7|          20|      0|    44|      7|    0|         1.0|\n",
      "|100010|       31|            1|196.54485|   NextSong|   200|        0|      0|           0|  0|   0|          7|          20|      0|    44|      7|    0|         1.0|\n",
      "|100010|       31|            2|263.13098|   NextSong|   200|        0|      0|           0|  0|   0|          7|          20|      0|    44|      7|    0|         1.0|\n",
      "|100010|       31|            3|     NULL|  Thumbs Up|   307|        0|      0|           0|  0|   0|          7|          20|      0|    44|      7|    0|         1.0|\n",
      "|100010|       31|            4|316.23791|   NextSong|   200|        0|      0|           0|  0|   0|          7|          20|      0|    44|      7|    0|         1.0|\n",
      "|100010|       31|            5|183.74485|   NextSong|   200|        0|      0|           0|  0|   0|          7|          20|      0|    44|      7|    0|         1.0|\n",
      "|100010|       31|            6|224.67873|   NextSong|   200|        0|      0|           0|  0|   0|          7|          20|      0|    44|      7|    0|         1.0|\n",
      "|100010|       31|            7| 239.3073|   NextSong|   200|        0|      0|           0|  0|   0|          7|          20|      0|    44|      7|    0|         1.0|\n",
      "|100010|       31|            8|     NULL|Roll Advert|   200|        0|      0|           0|  0|   0|          7|          20|      0|    44|      7|    0|         1.0|\n",
      "|100010|       31|            9|142.41914|   NextSong|   200|        0|      0|           0|  0|   0|          7|          20|      0|    44|      7|    0|         1.0|\n",
      "|100010|       31|           10| 249.3122|   NextSong|   200|        0|      0|           0|  0|   0|          7|          20|      0|    44|      7|    0|         1.0|\n",
      "|100010|       31|           11| 52.27057|   NextSong|   200|        0|      0|           0|  0|   0|          7|          20|      0|    44|      7|    0|         1.0|\n",
      "|100010|       31|           12|     NULL|Roll Advert|   200|        0|      0|           0|  0|   0|          7|          20|      0|    44|      7|    0|         1.0|\n",
      "|100010|       31|           13|162.97751|   NextSong|   200|        0|      0|           0|  0|   0|          7|          20|      0|    44|      7|    0|         1.0|\n",
      "|100010|       31|           14|     NULL|  Thumbs Up|   307|        0|      0|           0|  0|   0|          7|          20|      0|    44|      7|    0|         1.0|\n",
      "|100010|       31|           15|323.44771|   NextSong|   200|        0|      0|           0|  0|   0|          7|          20|      0|    44|      7|    0|         1.0|\n",
      "|100010|       31|           16|245.78567|   NextSong|   200|        0|      0|           0|  0|   0|          7|          20|      0|    44|      7|    0|         1.0|\n",
      "|100010|       31|           17|     NULL|Roll Advert|   200|        0|      0|           0|  0|   0|          7|          20|      0|    44|      7|    0|         1.0|\n",
      "|100010|       31|           18|128.10404|   NextSong|   200|        0|      0|           0|  0|   0|          7|          20|      0|    44|      7|    0|         1.0|\n",
      "|100010|       31|           19|     NULL|Roll Advert|   200|        0|      0|           0|  0|   0|          7|          20|      0|    44|      7|    0|         1.0|\n",
      "+------+---------+-------------+---------+-----------+------+---------+-------+------------+---+----+-----------+------------+-------+------+-------+-----+------------+\n",
      "only showing top 20 rows\n",
      "\n"
     ]
    }
   ],
   "source": [
    "#Indexing level \n",
    "indexer=StringIndexer(inputCol='level',outputCol='levelIndexed')\n",
    "data=indexer.fit(data).transform(data)\n",
    "data=data.drop('level')\n",
    "data.show()"
   ]
  },
  {
   "cell_type": "code",
   "execution_count": 102,
   "metadata": {},
   "outputs": [],
   "source": [
    "assembler = VectorAssembler(inputCols = ['aveWait','daysOn','tPassed','avgInSession','numSessions',\n",
    "                                        'paid','sex',\n",
    "                                        'posDowngrade','levelIndexed'], outputCol='features')\n",
    "scaler = StandardScaler(inputCol='features', outputCol='scaled')"
   ]
  },
  {
   "cell_type": "code",
   "execution_count": 103,
   "metadata": {},
   "outputs": [],
   "source": [
    "#Split the Data into Train and Test Datasets\n",
    "train, test = data.randomSplit([0.75, 0.25], seed=0)"
   ]
  },
  {
   "cell_type": "code",
   "execution_count": 104,
   "metadata": {},
   "outputs": [],
   "source": [
    "evaluator = MulticlassClassificationEvaluator(labelCol='churn', predictionCol='prediction', metricName='f1')\n",
    "scores = []"
   ]
  },
  {
   "cell_type": "markdown",
   "metadata": {},
   "source": [
    " # Logistic Regression"
   ]
  },
  {
   "cell_type": "code",
   "execution_count": 105,
   "metadata": {},
   "outputs": [],
   "source": [
    "# create pipeline with logistic regression classifier, using default settings, train model and measure score against test\n",
    "logistic_regression_classifier = LogisticRegression(featuresCol='scaled', labelCol='churn')\n",
    "pipeline = Pipeline(stages=[assembler, scaler, logistic_regression_classifier])\n",
    "model = pipeline.fit(train)\n",
    "preds = model.transform(test)\n",
    "scores.append(['Logistic Regression', evaluator.evaluate(preds)])"
   ]
  },
  {
   "cell_type": "code",
   "execution_count": 106,
   "metadata": {},
   "outputs": [
    {
     "data": {
      "text/html": [
       "<div>\n",
       "<style scoped>\n",
       "    .dataframe tbody tr th:only-of-type {\n",
       "        vertical-align: middle;\n",
       "    }\n",
       "\n",
       "    .dataframe tbody tr th {\n",
       "        vertical-align: top;\n",
       "    }\n",
       "\n",
       "    .dataframe thead th {\n",
       "        text-align: right;\n",
       "    }\n",
       "</style>\n",
       "<table border=\"1\" class=\"dataframe\">\n",
       "  <thead>\n",
       "    <tr style=\"text-align: right;\">\n",
       "      <th></th>\n",
       "      <th>Classifier</th>\n",
       "      <th>F1 Score</th>\n",
       "    </tr>\n",
       "  </thead>\n",
       "  <tbody>\n",
       "    <tr>\n",
       "      <th>0</th>\n",
       "      <td>Logistic Regression</td>\n",
       "      <td>0.733399</td>\n",
       "    </tr>\n",
       "  </tbody>\n",
       "</table>\n",
       "</div>"
      ],
      "text/plain": [
       "            Classifier  F1 Score\n",
       "0  Logistic Regression  0.733399"
      ]
     },
     "execution_count": 106,
     "metadata": {},
     "output_type": "execute_result"
    }
   ],
   "source": [
    "scores_df = pd.DataFrame(scores,columns=['Classifier', 'F1 Score'])\n",
    "scores_df.head()"
   ]
  },
  {
   "cell_type": "markdown",
   "metadata": {},
   "source": [
    "# Random Forest"
   ]
  },
  {
   "cell_type": "code",
   "execution_count": 107,
   "metadata": {},
   "outputs": [],
   "source": [
    "\n",
    "random_forest_classifier = RandomForestClassifier(featuresCol='scaled', labelCol='churn')\n",
    "pipeline = Pipeline(stages=[assembler, scaler, random_forest_classifier])\n",
    "model = pipeline.fit(train)\n",
    "preds = model.transform(test)\n",
    "scores.append(['Random Forest', evaluator.evaluate(preds)])"
   ]
  },
  {
   "cell_type": "code",
   "execution_count": 108,
   "metadata": {
    "scrolled": true
   },
   "outputs": [
    {
     "data": {
      "text/html": [
       "<div>\n",
       "<style scoped>\n",
       "    .dataframe tbody tr th:only-of-type {\n",
       "        vertical-align: middle;\n",
       "    }\n",
       "\n",
       "    .dataframe tbody tr th {\n",
       "        vertical-align: top;\n",
       "    }\n",
       "\n",
       "    .dataframe thead th {\n",
       "        text-align: right;\n",
       "    }\n",
       "</style>\n",
       "<table border=\"1\" class=\"dataframe\">\n",
       "  <thead>\n",
       "    <tr style=\"text-align: right;\">\n",
       "      <th></th>\n",
       "      <th>Classifier</th>\n",
       "      <th>F1 Score</th>\n",
       "    </tr>\n",
       "  </thead>\n",
       "  <tbody>\n",
       "    <tr>\n",
       "      <th>0</th>\n",
       "      <td>Logistic Regression</td>\n",
       "      <td>0.733399</td>\n",
       "    </tr>\n",
       "    <tr>\n",
       "      <th>1</th>\n",
       "      <td>Random Forest</td>\n",
       "      <td>0.822556</td>\n",
       "    </tr>\n",
       "  </tbody>\n",
       "</table>\n",
       "</div>"
      ],
      "text/plain": [
       "            Classifier  F1 Score\n",
       "0  Logistic Regression  0.733399\n",
       "1        Random Forest  0.822556"
      ]
     },
     "execution_count": 108,
     "metadata": {},
     "output_type": "execute_result"
    }
   ],
   "source": [
    "scores_df = pd.DataFrame(scores,columns=['Classifier', 'F1 Score'])\n",
    "scores_df.head()"
   ]
  },
  {
   "cell_type": "markdown",
   "metadata": {},
   "source": [
    "# Gradient Boost"
   ]
  },
  {
   "cell_type": "code",
   "execution_count": 109,
   "metadata": {},
   "outputs": [],
   "source": [
    "gbt_classifier = GBTClassifier(featuresCol='scaled', labelCol='churn')\n",
    "pipeline = Pipeline(stages=[assembler, scaler, gbt_classifier])\n",
    "model = pipeline.fit(train)\n",
    "preds = model.transform(test)\n",
    "scores.append(['GBT Classifier', evaluator.evaluate(preds)])"
   ]
  },
  {
   "cell_type": "code",
   "execution_count": 110,
   "metadata": {
    "scrolled": true
   },
   "outputs": [
    {
     "data": {
      "text/html": [
       "<div>\n",
       "<style scoped>\n",
       "    .dataframe tbody tr th:only-of-type {\n",
       "        vertical-align: middle;\n",
       "    }\n",
       "\n",
       "    .dataframe tbody tr th {\n",
       "        vertical-align: top;\n",
       "    }\n",
       "\n",
       "    .dataframe thead th {\n",
       "        text-align: right;\n",
       "    }\n",
       "</style>\n",
       "<table border=\"1\" class=\"dataframe\">\n",
       "  <thead>\n",
       "    <tr style=\"text-align: right;\">\n",
       "      <th></th>\n",
       "      <th>Classifier</th>\n",
       "      <th>F1 Score</th>\n",
       "    </tr>\n",
       "  </thead>\n",
       "  <tbody>\n",
       "    <tr>\n",
       "      <th>0</th>\n",
       "      <td>Logistic Regression</td>\n",
       "      <td>0.733399</td>\n",
       "    </tr>\n",
       "    <tr>\n",
       "      <th>1</th>\n",
       "      <td>Random Forest</td>\n",
       "      <td>0.822556</td>\n",
       "    </tr>\n",
       "    <tr>\n",
       "      <th>2</th>\n",
       "      <td>GBT Classifier</td>\n",
       "      <td>0.918992</td>\n",
       "    </tr>\n",
       "  </tbody>\n",
       "</table>\n",
       "</div>"
      ],
      "text/plain": [
       "            Classifier  F1 Score\n",
       "0  Logistic Regression  0.733399\n",
       "1        Random Forest  0.822556\n",
       "2       GBT Classifier  0.918992"
      ]
     },
     "execution_count": 110,
     "metadata": {},
     "output_type": "execute_result"
    }
   ],
   "source": [
    "scores_df = pd.DataFrame(scores,columns=['Classifier', 'F1 Score'])\n",
    "scores_df.head()"
   ]
  },
  {
   "cell_type": "markdown",
   "metadata": {},
   "source": [
    "# GBT Optimized"
   ]
  },
  {
   "cell_type": "code",
   "execution_count": 111,
   "metadata": {},
   "outputs": [],
   "source": [
    "pipeline = Pipeline(stages=[assembler, scaler, gbt_classifier])\n",
    "\n",
    "param_grid = ParamGridBuilder()\\\n",
    ".addGrid(gbt_classifier.maxDepth, [2,5])\\\n",
    ".build()\n",
    "\n",
    "cv = CrossValidator(estimator=pipeline,\n",
    "                    estimatorParamMaps = param_grid, \n",
    "                    evaluator = evaluator,\n",
    "                    numFolds=2)\n",
    "model = cv.fit(train)\n",
    "preds = model.transform(test)\n",
    "scores.append(['GBT classifier- Optimized', evaluator.evaluate(preds)])"
   ]
  },
  {
   "cell_type": "code",
   "execution_count": 112,
   "metadata": {},
   "outputs": [
    {
     "data": {
      "text/html": [
       "<div>\n",
       "<style scoped>\n",
       "    .dataframe tbody tr th:only-of-type {\n",
       "        vertical-align: middle;\n",
       "    }\n",
       "\n",
       "    .dataframe tbody tr th {\n",
       "        vertical-align: top;\n",
       "    }\n",
       "\n",
       "    .dataframe thead th {\n",
       "        text-align: right;\n",
       "    }\n",
       "</style>\n",
       "<table border=\"1\" class=\"dataframe\">\n",
       "  <thead>\n",
       "    <tr style=\"text-align: right;\">\n",
       "      <th></th>\n",
       "      <th>Classifier</th>\n",
       "      <th>F1 Score</th>\n",
       "    </tr>\n",
       "  </thead>\n",
       "  <tbody>\n",
       "    <tr>\n",
       "      <th>0</th>\n",
       "      <td>Logistic Regression</td>\n",
       "      <td>0.733399</td>\n",
       "    </tr>\n",
       "    <tr>\n",
       "      <th>1</th>\n",
       "      <td>Random Forest</td>\n",
       "      <td>0.822556</td>\n",
       "    </tr>\n",
       "    <tr>\n",
       "      <th>2</th>\n",
       "      <td>GBT Classifier</td>\n",
       "      <td>0.918992</td>\n",
       "    </tr>\n",
       "    <tr>\n",
       "      <th>3</th>\n",
       "      <td>GBT classifier- Optimized</td>\n",
       "      <td>0.920079</td>\n",
       "    </tr>\n",
       "  </tbody>\n",
       "</table>\n",
       "</div>"
      ],
      "text/plain": [
       "                  Classifier  F1 Score\n",
       "0        Logistic Regression  0.733399\n",
       "1              Random Forest  0.822556\n",
       "2             GBT Classifier  0.918992\n",
       "3  GBT classifier- Optimized  0.920079"
      ]
     },
     "execution_count": 112,
     "metadata": {},
     "output_type": "execute_result"
    }
   ],
   "source": [
    "scores_df = pd.DataFrame(scores,columns=['Classifier', 'F1 Score'])\n",
    "scores_df.head()"
   ]
  },
  {
   "cell_type": "code",
   "execution_count": 113,
   "metadata": {},
   "outputs": [
    {
     "data": {
      "text/plain": [
       "[(0.5, 1.0)]"
      ]
     },
     "execution_count": 113,
     "metadata": {},
     "output_type": "execute_result"
    },
    {
     "data": {
      "image/png": "[encoded data removed]",
      "text/plain": [
       "<Figure size 1000x500 with 1 Axes>"
      ]
     },
     "metadata": {},
     "output_type": "display_data"
    }
   ],
   "source": [
    "#plot F1 score output\n",
    "plt.figure(figsize=(10,5))\n",
    "a = sns.barplot(data=scores_df, x =\"Classifier\",y=\"F1 Score\")\n",
    "a.set(title='F1 Score Graphical Comparison');\n",
    "a.set(ylim=(0.5,1.0))"
   ]
  },
  {
   "cell_type": "markdown",
   "metadata": {},
   "source": [
    "# Final Steps\n",
    "Clean up your code, adding comments and renaming variables to make the code easier to read and maintain. Refer to the Spark Project Overview page and Data Scientist Capstone Project Rubric to make sure you are including all components of the capstone project and meet all expectations. Remember, this includes thorough documentation in a README file in a Github repository, as well as a web app or blog post."
   ]
  },
  {
   "cell_type": "code",
   "execution_count": null,
   "metadata": {},
   "outputs": [],
   "source": []
  }
 ],
 "metadata": {
  "kernelspec": {
   "display_name": "Python 3 (ipykernel)",
   "language": "python",
   "name": "python3"
  },
  "language_info": {
   "codemirror_mode": {
    "name": "ipython",
    "version": 3
   },
   "file_extension": ".py",
   "mimetype": "text/x-python",
   "name": "python",
   "nbconvert_exporter": "python",
   "pygments_lexer": "ipython3",
   "version": "3.12.2"
  }
 },
 "nbformat": 4,
 "nbformat_minor": 4
}
