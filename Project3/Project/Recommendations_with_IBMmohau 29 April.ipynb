{
 "cells": [
  {
   "cell_type": "markdown",
   "metadata": {},
   "source": [
    "# Recommendations with IBM\n",
    "\n",
    "In this notebook, you will be putting your recommendation skills to use on real data from the IBM Watson Studio platform. \n",
    "\n",
    "\n",
    "You may either submit your notebook through the workspace here, or you may work from your local machine and submit through the next page.  Either way assure that your code passes the project [RUBRIC](https://review.udacity.com/#!/rubrics/3325/view).  **Please save regularly.**\n",
    "\n",
    "By following the table of contents, you will build out a number of different methods for making recommendations that can be used for different situations. \n",
    "\n",
    "\n",
    "## Table of Contents\n",
    "\n",
    "I. [Exploratory Data Analysis](#Exploratory-Data-Analysis)<br>\n",
    "II. [Rank Based Recommendations](#Rank)<br>\n",
    "III. [User-User Based Collaborative Filtering](#User-User)<br>\n",
    "IV. [Content Based Recommendations (EXTRA - NOT REQUIRED)](#Content-Recs)<br>\n",
    "V. [Matrix Factorization](#Matrix-Fact)<br>\n",
    "VI. [Extras & Concluding](#conclusions)\n",
    "\n",
    "At the end of the notebook, you will find directions for how to submit your work.  Let's get started by importing the necessary libraries and reading in the data."
   ]
  },
  {
   "cell_type": "code",
   "execution_count": 2,
   "metadata": {},
   "outputs": [
    {
     "data": {
      "text/html": [
       "<div>\n",
       "<style scoped>\n",
       "    .dataframe tbody tr th:only-of-type {\n",
       "        vertical-align: middle;\n",
       "    }\n",
       "\n",
       "    .dataframe tbody tr th {\n",
       "        vertical-align: top;\n",
       "    }\n",
       "\n",
       "    .dataframe thead th {\n",
       "        text-align: right;\n",
       "    }\n",
       "</style>\n",
       "<table border=\"1\" class=\"dataframe\">\n",
       "  <thead>\n",
       "    <tr style=\"text-align: right;\">\n",
       "      <th></th>\n",
       "      <th>article_id</th>\n",
       "      <th>title</th>\n",
       "      <th>email</th>\n",
       "    </tr>\n",
       "  </thead>\n",
       "  <tbody>\n",
       "    <tr>\n",
       "      <th>0</th>\n",
       "      <td>1430.0</td>\n",
       "      <td>using pixiedust for fast, flexible, and easier...</td>\n",
       "      <td>ef5f11f77ba020cd36e1105a00ab868bbdbf7fe7</td>\n",
       "    </tr>\n",
       "    <tr>\n",
       "      <th>1</th>\n",
       "      <td>1314.0</td>\n",
       "      <td>healthcare python streaming application demo</td>\n",
       "      <td>083cbdfa93c8444beaa4c5f5e0f5f9198e4f9e0b</td>\n",
       "    </tr>\n",
       "    <tr>\n",
       "      <th>2</th>\n",
       "      <td>1429.0</td>\n",
       "      <td>use deep learning for image classification</td>\n",
       "      <td>b96a4f2e92d8572034b1e9b28f9ac673765cd074</td>\n",
       "    </tr>\n",
       "    <tr>\n",
       "      <th>3</th>\n",
       "      <td>1338.0</td>\n",
       "      <td>ml optimization using cognitive assistant</td>\n",
       "      <td>06485706b34a5c9bf2a0ecdac41daf7e7654ceb7</td>\n",
       "    </tr>\n",
       "    <tr>\n",
       "      <th>4</th>\n",
       "      <td>1276.0</td>\n",
       "      <td>deploy your python model as a restful api</td>\n",
       "      <td>f01220c46fc92c6e6b161b1849de11faacd7ccb2</td>\n",
       "    </tr>\n",
       "  </tbody>\n",
       "</table>\n",
       "</div>"
      ],
      "text/plain": [
       "   article_id                                              title  \\\n",
       "0      1430.0  using pixiedust for fast, flexible, and easier...   \n",
       "1      1314.0       healthcare python streaming application demo   \n",
       "2      1429.0         use deep learning for image classification   \n",
       "3      1338.0          ml optimization using cognitive assistant   \n",
       "4      1276.0          deploy your python model as a restful api   \n",
       "\n",
       "                                      email  \n",
       "0  ef5f11f77ba020cd36e1105a00ab868bbdbf7fe7  \n",
       "1  083cbdfa93c8444beaa4c5f5e0f5f9198e4f9e0b  \n",
       "2  b96a4f2e92d8572034b1e9b28f9ac673765cd074  \n",
       "3  06485706b34a5c9bf2a0ecdac41daf7e7654ceb7  \n",
       "4  f01220c46fc92c6e6b161b1849de11faacd7ccb2  "
      ]
     },
     "execution_count": 2,
     "metadata": {},
     "output_type": "execute_result"
    }
   ],
   "source": [
    "import pandas as pd\n",
    "import numpy as np\n",
    "import matplotlib.pyplot as plt\n",
    "import project_tests as t\n",
    "import pickle\n",
    "import seaborn as sns\n",
    "\n",
    "%matplotlib inline\n",
    "\n",
    "df = pd.read_csv('data/user-item-interactions.csv')\n",
    "df_content = pd.read_csv('data/articles_community.csv')\n",
    "del df['Unnamed: 0']\n",
    "del df_content['Unnamed: 0']\n",
    "\n",
    "# Show df to get an idea of the data\n",
    "df.head()"
   ]
  },
  {
   "cell_type": "code",
   "execution_count": 3,
   "metadata": {},
   "outputs": [
    {
     "data": {
      "text/html": [
       "<div>\n",
       "<style scoped>\n",
       "    .dataframe tbody tr th:only-of-type {\n",
       "        vertical-align: middle;\n",
       "    }\n",
       "\n",
       "    .dataframe tbody tr th {\n",
       "        vertical-align: top;\n",
       "    }\n",
       "\n",
       "    .dataframe thead th {\n",
       "        text-align: right;\n",
       "    }\n",
       "</style>\n",
       "<table border=\"1\" class=\"dataframe\">\n",
       "  <thead>\n",
       "    <tr style=\"text-align: right;\">\n",
       "      <th></th>\n",
       "      <th>doc_body</th>\n",
       "      <th>doc_description</th>\n",
       "      <th>doc_full_name</th>\n",
       "      <th>doc_status</th>\n",
       "      <th>article_id</th>\n",
       "    </tr>\n",
       "  </thead>\n",
       "  <tbody>\n",
       "    <tr>\n",
       "      <th>0</th>\n",
       "      <td>Skip navigation Sign in SearchLoading...\\r\\n\\r...</td>\n",
       "      <td>Detect bad readings in real time using Python ...</td>\n",
       "      <td>Detect Malfunctioning IoT Sensors with Streami...</td>\n",
       "      <td>Live</td>\n",
       "      <td>0</td>\n",
       "    </tr>\n",
       "    <tr>\n",
       "      <th>1</th>\n",
       "      <td>No Free Hunch Navigation * kaggle.com\\r\\n\\r\\n ...</td>\n",
       "      <td>See the forest, see the trees. Here lies the c...</td>\n",
       "      <td>Communicating data science: A guide to present...</td>\n",
       "      <td>Live</td>\n",
       "      <td>1</td>\n",
       "    </tr>\n",
       "    <tr>\n",
       "      <th>2</th>\n",
       "      <td>☰ * Login\\r\\n * Sign Up\\r\\n\\r\\n * Learning Pat...</td>\n",
       "      <td>Here’s this week’s news in Data Science and Bi...</td>\n",
       "      <td>This Week in Data Science (April 18, 2017)</td>\n",
       "      <td>Live</td>\n",
       "      <td>2</td>\n",
       "    </tr>\n",
       "    <tr>\n",
       "      <th>3</th>\n",
       "      <td>DATALAYER: HIGH THROUGHPUT, LOW LATENCY AT SCA...</td>\n",
       "      <td>Learn how distributed DBs solve the problem of...</td>\n",
       "      <td>DataLayer Conference: Boost the performance of...</td>\n",
       "      <td>Live</td>\n",
       "      <td>3</td>\n",
       "    </tr>\n",
       "    <tr>\n",
       "      <th>4</th>\n",
       "      <td>Skip navigation Sign in SearchLoading...\\r\\n\\r...</td>\n",
       "      <td>This video demonstrates the power of IBM DataS...</td>\n",
       "      <td>Analyze NY Restaurant data using Spark in DSX</td>\n",
       "      <td>Live</td>\n",
       "      <td>4</td>\n",
       "    </tr>\n",
       "  </tbody>\n",
       "</table>\n",
       "</div>"
      ],
      "text/plain": [
       "                                            doc_body  \\\n",
       "0  Skip navigation Sign in SearchLoading...\\r\\n\\r...   \n",
       "1  No Free Hunch Navigation * kaggle.com\\r\\n\\r\\n ...   \n",
       "2  ☰ * Login\\r\\n * Sign Up\\r\\n\\r\\n * Learning Pat...   \n",
       "3  DATALAYER: HIGH THROUGHPUT, LOW LATENCY AT SCA...   \n",
       "4  Skip navigation Sign in SearchLoading...\\r\\n\\r...   \n",
       "\n",
       "                                     doc_description  \\\n",
       "0  Detect bad readings in real time using Python ...   \n",
       "1  See the forest, see the trees. Here lies the c...   \n",
       "2  Here’s this week’s news in Data Science and Bi...   \n",
       "3  Learn how distributed DBs solve the problem of...   \n",
       "4  This video demonstrates the power of IBM DataS...   \n",
       "\n",
       "                                       doc_full_name doc_status  article_id  \n",
       "0  Detect Malfunctioning IoT Sensors with Streami...       Live           0  \n",
       "1  Communicating data science: A guide to present...       Live           1  \n",
       "2         This Week in Data Science (April 18, 2017)       Live           2  \n",
       "3  DataLayer Conference: Boost the performance of...       Live           3  \n",
       "4      Analyze NY Restaurant data using Spark in DSX       Live           4  "
      ]
     },
     "execution_count": 3,
     "metadata": {},
     "output_type": "execute_result"
    }
   ],
   "source": [
    "# Show df_content to get an idea of the data\n",
    "df_content.head()"
   ]
  },
  {
   "cell_type": "code",
   "execution_count": 4,
   "metadata": {},
   "outputs": [
    {
     "data": {
      "text/plain": [
       "(1056, 5)"
      ]
     },
     "execution_count": 4,
     "metadata": {},
     "output_type": "execute_result"
    }
   ],
   "source": [
    "df_content.shape"
   ]
  },
  {
   "cell_type": "code",
   "execution_count": 5,
   "metadata": {},
   "outputs": [
    {
     "data": {
      "text/plain": [
       "(45993, 3)"
      ]
     },
     "execution_count": 5,
     "metadata": {},
     "output_type": "execute_result"
    }
   ],
   "source": [
    "df.shape"
   ]
  },
  {
   "cell_type": "markdown",
   "metadata": {},
   "source": [
    "### <a class=\"anchor\" id=\"Exploratory-Data-Analysis\">Part I : Exploratory Data Analysis</a>\n",
    "\n",
    "Use the dictionary and cells below to provide some insight into the descriptive statistics of the data.\n",
    "\n",
    "`1.` What is the distribution of how many articles a user interacts with in the dataset?  Provide a visual and descriptive statistics to assist with giving a look at the number of times each user interacts with an article.  "
   ]
  },
  {
   "cell_type": "code",
   "execution_count": 6,
   "metadata": {},
   "outputs": [
    {
     "data": {
      "text/plain": [
       "email\n",
       "0000b6387a0366322d7fbfc6434af145adf7fed1    13\n",
       "001055fc0bb67f71e8fa17002342b256a30254cd     4\n",
       "00148e4911c7e04eeff8def7bbbdaf1c59c2c621     3\n",
       "001a852ecbd6cc12ab77a785efa137b2646505fe     6\n",
       "001fc95b90da5c3cb12c501d201a915e4f093290     2\n",
       "                                            ..\n",
       "ffc6cfa435937ca0df967b44e9178439d04e3537     2\n",
       "ffc96f8fbb35aac4cb0029332b0fc78e7766bb5d     4\n",
       "ffe3d0543c9046d35c2ee3724ea9d774dff98a32    32\n",
       "fff9fc3ec67bd18ed57a34ed1e67410942c4cd81    10\n",
       "fffb93a166547448a0ff0232558118d59395fecd    13\n",
       "Name: article_id, Length: 5148, dtype: int64"
      ]
     },
     "execution_count": 6,
     "metadata": {},
     "output_type": "execute_result"
    }
   ],
   "source": [
    "user_article_view = df.groupby('email')['article_id'].count()\n",
    "user_article_view"
   ]
  },
  {
   "cell_type": "code",
   "execution_count": 7,
   "metadata": {},
   "outputs": [
    {
     "data": {
      "image/png": "[encoded data removed]",
      "text/plain": [
       "<Figure size 1100x300 with 2 Axes>"
      ]
     },
     "metadata": {},
     "output_type": "display_data"
    }
   ],
   "source": [
    "fig, axs = plt.subplots(1, 2, figsize=(11, 3))\n",
    "a=sns.histplot(data=user_article_view,ax=axs[0],bins=20)\n",
    "axs[1].axis(\"off\");"
   ]
  },
  {
   "cell_type": "code",
   "execution_count": 8,
   "metadata": {},
   "outputs": [],
   "source": [
    "#convert article id to int\n",
    "df[\"article_id\"]=df[\"article_id\"].astype(int)"
   ]
  },
  {
   "cell_type": "code",
   "execution_count": 9,
   "metadata": {},
   "outputs": [
    {
     "data": {
      "text/plain": [
       "3.0"
      ]
     },
     "execution_count": 9,
     "metadata": {},
     "output_type": "execute_result"
    }
   ],
   "source": [
    "#the median of user_article interactions\n",
    "df.groupby([\"email\"])[\"article_id\"].count().median()"
   ]
  },
  {
   "cell_type": "code",
   "execution_count": 10,
   "metadata": {},
   "outputs": [
    {
     "data": {
      "text/plain": [
       "364"
      ]
     },
     "execution_count": 10,
     "metadata": {},
     "output_type": "execute_result"
    }
   ],
   "source": [
    "#the max of user article interactions\n",
    "df.groupby([\"email\"])[\"article_id\"].count().max()"
   ]
  },
  {
   "cell_type": "code",
   "execution_count": 11,
   "metadata": {},
   "outputs": [],
   "source": [
    "# Fill in the median and maximum number of user_article interactios below\n",
    "\n",
    "median_val =df.groupby([\"email\"])[\"article_id\"].count().median() # 50% of individuals interact with ____ number of articles or fewer.\n",
    "max_views_by_user =df.groupby([\"email\"])[\"article_id\"].count().max() # The maximum number of user-article interactions by any 1 user is ______."
   ]
  },
  {
   "cell_type": "markdown",
   "metadata": {},
   "source": [
    "`2.` Explore and remove duplicate articles from the **df_content** dataframe.  "
   ]
  },
  {
   "cell_type": "code",
   "execution_count": 12,
   "metadata": {},
   "outputs": [
    {
     "data": {
      "text/plain": [
       "5"
      ]
     },
     "execution_count": 12,
     "metadata": {},
     "output_type": "execute_result"
    }
   ],
   "source": [
    "# Find and explore duplicate articles\n",
    "df_content[\"doc_full_name\"].duplicated().sum()"
   ]
  },
  {
   "cell_type": "code",
   "execution_count": 13,
   "metadata": {},
   "outputs": [],
   "source": [
    "# Remove any rows that have the same article_id - only keep the first\n",
    "df_content=df_content.drop_duplicates(subset=[\"article_id\"],keep=\"last\")"
   ]
  },
  {
   "cell_type": "markdown",
   "metadata": {},
   "source": [
    "`3.` Use the cells below to find:\n",
    "\n",
    "**a.** The number of unique articles that have an interaction with a user.  \n",
    "**b.** The number of unique articles in the dataset (whether they have any interactions or not).<br>\n",
    "**c.** The number of unique users in the dataset. (excluding null values) <br>\n",
    "**d.** The number of user-article interactions in the dataset."
   ]
  },
  {
   "cell_type": "code",
   "execution_count": 14,
   "metadata": {},
   "outputs": [
    {
     "data": {
      "text/plain": [
       "(45993, 3)"
      ]
     },
     "execution_count": 14,
     "metadata": {},
     "output_type": "execute_result"
    }
   ],
   "source": [
    "df.shape"
   ]
  },
  {
   "cell_type": "code",
   "execution_count": 15,
   "metadata": {},
   "outputs": [
    {
     "data": {
      "text/plain": [
       "714"
      ]
     },
     "execution_count": 15,
     "metadata": {},
     "output_type": "execute_result"
    }
   ],
   "source": [
    "# The number of unique articles that have at least one interaction\n",
    "df[\"article_id\"].nunique()"
   ]
  },
  {
   "cell_type": "code",
   "execution_count": 16,
   "metadata": {},
   "outputs": [
    {
     "data": {
      "text/plain": [
       "1051"
      ]
     },
     "execution_count": 16,
     "metadata": {},
     "output_type": "execute_result"
    }
   ],
   "source": [
    "# The number of unique articles on the IBM platform\n",
    "df_content[\"article_id\"].count()"
   ]
  },
  {
   "cell_type": "code",
   "execution_count": 17,
   "metadata": {},
   "outputs": [
    {
     "data": {
      "text/plain": [
       "5148"
      ]
     },
     "execution_count": 17,
     "metadata": {},
     "output_type": "execute_result"
    }
   ],
   "source": [
    "#The number of unique users\n",
    "df[\"email\"].nunique()"
   ]
  },
  {
   "cell_type": "code",
   "execution_count": 18,
   "metadata": {},
   "outputs": [
    {
     "data": {
      "text/plain": [
       "45976"
      ]
     },
     "execution_count": 18,
     "metadata": {},
     "output_type": "execute_result"
    }
   ],
   "source": [
    "# The number of user-article interactions\n",
    "df.groupby([\"article_id\"])[\"email\"].count().sum()"
   ]
  },
  {
   "cell_type": "code",
   "execution_count": 19,
   "metadata": {},
   "outputs": [
    {
     "data": {
      "text/plain": [
       "45993"
      ]
     },
     "execution_count": 19,
     "metadata": {},
     "output_type": "execute_result"
    }
   ],
   "source": [
    "df.shape[0]"
   ]
  },
  {
   "cell_type": "code",
   "execution_count": 20,
   "metadata": {},
   "outputs": [],
   "source": [
    "unique_articles =df[\"article_id\"].nunique()# The number of unique articles that have at least one interaction\n",
    "total_articles =df_content[\"article_id\"].count() # The number of unique articles on the IBM platform\n",
    "unique_users =df[\"email\"].nunique()# The number of unique users\n",
    "user_article_interactions =df.shape[0] # The number of user-article interactions"
   ]
  },
  {
   "cell_type": "markdown",
   "metadata": {},
   "source": [
    "`4.` Use the cells below to find the most viewed **article_id**, as well as how often it was viewed.  After talking to the company leaders, the `email_mapper` function was deemed a reasonable way to map users to ids.  There were a small number of null values, and it was found that all of these null values likely belonged to a single user (which is how they are stored using the function below)."
   ]
  },
  {
   "cell_type": "code",
   "execution_count": 21,
   "metadata": {},
   "outputs": [
    {
     "data": {
      "text/plain": [
       "'1429.0'"
      ]
     },
     "execution_count": 21,
     "metadata": {},
     "output_type": "execute_result"
    }
   ],
   "source": [
    "#The most viewed article in the dataset as a string with one value following the decimal\n",
    "str(df[\"article_id\"].astype(float).value_counts().index[0])"
   ]
  },
  {
   "cell_type": "code",
   "execution_count": 22,
   "metadata": {},
   "outputs": [
    {
     "data": {
      "text/plain": [
       "937"
      ]
     },
     "execution_count": 22,
     "metadata": {},
     "output_type": "execute_result"
    }
   ],
   "source": [
    "# The most viewed article in the dataset was viewed how many times?\n",
    "df[\"article_id\"].value_counts().iloc[0]"
   ]
  },
  {
   "cell_type": "code",
   "execution_count": 23,
   "metadata": {},
   "outputs": [],
   "source": [
    "most_viewed_article_id =str(df[\"article_id\"].astype(float).value_counts().index[0]) # The most viewed article in the dataset as a string with one value following the decimal \n",
    "max_views =df[\"article_id\"].value_counts().iloc[0] # The most viewed article in the dataset was viewed how many times?"
   ]
  },
  {
   "cell_type": "code",
   "execution_count": 24,
   "metadata": {},
   "outputs": [
    {
     "data": {
      "text/html": [
       "<div>\n",
       "<style scoped>\n",
       "    .dataframe tbody tr th:only-of-type {\n",
       "        vertical-align: middle;\n",
       "    }\n",
       "\n",
       "    .dataframe tbody tr th {\n",
       "        vertical-align: top;\n",
       "    }\n",
       "\n",
       "    .dataframe thead th {\n",
       "        text-align: right;\n",
       "    }\n",
       "</style>\n",
       "<table border=\"1\" class=\"dataframe\">\n",
       "  <thead>\n",
       "    <tr style=\"text-align: right;\">\n",
       "      <th></th>\n",
       "      <th>article_id</th>\n",
       "      <th>title</th>\n",
       "      <th>user_id</th>\n",
       "    </tr>\n",
       "  </thead>\n",
       "  <tbody>\n",
       "    <tr>\n",
       "      <th>0</th>\n",
       "      <td>1430</td>\n",
       "      <td>using pixiedust for fast, flexible, and easier...</td>\n",
       "      <td>1</td>\n",
       "    </tr>\n",
       "    <tr>\n",
       "      <th>1</th>\n",
       "      <td>1314</td>\n",
       "      <td>healthcare python streaming application demo</td>\n",
       "      <td>2</td>\n",
       "    </tr>\n",
       "    <tr>\n",
       "      <th>2</th>\n",
       "      <td>1429</td>\n",
       "      <td>use deep learning for image classification</td>\n",
       "      <td>3</td>\n",
       "    </tr>\n",
       "    <tr>\n",
       "      <th>3</th>\n",
       "      <td>1338</td>\n",
       "      <td>ml optimization using cognitive assistant</td>\n",
       "      <td>4</td>\n",
       "    </tr>\n",
       "    <tr>\n",
       "      <th>4</th>\n",
       "      <td>1276</td>\n",
       "      <td>deploy your python model as a restful api</td>\n",
       "      <td>5</td>\n",
       "    </tr>\n",
       "  </tbody>\n",
       "</table>\n",
       "</div>"
      ],
      "text/plain": [
       "   article_id                                              title  user_id\n",
       "0        1430  using pixiedust for fast, flexible, and easier...        1\n",
       "1        1314       healthcare python streaming application demo        2\n",
       "2        1429         use deep learning for image classification        3\n",
       "3        1338          ml optimization using cognitive assistant        4\n",
       "4        1276          deploy your python model as a restful api        5"
      ]
     },
     "execution_count": 24,
     "metadata": {},
     "output_type": "execute_result"
    }
   ],
   "source": [
    "## No need to change the code here - this will be helpful for later parts of the notebook\n",
    "# Run this cell to map the user email to a user_id column and remove the email column\n",
    "\n",
    "def email_mapper():\n",
    "    coded_dict = dict()\n",
    "    cter = 1\n",
    "    email_encoded = []\n",
    "    \n",
    "    for val in df['email']:\n",
    "        if val not in coded_dict:\n",
    "            coded_dict[val] = cter\n",
    "            cter+=1\n",
    "        \n",
    "        email_encoded.append(coded_dict[val])\n",
    "    return email_encoded\n",
    "\n",
    "email_encoded = email_mapper()\n",
    "del df['email']\n",
    "df['user_id'] = email_encoded\n",
    "\n",
    "# show header\n",
    "df.head()"
   ]
  },
  {
   "cell_type": "code",
   "execution_count": 25,
   "metadata": {},
   "outputs": [
    {
     "name": "stdout",
     "output_type": "stream",
     "text": [
      "It looks like you have everything right here! Nice job!\n"
     ]
    }
   ],
   "source": [
    "## If you stored all your results in the variable names above, \n",
    "## you shouldn't need to change anything in this cell\n",
    "\n",
    "sol_1_dict = {\n",
    "    '`50% of individuals have _____ or fewer interactions.`': median_val,\n",
    "    '`The total number of user-article interactions in the dataset is ______.`': user_article_interactions,\n",
    "    '`The maximum number of user-article interactions by any 1 user is ______.`': max_views_by_user,\n",
    "    '`The most viewed article in the dataset was viewed _____ times.`': max_views,\n",
    "    '`The article_id of the most viewed article is ______.`': most_viewed_article_id,\n",
    "    '`The number of unique articles that have at least 1 rating ______.`': unique_articles,\n",
    "    '`The number of unique users in the dataset is ______`': unique_users,\n",
    "    '`The number of unique articles on the IBM platform`': total_articles\n",
    "}\n",
    "\n",
    "# Test your dictionary against the solution\n",
    "t.sol_1_test(sol_1_dict)"
   ]
  },
  {
   "cell_type": "markdown",
   "metadata": {},
   "source": [
    "### <a class=\"anchor\" id=\"Rank\">Part II: Rank-Based Recommendations</a>\n",
    "\n",
    "Unlike in the earlier lessons, we don't actually have ratings for whether a user liked an article or not.  We only know that a user has interacted with an article.  In these cases, the popularity of an article can really only be based on how often an article was interacted with.\n",
    "\n",
    "`1.` Fill in the function below to return the **n** top articles ordered with most interactions as the top. Test your function using the tests below."
   ]
  },
  {
   "cell_type": "code",
   "execution_count": 26,
   "metadata": {},
   "outputs": [
    {
     "data": {
      "text/plain": [
       "article_id\n",
       "1429    937\n",
       "1330    927\n",
       "1431    671\n",
       "1427    643\n",
       "1364    627\n",
       "       ... \n",
       "1344      1\n",
       "984       1\n",
       "1113      1\n",
       "675       1\n",
       "662       1\n",
       "Name: count, Length: 714, dtype: int64"
      ]
     },
     "execution_count": 26,
     "metadata": {},
     "output_type": "execute_result"
    }
   ],
   "source": [
    "df[\"article_id\"].value_counts()"
   ]
  },
  {
   "cell_type": "code",
   "execution_count": 27,
   "metadata": {},
   "outputs": [
    {
     "data": {
      "text/plain": [
       "[1429, 1330, 1431, 1427, 1364, 1314, 1293, 1170, 1162]"
      ]
     },
     "execution_count": 27,
     "metadata": {},
     "output_type": "execute_result"
    }
   ],
   "source": [
    "#articl_id with the most views\n",
    "(df[\"article_id\"].value_counts().index[:9]).tolist()"
   ]
  },
  {
   "cell_type": "code",
   "execution_count": 28,
   "metadata": {},
   "outputs": [
    {
     "data": {
      "text/plain": [
       "['use deep learning for image classification',\n",
       " 'insights from new york car accident reports',\n",
       " 'visualize car data with brunel',\n",
       " 'use xgboost, scikit-learn & ibm watson machine learning apis',\n",
       " 'predicting churn with the spss random tree algorithm',\n",
       " 'healthcare python streaming application demo',\n",
       " 'finding optimal locations of new store using decision optimization',\n",
       " 'apache spark lab, part 1: basic concepts',\n",
       " 'analyze energy consumption in buildings']"
      ]
     },
     "execution_count": 28,
     "metadata": {},
     "output_type": "execute_result"
    }
   ],
   "source": [
    "top_titles=(df[\"title\"].value_counts().index[:9]).tolist()\n",
    "top_titles"
   ]
  },
  {
   "cell_type": "code",
   "execution_count": 29,
   "metadata": {},
   "outputs": [],
   "source": [
    "def get_top_articles(n, df=df):\n",
    "    '''\n",
    "    INPUT:\n",
    "    n - (int) the number of top articles to return\n",
    "    df - (pandas dataframe) df as defined at the top of the notebook \n",
    "    \n",
    "    OUTPUT:\n",
    "    top_articles - (list) A list of the top 'n' article titles \n",
    "    \n",
    "    '''\n",
    "    top_articles=(df[\"title\"].value_counts().index[:n]).tolist()\n",
    "    # Your code here\n",
    "    \n",
    "    return top_articles # Return the top article titles from df (not df_content)\n",
    "\n",
    "def get_top_article_ids(n, df=df):\n",
    "    '''\n",
    "    INPUT:\n",
    "    n - (int) the number of top articles to return\n",
    "    df - (pandas dataframe) df as defined at the top of the notebook \n",
    "    \n",
    "    OUTPUT:\n",
    "    top_articles - (list) A list of the top 'n' article titles \n",
    "    \n",
    "    '''\n",
    "    top_articles=(df[\"article_id\"].value_counts().index[:n]).tolist()\n",
    "    # Your code here\n",
    " \n",
    "    return top_articles # Return the top article ids"
   ]
  },
  {
   "cell_type": "code",
   "execution_count": 30,
   "metadata": {},
   "outputs": [
    {
     "name": "stdout",
     "output_type": "stream",
     "text": [
      "['use deep learning for image classification', 'insights from new york car accident reports', 'visualize car data with brunel', 'use xgboost, scikit-learn & ibm watson machine learning apis', 'predicting churn with the spss random tree algorithm', 'healthcare python streaming application demo', 'finding optimal locations of new store using decision optimization', 'apache spark lab, part 1: basic concepts', 'analyze energy consumption in buildings', 'gosales transactions for logistic regression model']\n",
      "[1429, 1330, 1431, 1427, 1364, 1314, 1293, 1170, 1162, 1304]\n"
     ]
    }
   ],
   "source": [
    "print(get_top_articles(10))\n",
    "print(get_top_article_ids(10))"
   ]
  },
  {
   "cell_type": "code",
   "execution_count": 31,
   "metadata": {},
   "outputs": [
    {
     "name": "stdout",
     "output_type": "stream",
     "text": [
      "Your top_5 looks like the solution list! Nice job.\n",
      "Your top_10 looks like the solution list! Nice job.\n",
      "Your top_20 looks like the solution list! Nice job.\n"
     ]
    }
   ],
   "source": [
    "# Test your function by returning the top 5, 10, and 20 articles\n",
    "top_5 = get_top_articles(5)\n",
    "top_10 = get_top_articles(10)\n",
    "top_20 = get_top_articles(20)\n",
    "\n",
    "# Test each of your three lists from above\n",
    "t.sol_2_test(get_top_articles)"
   ]
  },
  {
   "cell_type": "markdown",
   "metadata": {},
   "source": [
    "### <a class=\"anchor\" id=\"User-User\">Part III: User-User Based Collaborative Filtering</a>\n",
    "\n",
    "\n",
    "`1.` Use the function below to reformat the **df** dataframe to be shaped with users as the rows and articles as the columns.  \n",
    "\n",
    "* Each **user** should only appear in each **row** once.\n",
    "\n",
    "\n",
    "* Each **article** should only show up in one **column**.  \n",
    "\n",
    "\n",
    "* **If a user has interacted with an article, then place a 1 where the user-row meets for that article-column**.  It does not matter how many times a user has interacted with the article, all entries where a user has interacted with an article should be a 1.  \n",
    "\n",
    "\n",
    "* **If a user has not interacted with an item, then place a zero where the user-row meets for that article-column**. \n",
    "\n",
    "Use the tests to make sure the basic structure of your matrix matches what is expected by the solution."
   ]
  },
  {
   "cell_type": "code",
   "execution_count": 32,
   "metadata": {},
   "outputs": [],
   "source": [
    "user_item=df.groupby([\"user_id\",\"article_id\"])[\"user_id\"].value_counts().unstack()\n"
   ]
  },
  {
   "cell_type": "code",
   "execution_count": 33,
   "metadata": {
    "scrolled": true
   },
   "outputs": [],
   "source": [
    "#convert  user interaction  and article id to 0 and 1\n",
    "user_item[user_item >= 1] = 1\n",
    "user_item=user_item.fillna(0).astype(int)"
   ]
  },
  {
   "cell_type": "code",
   "execution_count": 34,
   "metadata": {},
   "outputs": [
    {
     "data": {
      "text/html": [
       "<div>\n",
       "<style scoped>\n",
       "    .dataframe tbody tr th:only-of-type {\n",
       "        vertical-align: middle;\n",
       "    }\n",
       "\n",
       "    .dataframe tbody tr th {\n",
       "        vertical-align: top;\n",
       "    }\n",
       "\n",
       "    .dataframe thead th {\n",
       "        text-align: right;\n",
       "    }\n",
       "</style>\n",
       "<table border=\"1\" class=\"dataframe\">\n",
       "  <thead>\n",
       "    <tr style=\"text-align: right;\">\n",
       "      <th>article_id</th>\n",
       "      <th>0</th>\n",
       "      <th>2</th>\n",
       "      <th>4</th>\n",
       "      <th>8</th>\n",
       "      <th>9</th>\n",
       "      <th>12</th>\n",
       "      <th>14</th>\n",
       "      <th>15</th>\n",
       "      <th>16</th>\n",
       "      <th>18</th>\n",
       "      <th>...</th>\n",
       "      <th>1434</th>\n",
       "      <th>1435</th>\n",
       "      <th>1436</th>\n",
       "      <th>1437</th>\n",
       "      <th>1439</th>\n",
       "      <th>1440</th>\n",
       "      <th>1441</th>\n",
       "      <th>1442</th>\n",
       "      <th>1443</th>\n",
       "      <th>1444</th>\n",
       "    </tr>\n",
       "    <tr>\n",
       "      <th>user_id</th>\n",
       "      <th></th>\n",
       "      <th></th>\n",
       "      <th></th>\n",
       "      <th></th>\n",
       "      <th></th>\n",
       "      <th></th>\n",
       "      <th></th>\n",
       "      <th></th>\n",
       "      <th></th>\n",
       "      <th></th>\n",
       "      <th></th>\n",
       "      <th></th>\n",
       "      <th></th>\n",
       "      <th></th>\n",
       "      <th></th>\n",
       "      <th></th>\n",
       "      <th></th>\n",
       "      <th></th>\n",
       "      <th></th>\n",
       "      <th></th>\n",
       "      <th></th>\n",
       "    </tr>\n",
       "  </thead>\n",
       "  <tbody>\n",
       "    <tr>\n",
       "      <th>1</th>\n",
       "      <td>0</td>\n",
       "      <td>0</td>\n",
       "      <td>0</td>\n",
       "      <td>0</td>\n",
       "      <td>0</td>\n",
       "      <td>0</td>\n",
       "      <td>0</td>\n",
       "      <td>0</td>\n",
       "      <td>0</td>\n",
       "      <td>0</td>\n",
       "      <td>...</td>\n",
       "      <td>0</td>\n",
       "      <td>0</td>\n",
       "      <td>1</td>\n",
       "      <td>0</td>\n",
       "      <td>1</td>\n",
       "      <td>0</td>\n",
       "      <td>0</td>\n",
       "      <td>0</td>\n",
       "      <td>0</td>\n",
       "      <td>0</td>\n",
       "    </tr>\n",
       "    <tr>\n",
       "      <th>2</th>\n",
       "      <td>0</td>\n",
       "      <td>0</td>\n",
       "      <td>0</td>\n",
       "      <td>0</td>\n",
       "      <td>0</td>\n",
       "      <td>0</td>\n",
       "      <td>0</td>\n",
       "      <td>0</td>\n",
       "      <td>0</td>\n",
       "      <td>0</td>\n",
       "      <td>...</td>\n",
       "      <td>0</td>\n",
       "      <td>0</td>\n",
       "      <td>0</td>\n",
       "      <td>0</td>\n",
       "      <td>0</td>\n",
       "      <td>0</td>\n",
       "      <td>0</td>\n",
       "      <td>0</td>\n",
       "      <td>0</td>\n",
       "      <td>0</td>\n",
       "    </tr>\n",
       "  </tbody>\n",
       "</table>\n",
       "<p>2 rows × 714 columns</p>\n",
       "</div>"
      ],
      "text/plain": [
       "article_id  0     2     4     8     9     12    14    15    16    18    ...  \\\n",
       "user_id                                                                 ...   \n",
       "1              0     0     0     0     0     0     0     0     0     0  ...   \n",
       "2              0     0     0     0     0     0     0     0     0     0  ...   \n",
       "\n",
       "article_id  1434  1435  1436  1437  1439  1440  1441  1442  1443  1444  \n",
       "user_id                                                                 \n",
       "1              0     0     1     0     1     0     0     0     0     0  \n",
       "2              0     0     0     0     0     0     0     0     0     0  \n",
       "\n",
       "[2 rows x 714 columns]"
      ]
     },
     "execution_count": 34,
     "metadata": {},
     "output_type": "execute_result"
    }
   ],
   "source": [
    "user_item.head(2)"
   ]
  },
  {
   "cell_type": "code",
   "execution_count": 35,
   "metadata": {},
   "outputs": [
    {
     "data": {
      "text/html": [
       "<div>\n",
       "<style scoped>\n",
       "    .dataframe tbody tr th:only-of-type {\n",
       "        vertical-align: middle;\n",
       "    }\n",
       "\n",
       "    .dataframe tbody tr th {\n",
       "        vertical-align: top;\n",
       "    }\n",
       "\n",
       "    .dataframe thead th {\n",
       "        text-align: right;\n",
       "    }\n",
       "</style>\n",
       "<table border=\"1\" class=\"dataframe\">\n",
       "  <thead>\n",
       "    <tr style=\"text-align: right;\">\n",
       "      <th></th>\n",
       "      <th>0</th>\n",
       "      <th>2</th>\n",
       "      <th>4</th>\n",
       "      <th>8</th>\n",
       "      <th>9</th>\n",
       "      <th>12</th>\n",
       "      <th>14</th>\n",
       "      <th>15</th>\n",
       "      <th>16</th>\n",
       "      <th>18</th>\n",
       "      <th>...</th>\n",
       "      <th>1434</th>\n",
       "      <th>1435</th>\n",
       "      <th>1436</th>\n",
       "      <th>1437</th>\n",
       "      <th>1439</th>\n",
       "      <th>1440</th>\n",
       "      <th>1441</th>\n",
       "      <th>1442</th>\n",
       "      <th>1443</th>\n",
       "      <th>1444</th>\n",
       "    </tr>\n",
       "  </thead>\n",
       "  <tbody>\n",
       "    <tr>\n",
       "      <th>0</th>\n",
       "      <td>0</td>\n",
       "      <td>0</td>\n",
       "      <td>0</td>\n",
       "      <td>0</td>\n",
       "      <td>0</td>\n",
       "      <td>0</td>\n",
       "      <td>0</td>\n",
       "      <td>0</td>\n",
       "      <td>0</td>\n",
       "      <td>0</td>\n",
       "      <td>...</td>\n",
       "      <td>0</td>\n",
       "      <td>0</td>\n",
       "      <td>1</td>\n",
       "      <td>0</td>\n",
       "      <td>1</td>\n",
       "      <td>0</td>\n",
       "      <td>0</td>\n",
       "      <td>0</td>\n",
       "      <td>0</td>\n",
       "      <td>0</td>\n",
       "    </tr>\n",
       "    <tr>\n",
       "      <th>1</th>\n",
       "      <td>0</td>\n",
       "      <td>0</td>\n",
       "      <td>0</td>\n",
       "      <td>0</td>\n",
       "      <td>0</td>\n",
       "      <td>0</td>\n",
       "      <td>0</td>\n",
       "      <td>0</td>\n",
       "      <td>0</td>\n",
       "      <td>0</td>\n",
       "      <td>...</td>\n",
       "      <td>0</td>\n",
       "      <td>0</td>\n",
       "      <td>0</td>\n",
       "      <td>0</td>\n",
       "      <td>0</td>\n",
       "      <td>0</td>\n",
       "      <td>0</td>\n",
       "      <td>0</td>\n",
       "      <td>0</td>\n",
       "      <td>0</td>\n",
       "    </tr>\n",
       "    <tr>\n",
       "      <th>2</th>\n",
       "      <td>0</td>\n",
       "      <td>0</td>\n",
       "      <td>0</td>\n",
       "      <td>0</td>\n",
       "      <td>0</td>\n",
       "      <td>1</td>\n",
       "      <td>0</td>\n",
       "      <td>0</td>\n",
       "      <td>0</td>\n",
       "      <td>0</td>\n",
       "      <td>...</td>\n",
       "      <td>0</td>\n",
       "      <td>0</td>\n",
       "      <td>1</td>\n",
       "      <td>0</td>\n",
       "      <td>0</td>\n",
       "      <td>0</td>\n",
       "      <td>0</td>\n",
       "      <td>0</td>\n",
       "      <td>0</td>\n",
       "      <td>0</td>\n",
       "    </tr>\n",
       "    <tr>\n",
       "      <th>3</th>\n",
       "      <td>0</td>\n",
       "      <td>0</td>\n",
       "      <td>0</td>\n",
       "      <td>0</td>\n",
       "      <td>0</td>\n",
       "      <td>0</td>\n",
       "      <td>0</td>\n",
       "      <td>0</td>\n",
       "      <td>0</td>\n",
       "      <td>0</td>\n",
       "      <td>...</td>\n",
       "      <td>0</td>\n",
       "      <td>0</td>\n",
       "      <td>0</td>\n",
       "      <td>0</td>\n",
       "      <td>0</td>\n",
       "      <td>0</td>\n",
       "      <td>0</td>\n",
       "      <td>0</td>\n",
       "      <td>0</td>\n",
       "      <td>0</td>\n",
       "    </tr>\n",
       "    <tr>\n",
       "      <th>4</th>\n",
       "      <td>0</td>\n",
       "      <td>0</td>\n",
       "      <td>0</td>\n",
       "      <td>0</td>\n",
       "      <td>0</td>\n",
       "      <td>0</td>\n",
       "      <td>0</td>\n",
       "      <td>0</td>\n",
       "      <td>0</td>\n",
       "      <td>0</td>\n",
       "      <td>...</td>\n",
       "      <td>0</td>\n",
       "      <td>0</td>\n",
       "      <td>0</td>\n",
       "      <td>0</td>\n",
       "      <td>0</td>\n",
       "      <td>0</td>\n",
       "      <td>0</td>\n",
       "      <td>0</td>\n",
       "      <td>0</td>\n",
       "      <td>0</td>\n",
       "    </tr>\n",
       "    <tr>\n",
       "      <th>...</th>\n",
       "      <td>...</td>\n",
       "      <td>...</td>\n",
       "      <td>...</td>\n",
       "      <td>...</td>\n",
       "      <td>...</td>\n",
       "      <td>...</td>\n",
       "      <td>...</td>\n",
       "      <td>...</td>\n",
       "      <td>...</td>\n",
       "      <td>...</td>\n",
       "      <td>...</td>\n",
       "      <td>...</td>\n",
       "      <td>...</td>\n",
       "      <td>...</td>\n",
       "      <td>...</td>\n",
       "      <td>...</td>\n",
       "      <td>...</td>\n",
       "      <td>...</td>\n",
       "      <td>...</td>\n",
       "      <td>...</td>\n",
       "      <td>...</td>\n",
       "    </tr>\n",
       "    <tr>\n",
       "      <th>5144</th>\n",
       "      <td>0</td>\n",
       "      <td>0</td>\n",
       "      <td>0</td>\n",
       "      <td>0</td>\n",
       "      <td>0</td>\n",
       "      <td>0</td>\n",
       "      <td>0</td>\n",
       "      <td>0</td>\n",
       "      <td>0</td>\n",
       "      <td>0</td>\n",
       "      <td>...</td>\n",
       "      <td>0</td>\n",
       "      <td>0</td>\n",
       "      <td>0</td>\n",
       "      <td>0</td>\n",
       "      <td>0</td>\n",
       "      <td>0</td>\n",
       "      <td>0</td>\n",
       "      <td>0</td>\n",
       "      <td>0</td>\n",
       "      <td>0</td>\n",
       "    </tr>\n",
       "    <tr>\n",
       "      <th>5145</th>\n",
       "      <td>0</td>\n",
       "      <td>0</td>\n",
       "      <td>0</td>\n",
       "      <td>0</td>\n",
       "      <td>0</td>\n",
       "      <td>0</td>\n",
       "      <td>0</td>\n",
       "      <td>0</td>\n",
       "      <td>0</td>\n",
       "      <td>0</td>\n",
       "      <td>...</td>\n",
       "      <td>0</td>\n",
       "      <td>0</td>\n",
       "      <td>0</td>\n",
       "      <td>0</td>\n",
       "      <td>0</td>\n",
       "      <td>0</td>\n",
       "      <td>0</td>\n",
       "      <td>0</td>\n",
       "      <td>0</td>\n",
       "      <td>0</td>\n",
       "    </tr>\n",
       "    <tr>\n",
       "      <th>5146</th>\n",
       "      <td>0</td>\n",
       "      <td>0</td>\n",
       "      <td>0</td>\n",
       "      <td>0</td>\n",
       "      <td>0</td>\n",
       "      <td>0</td>\n",
       "      <td>0</td>\n",
       "      <td>0</td>\n",
       "      <td>0</td>\n",
       "      <td>0</td>\n",
       "      <td>...</td>\n",
       "      <td>0</td>\n",
       "      <td>0</td>\n",
       "      <td>0</td>\n",
       "      <td>0</td>\n",
       "      <td>0</td>\n",
       "      <td>0</td>\n",
       "      <td>0</td>\n",
       "      <td>0</td>\n",
       "      <td>0</td>\n",
       "      <td>0</td>\n",
       "    </tr>\n",
       "    <tr>\n",
       "      <th>5147</th>\n",
       "      <td>0</td>\n",
       "      <td>0</td>\n",
       "      <td>0</td>\n",
       "      <td>0</td>\n",
       "      <td>0</td>\n",
       "      <td>0</td>\n",
       "      <td>0</td>\n",
       "      <td>0</td>\n",
       "      <td>0</td>\n",
       "      <td>0</td>\n",
       "      <td>...</td>\n",
       "      <td>0</td>\n",
       "      <td>0</td>\n",
       "      <td>0</td>\n",
       "      <td>0</td>\n",
       "      <td>0</td>\n",
       "      <td>0</td>\n",
       "      <td>0</td>\n",
       "      <td>0</td>\n",
       "      <td>0</td>\n",
       "      <td>0</td>\n",
       "    </tr>\n",
       "    <tr>\n",
       "      <th>5148</th>\n",
       "      <td>0</td>\n",
       "      <td>0</td>\n",
       "      <td>0</td>\n",
       "      <td>0</td>\n",
       "      <td>0</td>\n",
       "      <td>0</td>\n",
       "      <td>0</td>\n",
       "      <td>0</td>\n",
       "      <td>1</td>\n",
       "      <td>0</td>\n",
       "      <td>...</td>\n",
       "      <td>0</td>\n",
       "      <td>0</td>\n",
       "      <td>0</td>\n",
       "      <td>0</td>\n",
       "      <td>0</td>\n",
       "      <td>0</td>\n",
       "      <td>0</td>\n",
       "      <td>0</td>\n",
       "      <td>0</td>\n",
       "      <td>0</td>\n",
       "    </tr>\n",
       "  </tbody>\n",
       "</table>\n",
       "<p>5149 rows × 714 columns</p>\n",
       "</div>"
      ],
      "text/plain": [
       "      0     2     4     8     9     12    14    15    16    18    ...  1434  \\\n",
       "0        0     0     0     0     0     0     0     0     0     0  ...     0   \n",
       "1        0     0     0     0     0     0     0     0     0     0  ...     0   \n",
       "2        0     0     0     0     0     1     0     0     0     0  ...     0   \n",
       "3        0     0     0     0     0     0     0     0     0     0  ...     0   \n",
       "4        0     0     0     0     0     0     0     0     0     0  ...     0   \n",
       "...    ...   ...   ...   ...   ...   ...   ...   ...   ...   ...  ...   ...   \n",
       "5144     0     0     0     0     0     0     0     0     0     0  ...     0   \n",
       "5145     0     0     0     0     0     0     0     0     0     0  ...     0   \n",
       "5146     0     0     0     0     0     0     0     0     0     0  ...     0   \n",
       "5147     0     0     0     0     0     0     0     0     0     0  ...     0   \n",
       "5148     0     0     0     0     0     0     0     0     1     0  ...     0   \n",
       "\n",
       "      1435  1436  1437  1439  1440  1441  1442  1443  1444  \n",
       "0        0     1     0     1     0     0     0     0     0  \n",
       "1        0     0     0     0     0     0     0     0     0  \n",
       "2        0     1     0     0     0     0     0     0     0  \n",
       "3        0     0     0     0     0     0     0     0     0  \n",
       "4        0     0     0     0     0     0     0     0     0  \n",
       "...    ...   ...   ...   ...   ...   ...   ...   ...   ...  \n",
       "5144     0     0     0     0     0     0     0     0     0  \n",
       "5145     0     0     0     0     0     0     0     0     0  \n",
       "5146     0     0     0     0     0     0     0     0     0  \n",
       "5147     0     0     0     0     0     0     0     0     0  \n",
       "5148     0     0     0     0     0     0     0     0     0  \n",
       "\n",
       "[5149 rows x 714 columns]"
      ]
     },
     "execution_count": 35,
     "metadata": {},
     "output_type": "execute_result"
    }
   ],
   "source": [
    "\n",
    "user_item.rename_axis(None, axis=1).reset_index(drop=True)\n",
    "#user_item.rename_axis(None)\n",
    "#user_item.reset_index(drop=True)"
   ]
  },
  {
   "cell_type": "code",
   "execution_count": 36,
   "metadata": {},
   "outputs": [
    {
     "data": {
      "text/plain": [
       "Index([   1,    2,    3,    4,    5,    6,    7,    8,    9,   10,\n",
       "       ...\n",
       "       5140, 5141, 5142, 5143, 5144, 5145, 5146, 5147, 5148, 5149],\n",
       "      dtype='int64', name='user_id', length=5149)"
      ]
     },
     "execution_count": 36,
     "metadata": {},
     "output_type": "execute_result"
    }
   ],
   "source": [
    "#article_id\n",
    "user_item.index"
   ]
  },
  {
   "cell_type": "code",
   "execution_count": 37,
   "metadata": {},
   "outputs": [
    {
     "data": {
      "text/plain": [
       "array([[0, 0, 0, ..., 0, 0, 0],\n",
       "       [0, 0, 0, ..., 0, 0, 0],\n",
       "       [0, 0, 0, ..., 0, 0, 0],\n",
       "       ...,\n",
       "       [0, 0, 0, ..., 0, 0, 0],\n",
       "       [0, 0, 0, ..., 0, 0, 0],\n",
       "       [0, 0, 0, ..., 0, 0, 0]])"
      ]
     },
     "execution_count": 37,
     "metadata": {},
     "output_type": "execute_result"
    }
   ],
   "source": [
    "np.array(user_item)"
   ]
  },
  {
   "cell_type": "code",
   "execution_count": 38,
   "metadata": {},
   "outputs": [],
   "source": [
    "user_content=np.array(user_item)"
   ]
  },
  {
   "cell_type": "code",
   "execution_count": 39,
   "metadata": {},
   "outputs": [
    {
     "data": {
      "text/plain": [
       "array([[36,  2,  6, ...,  0,  0,  0],\n",
       "       [ 2,  6,  1, ...,  0,  0,  0],\n",
       "       [ 6,  1, 40, ...,  0,  0,  0],\n",
       "       ...,\n",
       "       [ 0,  0,  0, ...,  1,  0,  0],\n",
       "       [ 0,  0,  0, ...,  0,  1,  0],\n",
       "       [ 0,  0,  0, ...,  0,  0,  1]])"
      ]
     },
     "execution_count": 39,
     "metadata": {},
     "output_type": "execute_result"
    }
   ],
   "source": [
    "user_content.dot(np.transpose(user_content))"
   ]
  },
  {
   "cell_type": "code",
   "execution_count": 40,
   "metadata": {},
   "outputs": [],
   "source": [
    "# Take the dot product to obtain a movie x movie matrix of similarities\n",
    "dot_prod_users = user_content.dot(np.transpose(user_content))"
   ]
  },
  {
   "cell_type": "code",
   "execution_count": 41,
   "metadata": {},
   "outputs": [],
   "source": [
    "# create the user-article matrix with 1's and 0's\n",
    "\n",
    "def create_user_item_matrix(df):\n",
    "    '''\n",
    "    INPUT:\n",
    "    df - pandas dataframe with article_id, title, user_id columns\n",
    "    \n",
    "    OUTPUT:\n",
    "    user_item - user item matrix \n",
    "    \n",
    "    Description:\n",
    "    Return a matrix with user ids as rows and article ids on the columns with 1 values where a user interacted with \n",
    "    an article and a 0 otherwise\n",
    "    '''\n",
    "    # Fill in the function here\n",
    "    user_item=df.groupby([\"user_id\",\"article_id\"])[\"user_id\"].value_counts().unstack()\n",
    "    #convert  user interaction  and article id to 0 and 1\n",
    "    user_item[user_item >= 1] = 1\n",
    "    user_item=user_item.fillna(0).astype(int)\n",
    "    \n",
    "    return user_item # return the user_item matrix \n",
    "\n",
    "user_item = create_user_item_matrix(df)"
   ]
  },
  {
   "cell_type": "code",
   "execution_count": 42,
   "metadata": {
    "scrolled": true
   },
   "outputs": [
    {
     "name": "stdout",
     "output_type": "stream",
     "text": [
      "You have passed our quick tests!  Please proceed!\n"
     ]
    }
   ],
   "source": [
    "## Tests: You should just need to run this cell.  Don't change the code.\n",
    "assert user_item.shape[0] == 5149, \"Oops!  The number of users in the user-article matrix doesn't look right.\"\n",
    "assert user_item.shape[1] == 714, \"Oops!  The number of articles in the user-article matrix doesn't look right.\"\n",
    "assert user_item.sum(axis=1)[1] == 36, \"Oops!  The number of articles seen by user 1 doesn't look right.\"\n",
    "print(\"You have passed our quick tests!  Please proceed!\")"
   ]
  },
  {
   "cell_type": "markdown",
   "metadata": {},
   "source": [
    "`2.` Complete the function below which should take a user_id and provide an ordered list of the most similar users to that user (from most similar to least similar).  The returned result should not contain the provided user_id, as we know that each user is similar to him/herself. Because the results for each user here are binary, it (perhaps) makes sense to compute similarity as the dot product of two users. \n",
    "\n",
    "Use the tests to test your function."
   ]
  },
  {
   "cell_type": "markdown",
   "metadata": {},
   "source": [
    "# Investigating Matrix Multiplication"
   ]
  },
  {
   "cell_type": "code",
   "execution_count": 43,
   "metadata": {},
   "outputs": [],
   "source": [
    "user_item=df.groupby([\"user_id\",\"article_id\"])[\"user_id\"].value_counts().unstack()"
   ]
  },
  {
   "cell_type": "code",
   "execution_count": 44,
   "metadata": {},
   "outputs": [],
   "source": [
    "#convert  user interaction  and article id to 0 and 1\n",
    "user_item[user_item >= 1] = 1\n",
    "user_item=user_item.fillna(0).astype(int)"
   ]
  },
  {
   "cell_type": "code",
   "execution_count": 45,
   "metadata": {},
   "outputs": [
    {
     "data": {
      "text/html": [
       "<div>\n",
       "<style scoped>\n",
       "    .dataframe tbody tr th:only-of-type {\n",
       "        vertical-align: middle;\n",
       "    }\n",
       "\n",
       "    .dataframe tbody tr th {\n",
       "        vertical-align: top;\n",
       "    }\n",
       "\n",
       "    .dataframe thead th {\n",
       "        text-align: right;\n",
       "    }\n",
       "</style>\n",
       "<table border=\"1\" class=\"dataframe\">\n",
       "  <thead>\n",
       "    <tr style=\"text-align: right;\">\n",
       "      <th>article_id</th>\n",
       "      <th>0</th>\n",
       "      <th>2</th>\n",
       "      <th>4</th>\n",
       "      <th>8</th>\n",
       "      <th>9</th>\n",
       "      <th>12</th>\n",
       "      <th>14</th>\n",
       "      <th>15</th>\n",
       "      <th>16</th>\n",
       "      <th>18</th>\n",
       "      <th>...</th>\n",
       "      <th>1434</th>\n",
       "      <th>1435</th>\n",
       "      <th>1436</th>\n",
       "      <th>1437</th>\n",
       "      <th>1439</th>\n",
       "      <th>1440</th>\n",
       "      <th>1441</th>\n",
       "      <th>1442</th>\n",
       "      <th>1443</th>\n",
       "      <th>1444</th>\n",
       "    </tr>\n",
       "    <tr>\n",
       "      <th>user_id</th>\n",
       "      <th></th>\n",
       "      <th></th>\n",
       "      <th></th>\n",
       "      <th></th>\n",
       "      <th></th>\n",
       "      <th></th>\n",
       "      <th></th>\n",
       "      <th></th>\n",
       "      <th></th>\n",
       "      <th></th>\n",
       "      <th></th>\n",
       "      <th></th>\n",
       "      <th></th>\n",
       "      <th></th>\n",
       "      <th></th>\n",
       "      <th></th>\n",
       "      <th></th>\n",
       "      <th></th>\n",
       "      <th></th>\n",
       "      <th></th>\n",
       "      <th></th>\n",
       "    </tr>\n",
       "  </thead>\n",
       "  <tbody>\n",
       "    <tr>\n",
       "      <th>1</th>\n",
       "      <td>0</td>\n",
       "      <td>0</td>\n",
       "      <td>0</td>\n",
       "      <td>0</td>\n",
       "      <td>0</td>\n",
       "      <td>0</td>\n",
       "      <td>0</td>\n",
       "      <td>0</td>\n",
       "      <td>0</td>\n",
       "      <td>0</td>\n",
       "      <td>...</td>\n",
       "      <td>0</td>\n",
       "      <td>0</td>\n",
       "      <td>1</td>\n",
       "      <td>0</td>\n",
       "      <td>1</td>\n",
       "      <td>0</td>\n",
       "      <td>0</td>\n",
       "      <td>0</td>\n",
       "      <td>0</td>\n",
       "      <td>0</td>\n",
       "    </tr>\n",
       "    <tr>\n",
       "      <th>2</th>\n",
       "      <td>0</td>\n",
       "      <td>0</td>\n",
       "      <td>0</td>\n",
       "      <td>0</td>\n",
       "      <td>0</td>\n",
       "      <td>0</td>\n",
       "      <td>0</td>\n",
       "      <td>0</td>\n",
       "      <td>0</td>\n",
       "      <td>0</td>\n",
       "      <td>...</td>\n",
       "      <td>0</td>\n",
       "      <td>0</td>\n",
       "      <td>0</td>\n",
       "      <td>0</td>\n",
       "      <td>0</td>\n",
       "      <td>0</td>\n",
       "      <td>0</td>\n",
       "      <td>0</td>\n",
       "      <td>0</td>\n",
       "      <td>0</td>\n",
       "    </tr>\n",
       "    <tr>\n",
       "      <th>3</th>\n",
       "      <td>0</td>\n",
       "      <td>0</td>\n",
       "      <td>0</td>\n",
       "      <td>0</td>\n",
       "      <td>0</td>\n",
       "      <td>1</td>\n",
       "      <td>0</td>\n",
       "      <td>0</td>\n",
       "      <td>0</td>\n",
       "      <td>0</td>\n",
       "      <td>...</td>\n",
       "      <td>0</td>\n",
       "      <td>0</td>\n",
       "      <td>1</td>\n",
       "      <td>0</td>\n",
       "      <td>0</td>\n",
       "      <td>0</td>\n",
       "      <td>0</td>\n",
       "      <td>0</td>\n",
       "      <td>0</td>\n",
       "      <td>0</td>\n",
       "    </tr>\n",
       "  </tbody>\n",
       "</table>\n",
       "<p>3 rows × 714 columns</p>\n",
       "</div>"
      ],
      "text/plain": [
       "article_id  0     2     4     8     9     12    14    15    16    18    ...  \\\n",
       "user_id                                                                 ...   \n",
       "1              0     0     0     0     0     0     0     0     0     0  ...   \n",
       "2              0     0     0     0     0     0     0     0     0     0  ...   \n",
       "3              0     0     0     0     0     1     0     0     0     0  ...   \n",
       "\n",
       "article_id  1434  1435  1436  1437  1439  1440  1441  1442  1443  1444  \n",
       "user_id                                                                 \n",
       "1              0     0     1     0     1     0     0     0     0     0  \n",
       "2              0     0     0     0     0     0     0     0     0     0  \n",
       "3              0     0     1     0     0     0     0     0     0     0  \n",
       "\n",
       "[3 rows x 714 columns]"
      ]
     },
     "execution_count": 45,
     "metadata": {},
     "output_type": "execute_result"
    }
   ],
   "source": [
    "user_item.head(3)"
   ]
  },
  {
   "cell_type": "code",
   "execution_count": 46,
   "metadata": {},
   "outputs": [
    {
     "data": {
      "text/html": [
       "<div>\n",
       "<style scoped>\n",
       "    .dataframe tbody tr th:only-of-type {\n",
       "        vertical-align: middle;\n",
       "    }\n",
       "\n",
       "    .dataframe tbody tr th {\n",
       "        vertical-align: top;\n",
       "    }\n",
       "\n",
       "    .dataframe thead th {\n",
       "        text-align: right;\n",
       "    }\n",
       "</style>\n",
       "<table border=\"1\" class=\"dataframe\">\n",
       "  <thead>\n",
       "    <tr style=\"text-align: right;\">\n",
       "      <th></th>\n",
       "      <th>0</th>\n",
       "      <th>2</th>\n",
       "      <th>4</th>\n",
       "      <th>8</th>\n",
       "      <th>9</th>\n",
       "      <th>12</th>\n",
       "      <th>14</th>\n",
       "      <th>15</th>\n",
       "      <th>16</th>\n",
       "      <th>18</th>\n",
       "      <th>...</th>\n",
       "      <th>1434</th>\n",
       "      <th>1435</th>\n",
       "      <th>1436</th>\n",
       "      <th>1437</th>\n",
       "      <th>1439</th>\n",
       "      <th>1440</th>\n",
       "      <th>1441</th>\n",
       "      <th>1442</th>\n",
       "      <th>1443</th>\n",
       "      <th>1444</th>\n",
       "    </tr>\n",
       "  </thead>\n",
       "  <tbody>\n",
       "    <tr>\n",
       "      <th>0</th>\n",
       "      <td>0</td>\n",
       "      <td>0</td>\n",
       "      <td>0</td>\n",
       "      <td>0</td>\n",
       "      <td>0</td>\n",
       "      <td>0</td>\n",
       "      <td>0</td>\n",
       "      <td>0</td>\n",
       "      <td>0</td>\n",
       "      <td>0</td>\n",
       "      <td>...</td>\n",
       "      <td>0</td>\n",
       "      <td>0</td>\n",
       "      <td>1</td>\n",
       "      <td>0</td>\n",
       "      <td>1</td>\n",
       "      <td>0</td>\n",
       "      <td>0</td>\n",
       "      <td>0</td>\n",
       "      <td>0</td>\n",
       "      <td>0</td>\n",
       "    </tr>\n",
       "    <tr>\n",
       "      <th>1</th>\n",
       "      <td>0</td>\n",
       "      <td>0</td>\n",
       "      <td>0</td>\n",
       "      <td>0</td>\n",
       "      <td>0</td>\n",
       "      <td>0</td>\n",
       "      <td>0</td>\n",
       "      <td>0</td>\n",
       "      <td>0</td>\n",
       "      <td>0</td>\n",
       "      <td>...</td>\n",
       "      <td>0</td>\n",
       "      <td>0</td>\n",
       "      <td>0</td>\n",
       "      <td>0</td>\n",
       "      <td>0</td>\n",
       "      <td>0</td>\n",
       "      <td>0</td>\n",
       "      <td>0</td>\n",
       "      <td>0</td>\n",
       "      <td>0</td>\n",
       "    </tr>\n",
       "    <tr>\n",
       "      <th>2</th>\n",
       "      <td>0</td>\n",
       "      <td>0</td>\n",
       "      <td>0</td>\n",
       "      <td>0</td>\n",
       "      <td>0</td>\n",
       "      <td>1</td>\n",
       "      <td>0</td>\n",
       "      <td>0</td>\n",
       "      <td>0</td>\n",
       "      <td>0</td>\n",
       "      <td>...</td>\n",
       "      <td>0</td>\n",
       "      <td>0</td>\n",
       "      <td>1</td>\n",
       "      <td>0</td>\n",
       "      <td>0</td>\n",
       "      <td>0</td>\n",
       "      <td>0</td>\n",
       "      <td>0</td>\n",
       "      <td>0</td>\n",
       "      <td>0</td>\n",
       "    </tr>\n",
       "    <tr>\n",
       "      <th>3</th>\n",
       "      <td>0</td>\n",
       "      <td>0</td>\n",
       "      <td>0</td>\n",
       "      <td>0</td>\n",
       "      <td>0</td>\n",
       "      <td>0</td>\n",
       "      <td>0</td>\n",
       "      <td>0</td>\n",
       "      <td>0</td>\n",
       "      <td>0</td>\n",
       "      <td>...</td>\n",
       "      <td>0</td>\n",
       "      <td>0</td>\n",
       "      <td>0</td>\n",
       "      <td>0</td>\n",
       "      <td>0</td>\n",
       "      <td>0</td>\n",
       "      <td>0</td>\n",
       "      <td>0</td>\n",
       "      <td>0</td>\n",
       "      <td>0</td>\n",
       "    </tr>\n",
       "    <tr>\n",
       "      <th>4</th>\n",
       "      <td>0</td>\n",
       "      <td>0</td>\n",
       "      <td>0</td>\n",
       "      <td>0</td>\n",
       "      <td>0</td>\n",
       "      <td>0</td>\n",
       "      <td>0</td>\n",
       "      <td>0</td>\n",
       "      <td>0</td>\n",
       "      <td>0</td>\n",
       "      <td>...</td>\n",
       "      <td>0</td>\n",
       "      <td>0</td>\n",
       "      <td>0</td>\n",
       "      <td>0</td>\n",
       "      <td>0</td>\n",
       "      <td>0</td>\n",
       "      <td>0</td>\n",
       "      <td>0</td>\n",
       "      <td>0</td>\n",
       "      <td>0</td>\n",
       "    </tr>\n",
       "    <tr>\n",
       "      <th>...</th>\n",
       "      <td>...</td>\n",
       "      <td>...</td>\n",
       "      <td>...</td>\n",
       "      <td>...</td>\n",
       "      <td>...</td>\n",
       "      <td>...</td>\n",
       "      <td>...</td>\n",
       "      <td>...</td>\n",
       "      <td>...</td>\n",
       "      <td>...</td>\n",
       "      <td>...</td>\n",
       "      <td>...</td>\n",
       "      <td>...</td>\n",
       "      <td>...</td>\n",
       "      <td>...</td>\n",
       "      <td>...</td>\n",
       "      <td>...</td>\n",
       "      <td>...</td>\n",
       "      <td>...</td>\n",
       "      <td>...</td>\n",
       "      <td>...</td>\n",
       "    </tr>\n",
       "    <tr>\n",
       "      <th>5144</th>\n",
       "      <td>0</td>\n",
       "      <td>0</td>\n",
       "      <td>0</td>\n",
       "      <td>0</td>\n",
       "      <td>0</td>\n",
       "      <td>0</td>\n",
       "      <td>0</td>\n",
       "      <td>0</td>\n",
       "      <td>0</td>\n",
       "      <td>0</td>\n",
       "      <td>...</td>\n",
       "      <td>0</td>\n",
       "      <td>0</td>\n",
       "      <td>0</td>\n",
       "      <td>0</td>\n",
       "      <td>0</td>\n",
       "      <td>0</td>\n",
       "      <td>0</td>\n",
       "      <td>0</td>\n",
       "      <td>0</td>\n",
       "      <td>0</td>\n",
       "    </tr>\n",
       "    <tr>\n",
       "      <th>5145</th>\n",
       "      <td>0</td>\n",
       "      <td>0</td>\n",
       "      <td>0</td>\n",
       "      <td>0</td>\n",
       "      <td>0</td>\n",
       "      <td>0</td>\n",
       "      <td>0</td>\n",
       "      <td>0</td>\n",
       "      <td>0</td>\n",
       "      <td>0</td>\n",
       "      <td>...</td>\n",
       "      <td>0</td>\n",
       "      <td>0</td>\n",
       "      <td>0</td>\n",
       "      <td>0</td>\n",
       "      <td>0</td>\n",
       "      <td>0</td>\n",
       "      <td>0</td>\n",
       "      <td>0</td>\n",
       "      <td>0</td>\n",
       "      <td>0</td>\n",
       "    </tr>\n",
       "    <tr>\n",
       "      <th>5146</th>\n",
       "      <td>0</td>\n",
       "      <td>0</td>\n",
       "      <td>0</td>\n",
       "      <td>0</td>\n",
       "      <td>0</td>\n",
       "      <td>0</td>\n",
       "      <td>0</td>\n",
       "      <td>0</td>\n",
       "      <td>0</td>\n",
       "      <td>0</td>\n",
       "      <td>...</td>\n",
       "      <td>0</td>\n",
       "      <td>0</td>\n",
       "      <td>0</td>\n",
       "      <td>0</td>\n",
       "      <td>0</td>\n",
       "      <td>0</td>\n",
       "      <td>0</td>\n",
       "      <td>0</td>\n",
       "      <td>0</td>\n",
       "      <td>0</td>\n",
       "    </tr>\n",
       "    <tr>\n",
       "      <th>5147</th>\n",
       "      <td>0</td>\n",
       "      <td>0</td>\n",
       "      <td>0</td>\n",
       "      <td>0</td>\n",
       "      <td>0</td>\n",
       "      <td>0</td>\n",
       "      <td>0</td>\n",
       "      <td>0</td>\n",
       "      <td>0</td>\n",
       "      <td>0</td>\n",
       "      <td>...</td>\n",
       "      <td>0</td>\n",
       "      <td>0</td>\n",
       "      <td>0</td>\n",
       "      <td>0</td>\n",
       "      <td>0</td>\n",
       "      <td>0</td>\n",
       "      <td>0</td>\n",
       "      <td>0</td>\n",
       "      <td>0</td>\n",
       "      <td>0</td>\n",
       "    </tr>\n",
       "    <tr>\n",
       "      <th>5148</th>\n",
       "      <td>0</td>\n",
       "      <td>0</td>\n",
       "      <td>0</td>\n",
       "      <td>0</td>\n",
       "      <td>0</td>\n",
       "      <td>0</td>\n",
       "      <td>0</td>\n",
       "      <td>0</td>\n",
       "      <td>1</td>\n",
       "      <td>0</td>\n",
       "      <td>...</td>\n",
       "      <td>0</td>\n",
       "      <td>0</td>\n",
       "      <td>0</td>\n",
       "      <td>0</td>\n",
       "      <td>0</td>\n",
       "      <td>0</td>\n",
       "      <td>0</td>\n",
       "      <td>0</td>\n",
       "      <td>0</td>\n",
       "      <td>0</td>\n",
       "    </tr>\n",
       "  </tbody>\n",
       "</table>\n",
       "<p>5149 rows × 714 columns</p>\n",
       "</div>"
      ],
      "text/plain": [
       "      0     2     4     8     9     12    14    15    16    18    ...  1434  \\\n",
       "0        0     0     0     0     0     0     0     0     0     0  ...     0   \n",
       "1        0     0     0     0     0     0     0     0     0     0  ...     0   \n",
       "2        0     0     0     0     0     1     0     0     0     0  ...     0   \n",
       "3        0     0     0     0     0     0     0     0     0     0  ...     0   \n",
       "4        0     0     0     0     0     0     0     0     0     0  ...     0   \n",
       "...    ...   ...   ...   ...   ...   ...   ...   ...   ...   ...  ...   ...   \n",
       "5144     0     0     0     0     0     0     0     0     0     0  ...     0   \n",
       "5145     0     0     0     0     0     0     0     0     0     0  ...     0   \n",
       "5146     0     0     0     0     0     0     0     0     0     0  ...     0   \n",
       "5147     0     0     0     0     0     0     0     0     0     0  ...     0   \n",
       "5148     0     0     0     0     0     0     0     0     1     0  ...     0   \n",
       "\n",
       "      1435  1436  1437  1439  1440  1441  1442  1443  1444  \n",
       "0        0     1     0     1     0     0     0     0     0  \n",
       "1        0     0     0     0     0     0     0     0     0  \n",
       "2        0     1     0     0     0     0     0     0     0  \n",
       "3        0     0     0     0     0     0     0     0     0  \n",
       "4        0     0     0     0     0     0     0     0     0  \n",
       "...    ...   ...   ...   ...   ...   ...   ...   ...   ...  \n",
       "5144     0     0     0     0     0     0     0     0     0  \n",
       "5145     0     0     0     0     0     0     0     0     0  \n",
       "5146     0     0     0     0     0     0     0     0     0  \n",
       "5147     0     0     0     0     0     0     0     0     0  \n",
       "5148     0     0     0     0     0     0     0     0     0  \n",
       "\n",
       "[5149 rows x 714 columns]"
      ]
     },
     "execution_count": 46,
     "metadata": {},
     "output_type": "execute_result"
    }
   ],
   "source": [
    "\n",
    "user_item.rename_axis(None, axis=1).reset_index(drop=True)\n",
    "#user_item.rename_axis(None)\n",
    "#user_item.reset_index(drop=True)"
   ]
  },
  {
   "cell_type": "code",
   "execution_count": 47,
   "metadata": {},
   "outputs": [
    {
     "data": {
      "text/plain": [
       "array([[0, 0, 0, ..., 0, 0, 0],\n",
       "       [0, 0, 0, ..., 0, 0, 0],\n",
       "       [0, 0, 0, ..., 0, 0, 0],\n",
       "       ...,\n",
       "       [0, 0, 0, ..., 0, 0, 0],\n",
       "       [0, 0, 0, ..., 0, 0, 0],\n",
       "       [0, 0, 0, ..., 0, 0, 0]])"
      ]
     },
     "execution_count": 47,
     "metadata": {},
     "output_type": "execute_result"
    }
   ],
   "source": [
    "np.array(user_item)"
   ]
  },
  {
   "cell_type": "code",
   "execution_count": 48,
   "metadata": {},
   "outputs": [],
   "source": [
    "user_content=np.array(user_item)"
   ]
  },
  {
   "cell_type": "code",
   "execution_count": 49,
   "metadata": {},
   "outputs": [
    {
     "data": {
      "text/plain": [
       "array([[36,  2,  6, ...,  0,  0,  0],\n",
       "       [ 2,  6,  1, ...,  0,  0,  0],\n",
       "       [ 6,  1, 40, ...,  0,  0,  0],\n",
       "       ...,\n",
       "       [ 0,  0,  0, ...,  1,  0,  0],\n",
       "       [ 0,  0,  0, ...,  0,  1,  0],\n",
       "       [ 0,  0,  0, ...,  0,  0,  1]])"
      ]
     },
     "execution_count": 49,
     "metadata": {},
     "output_type": "execute_result"
    }
   ],
   "source": [
    "user_content.dot(np.transpose(user_content))"
   ]
  },
  {
   "cell_type": "code",
   "execution_count": 50,
   "metadata": {},
   "outputs": [],
   "source": [
    "# Take the dot product to obtain a user x user matrix of similarities\n",
    "dot_prod_users = user_content.dot(np.transpose(user_content))"
   ]
  },
  {
   "cell_type": "code",
   "execution_count": 51,
   "metadata": {
    "scrolled": true
   },
   "outputs": [],
   "source": [
    "\n",
    "# compute similarity of each user to the provided user\n",
    "dot_prod_users = user_item.dot(np.transpose(user_item))\n",
    "# sort by similarity\n",
    "sim_users = dot_prod_users[69].sort_values(ascending = False)\n",
    "sim_users=sim_users[sim_users>=1]\n",
    "# create list of just the ids\n",
    "most_similar_users = sim_users.index.tolist()\n",
    "# remove the own user's id\n",
    "most_similar_users.remove(69)"
   ]
  },
  {
   "cell_type": "code",
   "execution_count": 52,
   "metadata": {},
   "outputs": [
    {
     "data": {
      "text/plain": [
       "user_id\n",
       "69      28\n",
       "3879    27\n",
       "23      14\n",
       "3782    14\n",
       "98      13\n",
       "        ..\n",
       "635      1\n",
       "3102     1\n",
       "663      1\n",
       "1660     1\n",
       "2992     1\n",
       "Name: 69, Length: 2231, dtype: int32"
      ]
     },
     "execution_count": 52,
     "metadata": {},
     "output_type": "execute_result"
    }
   ],
   "source": [
    "sim_users"
   ]
  },
  {
   "cell_type": "code",
   "execution_count": 53,
   "metadata": {},
   "outputs": [
    {
     "data": {
      "text/plain": [
       "user_id\n",
       "1       36\n",
       "3933    35\n",
       "23      17\n",
       "3782    17\n",
       "203     15\n",
       "        ..\n",
       "2326     0\n",
       "2327     0\n",
       "2328     0\n",
       "2329     0\n",
       "5149     0\n",
       "Name: 1, Length: 5149, dtype: int32"
      ]
     },
     "execution_count": 53,
     "metadata": {},
     "output_type": "execute_result"
    }
   ],
   "source": [
    "dot_prod_users[1].sort_values(ascending = False)"
   ]
  },
  {
   "cell_type": "code",
   "execution_count": 54,
   "metadata": {},
   "outputs": [],
   "source": [
    "def find_similar_users(user_id, user_item=user_item):\n",
    "    '''\n",
    "    INPUT:\n",
    "    user_id - (int) a user_id\n",
    "    user_item - (pandas dataframe) matrix of users by articles: \n",
    "                1's when a user has interacted with an article, 0 otherwise\n",
    "    \n",
    "    OUTPUT:\n",
    "    similar_users - (list) an ordered list where the closest users (largest dot product users)\n",
    "                    are listed first\n",
    "    \n",
    "    Description:\n",
    "    Computes the similarity of every pair of users based on the dot product\n",
    "    Returns an ordered\n",
    "    \n",
    "    '''\n",
    "\n",
    "    # compute similarity of each user to the provided user\n",
    "    dot_prod_users = user_item.dot(np.transpose(user_item))\n",
    "    # sort by similarity\n",
    "    sim_users = dot_prod_users[user_id].sort_values(ascending = False)\n",
    "    sim_users=sim_users[sim_users>=1]\n",
    "    # create list of just the ids\n",
    "    most_similar_users = sim_users.index.tolist()\n",
    "    # remove the own user's id\n",
    "    most_similar_users.remove(user_id)\n",
    "       \n",
    "    return most_similar_users # return a list of the users in order from most to least similar\n",
    "        "
   ]
  },
  {
   "cell_type": "code",
   "execution_count": 55,
   "metadata": {},
   "outputs": [
    {
     "name": "stdout",
     "output_type": "stream",
     "text": [
      "The 10 most similar users to user 1 are: [3933, 23, 3782, 203, 4459, 3870, 131, 4201, 46, 5041]\n",
      "The 5 most similar users to user 3933 are: [1, 23, 3782, 203, 4459]\n",
      "The 3 most similar users to user 46 are: [4201, 3782, 23]\n"
     ]
    }
   ],
   "source": [
    "# Do a spot check of your function\n",
    "print(\"The 10 most similar users to user 1 are: {}\".format(find_similar_users(1)[:10]))\n",
    "print(\"The 5 most similar users to user 3933 are: {}\".format(find_similar_users(3933)[:5]))\n",
    "print(\"The 3 most similar users to user 46 are: {}\".format(find_similar_users(46)[:3]))"
   ]
  },
  {
   "cell_type": "markdown",
   "metadata": {},
   "source": [
    "`3.` Now that you have a function that provides the most similar users to each user, you will want to use these users to find articles you can recommend.  Complete the functions below to return the articles you would recommend to each user. "
   ]
  },
  {
   "cell_type": "code",
   "execution_count": 328,
   "metadata": {},
   "outputs": [
    {
     "data": {
      "text/html": [
       "<div>\n",
       "<style scoped>\n",
       "    .dataframe tbody tr th:only-of-type {\n",
       "        vertical-align: middle;\n",
       "    }\n",
       "\n",
       "    .dataframe tbody tr th {\n",
       "        vertical-align: top;\n",
       "    }\n",
       "\n",
       "    .dataframe thead th {\n",
       "        text-align: right;\n",
       "    }\n",
       "</style>\n",
       "<table border=\"1\" class=\"dataframe\">\n",
       "  <thead>\n",
       "    <tr style=\"text-align: right;\">\n",
       "      <th>article_id</th>\n",
       "      <th>0</th>\n",
       "      <th>2</th>\n",
       "      <th>4</th>\n",
       "      <th>8</th>\n",
       "      <th>9</th>\n",
       "      <th>12</th>\n",
       "      <th>14</th>\n",
       "      <th>15</th>\n",
       "      <th>16</th>\n",
       "      <th>18</th>\n",
       "      <th>...</th>\n",
       "      <th>1434</th>\n",
       "      <th>1435</th>\n",
       "      <th>1436</th>\n",
       "      <th>1437</th>\n",
       "      <th>1439</th>\n",
       "      <th>1440</th>\n",
       "      <th>1441</th>\n",
       "      <th>1442</th>\n",
       "      <th>1443</th>\n",
       "      <th>1444</th>\n",
       "    </tr>\n",
       "    <tr>\n",
       "      <th>user_id</th>\n",
       "      <th></th>\n",
       "      <th></th>\n",
       "      <th></th>\n",
       "      <th></th>\n",
       "      <th></th>\n",
       "      <th></th>\n",
       "      <th></th>\n",
       "      <th></th>\n",
       "      <th></th>\n",
       "      <th></th>\n",
       "      <th></th>\n",
       "      <th></th>\n",
       "      <th></th>\n",
       "      <th></th>\n",
       "      <th></th>\n",
       "      <th></th>\n",
       "      <th></th>\n",
       "      <th></th>\n",
       "      <th></th>\n",
       "      <th></th>\n",
       "      <th></th>\n",
       "    </tr>\n",
       "  </thead>\n",
       "  <tbody>\n",
       "    <tr>\n",
       "      <th>1</th>\n",
       "      <td>0</td>\n",
       "      <td>0</td>\n",
       "      <td>0</td>\n",
       "      <td>0</td>\n",
       "      <td>0</td>\n",
       "      <td>0</td>\n",
       "      <td>0</td>\n",
       "      <td>0</td>\n",
       "      <td>0</td>\n",
       "      <td>0</td>\n",
       "      <td>...</td>\n",
       "      <td>0</td>\n",
       "      <td>0</td>\n",
       "      <td>1</td>\n",
       "      <td>0</td>\n",
       "      <td>1</td>\n",
       "      <td>0</td>\n",
       "      <td>0</td>\n",
       "      <td>0</td>\n",
       "      <td>0</td>\n",
       "      <td>0</td>\n",
       "    </tr>\n",
       "    <tr>\n",
       "      <th>2</th>\n",
       "      <td>0</td>\n",
       "      <td>0</td>\n",
       "      <td>0</td>\n",
       "      <td>0</td>\n",
       "      <td>0</td>\n",
       "      <td>0</td>\n",
       "      <td>0</td>\n",
       "      <td>0</td>\n",
       "      <td>0</td>\n",
       "      <td>0</td>\n",
       "      <td>...</td>\n",
       "      <td>0</td>\n",
       "      <td>0</td>\n",
       "      <td>0</td>\n",
       "      <td>0</td>\n",
       "      <td>0</td>\n",
       "      <td>0</td>\n",
       "      <td>0</td>\n",
       "      <td>0</td>\n",
       "      <td>0</td>\n",
       "      <td>0</td>\n",
       "    </tr>\n",
       "    <tr>\n",
       "      <th>3</th>\n",
       "      <td>0</td>\n",
       "      <td>0</td>\n",
       "      <td>0</td>\n",
       "      <td>0</td>\n",
       "      <td>0</td>\n",
       "      <td>1</td>\n",
       "      <td>0</td>\n",
       "      <td>0</td>\n",
       "      <td>0</td>\n",
       "      <td>0</td>\n",
       "      <td>...</td>\n",
       "      <td>0</td>\n",
       "      <td>0</td>\n",
       "      <td>1</td>\n",
       "      <td>0</td>\n",
       "      <td>0</td>\n",
       "      <td>0</td>\n",
       "      <td>0</td>\n",
       "      <td>0</td>\n",
       "      <td>0</td>\n",
       "      <td>0</td>\n",
       "    </tr>\n",
       "    <tr>\n",
       "      <th>4</th>\n",
       "      <td>0</td>\n",
       "      <td>0</td>\n",
       "      <td>0</td>\n",
       "      <td>0</td>\n",
       "      <td>0</td>\n",
       "      <td>0</td>\n",
       "      <td>0</td>\n",
       "      <td>0</td>\n",
       "      <td>0</td>\n",
       "      <td>0</td>\n",
       "      <td>...</td>\n",
       "      <td>0</td>\n",
       "      <td>0</td>\n",
       "      <td>0</td>\n",
       "      <td>0</td>\n",
       "      <td>0</td>\n",
       "      <td>0</td>\n",
       "      <td>0</td>\n",
       "      <td>0</td>\n",
       "      <td>0</td>\n",
       "      <td>0</td>\n",
       "    </tr>\n",
       "    <tr>\n",
       "      <th>5</th>\n",
       "      <td>0</td>\n",
       "      <td>0</td>\n",
       "      <td>0</td>\n",
       "      <td>0</td>\n",
       "      <td>0</td>\n",
       "      <td>0</td>\n",
       "      <td>0</td>\n",
       "      <td>0</td>\n",
       "      <td>0</td>\n",
       "      <td>0</td>\n",
       "      <td>...</td>\n",
       "      <td>0</td>\n",
       "      <td>0</td>\n",
       "      <td>0</td>\n",
       "      <td>0</td>\n",
       "      <td>0</td>\n",
       "      <td>0</td>\n",
       "      <td>0</td>\n",
       "      <td>0</td>\n",
       "      <td>0</td>\n",
       "      <td>0</td>\n",
       "    </tr>\n",
       "  </tbody>\n",
       "</table>\n",
       "<p>5 rows × 714 columns</p>\n",
       "</div>"
      ],
      "text/plain": [
       "article_id  0     2     4     8     9     12    14    15    16    18    ...  \\\n",
       "user_id                                                                 ...   \n",
       "1              0     0     0     0     0     0     0     0     0     0  ...   \n",
       "2              0     0     0     0     0     0     0     0     0     0  ...   \n",
       "3              0     0     0     0     0     1     0     0     0     0  ...   \n",
       "4              0     0     0     0     0     0     0     0     0     0  ...   \n",
       "5              0     0     0     0     0     0     0     0     0     0  ...   \n",
       "\n",
       "article_id  1434  1435  1436  1437  1439  1440  1441  1442  1443  1444  \n",
       "user_id                                                                 \n",
       "1              0     0     1     0     1     0     0     0     0     0  \n",
       "2              0     0     0     0     0     0     0     0     0     0  \n",
       "3              0     0     1     0     0     0     0     0     0     0  \n",
       "4              0     0     0     0     0     0     0     0     0     0  \n",
       "5              0     0     0     0     0     0     0     0     0     0  \n",
       "\n",
       "[5 rows x 714 columns]"
      ]
     },
     "execution_count": 328,
     "metadata": {},
     "output_type": "execute_result"
    }
   ],
   "source": [
    "user_item.head(5)"
   ]
  },
  {
   "cell_type": "code",
   "execution_count": 329,
   "metadata": {},
   "outputs": [],
   "source": [
    "#input user id from user_item\n",
    "#output article id's seen by user"
   ]
  },
  {
   "cell_type": "code",
   "execution_count": 330,
   "metadata": {},
   "outputs": [],
   "source": [
    "user_id=9"
   ]
  },
  {
   "cell_type": "code",
   "execution_count": 331,
   "metadata": {},
   "outputs": [
    {
     "name": "stdout",
     "output_type": "stream",
     "text": [
      "[14, 16, 28, 32, 40, 57, 108, 109, 132, 173, 251, 252, 253, 263, 268, 310, 353, 460, 651, 658, 723, 813, 864, 933, 939, 975, 1024, 1044, 1314, 1430]\n"
     ]
    }
   ],
   "source": [
    "#article_ids - (list) a list of the article ids seen by the user\n",
    "#don't delete\n",
    "#column names where on row [n] is equal to 1\n",
    "print(user_item.columns[user_item.loc[user_id]==1].tolist())"
   ]
  },
  {
   "cell_type": "code",
   "execution_count": 332,
   "metadata": {},
   "outputs": [
    {
     "name": "stdout",
     "output_type": "stream",
     "text": [
      "['how to map usa rivers using ggplot2', 'data science bowl 2017', 'this week in data science (may 2, 2017)']\n"
     ]
    }
   ],
   "source": [
    "#getting somewhere don't delete\n",
    "def get_article_names(df,article_ids):\n",
    "    df[\"article_id\"]=df[\"article_id\"].astype(float).astype(str)\n",
    "    article_names = df[df['article_id'].isin(article_ids)][\"title\"].drop_duplicates().tolist()\n",
    "    return article_names\n",
    "print(get_article_names(df,['98.0','8.0','76.0']))"
   ]
  },
  {
   "cell_type": "code",
   "execution_count": 333,
   "metadata": {},
   "outputs": [],
   "source": [
    "#don't delete\n",
    "#column names where on row [n] is equal to 1\n",
    "def get_user_articles(user_id, user_item=user_item ,df_content=df_content):\n",
    "    article_ids=user_item.columns[user_item.loc[user_id]==1].tolist()\n",
    "    article_names=df_content[df_content[\"article_id\"].isin(article_ids)][\"doc_full_name\"].drop_duplicates().tolist()\n",
    "    print(article_ids)\n",
    "    print(article_names)\n",
    "    return article_ids,article_names"
   ]
  },
  {
   "cell_type": "code",
   "execution_count": 334,
   "metadata": {},
   "outputs": [
    {
     "data": {
      "text/html": [
       "<div>\n",
       "<style scoped>\n",
       "    .dataframe tbody tr th:only-of-type {\n",
       "        vertical-align: middle;\n",
       "    }\n",
       "\n",
       "    .dataframe tbody tr th {\n",
       "        vertical-align: top;\n",
       "    }\n",
       "\n",
       "    .dataframe thead th {\n",
       "        text-align: right;\n",
       "    }\n",
       "</style>\n",
       "<table border=\"1\" class=\"dataframe\">\n",
       "  <thead>\n",
       "    <tr style=\"text-align: right;\">\n",
       "      <th></th>\n",
       "      <th>doc_body</th>\n",
       "      <th>doc_description</th>\n",
       "      <th>doc_full_name</th>\n",
       "      <th>doc_status</th>\n",
       "      <th>article_id</th>\n",
       "    </tr>\n",
       "  </thead>\n",
       "  <tbody>\n",
       "    <tr>\n",
       "      <th>0</th>\n",
       "      <td>Skip navigation Sign in SearchLoading...\\r\\n\\r...</td>\n",
       "      <td>Detect bad readings in real time using Python ...</td>\n",
       "      <td>Detect Malfunctioning IoT Sensors with Streami...</td>\n",
       "      <td>Live</td>\n",
       "      <td>0</td>\n",
       "    </tr>\n",
       "    <tr>\n",
       "      <th>1</th>\n",
       "      <td>No Free Hunch Navigation * kaggle.com\\r\\n\\r\\n ...</td>\n",
       "      <td>See the forest, see the trees. Here lies the c...</td>\n",
       "      <td>Communicating data science: A guide to present...</td>\n",
       "      <td>Live</td>\n",
       "      <td>1</td>\n",
       "    </tr>\n",
       "  </tbody>\n",
       "</table>\n",
       "</div>"
      ],
      "text/plain": [
       "                                            doc_body  \\\n",
       "0  Skip navigation Sign in SearchLoading...\\r\\n\\r...   \n",
       "1  No Free Hunch Navigation * kaggle.com\\r\\n\\r\\n ...   \n",
       "\n",
       "                                     doc_description  \\\n",
       "0  Detect bad readings in real time using Python ...   \n",
       "1  See the forest, see the trees. Here lies the c...   \n",
       "\n",
       "                                       doc_full_name doc_status  article_id  \n",
       "0  Detect Malfunctioning IoT Sensors with Streami...       Live           0  \n",
       "1  Communicating data science: A guide to present...       Live           1  "
      ]
     },
     "execution_count": 334,
     "metadata": {},
     "output_type": "execute_result"
    }
   ],
   "source": [
    "df_content.head(2)"
   ]
  },
  {
   "cell_type": "code",
   "execution_count": 335,
   "metadata": {},
   "outputs": [
    {
     "data": {
      "text/plain": [
       "[887, 1368, 1436]"
      ]
     },
     "execution_count": 335,
     "metadata": {},
     "output_type": "execute_result"
    }
   ],
   "source": [
    "user_id=1320\n",
    "article_ids=user_item.columns[user_item.loc[user_id]==1].tolist()\n",
    "article_ids"
   ]
  },
  {
   "cell_type": "code",
   "execution_count": 336,
   "metadata": {},
   "outputs": [
    {
     "name": "stdout",
     "output_type": "stream",
     "text": [
      "['Forgetting the Past to Learn the Future: Long Short-Term Memory Neural Networks for Time Series Prediction']\n"
     ]
    }
   ],
   "source": [
    "#article_names - (list) a list of article names associated with the list of article ids \n",
    "                    #(this is identified by the doc_full_name column in df_content)\n",
    "print(df_content[df_content[\"article_id\"].isin(article_ids)][\"doc_full_name\"].drop_duplicates().tolist())"
   ]
  },
  {
   "cell_type": "code",
   "execution_count": 337,
   "metadata": {},
   "outputs": [],
   "source": [
    "def get_article_names(article_ids, df=df):\n",
    "    '''\n",
    "    INPUT:\n",
    "    article_ids - (list) a list of article ids\n",
    "    df - (pandas dataframe) df as defined at the top of the notebook\n",
    "    \n",
    "    OUTPUT:\n",
    "    article_names - (list) a list of article names associated with the list of article ids \n",
    "                    (this is identified by the title column)\n",
    "    '''\n",
    "    # Your code here- complete\n",
    "    df[\"article_id\"]=df[\"article_id\"].astype(float).astype(str)\n",
    "    article_names = df[df['article_id'].isin(article_ids)][\"title\"].drop_duplicates().tolist()\n",
    "    \n",
    "    return article_names # Return the article names associated with list of article ids\n",
    "\n",
    "\n",
    "def get_user_articles(user_id, user_item=user_item):#i added df_content\n",
    "    '''\n",
    "    INPUT:\n",
    "    user_id - (int) a user id\n",
    "    user_item - (pandas dataframe) matrix of users by articles: \n",
    "                1's when a user has interacted with an article, 0 otherwise\n",
    "    \n",
    "    OUTPUT:\n",
    "    article_ids - (list) a list of the article ids seen by the user\n",
    "    article_names - (list) a list of article names associated with the list of article ids \n",
    "                    (this is identified by the doc_full_name column in df_content)\n",
    "    \n",
    "    Description:\n",
    "    Provides a list of the article_ids and article titles that have been seen by a user\n",
    "    '''\n",
    "    # Your code here- complete\n",
    "    #column names where on row [n] is equal to 1\n",
    "    article_ids=user_item.columns[user_item.loc[user_id]==1].astype(float).astype(str).tolist()\n",
    "    article_names = get_article_names(article_ids, df=df) #using function for function\n",
    "\n",
    "    \n",
    "    return article_ids, article_names # return the ids and names\n",
    "\n",
    "\n",
    "def user_user_recs(user_id, m=10):\n",
    "    '''\n",
    "    INPUT:\n",
    "    user_id - (int) a user id\n",
    "    m - (int) the number of recommendations you want for the user\n",
    "    \n",
    "    OUTPUT:\n",
    "    recs - (list) a list of recommendations for the user\n",
    "    \n",
    "    Description:\n",
    "    Loops through the users based on closeness to the input user_id\n",
    "    For each user - finds articles the user hasn't seen before and provides them as recs\n",
    "    Does this until m recommendations are found\n",
    "    \n",
    "    Notes:\n",
    "    Users who are the same closeness are chosen arbitrarily as the 'next' user\n",
    "    \n",
    "    For the user where the number of recommended articles starts below m \n",
    "    and ends exceeding m, the last items are chosen arbitrarily\n",
    "    \n",
    "    '''\n",
    "    # Your code here\n",
    "    seen_articles=get_user_articles(user_id)[0]\n",
    "    similar_user=find_similar_users(user_id)# a list of similar users\n",
    "\n",
    "    similar_user_articles_lists=[get_user_articles(user)[0] for user in similar_user]\n",
    "    #prints([0,4,6],[9,7,4])\n",
    "\n",
    "    similar_user_articles=sum(similar_user_articles_lists,[])\n",
    "    #prints([0,4,6,9,7,4])\n",
    "    \n",
    "    rec=[]\n",
    "\n",
    "    for i in similar_user_articles:\n",
    "        if i not in seen_articles:\n",
    "             rec.append(i)\n",
    "\n",
    "    watched=[]\n",
    "    #just to check articles common on user_id and close users\n",
    "    for i in seen_articles:\n",
    "        if i in similar_user_articles:\n",
    "             watched.append(i)\n",
    "\n",
    "    if len(rec)>m:#going to replace 10 with m\n",
    "        recs=rec[:m] \n",
    "\n",
    "\n",
    "    \n",
    "    print(f\" these are seen by both user and similar user : {watched}\")\n",
    "\n",
    "    \n",
    " \n",
    "    \n",
    "    \n",
    "\n",
    "    return recs # return your recommendations for this user_id\n",
    "    \n",
    "  "
   ]
  },
  {
   "cell_type": "code",
   "execution_count": 362,
   "metadata": {},
   "outputs": [
    {
     "name": "stdout",
     "output_type": "stream",
     "text": [
      " these are seen by both user and similar user : ['43.0', '109.0', '151.0', '268.0', '310.0', '329.0', '346.0', '390.0', '494.0', '525.0', '585.0', '626.0', '668.0', '732.0', '768.0', '910.0', '968.0', '981.0', '1052.0', '1170.0', '1183.0', '1185.0', '1232.0', '1293.0', '1305.0', '1363.0', '1368.0', '1391.0', '1400.0', '1406.0', '1427.0', '1429.0', '1430.0', '1431.0', '1436.0', '1439.0']\n"
     ]
    },
    {
     "data": {
      "text/plain": [
       "['got zip code data? prep it for analytics. – ibm watson data lab – medium',\n",
       " 'timeseries data analysis of iot events by using jupyter notebook',\n",
       " 'graph-based machine learning',\n",
       " 'using brunel in ipython/jupyter notebooks',\n",
       " 'experience iot with coursera',\n",
       " 'the 3 kinds of context: machine learning and the art of the frame',\n",
       " 'deep forest: towards an alternative to deep neural networks',\n",
       " 'this week in data science (april 18, 2017)',\n",
       " 'higher-order logistic regression for large datasets',\n",
       " 'using machine learning to predict parking difficulty']"
      ]
     },
     "execution_count": 362,
     "metadata": {},
     "output_type": "execute_result"
    }
   ],
   "source": [
    "# Check Results\n",
    "get_article_names(user_user_recs(1,10)) # Return 10 recommendations for user 1"
   ]
  },
  {
   "cell_type": "markdown",
   "metadata": {},
   "source": [
    "# Test Case A"
   ]
  },
  {
   "cell_type": "code",
   "execution_count": 384,
   "metadata": {},
   "outputs": [
    {
     "name": "stdout",
     "output_type": "stream",
     "text": [
      "['12.0', '14.0', '40.0', '74.0', '98.0', '120.0', '151.0', '152.0', '215.0', '223.0', '225.0', '230.0', '310.0', '314.0', '319.0', '349.0', '382.0', '390.0', '475.0', '656.0', '665.0', '723.0', '729.0', '766.0', '825.0', '957.0', '969.0', '1017.0', '1052.0', '1053.0', '1054.0', '1059.0', '1124.0', '1152.0', '1158.0', '1160.0', '1162.0', '1163.0', '1168.0', '1174.0', '1176.0', '1181.0', '1185.0', '1186.0', '1271.0', '1276.0', '1278.0', '1282.0', '1293.0', '1296.0', '1304.0', '1314.0', '1320.0', '1328.0', '1338.0', '1343.0', '1351.0', '1354.0', '1357.0', '1360.0', '1364.0', '1366.0', '1368.0', '1386.0', '1398.0', '1400.0', '1406.0', '1423.0', '1427.0', '1429.0', '1430.0', '1431.0', '1433.0', '1435.0', '1436.0']\n"
     ]
    }
   ],
   "source": [
    "seen_articles=get_user_articles(131)[0]\n",
    "print(seen_articles)"
   ]
  },
  {
   "cell_type": "code",
   "execution_count": 385,
   "metadata": {},
   "outputs": [
    {
     "name": "stdout",
     "output_type": "stream",
     "text": [
      "[87, 4706, 722, 288, 987, 3093, 924, 3818, 4336, 4837, 4137, 3214, 4809, 3701, 721, 1040, 4717, 3671, 760, 1059, 977, 1350, 1354, 950, 4595, 3436, 3482, 4427, 4197, 914, 3898, 656, 568, 2324, 3024, 3042, 204, 404, 563, 319, 23, 651, 3072, 3949, 4942, 205, 3782, 5138, 1162, 1365, 1398, 1167, 1396, 1375, 1387, 1185, 1172, 1355, 1395, 1361, 1230, 1209, 1216, 1222, 1227, 1347, 1307, 1289, 1284, 1276, 1261, 1399, 1247, 1244, 1240, 1232, 1, 1513, 1401, 2305, 1838, 1857, 1898, 1916, 1986, 1990, 2076, 2091, 2144, 2239, 2317, 1411, 2320, 2384, 2418, 2423, 2450, 2455, 2488, 2513, 2515, 2771, 1817, 1766, 1761, 1717, 1425, 1430, 1437, 1442, 1447, 1460, 1462, 1475, 1143, 1516, 1522, 1549, 1562, 1574, 1598, 1627, 1649, 1658, 1673, 1678, 1702, 1153, 1048, 1132, 723, 691, 693, 698, 706, 707, 709, 711, 718, 719, 727, 681, 729, 732, 733, 771, 773, 780, 784, 787, 791, 689, 673, 1126, 619, 454, 480, 532, 538, 542, 560, 585, 591, 598, 621, 672, 636, 638, 641, 642, 659, 662, 667, 668, 670, 794, 805, 814, 1033, 988, 990, 998, 1009, 1017, 1019, 1029, 1030, 1031, 1035, 820, 2800, 1070, 1071, 1079, 1081, 1099, 1105, 1107, 1123, 975, 973, 971, 970, 822, 839, 842, 845, 855, 869, 871, 882, 884, 890, 895, 912, 920, 926, 932, 933, 949, 957, 962, 2785, 3044, 2845, 4691, 4360, 4364, 4384, 4401, 4404, 4473, 4490, 4491, 4492, 4494, 4504, 4510, 4543, 4545, 4599, 4619, 4624, 4640, 4643, 4647, 4660, 4356, 4319, 4308, 4189, 4091, 4094, 4134, 4141, 4170, 4173, 4180, 4183, 4186, 4200, 4307, 4218, 4225, 4240, 4267, 4277, 4281, 4282, 4302, 4303, 4663, 4707, 4024, 4716, 4949, 4968, 4974, 4976, 4979, 4991, 5002, 5005, 5016, 5026, 5031, 5041, 5049, 5056, 5063, 5078, 5108, 5124, 5127, 5137, 5143, 4947, 4945, 4943, 4836, 4732, 4757, 4768, 4774, 4778, 4783, 4785, 4792, 4824, 4852, 4926, 4857, 4861, 4862, 4876, 4886, 4896, 4907, 4909, 4910, 4045, 4018, 2903, 3485, 3223, 3230, 3238, 3240, 3251, 3255, 3282, 3304, 3323, 3327, 3329, 3336, 3340, 3358, 3375, 3376, 3391, 3404, 3439, 3446, 3451, 3222, 3196, 3187, 434, 2924, 2926, 2935, 2948, 2959, 2975, 3005, 3006, 3007, 3046, 3177, 3067, 3101, 3104, 3112, 3124, 3144, 3155, 3166, 3172, 3483, 3487, 4016, 3499, 3717, 3718, 3740, 3741, 3748, 3758, 3760, 3764, 3768, 3775, 3801, 3830, 3834, 3870, 3872, 3879, 3884, 3906, 3916, 3966, 4004, 3713, 3710, 3705, 3603, 3504, 3513, 3520, 3535, 3540, 3553, 3569, 3578, 3581, 3604, 3697, 3607, 3611, 3615, 3616, 3627, 3640, 3651, 3687, 3688, 441, 5149, 28, 131, 138, 361, 418, 65, 15, 173, 360, 211, 58, 27, 95, 8, 235, 209, 111, 402, 125, 98, 249, 295, 169, 395, 120, 30, 345, 104, 195, 313, 166, 9, 49, 223, 273, 11, 320, 126, 220, 189, 268, 41, 21, 129, 383, 69]\n"
     ]
    }
   ],
   "source": [
    "#testing new idea of where i made an error\n",
    "similar_user=find_similar_users(678)# a list of similar users\n",
    "print(similar_user)\n"
   ]
  },
  {
   "cell_type": "code",
   "execution_count": 386,
   "metadata": {},
   "outputs": [
    {
     "name": "stdout",
     "output_type": "stream",
     "text": [
      "[['16.0', '33.0', '76.0', '98.0', '151.0', '164.0', '194.0', '213.0', '237.0', '260.0', '268.0', '278.0', '283.0', '422.0', '480.0', '557.0', '618.0', '730.0', '744.0', '968.0', '1014.0', '1025.0', '1044.0', '1048.0', '1054.0', '1160.0', '1277.0', '1293.0', '1429.0', '1431.0'], ['20.0', '33.0', '34.0', '68.0', '98.0', '110.0', '124.0', '151.0', '189.0', '202.0', '240.0', '263.0', '268.0', '349.0', '359.0', '415.0', '444.0', '462.0', '525.0', '542.0', '645.0', '681.0', '684.0', '692.0', '720.0', '812.0', '821.0', '878.0', '965.0', '967.0', '975.0', '1006.0', '1014.0', '1017.0', '1047.0', '1050.0', '1055.0', '1056.0', '1137.0', '1154.0', '1170.0', '1171.0', '1172.0', '1185.0', '1263.0', '1293.0', '1304.0', '1330.0', '1336.0', '1338.0', '1343.0', '1351.0', '1364.0', '1394.0', '1395.0', '1398.0', '1436.0'], ['16.0', '26.0', '32.0', '43.0', '51.0', '64.0', '78.0', '109.0', '116.0', '124.0', '151.0', '202.0', '260.0', '288.0', '381.0', '477.0', '547.0', '593.0', '825.0', '975.0', '1025.0', '1048.0', '1160.0', '1314.0', '1393.0', '1394.0', '1398.0', '1429.0', '1432.0'], ['20.0', '33.0', '34.0', '68.0', '98.0', '110.0', '124.0', '151.0', '189.0', '202.0', '240.0', '263.0', '268.0', '349.0', '353.0', '359.0', '415.0', '444.0', '462.0', '525.0', '542.0', '645.0', '681.0', '684.0', '692.0', '720.0', '812.0', '821.0', '878.0', '965.0', '967.0', '975.0', '1006.0', '1014.0', '1017.0', '1047.0', '1050.0', '1055.0', '1056.0', '1137.0', '1154.0', '1170.0', '1171.0', '1172.0', '1185.0', '1263.0', '1293.0', '1304.0', '1330.0', '1336.0', '1338.0', '1343.0', '1351.0', '1364.0', '1394.0', '1395.0', '1398.0', '1436.0'], ['8.0', '33.0', '110.0', '125.0', '151.0', '202.0', '268.0', '295.0', '422.0', '673.0', '681.0', '729.0', '882.0', '957.0', '1174.0', '1178.0', '1332.0', '1429.0'], ['33.0', '124.0', '151.0', '194.0', '202.0', '210.0', '349.0', '448.0', '470.0', '524.0', '795.0', '864.0', '957.0', '990.0', '1017.0', '1170.0', '1436.0'], ['33.0', '124.0', '125.0', '151.0', '194.0', '202.0', '349.0', '448.0', '470.0', '524.0', '617.0', '795.0', '864.0', '957.0', '990.0', '1017.0', '1048.0', '1170.0', '1436.0'], ['16.0', '33.0', '76.0', '98.0', '151.0', '164.0', '194.0', '213.0', '237.0', '260.0', '268.0', '278.0', '283.0', '422.0', '480.0', '557.0', '618.0', '730.0', '744.0', '968.0', '1014.0', '1025.0', '1044.0', '1048.0', '1054.0', '1160.0', '1277.0', '1293.0', '1429.0', '1431.0'], ['33.0', '110.0', '125.0', '151.0', '202.0', '268.0', '295.0', '422.0', '673.0', '681.0', '729.0', '882.0', '957.0', '1174.0', '1178.0', '1332.0', '1429.0'], ['16.0', '43.0', '124.0', '151.0', '223.0', '260.0', '510.0', '757.0', '795.0', '898.0', '1028.0', '1052.0', '1053.0', '1143.0', '1166.0', '1186.0', '1338.0', '1360.0', '1367.0', '1398.0', '1403.0', '1416.0', '1424.0', '1426.0'], ['16.0', '26.0', '32.0', '43.0', '51.0', '64.0', '78.0', '109.0', '116.0', '124.0', '151.0', '260.0', '288.0', '381.0', '477.0', '547.0', '593.0', '825.0', '975.0', '1025.0', '1048.0', '1160.0', '1314.0', '1393.0', '1394.0', '1398.0', '1432.0'], ['16.0', '151.0', '1330.0'], ['20.0', '116.0', '151.0', '202.0', '260.0', '373.0', '525.0', '665.0', '1184.0', '1336.0'], ['12.0', '33.0', '202.0'], ['50.0', '78.0', '109.0', '124.0', '125.0', '151.0', '202.0', '210.0', '330.0', '600.0', '682.0', '730.0', '975.0', '1025.0', '1160.0', '1286.0', '1330.0', '1391.0', '1424.0'], ['18.0', '32.0', '33.0', '162.0', '202.0', '237.0', '241.0', '260.0', '263.0', '350.0', '381.0', '390.0', '409.0', '415.0', '426.0', '593.0', '607.0', '610.0', '730.0', '764.0', '766.0', '864.0', '903.0', '957.0', '1016.0', '1042.0', '1178.0', '1183.0', '1299.0', '1336.0', '1351.0', '1363.0', '1387.0', '1427.0', '1431.0', '1435.0', '1439.0'], ['33.0', '151.0', '283.0', '422.0', '464.0', '600.0', '725.0', '821.0', '882.0', '1044.0', '1232.0', '1336.0'], ['151.0', '202.0', '1120.0', '1158.0', '1181.0', '1263.0', '1304.0', '1332.0', '1351.0', '1398.0', '1404.0', '1416.0', '1432.0'], ['16.0', '43.0', '124.0', '151.0', '223.0', '260.0', '510.0', '757.0', '795.0', '898.0', '1028.0', '1052.0', '1053.0', '1143.0', '1166.0', '1186.0', '1304.0', '1338.0', '1360.0', '1367.0', '1398.0', '1403.0', '1416.0', '1424.0', '1426.0'], ['16.0', '20.0', '98.0', '120.0', '151.0', '191.0', '194.0', '241.0', '260.0', '268.0', '314.0', '524.0', '559.0', '600.0', '730.0', '864.0', '933.0', '1016.0', '1017.0', '1025.0', '1028.0', '1048.0', '1165.0', '1176.0', '1274.0', '1282.0', '1293.0', '1305.0', '1350.0', '1351.0', '1354.0', '1364.0', '1395.0', '1398.0', '1429.0', '1436.0'], ['26.0', '33.0', '124.0', '151.0', '544.0', '1017.0', '1293.0', '1431.0'], ['16.0', '18.0', '151.0', '369.0', '477.0', '969.0', '1025.0', '1048.0', '1172.0', '1314.0', '1354.0', '1393.0', '1424.0', '1436.0'], ['33.0', '108.0', '151.0', '189.0', '617.0', '681.0', '959.0', '1047.0', '1054.0', '1431.0', '1436.0'], ['65.0', '108.0', '110.0', '151.0', '202.0', '241.0', '260.0', '369.0', '542.0', '681.0', '892.0', '1014.0', '1017.0', '1436.0'], ['16.0', '20.0', '98.0', '120.0', '151.0', '191.0', '194.0', '241.0', '253.0', '260.0', '268.0', '314.0', '524.0', '559.0', '600.0', '730.0', '864.0', '933.0', '1016.0', '1017.0', '1025.0', '1028.0', '1165.0', '1176.0', '1274.0', '1282.0', '1293.0', '1305.0', '1350.0', '1351.0', '1354.0', '1364.0', '1395.0', '1398.0', '1429.0', '1436.0'], ['151.0', '173.0', '189.0', '202.0', '369.0', '528.0', '600.0', '795.0', '1293.0', '1338.0', '1430.0'], ['26.0', '33.0', '124.0', '151.0', '544.0', '1017.0', '1431.0'], ['16.0', '26.0', '28.0', '116.0', '131.0', '138.0', '146.0', '151.0', '260.0', '314.0', '349.0', '381.0', '462.0', '525.0', '618.0', '645.0', '692.0', '788.0', '833.0', '962.0', '1017.0', '1052.0', '1160.0', '1181.0', '1282.0', '1304.0', '1336.0', '1354.0', '1403.0'], ['12.0', '151.0', '202.0', '398.0', '486.0', '658.0', '809.0', '1053.0', '1055.0', '1160.0', '1163.0', '1170.0', '1336.0', '1424.0', '1427.0'], ['33.0', '151.0', '283.0', '422.0', '464.0', '600.0', '725.0', '821.0', '882.0', '1044.0', '1053.0', '1232.0', '1336.0', '1369.0'], ['33.0', '51.0', '54.0', '124.0', '142.0', '189.0', '202.0', '223.0', '237.0', '241.0', '278.0', '302.0', '337.0', '349.0', '390.0', '524.0', '618.0', '766.0', '864.0', '871.0', '975.0', '1016.0', '1048.0', '1060.0', '1164.0', '1184.0', '1298.0', '1332.0', '1351.0', '1364.0', '1390.0', '1400.0', '1409.0', '1430.0', '1431.0', '1432.0', '1436.0'], ['12.0', '20.0', '26.0', '33.0', '40.0', '43.0', '74.0', '116.0', '124.0', '151.0', '164.0', '194.0', '241.0', '260.0', '268.0', '278.0', '316.0', '600.0', '723.0', '744.0', '812.0', '882.0', '891.0', '951.0', '969.0', '1035.0', '1048.0', '1170.0', '1171.0', '1172.0', '1330.0', '1336.0', '1351.0', '1429.0', '1431.0', '1436.0'], ['151.0', '202.0', '1120.0', '1158.0', '1181.0', '1263.0', '1304.0', '1320.0', '1332.0', '1351.0', '1398.0', '1404.0', '1416.0', '1432.0'], ['151.0', '202.0', '398.0', '486.0', '658.0', '681.0', '809.0', '1053.0', '1055.0', '1160.0', '1163.0', '1170.0', '1336.0', '1424.0', '1427.0'], ['12.0', '20.0', '26.0', '33.0', '43.0', '74.0', '116.0', '124.0', '151.0', '194.0', '241.0', '260.0', '268.0', '278.0', '316.0', '600.0', '744.0', '812.0', '882.0', '891.0', '969.0', '1035.0', '1048.0', '1170.0', '1171.0', '1172.0', '1330.0', '1336.0', '1351.0', '1429.0', '1431.0', '1436.0'], ['33.0', '108.0', '151.0', '173.0', '189.0', '617.0', '681.0', '959.0', '1054.0', '1431.0', '1436.0'], ['12.0', '14.0', '29.0', '33.0', '43.0', '51.0', '109.0', '111.0', '130.0', '142.0', '151.0', '153.0', '162.0', '221.0', '232.0', '237.0', '244.0', '253.0', '273.0', '302.0', '315.0', '316.0', '347.0', '379.0', '382.0', '390.0', '415.0', '464.0', '468.0', '491.0', '547.0', '607.0', '609.0', '692.0', '730.0', '761.0', '763.0', '813.0', '857.0', '858.0', '876.0', '880.0', '933.0', '939.0', '967.0', '981.0', '990.0', '1014.0', '1059.0', '1157.0', '1162.0', '1164.0', '1172.0', '1186.0', '1271.0', '1276.0', '1293.0', '1305.0', '1314.0', '1320.0', '1330.0', '1332.0', '1336.0', '1338.0', '1351.0', '1357.0', '1367.0', '1368.0', '1396.0', '1422.0', '1429.0', '1432.0'], ['16.0', '26.0', '116.0', '124.0', '131.0', '138.0', '146.0', '151.0', '260.0', '314.0', '349.0', '381.0', '462.0', '525.0', '618.0', '634.0', '645.0', '692.0', '788.0', '833.0', '962.0', '1017.0', '1052.0', '1160.0', '1181.0', '1282.0', '1304.0', '1336.0', '1354.0', '1403.0'], ['20.0', '116.0', '151.0', '202.0', '260.0', '373.0', '525.0', '665.0', '812.0', '1184.0', '1320.0', '1336.0'], ['28.0', '33.0', '51.0', '107.0', '124.0', '142.0', '189.0', '202.0', '223.0', '237.0', '241.0', '278.0', '302.0', '337.0', '349.0', '390.0', '524.0', '618.0', '766.0', '864.0', '871.0', '975.0', '1016.0', '1048.0', '1060.0', '1164.0', '1184.0', '1298.0', '1332.0', '1351.0', '1364.0', '1390.0', '1400.0', '1409.0', '1430.0', '1431.0', '1432.0', '1436.0'], ['2.0', '12.0', '14.0', '16.0', '26.0', '28.0', '29.0', '33.0', '43.0', '50.0', '74.0', '76.0', '108.0', '109.0', '120.0', '124.0', '131.0', '164.0', '193.0', '194.0', '210.0', '213.0', '221.0', '223.0', '236.0', '237.0', '241.0', '252.0', '253.0', '283.0', '295.0', '299.0', '302.0', '316.0', '336.0', '337.0', '339.0', '348.0', '359.0', '362.0', '367.0', '409.0', '422.0', '444.0', '477.0', '482.0', '510.0', '517.0', '524.0', '617.0', '634.0', '641.0', '656.0', '658.0', '665.0', '682.0', '693.0', '720.0', '721.0', '729.0', '744.0', '761.0', '800.0', '812.0', '821.0', '825.0', '833.0', '843.0', '887.0', '910.0', '939.0', '943.0', '952.0', '957.0', '967.0', '969.0', '973.0', '981.0', '996.0', '1000.0', '1014.0', '1025.0', '1051.0', '1052.0', '1101.0', '1148.0', '1159.0', '1160.0', '1162.0', '1163.0', '1164.0', '1165.0', '1166.0', '1170.0', '1171.0', '1172.0', '1176.0', '1181.0', '1185.0', '1276.0', '1277.0', '1291.0', '1293.0', '1298.0', '1299.0', '1304.0', '1305.0', '1314.0', '1330.0', '1332.0', '1336.0', '1338.0', '1343.0', '1351.0', '1354.0', '1357.0', '1360.0', '1364.0', '1366.0', '1367.0', '1368.0', '1386.0', '1391.0', '1393.0', '1395.0', '1396.0', '1423.0', '1427.0', '1428.0', '1429.0', '1430.0', '1431.0', '1432.0', '1436.0', '1439.0'], ['8.0', '12.0', '33.0', '110.0', '113.0', '124.0', '125.0', '131.0', '136.0', '151.0', '189.0', '210.0', '239.0', '260.0', '268.0', '382.0', '409.0', '440.0', '444.0', '547.0', '557.0', '593.0', '599.0', '645.0', '658.0', '677.0', '682.0', '692.0', '725.0', '729.0', '766.0', '788.0', '795.0', '882.0', '891.0', '919.0', '955.0', '957.0', '969.0', '1015.0', '1162.0', '1164.0', '1304.0', '1330.0', '1343.0', '1364.0', '1395.0', '1416.0', '1422.0', '1424.0', '1425.0', '1431.0'], ['8.0', '12.0', '33.0', '110.0', '113.0', '124.0', '125.0', '131.0', '136.0', '151.0', '189.0', '210.0', '239.0', '260.0', '268.0', '382.0', '409.0', '440.0', '444.0', '547.0', '557.0', '593.0', '599.0', '645.0', '658.0', '677.0', '682.0', '692.0', '725.0', '729.0', '766.0', '788.0', '795.0', '882.0', '891.0', '919.0', '955.0', '957.0', '969.0', '1015.0', '1162.0', '1164.0', '1304.0', '1330.0', '1343.0', '1364.0', '1395.0', '1416.0', '1422.0', '1424.0', '1425.0', '1431.0'], ['18.0', '32.0', '33.0', '162.0', '202.0', '237.0', '241.0', '260.0', '263.0', '350.0', '381.0', '390.0', '409.0', '415.0', '426.0', '593.0', '607.0', '610.0', '730.0', '764.0', '766.0', '864.0', '903.0', '957.0', '1016.0', '1042.0', '1178.0', '1183.0', '1299.0', '1336.0', '1351.0', '1363.0', '1387.0', '1427.0', '1431.0', '1435.0', '1439.0'], ['65.0', '108.0', '110.0', '151.0', '202.0', '241.0', '260.0', '369.0', '542.0', '681.0', '892.0', '1014.0', '1017.0', '1436.0'], ['151.0', '173.0', '189.0', '202.0', '369.0', '528.0', '600.0', '795.0', '1053.0', '1293.0', '1338.0', '1430.0'], ['2.0', '12.0', '14.0', '16.0', '26.0', '28.0', '29.0', '33.0', '43.0', '50.0', '74.0', '76.0', '108.0', '109.0', '120.0', '124.0', '131.0', '164.0', '193.0', '194.0', '210.0', '213.0', '221.0', '223.0', '225.0', '236.0', '237.0', '241.0', '252.0', '253.0', '283.0', '295.0', '299.0', '302.0', '316.0', '336.0', '337.0', '339.0', '348.0', '359.0', '362.0', '367.0', '409.0', '422.0', '444.0', '477.0', '482.0', '510.0', '517.0', '524.0', '617.0', '634.0', '641.0', '656.0', '658.0', '665.0', '682.0', '693.0', '720.0', '721.0', '729.0', '744.0', '761.0', '800.0', '812.0', '821.0', '825.0', '833.0', '843.0', '910.0', '939.0', '943.0', '952.0', '957.0', '967.0', '969.0', '973.0', '981.0', '996.0', '1000.0', '1014.0', '1025.0', '1051.0', '1052.0', '1101.0', '1148.0', '1159.0', '1160.0', '1162.0', '1163.0', '1164.0', '1165.0', '1166.0', '1170.0', '1171.0', '1172.0', '1176.0', '1181.0', '1185.0', '1276.0', '1277.0', '1291.0', '1293.0', '1298.0', '1299.0', '1304.0', '1305.0', '1314.0', '1330.0', '1332.0', '1336.0', '1338.0', '1343.0', '1351.0', '1354.0', '1357.0', '1360.0', '1364.0', '1366.0', '1367.0', '1368.0', '1386.0', '1391.0', '1393.0', '1395.0', '1396.0', '1423.0', '1427.0', '1428.0', '1429.0', '1430.0', '1431.0', '1432.0', '1436.0', '1439.0'], ['12.0', '14.0', '29.0', '33.0', '43.0', '51.0', '109.0', '111.0', '130.0', '142.0', '151.0', '153.0', '162.0', '221.0', '232.0', '237.0', '244.0', '253.0', '273.0', '302.0', '315.0', '316.0', '379.0', '382.0', '390.0', '415.0', '464.0', '468.0', '491.0', '547.0', '607.0', '609.0', '692.0', '730.0', '761.0', '763.0', '813.0', '857.0', '858.0', '876.0', '880.0', '933.0', '939.0', '967.0', '981.0', '990.0', '1014.0', '1059.0', '1157.0', '1162.0', '1164.0', '1172.0', '1186.0', '1271.0', '1276.0', '1293.0', '1305.0', '1314.0', '1320.0', '1330.0', '1332.0', '1336.0', '1338.0', '1351.0', '1357.0', '1367.0', '1368.0', '1396.0', '1422.0', '1429.0', '1432.0'], ['43.0', '151.0', '152.0', '236.0', '379.0', '415.0', '645.0', '813.0', '1017.0', '1164.0', '1185.0', '1304.0', '1330.0', '1336.0', '1351.0', '1368.0', '1386.0', '1431.0'], ['124.0', '125.0', '151.0', '1278.0'], ['151.0'], ['151.0', '1282.0'], ['151.0', '462.0', '464.0', '812.0'], ['33.0', '1431.0', '1432.0'], ['124.0', '151.0', '1314.0', '1423.0'], ['33.0', '1398.0'], ['101.0', '103.0', '125.0', '151.0', '193.0', '240.0', '263.0', '510.0', '563.0', '600.0', '821.0', '1016.0', '1025.0', '1160.0', '1351.0', '1354.0', '1364.0', '1432.0'], ['151.0', '152.0', '251.0', '268.0', '311.0', '349.0', '359.0', '525.0', '528.0', '641.0', '684.0', '735.0', '768.0', '910.0', '1162.0', '1172.0', '1174.0', '1271.0', '1279.0', '1293.0', '1305.0', '1314.0', '1336.0', '1343.0', '1364.0', '1368.0', '1393.0', '1395.0', '1427.0'], ['120.0', '151.0', '193.0', '213.0', '462.0', '865.0', '903.0', '1162.0'], ['151.0', '260.0', '390.0', '1014.0'], ['39.0', '51.0', '151.0', '205.0', '210.0', '237.0', '477.0', '721.0', '812.0', '1024.0', '1170.0', '1171.0'], ['16.0', '1330.0'], ['151.0', '795.0'], ['33.0', '369.0'], ['109.0', '124.0', '151.0', '369.0', '593.0', '933.0', '1017.0'], ['0.0', '33.0', '390.0', '868.0', '1052.0', '1398.0'], ['12.0', '30.0', '151.0', '237.0', '260.0', '682.0', '795.0', '812.0'], ['16.0', '108.0', '116.0', '158.0', '241.0', '283.0', '593.0', '844.0', '1017.0', '1044.0', '1166.0', '1420.0'], ['16.0', '43.0', '51.0', '241.0', '1429.0'], ['151.0'], ['16.0', '26.0', '28.0', '29.0', '57.0', '103.0', '109.0', '125.0', '268.0', '477.0', '485.0', '681.0', '766.0', '933.0', '1163.0', '1314.0', '1364.0', '1368.0'], ['26.0', '33.0', '330.0', '477.0', '729.0', '744.0', '882.0', '957.0', '1016.0', '1017.0'], ['65.0', '124.0', '138.0', '151.0', '260.0', '600.0', '645.0', '809.0', '933.0', '962.0', '1166.0', '1170.0', '1304.0', '1330.0', '1336.0', '1391.0'], ['39.0', '202.0', '241.0', '268.0', '462.0', '525.0', '585.0', '809.0', '975.0', '1017.0', '1042.0', '1189.0', '1282.0', '1320.0', '1328.0', '1330.0', '1338.0', '1356.0', '1362.0', '1368.0', '1393.0', '1398.0', '1424.0', '1427.0'], ['16.0', '34.0', '51.0', '76.0', '120.0', '125.0', '164.0', '336.0', '491.0', '559.0', '833.0', '861.0', '1047.0', '1174.0', '1276.0', '1314.0', '1324.0', '1332.0', '1338.0', '1360.0', '1398.0', '1427.0', '1430.0', '1431.0', '1432.0'], ['18.0', '33.0', '645.0', '957.0', '962.0'], ['43.0', '109.0', '151.0', '268.0', '310.0', '329.0', '346.0', '390.0', '494.0', '525.0', '585.0', '626.0', '668.0', '732.0', '768.0', '910.0', '968.0', '981.0', '1052.0', '1170.0', '1183.0', '1185.0', '1232.0', '1293.0', '1305.0', '1363.0', '1368.0', '1391.0', '1400.0', '1406.0', '1427.0', '1429.0', '1430.0', '1431.0', '1436.0', '1439.0'], ['43.0', '151.0', '390.0', '510.0'], ['2.0', '50.0', '151.0', '369.0', '440.0', '593.0', '617.0', '740.0', '809.0', '861.0', '985.0', '1293.0', '1317.0', '1330.0', '1338.0', '1398.0', '1416.0', '1420.0', '1430.0', '1431.0'], ['92.0', '151.0', '346.0', '525.0', '768.0'], ['151.0'], ['33.0', '51.0', '122.0', '263.0', '355.0', '409.0', '426.0', '693.0', '764.0', '821.0', '910.0', '930.0', '957.0', '958.0', '1050.0'], ['151.0'], ['151.0', '647.0'], ['151.0'], ['151.0', '260.0', '795.0'], ['151.0', '959.0', '969.0'], ['151.0'], ['151.0', '673.0', '958.0', '996.0', '1052.0', '1057.0', '1142.0', '1160.0', '1165.0', '1172.0', '1180.0', '1184.0', '1280.0', '1328.0', '1336.0', '1387.0', '1400.0', '1427.0', '1435.0'], ['151.0', '1330.0'], ['202.0', '782.0', '933.0', '941.0', '1042.0', '1160.0', '1271.0', '1332.0'], ['98.0', '151.0', '1166.0', '1429.0'], ['151.0', '373.0', '673.0', '732.0', '958.0', '1273.0', '1299.0', '1364.0', '1400.0'], ['122.0', '151.0', '542.0', '768.0'], ['151.0', '669.0', '1271.0', '1282.0'], ['33.0', '1052.0', '1164.0', '1165.0', '1183.0', '1293.0', '1386.0', '1431.0', '1436.0'], ['33.0', '122.0', '1293.0', '1328.0', '1386.0', '1439.0'], ['33.0', '1276.0'], ['122.0', '151.0', '250.0', '313.0', '415.0', '444.0', '732.0', '805.0', '812.0', '1035.0', '1162.0', '1172.0', '1405.0'], ['202.0', '225.0', '1060.0', '1159.0', '1163.0', '1271.0', '1278.0', '1290.0', '1292.0'], ['151.0', '244.0'], ['151.0'], ['16.0', '241.0', '268.0', '369.0', '593.0', '1044.0'], ['109.0', '151.0', '1172.0'], ['151.0', '761.0'], ['151.0', '1017.0'], ['202.0', '260.0', '795.0'], ['16.0', '547.0', '1017.0', '1398.0'], ['16.0', '43.0', '122.0', '250.0', '260.0', '910.0', '1048.0', '1053.0', '1055.0', '1420.0', '1429.0'], ['151.0', '766.0'], ['33.0', '415.0', '795.0', '1191.0', '1431.0'], ['151.0', '865.0'], ['151.0'], ['16.0', '409.0', '1429.0'], ['16.0'], ['151.0', '415.0', '647.0', '749.0', '1017.0', '1025.0', '1332.0'], ['39.0', '151.0'], ['116.0', '151.0', '224.0', '508.0', '681.0', '722.0', '809.0', '1024.0', '1025.0', '1047.0'], ['151.0', '464.0', '788.0', '795.0'], ['18.0', '43.0', '109.0', '151.0', '164.0', '241.0', '465.0', '559.0', '1336.0'], ['151.0', '1050.0'], ['20.0', '151.0', '647.0', '673.0', '1400.0'], ['40.0', '151.0', '409.0'], ['151.0'], ['151.0', '600.0', '788.0', '812.0', '1162.0', '1170.0', '1431.0'], ['202.0', '600.0', '714.0', '939.0', '1425.0'], ['33.0', '110.0', '681.0', '729.0', '939.0', '1431.0'], ['151.0'], ['108.0', '151.0', '225.0', '865.0', '977.0', '1025.0', '1053.0', '1169.0', '1187.0', '1263.0', '1271.0', '1358.0', '1397.0', '1414.0', '1415.0', '1434.0'], ['18.0', '32.0', '98.0', '109.0', '116.0', '151.0', '191.0', '210.0', '1014.0', '1016.0'], ['202.0', '237.0', '349.0', '409.0', '477.0', '569.0', '593.0', '600.0', '651.0', '744.0', '758.0', '764.0', '800.0', '935.0', '936.0', '948.0', '957.0', '1035.0', '1050.0', '1164.0', '1343.0', '1350.0', '1391.0', '1395.0', '1428.0', '1431.0'], ['20.0', '151.0', '1398.0'], ['33.0', '68.0', '74.0', '110.0', '120.0', '124.0', '176.0', '194.0', '313.0', '316.0', '444.0', '542.0', '729.0', '812.0', '821.0', '844.0', '855.0', '962.0', '967.0', '969.0', '1017.0', '1050.0', '1054.0', '1055.0', '1057.0', '1059.0', '1068.0', '1120.0', '1162.0', '1164.0', '1168.0', '1172.0', '1199.0', '1274.0', '1336.0', '1351.0', '1364.0', '1398.0', '1425.0', '1431.0'], ['122.0', '151.0', '268.0', '316.0', '382.0', '462.0', '684.0', '1024.0', '1293.0', '1324.0', '1330.0', '1364.0', '1428.0', '1429.0'], ['15.0', '33.0', '109.0', '422.0', '515.0', '651.0', '681.0', '684.0', '729.0', '744.0', '957.0', '990.0', '1018.0', '1055.0', '1162.0', '1393.0', '1429.0'], ['28.0', '32.0', '43.0', '151.0', '162.0', '191.0', '295.0', '462.0', '681.0', '788.0', '1024.0', '1171.0', '1185.0', '1332.0', '1338.0', '1367.0', '1406.0'], ['151.0', '162.0', '329.0', '336.0', '415.0', '1174.0', '1328.0'], ['20.0', '151.0', '593.0', '1176.0', '1336.0', '1429.0'], ['202.0', '411.0', '600.0', '681.0'], ['151.0', '191.0', '959.0', '1177.0', '1314.0', '1321.0', '1330.0', '1360.0'], ['108.0', '151.0', '336.0', '477.0', '547.0', '645.0', '744.0', '812.0', '1163.0', '1391.0', '1395.0', '1428.0', '1436.0'], ['101.0', '151.0', '288.0', '470.0', '542.0', '645.0', '812.0', '967.0', '1162.0', '1304.0', '1305.0', '1332.0', '1338.0', '1361.0', '1418.0', '1429.0', '1430.0', '1432.0'], ['8.0', '20.0', '33.0', '131.0', '617.0', '1018.0'], ['103.0', '125.0', '136.0', '202.0', '547.0', '692.0', '795.0', '1398.0'], ['43.0', '109.0', '124.0', '151.0', '164.0', '260.0', '898.0', '1164.0', '1170.0', '1171.0', '1172.0', '1332.0', '1354.0', '1391.0', '1429.0', '1432.0'], ['151.0', '1017.0', '1317.0', '1330.0', '1354.0', '1391.0', '1398.0'], ['8.0', '33.0', '230.0', '288.0', '440.0', '600.0', '903.0', '1016.0', '1368.0', '1423.0', '1431.0'], ['151.0', '260.0', '813.0', '1174.0', '1305.0'], ['20.0', '78.0', '151.0', '1025.0', '1050.0', '1282.0', '1393.0', '1398.0', '1416.0'], ['30.0', '115.0', '151.0', '448.0', '681.0', '730.0', '795.0', '996.0'], ['20.0', '39.0', '43.0', '51.0', '57.0', '74.0', '116.0', '120.0', '124.0', '125.0', '151.0', '260.0', '369.0', '593.0', '600.0', '723.0', '844.0', '959.0', '1025.0', '1050.0', '1166.0', '1336.0', '1343.0', '1351.0', '1364.0', '1429.0'], ['116.0', '151.0', '241.0', '617.0', '1048.0', '1181.0', '1293.0', '1304.0', '1330.0', '1343.0', '1350.0', '1364.0', '1391.0', '1398.0', '1429.0', '1431.0', '1436.0'], ['116.0', '124.0', '151.0', '213.0', '251.0', '316.0', '336.0', '409.0', '825.0', '1025.0', '1080.0', '1160.0', '1162.0', '1166.0', '1170.0', '1171.0', '1330.0', '1398.0'], ['33.0', '124.0', '1024.0'], ['12.0', '43.0', '50.0', '78.0', '107.0', '109.0', '132.0', '136.0', '151.0', '158.0', '194.0', '225.0', '230.0', '237.0', '241.0', '258.0', '283.0', '303.0', '316.0', '349.0', '362.0', '409.0', '420.0', '440.0', '470.0', '525.0', '544.0', '585.0', '622.0', '682.0', '695.0', '722.0', '795.0', '821.0', '833.0', '844.0', '846.0', '865.0', '868.0', '891.0', '898.0', '939.0', '957.0', '969.0', '990.0', '1035.0', '1052.0', '1054.0', '1055.0', '1149.0', '1165.0', '1168.0', '1184.0', '1274.0', '1276.0', '1314.0', '1330.0', '1332.0', '1337.0', '1338.0', '1351.0', '1367.0', '1412.0', '1423.0', '1427.0', '1431.0'], ['8.0', '109.0', '124.0', '151.0', '237.0', '349.0', '462.0', '547.0', '761.0', '825.0', '855.0'], ['53.0', '151.0', '369.0', '926.0', '957.0', '959.0', '1025.0', '1164.0', '1177.0', '1178.0'], ['151.0', '164.0', '260.0', '462.0', '732.0', '1017.0', '1185.0', '1434.0'], ['43.0', '51.0', '101.0', '131.0', '138.0', '162.0', '193.0', '202.0', '224.0', '329.0', '510.0', '645.0', '684.0', '795.0', '868.0', '962.0', '969.0', '981.0', '1014.0', '1016.0', '1017.0', '1028.0', '1158.0', '1160.0', '1274.0', '1278.0', '1314.0', '1343.0', '1429.0', '1432.0', '1437.0'], ['113.0', '202.0', '221.0', '291.0', '462.0', '485.0', '495.0', '588.0', '975.0', '1324.0', '1330.0', '1343.0', '1354.0', '1360.0', '1398.0', '1400.0', '1409.0', '1430.0', '1431.0', '1436.0'], ['20.0', '33.0', '53.0', '162.0', '232.0', '659.0', '669.0', '951.0', '957.0', '1170.0', '1351.0', '1431.0'], ['151.0', '369.0', '525.0', '1174.0', '1271.0', '1367.0', '1400.0', '1410.0'], ['53.0', '109.0', '120.0', '151.0', '153.0', '164.0', '193.0', '205.0', '311.0', '415.0', '464.0', '477.0', '482.0', '508.0', '593.0', '732.0', '812.0', '1047.0', '1058.0', '1059.0', '1060.0', '1079.0', '1143.0', '1150.0', '1166.0', '1185.0', '1189.0', '1191.0', '1195.0', '1198.0', '1219.0', '1271.0', '1278.0', '1280.0', '1296.0', '1313.0', '1320.0', '1328.0', '1330.0', '1331.0', '1356.0', '1362.0', '1398.0', '1401.0', '1402.0', '1403.0', '1404.0', '1405.0', '1406.0', '1407.0', '1409.0', '1410.0', '1412.0', '1418.0', '1424.0', '1429.0'], ['33.0', '189.0', '230.0', '270.0', '400.0', '415.0', '525.0', '632.0', '695.0', '732.0', '795.0', '891.0', '1059.0', '1286.0', '1293.0', '1424.0', '1430.0', '1431.0'], ['57.0', '151.0', '158.0', '213.0', '273.0', '415.0', '482.0', '668.0', '692.0', '723.0', '749.0', '955.0', '968.0', '969.0', '1047.0', '1160.0', '1162.0', '1163.0', '1170.0', '1171.0', '1172.0', '1174.0', '1176.0', '1177.0', '1185.0', '1271.0', '1293.0', '1296.0', '1314.0', '1324.0', '1343.0', '1368.0', '1395.0', '1420.0', '1429.0', '1430.0'], ['151.0', '600.0', '1016.0'], ['131.0', '202.0', '911.0', '981.0', '1017.0', '1430.0', '1437.0'], ['14.0', '34.0', '51.0', '202.0', '250.0', '415.0', '665.0', '678.0', '720.0', '887.0', '1052.0', '1170.0', '1186.0', '1304.0', '1351.0', '1359.0'], ['109.0', '151.0', '164.0', '278.0', '369.0', '422.0', '470.0', '479.0', '593.0', '669.0', '673.0', '905.0', '957.0', '1017.0', '1162.0', '1174.0', '1181.0', '1305.0', '1364.0', '1427.0', '1431.0'], ['16.0', '138.0', '462.0', '1054.0', '1141.0', '1304.0', '1330.0', '1336.0', '1364.0', '1428.0'], ['43.0', '109.0', '151.0', '164.0', '415.0', '542.0', '641.0', '865.0', '1185.0', '1304.0', '1364.0', '1368.0'], ['28.0', '103.0', '116.0', '151.0', '390.0', '446.0', '933.0', '1056.0', '1176.0', '1304.0', '1313.0', '1425.0', '1429.0'], ['151.0', '164.0', '665.0', '887.0', '898.0', '1050.0', '1305.0', '1422.0'], ['2.0', '8.0', '12.0', '68.0', '74.0', '103.0', '120.0', '143.0', '181.0', '193.0', '202.0', '205.0', '237.0', '329.0', '383.0', '390.0', '491.0', '510.0', '524.0', '542.0', '600.0', '617.0', '692.0', '764.0', '795.0', '812.0', '821.0', '833.0', '878.0', '935.0', '941.0', '957.0', '996.0', '1006.0', '1030.0', '1038.0', '1050.0', '1165.0', '1170.0', '1171.0', '1305.0', '1336.0', '1350.0', '1426.0'], ['20.0', '51.0', '101.0', '151.0', '193.0', '240.0', '329.0', '353.0', '525.0', '645.0', '759.0', '821.0', '833.0', '911.0', '975.0', '1025.0', '1054.0', '1160.0', '1162.0', '1166.0', '1170.0', '1181.0', '1296.0', '1308.0', '1330.0', '1351.0', '1429.0'], ['2.0', '20.0', '33.0', '51.0', '125.0', '130.0', '193.0', '223.0', '224.0', '250.0', '353.0', '440.0', '557.0', '600.0', '641.0', '933.0', '939.0', '1164.0', '1171.0', '1172.0', '1274.0', '1304.0', '1305.0', '1350.0', '1363.0', '1364.0', '1386.0', '1423.0', '1425.0', '1431.0', '1436.0'], ['151.0', '462.0'], ['18.0', '33.0', '101.0', '109.0', '124.0', '125.0', '193.0', '194.0', '241.0', '260.0', '462.0', '593.0', '725.0', '729.0', '833.0', '1017.0', '1028.0', '1044.0', '1047.0'], ['151.0', '470.0', '969.0', '1176.0', '1274.0', '1314.0'], ['33.0', '399.0', '641.0', '667.0', '1164.0', '1171.0', '1181.0', '1185.0', '1330.0', '1334.0', '1386.0', '1431.0'], ['151.0', '348.0', '1047.0', '1048.0', '1343.0'], ['116.0', '151.0', '223.0', '390.0', '415.0', '692.0', '843.0', '910.0'], ['16.0', '124.0', '193.0', '1017.0', '1028.0'], ['151.0', '194.0', '375.0', '444.0', '681.0', '1304.0'], ['16.0', '32.0', '348.0', '1330.0', '1429.0'], ['125.0', '151.0', '933.0'], ['33.0', '593.0', '1014.0', '1017.0'], ['151.0', '250.0', '669.0', '1170.0', '1332.0', '1343.0', '1423.0'], ['39.0', '138.0', '145.0', '152.0', '202.0', '237.0', '241.0', '253.0', '350.0', '362.0', '398.0', '444.0', '486.0', '528.0', '567.0', '645.0', '669.0', '730.0', '795.0', '846.0', '969.0', '975.0', '1164.0', '1186.0', '1276.0', '1277.0', '1338.0', '1354.0', '1357.0', '1360.0', '1364.0', '1368.0', '1427.0', '1437.0', '1443.0'], ['131.0', '151.0', '189.0', '260.0', '288.0', '379.0', '542.0', '730.0', '795.0', '1160.0', '1162.0', '1164.0', '1276.0', '1304.0', '1305.0', '1314.0', '1330.0', '1338.0', '1391.0', '1394.0', '1395.0', '1398.0'], ['151.0', '1430.0'], ['33.0', '422.0', '957.0', '1336.0', '1426.0', '1431.0'], ['33.0', '34.0', '51.0', '78.0', '761.0', '884.0', '1172.0', '1364.0', '1394.0', '1398.0', '1431.0'], ['15.0', '20.0', '151.0', '349.0', '353.0', '515.0', '593.0', '651.0'], ['18.0', '151.0', '241.0', '508.0', '1141.0', '1157.0', '1330.0', '1394.0', '1398.0', '1434.0'], ['68.0', '151.0', '213.0', '1054.0', '1428.0', '1434.0'], ['12.0', '29.0', '33.0', '651.0', '761.0', '882.0', '910.0', '957.0', '1172.0', '1420.0', '1426.0', '1431.0'], ['151.0', '600.0', '760.0'], ['151.0', '795.0'], ['20.0', '43.0', '98.0', '151.0', '462.0', '969.0'], ['57.0', '151.0', '213.0', '232.0', '240.0', '969.0'], ['151.0', '260.0', '462.0', '969.0', '1017.0', '1044.0', '1164.0', '1296.0', '1324.0', '1351.0'], ['34.0', '43.0', '57.0', '116.0', '151.0', '250.0', '339.0', '415.0', '542.0', '600.0', '609.0', '669.0', '843.0', '1165.0', '1271.0', '1304.0', '1336.0', '1368.0', '1398.0'], ['143.0', '151.0', '189.0', '193.0', '239.0', '369.0', '464.0', '508.0', '542.0', '593.0', '600.0', '729.0', '764.0', '795.0', '812.0', '1028.0', '1050.0', '1336.0', '1400.0'], ['124.0', '151.0'], ['20.0', '124.0', '151.0', '164.0', '213.0', '237.0', '260.0', '316.0', '349.0', '355.0', '600.0', '681.0', '763.0', '812.0', '1164.0', '1170.0', '1293.0'], ['14.0', '68.0', '108.0', '151.0', '241.0', '390.0', '477.0', '522.0', '593.0', '600.0', '729.0', '825.0', '853.0', '865.0', '958.0', '1014.0', '1042.0', '1050.0', '1164.0', '1174.0', '1290.0', '1336.0', '1368.0', '1394.0', '1436.0'], ['33.0', '43.0', '98.0', '110.0', '131.0', '684.0', '1314.0'], ['151.0', '162.0'], ['16.0', '189.0', '1282.0', '1391.0', '1398.0', '1416.0', '1429.0', '1431.0'], ['151.0', '593.0', '1059.0'], ['151.0', '232.0', '260.0', '910.0', '1431.0', '1436.0'], ['151.0', '542.0', '1165.0', '1170.0', '1185.0', '1338.0', '1406.0', '1436.0'], ['2.0', '8.0', '32.0', '43.0', '50.0', '151.0', '237.0', '251.0', '288.0', '349.0', '369.0', '593.0', '766.0', '864.0', '1429.0'], ['8.0', '12.0', '20.0', '103.0', '116.0', '120.0', '124.0', '125.0', '136.0', '151.0', '164.0', '193.0', '194.0', '241.0', '268.0', '278.0', '288.0', '329.0', '362.0', '369.0', '448.0', '477.0', '485.0', '491.0', '510.0', '547.0', '585.0', '593.0', '600.0', '647.0', '656.0', '684.0', '692.0', '723.0', '833.0', '943.0', '948.0', '969.0', '977.0', '1025.0', '1052.0', '1056.0', '1057.0', '1060.0', '1160.0', '1162.0', '1163.0', '1165.0', '1166.0', '1174.0', '1183.0', '1252.0', '1274.0', '1276.0', '1282.0', '1314.0', '1330.0', '1336.0', '1351.0', '1354.0', '1360.0', '1367.0', '1391.0', '1393.0', '1398.0', '1403.0', '1422.0', '1427.0', '1428.0', '1429.0', '1436.0'], ['151.0', '369.0', '464.0', '593.0', '600.0', '1017.0'], ['32.0', '39.0', '98.0', '107.0', '109.0', '124.0', '125.0', '151.0', '215.0', '260.0', '268.0', '369.0', '462.0', '588.0', '593.0', '600.0', '681.0', '729.0', '730.0', '932.0', '933.0', '1014.0', '1025.0', '1044.0', '1178.0', '1185.0', '1314.0', '1391.0', '1423.0'], ['16.0', '51.0', '237.0', '314.0', '641.0', '1330.0', '1332.0', '1362.0', '1432.0', '1436.0'], ['124.0', '151.0', '237.0', '369.0', '464.0', '477.0', '1030.0'], ['202.0', '369.0', '542.0', '645.0', '764.0'], ['113.0', '124.0', '125.0', '151.0', '260.0', '268.0', '600.0', '990.0', '1017.0', '1044.0', '1282.0', '1304.0', '1364.0', '1398.0', '1428.0'], ['12.0', '57.0', '108.0', '116.0', '202.0', '239.0', '315.0', '316.0', '329.0', '411.0', '415.0', '444.0', '462.0', '464.0', '485.0', '641.0', '680.0', '749.0', '761.0', '865.0', '943.0', '1044.0'], ['151.0'], ['151.0', '973.0'], ['68.0', '202.0', '316.0', '329.0', '383.0', '542.0', '1055.0', '1185.0', '1364.0', '1436.0'], ['20.0', '151.0', '349.0', '353.0', '515.0', '593.0'], ['96.0', '151.0'], ['122.0', '151.0', '250.0', '313.0', '415.0', '444.0', '732.0', '805.0', '812.0', '1035.0', '1162.0', '1172.0', '1405.0'], ['18.0', '32.0', '98.0', '109.0', '116.0', '151.0', '210.0', '1014.0', '1016.0'], ['16.0', '189.0', '1282.0', '1391.0', '1398.0', '1416.0', '1431.0'], ['33.0', '98.0', '193.0', '237.0', '903.0', '968.0', '981.0', '1014.0', '1055.0', '1141.0', '1165.0', '1172.0', '1176.0', '1185.0', '1221.0', '1314.0', '1336.0', '1354.0', '1367.0', '1368.0', '1395.0', '1423.0', '1429.0', '1431.0'], ['151.0', '158.0', '260.0', '1174.0'], ['33.0'], ['16.0', '26.0', '28.0', '29.0', '103.0', '109.0', '125.0', '213.0', '268.0', '477.0', '485.0', '681.0', '933.0', '1163.0', '1314.0', '1364.0', '1368.0'], ['33.0', '880.0', '1050.0', '1433.0'], ['33.0', '92.0', '124.0', '153.0', '260.0', '283.0', '376.0', '448.0', '485.0', '647.0', '651.0', '658.0', '681.0', '693.0', '732.0', '919.0', '955.0', '1017.0', '1160.0', '1176.0', '1180.0', '1273.0', '1274.0', '1304.0', '1314.0', '1329.0', '1338.0', '1351.0', '1366.0', '1431.0', '1432.0'], ['43.0', '151.0', '390.0'], ['60.0', '151.0', '1165.0', '1170.0', '1185.0', '1338.0', '1406.0', '1436.0'], ['18.0', '26.0', '43.0', '108.0', '193.0', '202.0', '237.0', '617.0', '933.0', '939.0', '996.0', '1183.0', '1185.0', '1293.0', '1317.0', '1360.0', '1429.0', '1431.0'], ['151.0', '373.0', '673.0', '732.0', '958.0', '1273.0', '1299.0', '1364.0'], ['12.0', '57.0', '108.0', '116.0', '202.0', '239.0', '315.0', '316.0', '329.0', '411.0', '415.0', '444.0', '462.0', '464.0', '485.0', '641.0', '680.0', '865.0', '943.0', '1044.0'], ['131.0', '151.0', '189.0', '260.0', '288.0', '379.0', '542.0', '730.0', '795.0', '1160.0', '1162.0', '1276.0', '1304.0', '1305.0', '1314.0', '1330.0', '1338.0', '1391.0', '1394.0', '1395.0', '1398.0'], ['151.0', '250.0', '669.0', '1170.0', '1332.0'], ['202.0'], ['16.0', '1271.0', '1430.0'], ['53.0', '151.0', '184.0', '606.0', '681.0', '682.0', '766.0', '1014.0', '1174.0', '1178.0', '1304.0', '1305.0', '1320.0', '1321.0', '1394.0', '1400.0', '1435.0'], ['98.0', '103.0', '108.0', '110.0', '131.0', '158.0', '189.0', '202.0', '263.0', '283.0', '415.0', '564.0', '617.0', '764.0', '821.0', '844.0', '933.0', '955.0', '965.0', '1017.0', '1044.0', '1055.0', '1056.0', '1057.0', '1060.0', '1160.0', '1163.0', '1164.0', '1165.0', '1166.0', '1330.0', '1332.0', '1336.0', '1360.0', '1367.0', '1403.0', '1431.0', '1436.0'], ['33.0', '60.0', '189.0', '270.0', '400.0', '415.0', '525.0', '632.0', '695.0', '732.0', '795.0', '891.0', '1059.0', '1286.0', '1293.0', '1424.0', '1430.0'], ['57.0', '98.0', '124.0', '151.0', '241.0', '283.0', '681.0', '729.0', '878.0', '955.0', '969.0', '1165.0', '1190.0', '1330.0', '1391.0'], ['4.0', '33.0', '68.0', '74.0', '110.0', '120.0', '124.0', '176.0', '194.0', '313.0', '316.0', '542.0', '729.0', '812.0', '821.0', '844.0', '855.0', '962.0', '967.0', '969.0', '1017.0', '1050.0', '1054.0', '1055.0', '1057.0', '1059.0', '1068.0', '1120.0', '1162.0', '1164.0', '1168.0', '1172.0', '1199.0', '1274.0', '1336.0', '1351.0', '1364.0', '1398.0', '1425.0', '1431.0'], ['20.0', '33.0', '51.0', '131.0', '617.0'], ['151.0', '162.0', '329.0', '415.0', '1174.0'], ['151.0', '191.0', '1314.0', '1423.0'], ['28.0', '43.0', '136.0', '151.0', '295.0', '409.0', '474.0', '600.0', '632.0', '825.0', '1016.0', '1054.0', '1164.0', '1170.0', '1176.0', '1185.0', '1276.0', '1293.0', '1314.0', '1336.0', '1338.0', '1343.0', '1354.0', '1360.0', '1393.0', '1427.0', '1428.0', '1429.0', '1431.0', '1436.0'], ['8.0', '151.0', '176.0', '314.0', '1396.0'], ['33.0', '399.0', '667.0', '1164.0', '1171.0', '1181.0', '1185.0', '1330.0', '1334.0', '1386.0', '1431.0'], ['14.0', '65.0', '124.0', '138.0', '151.0', '260.0', '600.0', '645.0', '809.0', '933.0', '962.0', '1166.0', '1170.0', '1304.0', '1330.0', '1336.0', '1391.0'], ['103.0', '125.0', '136.0', '202.0', '795.0'], ['202.0', '411.0', '600.0', '681.0'], ['151.0', '887.0', '1145.0', '1166.0', '1174.0', '1185.0', '1296.0', '1314.0', '1324.0', '1398.0', '1429.0', '1431.0'], ['76.0', '202.0', '237.0', '349.0', '409.0', '477.0', '569.0', '593.0', '651.0', '744.0', '758.0', '764.0', '800.0', '935.0', '936.0', '948.0', '957.0', '1035.0', '1050.0', '1164.0', '1343.0', '1350.0', '1395.0', '1428.0', '1431.0'], ['43.0', '103.0', '151.0', '462.0', '969.0'], ['202.0'], ['43.0', '109.0', '124.0', '151.0', '260.0', '898.0', '1164.0', '1170.0', '1171.0', '1172.0', '1332.0', '1354.0', '1391.0', '1429.0', '1432.0'], ['115.0', '124.0', '151.0', '369.0', '593.0', '933.0', '1017.0'], ['33.0', '362.0', '1332.0'], ['53.0', '109.0', '120.0', '151.0', '153.0', '164.0', '193.0', '205.0', '311.0', '415.0', '464.0', '477.0', '482.0', '508.0', '593.0', '732.0', '812.0', '1047.0', '1058.0', '1059.0', '1060.0', '1079.0', '1143.0', '1150.0', '1166.0', '1185.0', '1189.0', '1191.0', '1195.0', '1198.0', '1219.0', '1271.0', '1278.0', '1280.0', '1296.0', '1313.0', '1320.0', '1328.0', '1330.0', '1331.0', '1356.0', '1362.0', '1398.0', '1401.0', '1402.0', '1403.0', '1404.0', '1405.0', '1406.0', '1407.0', '1409.0', '1410.0', '1412.0', '1418.0', '1424.0', '1429.0'], ['202.0'], ['151.0', '162.0', '486.0', '542.0', '645.0', '692.0', '1198.0', '1368.0', '1430.0', '1436.0'], ['39.0', '51.0', '151.0', '205.0', '210.0', '237.0', '721.0', '812.0', '1170.0', '1171.0'], ['134.0', '151.0'], ['100.0', '151.0', '260.0', '462.0', '732.0', '1017.0', '1185.0'], ['2.0', '8.0', '32.0', '43.0', '151.0', '237.0', '251.0', '288.0', '349.0', '369.0', '766.0', '864.0', '1429.0'], ['33.0', '51.0', '122.0', '263.0', '355.0', '409.0', '426.0', '693.0', '764.0', '821.0', '910.0', '930.0', '957.0', '958.0'], ['151.0', '232.0', '1431.0', '1436.0'], ['15.0', '33.0', '53.0', '162.0', '232.0', '659.0', '951.0', '957.0', '1170.0', '1351.0', '1431.0'], ['116.0', '151.0', '153.0', '508.0', '681.0', '722.0', '1024.0', '1025.0', '1047.0'], ['20.0', '151.0', '295.0', '647.0', '1400.0'], ['16.0', '455.0'], ['33.0'], ['8.0', '39.0', '138.0', '145.0', '152.0', '202.0', '237.0', '241.0', '253.0', '350.0', '362.0', '398.0', '444.0', '486.0', '528.0', '567.0', '645.0', '669.0', '730.0', '795.0', '846.0', '969.0', '975.0', '1164.0', '1186.0', '1276.0', '1277.0', '1338.0', '1354.0', '1357.0', '1360.0', '1364.0', '1368.0', '1427.0', '1443.0'], ['33.0'], ['130.0', '151.0', '260.0', '390.0', '1014.0'], ['33.0'], ['16.0', '164.0', '349.0', '390.0', '1170.0', '1171.0', '1298.0', '1351.0', '1354.0'], ['16.0'], ['14.0', '33.0', '43.0', '109.0', '124.0', '164.0', '194.0', '221.0', '239.0', '254.0', '362.0', '390.0', '494.0', '559.0', '617.0', '684.0', '853.0', '865.0', '880.0', '943.0', '981.0', '1017.0', '1052.0', '1160.0', '1166.0', '1169.0', '1170.0', '1171.0', '1172.0', '1186.0', '1321.0', '1336.0', '1349.0', '1351.0', '1360.0', '1368.0', '1386.0', '1396.0', '1423.0', '1424.0', '1429.0', '1430.0', '1431.0', '1436.0'], ['57.0', '151.0', '213.0', '240.0', '969.0'], ['202.0'], ['25.0', '124.0', '151.0'], ['2.0', '8.0', '12.0', '68.0', '74.0', '103.0', '111.0', '120.0', '143.0', '181.0', '193.0', '202.0', '205.0', '237.0', '329.0', '383.0', '390.0', '491.0', '510.0', '524.0', '542.0', '600.0', '617.0', '692.0', '764.0', '795.0', '812.0', '821.0', '833.0', '878.0', '935.0', '941.0', '957.0', '996.0', '1006.0', '1030.0', '1038.0', '1050.0', '1165.0', '1170.0', '1171.0', '1305.0', '1336.0', '1350.0', '1426.0'], ['151.0', '270.0', '1317.0', '1330.0', '1354.0', '1391.0', '1398.0'], ['28.0', '32.0', '43.0', '130.0', '151.0', '162.0', '191.0', '295.0', '462.0', '681.0', '788.0', '1024.0', '1171.0', '1185.0', '1332.0', '1338.0', '1367.0', '1406.0'], ['108.0', '138.0', '151.0', '225.0', '865.0', '977.0', '1025.0', '1053.0', '1169.0', '1187.0', '1271.0', '1358.0', '1397.0', '1414.0', '1415.0', '1434.0'], ['202.0', '1354.0'], ['113.0', '202.0', '291.0', '462.0', '485.0', '495.0', '588.0', '1324.0', '1330.0', '1343.0', '1354.0', '1360.0', '1398.0', '1400.0', '1409.0', '1430.0', '1431.0', '1436.0'], ['16.0', '26.0', '43.0', '122.0', '250.0', '260.0', '910.0', '1048.0', '1053.0', '1420.0', '1429.0'], ['33.0'], ['202.0', '390.0', '1159.0', '1164.0', '1165.0', '1169.0', '1172.0', '1174.0', '1175.0', '1185.0', '1263.0', '1330.0', '1400.0', '1433.0'], ['0.0', '33.0', '132.0', '1052.0', '1398.0'], ['14.0', '68.0', '108.0', '151.0', '390.0', '477.0', '522.0', '593.0', '600.0', '729.0', '825.0', '853.0', '865.0', '958.0', '1014.0', '1042.0', '1050.0', '1164.0', '1174.0', '1290.0', '1336.0', '1368.0', '1394.0', '1436.0'], ['151.0'], ['151.0', '673.0', '958.0', '996.0', '1052.0', '1057.0', '1142.0', '1160.0', '1165.0', '1172.0', '1180.0', '1184.0', '1280.0', '1336.0', '1387.0', '1400.0', '1427.0', '1435.0'], ['16.0', '43.0', '109.0', '120.0', '124.0', '164.0', '194.0', '349.0', '622.0', '651.0', '957.0', '965.0', '1055.0', '1060.0', '1070.0', '1071.0', '1073.0', '1139.0', '1157.0', '1170.0', '1172.0', '1185.0', '1271.0', '1274.0', '1276.0', '1314.0', '1324.0', '1328.0', '1330.0', '1336.0', '1351.0', '1360.0', '1364.0', '1420.0', '1422.0', '1426.0', '1429.0', '1431.0', '1434.0', '1437.0', '1439.0'], ['74.0', '151.0', '152.0', '268.0', '311.0', '349.0', '359.0', '528.0', '641.0', '684.0', '735.0', '768.0', '910.0', '1162.0', '1172.0', '1174.0', '1271.0', '1279.0', '1293.0', '1305.0', '1314.0', '1336.0', '1343.0', '1364.0', '1368.0', '1393.0', '1395.0', '1427.0'], ['151.0', '223.0', '252.0', '415.0', '692.0', '843.0', '910.0'], ['14.0', '51.0', '53.0', '102.0', '108.0', '116.0', '120.0', '122.0', '145.0', '153.0', '162.0', '184.0', '202.0', '221.0', '240.0', '349.0', '448.0', '465.0', '542.0', '600.0', '617.0', '641.0', '681.0', '813.0', '903.0', '1025.0', '1052.0', '1054.0', '1060.0', '1160.0', '1162.0', '1164.0', '1170.0', '1171.0', '1172.0', '1174.0', '1176.0', '1185.0', '1254.0', '1277.0', '1293.0', '1314.0', '1321.0', '1324.0', '1330.0', '1332.0', '1343.0', '1360.0', '1364.0', '1393.0', '1394.0', '1395.0', '1409.0', '1422.0', '1423.0', '1426.0', '1427.0', '1429.0', '1430.0', '1431.0', '1436.0', '1437.0'], ['116.0', '151.0', '241.0', '617.0', '1048.0', '1181.0', '1293.0', '1330.0', '1343.0', '1350.0', '1364.0', '1391.0', '1398.0', '1431.0', '1436.0'], ['12.0', '33.0', '43.0', '64.0', '162.0', '223.0', '310.0', '359.0', '547.0', '667.0', '898.0', '943.0', '1162.0', '1165.0', '1170.0', '1171.0', '1172.0', '1293.0', '1324.0', '1330.0', '1351.0', '1364.0', '1368.0', '1431.0', '1432.0'], ['33.0', '1181.0', '1431.0'], ['16.0', '241.0', '268.0', '593.0', '1044.0'], ['8.0', '202.0', '225.0', '1060.0', '1159.0', '1163.0', '1271.0', '1278.0', '1292.0'], ['20.0', '124.0', '151.0', '164.0', '189.0', '237.0', '260.0', '316.0', '349.0', '355.0', '600.0', '763.0', '812.0', '1164.0', '1170.0', '1293.0'], ['108.0', '131.0', '202.0', '1017.0', '1028.0', '1055.0', '1164.0', '1426.0', '1430.0', '1432.0'], ['16.0', '34.0', '51.0', '76.0', '120.0', '125.0', '164.0', '336.0', '491.0', '559.0', '833.0', '861.0', '1047.0', '1174.0', '1276.0', '1314.0', '1324.0', '1332.0', '1360.0', '1398.0', '1427.0', '1430.0', '1431.0', '1432.0'], ['202.0', '241.0', '260.0'], ['16.0', '234.0', '348.0', '1330.0', '1429.0'], ['28.0', '151.0', '369.0', '525.0', '1174.0', '1271.0', '1367.0', '1410.0'], ['101.0', '151.0', '241.0', '288.0', '470.0', '542.0', '645.0', '812.0', '967.0', '1162.0', '1304.0', '1305.0', '1338.0', '1361.0', '1418.0', '1430.0', '1432.0'], ['8.0', '33.0', '230.0', '288.0', '440.0', '600.0', '903.0', '1016.0', '1368.0', '1431.0'], ['18.0', '43.0', '109.0', '151.0', '164.0', '224.0', '465.0', '559.0'], ['151.0', '291.0', '1047.0', '1048.0'], ['43.0', '53.0', '101.0', '120.0', '130.0', '132.0', '151.0', '162.0', '223.0', '253.0', '260.0', '311.0', '339.0', '352.0', '356.0', '362.0', '367.0', '390.0', '398.0', '444.0', '475.0', '479.0', '482.0', '485.0', '515.0', '566.0', '567.0', '606.0', '722.0', '723.0', '735.0', '795.0', '861.0', '865.0', '881.0', '892.0', '939.0', '952.0', '1025.0', '1172.0', '1338.0', '1360.0', '1427.0', '1430.0'], ['151.0', '224.0', '729.0', '843.0', '1054.0', '1165.0', '1170.0', '1172.0', '1179.0', '1186.0', '1271.0', '1273.0', '1280.0', '1296.0', '1304.0', '1305.0', '1313.0', '1314.0', '1320.0', '1328.0', '1330.0', '1336.0', '1338.0', '1343.0', '1351.0', '1356.0', '1362.0', '1364.0', '1368.0', '1393.0', '1410.0', '1424.0', '1429.0', '1436.0'], ['32.0', '33.0', '732.0', '1164.0'], ['151.0', '164.0', '665.0', '887.0', '1050.0', '1305.0', '1422.0'], ['33.0', '53.0', '112.0', '124.0', '221.0', '369.0', '382.0', '468.0', '651.0', '681.0', '682.0', '730.0', '805.0', '1008.0', '1054.0', '1055.0', '1165.0', '1176.0', '1198.0', '1257.0', '1274.0', '1277.0', '1286.0', '1304.0', '1305.0', '1314.0', '1317.0', '1329.0', '1343.0', '1360.0', '1364.0', '1366.0', '1395.0', '1400.0', '1428.0'], ['15.0', '33.0', '50.0', '109.0', '422.0', '515.0', '651.0', '681.0', '729.0', '744.0', '990.0', '1018.0', '1055.0', '1429.0'], ['151.0'], ['8.0', '57.0', '109.0', '124.0', '151.0', '237.0', '349.0', '462.0', '547.0', '825.0', '855.0'], ['151.0', '369.0', '593.0', '600.0', '1017.0'], ['151.0'], ['18.0', '33.0', '101.0', '109.0', '124.0', '125.0', '194.0', '241.0', '260.0', '462.0', '593.0', '725.0', '729.0', '1017.0', '1028.0', '1044.0', '1047.0'], ['34.0', '40.0', '151.0', '865.0', '876.0', '1185.0', '1330.0', '1338.0', '1364.0', '1368.0', '1394.0'], ['33.0', '1052.0', '1164.0', '1165.0', '1183.0', '1293.0', '1386.0', '1431.0', '1436.0'], ['2.0', '50.0', '151.0', '369.0', '440.0', '593.0', '617.0', '740.0', '809.0', '861.0', '985.0', '1293.0', '1317.0', '1330.0', '1338.0', '1398.0', '1416.0', '1420.0', '1430.0', '1431.0'], ['143.0', '151.0', '189.0', '191.0', '236.0', '239.0', '369.0', '464.0', '508.0', '542.0', '593.0', '600.0', '764.0', '795.0', '812.0', '1028.0', '1050.0', '1336.0'], ['26.0', '33.0', '40.0', '43.0', '68.0', '164.0', '284.0', '313.0', '411.0', '422.0', '542.0', '617.0', '1016.0', '1170.0', '1171.0', '1172.0', '1293.0', '1330.0', '1364.0', '1393.0', '1395.0', '1428.0', '1429.0', '1431.0', '1436.0'], ['33.0', '43.0', '98.0', '110.0', '131.0'], ['109.0', '138.0', '151.0', '164.0', '278.0', '369.0', '470.0', '479.0', '593.0', '669.0', '673.0', '905.0', '957.0', '1017.0', '1162.0', '1174.0', '1181.0', '1305.0', '1364.0', '1427.0', '1431.0'], ['30.0', '151.0', '323.0', '682.0', '1276.0', '1432.0'], ['122.0', '151.0', '268.0', '382.0', '462.0', '684.0', '1024.0', '1293.0', '1324.0', '1330.0', '1364.0', '1428.0'], ['124.0', '138.0', '151.0', '782.0', '881.0', '1164.0', '1165.0', '1166.0', '1171.0', '1274.0', '1282.0', '1293.0', '1317.0', '1320.0', '1330.0', '1343.0', '1351.0', '1354.0', '1393.0'], ['20.0', '202.0', '782.0', '933.0', '941.0', '1042.0', '1160.0', '1271.0', '1332.0'], ['33.0', '57.0', '64.0', '223.0', '422.0', '833.0', '1276.0', '1330.0', '1354.0', '1386.0', '1396.0', '1426.0', '1431.0'], ['132.0', '202.0', '241.0', '1168.0', '1320.0'], ['28.0', '36.0', '103.0', '116.0', '151.0', '390.0', '446.0', '933.0', '1056.0', '1176.0', '1313.0', '1425.0', '1429.0'], ['151.0', '191.0', '194.0', '444.0', '1304.0'], ['33.0', '57.0', '64.0', '223.0', '422.0', '833.0', '1276.0', '1330.0', '1354.0', '1386.0', '1396.0', '1426.0', '1431.0'], ['113.0', '124.0', '125.0', '151.0', '260.0', '268.0', '600.0', '990.0', '1017.0', '1282.0', '1304.0', '1364.0', '1398.0', '1428.0'], ['12.0', '43.0', '50.0', '78.0', '107.0', '109.0', '132.0', '136.0', '151.0', '158.0', '194.0', '213.0', '225.0', '230.0', '237.0', '241.0', '258.0', '283.0', '303.0', '316.0', '349.0', '362.0', '409.0', '420.0', '440.0', '470.0', '525.0', '544.0', '585.0', '622.0', '682.0', '722.0', '795.0', '821.0', '833.0', '844.0', '846.0', '865.0', '868.0', '891.0', '898.0', '939.0', '957.0', '969.0', '990.0', '1035.0', '1052.0', '1054.0', '1055.0', '1149.0', '1165.0', '1168.0', '1184.0', '1274.0', '1276.0', '1314.0', '1330.0', '1332.0', '1337.0', '1338.0', '1351.0', '1367.0', '1412.0', '1423.0', '1427.0', '1431.0'], ['33.0', '330.0', '422.0', '882.0', '957.0', '1017.0', '1053.0', '1055.0', '1164.0', '1170.0', '1186.0', '1330.0', '1424.0'], ['120.0', '151.0', '193.0', '213.0', '462.0', '865.0', '903.0', '1162.0'], ['16.0', '116.0', '158.0', '241.0', '283.0', '593.0', '844.0', '1017.0', '1166.0', '1420.0'], ['14.0', '34.0', '57.0', '111.0', '132.0', '142.0', '173.0', '189.0', '202.0', '302.0', '379.0', '390.0', '415.0', '427.0', '528.0', '542.0', '563.0', '583.0', '593.0', '606.0', '645.0', '692.0', '695.0', '723.0', '809.0', '878.0', '898.0', '943.0', '975.0', '981.0', '1017.0', '1042.0', '1047.0', '1052.0', '1053.0', '1160.0', '1163.0', '1164.0', '1166.0', '1170.0', '1171.0', '1172.0', '1174.0', '1185.0', '1198.0', '1276.0', '1313.0', '1314.0', '1328.0', '1336.0', '1338.0', '1351.0', '1364.0', '1393.0', '1397.0', '1402.0', '1428.0', '1436.0'], ['32.0', '39.0', '98.0', '107.0', '109.0', '124.0', '125.0', '151.0', '215.0', '260.0', '268.0', '369.0', '462.0', '588.0', '593.0', '600.0', '681.0', '729.0', '730.0', '932.0', '933.0', '1014.0', '1025.0', '1044.0', '1178.0', '1185.0', '1314.0', '1391.0', '1423.0'], ['12.0', '20.0', '39.0', '51.0', '108.0', '130.0', '151.0', '173.0', '369.0', '411.0', '477.0', '495.0', '508.0', '542.0', '563.0', '600.0', '641.0', '651.0', '665.0', '681.0', '722.0', '812.0', '821.0', '844.0', '846.0', '906.0', '936.0', '975.0', '1051.0', '1052.0', '1053.0', '1054.0', '1061.0', '1067.0', '1159.0', '1160.0', '1163.0', '1164.0', '1165.0', '1170.0', '1190.0', '1197.0', '1260.0', '1261.0', '1276.0', '1293.0', '1336.0', '1338.0', '1349.0', '1354.0', '1386.0', '1397.0', '1403.0', '1423.0', '1426.0', '1429.0', '1436.0', '1437.0'], ['8.0', '18.0', '57.0', '92.0', '98.0', '108.0', '111.0', '142.0', '202.0', '349.0', '415.0', '729.0', '795.0', '844.0', '969.0', '1025.0', '1160.0', '1163.0', '1164.0', '1165.0', '1170.0', '1172.0', '1175.0', '1276.0', '1321.0', '1329.0', '1330.0', '1331.0', '1336.0', '1360.0', '1430.0', '1433.0', '1436.0', '1437.0'], ['146.0', '151.0', '162.0', '673.0', '1165.0', '1186.0', '1336.0', '1436.0'], ['68.0', '92.0', '151.0', '213.0', '1054.0'], ['43.0', '109.0', '151.0', '164.0', '542.0', '641.0', '865.0', '1185.0', '1304.0', '1364.0', '1368.0'], ['151.0', '260.0', '969.0', '1044.0', '1164.0', '1296.0', '1324.0', '1351.0'], ['202.0'], ['202.0', '237.0', '1162.0', '1172.0'], ['101.0', '103.0', '125.0', '151.0', '193.0', '263.0', '510.0', '563.0', '600.0', '821.0', '1016.0', '1025.0', '1351.0', '1354.0', '1364.0', '1432.0'], ['151.0', '593.0', '1059.0'], ['33.0', '122.0', '1293.0', '1328.0', '1386.0', '1439.0'], ['33.0', '34.0', '51.0', '78.0', '761.0', '1364.0', '1394.0', '1398.0', '1431.0'], ['33.0', '57.0', '116.0', '131.0', '162.0', '237.0', '353.0', '400.0', '486.0', '681.0', '759.0', '910.0', '962.0', '969.0', '1048.0', '1160.0', '1165.0', '1166.0', '1170.0', '1171.0', '1172.0', '1293.0', '1317.0', '1336.0', '1343.0', '1350.0', '1354.0', '1360.0', '1427.0', '1429.0'], ['20.0', '33.0', '43.0', '68.0', '76.0', '109.0', '116.0', '124.0', '210.0', '232.0', '237.0', '241.0', '268.0', '278.0', '284.0', '315.0', '409.0', '500.0', '600.0', '721.0', '725.0', '855.0', '864.0', '887.0', '1004.0', '1016.0', '1028.0', '1050.0', '1052.0', '1053.0', '1162.0', '1166.0', '1170.0', '1171.0', '1176.0', '1184.0', '1276.0', '1336.0', '1354.0', '1364.0', '1393.0', '1398.0', '1420.0', '1424.0', '1426.0', '1427.0', '1429.0', '1431.0'], ['30.0', '115.0', '151.0', '448.0', '730.0', '795.0'], ['151.0', '157.0', '1429.0'], ['202.0', '491.0', '833.0', '1314.0', '1354.0', '1432.0'], ['16.0'], ['32.0', '151.0', '1164.0'], ['12.0', '16.0', '26.0', '28.0', '53.0', '57.0', '102.0', '108.0', '109.0', '110.0', '138.0', '193.0', '215.0', '221.0', '223.0', '236.0', '241.0', '302.0', '314.0', '362.0', '399.0', '412.0', '427.0', '448.0', '464.0', '470.0', '475.0', '477.0', '534.0', '553.0', '607.0', '609.0', '616.0', '618.0', '665.0', '680.0', '681.0', '682.0', '695.0', '729.0', '732.0', '766.0', '903.0', '943.0', '969.0', '1047.0', '1162.0', '1163.0', '1166.0', '1171.0', '1172.0', '1181.0', '1271.0', '1304.0', '1305.0', '1307.0', '1314.0', '1317.0', '1338.0', '1354.0', '1364.0', '1367.0', '1368.0', '1405.0', '1409.0', '1416.0', '1420.0', '1423.0', '1427.0', '1430.0', '1436.0'], ['20.0', '51.0', '101.0', '151.0', '193.0', '240.0', '329.0', '353.0', '525.0', '645.0', '759.0', '821.0', '833.0', '911.0', '975.0', '1025.0', '1054.0', '1160.0', '1162.0', '1166.0', '1170.0', '1181.0', '1296.0', '1308.0', '1330.0', '1351.0', '1429.0'], ['64.0', '151.0', '795.0'], ['151.0'], ['151.0', '415.0', '647.0', '1017.0', '1025.0', '1332.0'], ['2.0', '12.0', '14.0', '20.0', '30.0', '40.0', '43.0', '51.0', '57.0', '74.0', '101.0', '108.0', '110.0', '116.0', '120.0', '124.0', '130.0', '164.0', '173.0', '193.0', '194.0', '202.0', '205.0', '213.0', '263.0', '310.0', '336.0', '349.0', '353.0', '409.0', '462.0', '470.0', '477.0', '491.0', '522.0', '599.0', '645.0', '647.0', '651.0', '658.0', '665.0', '681.0', '684.0', '730.0', '744.0', '766.0', '812.0', '821.0', '825.0', '833.0', '844.0', '855.0', '898.0', '939.0', '969.0', '975.0', '986.0', '1018.0', '1024.0', '1025.0', '1047.0', '1054.0', '1116.0', '1160.0', '1162.0', '1163.0', '1165.0', '1170.0', '1171.0', '1172.0', '1175.0', '1176.0', '1185.0', '1186.0', '1198.0', '1274.0', '1276.0', '1286.0', '1293.0', '1299.0', '1314.0', '1324.0', '1330.0', '1351.0', '1354.0', '1360.0', '1363.0', '1364.0', '1367.0', '1368.0', '1393.0', '1422.0', '1425.0', '1427.0', '1429.0', '1430.0', '1432.0'], ['50.0', '78.0', '109.0', '124.0', '125.0', '202.0', '210.0', '236.0', '330.0', '600.0', '682.0', '730.0', '975.0', '1025.0', '1160.0', '1286.0', '1330.0', '1391.0', '1424.0'], ['18.0', '57.0', '151.0', '158.0', '213.0', '273.0', '415.0', '482.0', '668.0', '692.0', '723.0', '749.0', '955.0', '968.0', '969.0', '1047.0', '1160.0', '1162.0', '1163.0', '1170.0', '1171.0', '1172.0', '1174.0', '1176.0', '1177.0', '1185.0', '1271.0', '1293.0', '1296.0', '1314.0', '1324.0', '1343.0', '1368.0', '1395.0', '1420.0', '1429.0', '1430.0'], ['12.0', '43.0', '111.0', '124.0', '151.0', '193.0', '260.0', '464.0', '655.0', '732.0', '788.0', '1017.0', '1160.0', '1162.0', '1165.0', '1166.0', '1176.0', '1271.0', '1296.0', '1314.0', '1320.0', '1338.0', '1351.0', '1354.0', '1357.0', '1367.0', '1398.0', '1400.0', '1405.0', '1436.0'], ['98.0', '125.0', '151.0', '194.0', '428.0', '825.0', '1025.0', '1053.0', '1162.0', '1163.0', '1186.0', '1228.0', '1282.0', '1351.0'], ['20.0', '151.0', '1176.0', '1336.0'], ['12.0', '14.0', '40.0', '74.0', '98.0', '120.0', '151.0', '152.0', '195.0', '215.0', '223.0', '225.0', '230.0', '310.0', '314.0', '319.0', '349.0', '382.0', '390.0', '475.0', '656.0', '665.0', '723.0', '729.0', '766.0', '825.0', '957.0', '969.0', '1017.0', '1052.0', '1053.0', '1054.0', '1059.0', '1152.0', '1158.0', '1160.0', '1162.0', '1163.0', '1168.0', '1174.0', '1176.0', '1181.0', '1185.0', '1186.0', '1271.0', '1276.0', '1278.0', '1282.0', '1293.0', '1296.0', '1304.0', '1314.0', '1320.0', '1328.0', '1338.0', '1343.0', '1351.0', '1354.0', '1357.0', '1360.0', '1364.0', '1366.0', '1368.0', '1386.0', '1398.0', '1400.0', '1406.0', '1423.0', '1427.0', '1429.0', '1430.0', '1431.0', '1433.0', '1435.0', '1436.0'], ['202.0', '283.0', '337.0', '732.0', '1368.0'], ['40.0', '43.0', '116.0', '151.0', '153.0', '221.0', '260.0', '336.0', '369.0', '465.0', '600.0', '641.0', '647.0', '730.0', '732.0', '788.0', '1017.0', '1048.0', '1052.0', '1163.0', '1165.0', '1166.0', '1314.0', '1336.0', '1364.0', '1423.0', '1427.0', '1430.0'], ['34.0', '43.0', '57.0', '116.0', '151.0', '250.0', '339.0', '415.0', '600.0', '609.0', '669.0', '843.0', '1165.0', '1271.0', '1304.0', '1336.0', '1368.0', '1398.0'], ['151.0'], ['16.0', '1431.0'], ['12.0', '29.0', '33.0', '43.0', '74.0', '409.0', '460.0', '491.0', '495.0', '645.0', '720.0', '812.0', '957.0', '958.0', '968.0', '977.0', '993.0', '1025.0', '1271.0', '1276.0', '1314.0', '1330.0', '1358.0', '1360.0', '1364.0', '1427.0', '1429.0', '1431.0', '1432.0'], ['131.0', '202.0', '911.0', '981.0', '1430.0', '1437.0'], ['124.0', '151.0', '213.0', '251.0', '316.0', '336.0', '409.0', '825.0', '1025.0', '1160.0', '1162.0', '1166.0', '1170.0', '1171.0', '1330.0', '1398.0'], ['43.0', '77.0', '151.0', '152.0', '236.0', '379.0', '645.0', '813.0', '1017.0', '1164.0', '1185.0', '1304.0', '1330.0', '1336.0', '1351.0', '1368.0', '1386.0', '1431.0'], ['14.0', '16.0', '28.0', '32.0', '57.0', '108.0', '109.0', '132.0', '173.0', '251.0', '252.0', '253.0', '263.0', '268.0', '310.0', '353.0', '460.0', '651.0', '658.0', '723.0', '813.0', '864.0', '933.0', '939.0', '975.0', '1024.0', '1044.0', '1314.0', '1430.0'], ['26.0', '33.0', '477.0', '729.0', '744.0', '882.0', '957.0', '1017.0'], ['53.0', '122.0', '151.0', '926.0', '957.0', '959.0', '1025.0', '1164.0', '1177.0'], ['33.0', '415.0', '1191.0'], ['12.0', '29.0', '33.0', '110.0', '651.0', '761.0', '882.0', '910.0', '957.0', '1172.0', '1420.0', '1426.0', '1431.0'], ['16.0', '482.0', '705.0', '1180.0', '1304.0', '1305.0', '1317.0', '1338.0', '1357.0', '1364.0', '1367.0', '1400.0', '1428.0', '1429.0', '1431.0', '1432.0', '1436.0'], ['8.0', '12.0', '20.0', '103.0', '116.0', '120.0', '124.0', '125.0', '136.0', '151.0', '164.0', '193.0', '194.0', '237.0', '241.0', '268.0', '278.0', '288.0', '329.0', '362.0', '369.0', '448.0', '477.0', '485.0', '491.0', '510.0', '547.0', '585.0', '593.0', '600.0', '647.0', '656.0', '684.0', '692.0', '723.0', '833.0', '943.0', '948.0', '969.0', '977.0', '1025.0', '1052.0', '1056.0', '1057.0', '1060.0', '1160.0', '1162.0', '1163.0', '1165.0', '1166.0', '1174.0', '1183.0', '1252.0', '1274.0', '1276.0', '1282.0', '1314.0', '1330.0', '1336.0', '1351.0', '1354.0', '1360.0', '1367.0', '1391.0', '1393.0', '1398.0', '1403.0', '1422.0', '1427.0', '1428.0', '1429.0', '1436.0'], ['33.0', '64.0', '108.0', '221.0', '283.0', '315.0', '330.0', '382.0', '508.0', '542.0', '622.0', '682.0', '749.0', '865.0', '957.0', '959.0', '1014.0', '1044.0', '1160.0', '1276.0', '1314.0', '1330.0', '1332.0', '1338.0', '1351.0', '1410.0'], ['202.0', '369.0', '764.0'], ['89.0', '108.0', '110.0', '116.0', '151.0', '164.0', '244.0', '283.0', '369.0', '422.0', '468.0', '508.0', '647.0', '651.0', '681.0', '682.0', '727.0', '732.0', '764.0', '785.0', '812.0', '933.0', '957.0', '1042.0', '1048.0', '1056.0', '1059.0', '1062.0', '1172.0', '1253.0', '1293.0', '1296.0', '1304.0', '1314.0', '1330.0', '1332.0', '1338.0', '1343.0', '1351.0', '1354.0', '1360.0', '1368.0', '1393.0', '1398.0', '1410.0', '1427.0', '1428.0', '1436.0', '1437.0'], ['33.0', '1293.0', '1429.0', '1432.0'], ['151.0', '542.0'], ['8.0', '16.0', '34.0', '40.0', '50.0', '53.0', '59.0', '74.0', '92.0', '111.0', '120.0', '152.0', '153.0', '173.0', '181.0', '194.0', '234.0', '253.0', '284.0', '295.0', '313.0', '315.0', '367.0', '379.0', '381.0', '398.0', '415.0', '468.0', '485.0', '528.0', '567.0', '583.0', '585.0', '599.0', '606.0', '665.0', '670.0', '681.0', '723.0', '768.0', '784.0', '812.0', '813.0', '833.0', '843.0', '861.0', '862.0', '865.0', '871.0', '887.0', '898.0', '911.0', '936.0', '939.0', '943.0', '996.0', '1044.0', '1047.0', '1053.0', '1160.0', '1162.0', '1163.0', '1164.0', '1165.0', '1166.0', '1172.0', '1174.0', '1176.0', '1185.0', '1188.0', '1274.0', '1276.0', '1293.0', '1305.0', '1314.0', '1317.0', '1330.0', '1336.0', '1337.0', '1338.0', '1350.0', '1351.0', '1354.0', '1360.0', '1364.0', '1368.0', '1386.0', '1391.0', '1393.0', '1395.0', '1396.0', '1400.0', '1420.0', '1422.0', '1423.0', '1427.0', '1429.0', '1431.0', '1432.0', '1436.0'], ['151.0', '1282.0'], ['2.0', '20.0', '33.0', '51.0', '125.0', '130.0', '193.0', '223.0', '224.0', '250.0', '353.0', '440.0', '600.0', '641.0', '933.0', '939.0', '1164.0', '1171.0', '1172.0', '1274.0', '1304.0', '1305.0', '1350.0', '1363.0', '1364.0', '1386.0', '1423.0', '1425.0', '1431.0', '1436.0'], ['26.0', '151.0', '969.0', '1176.0', '1274.0', '1314.0'], ['16.0', '18.0', '477.0', '969.0', '1025.0', '1048.0', '1172.0', '1314.0', '1354.0', '1393.0', '1424.0', '1436.0'], ['16.0', '62.0', '138.0', '462.0', '1054.0', '1141.0', '1304.0', '1330.0', '1336.0', '1364.0'], ['202.0', '329.0', '383.0', '542.0', '1055.0', '1185.0', '1364.0', '1436.0'], ['32.0', '34.0', '111.0', '151.0', '223.0', '337.0', '390.0', '616.0', '721.0', '846.0', '1047.0', '1053.0', '1160.0', '1163.0', '1164.0', '1170.0', '1172.0', '1183.0', '1184.0', '1276.0', '1330.0', '1336.0', '1357.0', '1364.0', '1367.0', '1391.0', '1394.0', '1407.0', '1420.0', '1424.0', '1429.0', '1430.0', '1431.0', '1436.0', '1437.0'], ['162.0', '202.0', '382.0', '460.0', '641.0', '936.0', '1024.0', '1047.0', '1048.0'], ['12.0', '30.0', '92.0', '151.0', '237.0', '795.0', '812.0'], ['151.0', '250.0', '415.0', '1017.0', '1184.0', '1432.0'], ['16.0'], ['12.0', '33.0', '43.0', '162.0', '213.0', '223.0', '310.0', '359.0', '547.0', '667.0', '813.0', '898.0', '943.0', '1162.0', '1165.0', '1170.0', '1171.0', '1172.0', '1293.0', '1324.0', '1330.0', '1351.0', '1364.0', '1368.0', '1431.0', '1432.0'], ['12.0', '14.0', '40.0', '74.0', '98.0', '120.0', '151.0', '152.0', '215.0', '223.0', '225.0', '230.0', '310.0', '314.0', '319.0', '349.0', '382.0', '390.0', '475.0', '656.0', '665.0', '723.0', '729.0', '766.0', '825.0', '957.0', '969.0', '1017.0', '1052.0', '1053.0', '1054.0', '1059.0', '1124.0', '1152.0', '1158.0', '1160.0', '1162.0', '1163.0', '1168.0', '1174.0', '1176.0', '1181.0', '1185.0', '1186.0', '1271.0', '1276.0', '1278.0', '1282.0', '1293.0', '1296.0', '1304.0', '1314.0', '1320.0', '1328.0', '1338.0', '1343.0', '1351.0', '1354.0', '1357.0', '1360.0', '1364.0', '1366.0', '1368.0', '1386.0', '1398.0', '1400.0', '1406.0', '1423.0', '1427.0', '1429.0', '1430.0', '1431.0', '1433.0', '1435.0', '1436.0'], ['146.0', '202.0', '373.0'], ['8.0', '151.0', '314.0', '969.0', '1396.0'], ['43.0', '53.0', '101.0', '120.0', '130.0', '132.0', '151.0', '162.0', '223.0', '234.0', '253.0', '260.0', '311.0', '339.0', '352.0', '356.0', '362.0', '367.0', '390.0', '398.0', '444.0', '475.0', '479.0', '482.0', '485.0', '515.0', '566.0', '567.0', '606.0', '722.0', '723.0', '735.0', '795.0', '809.0', '861.0', '865.0', '881.0', '892.0', '939.0', '952.0', '1025.0', '1172.0', '1338.0', '1360.0', '1427.0', '1430.0'], ['16.0', '482.0', '681.0', '705.0', '1180.0', '1304.0', '1305.0', '1317.0', '1338.0', '1357.0', '1364.0', '1367.0', '1400.0', '1428.0', '1429.0', '1431.0', '1432.0', '1436.0'], ['108.0', '131.0', '202.0', '1017.0', '1028.0', '1055.0', '1164.0', '1426.0', '1430.0', '1432.0'], ['33.0', '53.0', '112.0', '124.0', '221.0', '369.0', '382.0', '468.0', '651.0', '681.0', '682.0', '730.0', '805.0', '1008.0', '1054.0', '1055.0', '1165.0', '1176.0', '1198.0', '1257.0', '1274.0', '1277.0', '1286.0', '1304.0', '1305.0', '1314.0', '1317.0', '1329.0', '1343.0', '1360.0', '1364.0', '1366.0', '1395.0', '1400.0', '1423.0', '1428.0'], ['33.0', '102.0', '142.0', '330.0', '422.0', '882.0', '957.0', '1017.0', '1053.0', '1055.0', '1164.0', '1170.0', '1186.0', '1330.0', '1424.0'], ['151.0', '729.0', '843.0', '1054.0', '1165.0', '1170.0', '1172.0', '1179.0', '1186.0', '1271.0', '1273.0', '1280.0', '1296.0', '1304.0', '1305.0', '1313.0', '1314.0', '1320.0', '1328.0', '1330.0', '1336.0', '1338.0', '1343.0', '1351.0', '1356.0', '1362.0', '1364.0', '1368.0', '1393.0', '1410.0', '1424.0', '1429.0', '1436.0'], ['12.0', '16.0', '26.0', '53.0', '57.0', '102.0', '108.0', '109.0', '110.0', '193.0', '215.0', '221.0', '223.0', '236.0', '241.0', '302.0', '314.0', '362.0', '399.0', '412.0', '427.0', '448.0', '464.0', '470.0', '475.0', '477.0', '534.0', '553.0', '607.0', '609.0', '616.0', '618.0', '665.0', '680.0', '681.0', '682.0', '695.0', '729.0', '732.0', '744.0', '766.0', '903.0', '943.0', '969.0', '1047.0', '1162.0', '1163.0', '1166.0', '1171.0', '1172.0', '1181.0', '1271.0', '1304.0', '1305.0', '1307.0', '1314.0', '1317.0', '1338.0', '1354.0', '1364.0', '1367.0', '1368.0', '1405.0', '1409.0', '1416.0', '1420.0', '1423.0', '1427.0', '1430.0', '1436.0'], ['33.0', '64.0', '108.0', '221.0', '283.0', '315.0', '330.0', '382.0', '508.0', '525.0', '542.0', '622.0', '682.0', '749.0', '865.0', '957.0', '959.0', '1014.0', '1044.0', '1160.0', '1276.0', '1314.0', '1330.0', '1332.0', '1338.0', '1351.0', '1410.0'], ['34.0', '151.0', '865.0', '876.0', '1024.0', '1185.0', '1330.0', '1338.0', '1364.0', '1368.0', '1394.0'], ['14.0', '34.0', '111.0', '132.0', '142.0', '173.0', '189.0', '202.0', '302.0', '379.0', '390.0', '415.0', '427.0', '528.0', '542.0', '563.0', '583.0', '593.0', '606.0', '645.0', '692.0', '695.0', '723.0', '809.0', '878.0', '898.0', '943.0', '975.0', '981.0', '1017.0', '1042.0', '1047.0', '1052.0', '1053.0', '1160.0', '1163.0', '1164.0', '1166.0', '1170.0', '1171.0', '1172.0', '1174.0', '1185.0', '1198.0', '1276.0', '1313.0', '1314.0', '1328.0', '1336.0', '1338.0', '1351.0', '1364.0', '1393.0', '1397.0', '1402.0', '1428.0', '1436.0'], ['33.0', '98.0', '193.0', '237.0', '903.0', '968.0', '981.0', '1014.0', '1055.0', '1141.0', '1165.0', '1172.0', '1176.0', '1185.0', '1221.0', '1314.0', '1336.0', '1354.0', '1367.0', '1368.0', '1395.0', '1423.0', '1429.0', '1431.0'], ['33.0', '131.0', '422.0', '632.0', '1162.0', '1314.0', '1338.0', '1343.0', '1351.0', '1360.0', '1403.0', '1430.0', '1431.0', '1432.0', '1436.0'], ['29.0', '39.0', '50.0', '103.0', '164.0', '194.0', '202.0', '237.0', '251.0', '310.0', '681.0', '821.0', '959.0', '1016.0', '1158.0', '1165.0', '1276.0', '1293.0', '1304.0', '1305.0', '1314.0', '1343.0', '1354.0', '1368.0', '1427.0', '1428.0', '1431.0'], ['98.0', '107.0', '125.0', '151.0', '428.0', '825.0', '1025.0', '1053.0', '1162.0', '1163.0', '1186.0', '1228.0', '1282.0', '1351.0'], ['16.0', '43.0', '109.0', '120.0', '122.0', '124.0', '164.0', '194.0', '349.0', '622.0', '651.0', '957.0', '965.0', '1055.0', '1060.0', '1070.0', '1071.0', '1073.0', '1139.0', '1157.0', '1170.0', '1172.0', '1185.0', '1271.0', '1274.0', '1276.0', '1314.0', '1324.0', '1328.0', '1330.0', '1336.0', '1351.0', '1360.0', '1364.0', '1420.0', '1422.0', '1426.0', '1429.0', '1431.0', '1434.0', '1437.0', '1439.0'], ['2.0', '12.0', '14.0', '20.0', '40.0', '43.0', '51.0', '57.0', '74.0', '101.0', '108.0', '110.0', '116.0', '120.0', '124.0', '130.0', '164.0', '173.0', '193.0', '194.0', '202.0', '205.0', '213.0', '263.0', '310.0', '336.0', '349.0', '353.0', '409.0', '462.0', '470.0', '477.0', '491.0', '522.0', '599.0', '645.0', '647.0', '651.0', '658.0', '665.0', '681.0', '684.0', '730.0', '744.0', '766.0', '812.0', '821.0', '825.0', '833.0', '844.0', '855.0', '898.0', '939.0', '969.0', '975.0', '986.0', '1018.0', '1024.0', '1025.0', '1047.0', '1048.0', '1054.0', '1116.0', '1160.0', '1162.0', '1163.0', '1165.0', '1170.0', '1171.0', '1172.0', '1175.0', '1176.0', '1185.0', '1186.0', '1198.0', '1274.0', '1276.0', '1286.0', '1293.0', '1299.0', '1314.0', '1324.0', '1330.0', '1351.0', '1354.0', '1360.0', '1363.0', '1364.0', '1367.0', '1368.0', '1393.0', '1422.0', '1425.0', '1427.0', '1429.0', '1430.0', '1432.0'], ['20.0', '33.0', '43.0', '68.0', '76.0', '109.0', '116.0', '124.0', '210.0', '232.0', '237.0', '241.0', '268.0', '278.0', '284.0', '315.0', '409.0', '500.0', '600.0', '721.0', '725.0', '855.0', '864.0', '887.0', '1004.0', '1016.0', '1028.0', '1050.0', '1052.0', '1053.0', '1162.0', '1166.0', '1170.0', '1171.0', '1176.0', '1184.0', '1276.0', '1336.0', '1354.0', '1364.0', '1393.0', '1398.0', '1420.0', '1424.0', '1426.0', '1427.0', '1429.0', '1431.0'], ['12.0', '20.0', '39.0', '51.0', '108.0', '130.0', '151.0', '173.0', '189.0', '369.0', '411.0', '477.0', '495.0', '508.0', '522.0', '542.0', '563.0', '600.0', '641.0', '651.0', '665.0', '681.0', '722.0', '812.0', '821.0', '844.0', '846.0', '906.0', '936.0', '975.0', '1051.0', '1052.0', '1053.0', '1054.0', '1061.0', '1067.0', '1159.0', '1160.0', '1163.0', '1164.0', '1165.0', '1170.0', '1190.0', '1197.0', '1260.0', '1261.0', '1276.0', '1293.0', '1336.0', '1338.0', '1349.0', '1354.0', '1386.0', '1397.0', '1403.0', '1423.0', '1426.0', '1429.0', '1436.0', '1437.0'], ['8.0', '14.0', '57.0', '92.0', '98.0', '108.0', '111.0', '142.0', '202.0', '349.0', '415.0', '729.0', '795.0', '844.0', '969.0', '1025.0', '1160.0', '1163.0', '1164.0', '1165.0', '1170.0', '1172.0', '1175.0', '1276.0', '1321.0', '1329.0', '1330.0', '1331.0', '1336.0', '1360.0', '1430.0', '1433.0', '1436.0', '1437.0'], ['14.0', '33.0', '43.0', '109.0', '124.0', '164.0', '194.0', '221.0', '239.0', '254.0', '362.0', '390.0', '494.0', '559.0', '617.0', '684.0', '853.0', '865.0', '880.0', '919.0', '933.0', '943.0', '981.0', '1017.0', '1052.0', '1160.0', '1166.0', '1169.0', '1170.0', '1171.0', '1172.0', '1186.0', '1321.0', '1336.0', '1349.0', '1351.0', '1360.0', '1368.0', '1386.0', '1396.0', '1423.0', '1424.0', '1429.0', '1430.0', '1431.0', '1436.0'], ['53.0', '151.0', '184.0', '606.0', '681.0', '682.0', '766.0', '1014.0', '1174.0', '1178.0', '1304.0', '1305.0', '1320.0', '1321.0', '1330.0', '1394.0', '1400.0', '1435.0'], ['33.0', '299.0', '732.0', '1164.0', '1313.0'], ['142.0', '202.0', '337.0', '732.0', '1162.0', '1368.0'], ['124.0', '151.0', '323.0', '682.0', '1276.0', '1427.0', '1432.0'], ['89.0', '108.0', '110.0', '116.0', '151.0', '164.0', '236.0', '244.0', '283.0', '369.0', '422.0', '468.0', '508.0', '647.0', '651.0', '681.0', '682.0', '727.0', '732.0', '764.0', '785.0', '812.0', '933.0', '957.0', '1025.0', '1042.0', '1048.0', '1056.0', '1059.0', '1062.0', '1172.0', '1253.0', '1293.0', '1296.0', '1304.0', '1314.0', '1330.0', '1332.0', '1338.0', '1343.0', '1351.0', '1354.0', '1360.0', '1368.0', '1393.0', '1398.0', '1410.0', '1427.0', '1428.0', '1436.0', '1437.0'], ['33.0', '92.0', '124.0', '153.0', '260.0', '283.0', '376.0', '448.0', '464.0', '485.0', '647.0', '651.0', '658.0', '681.0', '693.0', '732.0', '919.0', '955.0', '1017.0', '1160.0', '1176.0', '1180.0', '1273.0', '1274.0', '1304.0', '1314.0', '1329.0', '1338.0', '1351.0', '1366.0', '1431.0', '1432.0'], ['108.0', '151.0', '880.0', '1017.0', '1360.0', '1429.0'], ['14.0', '16.0', '28.0', '32.0', '40.0', '57.0', '108.0', '109.0', '132.0', '173.0', '251.0', '252.0', '253.0', '263.0', '268.0', '310.0', '353.0', '460.0', '651.0', '658.0', '723.0', '813.0', '864.0', '933.0', '939.0', '975.0', '1024.0', '1044.0', '1314.0', '1430.0'], ['8.0', '16.0', '34.0', '40.0', '50.0', '53.0', '59.0', '74.0', '92.0', '111.0', '120.0', '152.0', '153.0', '173.0', '181.0', '194.0', '234.0', '253.0', '284.0', '295.0', '313.0', '315.0', '367.0', '379.0', '381.0', '398.0', '415.0', '426.0', '468.0', '485.0', '528.0', '567.0', '583.0', '585.0', '599.0', '606.0', '665.0', '670.0', '681.0', '723.0', '768.0', '784.0', '812.0', '813.0', '833.0', '843.0', '861.0', '862.0', '865.0', '871.0', '887.0', '898.0', '911.0', '936.0', '939.0', '943.0', '996.0', '1044.0', '1047.0', '1053.0', '1160.0', '1162.0', '1163.0', '1164.0', '1165.0', '1166.0', '1172.0', '1174.0', '1176.0', '1185.0', '1188.0', '1274.0', '1276.0', '1293.0', '1305.0', '1314.0', '1317.0', '1330.0', '1336.0', '1337.0', '1338.0', '1350.0', '1351.0', '1354.0', '1360.0', '1364.0', '1368.0', '1386.0', '1391.0', '1393.0', '1395.0', '1396.0', '1400.0', '1420.0', '1422.0', '1423.0', '1427.0', '1429.0', '1431.0', '1432.0', '1436.0'], ['26.0', '33.0', '40.0', '43.0', '164.0', '284.0', '313.0', '411.0', '422.0', '542.0', '617.0', '1016.0', '1170.0', '1171.0', '1172.0', '1293.0', '1330.0', '1364.0', '1393.0', '1395.0', '1428.0', '1429.0', '1431.0', '1436.0'], ['28.0', '43.0', '120.0', '136.0', '151.0', '295.0', '409.0', '474.0', '600.0', '632.0', '825.0', '1016.0', '1054.0', '1164.0', '1170.0', '1176.0', '1185.0', '1276.0', '1293.0', '1314.0', '1336.0', '1338.0', '1343.0', '1354.0', '1360.0', '1393.0', '1427.0', '1428.0', '1429.0', '1431.0', '1436.0'], ['12.0', '29.0', '33.0', '43.0', '74.0', '164.0', '409.0', '460.0', '491.0', '495.0', '645.0', '720.0', '812.0', '957.0', '958.0', '968.0', '977.0', '993.0', '1025.0', '1271.0', '1276.0', '1314.0', '1330.0', '1358.0', '1360.0', '1364.0', '1427.0', '1429.0', '1431.0', '1432.0'], ['151.0', '415.0', '809.0', '1407.0'], ['33.0', '57.0', '116.0', '131.0', '162.0', '237.0', '353.0', '400.0', '486.0', '681.0', '759.0', '910.0', '962.0', '969.0', '1048.0', '1160.0', '1165.0', '1166.0', '1170.0', '1171.0', '1172.0', '1293.0', '1317.0', '1336.0', '1343.0', '1350.0', '1354.0', '1360.0', '1426.0', '1427.0', '1429.0'], ['124.0', '151.0', '173.0', '782.0', '881.0', '943.0', '1164.0', '1165.0', '1166.0', '1171.0', '1274.0', '1282.0', '1293.0', '1317.0', '1320.0', '1330.0', '1343.0', '1351.0', '1354.0', '1393.0'], ['151.0', '759.0', '1170.0'], ['32.0', '34.0', '111.0', '151.0', '223.0', '337.0', '390.0', '616.0', '721.0', '723.0', '846.0', '1047.0', '1053.0', '1160.0', '1163.0', '1164.0', '1170.0', '1172.0', '1183.0', '1184.0', '1276.0', '1330.0', '1336.0', '1357.0', '1364.0', '1367.0', '1391.0', '1394.0', '1407.0', '1420.0', '1424.0', '1429.0', '1430.0', '1431.0', '1436.0', '1437.0'], ['151.0', '162.0', '486.0', '542.0', '645.0', '692.0', '1198.0', '1304.0', '1368.0', '1430.0', '1436.0'], ['14.0', '51.0', '53.0', '102.0', '108.0', '116.0', '120.0', '122.0', '145.0', '153.0', '162.0', '202.0', '221.0', '240.0', '349.0', '448.0', '465.0', '542.0', '600.0', '617.0', '641.0', '681.0', '813.0', '903.0', '1025.0', '1052.0', '1054.0', '1060.0', '1160.0', '1162.0', '1164.0', '1170.0', '1171.0', '1172.0', '1174.0', '1176.0', '1185.0', '1254.0', '1277.0', '1293.0', '1314.0', '1321.0', '1324.0', '1330.0', '1332.0', '1343.0', '1360.0', '1364.0', '1393.0', '1394.0', '1395.0', '1409.0', '1422.0', '1423.0', '1426.0', '1427.0', '1429.0', '1430.0', '1431.0', '1436.0', '1437.0'], ['98.0', '103.0', '108.0', '110.0', '131.0', '158.0', '189.0', '202.0', '263.0', '283.0', '415.0', '564.0', '617.0', '684.0', '764.0', '821.0', '844.0', '933.0', '955.0', '965.0', '1017.0', '1044.0', '1055.0', '1056.0', '1057.0', '1060.0', '1160.0', '1163.0', '1164.0', '1165.0', '1166.0', '1330.0', '1332.0', '1336.0', '1360.0', '1367.0', '1403.0', '1430.0', '1431.0', '1436.0'], ['12.0', '43.0', '111.0', '124.0', '151.0', '193.0', '260.0', '464.0', '655.0', '732.0', '788.0', '1017.0', '1138.0', '1160.0', '1162.0', '1165.0', '1166.0', '1176.0', '1271.0', '1296.0', '1314.0', '1320.0', '1338.0', '1351.0', '1354.0', '1357.0', '1364.0', '1367.0', '1398.0', '1400.0', '1405.0', '1436.0'], ['43.0', '116.0', '130.0', '151.0', '153.0', '221.0', '260.0', '336.0', '369.0', '465.0', '600.0', '641.0', '647.0', '730.0', '732.0', '788.0', '1017.0', '1048.0', '1052.0', '1163.0', '1165.0', '1166.0', '1314.0', '1336.0', '1364.0', '1423.0', '1427.0', '1430.0']]\n"
     ]
    }
   ],
   "source": [
    "similar_user_articles_lists=[get_user_articles(user)[0] for user in similar_user]\n",
    "print(similar_user_articles_lists)\n",
    "#prints([0,4,6],[9,7,4])"
   ]
  },
  {
   "cell_type": "code",
   "execution_count": 387,
   "metadata": {},
   "outputs": [
    {
     "name": "stdout",
     "output_type": "stream",
     "text": [
      "['16.0', '33.0', '76.0', '98.0', '151.0', '164.0', '194.0', '213.0', '237.0', '260.0', '268.0', '278.0', '283.0', '422.0', '480.0', '557.0', '618.0', '730.0', '744.0', '968.0', '1014.0', '1025.0', '1044.0', '1048.0', '1054.0', '1160.0', '1277.0', '1293.0', '1429.0', '1431.0', '20.0', '33.0', '34.0', '68.0', '98.0', '110.0', '124.0', '151.0', '189.0', '202.0', '240.0', '263.0', '268.0', '349.0', '359.0', '415.0', '444.0', '462.0', '525.0', '542.0', '645.0', '681.0', '684.0', '692.0', '720.0', '812.0', '821.0', '878.0', '965.0', '967.0', '975.0', '1006.0', '1014.0', '1017.0', '1047.0', '1050.0', '1055.0', '1056.0', '1137.0', '1154.0', '1170.0', '1171.0', '1172.0', '1185.0', '1263.0', '1293.0', '1304.0', '1330.0', '1336.0', '1338.0', '1343.0', '1351.0', '1364.0', '1394.0', '1395.0', '1398.0', '1436.0', '16.0', '26.0', '32.0', '43.0', '51.0', '64.0', '78.0', '109.0', '116.0', '124.0', '151.0', '202.0', '260.0', '288.0', '381.0', '477.0', '547.0', '593.0', '825.0', '975.0', '1025.0', '1048.0', '1160.0', '1314.0', '1393.0', '1394.0', '1398.0', '1429.0', '1432.0', '20.0', '33.0', '34.0', '68.0', '98.0', '110.0', '124.0', '151.0', '189.0', '202.0', '240.0', '263.0', '268.0', '349.0', '353.0', '359.0', '415.0', '444.0', '462.0', '525.0', '542.0', '645.0', '681.0', '684.0', '692.0', '720.0', '812.0', '821.0', '878.0', '965.0', '967.0', '975.0', '1006.0', '1014.0', '1017.0', '1047.0', '1050.0', '1055.0', '1056.0', '1137.0', '1154.0', '1170.0', '1171.0', '1172.0', '1185.0', '1263.0', '1293.0', '1304.0', '1330.0', '1336.0', '1338.0', '1343.0', '1351.0', '1364.0', '1394.0', '1395.0', '1398.0', '1436.0', '8.0', '33.0', '110.0', '125.0', '151.0', '202.0', '268.0', '295.0', '422.0', '673.0', '681.0', '729.0', '882.0', '957.0', '1174.0', '1178.0', '1332.0', '1429.0', '33.0', '124.0', '151.0', '194.0', '202.0', '210.0', '349.0', '448.0', '470.0', '524.0', '795.0', '864.0', '957.0', '990.0', '1017.0', '1170.0', '1436.0', '33.0', '124.0', '125.0', '151.0', '194.0', '202.0', '349.0', '448.0', '470.0', '524.0', '617.0', '795.0', '864.0', '957.0', '990.0', '1017.0', '1048.0', '1170.0', '1436.0', '16.0', '33.0', '76.0', '98.0', '151.0', '164.0', '194.0', '213.0', '237.0', '260.0', '268.0', '278.0', '283.0', '422.0', '480.0', '557.0', '618.0', '730.0', '744.0', '968.0', '1014.0', '1025.0', '1044.0', '1048.0', '1054.0', '1160.0', '1277.0', '1293.0', '1429.0', '1431.0', '33.0', '110.0', '125.0', '151.0', '202.0', '268.0', '295.0', '422.0', '673.0', '681.0', '729.0', '882.0', '957.0', '1174.0', '1178.0', '1332.0', '1429.0', '16.0', '43.0', '124.0', '151.0', '223.0', '260.0', '510.0', '757.0', '795.0', '898.0', '1028.0', '1052.0', '1053.0', '1143.0', '1166.0', '1186.0', '1338.0', '1360.0', '1367.0', '1398.0', '1403.0', '1416.0', '1424.0', '1426.0', '16.0', '26.0', '32.0', '43.0', '51.0', '64.0', '78.0', '109.0', '116.0', '124.0', '151.0', '260.0', '288.0', '381.0', '477.0', '547.0', '593.0', '825.0', '975.0', '1025.0', '1048.0', '1160.0', '1314.0', '1393.0', '1394.0', '1398.0', '1432.0', '16.0', '151.0', '1330.0', '20.0', '116.0', '151.0', '202.0', '260.0', '373.0', '525.0', '665.0', '1184.0', '1336.0', '12.0', '33.0', '202.0', '50.0', '78.0', '109.0', '124.0', '125.0', '151.0', '202.0', '210.0', '330.0', '600.0', '682.0', '730.0', '975.0', '1025.0', '1160.0', '1286.0', '1330.0', '1391.0', '1424.0', '18.0', '32.0', '33.0', '162.0', '202.0', '237.0', '241.0', '260.0', '263.0', '350.0', '381.0', '390.0', '409.0', '415.0', '426.0', '593.0', '607.0', '610.0', '730.0', '764.0', '766.0', '864.0', '903.0', '957.0', '1016.0', '1042.0', '1178.0', '1183.0', '1299.0', '1336.0', '1351.0', '1363.0', '1387.0', '1427.0', '1431.0', '1435.0', '1439.0', '33.0', '151.0', '283.0', '422.0', '464.0', '600.0', '725.0', '821.0', '882.0', '1044.0', '1232.0', '1336.0', '151.0', '202.0', '1120.0', '1158.0', '1181.0', '1263.0', '1304.0', '1332.0', '1351.0', '1398.0', '1404.0', '1416.0', '1432.0', '16.0', '43.0', '124.0', '151.0', '223.0', '260.0', '510.0', '757.0', '795.0', '898.0', '1028.0', '1052.0', '1053.0', '1143.0', '1166.0', '1186.0', '1304.0', '1338.0', '1360.0', '1367.0', '1398.0', '1403.0', '1416.0', '1424.0', '1426.0', '16.0', '20.0', '98.0', '120.0', '151.0', '191.0', '194.0', '241.0', '260.0', '268.0', '314.0', '524.0', '559.0', '600.0', '730.0', '864.0', '933.0', '1016.0', '1017.0', '1025.0', '1028.0', '1048.0', '1165.0', '1176.0', '1274.0', '1282.0', '1293.0', '1305.0', '1350.0', '1351.0', '1354.0', '1364.0', '1395.0', '1398.0', '1429.0', '1436.0', '26.0', '33.0', '124.0', '151.0', '544.0', '1017.0', '1293.0', '1431.0', '16.0', '18.0', '151.0', '369.0', '477.0', '969.0', '1025.0', '1048.0', '1172.0', '1314.0', '1354.0', '1393.0', '1424.0', '1436.0', '33.0', '108.0', '151.0', '189.0', '617.0', '681.0', '959.0', '1047.0', '1054.0', '1431.0', '1436.0', '65.0', '108.0', '110.0', '151.0', '202.0', '241.0', '260.0', '369.0', '542.0', '681.0', '892.0', '1014.0', '1017.0', '1436.0', '16.0', '20.0', '98.0', '120.0', '151.0', '191.0', '194.0', '241.0', '253.0', '260.0', '268.0', '314.0', '524.0', '559.0', '600.0', '730.0', '864.0', '933.0', '1016.0', '1017.0', '1025.0', '1028.0', '1165.0', '1176.0', '1274.0', '1282.0', '1293.0', '1305.0', '1350.0', '1351.0', '1354.0', '1364.0', '1395.0', '1398.0', '1429.0', '1436.0', '151.0', '173.0', '189.0', '202.0', '369.0', '528.0', '600.0', '795.0', '1293.0', '1338.0', '1430.0', '26.0', '33.0', '124.0', '151.0', '544.0', '1017.0', '1431.0', '16.0', '26.0', '28.0', '116.0', '131.0', '138.0', '146.0', '151.0', '260.0', '314.0', '349.0', '381.0', '462.0', '525.0', '618.0', '645.0', '692.0', '788.0', '833.0', '962.0', '1017.0', '1052.0', '1160.0', '1181.0', '1282.0', '1304.0', '1336.0', '1354.0', '1403.0', '12.0', '151.0', '202.0', '398.0', '486.0', '658.0', '809.0', '1053.0', '1055.0', '1160.0', '1163.0', '1170.0', '1336.0', '1424.0', '1427.0', '33.0', '151.0', '283.0', '422.0', '464.0', '600.0', '725.0', '821.0', '882.0', '1044.0', '1053.0', '1232.0', '1336.0', '1369.0', '33.0', '51.0', '54.0', '124.0', '142.0', '189.0', '202.0', '223.0', '237.0', '241.0', '278.0', '302.0', '337.0', '349.0', '390.0', '524.0', '618.0', '766.0', '864.0', '871.0', '975.0', '1016.0', '1048.0', '1060.0', '1164.0', '1184.0', '1298.0', '1332.0', '1351.0', '1364.0', '1390.0', '1400.0', '1409.0', '1430.0', '1431.0', '1432.0', '1436.0', '12.0', '20.0', '26.0', '33.0', '40.0', '43.0', '74.0', '116.0', '124.0', '151.0', '164.0', '194.0', '241.0', '260.0', '268.0', '278.0', '316.0', '600.0', '723.0', '744.0', '812.0', '882.0', '891.0', '951.0', '969.0', '1035.0', '1048.0', '1170.0', '1171.0', '1172.0', '1330.0', '1336.0', '1351.0', '1429.0', '1431.0', '1436.0', '151.0', '202.0', '1120.0', '1158.0', '1181.0', '1263.0', '1304.0', '1320.0', '1332.0', '1351.0', '1398.0', '1404.0', '1416.0', '1432.0', '151.0', '202.0', '398.0', '486.0', '658.0', '681.0', '809.0', '1053.0', '1055.0', '1160.0', '1163.0', '1170.0', '1336.0', '1424.0', '1427.0', '12.0', '20.0', '26.0', '33.0', '43.0', '74.0', '116.0', '124.0', '151.0', '194.0', '241.0', '260.0', '268.0', '278.0', '316.0', '600.0', '744.0', '812.0', '882.0', '891.0', '969.0', '1035.0', '1048.0', '1170.0', '1171.0', '1172.0', '1330.0', '1336.0', '1351.0', '1429.0', '1431.0', '1436.0', '33.0', '108.0', '151.0', '173.0', '189.0', '617.0', '681.0', '959.0', '1054.0', '1431.0', '1436.0', '12.0', '14.0', '29.0', '33.0', '43.0', '51.0', '109.0', '111.0', '130.0', '142.0', '151.0', '153.0', '162.0', '221.0', '232.0', '237.0', '244.0', '253.0', '273.0', '302.0', '315.0', '316.0', '347.0', '379.0', '382.0', '390.0', '415.0', '464.0', '468.0', '491.0', '547.0', '607.0', '609.0', '692.0', '730.0', '761.0', '763.0', '813.0', '857.0', '858.0', '876.0', '880.0', '933.0', '939.0', '967.0', '981.0', '990.0', '1014.0', '1059.0', '1157.0', '1162.0', '1164.0', '1172.0', '1186.0', '1271.0', '1276.0', '1293.0', '1305.0', '1314.0', '1320.0', '1330.0', '1332.0', '1336.0', '1338.0', '1351.0', '1357.0', '1367.0', '1368.0', '1396.0', '1422.0', '1429.0', '1432.0', '16.0', '26.0', '116.0', '124.0', '131.0', '138.0', '146.0', '151.0', '260.0', '314.0', '349.0', '381.0', '462.0', '525.0', '618.0', '634.0', '645.0', '692.0', '788.0', '833.0', '962.0', '1017.0', '1052.0', '1160.0', '1181.0', '1282.0', '1304.0', '1336.0', '1354.0', '1403.0', '20.0', '116.0', '151.0', '202.0', '260.0', '373.0', '525.0', '665.0', '812.0', '1184.0', '1320.0', '1336.0', '28.0', '33.0', '51.0', '107.0', '124.0', '142.0', '189.0', '202.0', '223.0', '237.0', '241.0', '278.0', '302.0', '337.0', '349.0', '390.0', '524.0', '618.0', '766.0', '864.0', '871.0', '975.0', '1016.0', '1048.0', '1060.0', '1164.0', '1184.0', '1298.0', '1332.0', '1351.0', '1364.0', '1390.0', '1400.0', '1409.0', '1430.0', '1431.0', '1432.0', '1436.0', '2.0', '12.0', '14.0', '16.0', '26.0', '28.0', '29.0', '33.0', '43.0', '50.0', '74.0', '76.0', '108.0', '109.0', '120.0', '124.0', '131.0', '164.0', '193.0', '194.0', '210.0', '213.0', '221.0', '223.0', '236.0', '237.0', '241.0', '252.0', '253.0', '283.0', '295.0', '299.0', '302.0', '316.0', '336.0', '337.0', '339.0', '348.0', '359.0', '362.0', '367.0', '409.0', '422.0', '444.0', '477.0', '482.0', '510.0', '517.0', '524.0', '617.0', '634.0', '641.0', '656.0', '658.0', '665.0', '682.0', '693.0', '720.0', '721.0', '729.0', '744.0', '761.0', '800.0', '812.0', '821.0', '825.0', '833.0', '843.0', '887.0', '910.0', '939.0', '943.0', '952.0', '957.0', '967.0', '969.0', '973.0', '981.0', '996.0', '1000.0', '1014.0', '1025.0', '1051.0', '1052.0', '1101.0', '1148.0', '1159.0', '1160.0', '1162.0', '1163.0', '1164.0', '1165.0', '1166.0', '1170.0', '1171.0', '1172.0', '1176.0', '1181.0', '1185.0', '1276.0', '1277.0', '1291.0', '1293.0', '1298.0', '1299.0', '1304.0', '1305.0', '1314.0', '1330.0', '1332.0', '1336.0', '1338.0', '1343.0', '1351.0', '1354.0', '1357.0', '1360.0', '1364.0', '1366.0', '1367.0', '1368.0', '1386.0', '1391.0', '1393.0', '1395.0', '1396.0', '1423.0', '1427.0', '1428.0', '1429.0', '1430.0', '1431.0', '1432.0', '1436.0', '1439.0', '8.0', '12.0', '33.0', '110.0', '113.0', '124.0', '125.0', '131.0', '136.0', '151.0', '189.0', '210.0', '239.0', '260.0', '268.0', '382.0', '409.0', '440.0', '444.0', '547.0', '557.0', '593.0', '599.0', '645.0', '658.0', '677.0', '682.0', '692.0', '725.0', '729.0', '766.0', '788.0', '795.0', '882.0', '891.0', '919.0', '955.0', '957.0', '969.0', '1015.0', '1162.0', '1164.0', '1304.0', '1330.0', '1343.0', '1364.0', '1395.0', '1416.0', '1422.0', '1424.0', '1425.0', '1431.0', '8.0', '12.0', '33.0', '110.0', '113.0', '124.0', '125.0', '131.0', '136.0', '151.0', '189.0', '210.0', '239.0', '260.0', '268.0', '382.0', '409.0', '440.0', '444.0', '547.0', '557.0', '593.0', '599.0', '645.0', '658.0', '677.0', '682.0', '692.0', '725.0', '729.0', '766.0', '788.0', '795.0', '882.0', '891.0', '919.0', '955.0', '957.0', '969.0', '1015.0', '1162.0', '1164.0', '1304.0', '1330.0', '1343.0', '1364.0', '1395.0', '1416.0', '1422.0', '1424.0', '1425.0', '1431.0', '18.0', '32.0', '33.0', '162.0', '202.0', '237.0', '241.0', '260.0', '263.0', '350.0', '381.0', '390.0', '409.0', '415.0', '426.0', '593.0', '607.0', '610.0', '730.0', '764.0', '766.0', '864.0', '903.0', '957.0', '1016.0', '1042.0', '1178.0', '1183.0', '1299.0', '1336.0', '1351.0', '1363.0', '1387.0', '1427.0', '1431.0', '1435.0', '1439.0', '65.0', '108.0', '110.0', '151.0', '202.0', '241.0', '260.0', '369.0', '542.0', '681.0', '892.0', '1014.0', '1017.0', '1436.0', '151.0', '173.0', '189.0', '202.0', '369.0', '528.0', '600.0', '795.0', '1053.0', '1293.0', '1338.0', '1430.0', '2.0', '12.0', '14.0', '16.0', '26.0', '28.0', '29.0', '33.0', '43.0', '50.0', '74.0', '76.0', '108.0', '109.0', '120.0', '124.0', '131.0', '164.0', '193.0', '194.0', '210.0', '213.0', '221.0', '223.0', '225.0', '236.0', '237.0', '241.0', '252.0', '253.0', '283.0', '295.0', '299.0', '302.0', '316.0', '336.0', '337.0', '339.0', '348.0', '359.0', '362.0', '367.0', '409.0', '422.0', '444.0', '477.0', '482.0', '510.0', '517.0', '524.0', '617.0', '634.0', '641.0', '656.0', '658.0', '665.0', '682.0', '693.0', '720.0', '721.0', '729.0', '744.0', '761.0', '800.0', '812.0', '821.0', '825.0', '833.0', '843.0', '910.0', '939.0', '943.0', '952.0', '957.0', '967.0', '969.0', '973.0', '981.0', '996.0', '1000.0', '1014.0', '1025.0', '1051.0', '1052.0', '1101.0', '1148.0', '1159.0', '1160.0', '1162.0', '1163.0', '1164.0', '1165.0', '1166.0', '1170.0', '1171.0', '1172.0', '1176.0', '1181.0', '1185.0', '1276.0', '1277.0', '1291.0', '1293.0', '1298.0', '1299.0', '1304.0', '1305.0', '1314.0', '1330.0', '1332.0', '1336.0', '1338.0', '1343.0', '1351.0', '1354.0', '1357.0', '1360.0', '1364.0', '1366.0', '1367.0', '1368.0', '1386.0', '1391.0', '1393.0', '1395.0', '1396.0', '1423.0', '1427.0', '1428.0', '1429.0', '1430.0', '1431.0', '1432.0', '1436.0', '1439.0', '12.0', '14.0', '29.0', '33.0', '43.0', '51.0', '109.0', '111.0', '130.0', '142.0', '151.0', '153.0', '162.0', '221.0', '232.0', '237.0', '244.0', '253.0', '273.0', '302.0', '315.0', '316.0', '379.0', '382.0', '390.0', '415.0', '464.0', '468.0', '491.0', '547.0', '607.0', '609.0', '692.0', '730.0', '761.0', '763.0', '813.0', '857.0', '858.0', '876.0', '880.0', '933.0', '939.0', '967.0', '981.0', '990.0', '1014.0', '1059.0', '1157.0', '1162.0', '1164.0', '1172.0', '1186.0', '1271.0', '1276.0', '1293.0', '1305.0', '1314.0', '1320.0', '1330.0', '1332.0', '1336.0', '1338.0', '1351.0', '1357.0', '1367.0', '1368.0', '1396.0', '1422.0', '1429.0', '1432.0', '43.0', '151.0', '152.0', '236.0', '379.0', '415.0', '645.0', '813.0', '1017.0', '1164.0', '1185.0', '1304.0', '1330.0', '1336.0', '1351.0', '1368.0', '1386.0', '1431.0', '124.0', '125.0', '151.0', '1278.0', '151.0', '151.0', '1282.0', '151.0', '462.0', '464.0', '812.0', '33.0', '1431.0', '1432.0', '124.0', '151.0', '1314.0', '1423.0', '33.0', '1398.0', '101.0', '103.0', '125.0', '151.0', '193.0', '240.0', '263.0', '510.0', '563.0', '600.0', '821.0', '1016.0', '1025.0', '1160.0', '1351.0', '1354.0', '1364.0', '1432.0', '151.0', '152.0', '251.0', '268.0', '311.0', '349.0', '359.0', '525.0', '528.0', '641.0', '684.0', '735.0', '768.0', '910.0', '1162.0', '1172.0', '1174.0', '1271.0', '1279.0', '1293.0', '1305.0', '1314.0', '1336.0', '1343.0', '1364.0', '1368.0', '1393.0', '1395.0', '1427.0', '120.0', '151.0', '193.0', '213.0', '462.0', '865.0', '903.0', '1162.0', '151.0', '260.0', '390.0', '1014.0', '39.0', '51.0', '151.0', '205.0', '210.0', '237.0', '477.0', '721.0', '812.0', '1024.0', '1170.0', '1171.0', '16.0', '1330.0', '151.0', '795.0', '33.0', '369.0', '109.0', '124.0', '151.0', '369.0', '593.0', '933.0', '1017.0', '0.0', '33.0', '390.0', '868.0', '1052.0', '1398.0', '12.0', '30.0', '151.0', '237.0', '260.0', '682.0', '795.0', '812.0', '16.0', '108.0', '116.0', '158.0', '241.0', '283.0', '593.0', '844.0', '1017.0', '1044.0', '1166.0', '1420.0', '16.0', '43.0', '51.0', '241.0', '1429.0', '151.0', '16.0', '26.0', '28.0', '29.0', '57.0', '103.0', '109.0', '125.0', '268.0', '477.0', '485.0', '681.0', '766.0', '933.0', '1163.0', '1314.0', '1364.0', '1368.0', '26.0', '33.0', '330.0', '477.0', '729.0', '744.0', '882.0', '957.0', '1016.0', '1017.0', '65.0', '124.0', '138.0', '151.0', '260.0', '600.0', '645.0', '809.0', '933.0', '962.0', '1166.0', '1170.0', '1304.0', '1330.0', '1336.0', '1391.0', '39.0', '202.0', '241.0', '268.0', '462.0', '525.0', '585.0', '809.0', '975.0', '1017.0', '1042.0', '1189.0', '1282.0', '1320.0', '1328.0', '1330.0', '1338.0', '1356.0', '1362.0', '1368.0', '1393.0', '1398.0', '1424.0', '1427.0', '16.0', '34.0', '51.0', '76.0', '120.0', '125.0', '164.0', '336.0', '491.0', '559.0', '833.0', '861.0', '1047.0', '1174.0', '1276.0', '1314.0', '1324.0', '1332.0', '1338.0', '1360.0', '1398.0', '1427.0', '1430.0', '1431.0', '1432.0', '18.0', '33.0', '645.0', '957.0', '962.0', '43.0', '109.0', '151.0', '268.0', '310.0', '329.0', '346.0', '390.0', '494.0', '525.0', '585.0', '626.0', '668.0', '732.0', '768.0', '910.0', '968.0', '981.0', '1052.0', '1170.0', '1183.0', '1185.0', '1232.0', '1293.0', '1305.0', '1363.0', '1368.0', '1391.0', '1400.0', '1406.0', '1427.0', '1429.0', '1430.0', '1431.0', '1436.0', '1439.0', '43.0', '151.0', '390.0', '510.0', '2.0', '50.0', '151.0', '369.0', '440.0', '593.0', '617.0', '740.0', '809.0', '861.0', '985.0', '1293.0', '1317.0', '1330.0', '1338.0', '1398.0', '1416.0', '1420.0', '1430.0', '1431.0', '92.0', '151.0', '346.0', '525.0', '768.0', '151.0', '33.0', '51.0', '122.0', '263.0', '355.0', '409.0', '426.0', '693.0', '764.0', '821.0', '910.0', '930.0', '957.0', '958.0', '1050.0', '151.0', '151.0', '647.0', '151.0', '151.0', '260.0', '795.0', '151.0', '959.0', '969.0', '151.0', '151.0', '673.0', '958.0', '996.0', '1052.0', '1057.0', '1142.0', '1160.0', '1165.0', '1172.0', '1180.0', '1184.0', '1280.0', '1328.0', '1336.0', '1387.0', '1400.0', '1427.0', '1435.0', '151.0', '1330.0', '202.0', '782.0', '933.0', '941.0', '1042.0', '1160.0', '1271.0', '1332.0', '98.0', '151.0', '1166.0', '1429.0', '151.0', '373.0', '673.0', '732.0', '958.0', '1273.0', '1299.0', '1364.0', '1400.0', '122.0', '151.0', '542.0', '768.0', '151.0', '669.0', '1271.0', '1282.0', '33.0', '1052.0', '1164.0', '1165.0', '1183.0', '1293.0', '1386.0', '1431.0', '1436.0', '33.0', '122.0', '1293.0', '1328.0', '1386.0', '1439.0', '33.0', '1276.0', '122.0', '151.0', '250.0', '313.0', '415.0', '444.0', '732.0', '805.0', '812.0', '1035.0', '1162.0', '1172.0', '1405.0', '202.0', '225.0', '1060.0', '1159.0', '1163.0', '1271.0', '1278.0', '1290.0', '1292.0', '151.0', '244.0', '151.0', '16.0', '241.0', '268.0', '369.0', '593.0', '1044.0', '109.0', '151.0', '1172.0', '151.0', '761.0', '151.0', '1017.0', '202.0', '260.0', '795.0', '16.0', '547.0', '1017.0', '1398.0', '16.0', '43.0', '122.0', '250.0', '260.0', '910.0', '1048.0', '1053.0', '1055.0', '1420.0', '1429.0', '151.0', '766.0', '33.0', '415.0', '795.0', '1191.0', '1431.0', '151.0', '865.0', '151.0', '16.0', '409.0', '1429.0', '16.0', '151.0', '415.0', '647.0', '749.0', '1017.0', '1025.0', '1332.0', '39.0', '151.0', '116.0', '151.0', '224.0', '508.0', '681.0', '722.0', '809.0', '1024.0', '1025.0', '1047.0', '151.0', '464.0', '788.0', '795.0', '18.0', '43.0', '109.0', '151.0', '164.0', '241.0', '465.0', '559.0', '1336.0', '151.0', '1050.0', '20.0', '151.0', '647.0', '673.0', '1400.0', '40.0', '151.0', '409.0', '151.0', '151.0', '600.0', '788.0', '812.0', '1162.0', '1170.0', '1431.0', '202.0', '600.0', '714.0', '939.0', '1425.0', '33.0', '110.0', '681.0', '729.0', '939.0', '1431.0', '151.0', '108.0', '151.0', '225.0', '865.0', '977.0', '1025.0', '1053.0', '1169.0', '1187.0', '1263.0', '1271.0', '1358.0', '1397.0', '1414.0', '1415.0', '1434.0', '18.0', '32.0', '98.0', '109.0', '116.0', '151.0', '191.0', '210.0', '1014.0', '1016.0', '202.0', '237.0', '349.0', '409.0', '477.0', '569.0', '593.0', '600.0', '651.0', '744.0', '758.0', '764.0', '800.0', '935.0', '936.0', '948.0', '957.0', '1035.0', '1050.0', '1164.0', '1343.0', '1350.0', '1391.0', '1395.0', '1428.0', '1431.0', '20.0', '151.0', '1398.0', '33.0', '68.0', '74.0', '110.0', '120.0', '124.0', '176.0', '194.0', '313.0', '316.0', '444.0', '542.0', '729.0', '812.0', '821.0', '844.0', '855.0', '962.0', '967.0', '969.0', '1017.0', '1050.0', '1054.0', '1055.0', '1057.0', '1059.0', '1068.0', '1120.0', '1162.0', '1164.0', '1168.0', '1172.0', '1199.0', '1274.0', '1336.0', '1351.0', '1364.0', '1398.0', '1425.0', '1431.0', '122.0', '151.0', '268.0', '316.0', '382.0', '462.0', '684.0', '1024.0', '1293.0', '1324.0', '1330.0', '1364.0', '1428.0', '1429.0', '15.0', '33.0', '109.0', '422.0', '515.0', '651.0', '681.0', '684.0', '729.0', '744.0', '957.0', '990.0', '1018.0', '1055.0', '1162.0', '1393.0', '1429.0', '28.0', '32.0', '43.0', '151.0', '162.0', '191.0', '295.0', '462.0', '681.0', '788.0', '1024.0', '1171.0', '1185.0', '1332.0', '1338.0', '1367.0', '1406.0', '151.0', '162.0', '329.0', '336.0', '415.0', '1174.0', '1328.0', '20.0', '151.0', '593.0', '1176.0', '1336.0', '1429.0', '202.0', '411.0', '600.0', '681.0', '151.0', '191.0', '959.0', '1177.0', '1314.0', '1321.0', '1330.0', '1360.0', '108.0', '151.0', '336.0', '477.0', '547.0', '645.0', '744.0', '812.0', '1163.0', '1391.0', '1395.0', '1428.0', '1436.0', '101.0', '151.0', '288.0', '470.0', '542.0', '645.0', '812.0', '967.0', '1162.0', '1304.0', '1305.0', '1332.0', '1338.0', '1361.0', '1418.0', '1429.0', '1430.0', '1432.0', '8.0', '20.0', '33.0', '131.0', '617.0', '1018.0', '103.0', '125.0', '136.0', '202.0', '547.0', '692.0', '795.0', '1398.0', '43.0', '109.0', '124.0', '151.0', '164.0', '260.0', '898.0', '1164.0', '1170.0', '1171.0', '1172.0', '1332.0', '1354.0', '1391.0', '1429.0', '1432.0', '151.0', '1017.0', '1317.0', '1330.0', '1354.0', '1391.0', '1398.0', '8.0', '33.0', '230.0', '288.0', '440.0', '600.0', '903.0', '1016.0', '1368.0', '1423.0', '1431.0', '151.0', '260.0', '813.0', '1174.0', '1305.0', '20.0', '78.0', '151.0', '1025.0', '1050.0', '1282.0', '1393.0', '1398.0', '1416.0', '30.0', '115.0', '151.0', '448.0', '681.0', '730.0', '795.0', '996.0', '20.0', '39.0', '43.0', '51.0', '57.0', '74.0', '116.0', '120.0', '124.0', '125.0', '151.0', '260.0', '369.0', '593.0', '600.0', '723.0', '844.0', '959.0', '1025.0', '1050.0', '1166.0', '1336.0', '1343.0', '1351.0', '1364.0', '1429.0', '116.0', '151.0', '241.0', '617.0', '1048.0', '1181.0', '1293.0', '1304.0', '1330.0', '1343.0', '1350.0', '1364.0', '1391.0', '1398.0', '1429.0', '1431.0', '1436.0', '116.0', '124.0', '151.0', '213.0', '251.0', '316.0', '336.0', '409.0', '825.0', '1025.0', '1080.0', '1160.0', '1162.0', '1166.0', '1170.0', '1171.0', '1330.0', '1398.0', '33.0', '124.0', '1024.0', '12.0', '43.0', '50.0', '78.0', '107.0', '109.0', '132.0', '136.0', '151.0', '158.0', '194.0', '225.0', '230.0', '237.0', '241.0', '258.0', '283.0', '303.0', '316.0', '349.0', '362.0', '409.0', '420.0', '440.0', '470.0', '525.0', '544.0', '585.0', '622.0', '682.0', '695.0', '722.0', '795.0', '821.0', '833.0', '844.0', '846.0', '865.0', '868.0', '891.0', '898.0', '939.0', '957.0', '969.0', '990.0', '1035.0', '1052.0', '1054.0', '1055.0', '1149.0', '1165.0', '1168.0', '1184.0', '1274.0', '1276.0', '1314.0', '1330.0', '1332.0', '1337.0', '1338.0', '1351.0', '1367.0', '1412.0', '1423.0', '1427.0', '1431.0', '8.0', '109.0', '124.0', '151.0', '237.0', '349.0', '462.0', '547.0', '761.0', '825.0', '855.0', '53.0', '151.0', '369.0', '926.0', '957.0', '959.0', '1025.0', '1164.0', '1177.0', '1178.0', '151.0', '164.0', '260.0', '462.0', '732.0', '1017.0', '1185.0', '1434.0', '43.0', '51.0', '101.0', '131.0', '138.0', '162.0', '193.0', '202.0', '224.0', '329.0', '510.0', '645.0', '684.0', '795.0', '868.0', '962.0', '969.0', '981.0', '1014.0', '1016.0', '1017.0', '1028.0', '1158.0', '1160.0', '1274.0', '1278.0', '1314.0', '1343.0', '1429.0', '1432.0', '1437.0', '113.0', '202.0', '221.0', '291.0', '462.0', '485.0', '495.0', '588.0', '975.0', '1324.0', '1330.0', '1343.0', '1354.0', '1360.0', '1398.0', '1400.0', '1409.0', '1430.0', '1431.0', '1436.0', '20.0', '33.0', '53.0', '162.0', '232.0', '659.0', '669.0', '951.0', '957.0', '1170.0', '1351.0', '1431.0', '151.0', '369.0', '525.0', '1174.0', '1271.0', '1367.0', '1400.0', '1410.0', '53.0', '109.0', '120.0', '151.0', '153.0', '164.0', '193.0', '205.0', '311.0', '415.0', '464.0', '477.0', '482.0', '508.0', '593.0', '732.0', '812.0', '1047.0', '1058.0', '1059.0', '1060.0', '1079.0', '1143.0', '1150.0', '1166.0', '1185.0', '1189.0', '1191.0', '1195.0', '1198.0', '1219.0', '1271.0', '1278.0', '1280.0', '1296.0', '1313.0', '1320.0', '1328.0', '1330.0', '1331.0', '1356.0', '1362.0', '1398.0', '1401.0', '1402.0', '1403.0', '1404.0', '1405.0', '1406.0', '1407.0', '1409.0', '1410.0', '1412.0', '1418.0', '1424.0', '1429.0', '33.0', '189.0', '230.0', '270.0', '400.0', '415.0', '525.0', '632.0', '695.0', '732.0', '795.0', '891.0', '1059.0', '1286.0', '1293.0', '1424.0', '1430.0', '1431.0', '57.0', '151.0', '158.0', '213.0', '273.0', '415.0', '482.0', '668.0', '692.0', '723.0', '749.0', '955.0', '968.0', '969.0', '1047.0', '1160.0', '1162.0', '1163.0', '1170.0', '1171.0', '1172.0', '1174.0', '1176.0', '1177.0', '1185.0', '1271.0', '1293.0', '1296.0', '1314.0', '1324.0', '1343.0', '1368.0', '1395.0', '1420.0', '1429.0', '1430.0', '151.0', '600.0', '1016.0', '131.0', '202.0', '911.0', '981.0', '1017.0', '1430.0', '1437.0', '14.0', '34.0', '51.0', '202.0', '250.0', '415.0', '665.0', '678.0', '720.0', '887.0', '1052.0', '1170.0', '1186.0', '1304.0', '1351.0', '1359.0', '109.0', '151.0', '164.0', '278.0', '369.0', '422.0', '470.0', '479.0', '593.0', '669.0', '673.0', '905.0', '957.0', '1017.0', '1162.0', '1174.0', '1181.0', '1305.0', '1364.0', '1427.0', '1431.0', '16.0', '138.0', '462.0', '1054.0', '1141.0', '1304.0', '1330.0', '1336.0', '1364.0', '1428.0', '43.0', '109.0', '151.0', '164.0', '415.0', '542.0', '641.0', '865.0', '1185.0', '1304.0', '1364.0', '1368.0', '28.0', '103.0', '116.0', '151.0', '390.0', '446.0', '933.0', '1056.0', '1176.0', '1304.0', '1313.0', '1425.0', '1429.0', '151.0', '164.0', '665.0', '887.0', '898.0', '1050.0', '1305.0', '1422.0', '2.0', '8.0', '12.0', '68.0', '74.0', '103.0', '120.0', '143.0', '181.0', '193.0', '202.0', '205.0', '237.0', '329.0', '383.0', '390.0', '491.0', '510.0', '524.0', '542.0', '600.0', '617.0', '692.0', '764.0', '795.0', '812.0', '821.0', '833.0', '878.0', '935.0', '941.0', '957.0', '996.0', '1006.0', '1030.0', '1038.0', '1050.0', '1165.0', '1170.0', '1171.0', '1305.0', '1336.0', '1350.0', '1426.0', '20.0', '51.0', '101.0', '151.0', '193.0', '240.0', '329.0', '353.0', '525.0', '645.0', '759.0', '821.0', '833.0', '911.0', '975.0', '1025.0', '1054.0', '1160.0', '1162.0', '1166.0', '1170.0', '1181.0', '1296.0', '1308.0', '1330.0', '1351.0', '1429.0', '2.0', '20.0', '33.0', '51.0', '125.0', '130.0', '193.0', '223.0', '224.0', '250.0', '353.0', '440.0', '557.0', '600.0', '641.0', '933.0', '939.0', '1164.0', '1171.0', '1172.0', '1274.0', '1304.0', '1305.0', '1350.0', '1363.0', '1364.0', '1386.0', '1423.0', '1425.0', '1431.0', '1436.0', '151.0', '462.0', '18.0', '33.0', '101.0', '109.0', '124.0', '125.0', '193.0', '194.0', '241.0', '260.0', '462.0', '593.0', '725.0', '729.0', '833.0', '1017.0', '1028.0', '1044.0', '1047.0', '151.0', '470.0', '969.0', '1176.0', '1274.0', '1314.0', '33.0', '399.0', '641.0', '667.0', '1164.0', '1171.0', '1181.0', '1185.0', '1330.0', '1334.0', '1386.0', '1431.0', '151.0', '348.0', '1047.0', '1048.0', '1343.0', '116.0', '151.0', '223.0', '390.0', '415.0', '692.0', '843.0', '910.0', '16.0', '124.0', '193.0', '1017.0', '1028.0', '151.0', '194.0', '375.0', '444.0', '681.0', '1304.0', '16.0', '32.0', '348.0', '1330.0', '1429.0', '125.0', '151.0', '933.0', '33.0', '593.0', '1014.0', '1017.0', '151.0', '250.0', '669.0', '1170.0', '1332.0', '1343.0', '1423.0', '39.0', '138.0', '145.0', '152.0', '202.0', '237.0', '241.0', '253.0', '350.0', '362.0', '398.0', '444.0', '486.0', '528.0', '567.0', '645.0', '669.0', '730.0', '795.0', '846.0', '969.0', '975.0', '1164.0', '1186.0', '1276.0', '1277.0', '1338.0', '1354.0', '1357.0', '1360.0', '1364.0', '1368.0', '1427.0', '1437.0', '1443.0', '131.0', '151.0', '189.0', '260.0', '288.0', '379.0', '542.0', '730.0', '795.0', '1160.0', '1162.0', '1164.0', '1276.0', '1304.0', '1305.0', '1314.0', '1330.0', '1338.0', '1391.0', '1394.0', '1395.0', '1398.0', '151.0', '1430.0', '33.0', '422.0', '957.0', '1336.0', '1426.0', '1431.0', '33.0', '34.0', '51.0', '78.0', '761.0', '884.0', '1172.0', '1364.0', '1394.0', '1398.0', '1431.0', '15.0', '20.0', '151.0', '349.0', '353.0', '515.0', '593.0', '651.0', '18.0', '151.0', '241.0', '508.0', '1141.0', '1157.0', '1330.0', '1394.0', '1398.0', '1434.0', '68.0', '151.0', '213.0', '1054.0', '1428.0', '1434.0', '12.0', '29.0', '33.0', '651.0', '761.0', '882.0', '910.0', '957.0', '1172.0', '1420.0', '1426.0', '1431.0', '151.0', '600.0', '760.0', '151.0', '795.0', '20.0', '43.0', '98.0', '151.0', '462.0', '969.0', '57.0', '151.0', '213.0', '232.0', '240.0', '969.0', '151.0', '260.0', '462.0', '969.0', '1017.0', '1044.0', '1164.0', '1296.0', '1324.0', '1351.0', '34.0', '43.0', '57.0', '116.0', '151.0', '250.0', '339.0', '415.0', '542.0', '600.0', '609.0', '669.0', '843.0', '1165.0', '1271.0', '1304.0', '1336.0', '1368.0', '1398.0', '143.0', '151.0', '189.0', '193.0', '239.0', '369.0', '464.0', '508.0', '542.0', '593.0', '600.0', '729.0', '764.0', '795.0', '812.0', '1028.0', '1050.0', '1336.0', '1400.0', '124.0', '151.0', '20.0', '124.0', '151.0', '164.0', '213.0', '237.0', '260.0', '316.0', '349.0', '355.0', '600.0', '681.0', '763.0', '812.0', '1164.0', '1170.0', '1293.0', '14.0', '68.0', '108.0', '151.0', '241.0', '390.0', '477.0', '522.0', '593.0', '600.0', '729.0', '825.0', '853.0', '865.0', '958.0', '1014.0', '1042.0', '1050.0', '1164.0', '1174.0', '1290.0', '1336.0', '1368.0', '1394.0', '1436.0', '33.0', '43.0', '98.0', '110.0', '131.0', '684.0', '1314.0', '151.0', '162.0', '16.0', '189.0', '1282.0', '1391.0', '1398.0', '1416.0', '1429.0', '1431.0', '151.0', '593.0', '1059.0', '151.0', '232.0', '260.0', '910.0', '1431.0', '1436.0', '151.0', '542.0', '1165.0', '1170.0', '1185.0', '1338.0', '1406.0', '1436.0', '2.0', '8.0', '32.0', '43.0', '50.0', '151.0', '237.0', '251.0', '288.0', '349.0', '369.0', '593.0', '766.0', '864.0', '1429.0', '8.0', '12.0', '20.0', '103.0', '116.0', '120.0', '124.0', '125.0', '136.0', '151.0', '164.0', '193.0', '194.0', '241.0', '268.0', '278.0', '288.0', '329.0', '362.0', '369.0', '448.0', '477.0', '485.0', '491.0', '510.0', '547.0', '585.0', '593.0', '600.0', '647.0', '656.0', '684.0', '692.0', '723.0', '833.0', '943.0', '948.0', '969.0', '977.0', '1025.0', '1052.0', '1056.0', '1057.0', '1060.0', '1160.0', '1162.0', '1163.0', '1165.0', '1166.0', '1174.0', '1183.0', '1252.0', '1274.0', '1276.0', '1282.0', '1314.0', '1330.0', '1336.0', '1351.0', '1354.0', '1360.0', '1367.0', '1391.0', '1393.0', '1398.0', '1403.0', '1422.0', '1427.0', '1428.0', '1429.0', '1436.0', '151.0', '369.0', '464.0', '593.0', '600.0', '1017.0', '32.0', '39.0', '98.0', '107.0', '109.0', '124.0', '125.0', '151.0', '215.0', '260.0', '268.0', '369.0', '462.0', '588.0', '593.0', '600.0', '681.0', '729.0', '730.0', '932.0', '933.0', '1014.0', '1025.0', '1044.0', '1178.0', '1185.0', '1314.0', '1391.0', '1423.0', '16.0', '51.0', '237.0', '314.0', '641.0', '1330.0', '1332.0', '1362.0', '1432.0', '1436.0', '124.0', '151.0', '237.0', '369.0', '464.0', '477.0', '1030.0', '202.0', '369.0', '542.0', '645.0', '764.0', '113.0', '124.0', '125.0', '151.0', '260.0', '268.0', '600.0', '990.0', '1017.0', '1044.0', '1282.0', '1304.0', '1364.0', '1398.0', '1428.0', '12.0', '57.0', '108.0', '116.0', '202.0', '239.0', '315.0', '316.0', '329.0', '411.0', '415.0', '444.0', '462.0', '464.0', '485.0', '641.0', '680.0', '749.0', '761.0', '865.0', '943.0', '1044.0', '151.0', '151.0', '973.0', '68.0', '202.0', '316.0', '329.0', '383.0', '542.0', '1055.0', '1185.0', '1364.0', '1436.0', '20.0', '151.0', '349.0', '353.0', '515.0', '593.0', '96.0', '151.0', '122.0', '151.0', '250.0', '313.0', '415.0', '444.0', '732.0', '805.0', '812.0', '1035.0', '1162.0', '1172.0', '1405.0', '18.0', '32.0', '98.0', '109.0', '116.0', '151.0', '210.0', '1014.0', '1016.0', '16.0', '189.0', '1282.0', '1391.0', '1398.0', '1416.0', '1431.0', '33.0', '98.0', '193.0', '237.0', '903.0', '968.0', '981.0', '1014.0', '1055.0', '1141.0', '1165.0', '1172.0', '1176.0', '1185.0', '1221.0', '1314.0', '1336.0', '1354.0', '1367.0', '1368.0', '1395.0', '1423.0', '1429.0', '1431.0', '151.0', '158.0', '260.0', '1174.0', '33.0', '16.0', '26.0', '28.0', '29.0', '103.0', '109.0', '125.0', '213.0', '268.0', '477.0', '485.0', '681.0', '933.0', '1163.0', '1314.0', '1364.0', '1368.0', '33.0', '880.0', '1050.0', '1433.0', '33.0', '92.0', '124.0', '153.0', '260.0', '283.0', '376.0', '448.0', '485.0', '647.0', '651.0', '658.0', '681.0', '693.0', '732.0', '919.0', '955.0', '1017.0', '1160.0', '1176.0', '1180.0', '1273.0', '1274.0', '1304.0', '1314.0', '1329.0', '1338.0', '1351.0', '1366.0', '1431.0', '1432.0', '43.0', '151.0', '390.0', '60.0', '151.0', '1165.0', '1170.0', '1185.0', '1338.0', '1406.0', '1436.0', '18.0', '26.0', '43.0', '108.0', '193.0', '202.0', '237.0', '617.0', '933.0', '939.0', '996.0', '1183.0', '1185.0', '1293.0', '1317.0', '1360.0', '1429.0', '1431.0', '151.0', '373.0', '673.0', '732.0', '958.0', '1273.0', '1299.0', '1364.0', '12.0', '57.0', '108.0', '116.0', '202.0', '239.0', '315.0', '316.0', '329.0', '411.0', '415.0', '444.0', '462.0', '464.0', '485.0', '641.0', '680.0', '865.0', '943.0', '1044.0', '131.0', '151.0', '189.0', '260.0', '288.0', '379.0', '542.0', '730.0', '795.0', '1160.0', '1162.0', '1276.0', '1304.0', '1305.0', '1314.0', '1330.0', '1338.0', '1391.0', '1394.0', '1395.0', '1398.0', '151.0', '250.0', '669.0', '1170.0', '1332.0', '202.0', '16.0', '1271.0', '1430.0', '53.0', '151.0', '184.0', '606.0', '681.0', '682.0', '766.0', '1014.0', '1174.0', '1178.0', '1304.0', '1305.0', '1320.0', '1321.0', '1394.0', '1400.0', '1435.0', '98.0', '103.0', '108.0', '110.0', '131.0', '158.0', '189.0', '202.0', '263.0', '283.0', '415.0', '564.0', '617.0', '764.0', '821.0', '844.0', '933.0', '955.0', '965.0', '1017.0', '1044.0', '1055.0', '1056.0', '1057.0', '1060.0', '1160.0', '1163.0', '1164.0', '1165.0', '1166.0', '1330.0', '1332.0', '1336.0', '1360.0', '1367.0', '1403.0', '1431.0', '1436.0', '33.0', '60.0', '189.0', '270.0', '400.0', '415.0', '525.0', '632.0', '695.0', '732.0', '795.0', '891.0', '1059.0', '1286.0', '1293.0', '1424.0', '1430.0', '57.0', '98.0', '124.0', '151.0', '241.0', '283.0', '681.0', '729.0', '878.0', '955.0', '969.0', '1165.0', '1190.0', '1330.0', '1391.0', '4.0', '33.0', '68.0', '74.0', '110.0', '120.0', '124.0', '176.0', '194.0', '313.0', '316.0', '542.0', '729.0', '812.0', '821.0', '844.0', '855.0', '962.0', '967.0', '969.0', '1017.0', '1050.0', '1054.0', '1055.0', '1057.0', '1059.0', '1068.0', '1120.0', '1162.0', '1164.0', '1168.0', '1172.0', '1199.0', '1274.0', '1336.0', '1351.0', '1364.0', '1398.0', '1425.0', '1431.0', '20.0', '33.0', '51.0', '131.0', '617.0', '151.0', '162.0', '329.0', '415.0', '1174.0', '151.0', '191.0', '1314.0', '1423.0', '28.0', '43.0', '136.0', '151.0', '295.0', '409.0', '474.0', '600.0', '632.0', '825.0', '1016.0', '1054.0', '1164.0', '1170.0', '1176.0', '1185.0', '1276.0', '1293.0', '1314.0', '1336.0', '1338.0', '1343.0', '1354.0', '1360.0', '1393.0', '1427.0', '1428.0', '1429.0', '1431.0', '1436.0', '8.0', '151.0', '176.0', '314.0', '1396.0', '33.0', '399.0', '667.0', '1164.0', '1171.0', '1181.0', '1185.0', '1330.0', '1334.0', '1386.0', '1431.0', '14.0', '65.0', '124.0', '138.0', '151.0', '260.0', '600.0', '645.0', '809.0', '933.0', '962.0', '1166.0', '1170.0', '1304.0', '1330.0', '1336.0', '1391.0', '103.0', '125.0', '136.0', '202.0', '795.0', '202.0', '411.0', '600.0', '681.0', '151.0', '887.0', '1145.0', '1166.0', '1174.0', '1185.0', '1296.0', '1314.0', '1324.0', '1398.0', '1429.0', '1431.0', '76.0', '202.0', '237.0', '349.0', '409.0', '477.0', '569.0', '593.0', '651.0', '744.0', '758.0', '764.0', '800.0', '935.0', '936.0', '948.0', '957.0', '1035.0', '1050.0', '1164.0', '1343.0', '1350.0', '1395.0', '1428.0', '1431.0', '43.0', '103.0', '151.0', '462.0', '969.0', '202.0', '43.0', '109.0', '124.0', '151.0', '260.0', '898.0', '1164.0', '1170.0', '1171.0', '1172.0', '1332.0', '1354.0', '1391.0', '1429.0', '1432.0', '115.0', '124.0', '151.0', '369.0', '593.0', '933.0', '1017.0', '33.0', '362.0', '1332.0', '53.0', '109.0', '120.0', '151.0', '153.0', '164.0', '193.0', '205.0', '311.0', '415.0', '464.0', '477.0', '482.0', '508.0', '593.0', '732.0', '812.0', '1047.0', '1058.0', '1059.0', '1060.0', '1079.0', '1143.0', '1150.0', '1166.0', '1185.0', '1189.0', '1191.0', '1195.0', '1198.0', '1219.0', '1271.0', '1278.0', '1280.0', '1296.0', '1313.0', '1320.0', '1328.0', '1330.0', '1331.0', '1356.0', '1362.0', '1398.0', '1401.0', '1402.0', '1403.0', '1404.0', '1405.0', '1406.0', '1407.0', '1409.0', '1410.0', '1412.0', '1418.0', '1424.0', '1429.0', '202.0', '151.0', '162.0', '486.0', '542.0', '645.0', '692.0', '1198.0', '1368.0', '1430.0', '1436.0', '39.0', '51.0', '151.0', '205.0', '210.0', '237.0', '721.0', '812.0', '1170.0', '1171.0', '134.0', '151.0', '100.0', '151.0', '260.0', '462.0', '732.0', '1017.0', '1185.0', '2.0', '8.0', '32.0', '43.0', '151.0', '237.0', '251.0', '288.0', '349.0', '369.0', '766.0', '864.0', '1429.0', '33.0', '51.0', '122.0', '263.0', '355.0', '409.0', '426.0', '693.0', '764.0', '821.0', '910.0', '930.0', '957.0', '958.0', '151.0', '232.0', '1431.0', '1436.0', '15.0', '33.0', '53.0', '162.0', '232.0', '659.0', '951.0', '957.0', '1170.0', '1351.0', '1431.0', '116.0', '151.0', '153.0', '508.0', '681.0', '722.0', '1024.0', '1025.0', '1047.0', '20.0', '151.0', '295.0', '647.0', '1400.0', '16.0', '455.0', '33.0', '8.0', '39.0', '138.0', '145.0', '152.0', '202.0', '237.0', '241.0', '253.0', '350.0', '362.0', '398.0', '444.0', '486.0', '528.0', '567.0', '645.0', '669.0', '730.0', '795.0', '846.0', '969.0', '975.0', '1164.0', '1186.0', '1276.0', '1277.0', '1338.0', '1354.0', '1357.0', '1360.0', '1364.0', '1368.0', '1427.0', '1443.0', '33.0', '130.0', '151.0', '260.0', '390.0', '1014.0', '33.0', '16.0', '164.0', '349.0', '390.0', '1170.0', '1171.0', '1298.0', '1351.0', '1354.0', '16.0', '14.0', '33.0', '43.0', '109.0', '124.0', '164.0', '194.0', '221.0', '239.0', '254.0', '362.0', '390.0', '494.0', '559.0', '617.0', '684.0', '853.0', '865.0', '880.0', '943.0', '981.0', '1017.0', '1052.0', '1160.0', '1166.0', '1169.0', '1170.0', '1171.0', '1172.0', '1186.0', '1321.0', '1336.0', '1349.0', '1351.0', '1360.0', '1368.0', '1386.0', '1396.0', '1423.0', '1424.0', '1429.0', '1430.0', '1431.0', '1436.0', '57.0', '151.0', '213.0', '240.0', '969.0', '202.0', '25.0', '124.0', '151.0', '2.0', '8.0', '12.0', '68.0', '74.0', '103.0', '111.0', '120.0', '143.0', '181.0', '193.0', '202.0', '205.0', '237.0', '329.0', '383.0', '390.0', '491.0', '510.0', '524.0', '542.0', '600.0', '617.0', '692.0', '764.0', '795.0', '812.0', '821.0', '833.0', '878.0', '935.0', '941.0', '957.0', '996.0', '1006.0', '1030.0', '1038.0', '1050.0', '1165.0', '1170.0', '1171.0', '1305.0', '1336.0', '1350.0', '1426.0', '151.0', '270.0', '1317.0', '1330.0', '1354.0', '1391.0', '1398.0', '28.0', '32.0', '43.0', '130.0', '151.0', '162.0', '191.0', '295.0', '462.0', '681.0', '788.0', '1024.0', '1171.0', '1185.0', '1332.0', '1338.0', '1367.0', '1406.0', '108.0', '138.0', '151.0', '225.0', '865.0', '977.0', '1025.0', '1053.0', '1169.0', '1187.0', '1271.0', '1358.0', '1397.0', '1414.0', '1415.0', '1434.0', '202.0', '1354.0', '113.0', '202.0', '291.0', '462.0', '485.0', '495.0', '588.0', '1324.0', '1330.0', '1343.0', '1354.0', '1360.0', '1398.0', '1400.0', '1409.0', '1430.0', '1431.0', '1436.0', '16.0', '26.0', '43.0', '122.0', '250.0', '260.0', '910.0', '1048.0', '1053.0', '1420.0', '1429.0', '33.0', '202.0', '390.0', '1159.0', '1164.0', '1165.0', '1169.0', '1172.0', '1174.0', '1175.0', '1185.0', '1263.0', '1330.0', '1400.0', '1433.0', '0.0', '33.0', '132.0', '1052.0', '1398.0', '14.0', '68.0', '108.0', '151.0', '390.0', '477.0', '522.0', '593.0', '600.0', '729.0', '825.0', '853.0', '865.0', '958.0', '1014.0', '1042.0', '1050.0', '1164.0', '1174.0', '1290.0', '1336.0', '1368.0', '1394.0', '1436.0', '151.0', '151.0', '673.0', '958.0', '996.0', '1052.0', '1057.0', '1142.0', '1160.0', '1165.0', '1172.0', '1180.0', '1184.0', '1280.0', '1336.0', '1387.0', '1400.0', '1427.0', '1435.0', '16.0', '43.0', '109.0', '120.0', '124.0', '164.0', '194.0', '349.0', '622.0', '651.0', '957.0', '965.0', '1055.0', '1060.0', '1070.0', '1071.0', '1073.0', '1139.0', '1157.0', '1170.0', '1172.0', '1185.0', '1271.0', '1274.0', '1276.0', '1314.0', '1324.0', '1328.0', '1330.0', '1336.0', '1351.0', '1360.0', '1364.0', '1420.0', '1422.0', '1426.0', '1429.0', '1431.0', '1434.0', '1437.0', '1439.0', '74.0', '151.0', '152.0', '268.0', '311.0', '349.0', '359.0', '528.0', '641.0', '684.0', '735.0', '768.0', '910.0', '1162.0', '1172.0', '1174.0', '1271.0', '1279.0', '1293.0', '1305.0', '1314.0', '1336.0', '1343.0', '1364.0', '1368.0', '1393.0', '1395.0', '1427.0', '151.0', '223.0', '252.0', '415.0', '692.0', '843.0', '910.0', '14.0', '51.0', '53.0', '102.0', '108.0', '116.0', '120.0', '122.0', '145.0', '153.0', '162.0', '184.0', '202.0', '221.0', '240.0', '349.0', '448.0', '465.0', '542.0', '600.0', '617.0', '641.0', '681.0', '813.0', '903.0', '1025.0', '1052.0', '1054.0', '1060.0', '1160.0', '1162.0', '1164.0', '1170.0', '1171.0', '1172.0', '1174.0', '1176.0', '1185.0', '1254.0', '1277.0', '1293.0', '1314.0', '1321.0', '1324.0', '1330.0', '1332.0', '1343.0', '1360.0', '1364.0', '1393.0', '1394.0', '1395.0', '1409.0', '1422.0', '1423.0', '1426.0', '1427.0', '1429.0', '1430.0', '1431.0', '1436.0', '1437.0', '116.0', '151.0', '241.0', '617.0', '1048.0', '1181.0', '1293.0', '1330.0', '1343.0', '1350.0', '1364.0', '1391.0', '1398.0', '1431.0', '1436.0', '12.0', '33.0', '43.0', '64.0', '162.0', '223.0', '310.0', '359.0', '547.0', '667.0', '898.0', '943.0', '1162.0', '1165.0', '1170.0', '1171.0', '1172.0', '1293.0', '1324.0', '1330.0', '1351.0', '1364.0', '1368.0', '1431.0', '1432.0', '33.0', '1181.0', '1431.0', '16.0', '241.0', '268.0', '593.0', '1044.0', '8.0', '202.0', '225.0', '1060.0', '1159.0', '1163.0', '1271.0', '1278.0', '1292.0', '20.0', '124.0', '151.0', '164.0', '189.0', '237.0', '260.0', '316.0', '349.0', '355.0', '600.0', '763.0', '812.0', '1164.0', '1170.0', '1293.0', '108.0', '131.0', '202.0', '1017.0', '1028.0', '1055.0', '1164.0', '1426.0', '1430.0', '1432.0', '16.0', '34.0', '51.0', '76.0', '120.0', '125.0', '164.0', '336.0', '491.0', '559.0', '833.0', '861.0', '1047.0', '1174.0', '1276.0', '1314.0', '1324.0', '1332.0', '1360.0', '1398.0', '1427.0', '1430.0', '1431.0', '1432.0', '202.0', '241.0', '260.0', '16.0', '234.0', '348.0', '1330.0', '1429.0', '28.0', '151.0', '369.0', '525.0', '1174.0', '1271.0', '1367.0', '1410.0', '101.0', '151.0', '241.0', '288.0', '470.0', '542.0', '645.0', '812.0', '967.0', '1162.0', '1304.0', '1305.0', '1338.0', '1361.0', '1418.0', '1430.0', '1432.0', '8.0', '33.0', '230.0', '288.0', '440.0', '600.0', '903.0', '1016.0', '1368.0', '1431.0', '18.0', '43.0', '109.0', '151.0', '164.0', '224.0', '465.0', '559.0', '151.0', '291.0', '1047.0', '1048.0', '43.0', '53.0', '101.0', '120.0', '130.0', '132.0', '151.0', '162.0', '223.0', '253.0', '260.0', '311.0', '339.0', '352.0', '356.0', '362.0', '367.0', '390.0', '398.0', '444.0', '475.0', '479.0', '482.0', '485.0', '515.0', '566.0', '567.0', '606.0', '722.0', '723.0', '735.0', '795.0', '861.0', '865.0', '881.0', '892.0', '939.0', '952.0', '1025.0', '1172.0', '1338.0', '1360.0', '1427.0', '1430.0', '151.0', '224.0', '729.0', '843.0', '1054.0', '1165.0', '1170.0', '1172.0', '1179.0', '1186.0', '1271.0', '1273.0', '1280.0', '1296.0', '1304.0', '1305.0', '1313.0', '1314.0', '1320.0', '1328.0', '1330.0', '1336.0', '1338.0', '1343.0', '1351.0', '1356.0', '1362.0', '1364.0', '1368.0', '1393.0', '1410.0', '1424.0', '1429.0', '1436.0', '32.0', '33.0', '732.0', '1164.0', '151.0', '164.0', '665.0', '887.0', '1050.0', '1305.0', '1422.0', '33.0', '53.0', '112.0', '124.0', '221.0', '369.0', '382.0', '468.0', '651.0', '681.0', '682.0', '730.0', '805.0', '1008.0', '1054.0', '1055.0', '1165.0', '1176.0', '1198.0', '1257.0', '1274.0', '1277.0', '1286.0', '1304.0', '1305.0', '1314.0', '1317.0', '1329.0', '1343.0', '1360.0', '1364.0', '1366.0', '1395.0', '1400.0', '1428.0', '15.0', '33.0', '50.0', '109.0', '422.0', '515.0', '651.0', '681.0', '729.0', '744.0', '990.0', '1018.0', '1055.0', '1429.0', '151.0', '8.0', '57.0', '109.0', '124.0', '151.0', '237.0', '349.0', '462.0', '547.0', '825.0', '855.0', '151.0', '369.0', '593.0', '600.0', '1017.0', '151.0', '18.0', '33.0', '101.0', '109.0', '124.0', '125.0', '194.0', '241.0', '260.0', '462.0', '593.0', '725.0', '729.0', '1017.0', '1028.0', '1044.0', '1047.0', '34.0', '40.0', '151.0', '865.0', '876.0', '1185.0', '1330.0', '1338.0', '1364.0', '1368.0', '1394.0', '33.0', '1052.0', '1164.0', '1165.0', '1183.0', '1293.0', '1386.0', '1431.0', '1436.0', '2.0', '50.0', '151.0', '369.0', '440.0', '593.0', '617.0', '740.0', '809.0', '861.0', '985.0', '1293.0', '1317.0', '1330.0', '1338.0', '1398.0', '1416.0', '1420.0', '1430.0', '1431.0', '143.0', '151.0', '189.0', '191.0', '236.0', '239.0', '369.0', '464.0', '508.0', '542.0', '593.0', '600.0', '764.0', '795.0', '812.0', '1028.0', '1050.0', '1336.0', '26.0', '33.0', '40.0', '43.0', '68.0', '164.0', '284.0', '313.0', '411.0', '422.0', '542.0', '617.0', '1016.0', '1170.0', '1171.0', '1172.0', '1293.0', '1330.0', '1364.0', '1393.0', '1395.0', '1428.0', '1429.0', '1431.0', '1436.0', '33.0', '43.0', '98.0', '110.0', '131.0', '109.0', '138.0', '151.0', '164.0', '278.0', '369.0', '470.0', '479.0', '593.0', '669.0', '673.0', '905.0', '957.0', '1017.0', '1162.0', '1174.0', '1181.0', '1305.0', '1364.0', '1427.0', '1431.0', '30.0', '151.0', '323.0', '682.0', '1276.0', '1432.0', '122.0', '151.0', '268.0', '382.0', '462.0', '684.0', '1024.0', '1293.0', '1324.0', '1330.0', '1364.0', '1428.0', '124.0', '138.0', '151.0', '782.0', '881.0', '1164.0', '1165.0', '1166.0', '1171.0', '1274.0', '1282.0', '1293.0', '1317.0', '1320.0', '1330.0', '1343.0', '1351.0', '1354.0', '1393.0', '20.0', '202.0', '782.0', '933.0', '941.0', '1042.0', '1160.0', '1271.0', '1332.0', '33.0', '57.0', '64.0', '223.0', '422.0', '833.0', '1276.0', '1330.0', '1354.0', '1386.0', '1396.0', '1426.0', '1431.0', '132.0', '202.0', '241.0', '1168.0', '1320.0', '28.0', '36.0', '103.0', '116.0', '151.0', '390.0', '446.0', '933.0', '1056.0', '1176.0', '1313.0', '1425.0', '1429.0', '151.0', '191.0', '194.0', '444.0', '1304.0', '33.0', '57.0', '64.0', '223.0', '422.0', '833.0', '1276.0', '1330.0', '1354.0', '1386.0', '1396.0', '1426.0', '1431.0', '113.0', '124.0', '125.0', '151.0', '260.0', '268.0', '600.0', '990.0', '1017.0', '1282.0', '1304.0', '1364.0', '1398.0', '1428.0', '12.0', '43.0', '50.0', '78.0', '107.0', '109.0', '132.0', '136.0', '151.0', '158.0', '194.0', '213.0', '225.0', '230.0', '237.0', '241.0', '258.0', '283.0', '303.0', '316.0', '349.0', '362.0', '409.0', '420.0', '440.0', '470.0', '525.0', '544.0', '585.0', '622.0', '682.0', '722.0', '795.0', '821.0', '833.0', '844.0', '846.0', '865.0', '868.0', '891.0', '898.0', '939.0', '957.0', '969.0', '990.0', '1035.0', '1052.0', '1054.0', '1055.0', '1149.0', '1165.0', '1168.0', '1184.0', '1274.0', '1276.0', '1314.0', '1330.0', '1332.0', '1337.0', '1338.0', '1351.0', '1367.0', '1412.0', '1423.0', '1427.0', '1431.0', '33.0', '330.0', '422.0', '882.0', '957.0', '1017.0', '1053.0', '1055.0', '1164.0', '1170.0', '1186.0', '1330.0', '1424.0', '120.0', '151.0', '193.0', '213.0', '462.0', '865.0', '903.0', '1162.0', '16.0', '116.0', '158.0', '241.0', '283.0', '593.0', '844.0', '1017.0', '1166.0', '1420.0', '14.0', '34.0', '57.0', '111.0', '132.0', '142.0', '173.0', '189.0', '202.0', '302.0', '379.0', '390.0', '415.0', '427.0', '528.0', '542.0', '563.0', '583.0', '593.0', '606.0', '645.0', '692.0', '695.0', '723.0', '809.0', '878.0', '898.0', '943.0', '975.0', '981.0', '1017.0', '1042.0', '1047.0', '1052.0', '1053.0', '1160.0', '1163.0', '1164.0', '1166.0', '1170.0', '1171.0', '1172.0', '1174.0', '1185.0', '1198.0', '1276.0', '1313.0', '1314.0', '1328.0', '1336.0', '1338.0', '1351.0', '1364.0', '1393.0', '1397.0', '1402.0', '1428.0', '1436.0', '32.0', '39.0', '98.0', '107.0', '109.0', '124.0', '125.0', '151.0', '215.0', '260.0', '268.0', '369.0', '462.0', '588.0', '593.0', '600.0', '681.0', '729.0', '730.0', '932.0', '933.0', '1014.0', '1025.0', '1044.0', '1178.0', '1185.0', '1314.0', '1391.0', '1423.0', '12.0', '20.0', '39.0', '51.0', '108.0', '130.0', '151.0', '173.0', '369.0', '411.0', '477.0', '495.0', '508.0', '542.0', '563.0', '600.0', '641.0', '651.0', '665.0', '681.0', '722.0', '812.0', '821.0', '844.0', '846.0', '906.0', '936.0', '975.0', '1051.0', '1052.0', '1053.0', '1054.0', '1061.0', '1067.0', '1159.0', '1160.0', '1163.0', '1164.0', '1165.0', '1170.0', '1190.0', '1197.0', '1260.0', '1261.0', '1276.0', '1293.0', '1336.0', '1338.0', '1349.0', '1354.0', '1386.0', '1397.0', '1403.0', '1423.0', '1426.0', '1429.0', '1436.0', '1437.0', '8.0', '18.0', '57.0', '92.0', '98.0', '108.0', '111.0', '142.0', '202.0', '349.0', '415.0', '729.0', '795.0', '844.0', '969.0', '1025.0', '1160.0', '1163.0', '1164.0', '1165.0', '1170.0', '1172.0', '1175.0', '1276.0', '1321.0', '1329.0', '1330.0', '1331.0', '1336.0', '1360.0', '1430.0', '1433.0', '1436.0', '1437.0', '146.0', '151.0', '162.0', '673.0', '1165.0', '1186.0', '1336.0', '1436.0', '68.0', '92.0', '151.0', '213.0', '1054.0', '43.0', '109.0', '151.0', '164.0', '542.0', '641.0', '865.0', '1185.0', '1304.0', '1364.0', '1368.0', '151.0', '260.0', '969.0', '1044.0', '1164.0', '1296.0', '1324.0', '1351.0', '202.0', '202.0', '237.0', '1162.0', '1172.0', '101.0', '103.0', '125.0', '151.0', '193.0', '263.0', '510.0', '563.0', '600.0', '821.0', '1016.0', '1025.0', '1351.0', '1354.0', '1364.0', '1432.0', '151.0', '593.0', '1059.0', '33.0', '122.0', '1293.0', '1328.0', '1386.0', '1439.0', '33.0', '34.0', '51.0', '78.0', '761.0', '1364.0', '1394.0', '1398.0', '1431.0', '33.0', '57.0', '116.0', '131.0', '162.0', '237.0', '353.0', '400.0', '486.0', '681.0', '759.0', '910.0', '962.0', '969.0', '1048.0', '1160.0', '1165.0', '1166.0', '1170.0', '1171.0', '1172.0', '1293.0', '1317.0', '1336.0', '1343.0', '1350.0', '1354.0', '1360.0', '1427.0', '1429.0', '20.0', '33.0', '43.0', '68.0', '76.0', '109.0', '116.0', '124.0', '210.0', '232.0', '237.0', '241.0', '268.0', '278.0', '284.0', '315.0', '409.0', '500.0', '600.0', '721.0', '725.0', '855.0', '864.0', '887.0', '1004.0', '1016.0', '1028.0', '1050.0', '1052.0', '1053.0', '1162.0', '1166.0', '1170.0', '1171.0', '1176.0', '1184.0', '1276.0', '1336.0', '1354.0', '1364.0', '1393.0', '1398.0', '1420.0', '1424.0', '1426.0', '1427.0', '1429.0', '1431.0', '30.0', '115.0', '151.0', '448.0', '730.0', '795.0', '151.0', '157.0', '1429.0', '202.0', '491.0', '833.0', '1314.0', '1354.0', '1432.0', '16.0', '32.0', '151.0', '1164.0', '12.0', '16.0', '26.0', '28.0', '53.0', '57.0', '102.0', '108.0', '109.0', '110.0', '138.0', '193.0', '215.0', '221.0', '223.0', '236.0', '241.0', '302.0', '314.0', '362.0', '399.0', '412.0', '427.0', '448.0', '464.0', '470.0', '475.0', '477.0', '534.0', '553.0', '607.0', '609.0', '616.0', '618.0', '665.0', '680.0', '681.0', '682.0', '695.0', '729.0', '732.0', '766.0', '903.0', '943.0', '969.0', '1047.0', '1162.0', '1163.0', '1166.0', '1171.0', '1172.0', '1181.0', '1271.0', '1304.0', '1305.0', '1307.0', '1314.0', '1317.0', '1338.0', '1354.0', '1364.0', '1367.0', '1368.0', '1405.0', '1409.0', '1416.0', '1420.0', '1423.0', '1427.0', '1430.0', '1436.0', '20.0', '51.0', '101.0', '151.0', '193.0', '240.0', '329.0', '353.0', '525.0', '645.0', '759.0', '821.0', '833.0', '911.0', '975.0', '1025.0', '1054.0', '1160.0', '1162.0', '1166.0', '1170.0', '1181.0', '1296.0', '1308.0', '1330.0', '1351.0', '1429.0', '64.0', '151.0', '795.0', '151.0', '151.0', '415.0', '647.0', '1017.0', '1025.0', '1332.0', '2.0', '12.0', '14.0', '20.0', '30.0', '40.0', '43.0', '51.0', '57.0', '74.0', '101.0', '108.0', '110.0', '116.0', '120.0', '124.0', '130.0', '164.0', '173.0', '193.0', '194.0', '202.0', '205.0', '213.0', '263.0', '310.0', '336.0', '349.0', '353.0', '409.0', '462.0', '470.0', '477.0', '491.0', '522.0', '599.0', '645.0', '647.0', '651.0', '658.0', '665.0', '681.0', '684.0', '730.0', '744.0', '766.0', '812.0', '821.0', '825.0', '833.0', '844.0', '855.0', '898.0', '939.0', '969.0', '975.0', '986.0', '1018.0', '1024.0', '1025.0', '1047.0', '1054.0', '1116.0', '1160.0', '1162.0', '1163.0', '1165.0', '1170.0', '1171.0', '1172.0', '1175.0', '1176.0', '1185.0', '1186.0', '1198.0', '1274.0', '1276.0', '1286.0', '1293.0', '1299.0', '1314.0', '1324.0', '1330.0', '1351.0', '1354.0', '1360.0', '1363.0', '1364.0', '1367.0', '1368.0', '1393.0', '1422.0', '1425.0', '1427.0', '1429.0', '1430.0', '1432.0', '50.0', '78.0', '109.0', '124.0', '125.0', '202.0', '210.0', '236.0', '330.0', '600.0', '682.0', '730.0', '975.0', '1025.0', '1160.0', '1286.0', '1330.0', '1391.0', '1424.0', '18.0', '57.0', '151.0', '158.0', '213.0', '273.0', '415.0', '482.0', '668.0', '692.0', '723.0', '749.0', '955.0', '968.0', '969.0', '1047.0', '1160.0', '1162.0', '1163.0', '1170.0', '1171.0', '1172.0', '1174.0', '1176.0', '1177.0', '1185.0', '1271.0', '1293.0', '1296.0', '1314.0', '1324.0', '1343.0', '1368.0', '1395.0', '1420.0', '1429.0', '1430.0', '12.0', '43.0', '111.0', '124.0', '151.0', '193.0', '260.0', '464.0', '655.0', '732.0', '788.0', '1017.0', '1160.0', '1162.0', '1165.0', '1166.0', '1176.0', '1271.0', '1296.0', '1314.0', '1320.0', '1338.0', '1351.0', '1354.0', '1357.0', '1367.0', '1398.0', '1400.0', '1405.0', '1436.0', '98.0', '125.0', '151.0', '194.0', '428.0', '825.0', '1025.0', '1053.0', '1162.0', '1163.0', '1186.0', '1228.0', '1282.0', '1351.0', '20.0', '151.0', '1176.0', '1336.0', '12.0', '14.0', '40.0', '74.0', '98.0', '120.0', '151.0', '152.0', '195.0', '215.0', '223.0', '225.0', '230.0', '310.0', '314.0', '319.0', '349.0', '382.0', '390.0', '475.0', '656.0', '665.0', '723.0', '729.0', '766.0', '825.0', '957.0', '969.0', '1017.0', '1052.0', '1053.0', '1054.0', '1059.0', '1152.0', '1158.0', '1160.0', '1162.0', '1163.0', '1168.0', '1174.0', '1176.0', '1181.0', '1185.0', '1186.0', '1271.0', '1276.0', '1278.0', '1282.0', '1293.0', '1296.0', '1304.0', '1314.0', '1320.0', '1328.0', '1338.0', '1343.0', '1351.0', '1354.0', '1357.0', '1360.0', '1364.0', '1366.0', '1368.0', '1386.0', '1398.0', '1400.0', '1406.0', '1423.0', '1427.0', '1429.0', '1430.0', '1431.0', '1433.0', '1435.0', '1436.0', '202.0', '283.0', '337.0', '732.0', '1368.0', '40.0', '43.0', '116.0', '151.0', '153.0', '221.0', '260.0', '336.0', '369.0', '465.0', '600.0', '641.0', '647.0', '730.0', '732.0', '788.0', '1017.0', '1048.0', '1052.0', '1163.0', '1165.0', '1166.0', '1314.0', '1336.0', '1364.0', '1423.0', '1427.0', '1430.0', '34.0', '43.0', '57.0', '116.0', '151.0', '250.0', '339.0', '415.0', '600.0', '609.0', '669.0', '843.0', '1165.0', '1271.0', '1304.0', '1336.0', '1368.0', '1398.0', '151.0', '16.0', '1431.0', '12.0', '29.0', '33.0', '43.0', '74.0', '409.0', '460.0', '491.0', '495.0', '645.0', '720.0', '812.0', '957.0', '958.0', '968.0', '977.0', '993.0', '1025.0', '1271.0', '1276.0', '1314.0', '1330.0', '1358.0', '1360.0', '1364.0', '1427.0', '1429.0', '1431.0', '1432.0', '131.0', '202.0', '911.0', '981.0', '1430.0', '1437.0', '124.0', '151.0', '213.0', '251.0', '316.0', '336.0', '409.0', '825.0', '1025.0', '1160.0', '1162.0', '1166.0', '1170.0', '1171.0', '1330.0', '1398.0', '43.0', '77.0', '151.0', '152.0', '236.0', '379.0', '645.0', '813.0', '1017.0', '1164.0', '1185.0', '1304.0', '1330.0', '1336.0', '1351.0', '1368.0', '1386.0', '1431.0', '14.0', '16.0', '28.0', '32.0', '57.0', '108.0', '109.0', '132.0', '173.0', '251.0', '252.0', '253.0', '263.0', '268.0', '310.0', '353.0', '460.0', '651.0', '658.0', '723.0', '813.0', '864.0', '933.0', '939.0', '975.0', '1024.0', '1044.0', '1314.0', '1430.0', '26.0', '33.0', '477.0', '729.0', '744.0', '882.0', '957.0', '1017.0', '53.0', '122.0', '151.0', '926.0', '957.0', '959.0', '1025.0', '1164.0', '1177.0', '33.0', '415.0', '1191.0', '12.0', '29.0', '33.0', '110.0', '651.0', '761.0', '882.0', '910.0', '957.0', '1172.0', '1420.0', '1426.0', '1431.0', '16.0', '482.0', '705.0', '1180.0', '1304.0', '1305.0', '1317.0', '1338.0', '1357.0', '1364.0', '1367.0', '1400.0', '1428.0', '1429.0', '1431.0', '1432.0', '1436.0', '8.0', '12.0', '20.0', '103.0', '116.0', '120.0', '124.0', '125.0', '136.0', '151.0', '164.0', '193.0', '194.0', '237.0', '241.0', '268.0', '278.0', '288.0', '329.0', '362.0', '369.0', '448.0', '477.0', '485.0', '491.0', '510.0', '547.0', '585.0', '593.0', '600.0', '647.0', '656.0', '684.0', '692.0', '723.0', '833.0', '943.0', '948.0', '969.0', '977.0', '1025.0', '1052.0', '1056.0', '1057.0', '1060.0', '1160.0', '1162.0', '1163.0', '1165.0', '1166.0', '1174.0', '1183.0', '1252.0', '1274.0', '1276.0', '1282.0', '1314.0', '1330.0', '1336.0', '1351.0', '1354.0', '1360.0', '1367.0', '1391.0', '1393.0', '1398.0', '1403.0', '1422.0', '1427.0', '1428.0', '1429.0', '1436.0', '33.0', '64.0', '108.0', '221.0', '283.0', '315.0', '330.0', '382.0', '508.0', '542.0', '622.0', '682.0', '749.0', '865.0', '957.0', '959.0', '1014.0', '1044.0', '1160.0', '1276.0', '1314.0', '1330.0', '1332.0', '1338.0', '1351.0', '1410.0', '202.0', '369.0', '764.0', '89.0', '108.0', '110.0', '116.0', '151.0', '164.0', '244.0', '283.0', '369.0', '422.0', '468.0', '508.0', '647.0', '651.0', '681.0', '682.0', '727.0', '732.0', '764.0', '785.0', '812.0', '933.0', '957.0', '1042.0', '1048.0', '1056.0', '1059.0', '1062.0', '1172.0', '1253.0', '1293.0', '1296.0', '1304.0', '1314.0', '1330.0', '1332.0', '1338.0', '1343.0', '1351.0', '1354.0', '1360.0', '1368.0', '1393.0', '1398.0', '1410.0', '1427.0', '1428.0', '1436.0', '1437.0', '33.0', '1293.0', '1429.0', '1432.0', '151.0', '542.0', '8.0', '16.0', '34.0', '40.0', '50.0', '53.0', '59.0', '74.0', '92.0', '111.0', '120.0', '152.0', '153.0', '173.0', '181.0', '194.0', '234.0', '253.0', '284.0', '295.0', '313.0', '315.0', '367.0', '379.0', '381.0', '398.0', '415.0', '468.0', '485.0', '528.0', '567.0', '583.0', '585.0', '599.0', '606.0', '665.0', '670.0', '681.0', '723.0', '768.0', '784.0', '812.0', '813.0', '833.0', '843.0', '861.0', '862.0', '865.0', '871.0', '887.0', '898.0', '911.0', '936.0', '939.0', '943.0', '996.0', '1044.0', '1047.0', '1053.0', '1160.0', '1162.0', '1163.0', '1164.0', '1165.0', '1166.0', '1172.0', '1174.0', '1176.0', '1185.0', '1188.0', '1274.0', '1276.0', '1293.0', '1305.0', '1314.0', '1317.0', '1330.0', '1336.0', '1337.0', '1338.0', '1350.0', '1351.0', '1354.0', '1360.0', '1364.0', '1368.0', '1386.0', '1391.0', '1393.0', '1395.0', '1396.0', '1400.0', '1420.0', '1422.0', '1423.0', '1427.0', '1429.0', '1431.0', '1432.0', '1436.0', '151.0', '1282.0', '2.0', '20.0', '33.0', '51.0', '125.0', '130.0', '193.0', '223.0', '224.0', '250.0', '353.0', '440.0', '600.0', '641.0', '933.0', '939.0', '1164.0', '1171.0', '1172.0', '1274.0', '1304.0', '1305.0', '1350.0', '1363.0', '1364.0', '1386.0', '1423.0', '1425.0', '1431.0', '1436.0', '26.0', '151.0', '969.0', '1176.0', '1274.0', '1314.0', '16.0', '18.0', '477.0', '969.0', '1025.0', '1048.0', '1172.0', '1314.0', '1354.0', '1393.0', '1424.0', '1436.0', '16.0', '62.0', '138.0', '462.0', '1054.0', '1141.0', '1304.0', '1330.0', '1336.0', '1364.0', '202.0', '329.0', '383.0', '542.0', '1055.0', '1185.0', '1364.0', '1436.0', '32.0', '34.0', '111.0', '151.0', '223.0', '337.0', '390.0', '616.0', '721.0', '846.0', '1047.0', '1053.0', '1160.0', '1163.0', '1164.0', '1170.0', '1172.0', '1183.0', '1184.0', '1276.0', '1330.0', '1336.0', '1357.0', '1364.0', '1367.0', '1391.0', '1394.0', '1407.0', '1420.0', '1424.0', '1429.0', '1430.0', '1431.0', '1436.0', '1437.0', '162.0', '202.0', '382.0', '460.0', '641.0', '936.0', '1024.0', '1047.0', '1048.0', '12.0', '30.0', '92.0', '151.0', '237.0', '795.0', '812.0', '151.0', '250.0', '415.0', '1017.0', '1184.0', '1432.0', '16.0', '12.0', '33.0', '43.0', '162.0', '213.0', '223.0', '310.0', '359.0', '547.0', '667.0', '813.0', '898.0', '943.0', '1162.0', '1165.0', '1170.0', '1171.0', '1172.0', '1293.0', '1324.0', '1330.0', '1351.0', '1364.0', '1368.0', '1431.0', '1432.0', '12.0', '14.0', '40.0', '74.0', '98.0', '120.0', '151.0', '152.0', '215.0', '223.0', '225.0', '230.0', '310.0', '314.0', '319.0', '349.0', '382.0', '390.0', '475.0', '656.0', '665.0', '723.0', '729.0', '766.0', '825.0', '957.0', '969.0', '1017.0', '1052.0', '1053.0', '1054.0', '1059.0', '1124.0', '1152.0', '1158.0', '1160.0', '1162.0', '1163.0', '1168.0', '1174.0', '1176.0', '1181.0', '1185.0', '1186.0', '1271.0', '1276.0', '1278.0', '1282.0', '1293.0', '1296.0', '1304.0', '1314.0', '1320.0', '1328.0', '1338.0', '1343.0', '1351.0', '1354.0', '1357.0', '1360.0', '1364.0', '1366.0', '1368.0', '1386.0', '1398.0', '1400.0', '1406.0', '1423.0', '1427.0', '1429.0', '1430.0', '1431.0', '1433.0', '1435.0', '1436.0', '146.0', '202.0', '373.0', '8.0', '151.0', '314.0', '969.0', '1396.0', '43.0', '53.0', '101.0', '120.0', '130.0', '132.0', '151.0', '162.0', '223.0', '234.0', '253.0', '260.0', '311.0', '339.0', '352.0', '356.0', '362.0', '367.0', '390.0', '398.0', '444.0', '475.0', '479.0', '482.0', '485.0', '515.0', '566.0', '567.0', '606.0', '722.0', '723.0', '735.0', '795.0', '809.0', '861.0', '865.0', '881.0', '892.0', '939.0', '952.0', '1025.0', '1172.0', '1338.0', '1360.0', '1427.0', '1430.0', '16.0', '482.0', '681.0', '705.0', '1180.0', '1304.0', '1305.0', '1317.0', '1338.0', '1357.0', '1364.0', '1367.0', '1400.0', '1428.0', '1429.0', '1431.0', '1432.0', '1436.0', '108.0', '131.0', '202.0', '1017.0', '1028.0', '1055.0', '1164.0', '1426.0', '1430.0', '1432.0', '33.0', '53.0', '112.0', '124.0', '221.0', '369.0', '382.0', '468.0', '651.0', '681.0', '682.0', '730.0', '805.0', '1008.0', '1054.0', '1055.0', '1165.0', '1176.0', '1198.0', '1257.0', '1274.0', '1277.0', '1286.0', '1304.0', '1305.0', '1314.0', '1317.0', '1329.0', '1343.0', '1360.0', '1364.0', '1366.0', '1395.0', '1400.0', '1423.0', '1428.0', '33.0', '102.0', '142.0', '330.0', '422.0', '882.0', '957.0', '1017.0', '1053.0', '1055.0', '1164.0', '1170.0', '1186.0', '1330.0', '1424.0', '151.0', '729.0', '843.0', '1054.0', '1165.0', '1170.0', '1172.0', '1179.0', '1186.0', '1271.0', '1273.0', '1280.0', '1296.0', '1304.0', '1305.0', '1313.0', '1314.0', '1320.0', '1328.0', '1330.0', '1336.0', '1338.0', '1343.0', '1351.0', '1356.0', '1362.0', '1364.0', '1368.0', '1393.0', '1410.0', '1424.0', '1429.0', '1436.0', '12.0', '16.0', '26.0', '53.0', '57.0', '102.0', '108.0', '109.0', '110.0', '193.0', '215.0', '221.0', '223.0', '236.0', '241.0', '302.0', '314.0', '362.0', '399.0', '412.0', '427.0', '448.0', '464.0', '470.0', '475.0', '477.0', '534.0', '553.0', '607.0', '609.0', '616.0', '618.0', '665.0', '680.0', '681.0', '682.0', '695.0', '729.0', '732.0', '744.0', '766.0', '903.0', '943.0', '969.0', '1047.0', '1162.0', '1163.0', '1166.0', '1171.0', '1172.0', '1181.0', '1271.0', '1304.0', '1305.0', '1307.0', '1314.0', '1317.0', '1338.0', '1354.0', '1364.0', '1367.0', '1368.0', '1405.0', '1409.0', '1416.0', '1420.0', '1423.0', '1427.0', '1430.0', '1436.0', '33.0', '64.0', '108.0', '221.0', '283.0', '315.0', '330.0', '382.0', '508.0', '525.0', '542.0', '622.0', '682.0', '749.0', '865.0', '957.0', '959.0', '1014.0', '1044.0', '1160.0', '1276.0', '1314.0', '1330.0', '1332.0', '1338.0', '1351.0', '1410.0', '34.0', '151.0', '865.0', '876.0', '1024.0', '1185.0', '1330.0', '1338.0', '1364.0', '1368.0', '1394.0', '14.0', '34.0', '111.0', '132.0', '142.0', '173.0', '189.0', '202.0', '302.0', '379.0', '390.0', '415.0', '427.0', '528.0', '542.0', '563.0', '583.0', '593.0', '606.0', '645.0', '692.0', '695.0', '723.0', '809.0', '878.0', '898.0', '943.0', '975.0', '981.0', '1017.0', '1042.0', '1047.0', '1052.0', '1053.0', '1160.0', '1163.0', '1164.0', '1166.0', '1170.0', '1171.0', '1172.0', '1174.0', '1185.0', '1198.0', '1276.0', '1313.0', '1314.0', '1328.0', '1336.0', '1338.0', '1351.0', '1364.0', '1393.0', '1397.0', '1402.0', '1428.0', '1436.0', '33.0', '98.0', '193.0', '237.0', '903.0', '968.0', '981.0', '1014.0', '1055.0', '1141.0', '1165.0', '1172.0', '1176.0', '1185.0', '1221.0', '1314.0', '1336.0', '1354.0', '1367.0', '1368.0', '1395.0', '1423.0', '1429.0', '1431.0', '33.0', '131.0', '422.0', '632.0', '1162.0', '1314.0', '1338.0', '1343.0', '1351.0', '1360.0', '1403.0', '1430.0', '1431.0', '1432.0', '1436.0', '29.0', '39.0', '50.0', '103.0', '164.0', '194.0', '202.0', '237.0', '251.0', '310.0', '681.0', '821.0', '959.0', '1016.0', '1158.0', '1165.0', '1276.0', '1293.0', '1304.0', '1305.0', '1314.0', '1343.0', '1354.0', '1368.0', '1427.0', '1428.0', '1431.0', '98.0', '107.0', '125.0', '151.0', '428.0', '825.0', '1025.0', '1053.0', '1162.0', '1163.0', '1186.0', '1228.0', '1282.0', '1351.0', '16.0', '43.0', '109.0', '120.0', '122.0', '124.0', '164.0', '194.0', '349.0', '622.0', '651.0', '957.0', '965.0', '1055.0', '1060.0', '1070.0', '1071.0', '1073.0', '1139.0', '1157.0', '1170.0', '1172.0', '1185.0', '1271.0', '1274.0', '1276.0', '1314.0', '1324.0', '1328.0', '1330.0', '1336.0', '1351.0', '1360.0', '1364.0', '1420.0', '1422.0', '1426.0', '1429.0', '1431.0', '1434.0', '1437.0', '1439.0', '2.0', '12.0', '14.0', '20.0', '40.0', '43.0', '51.0', '57.0', '74.0', '101.0', '108.0', '110.0', '116.0', '120.0', '124.0', '130.0', '164.0', '173.0', '193.0', '194.0', '202.0', '205.0', '213.0', '263.0', '310.0', '336.0', '349.0', '353.0', '409.0', '462.0', '470.0', '477.0', '491.0', '522.0', '599.0', '645.0', '647.0', '651.0', '658.0', '665.0', '681.0', '684.0', '730.0', '744.0', '766.0', '812.0', '821.0', '825.0', '833.0', '844.0', '855.0', '898.0', '939.0', '969.0', '975.0', '986.0', '1018.0', '1024.0', '1025.0', '1047.0', '1048.0', '1054.0', '1116.0', '1160.0', '1162.0', '1163.0', '1165.0', '1170.0', '1171.0', '1172.0', '1175.0', '1176.0', '1185.0', '1186.0', '1198.0', '1274.0', '1276.0', '1286.0', '1293.0', '1299.0', '1314.0', '1324.0', '1330.0', '1351.0', '1354.0', '1360.0', '1363.0', '1364.0', '1367.0', '1368.0', '1393.0', '1422.0', '1425.0', '1427.0', '1429.0', '1430.0', '1432.0', '20.0', '33.0', '43.0', '68.0', '76.0', '109.0', '116.0', '124.0', '210.0', '232.0', '237.0', '241.0', '268.0', '278.0', '284.0', '315.0', '409.0', '500.0', '600.0', '721.0', '725.0', '855.0', '864.0', '887.0', '1004.0', '1016.0', '1028.0', '1050.0', '1052.0', '1053.0', '1162.0', '1166.0', '1170.0', '1171.0', '1176.0', '1184.0', '1276.0', '1336.0', '1354.0', '1364.0', '1393.0', '1398.0', '1420.0', '1424.0', '1426.0', '1427.0', '1429.0', '1431.0', '12.0', '20.0', '39.0', '51.0', '108.0', '130.0', '151.0', '173.0', '189.0', '369.0', '411.0', '477.0', '495.0', '508.0', '522.0', '542.0', '563.0', '600.0', '641.0', '651.0', '665.0', '681.0', '722.0', '812.0', '821.0', '844.0', '846.0', '906.0', '936.0', '975.0', '1051.0', '1052.0', '1053.0', '1054.0', '1061.0', '1067.0', '1159.0', '1160.0', '1163.0', '1164.0', '1165.0', '1170.0', '1190.0', '1197.0', '1260.0', '1261.0', '1276.0', '1293.0', '1336.0', '1338.0', '1349.0', '1354.0', '1386.0', '1397.0', '1403.0', '1423.0', '1426.0', '1429.0', '1436.0', '1437.0', '8.0', '14.0', '57.0', '92.0', '98.0', '108.0', '111.0', '142.0', '202.0', '349.0', '415.0', '729.0', '795.0', '844.0', '969.0', '1025.0', '1160.0', '1163.0', '1164.0', '1165.0', '1170.0', '1172.0', '1175.0', '1276.0', '1321.0', '1329.0', '1330.0', '1331.0', '1336.0', '1360.0', '1430.0', '1433.0', '1436.0', '1437.0', '14.0', '33.0', '43.0', '109.0', '124.0', '164.0', '194.0', '221.0', '239.0', '254.0', '362.0', '390.0', '494.0', '559.0', '617.0', '684.0', '853.0', '865.0', '880.0', '919.0', '933.0', '943.0', '981.0', '1017.0', '1052.0', '1160.0', '1166.0', '1169.0', '1170.0', '1171.0', '1172.0', '1186.0', '1321.0', '1336.0', '1349.0', '1351.0', '1360.0', '1368.0', '1386.0', '1396.0', '1423.0', '1424.0', '1429.0', '1430.0', '1431.0', '1436.0', '53.0', '151.0', '184.0', '606.0', '681.0', '682.0', '766.0', '1014.0', '1174.0', '1178.0', '1304.0', '1305.0', '1320.0', '1321.0', '1330.0', '1394.0', '1400.0', '1435.0', '33.0', '299.0', '732.0', '1164.0', '1313.0', '142.0', '202.0', '337.0', '732.0', '1162.0', '1368.0', '124.0', '151.0', '323.0', '682.0', '1276.0', '1427.0', '1432.0', '89.0', '108.0', '110.0', '116.0', '151.0', '164.0', '236.0', '244.0', '283.0', '369.0', '422.0', '468.0', '508.0', '647.0', '651.0', '681.0', '682.0', '727.0', '732.0', '764.0', '785.0', '812.0', '933.0', '957.0', '1025.0', '1042.0', '1048.0', '1056.0', '1059.0', '1062.0', '1172.0', '1253.0', '1293.0', '1296.0', '1304.0', '1314.0', '1330.0', '1332.0', '1338.0', '1343.0', '1351.0', '1354.0', '1360.0', '1368.0', '1393.0', '1398.0', '1410.0', '1427.0', '1428.0', '1436.0', '1437.0', '33.0', '92.0', '124.0', '153.0', '260.0', '283.0', '376.0', '448.0', '464.0', '485.0', '647.0', '651.0', '658.0', '681.0', '693.0', '732.0', '919.0', '955.0', '1017.0', '1160.0', '1176.0', '1180.0', '1273.0', '1274.0', '1304.0', '1314.0', '1329.0', '1338.0', '1351.0', '1366.0', '1431.0', '1432.0', '108.0', '151.0', '880.0', '1017.0', '1360.0', '1429.0', '14.0', '16.0', '28.0', '32.0', '40.0', '57.0', '108.0', '109.0', '132.0', '173.0', '251.0', '252.0', '253.0', '263.0', '268.0', '310.0', '353.0', '460.0', '651.0', '658.0', '723.0', '813.0', '864.0', '933.0', '939.0', '975.0', '1024.0', '1044.0', '1314.0', '1430.0', '8.0', '16.0', '34.0', '40.0', '50.0', '53.0', '59.0', '74.0', '92.0', '111.0', '120.0', '152.0', '153.0', '173.0', '181.0', '194.0', '234.0', '253.0', '284.0', '295.0', '313.0', '315.0', '367.0', '379.0', '381.0', '398.0', '415.0', '426.0', '468.0', '485.0', '528.0', '567.0', '583.0', '585.0', '599.0', '606.0', '665.0', '670.0', '681.0', '723.0', '768.0', '784.0', '812.0', '813.0', '833.0', '843.0', '861.0', '862.0', '865.0', '871.0', '887.0', '898.0', '911.0', '936.0', '939.0', '943.0', '996.0', '1044.0', '1047.0', '1053.0', '1160.0', '1162.0', '1163.0', '1164.0', '1165.0', '1166.0', '1172.0', '1174.0', '1176.0', '1185.0', '1188.0', '1274.0', '1276.0', '1293.0', '1305.0', '1314.0', '1317.0', '1330.0', '1336.0', '1337.0', '1338.0', '1350.0', '1351.0', '1354.0', '1360.0', '1364.0', '1368.0', '1386.0', '1391.0', '1393.0', '1395.0', '1396.0', '1400.0', '1420.0', '1422.0', '1423.0', '1427.0', '1429.0', '1431.0', '1432.0', '1436.0', '26.0', '33.0', '40.0', '43.0', '164.0', '284.0', '313.0', '411.0', '422.0', '542.0', '617.0', '1016.0', '1170.0', '1171.0', '1172.0', '1293.0', '1330.0', '1364.0', '1393.0', '1395.0', '1428.0', '1429.0', '1431.0', '1436.0', '28.0', '43.0', '120.0', '136.0', '151.0', '295.0', '409.0', '474.0', '600.0', '632.0', '825.0', '1016.0', '1054.0', '1164.0', '1170.0', '1176.0', '1185.0', '1276.0', '1293.0', '1314.0', '1336.0', '1338.0', '1343.0', '1354.0', '1360.0', '1393.0', '1427.0', '1428.0', '1429.0', '1431.0', '1436.0', '12.0', '29.0', '33.0', '43.0', '74.0', '164.0', '409.0', '460.0', '491.0', '495.0', '645.0', '720.0', '812.0', '957.0', '958.0', '968.0', '977.0', '993.0', '1025.0', '1271.0', '1276.0', '1314.0', '1330.0', '1358.0', '1360.0', '1364.0', '1427.0', '1429.0', '1431.0', '1432.0', '151.0', '415.0', '809.0', '1407.0', '33.0', '57.0', '116.0', '131.0', '162.0', '237.0', '353.0', '400.0', '486.0', '681.0', '759.0', '910.0', '962.0', '969.0', '1048.0', '1160.0', '1165.0', '1166.0', '1170.0', '1171.0', '1172.0', '1293.0', '1317.0', '1336.0', '1343.0', '1350.0', '1354.0', '1360.0', '1426.0', '1427.0', '1429.0', '124.0', '151.0', '173.0', '782.0', '881.0', '943.0', '1164.0', '1165.0', '1166.0', '1171.0', '1274.0', '1282.0', '1293.0', '1317.0', '1320.0', '1330.0', '1343.0', '1351.0', '1354.0', '1393.0', '151.0', '759.0', '1170.0', '32.0', '34.0', '111.0', '151.0', '223.0', '337.0', '390.0', '616.0', '721.0', '723.0', '846.0', '1047.0', '1053.0', '1160.0', '1163.0', '1164.0', '1170.0', '1172.0', '1183.0', '1184.0', '1276.0', '1330.0', '1336.0', '1357.0', '1364.0', '1367.0', '1391.0', '1394.0', '1407.0', '1420.0', '1424.0', '1429.0', '1430.0', '1431.0', '1436.0', '1437.0', '151.0', '162.0', '486.0', '542.0', '645.0', '692.0', '1198.0', '1304.0', '1368.0', '1430.0', '1436.0', '14.0', '51.0', '53.0', '102.0', '108.0', '116.0', '120.0', '122.0', '145.0', '153.0', '162.0', '202.0', '221.0', '240.0', '349.0', '448.0', '465.0', '542.0', '600.0', '617.0', '641.0', '681.0', '813.0', '903.0', '1025.0', '1052.0', '1054.0', '1060.0', '1160.0', '1162.0', '1164.0', '1170.0', '1171.0', '1172.0', '1174.0', '1176.0', '1185.0', '1254.0', '1277.0', '1293.0', '1314.0', '1321.0', '1324.0', '1330.0', '1332.0', '1343.0', '1360.0', '1364.0', '1393.0', '1394.0', '1395.0', '1409.0', '1422.0', '1423.0', '1426.0', '1427.0', '1429.0', '1430.0', '1431.0', '1436.0', '1437.0', '98.0', '103.0', '108.0', '110.0', '131.0', '158.0', '189.0', '202.0', '263.0', '283.0', '415.0', '564.0', '617.0', '684.0', '764.0', '821.0', '844.0', '933.0', '955.0', '965.0', '1017.0', '1044.0', '1055.0', '1056.0', '1057.0', '1060.0', '1160.0', '1163.0', '1164.0', '1165.0', '1166.0', '1330.0', '1332.0', '1336.0', '1360.0', '1367.0', '1403.0', '1430.0', '1431.0', '1436.0', '12.0', '43.0', '111.0', '124.0', '151.0', '193.0', '260.0', '464.0', '655.0', '732.0', '788.0', '1017.0', '1138.0', '1160.0', '1162.0', '1165.0', '1166.0', '1176.0', '1271.0', '1296.0', '1314.0', '1320.0', '1338.0', '1351.0', '1354.0', '1357.0', '1364.0', '1367.0', '1398.0', '1400.0', '1405.0', '1436.0', '43.0', '116.0', '130.0', '151.0', '153.0', '221.0', '260.0', '336.0', '369.0', '465.0', '600.0', '641.0', '647.0', '730.0', '732.0', '788.0', '1017.0', '1048.0', '1052.0', '1163.0', '1165.0', '1166.0', '1314.0', '1336.0', '1364.0', '1423.0', '1427.0', '1430.0']\n"
     ]
    }
   ],
   "source": [
    "similar_user_articles=sum(similar_user_articles_lists,[])\n",
    "print(similar_user_articles)\n",
    "#prints([0,4,6,9,7,4])\n"
   ]
  },
  {
   "cell_type": "code",
   "execution_count": 388,
   "metadata": {},
   "outputs": [
    {
     "name": "stdout",
     "output_type": "stream",
     "text": [
      "['16.0', '33.0', '76.0', '164.0', '194.0', '213.0', '237.0', '260.0', '268.0', '278.0', '283.0', '422.0', '480.0', '557.0', '618.0', '730.0', '744.0', '968.0', '1014.0', '1025.0', '1044.0', '1048.0', '1277.0', '20.0', '33.0', '34.0', '68.0', '110.0', '124.0', '189.0', '202.0', '240.0', '263.0', '268.0', '359.0', '415.0', '444.0', '462.0', '525.0', '542.0', '645.0', '681.0', '684.0', '692.0', '720.0', '812.0', '821.0', '878.0', '965.0', '967.0', '975.0', '1006.0', '1014.0', '1047.0', '1050.0', '1055.0', '1056.0', '1137.0', '1154.0', '1170.0', '1171.0', '1172.0', '1263.0', '1330.0', '1336.0', '1394.0', '1395.0', '16.0', '26.0', '32.0', '43.0', '51.0', '64.0', '78.0', '109.0', '116.0', '124.0', '202.0', '260.0', '288.0', '381.0', '477.0', '547.0', '593.0', '975.0', '1025.0', '1048.0', '1393.0', '1394.0', '1432.0', '20.0', '33.0', '34.0', '68.0', '110.0', '124.0', '189.0', '202.0', '240.0', '263.0', '268.0', '353.0', '359.0', '415.0', '444.0', '462.0', '525.0', '542.0', '645.0', '681.0', '684.0', '692.0', '720.0', '812.0', '821.0', '878.0', '965.0', '967.0', '975.0', '1006.0', '1014.0', '1047.0', '1050.0', '1055.0', '1056.0', '1137.0', '1154.0', '1170.0', '1171.0', '1172.0', '1263.0', '1330.0', '1336.0', '1394.0', '1395.0', '8.0', '33.0', '110.0', '125.0', '202.0', '268.0', '295.0', '422.0', '673.0', '681.0', '882.0', '1178.0', '1332.0', '33.0', '124.0', '194.0', '202.0', '210.0', '448.0', '470.0', '524.0', '795.0', '864.0', '990.0', '1170.0', '33.0', '124.0', '125.0', '194.0', '202.0', '448.0', '470.0', '524.0', '617.0', '795.0', '864.0', '990.0', '1048.0', '1170.0', '16.0', '33.0', '76.0', '164.0', '194.0', '213.0', '237.0', '260.0', '268.0', '278.0', '283.0', '422.0', '480.0', '557.0', '618.0', '730.0', '744.0', '968.0', '1014.0', '1025.0', '1044.0', '1048.0', '1277.0', '33.0', '110.0', '125.0', '202.0', '268.0', '295.0', '422.0', '673.0', '681.0', '882.0', '1178.0', '1332.0', '16.0', '43.0', '124.0', '260.0', '510.0', '757.0', '795.0', '898.0', '1028.0', '1143.0', '1166.0', '1367.0', '1403.0', '1416.0', '1424.0', '1426.0', '16.0', '26.0', '32.0', '43.0', '51.0', '64.0', '78.0', '109.0', '116.0', '124.0', '260.0', '288.0', '381.0', '477.0', '547.0', '593.0', '975.0', '1025.0', '1048.0', '1393.0', '1394.0', '1432.0', '16.0', '1330.0', '20.0', '116.0', '202.0', '260.0', '373.0', '525.0', '1184.0', '1336.0', '33.0', '202.0', '50.0', '78.0', '109.0', '124.0', '125.0', '202.0', '210.0', '330.0', '600.0', '682.0', '730.0', '975.0', '1025.0', '1286.0', '1330.0', '1391.0', '1424.0', '18.0', '32.0', '33.0', '162.0', '202.0', '237.0', '241.0', '260.0', '263.0', '350.0', '381.0', '409.0', '415.0', '426.0', '593.0', '607.0', '610.0', '730.0', '764.0', '864.0', '903.0', '1016.0', '1042.0', '1178.0', '1183.0', '1299.0', '1336.0', '1363.0', '1387.0', '1439.0', '33.0', '283.0', '422.0', '464.0', '600.0', '725.0', '821.0', '882.0', '1044.0', '1232.0', '1336.0', '202.0', '1120.0', '1263.0', '1332.0', '1404.0', '1416.0', '1432.0', '16.0', '43.0', '124.0', '260.0', '510.0', '757.0', '795.0', '898.0', '1028.0', '1143.0', '1166.0', '1367.0', '1403.0', '1416.0', '1424.0', '1426.0', '16.0', '20.0', '191.0', '194.0', '241.0', '260.0', '268.0', '524.0', '559.0', '600.0', '730.0', '864.0', '933.0', '1016.0', '1025.0', '1028.0', '1048.0', '1165.0', '1274.0', '1305.0', '1350.0', '1395.0', '26.0', '33.0', '124.0', '544.0', '16.0', '18.0', '369.0', '477.0', '1025.0', '1048.0', '1172.0', '1393.0', '1424.0', '33.0', '108.0', '189.0', '617.0', '681.0', '959.0', '1047.0', '65.0', '108.0', '110.0', '202.0', '241.0', '260.0', '369.0', '542.0', '681.0', '892.0', '1014.0', '16.0', '20.0', '191.0', '194.0', '241.0', '253.0', '260.0', '268.0', '524.0', '559.0', '600.0', '730.0', '864.0', '933.0', '1016.0', '1025.0', '1028.0', '1165.0', '1274.0', '1305.0', '1350.0', '1395.0', '173.0', '189.0', '202.0', '369.0', '528.0', '600.0', '795.0', '26.0', '33.0', '124.0', '544.0', '16.0', '26.0', '28.0', '116.0', '131.0', '138.0', '146.0', '260.0', '381.0', '462.0', '525.0', '618.0', '645.0', '692.0', '788.0', '833.0', '962.0', '1336.0', '1403.0', '202.0', '398.0', '486.0', '658.0', '809.0', '1055.0', '1170.0', '1336.0', '1424.0', '33.0', '283.0', '422.0', '464.0', '600.0', '725.0', '821.0', '882.0', '1044.0', '1232.0', '1336.0', '1369.0', '33.0', '51.0', '54.0', '124.0', '142.0', '189.0', '202.0', '237.0', '241.0', '278.0', '302.0', '337.0', '524.0', '618.0', '864.0', '871.0', '975.0', '1016.0', '1048.0', '1060.0', '1164.0', '1184.0', '1298.0', '1332.0', '1390.0', '1409.0', '1432.0', '20.0', '26.0', '33.0', '43.0', '116.0', '124.0', '164.0', '194.0', '241.0', '260.0', '268.0', '278.0', '316.0', '600.0', '744.0', '812.0', '882.0', '891.0', '951.0', '1035.0', '1048.0', '1170.0', '1171.0', '1172.0', '1330.0', '1336.0', '202.0', '1120.0', '1263.0', '1332.0', '1404.0', '1416.0', '1432.0', '202.0', '398.0', '486.0', '658.0', '681.0', '809.0', '1055.0', '1170.0', '1336.0', '1424.0', '20.0', '26.0', '33.0', '43.0', '116.0', '124.0', '194.0', '241.0', '260.0', '268.0', '278.0', '316.0', '600.0', '744.0', '812.0', '882.0', '891.0', '1035.0', '1048.0', '1170.0', '1171.0', '1172.0', '1330.0', '1336.0', '33.0', '108.0', '173.0', '189.0', '617.0', '681.0', '959.0', '29.0', '33.0', '43.0', '51.0', '109.0', '111.0', '130.0', '142.0', '153.0', '162.0', '221.0', '232.0', '237.0', '244.0', '253.0', '273.0', '302.0', '315.0', '316.0', '347.0', '379.0', '415.0', '464.0', '468.0', '491.0', '547.0', '607.0', '609.0', '692.0', '730.0', '761.0', '763.0', '813.0', '857.0', '858.0', '876.0', '880.0', '933.0', '939.0', '967.0', '981.0', '990.0', '1014.0', '1157.0', '1164.0', '1172.0', '1305.0', '1330.0', '1332.0', '1336.0', '1367.0', '1396.0', '1422.0', '1432.0', '16.0', '26.0', '116.0', '124.0', '131.0', '138.0', '146.0', '260.0', '381.0', '462.0', '525.0', '618.0', '634.0', '645.0', '692.0', '788.0', '833.0', '962.0', '1336.0', '1403.0', '20.0', '116.0', '202.0', '260.0', '373.0', '525.0', '812.0', '1184.0', '1336.0', '28.0', '33.0', '51.0', '107.0', '124.0', '142.0', '189.0', '202.0', '237.0', '241.0', '278.0', '302.0', '337.0', '524.0', '618.0', '864.0', '871.0', '975.0', '1016.0', '1048.0', '1060.0', '1164.0', '1184.0', '1298.0', '1332.0', '1390.0', '1409.0', '1432.0', '2.0', '16.0', '26.0', '28.0', '29.0', '33.0', '43.0', '50.0', '76.0', '108.0', '109.0', '124.0', '131.0', '164.0', '193.0', '194.0', '210.0', '213.0', '221.0', '236.0', '237.0', '241.0', '252.0', '253.0', '283.0', '295.0', '299.0', '302.0', '316.0', '336.0', '337.0', '339.0', '348.0', '359.0', '362.0', '367.0', '409.0', '422.0', '444.0', '477.0', '482.0', '510.0', '517.0', '524.0', '617.0', '634.0', '641.0', '658.0', '682.0', '693.0', '720.0', '721.0', '744.0', '761.0', '800.0', '812.0', '821.0', '833.0', '843.0', '887.0', '910.0', '939.0', '943.0', '952.0', '967.0', '973.0', '981.0', '996.0', '1000.0', '1014.0', '1025.0', '1051.0', '1101.0', '1148.0', '1159.0', '1164.0', '1165.0', '1166.0', '1170.0', '1171.0', '1172.0', '1277.0', '1291.0', '1298.0', '1299.0', '1305.0', '1330.0', '1332.0', '1336.0', '1367.0', '1391.0', '1393.0', '1395.0', '1396.0', '1428.0', '1432.0', '1439.0', '8.0', '33.0', '110.0', '113.0', '124.0', '125.0', '131.0', '136.0', '189.0', '210.0', '239.0', '260.0', '268.0', '409.0', '440.0', '444.0', '547.0', '557.0', '593.0', '599.0', '645.0', '658.0', '677.0', '682.0', '692.0', '725.0', '788.0', '795.0', '882.0', '891.0', '919.0', '955.0', '1015.0', '1164.0', '1330.0', '1395.0', '1416.0', '1422.0', '1424.0', '1425.0', '8.0', '33.0', '110.0', '113.0', '124.0', '125.0', '131.0', '136.0', '189.0', '210.0', '239.0', '260.0', '268.0', '409.0', '440.0', '444.0', '547.0', '557.0', '593.0', '599.0', '645.0', '658.0', '677.0', '682.0', '692.0', '725.0', '788.0', '795.0', '882.0', '891.0', '919.0', '955.0', '1015.0', '1164.0', '1330.0', '1395.0', '1416.0', '1422.0', '1424.0', '1425.0', '18.0', '32.0', '33.0', '162.0', '202.0', '237.0', '241.0', '260.0', '263.0', '350.0', '381.0', '409.0', '415.0', '426.0', '593.0', '607.0', '610.0', '730.0', '764.0', '864.0', '903.0', '1016.0', '1042.0', '1178.0', '1183.0', '1299.0', '1336.0', '1363.0', '1387.0', '1439.0', '65.0', '108.0', '110.0', '202.0', '241.0', '260.0', '369.0', '542.0', '681.0', '892.0', '1014.0', '173.0', '189.0', '202.0', '369.0', '528.0', '600.0', '795.0', '2.0', '16.0', '26.0', '28.0', '29.0', '33.0', '43.0', '50.0', '76.0', '108.0', '109.0', '124.0', '131.0', '164.0', '193.0', '194.0', '210.0', '213.0', '221.0', '236.0', '237.0', '241.0', '252.0', '253.0', '283.0', '295.0', '299.0', '302.0', '316.0', '336.0', '337.0', '339.0', '348.0', '359.0', '362.0', '367.0', '409.0', '422.0', '444.0', '477.0', '482.0', '510.0', '517.0', '524.0', '617.0', '634.0', '641.0', '658.0', '682.0', '693.0', '720.0', '721.0', '744.0', '761.0', '800.0', '812.0', '821.0', '833.0', '843.0', '910.0', '939.0', '943.0', '952.0', '967.0', '973.0', '981.0', '996.0', '1000.0', '1014.0', '1025.0', '1051.0', '1101.0', '1148.0', '1159.0', '1164.0', '1165.0', '1166.0', '1170.0', '1171.0', '1172.0', '1277.0', '1291.0', '1298.0', '1299.0', '1305.0', '1330.0', '1332.0', '1336.0', '1367.0', '1391.0', '1393.0', '1395.0', '1396.0', '1428.0', '1432.0', '1439.0', '29.0', '33.0', '43.0', '51.0', '109.0', '111.0', '130.0', '142.0', '153.0', '162.0', '221.0', '232.0', '237.0', '244.0', '253.0', '273.0', '302.0', '315.0', '316.0', '379.0', '415.0', '464.0', '468.0', '491.0', '547.0', '607.0', '609.0', '692.0', '730.0', '761.0', '763.0', '813.0', '857.0', '858.0', '876.0', '880.0', '933.0', '939.0', '967.0', '981.0', '990.0', '1014.0', '1157.0', '1164.0', '1172.0', '1305.0', '1330.0', '1332.0', '1336.0', '1367.0', '1396.0', '1422.0', '1432.0', '43.0', '236.0', '379.0', '415.0', '645.0', '813.0', '1164.0', '1330.0', '1336.0', '124.0', '125.0', '462.0', '464.0', '812.0', '33.0', '1432.0', '124.0', '33.0', '101.0', '103.0', '125.0', '193.0', '240.0', '263.0', '510.0', '563.0', '600.0', '821.0', '1016.0', '1025.0', '1432.0', '251.0', '268.0', '311.0', '359.0', '525.0', '528.0', '641.0', '684.0', '735.0', '768.0', '910.0', '1172.0', '1279.0', '1305.0', '1336.0', '1393.0', '1395.0', '193.0', '213.0', '462.0', '865.0', '903.0', '260.0', '1014.0', '39.0', '51.0', '205.0', '210.0', '237.0', '477.0', '721.0', '812.0', '1024.0', '1170.0', '1171.0', '16.0', '1330.0', '795.0', '33.0', '369.0', '109.0', '124.0', '369.0', '593.0', '933.0', '0.0', '33.0', '868.0', '30.0', '237.0', '260.0', '682.0', '795.0', '812.0', '16.0', '108.0', '116.0', '158.0', '241.0', '283.0', '593.0', '844.0', '1044.0', '1166.0', '1420.0', '16.0', '43.0', '51.0', '241.0', '16.0', '26.0', '28.0', '29.0', '57.0', '103.0', '109.0', '125.0', '268.0', '477.0', '485.0', '681.0', '933.0', '26.0', '33.0', '330.0', '477.0', '744.0', '882.0', '1016.0', '65.0', '124.0', '138.0', '260.0', '600.0', '645.0', '809.0', '933.0', '962.0', '1166.0', '1170.0', '1330.0', '1336.0', '1391.0', '39.0', '202.0', '241.0', '268.0', '462.0', '525.0', '585.0', '809.0', '975.0', '1042.0', '1189.0', '1330.0', '1356.0', '1362.0', '1393.0', '1424.0', '16.0', '34.0', '51.0', '76.0', '125.0', '164.0', '336.0', '491.0', '559.0', '833.0', '861.0', '1047.0', '1324.0', '1332.0', '1432.0', '18.0', '33.0', '645.0', '962.0', '43.0', '109.0', '268.0', '329.0', '346.0', '494.0', '525.0', '585.0', '626.0', '668.0', '732.0', '768.0', '910.0', '968.0', '981.0', '1170.0', '1183.0', '1232.0', '1305.0', '1363.0', '1391.0', '1439.0', '43.0', '510.0', '2.0', '50.0', '369.0', '440.0', '593.0', '617.0', '740.0', '809.0', '861.0', '985.0', '1317.0', '1330.0', '1416.0', '1420.0', '92.0', '346.0', '525.0', '768.0', '33.0', '51.0', '122.0', '263.0', '355.0', '409.0', '426.0', '693.0', '764.0', '821.0', '910.0', '930.0', '958.0', '1050.0', '647.0', '260.0', '795.0', '959.0', '673.0', '958.0', '996.0', '1057.0', '1142.0', '1165.0', '1172.0', '1180.0', '1184.0', '1280.0', '1336.0', '1387.0', '1330.0', '202.0', '782.0', '933.0', '941.0', '1042.0', '1332.0', '1166.0', '373.0', '673.0', '732.0', '958.0', '1273.0', '1299.0', '122.0', '542.0', '768.0', '669.0', '33.0', '1164.0', '1165.0', '1183.0', '33.0', '122.0', '1439.0', '33.0', '122.0', '250.0', '313.0', '415.0', '444.0', '732.0', '805.0', '812.0', '1035.0', '1172.0', '1405.0', '202.0', '1060.0', '1159.0', '1290.0', '1292.0', '244.0', '16.0', '241.0', '268.0', '369.0', '593.0', '1044.0', '109.0', '1172.0', '761.0', '202.0', '260.0', '795.0', '16.0', '547.0', '16.0', '43.0', '122.0', '250.0', '260.0', '910.0', '1048.0', '1055.0', '1420.0', '33.0', '415.0', '795.0', '1191.0', '865.0', '16.0', '409.0', '16.0', '415.0', '647.0', '749.0', '1025.0', '1332.0', '39.0', '116.0', '224.0', '508.0', '681.0', '722.0', '809.0', '1024.0', '1025.0', '1047.0', '464.0', '788.0', '795.0', '18.0', '43.0', '109.0', '164.0', '241.0', '465.0', '559.0', '1336.0', '1050.0', '20.0', '647.0', '673.0', '409.0', '600.0', '788.0', '812.0', '1170.0', '202.0', '600.0', '714.0', '939.0', '1425.0', '33.0', '110.0', '681.0', '939.0', '108.0', '865.0', '977.0', '1025.0', '1169.0', '1187.0', '1263.0', '1358.0', '1397.0', '1414.0', '1415.0', '1434.0', '18.0', '32.0', '109.0', '116.0', '191.0', '210.0', '1014.0', '1016.0', '202.0', '237.0', '409.0', '477.0', '569.0', '593.0', '600.0', '651.0', '744.0', '758.0', '764.0', '800.0', '935.0', '936.0', '948.0', '1035.0', '1050.0', '1164.0', '1350.0', '1391.0', '1395.0', '1428.0', '20.0', '33.0', '68.0', '110.0', '124.0', '176.0', '194.0', '313.0', '316.0', '444.0', '542.0', '812.0', '821.0', '844.0', '855.0', '962.0', '967.0', '1050.0', '1055.0', '1057.0', '1068.0', '1120.0', '1164.0', '1172.0', '1199.0', '1274.0', '1336.0', '1425.0', '122.0', '268.0', '316.0', '462.0', '684.0', '1024.0', '1324.0', '1330.0', '1428.0', '15.0', '33.0', '109.0', '422.0', '515.0', '651.0', '681.0', '684.0', '744.0', '990.0', '1018.0', '1055.0', '1393.0', '28.0', '32.0', '43.0', '162.0', '191.0', '295.0', '462.0', '681.0', '788.0', '1024.0', '1171.0', '1332.0', '1367.0', '162.0', '329.0', '336.0', '415.0', '20.0', '593.0', '1336.0', '202.0', '411.0', '600.0', '681.0', '191.0', '959.0', '1177.0', '1321.0', '1330.0', '108.0', '336.0', '477.0', '547.0', '645.0', '744.0', '812.0', '1391.0', '1395.0', '1428.0', '101.0', '288.0', '470.0', '542.0', '645.0', '812.0', '967.0', '1305.0', '1332.0', '1361.0', '1418.0', '1432.0', '8.0', '20.0', '33.0', '131.0', '617.0', '1018.0', '103.0', '125.0', '136.0', '202.0', '547.0', '692.0', '795.0', '43.0', '109.0', '124.0', '164.0', '260.0', '898.0', '1164.0', '1170.0', '1171.0', '1172.0', '1332.0', '1391.0', '1432.0', '1317.0', '1330.0', '1391.0', '8.0', '33.0', '288.0', '440.0', '600.0', '903.0', '1016.0', '260.0', '813.0', '1305.0', '20.0', '78.0', '1025.0', '1050.0', '1393.0', '1416.0', '30.0', '115.0', '448.0', '681.0', '730.0', '795.0', '996.0', '20.0', '39.0', '43.0', '51.0', '57.0', '116.0', '124.0', '125.0', '260.0', '369.0', '593.0', '600.0', '844.0', '959.0', '1025.0', '1050.0', '1166.0', '1336.0', '116.0', '241.0', '617.0', '1048.0', '1330.0', '1350.0', '1391.0', '116.0', '124.0', '213.0', '251.0', '316.0', '336.0', '409.0', '1025.0', '1080.0', '1166.0', '1170.0', '1171.0', '1330.0', '33.0', '124.0', '1024.0', '43.0', '50.0', '78.0', '107.0', '109.0', '132.0', '136.0', '158.0', '194.0', '237.0', '241.0', '258.0', '283.0', '303.0', '316.0', '362.0', '409.0', '420.0', '440.0', '470.0', '525.0', '544.0', '585.0', '622.0', '682.0', '695.0', '722.0', '795.0', '821.0', '833.0', '844.0', '846.0', '865.0', '868.0', '891.0', '898.0', '939.0', '990.0', '1035.0', '1055.0', '1149.0', '1165.0', '1184.0', '1274.0', '1330.0', '1332.0', '1337.0', '1367.0', '1412.0', '8.0', '109.0', '124.0', '237.0', '462.0', '547.0', '761.0', '855.0', '53.0', '369.0', '926.0', '959.0', '1025.0', '1164.0', '1177.0', '1178.0', '164.0', '260.0', '462.0', '732.0', '1434.0', '43.0', '51.0', '101.0', '131.0', '138.0', '162.0', '193.0', '202.0', '224.0', '329.0', '510.0', '645.0', '684.0', '795.0', '868.0', '962.0', '981.0', '1014.0', '1016.0', '1028.0', '1274.0', '1432.0', '1437.0', '113.0', '202.0', '221.0', '291.0', '462.0', '485.0', '495.0', '588.0', '975.0', '1324.0', '1330.0', '1409.0', '20.0', '33.0', '53.0', '162.0', '232.0', '659.0', '669.0', '951.0', '1170.0', '369.0', '525.0', '1367.0', '1410.0', '53.0', '109.0', '153.0', '164.0', '193.0', '205.0', '311.0', '415.0', '464.0', '477.0', '482.0', '508.0', '593.0', '732.0', '812.0', '1047.0', '1058.0', '1060.0', '1079.0', '1143.0', '1150.0', '1166.0', '1189.0', '1191.0', '1195.0', '1198.0', '1219.0', '1280.0', '1313.0', '1330.0', '1331.0', '1356.0', '1362.0', '1401.0', '1402.0', '1403.0', '1404.0', '1405.0', '1407.0', '1409.0', '1410.0', '1412.0', '1418.0', '1424.0', '33.0', '189.0', '270.0', '400.0', '415.0', '525.0', '632.0', '695.0', '732.0', '795.0', '891.0', '1286.0', '1424.0', '57.0', '158.0', '213.0', '273.0', '415.0', '482.0', '668.0', '692.0', '749.0', '955.0', '968.0', '1047.0', '1170.0', '1171.0', '1172.0', '1177.0', '1324.0', '1395.0', '1420.0', '600.0', '1016.0', '131.0', '202.0', '911.0', '981.0', '1437.0', '34.0', '51.0', '202.0', '250.0', '415.0', '678.0', '720.0', '887.0', '1170.0', '1359.0', '109.0', '164.0', '278.0', '369.0', '422.0', '470.0', '479.0', '593.0', '669.0', '673.0', '905.0', '1305.0', '16.0', '138.0', '462.0', '1141.0', '1330.0', '1336.0', '1428.0', '43.0', '109.0', '164.0', '415.0', '542.0', '641.0', '865.0', '28.0', '103.0', '116.0', '446.0', '933.0', '1056.0', '1313.0', '1425.0', '164.0', '887.0', '898.0', '1050.0', '1305.0', '1422.0', '2.0', '8.0', '68.0', '103.0', '143.0', '181.0', '193.0', '202.0', '205.0', '237.0', '329.0', '383.0', '491.0', '510.0', '524.0', '542.0', '600.0', '617.0', '692.0', '764.0', '795.0', '812.0', '821.0', '833.0', '878.0', '935.0', '941.0', '996.0', '1006.0', '1030.0', '1038.0', '1050.0', '1165.0', '1170.0', '1171.0', '1305.0', '1336.0', '1350.0', '1426.0', '20.0', '51.0', '101.0', '193.0', '240.0', '329.0', '353.0', '525.0', '645.0', '759.0', '821.0', '833.0', '911.0', '975.0', '1025.0', '1166.0', '1170.0', '1308.0', '1330.0', '2.0', '20.0', '33.0', '51.0', '125.0', '130.0', '193.0', '224.0', '250.0', '353.0', '440.0', '557.0', '600.0', '641.0', '933.0', '939.0', '1164.0', '1171.0', '1172.0', '1274.0', '1305.0', '1350.0', '1363.0', '1425.0', '462.0', '18.0', '33.0', '101.0', '109.0', '124.0', '125.0', '193.0', '194.0', '241.0', '260.0', '462.0', '593.0', '725.0', '833.0', '1028.0', '1044.0', '1047.0', '470.0', '1274.0', '33.0', '399.0', '641.0', '667.0', '1164.0', '1171.0', '1330.0', '1334.0', '348.0', '1047.0', '1048.0', '116.0', '415.0', '692.0', '843.0', '910.0', '16.0', '124.0', '193.0', '1028.0', '194.0', '375.0', '444.0', '681.0', '16.0', '32.0', '348.0', '1330.0', '125.0', '933.0', '33.0', '593.0', '1014.0', '250.0', '669.0', '1170.0', '1332.0', '39.0', '138.0', '145.0', '202.0', '237.0', '241.0', '253.0', '350.0', '362.0', '398.0', '444.0', '486.0', '528.0', '567.0', '645.0', '669.0', '730.0', '795.0', '846.0', '975.0', '1164.0', '1277.0', '1437.0', '1443.0', '131.0', '189.0', '260.0', '288.0', '379.0', '542.0', '730.0', '795.0', '1164.0', '1305.0', '1330.0', '1391.0', '1394.0', '1395.0', '33.0', '422.0', '1336.0', '1426.0', '33.0', '34.0', '51.0', '78.0', '761.0', '884.0', '1172.0', '1394.0', '15.0', '20.0', '353.0', '515.0', '593.0', '651.0', '18.0', '241.0', '508.0', '1141.0', '1157.0', '1330.0', '1394.0', '1434.0', '68.0', '213.0', '1428.0', '1434.0', '29.0', '33.0', '651.0', '761.0', '882.0', '910.0', '1172.0', '1420.0', '1426.0', '600.0', '760.0', '795.0', '20.0', '43.0', '462.0', '57.0', '213.0', '232.0', '240.0', '260.0', '462.0', '1044.0', '1164.0', '1324.0', '34.0', '43.0', '57.0', '116.0', '250.0', '339.0', '415.0', '542.0', '600.0', '609.0', '669.0', '843.0', '1165.0', '1336.0', '143.0', '189.0', '193.0', '239.0', '369.0', '464.0', '508.0', '542.0', '593.0', '600.0', '764.0', '795.0', '812.0', '1028.0', '1050.0', '1336.0', '124.0', '20.0', '124.0', '164.0', '213.0', '237.0', '260.0', '316.0', '355.0', '600.0', '681.0', '763.0', '812.0', '1164.0', '1170.0', '68.0', '108.0', '241.0', '477.0', '522.0', '593.0', '600.0', '853.0', '865.0', '958.0', '1014.0', '1042.0', '1050.0', '1164.0', '1290.0', '1336.0', '1394.0', '33.0', '43.0', '110.0', '131.0', '684.0', '162.0', '16.0', '189.0', '1391.0', '1416.0', '593.0', '232.0', '260.0', '910.0', '542.0', '1165.0', '1170.0', '2.0', '8.0', '32.0', '43.0', '50.0', '237.0', '251.0', '288.0', '369.0', '593.0', '864.0', '8.0', '20.0', '103.0', '116.0', '124.0', '125.0', '136.0', '164.0', '193.0', '194.0', '241.0', '268.0', '278.0', '288.0', '329.0', '362.0', '369.0', '448.0', '477.0', '485.0', '491.0', '510.0', '547.0', '585.0', '593.0', '600.0', '647.0', '684.0', '692.0', '833.0', '943.0', '948.0', '977.0', '1025.0', '1056.0', '1057.0', '1060.0', '1165.0', '1166.0', '1183.0', '1252.0', '1274.0', '1330.0', '1336.0', '1367.0', '1391.0', '1393.0', '1403.0', '1422.0', '1428.0', '369.0', '464.0', '593.0', '600.0', '32.0', '39.0', '107.0', '109.0', '124.0', '125.0', '260.0', '268.0', '369.0', '462.0', '588.0', '593.0', '600.0', '681.0', '730.0', '932.0', '933.0', '1014.0', '1025.0', '1044.0', '1178.0', '1391.0', '16.0', '51.0', '237.0', '641.0', '1330.0', '1332.0', '1362.0', '1432.0', '124.0', '237.0', '369.0', '464.0', '477.0', '1030.0', '202.0', '369.0', '542.0', '645.0', '764.0', '113.0', '124.0', '125.0', '260.0', '268.0', '600.0', '990.0', '1044.0', '1428.0', '57.0', '108.0', '116.0', '202.0', '239.0', '315.0', '316.0', '329.0', '411.0', '415.0', '444.0', '462.0', '464.0', '485.0', '641.0', '680.0', '749.0', '761.0', '865.0', '943.0', '1044.0', '973.0', '68.0', '202.0', '316.0', '329.0', '383.0', '542.0', '1055.0', '20.0', '353.0', '515.0', '593.0', '96.0', '122.0', '250.0', '313.0', '415.0', '444.0', '732.0', '805.0', '812.0', '1035.0', '1172.0', '1405.0', '18.0', '32.0', '109.0', '116.0', '210.0', '1014.0', '1016.0', '16.0', '189.0', '1391.0', '1416.0', '33.0', '193.0', '237.0', '903.0', '968.0', '981.0', '1014.0', '1055.0', '1141.0', '1165.0', '1172.0', '1221.0', '1336.0', '1367.0', '1395.0', '158.0', '260.0', '33.0', '16.0', '26.0', '28.0', '29.0', '103.0', '109.0', '125.0', '213.0', '268.0', '477.0', '485.0', '681.0', '933.0', '33.0', '880.0', '1050.0', '33.0', '92.0', '124.0', '153.0', '260.0', '283.0', '376.0', '448.0', '485.0', '647.0', '651.0', '658.0', '681.0', '693.0', '732.0', '919.0', '955.0', '1180.0', '1273.0', '1274.0', '1329.0', '1432.0', '43.0', '60.0', '1165.0', '1170.0', '18.0', '26.0', '43.0', '108.0', '193.0', '202.0', '237.0', '617.0', '933.0', '939.0', '996.0', '1183.0', '1317.0', '373.0', '673.0', '732.0', '958.0', '1273.0', '1299.0', '57.0', '108.0', '116.0', '202.0', '239.0', '315.0', '316.0', '329.0', '411.0', '415.0', '444.0', '462.0', '464.0', '485.0', '641.0', '680.0', '865.0', '943.0', '1044.0', '131.0', '189.0', '260.0', '288.0', '379.0', '542.0', '730.0', '795.0', '1305.0', '1330.0', '1391.0', '1394.0', '1395.0', '250.0', '669.0', '1170.0', '1332.0', '202.0', '16.0', '53.0', '184.0', '606.0', '681.0', '682.0', '1014.0', '1178.0', '1305.0', '1321.0', '1394.0', '103.0', '108.0', '110.0', '131.0', '158.0', '189.0', '202.0', '263.0', '283.0', '415.0', '564.0', '617.0', '764.0', '821.0', '844.0', '933.0', '955.0', '965.0', '1044.0', '1055.0', '1056.0', '1057.0', '1060.0', '1164.0', '1165.0', '1166.0', '1330.0', '1332.0', '1336.0', '1367.0', '1403.0', '33.0', '60.0', '189.0', '270.0', '400.0', '415.0', '525.0', '632.0', '695.0', '732.0', '795.0', '891.0', '1286.0', '1424.0', '57.0', '124.0', '241.0', '283.0', '681.0', '878.0', '955.0', '1165.0', '1190.0', '1330.0', '1391.0', '4.0', '33.0', '68.0', '110.0', '124.0', '176.0', '194.0', '313.0', '316.0', '542.0', '812.0', '821.0', '844.0', '855.0', '962.0', '967.0', '1050.0', '1055.0', '1057.0', '1068.0', '1120.0', '1164.0', '1172.0', '1199.0', '1274.0', '1336.0', '1425.0', '20.0', '33.0', '51.0', '131.0', '617.0', '162.0', '329.0', '415.0', '191.0', '28.0', '43.0', '136.0', '295.0', '409.0', '474.0', '600.0', '632.0', '1016.0', '1164.0', '1170.0', '1336.0', '1393.0', '1428.0', '8.0', '176.0', '1396.0', '33.0', '399.0', '667.0', '1164.0', '1171.0', '1330.0', '1334.0', '65.0', '124.0', '138.0', '260.0', '600.0', '645.0', '809.0', '933.0', '962.0', '1166.0', '1170.0', '1330.0', '1336.0', '1391.0', '103.0', '125.0', '136.0', '202.0', '795.0', '202.0', '411.0', '600.0', '681.0', '887.0', '1145.0', '1166.0', '1324.0', '76.0', '202.0', '237.0', '409.0', '477.0', '569.0', '593.0', '651.0', '744.0', '758.0', '764.0', '800.0', '935.0', '936.0', '948.0', '1035.0', '1050.0', '1164.0', '1350.0', '1395.0', '1428.0', '43.0', '103.0', '462.0', '202.0', '43.0', '109.0', '124.0', '260.0', '898.0', '1164.0', '1170.0', '1171.0', '1172.0', '1332.0', '1391.0', '1432.0', '115.0', '124.0', '369.0', '593.0', '933.0', '33.0', '362.0', '1332.0', '53.0', '109.0', '153.0', '164.0', '193.0', '205.0', '311.0', '415.0', '464.0', '477.0', '482.0', '508.0', '593.0', '732.0', '812.0', '1047.0', '1058.0', '1060.0', '1079.0', '1143.0', '1150.0', '1166.0', '1189.0', '1191.0', '1195.0', '1198.0', '1219.0', '1280.0', '1313.0', '1330.0', '1331.0', '1356.0', '1362.0', '1401.0', '1402.0', '1403.0', '1404.0', '1405.0', '1407.0', '1409.0', '1410.0', '1412.0', '1418.0', '1424.0', '202.0', '162.0', '486.0', '542.0', '645.0', '692.0', '1198.0', '39.0', '51.0', '205.0', '210.0', '237.0', '721.0', '812.0', '1170.0', '1171.0', '134.0', '100.0', '260.0', '462.0', '732.0', '2.0', '8.0', '32.0', '43.0', '237.0', '251.0', '288.0', '369.0', '864.0', '33.0', '51.0', '122.0', '263.0', '355.0', '409.0', '426.0', '693.0', '764.0', '821.0', '910.0', '930.0', '958.0', '232.0', '15.0', '33.0', '53.0', '162.0', '232.0', '659.0', '951.0', '1170.0', '116.0', '153.0', '508.0', '681.0', '722.0', '1024.0', '1025.0', '1047.0', '20.0', '295.0', '647.0', '16.0', '455.0', '33.0', '8.0', '39.0', '138.0', '145.0', '202.0', '237.0', '241.0', '253.0', '350.0', '362.0', '398.0', '444.0', '486.0', '528.0', '567.0', '645.0', '669.0', '730.0', '795.0', '846.0', '975.0', '1164.0', '1277.0', '1443.0', '33.0', '130.0', '260.0', '1014.0', '33.0', '16.0', '164.0', '1170.0', '1171.0', '1298.0', '16.0', '33.0', '43.0', '109.0', '124.0', '164.0', '194.0', '221.0', '239.0', '254.0', '362.0', '494.0', '559.0', '617.0', '684.0', '853.0', '865.0', '880.0', '943.0', '981.0', '1166.0', '1169.0', '1170.0', '1171.0', '1172.0', '1321.0', '1336.0', '1349.0', '1396.0', '1424.0', '57.0', '213.0', '240.0', '202.0', '25.0', '124.0', '2.0', '8.0', '68.0', '103.0', '111.0', '143.0', '181.0', '193.0', '202.0', '205.0', '237.0', '329.0', '383.0', '491.0', '510.0', '524.0', '542.0', '600.0', '617.0', '692.0', '764.0', '795.0', '812.0', '821.0', '833.0', '878.0', '935.0', '941.0', '996.0', '1006.0', '1030.0', '1038.0', '1050.0', '1165.0', '1170.0', '1171.0', '1305.0', '1336.0', '1350.0', '1426.0', '270.0', '1317.0', '1330.0', '1391.0', '28.0', '32.0', '43.0', '130.0', '162.0', '191.0', '295.0', '462.0', '681.0', '788.0', '1024.0', '1171.0', '1332.0', '1367.0', '108.0', '138.0', '865.0', '977.0', '1025.0', '1169.0', '1187.0', '1358.0', '1397.0', '1414.0', '1415.0', '1434.0', '202.0', '113.0', '202.0', '291.0', '462.0', '485.0', '495.0', '588.0', '1324.0', '1330.0', '1409.0', '16.0', '26.0', '43.0', '122.0', '250.0', '260.0', '910.0', '1048.0', '1420.0', '33.0', '202.0', '1159.0', '1164.0', '1165.0', '1169.0', '1172.0', '1175.0', '1263.0', '1330.0', '0.0', '33.0', '132.0', '68.0', '108.0', '477.0', '522.0', '593.0', '600.0', '853.0', '865.0', '958.0', '1014.0', '1042.0', '1050.0', '1164.0', '1290.0', '1336.0', '1394.0', '673.0', '958.0', '996.0', '1057.0', '1142.0', '1165.0', '1172.0', '1180.0', '1184.0', '1280.0', '1336.0', '1387.0', '16.0', '43.0', '109.0', '124.0', '164.0', '194.0', '622.0', '651.0', '965.0', '1055.0', '1060.0', '1070.0', '1071.0', '1073.0', '1139.0', '1157.0', '1170.0', '1172.0', '1274.0', '1324.0', '1330.0', '1336.0', '1420.0', '1422.0', '1426.0', '1434.0', '1437.0', '1439.0', '268.0', '311.0', '359.0', '528.0', '641.0', '684.0', '735.0', '768.0', '910.0', '1172.0', '1279.0', '1305.0', '1336.0', '1393.0', '1395.0', '252.0', '415.0', '692.0', '843.0', '910.0', '51.0', '53.0', '102.0', '108.0', '116.0', '122.0', '145.0', '153.0', '162.0', '184.0', '202.0', '221.0', '240.0', '448.0', '465.0', '542.0', '600.0', '617.0', '641.0', '681.0', '813.0', '903.0', '1025.0', '1060.0', '1164.0', '1170.0', '1171.0', '1172.0', '1254.0', '1277.0', '1321.0', '1324.0', '1330.0', '1332.0', '1393.0', '1394.0', '1395.0', '1409.0', '1422.0', '1426.0', '1437.0', '116.0', '241.0', '617.0', '1048.0', '1330.0', '1350.0', '1391.0', '33.0', '43.0', '64.0', '162.0', '359.0', '547.0', '667.0', '898.0', '943.0', '1165.0', '1170.0', '1171.0', '1172.0', '1324.0', '1330.0', '1432.0', '33.0', '16.0', '241.0', '268.0', '593.0', '1044.0', '8.0', '202.0', '1060.0', '1159.0', '1292.0', '20.0', '124.0', '164.0', '189.0', '237.0', '260.0', '316.0', '355.0', '600.0', '763.0', '812.0', '1164.0', '1170.0', '108.0', '131.0', '202.0', '1028.0', '1055.0', '1164.0', '1426.0', '1432.0', '16.0', '34.0', '51.0', '76.0', '125.0', '164.0', '336.0', '491.0', '559.0', '833.0', '861.0', '1047.0', '1324.0', '1332.0', '1432.0', '202.0', '241.0', '260.0', '16.0', '234.0', '348.0', '1330.0', '28.0', '369.0', '525.0', '1367.0', '1410.0', '101.0', '241.0', '288.0', '470.0', '542.0', '645.0', '812.0', '967.0', '1305.0', '1361.0', '1418.0', '1432.0', '8.0', '33.0', '288.0', '440.0', '600.0', '903.0', '1016.0', '18.0', '43.0', '109.0', '164.0', '224.0', '465.0', '559.0', '291.0', '1047.0', '1048.0', '43.0', '53.0', '101.0', '130.0', '132.0', '162.0', '253.0', '260.0', '311.0', '339.0', '352.0', '356.0', '362.0', '367.0', '398.0', '444.0', '479.0', '482.0', '485.0', '515.0', '566.0', '567.0', '606.0', '722.0', '735.0', '795.0', '861.0', '865.0', '881.0', '892.0', '939.0', '952.0', '1025.0', '1172.0', '224.0', '843.0', '1165.0', '1170.0', '1172.0', '1179.0', '1273.0', '1280.0', '1305.0', '1313.0', '1330.0', '1336.0', '1356.0', '1362.0', '1393.0', '1410.0', '1424.0', '32.0', '33.0', '732.0', '1164.0', '164.0', '887.0', '1050.0', '1305.0', '1422.0', '33.0', '53.0', '112.0', '124.0', '221.0', '369.0', '468.0', '651.0', '681.0', '682.0', '730.0', '805.0', '1008.0', '1055.0', '1165.0', '1198.0', '1257.0', '1274.0', '1277.0', '1286.0', '1305.0', '1317.0', '1329.0', '1395.0', '1428.0', '15.0', '33.0', '50.0', '109.0', '422.0', '515.0', '651.0', '681.0', '744.0', '990.0', '1018.0', '1055.0', '8.0', '57.0', '109.0', '124.0', '237.0', '462.0', '547.0', '855.0', '369.0', '593.0', '600.0', '18.0', '33.0', '101.0', '109.0', '124.0', '125.0', '194.0', '241.0', '260.0', '462.0', '593.0', '725.0', '1028.0', '1044.0', '1047.0', '34.0', '865.0', '876.0', '1330.0', '1394.0', '33.0', '1164.0', '1165.0', '1183.0', '2.0', '50.0', '369.0', '440.0', '593.0', '617.0', '740.0', '809.0', '861.0', '985.0', '1317.0', '1330.0', '1416.0', '1420.0', '143.0', '189.0', '191.0', '236.0', '239.0', '369.0', '464.0', '508.0', '542.0', '593.0', '600.0', '764.0', '795.0', '812.0', '1028.0', '1050.0', '1336.0', '26.0', '33.0', '43.0', '68.0', '164.0', '284.0', '313.0', '411.0', '422.0', '542.0', '617.0', '1016.0', '1170.0', '1171.0', '1172.0', '1330.0', '1393.0', '1395.0', '1428.0', '33.0', '43.0', '110.0', '131.0', '109.0', '138.0', '164.0', '278.0', '369.0', '470.0', '479.0', '593.0', '669.0', '673.0', '905.0', '1305.0', '30.0', '323.0', '682.0', '1432.0', '122.0', '268.0', '462.0', '684.0', '1024.0', '1324.0', '1330.0', '1428.0', '124.0', '138.0', '782.0', '881.0', '1164.0', '1165.0', '1166.0', '1171.0', '1274.0', '1317.0', '1330.0', '1393.0', '20.0', '202.0', '782.0', '933.0', '941.0', '1042.0', '1332.0', '33.0', '57.0', '64.0', '422.0', '833.0', '1330.0', '1396.0', '1426.0', '132.0', '202.0', '241.0', '28.0', '36.0', '103.0', '116.0', '446.0', '933.0', '1056.0', '1313.0', '1425.0', '191.0', '194.0', '444.0', '33.0', '57.0', '64.0', '422.0', '833.0', '1330.0', '1396.0', '1426.0', '113.0', '124.0', '125.0', '260.0', '268.0', '600.0', '990.0', '1428.0', '43.0', '50.0', '78.0', '107.0', '109.0', '132.0', '136.0', '158.0', '194.0', '213.0', '237.0', '241.0', '258.0', '283.0', '303.0', '316.0', '362.0', '409.0', '420.0', '440.0', '470.0', '525.0', '544.0', '585.0', '622.0', '682.0', '722.0', '795.0', '821.0', '833.0', '844.0', '846.0', '865.0', '868.0', '891.0', '898.0', '939.0', '990.0', '1035.0', '1055.0', '1149.0', '1165.0', '1184.0', '1274.0', '1330.0', '1332.0', '1337.0', '1367.0', '1412.0', '33.0', '330.0', '422.0', '882.0', '1055.0', '1164.0', '1170.0', '1330.0', '1424.0', '193.0', '213.0', '462.0', '865.0', '903.0', '16.0', '116.0', '158.0', '241.0', '283.0', '593.0', '844.0', '1166.0', '1420.0', '34.0', '57.0', '111.0', '132.0', '142.0', '173.0', '189.0', '202.0', '302.0', '379.0', '415.0', '427.0', '528.0', '542.0', '563.0', '583.0', '593.0', '606.0', '645.0', '692.0', '695.0', '809.0', '878.0', '898.0', '943.0', '975.0', '981.0', '1042.0', '1047.0', '1164.0', '1166.0', '1170.0', '1171.0', '1172.0', '1198.0', '1313.0', '1336.0', '1393.0', '1397.0', '1402.0', '1428.0', '32.0', '39.0', '107.0', '109.0', '124.0', '125.0', '260.0', '268.0', '369.0', '462.0', '588.0', '593.0', '600.0', '681.0', '730.0', '932.0', '933.0', '1014.0', '1025.0', '1044.0', '1178.0', '1391.0', '20.0', '39.0', '51.0', '108.0', '130.0', '173.0', '369.0', '411.0', '477.0', '495.0', '508.0', '542.0', '563.0', '600.0', '641.0', '651.0', '681.0', '722.0', '812.0', '821.0', '844.0', '846.0', '906.0', '936.0', '975.0', '1051.0', '1061.0', '1067.0', '1159.0', '1164.0', '1165.0', '1170.0', '1190.0', '1197.0', '1260.0', '1261.0', '1336.0', '1349.0', '1397.0', '1403.0', '1426.0', '1437.0', '8.0', '18.0', '57.0', '92.0', '108.0', '111.0', '142.0', '202.0', '415.0', '795.0', '844.0', '1025.0', '1164.0', '1165.0', '1170.0', '1172.0', '1175.0', '1321.0', '1329.0', '1330.0', '1331.0', '1336.0', '1437.0', '146.0', '162.0', '673.0', '1165.0', '1336.0', '68.0', '92.0', '213.0', '43.0', '109.0', '164.0', '542.0', '641.0', '865.0', '260.0', '1044.0', '1164.0', '1324.0', '202.0', '202.0', '237.0', '1172.0', '101.0', '103.0', '125.0', '193.0', '263.0', '510.0', '563.0', '600.0', '821.0', '1016.0', '1025.0', '1432.0', '593.0', '33.0', '122.0', '1439.0', '33.0', '34.0', '51.0', '78.0', '761.0', '1394.0', '33.0', '57.0', '116.0', '131.0', '162.0', '237.0', '353.0', '400.0', '486.0', '681.0', '759.0', '910.0', '962.0', '1048.0', '1165.0', '1166.0', '1170.0', '1171.0', '1172.0', '1317.0', '1336.0', '1350.0', '20.0', '33.0', '43.0', '68.0', '76.0', '109.0', '116.0', '124.0', '210.0', '232.0', '237.0', '241.0', '268.0', '278.0', '284.0', '315.0', '409.0', '500.0', '600.0', '721.0', '725.0', '855.0', '864.0', '887.0', '1004.0', '1016.0', '1028.0', '1050.0', '1166.0', '1170.0', '1171.0', '1184.0', '1336.0', '1393.0', '1420.0', '1424.0', '1426.0', '30.0', '115.0', '448.0', '730.0', '795.0', '157.0', '202.0', '491.0', '833.0', '1432.0', '16.0', '32.0', '1164.0', '16.0', '26.0', '28.0', '53.0', '57.0', '102.0', '108.0', '109.0', '110.0', '138.0', '193.0', '221.0', '236.0', '241.0', '302.0', '362.0', '399.0', '412.0', '427.0', '448.0', '464.0', '470.0', '477.0', '534.0', '553.0', '607.0', '609.0', '616.0', '618.0', '680.0', '681.0', '682.0', '695.0', '732.0', '903.0', '943.0', '1047.0', '1166.0', '1171.0', '1172.0', '1305.0', '1307.0', '1317.0', '1367.0', '1405.0', '1409.0', '1416.0', '1420.0', '20.0', '51.0', '101.0', '193.0', '240.0', '329.0', '353.0', '525.0', '645.0', '759.0', '821.0', '833.0', '911.0', '975.0', '1025.0', '1166.0', '1170.0', '1308.0', '1330.0', '64.0', '795.0', '415.0', '647.0', '1025.0', '1332.0', '2.0', '20.0', '30.0', '43.0', '51.0', '57.0', '101.0', '108.0', '110.0', '116.0', '124.0', '130.0', '164.0', '173.0', '193.0', '194.0', '202.0', '205.0', '213.0', '263.0', '336.0', '353.0', '409.0', '462.0', '470.0', '477.0', '491.0', '522.0', '599.0', '645.0', '647.0', '651.0', '658.0', '681.0', '684.0', '730.0', '744.0', '812.0', '821.0', '833.0', '844.0', '855.0', '898.0', '939.0', '975.0', '986.0', '1018.0', '1024.0', '1025.0', '1047.0', '1116.0', '1165.0', '1170.0', '1171.0', '1172.0', '1175.0', '1198.0', '1274.0', '1286.0', '1299.0', '1324.0', '1330.0', '1363.0', '1367.0', '1393.0', '1422.0', '1425.0', '1432.0', '50.0', '78.0', '109.0', '124.0', '125.0', '202.0', '210.0', '236.0', '330.0', '600.0', '682.0', '730.0', '975.0', '1025.0', '1286.0', '1330.0', '1391.0', '1424.0', '18.0', '57.0', '158.0', '213.0', '273.0', '415.0', '482.0', '668.0', '692.0', '749.0', '955.0', '968.0', '1047.0', '1170.0', '1171.0', '1172.0', '1177.0', '1324.0', '1395.0', '1420.0', '43.0', '111.0', '124.0', '193.0', '260.0', '464.0', '655.0', '732.0', '788.0', '1165.0', '1166.0', '1367.0', '1405.0', '125.0', '194.0', '428.0', '1025.0', '1228.0', '20.0', '1336.0', '195.0', '202.0', '283.0', '337.0', '732.0', '43.0', '116.0', '153.0', '221.0', '260.0', '336.0', '369.0', '465.0', '600.0', '641.0', '647.0', '730.0', '732.0', '788.0', '1048.0', '1165.0', '1166.0', '1336.0', '34.0', '43.0', '57.0', '116.0', '250.0', '339.0', '415.0', '600.0', '609.0', '669.0', '843.0', '1165.0', '1336.0', '16.0', '29.0', '33.0', '43.0', '409.0', '460.0', '491.0', '495.0', '645.0', '720.0', '812.0', '958.0', '968.0', '977.0', '993.0', '1025.0', '1330.0', '1358.0', '1432.0', '131.0', '202.0', '911.0', '981.0', '1437.0', '124.0', '213.0', '251.0', '316.0', '336.0', '409.0', '1025.0', '1166.0', '1170.0', '1171.0', '1330.0', '43.0', '77.0', '236.0', '379.0', '645.0', '813.0', '1164.0', '1330.0', '1336.0', '16.0', '28.0', '32.0', '57.0', '108.0', '109.0', '132.0', '173.0', '251.0', '252.0', '253.0', '263.0', '268.0', '353.0', '460.0', '651.0', '658.0', '813.0', '864.0', '933.0', '939.0', '975.0', '1024.0', '1044.0', '26.0', '33.0', '477.0', '744.0', '882.0', '53.0', '122.0', '926.0', '959.0', '1025.0', '1164.0', '1177.0', '33.0', '415.0', '1191.0', '29.0', '33.0', '110.0', '651.0', '761.0', '882.0', '910.0', '1172.0', '1420.0', '1426.0', '16.0', '482.0', '705.0', '1180.0', '1305.0', '1317.0', '1367.0', '1428.0', '1432.0', '8.0', '20.0', '103.0', '116.0', '124.0', '125.0', '136.0', '164.0', '193.0', '194.0', '237.0', '241.0', '268.0', '278.0', '288.0', '329.0', '362.0', '369.0', '448.0', '477.0', '485.0', '491.0', '510.0', '547.0', '585.0', '593.0', '600.0', '647.0', '684.0', '692.0', '833.0', '943.0', '948.0', '977.0', '1025.0', '1056.0', '1057.0', '1060.0', '1165.0', '1166.0', '1183.0', '1252.0', '1274.0', '1330.0', '1336.0', '1367.0', '1391.0', '1393.0', '1403.0', '1422.0', '1428.0', '33.0', '64.0', '108.0', '221.0', '283.0', '315.0', '330.0', '508.0', '542.0', '622.0', '682.0', '749.0', '865.0', '959.0', '1014.0', '1044.0', '1330.0', '1332.0', '1410.0', '202.0', '369.0', '764.0', '89.0', '108.0', '110.0', '116.0', '164.0', '244.0', '283.0', '369.0', '422.0', '468.0', '508.0', '647.0', '651.0', '681.0', '682.0', '727.0', '732.0', '764.0', '785.0', '812.0', '933.0', '1042.0', '1048.0', '1056.0', '1062.0', '1172.0', '1253.0', '1330.0', '1332.0', '1393.0', '1410.0', '1428.0', '1437.0', '33.0', '1432.0', '542.0', '8.0', '16.0', '34.0', '50.0', '53.0', '59.0', '92.0', '111.0', '153.0', '173.0', '181.0', '194.0', '234.0', '253.0', '284.0', '295.0', '313.0', '315.0', '367.0', '379.0', '381.0', '398.0', '415.0', '468.0', '485.0', '528.0', '567.0', '583.0', '585.0', '599.0', '606.0', '670.0', '681.0', '768.0', '784.0', '812.0', '813.0', '833.0', '843.0', '861.0', '862.0', '865.0', '871.0', '887.0', '898.0', '911.0', '936.0', '939.0', '943.0', '996.0', '1044.0', '1047.0', '1164.0', '1165.0', '1166.0', '1172.0', '1188.0', '1274.0', '1305.0', '1317.0', '1330.0', '1336.0', '1337.0', '1350.0', '1391.0', '1393.0', '1395.0', '1396.0', '1420.0', '1422.0', '1432.0', '2.0', '20.0', '33.0', '51.0', '125.0', '130.0', '193.0', '224.0', '250.0', '353.0', '440.0', '600.0', '641.0', '933.0', '939.0', '1164.0', '1171.0', '1172.0', '1274.0', '1305.0', '1350.0', '1363.0', '1425.0', '26.0', '1274.0', '16.0', '18.0', '477.0', '1025.0', '1048.0', '1172.0', '1393.0', '1424.0', '16.0', '62.0', '138.0', '462.0', '1141.0', '1330.0', '1336.0', '202.0', '329.0', '383.0', '542.0', '1055.0', '32.0', '34.0', '111.0', '337.0', '616.0', '721.0', '846.0', '1047.0', '1164.0', '1170.0', '1172.0', '1183.0', '1184.0', '1330.0', '1336.0', '1367.0', '1391.0', '1394.0', '1407.0', '1420.0', '1424.0', '1437.0', '162.0', '202.0', '460.0', '641.0', '936.0', '1024.0', '1047.0', '1048.0', '30.0', '92.0', '237.0', '795.0', '812.0', '250.0', '415.0', '1184.0', '1432.0', '16.0', '33.0', '43.0', '162.0', '213.0', '359.0', '547.0', '667.0', '813.0', '898.0', '943.0', '1165.0', '1170.0', '1171.0', '1172.0', '1324.0', '1330.0', '1432.0', '146.0', '202.0', '373.0', '8.0', '1396.0', '43.0', '53.0', '101.0', '130.0', '132.0', '162.0', '234.0', '253.0', '260.0', '311.0', '339.0', '352.0', '356.0', '362.0', '367.0', '398.0', '444.0', '479.0', '482.0', '485.0', '515.0', '566.0', '567.0', '606.0', '722.0', '735.0', '795.0', '809.0', '861.0', '865.0', '881.0', '892.0', '939.0', '952.0', '1025.0', '1172.0', '16.0', '482.0', '681.0', '705.0', '1180.0', '1305.0', '1317.0', '1367.0', '1428.0', '1432.0', '108.0', '131.0', '202.0', '1028.0', '1055.0', '1164.0', '1426.0', '1432.0', '33.0', '53.0', '112.0', '124.0', '221.0', '369.0', '468.0', '651.0', '681.0', '682.0', '730.0', '805.0', '1008.0', '1055.0', '1165.0', '1198.0', '1257.0', '1274.0', '1277.0', '1286.0', '1305.0', '1317.0', '1329.0', '1395.0', '1428.0', '33.0', '102.0', '142.0', '330.0', '422.0', '882.0', '1055.0', '1164.0', '1170.0', '1330.0', '1424.0', '843.0', '1165.0', '1170.0', '1172.0', '1179.0', '1273.0', '1280.0', '1305.0', '1313.0', '1330.0', '1336.0', '1356.0', '1362.0', '1393.0', '1410.0', '1424.0', '16.0', '26.0', '53.0', '57.0', '102.0', '108.0', '109.0', '110.0', '193.0', '221.0', '236.0', '241.0', '302.0', '362.0', '399.0', '412.0', '427.0', '448.0', '464.0', '470.0', '477.0', '534.0', '553.0', '607.0', '609.0', '616.0', '618.0', '680.0', '681.0', '682.0', '695.0', '732.0', '744.0', '903.0', '943.0', '1047.0', '1166.0', '1171.0', '1172.0', '1305.0', '1307.0', '1317.0', '1367.0', '1405.0', '1409.0', '1416.0', '1420.0', '33.0', '64.0', '108.0', '221.0', '283.0', '315.0', '330.0', '508.0', '525.0', '542.0', '622.0', '682.0', '749.0', '865.0', '959.0', '1014.0', '1044.0', '1330.0', '1332.0', '1410.0', '34.0', '865.0', '876.0', '1024.0', '1330.0', '1394.0', '34.0', '111.0', '132.0', '142.0', '173.0', '189.0', '202.0', '302.0', '379.0', '415.0', '427.0', '528.0', '542.0', '563.0', '583.0', '593.0', '606.0', '645.0', '692.0', '695.0', '809.0', '878.0', '898.0', '943.0', '975.0', '981.0', '1042.0', '1047.0', '1164.0', '1166.0', '1170.0', '1171.0', '1172.0', '1198.0', '1313.0', '1336.0', '1393.0', '1397.0', '1402.0', '1428.0', '33.0', '193.0', '237.0', '903.0', '968.0', '981.0', '1014.0', '1055.0', '1141.0', '1165.0', '1172.0', '1221.0', '1336.0', '1367.0', '1395.0', '33.0', '131.0', '422.0', '632.0', '1403.0', '1432.0', '29.0', '39.0', '50.0', '103.0', '164.0', '194.0', '202.0', '237.0', '251.0', '681.0', '821.0', '959.0', '1016.0', '1165.0', '1305.0', '1428.0', '107.0', '125.0', '428.0', '1025.0', '1228.0', '16.0', '43.0', '109.0', '122.0', '124.0', '164.0', '194.0', '622.0', '651.0', '965.0', '1055.0', '1060.0', '1070.0', '1071.0', '1073.0', '1139.0', '1157.0', '1170.0', '1172.0', '1274.0', '1324.0', '1330.0', '1336.0', '1420.0', '1422.0', '1426.0', '1434.0', '1437.0', '1439.0', '2.0', '20.0', '43.0', '51.0', '57.0', '101.0', '108.0', '110.0', '116.0', '124.0', '130.0', '164.0', '173.0', '193.0', '194.0', '202.0', '205.0', '213.0', '263.0', '336.0', '353.0', '409.0', '462.0', '470.0', '477.0', '491.0', '522.0', '599.0', '645.0', '647.0', '651.0', '658.0', '681.0', '684.0', '730.0', '744.0', '812.0', '821.0', '833.0', '844.0', '855.0', '898.0', '939.0', '975.0', '986.0', '1018.0', '1024.0', '1025.0', '1047.0', '1048.0', '1116.0', '1165.0', '1170.0', '1171.0', '1172.0', '1175.0', '1198.0', '1274.0', '1286.0', '1299.0', '1324.0', '1330.0', '1363.0', '1367.0', '1393.0', '1422.0', '1425.0', '1432.0', '20.0', '33.0', '43.0', '68.0', '76.0', '109.0', '116.0', '124.0', '210.0', '232.0', '237.0', '241.0', '268.0', '278.0', '284.0', '315.0', '409.0', '500.0', '600.0', '721.0', '725.0', '855.0', '864.0', '887.0', '1004.0', '1016.0', '1028.0', '1050.0', '1166.0', '1170.0', '1171.0', '1184.0', '1336.0', '1393.0', '1420.0', '1424.0', '1426.0', '20.0', '39.0', '51.0', '108.0', '130.0', '173.0', '189.0', '369.0', '411.0', '477.0', '495.0', '508.0', '522.0', '542.0', '563.0', '600.0', '641.0', '651.0', '681.0', '722.0', '812.0', '821.0', '844.0', '846.0', '906.0', '936.0', '975.0', '1051.0', '1061.0', '1067.0', '1159.0', '1164.0', '1165.0', '1170.0', '1190.0', '1197.0', '1260.0', '1261.0', '1336.0', '1349.0', '1397.0', '1403.0', '1426.0', '1437.0', '8.0', '57.0', '92.0', '108.0', '111.0', '142.0', '202.0', '415.0', '795.0', '844.0', '1025.0', '1164.0', '1165.0', '1170.0', '1172.0', '1175.0', '1321.0', '1329.0', '1330.0', '1331.0', '1336.0', '1437.0', '33.0', '43.0', '109.0', '124.0', '164.0', '194.0', '221.0', '239.0', '254.0', '362.0', '494.0', '559.0', '617.0', '684.0', '853.0', '865.0', '880.0', '919.0', '933.0', '943.0', '981.0', '1166.0', '1169.0', '1170.0', '1171.0', '1172.0', '1321.0', '1336.0', '1349.0', '1396.0', '1424.0', '53.0', '184.0', '606.0', '681.0', '682.0', '1014.0', '1178.0', '1305.0', '1321.0', '1330.0', '1394.0', '33.0', '299.0', '732.0', '1164.0', '1313.0', '142.0', '202.0', '337.0', '732.0', '124.0', '323.0', '682.0', '1432.0', '89.0', '108.0', '110.0', '116.0', '164.0', '236.0', '244.0', '283.0', '369.0', '422.0', '468.0', '508.0', '647.0', '651.0', '681.0', '682.0', '727.0', '732.0', '764.0', '785.0', '812.0', '933.0', '1025.0', '1042.0', '1048.0', '1056.0', '1062.0', '1172.0', '1253.0', '1330.0', '1332.0', '1393.0', '1410.0', '1428.0', '1437.0', '33.0', '92.0', '124.0', '153.0', '260.0', '283.0', '376.0', '448.0', '464.0', '485.0', '647.0', '651.0', '658.0', '681.0', '693.0', '732.0', '919.0', '955.0', '1180.0', '1273.0', '1274.0', '1329.0', '1432.0', '108.0', '880.0', '16.0', '28.0', '32.0', '57.0', '108.0', '109.0', '132.0', '173.0', '251.0', '252.0', '253.0', '263.0', '268.0', '353.0', '460.0', '651.0', '658.0', '813.0', '864.0', '933.0', '939.0', '975.0', '1024.0', '1044.0', '8.0', '16.0', '34.0', '50.0', '53.0', '59.0', '92.0', '111.0', '153.0', '173.0', '181.0', '194.0', '234.0', '253.0', '284.0', '295.0', '313.0', '315.0', '367.0', '379.0', '381.0', '398.0', '415.0', '426.0', '468.0', '485.0', '528.0', '567.0', '583.0', '585.0', '599.0', '606.0', '670.0', '681.0', '768.0', '784.0', '812.0', '813.0', '833.0', '843.0', '861.0', '862.0', '865.0', '871.0', '887.0', '898.0', '911.0', '936.0', '939.0', '943.0', '996.0', '1044.0', '1047.0', '1164.0', '1165.0', '1166.0', '1172.0', '1188.0', '1274.0', '1305.0', '1317.0', '1330.0', '1336.0', '1337.0', '1350.0', '1391.0', '1393.0', '1395.0', '1396.0', '1420.0', '1422.0', '1432.0', '26.0', '33.0', '43.0', '164.0', '284.0', '313.0', '411.0', '422.0', '542.0', '617.0', '1016.0', '1170.0', '1171.0', '1172.0', '1330.0', '1393.0', '1395.0', '1428.0', '28.0', '43.0', '136.0', '295.0', '409.0', '474.0', '600.0', '632.0', '1016.0', '1164.0', '1170.0', '1336.0', '1393.0', '1428.0', '29.0', '33.0', '43.0', '164.0', '409.0', '460.0', '491.0', '495.0', '645.0', '720.0', '812.0', '958.0', '968.0', '977.0', '993.0', '1025.0', '1330.0', '1358.0', '1432.0', '415.0', '809.0', '1407.0', '33.0', '57.0', '116.0', '131.0', '162.0', '237.0', '353.0', '400.0', '486.0', '681.0', '759.0', '910.0', '962.0', '1048.0', '1165.0', '1166.0', '1170.0', '1171.0', '1172.0', '1317.0', '1336.0', '1350.0', '1426.0', '124.0', '173.0', '782.0', '881.0', '943.0', '1164.0', '1165.0', '1166.0', '1171.0', '1274.0', '1317.0', '1330.0', '1393.0', '759.0', '1170.0', '32.0', '34.0', '111.0', '337.0', '616.0', '721.0', '846.0', '1047.0', '1164.0', '1170.0', '1172.0', '1183.0', '1184.0', '1330.0', '1336.0', '1367.0', '1391.0', '1394.0', '1407.0', '1420.0', '1424.0', '1437.0', '162.0', '486.0', '542.0', '645.0', '692.0', '1198.0', '51.0', '53.0', '102.0', '108.0', '116.0', '122.0', '145.0', '153.0', '162.0', '202.0', '221.0', '240.0', '448.0', '465.0', '542.0', '600.0', '617.0', '641.0', '681.0', '813.0', '903.0', '1025.0', '1060.0', '1164.0', '1170.0', '1171.0', '1172.0', '1254.0', '1277.0', '1321.0', '1324.0', '1330.0', '1332.0', '1393.0', '1394.0', '1395.0', '1409.0', '1422.0', '1426.0', '1437.0', '103.0', '108.0', '110.0', '131.0', '158.0', '189.0', '202.0', '263.0', '283.0', '415.0', '564.0', '617.0', '684.0', '764.0', '821.0', '844.0', '933.0', '955.0', '965.0', '1044.0', '1055.0', '1056.0', '1057.0', '1060.0', '1164.0', '1165.0', '1166.0', '1330.0', '1332.0', '1336.0', '1367.0', '1403.0', '43.0', '111.0', '124.0', '193.0', '260.0', '464.0', '655.0', '732.0', '788.0', '1138.0', '1165.0', '1166.0', '1367.0', '1405.0', '43.0', '116.0', '130.0', '153.0', '221.0', '260.0', '336.0', '369.0', '465.0', '600.0', '641.0', '647.0', '730.0', '732.0', '788.0', '1048.0', '1165.0', '1166.0', '1336.0']\n"
     ]
    }
   ],
   "source": [
    "rec=[]\n",
    "\n",
    "for i in similar_user_articles:\n",
    "    if i not in seen_articles:\n",
    "         rec.append(i)\n",
    "\n",
    "print(rec)"
   ]
  },
  {
   "cell_type": "code",
   "execution_count": 389,
   "metadata": {},
   "outputs": [
    {
     "name": "stdout",
     "output_type": "stream",
     "text": [
      " these are seen by both user and similar user : ['12.0', '14.0', '40.0', '74.0', '98.0', '120.0', '151.0', '152.0', '215.0', '223.0', '225.0', '230.0', '310.0', '314.0', '319.0', '349.0', '382.0', '390.0', '475.0', '656.0', '665.0', '723.0', '729.0', '766.0', '825.0', '957.0', '969.0', '1017.0', '1052.0', '1053.0', '1054.0', '1059.0', '1124.0', '1152.0', '1158.0', '1160.0', '1162.0', '1163.0', '1168.0', '1174.0', '1176.0', '1181.0', '1185.0', '1186.0', '1271.0', '1276.0', '1278.0', '1282.0', '1293.0', '1296.0', '1304.0', '1314.0', '1320.0', '1328.0', '1338.0', '1343.0', '1351.0', '1354.0', '1357.0', '1360.0', '1364.0', '1366.0', '1368.0', '1386.0', '1398.0', '1400.0', '1406.0', '1423.0', '1427.0', '1429.0', '1430.0', '1431.0', '1433.0', '1435.0', '1436.0']\n"
     ]
    }
   ],
   "source": [
    "watched=[]\n",
    "#just to check articles common on user_id and close users\n",
    "for i in seen_articles:\n",
    "    if i in similar_user_articles:\n",
    "         watched.append(i)\n",
    "\n",
    "print(f\" these are seen by both user and similar user : {watched}\")"
   ]
  },
  {
   "cell_type": "code",
   "execution_count": 390,
   "metadata": {},
   "outputs": [
    {
     "name": "stdout",
     "output_type": "stream",
     "text": [
      "These are the 10 recommendations:['16.0', '33.0', '76.0', '164.0', '194.0', '213.0', '237.0', '260.0', '268.0', '278.0']\n"
     ]
    }
   ],
   "source": [
    "if len(rec)>10:#going to replace 10 with m\n",
    "    recs=rec[:10] \n",
    "print(\"These are the 10 recommendations:{}\".format(recs)) "
   ]
  },
  {
   "cell_type": "code",
   "execution_count": 391,
   "metadata": {},
   "outputs": [
    {
     "data": {
      "text/plain": [
       "['data science for real-time streaming analytics',\n",
       " 'learn tensorflow and deep learning together and now!',\n",
       " 'using brunel in ipython/jupyter notebooks',\n",
       " 'deep learning trends and an example',\n",
       " 'modeling energy usage in new york city',\n",
       " 'deep learning with data science experience',\n",
       " 'sector correlations shiny app',\n",
       " 'higher-order logistic regression for large datasets',\n",
       " 'the machine learning database',\n",
       " 'this week in data science (may 2, 2017)']"
      ]
     },
     "execution_count": 391,
     "metadata": {},
     "output_type": "execute_result"
    }
   ],
   "source": [
    "# Check Results\n",
    "get_article_names(recs) # Return 10 recommendations for user 1"
   ]
  },
  {
   "cell_type": "markdown",
   "metadata": {},
   "source": [
    "## --------------------------------------------------- Done ---------------------------------------------------------------"
   ]
  },
  {
   "cell_type": "code",
   "execution_count": 347,
   "metadata": {},
   "outputs": [],
   "source": [
    "#testing asserts one by one\n",
    "assert set(get_article_names(['1024.0', '1176.0', '1305.0', '1314.0', '1422.0', '1427.0'])) == set(['using deep learning to reconstruct high-resolution audio', 'build a python app on the streaming analytics service', 'gosales transactions for naive bayes model', 'healthcare python streaming application demo', 'use r dataframes & ibm watson natural language understanding', 'use xgboost, scikit-learn & ibm watson machine learning apis']), \"Oops! Your the get_article_names function doesn't work quite how we expect.\"\n",
    "assert set(get_article_names(['1320.0', '232.0', '844.0'])) == set(['housing (2015): united states demographic measures','self-service data preparation with ibm data refinery','use the cloudant-spark connector in python notebook']), \"Oops! Your the get_article_names function doesn't work quite how we expect.\"\n"
   ]
  },
  {
   "cell_type": "code",
   "execution_count": 348,
   "metadata": {},
   "outputs": [],
   "source": [
    "assert set(get_user_articles(2)[0]) == set(['1024.0', '1176.0', '1305.0', '1314.0', '1422.0', '1427.0'])"
   ]
  },
  {
   "cell_type": "code",
   "execution_count": 349,
   "metadata": {},
   "outputs": [
    {
     "name": "stdout",
     "output_type": "stream",
     "text": [
      "If this is all you see, you passed all of our tests!  Nice job!\n"
     ]
    }
   ],
   "source": [
    "# Test your functions here - No need to change this code - just run this cell\n",
    "assert set(get_article_names(['1024.0', '1176.0', '1305.0', '1314.0', '1422.0', '1427.0'])) == set(['using deep learning to reconstruct high-resolution audio', 'build a python app on the streaming analytics service', 'gosales transactions for naive bayes model', 'healthcare python streaming application demo', 'use r dataframes & ibm watson natural language understanding', 'use xgboost, scikit-learn & ibm watson machine learning apis']), \"Oops! Your the get_article_names function doesn't work quite how we expect.\"\n",
    "assert set(get_article_names(['1320.0', '232.0', '844.0'])) == set(['housing (2015): united states demographic measures','self-service data preparation with ibm data refinery','use the cloudant-spark connector in python notebook']), \"Oops! Your the get_article_names function doesn't work quite how we expect.\"\n",
    "assert set(get_user_articles(20)[0]) == set(['1320.0', '232.0', '844.0'])\n",
    "assert set(get_user_articles(20)[1]) == set(['housing (2015): united states demographic measures', 'self-service data preparation with ibm data refinery','use the cloudant-spark connector in python notebook'])\n",
    "assert set(get_user_articles(2)[0]) == set(['1024.0', '1176.0', '1305.0', '1314.0', '1422.0', '1427.0'])\n",
    "assert set(get_user_articles(2)[1]) == set(['using deep learning to reconstruct high-resolution audio', 'build a python app on the streaming analytics service', 'gosales transactions for naive bayes model', 'healthcare python streaming application demo', 'use r dataframes & ibm watson natural language understanding', 'use xgboost, scikit-learn & ibm watson machine learning apis'])\n",
    "print(\"If this is all you see, you passed all of our tests!  Nice job!\")"
   ]
  },
  {
   "cell_type": "markdown",
   "metadata": {},
   "source": [
    "`4.` Now we are going to improve the consistency of the **user_user_recs** function from above.  \n",
    "\n",
    "* Instead of arbitrarily choosing when we obtain users who are all the same closeness to a given user - choose the users that have the most total article interactions before choosing those with fewer article interactions.\n",
    "\n",
    "\n",
    "* Instead of arbitrarily choosing articles from the user where the number of recommended articles starts below m and ends exceeding m, choose articles with the articles with the most total interactions before choosing those with fewer total interactions. This ranking should be  what would be obtained from the **top_articles** function you wrote earlier."
   ]
  },
  {
   "cell_type": "code",
   "execution_count": 350,
   "metadata": {},
   "outputs": [
    {
     "data": {
      "text/html": [
       "<div>\n",
       "<style scoped>\n",
       "    .dataframe tbody tr th:only-of-type {\n",
       "        vertical-align: middle;\n",
       "    }\n",
       "\n",
       "    .dataframe tbody tr th {\n",
       "        vertical-align: top;\n",
       "    }\n",
       "\n",
       "    .dataframe thead th {\n",
       "        text-align: right;\n",
       "    }\n",
       "</style>\n",
       "<table border=\"1\" class=\"dataframe\">\n",
       "  <thead>\n",
       "    <tr style=\"text-align: right;\">\n",
       "      <th>article_id</th>\n",
       "      <th>0</th>\n",
       "      <th>2</th>\n",
       "      <th>4</th>\n",
       "      <th>8</th>\n",
       "      <th>9</th>\n",
       "      <th>12</th>\n",
       "      <th>14</th>\n",
       "      <th>15</th>\n",
       "      <th>16</th>\n",
       "      <th>18</th>\n",
       "      <th>...</th>\n",
       "      <th>1434</th>\n",
       "      <th>1435</th>\n",
       "      <th>1436</th>\n",
       "      <th>1437</th>\n",
       "      <th>1439</th>\n",
       "      <th>1440</th>\n",
       "      <th>1441</th>\n",
       "      <th>1442</th>\n",
       "      <th>1443</th>\n",
       "      <th>1444</th>\n",
       "    </tr>\n",
       "    <tr>\n",
       "      <th>user_id</th>\n",
       "      <th></th>\n",
       "      <th></th>\n",
       "      <th></th>\n",
       "      <th></th>\n",
       "      <th></th>\n",
       "      <th></th>\n",
       "      <th></th>\n",
       "      <th></th>\n",
       "      <th></th>\n",
       "      <th></th>\n",
       "      <th></th>\n",
       "      <th></th>\n",
       "      <th></th>\n",
       "      <th></th>\n",
       "      <th></th>\n",
       "      <th></th>\n",
       "      <th></th>\n",
       "      <th></th>\n",
       "      <th></th>\n",
       "      <th></th>\n",
       "      <th></th>\n",
       "    </tr>\n",
       "  </thead>\n",
       "  <tbody>\n",
       "    <tr>\n",
       "      <th>1</th>\n",
       "      <td>0</td>\n",
       "      <td>0</td>\n",
       "      <td>0</td>\n",
       "      <td>0</td>\n",
       "      <td>0</td>\n",
       "      <td>0</td>\n",
       "      <td>0</td>\n",
       "      <td>0</td>\n",
       "      <td>0</td>\n",
       "      <td>0</td>\n",
       "      <td>...</td>\n",
       "      <td>0</td>\n",
       "      <td>0</td>\n",
       "      <td>1</td>\n",
       "      <td>0</td>\n",
       "      <td>1</td>\n",
       "      <td>0</td>\n",
       "      <td>0</td>\n",
       "      <td>0</td>\n",
       "      <td>0</td>\n",
       "      <td>0</td>\n",
       "    </tr>\n",
       "    <tr>\n",
       "      <th>2</th>\n",
       "      <td>0</td>\n",
       "      <td>0</td>\n",
       "      <td>0</td>\n",
       "      <td>0</td>\n",
       "      <td>0</td>\n",
       "      <td>0</td>\n",
       "      <td>0</td>\n",
       "      <td>0</td>\n",
       "      <td>0</td>\n",
       "      <td>0</td>\n",
       "      <td>...</td>\n",
       "      <td>0</td>\n",
       "      <td>0</td>\n",
       "      <td>0</td>\n",
       "      <td>0</td>\n",
       "      <td>0</td>\n",
       "      <td>0</td>\n",
       "      <td>0</td>\n",
       "      <td>0</td>\n",
       "      <td>0</td>\n",
       "      <td>0</td>\n",
       "    </tr>\n",
       "    <tr>\n",
       "      <th>3</th>\n",
       "      <td>0</td>\n",
       "      <td>0</td>\n",
       "      <td>0</td>\n",
       "      <td>0</td>\n",
       "      <td>0</td>\n",
       "      <td>1</td>\n",
       "      <td>0</td>\n",
       "      <td>0</td>\n",
       "      <td>0</td>\n",
       "      <td>0</td>\n",
       "      <td>...</td>\n",
       "      <td>0</td>\n",
       "      <td>0</td>\n",
       "      <td>1</td>\n",
       "      <td>0</td>\n",
       "      <td>0</td>\n",
       "      <td>0</td>\n",
       "      <td>0</td>\n",
       "      <td>0</td>\n",
       "      <td>0</td>\n",
       "      <td>0</td>\n",
       "    </tr>\n",
       "  </tbody>\n",
       "</table>\n",
       "<p>3 rows × 714 columns</p>\n",
       "</div>"
      ],
      "text/plain": [
       "article_id  0     2     4     8     9     12    14    15    16    18    ...  \\\n",
       "user_id                                                                 ...   \n",
       "1              0     0     0     0     0     0     0     0     0     0  ...   \n",
       "2              0     0     0     0     0     0     0     0     0     0  ...   \n",
       "3              0     0     0     0     0     1     0     0     0     0  ...   \n",
       "\n",
       "article_id  1434  1435  1436  1437  1439  1440  1441  1442  1443  1444  \n",
       "user_id                                                                 \n",
       "1              0     0     1     0     1     0     0     0     0     0  \n",
       "2              0     0     0     0     0     0     0     0     0     0  \n",
       "3              0     0     1     0     0     0     0     0     0     0  \n",
       "\n",
       "[3 rows x 714 columns]"
      ]
     },
     "execution_count": 350,
     "metadata": {},
     "output_type": "execute_result"
    }
   ],
   "source": [
    "#investigating user-item\n",
    "user_item.head(3)"
   ]
  },
  {
   "cell_type": "code",
   "execution_count": 351,
   "metadata": {},
   "outputs": [],
   "source": [
    "#need this for the function\n",
    "dot_prod_users = user_item.dot(np.transpose(user_item))"
   ]
  },
  {
   "cell_type": "code",
   "execution_count": 352,
   "metadata": {},
   "outputs": [
    {
     "data": {
      "text/html": [
       "<div>\n",
       "<style scoped>\n",
       "    .dataframe tbody tr th:only-of-type {\n",
       "        vertical-align: middle;\n",
       "    }\n",
       "\n",
       "    .dataframe tbody tr th {\n",
       "        vertical-align: top;\n",
       "    }\n",
       "\n",
       "    .dataframe thead th {\n",
       "        text-align: right;\n",
       "    }\n",
       "</style>\n",
       "<table border=\"1\" class=\"dataframe\">\n",
       "  <thead>\n",
       "    <tr style=\"text-align: right;\">\n",
       "      <th></th>\n",
       "      <th>user_id</th>\n",
       "      <th>1</th>\n",
       "      <th>2</th>\n",
       "      <th>3</th>\n",
       "      <th>4</th>\n",
       "      <th>5</th>\n",
       "      <th>6</th>\n",
       "      <th>7</th>\n",
       "      <th>8</th>\n",
       "      <th>9</th>\n",
       "      <th>...</th>\n",
       "      <th>5140</th>\n",
       "      <th>5141</th>\n",
       "      <th>5142</th>\n",
       "      <th>5143</th>\n",
       "      <th>5144</th>\n",
       "      <th>5145</th>\n",
       "      <th>5146</th>\n",
       "      <th>5147</th>\n",
       "      <th>5148</th>\n",
       "      <th>5149</th>\n",
       "    </tr>\n",
       "  </thead>\n",
       "  <tbody>\n",
       "    <tr>\n",
       "      <th>0</th>\n",
       "      <td>1</td>\n",
       "      <td>36</td>\n",
       "      <td>2</td>\n",
       "      <td>6</td>\n",
       "      <td>3</td>\n",
       "      <td>0</td>\n",
       "      <td>4</td>\n",
       "      <td>1</td>\n",
       "      <td>6</td>\n",
       "      <td>4</td>\n",
       "      <td>...</td>\n",
       "      <td>7</td>\n",
       "      <td>0</td>\n",
       "      <td>0</td>\n",
       "      <td>4</td>\n",
       "      <td>0</td>\n",
       "      <td>1</td>\n",
       "      <td>0</td>\n",
       "      <td>0</td>\n",
       "      <td>0</td>\n",
       "      <td>0</td>\n",
       "    </tr>\n",
       "    <tr>\n",
       "      <th>1</th>\n",
       "      <td>2</td>\n",
       "      <td>2</td>\n",
       "      <td>6</td>\n",
       "      <td>1</td>\n",
       "      <td>3</td>\n",
       "      <td>0</td>\n",
       "      <td>2</td>\n",
       "      <td>0</td>\n",
       "      <td>1</td>\n",
       "      <td>2</td>\n",
       "      <td>...</td>\n",
       "      <td>2</td>\n",
       "      <td>0</td>\n",
       "      <td>0</td>\n",
       "      <td>0</td>\n",
       "      <td>0</td>\n",
       "      <td>1</td>\n",
       "      <td>0</td>\n",
       "      <td>0</td>\n",
       "      <td>0</td>\n",
       "      <td>0</td>\n",
       "    </tr>\n",
       "    <tr>\n",
       "      <th>2</th>\n",
       "      <td>3</td>\n",
       "      <td>6</td>\n",
       "      <td>1</td>\n",
       "      <td>40</td>\n",
       "      <td>5</td>\n",
       "      <td>1</td>\n",
       "      <td>7</td>\n",
       "      <td>1</td>\n",
       "      <td>5</td>\n",
       "      <td>2</td>\n",
       "      <td>...</td>\n",
       "      <td>7</td>\n",
       "      <td>0</td>\n",
       "      <td>0</td>\n",
       "      <td>5</td>\n",
       "      <td>0</td>\n",
       "      <td>2</td>\n",
       "      <td>0</td>\n",
       "      <td>0</td>\n",
       "      <td>0</td>\n",
       "      <td>0</td>\n",
       "    </tr>\n",
       "    <tr>\n",
       "      <th>3</th>\n",
       "      <td>4</td>\n",
       "      <td>3</td>\n",
       "      <td>3</td>\n",
       "      <td>5</td>\n",
       "      <td>26</td>\n",
       "      <td>3</td>\n",
       "      <td>8</td>\n",
       "      <td>0</td>\n",
       "      <td>8</td>\n",
       "      <td>1</td>\n",
       "      <td>...</td>\n",
       "      <td>6</td>\n",
       "      <td>0</td>\n",
       "      <td>0</td>\n",
       "      <td>2</td>\n",
       "      <td>0</td>\n",
       "      <td>2</td>\n",
       "      <td>1</td>\n",
       "      <td>0</td>\n",
       "      <td>1</td>\n",
       "      <td>0</td>\n",
       "    </tr>\n",
       "    <tr>\n",
       "      <th>4</th>\n",
       "      <td>5</td>\n",
       "      <td>0</td>\n",
       "      <td>0</td>\n",
       "      <td>1</td>\n",
       "      <td>3</td>\n",
       "      <td>3</td>\n",
       "      <td>1</td>\n",
       "      <td>0</td>\n",
       "      <td>3</td>\n",
       "      <td>0</td>\n",
       "      <td>...</td>\n",
       "      <td>0</td>\n",
       "      <td>0</td>\n",
       "      <td>0</td>\n",
       "      <td>0</td>\n",
       "      <td>0</td>\n",
       "      <td>0</td>\n",
       "      <td>0</td>\n",
       "      <td>0</td>\n",
       "      <td>0</td>\n",
       "      <td>0</td>\n",
       "    </tr>\n",
       "  </tbody>\n",
       "</table>\n",
       "<p>5 rows × 5150 columns</p>\n",
       "</div>"
      ],
      "text/plain": [
       "   user_id   1  2   3   4  5  6  7  8  9  ...  5140  5141  5142  5143  5144  \\\n",
       "0        1  36  2   6   3  0  4  1  6  4  ...     7     0     0     4     0   \n",
       "1        2   2  6   1   3  0  2  0  1  2  ...     2     0     0     0     0   \n",
       "2        3   6  1  40   5  1  7  1  5  2  ...     7     0     0     5     0   \n",
       "3        4   3  3   5  26  3  8  0  8  1  ...     6     0     0     2     0   \n",
       "4        5   0  0   1   3  3  1  0  3  0  ...     0     0     0     0     0   \n",
       "\n",
       "   5145  5146  5147  5148  5149  \n",
       "0     1     0     0     0     0  \n",
       "1     1     0     0     0     0  \n",
       "2     2     0     0     0     0  \n",
       "3     2     1     0     1     0  \n",
       "4     0     0     0     0     0  \n",
       "\n",
       "[5 rows x 5150 columns]"
      ]
     },
     "execution_count": 352,
     "metadata": {},
     "output_type": "execute_result"
    }
   ],
   "source": [
    "#use this one to test \n",
    "dot_prod_users=dot_prod_users.reset_index().rename_axis(None, axis=1)\n",
    "dot_prod_users.head()"
   ]
  },
  {
   "cell_type": "code",
   "execution_count": 57,
   "metadata": {},
   "outputs": [],
   "source": [
    "def get_top_sorted_users(user_id, df=df, user_item=user_item):\n",
    "    '''\n",
    "    INPUT:\n",
    "    user_id - (int)\n",
    "    df - (pandas dataframe) df as defined at the top of the notebook \n",
    "    user_item - (pandas dataframe) matrix of users by articles: \n",
    "            1's when a user has interacted with an article, 0 otherwise\n",
    "    \n",
    "            \n",
    "    OUTPUT:\n",
    "    neighbors_df - (pandas dataframe) a dataframe with:\n",
    "                    neighbor_id - is a neighbor user_id\n",
    "                    similarity - measure of the similarity of each user to the provided user_id\n",
    "                    num_interactions - the number of articles viewed by the user - if a u\n",
    "                    \n",
    "    Other Details - sort the neighbors_df by the similarity and then by number of interactions where \n",
    "                    highest of each is higher in the dataframe\n",
    "     \n",
    "    '''\n",
    "    # Your code here\n",
    "    neighbors_df = pd.DataFrame(columns=['neighbor_id', 'similarity'])\n",
    "    #create neighbour id column from user_item \n",
    "    neighbors_df['neighbor_id']=user_item.index-1\n",
    "    dot_prod_users = user_item.dot(np.transpose(user_item))\n",
    "    neighbors_df['similarity'] = dot_prod_users[user_id]\n",
    "    df_interact = df['user_id'].value_counts().rename_axis('neighbor_id').reset_index(name='num_interactions')\n",
    "    #merge the dataframes\n",
    "    neighbors_df = pd.merge(neighbors_df, interacts_df, on='neighbor_id', how='outer')\n",
    "    neighbors_df = neighbors_df.sort_values(by=['similarity', 'num_interactions'], ascending = [False,False])\n",
    "    neighbors_df = neighbors_df.reset_index(drop=True)\n",
    "    neighbors_df = neighbors_df[neighbors_df.neighbor_id != user_id]\n",
    "\n",
    "    \n",
    "\n",
    "    return neighbors_df # Return the dataframe specified in the doc_string\n",
    "\n",
    "\n",
    "def user_user_recs_part2(user_id, m=10):\n",
    "    '''\n",
    "    INPUT:\n",
    "    user_id - (int) a user id\n",
    "    m - (int) the number of recommendations you want for the user\n",
    "    \n",
    "    OUTPUT:\n",
    "    recs - (list) a list of recommendations for the user by article id\n",
    "    rec_names - (list) a list of recommendations for the user by article title\n",
    "    \n",
    "    Description:\n",
    "    Loops through the users based on closeness to the input user_id\n",
    "    For each user - finds articles the user hasn't seen before and provides them as recs\n",
    "    Does this until m recommendations are found\n",
    "    \n",
    "    Notes:\n",
    "    * Choose the users that have the most total article interactions \n",
    "    before choosing those with fewer article interactions.\n",
    "\n",
    "    * Choose articles with the articles with the most total interactions \n",
    "    before choosing those with fewer total interactions. \n",
    "   \n",
    "    '''\n",
    "    # Your code here\n",
    "    #seen articles\n",
    "    seen_articles=get_user_articles(user_id)[0]\n",
    "    #top neighbours dataframe for user_id\n",
    "    top_neighbors_df=get_top_sorted_users(user_id)\n",
    "    #a list of sorted neighbours\n",
    "    similar_users=top_neighbors_df.iloc[:,0].tolist()\n",
    "    \n",
    "    similar_user_articles_lists=[get_user_articles(user)[0] for user in similar_user]\n",
    "    #prints([0,4,6],[9,7,4])\n",
    "    \n",
    "    #stores lists of lists in one list keeping that order\n",
    "    similar_user_articles=sum(similar_user_articles_lists,[])\n",
    "    #prints [0,4,6,9,7,4]\n",
    "\n",
    "    rec=[]\n",
    "\n",
    "    for article in similar_user_articles:\n",
    "        if article not in seen_articles:\n",
    "             rec.append(article)\n",
    "\n",
    "    if len(rec)>m:#going to replace 10 with m\n",
    "        recs=rec[:m] \n",
    "    rec_names=get_article_names(recs)\n",
    "\n",
    "    \n",
    "        \n",
    "    \n",
    "    return recs, rec_names"
   ]
  },
  {
   "cell_type": "markdown",
   "metadata": {},
   "source": [
    "## Test B-2"
   ]
  },
  {
   "cell_type": "code",
   "execution_count": 59,
   "metadata": {},
   "outputs": [
    {
     "ename": "NameError",
     "evalue": "name 'interacts_df' is not defined",
     "output_type": "error",
     "traceback": [
      "\u001b[1;31m---------------------------------------------------------------------------\u001b[0m",
      "\u001b[1;31mNameError\u001b[0m                                 Traceback (most recent call last)",
      "Cell \u001b[1;32mIn[59], line 1\u001b[0m\n\u001b[1;32m----> 1\u001b[0m top_neighbors_df\u001b[38;5;241m=\u001b[39m\u001b[43mget_top_sorted_users\u001b[49m\u001b[43m(\u001b[49m\u001b[38;5;241;43m1\u001b[39;49m\u001b[43m)\u001b[49m\n",
      "Cell \u001b[1;32mIn[57], line 28\u001b[0m, in \u001b[0;36mget_top_sorted_users\u001b[1;34m(user_id, df, user_item)\u001b[0m\n\u001b[0;32m     26\u001b[0m df_interact \u001b[38;5;241m=\u001b[39m df[\u001b[38;5;124m'\u001b[39m\u001b[38;5;124muser_id\u001b[39m\u001b[38;5;124m'\u001b[39m]\u001b[38;5;241m.\u001b[39mvalue_counts()\u001b[38;5;241m.\u001b[39mrename_axis(\u001b[38;5;124m'\u001b[39m\u001b[38;5;124mneighbor_id\u001b[39m\u001b[38;5;124m'\u001b[39m)\u001b[38;5;241m.\u001b[39mreset_index(name\u001b[38;5;241m=\u001b[39m\u001b[38;5;124m'\u001b[39m\u001b[38;5;124mnum_interactions\u001b[39m\u001b[38;5;124m'\u001b[39m)\n\u001b[0;32m     27\u001b[0m \u001b[38;5;66;03m#merge the dataframes\u001b[39;00m\n\u001b[1;32m---> 28\u001b[0m neighbors_df \u001b[38;5;241m=\u001b[39m pd\u001b[38;5;241m.\u001b[39mmerge(neighbors_df, \u001b[43minteracts_df\u001b[49m, on\u001b[38;5;241m=\u001b[39m\u001b[38;5;124m'\u001b[39m\u001b[38;5;124mneighbor_id\u001b[39m\u001b[38;5;124m'\u001b[39m, how\u001b[38;5;241m=\u001b[39m\u001b[38;5;124m'\u001b[39m\u001b[38;5;124mouter\u001b[39m\u001b[38;5;124m'\u001b[39m)\n\u001b[0;32m     29\u001b[0m neighbors_df \u001b[38;5;241m=\u001b[39m neighbors_df\u001b[38;5;241m.\u001b[39msort_values(by\u001b[38;5;241m=\u001b[39m[\u001b[38;5;124m'\u001b[39m\u001b[38;5;124msimilarity\u001b[39m\u001b[38;5;124m'\u001b[39m, \u001b[38;5;124m'\u001b[39m\u001b[38;5;124mnum_interactions\u001b[39m\u001b[38;5;124m'\u001b[39m], ascending \u001b[38;5;241m=\u001b[39m [\u001b[38;5;28;01mFalse\u001b[39;00m,\u001b[38;5;28;01mFalse\u001b[39;00m])\n\u001b[0;32m     30\u001b[0m neighbors_df \u001b[38;5;241m=\u001b[39m neighbors_df\u001b[38;5;241m.\u001b[39mreset_index(drop\u001b[38;5;241m=\u001b[39m\u001b[38;5;28;01mTrue\u001b[39;00m)\n",
      "\u001b[1;31mNameError\u001b[0m: name 'interacts_df' is not defined"
     ]
    }
   ],
   "source": [
    "top_neighbors_df=get_top_sorted_users(1)"
   ]
  },
  {
   "cell_type": "code",
   "execution_count": 58,
   "metadata": {},
   "outputs": [
    {
     "ename": "NameError",
     "evalue": "name 'top_neighbors_df' is not defined",
     "output_type": "error",
     "traceback": [
      "\u001b[1;31m---------------------------------------------------------------------------\u001b[0m",
      "\u001b[1;31mNameError\u001b[0m                                 Traceback (most recent call last)",
      "Cell \u001b[1;32mIn[58], line 1\u001b[0m\n\u001b[1;32m----> 1\u001b[0m \u001b[43mtop_neighbors_df\u001b[49m\u001b[38;5;241m.\u001b[39miloc[:,\u001b[38;5;241m0\u001b[39m]\u001b[38;5;241m.\u001b[39mtolist()\n",
      "\u001b[1;31mNameError\u001b[0m: name 'top_neighbors_df' is not defined"
     ]
    }
   ],
   "source": [
    "top_neighbors_df.iloc[:,0].tolist()"
   ]
  },
  {
   "cell_type": "code",
   "execution_count": null,
   "metadata": {},
   "outputs": [],
   "source": [
    "    # Your code here\n",
    "    seen_articles=get_user_articles(user_id)[0]\n",
    "    similar_user=find_similar_users(user_id)# a list of similar users\n",
    "\n",
    "    similar_user_articles_lists=[get_user_articles(user)[0] for user in similar_user]\n",
    "    #prints([0,4,6],[9,7,4])\n",
    "\n",
    "    similar_user_articles=sum(similar_user_articles_lists,[])\n",
    "    #prints([0,4,6,9,7,4])\n",
    "    \n",
    "    rec=[]\n",
    "\n",
    "    for i in similar_user_articles:\n",
    "        if i not in seen_articles:\n",
    "             rec.append(i)"
   ]
  },
  {
   "cell_type": "code",
   "execution_count": 410,
   "metadata": {},
   "outputs": [
    {
     "name": "stdout",
     "output_type": "stream",
     "text": [
      "['12.0', '14.0', '40.0', '74.0', '98.0', '120.0', '151.0', '152.0', '215.0', '223.0', '225.0', '230.0', '310.0', '314.0', '319.0', '349.0', '382.0', '390.0', '475.0', '656.0', '665.0', '723.0', '729.0', '766.0', '825.0', '957.0', '969.0', '1017.0', '1052.0', '1053.0', '1054.0', '1059.0', '1124.0', '1152.0', '1158.0', '1160.0', '1162.0', '1163.0', '1168.0', '1174.0', '1176.0', '1181.0', '1185.0', '1186.0', '1271.0', '1276.0', '1278.0', '1282.0', '1293.0', '1296.0', '1304.0', '1314.0', '1320.0', '1328.0', '1338.0', '1343.0', '1351.0', '1354.0', '1357.0', '1360.0', '1364.0', '1366.0', '1368.0', '1386.0', '1398.0', '1400.0', '1406.0', '1423.0', '1427.0', '1429.0', '1430.0', '1431.0', '1433.0', '1435.0', '1436.0']\n"
     ]
    }
   ],
   "source": [
    "#seen articles\n",
    "seen_articles=get_user_articles(131)[0]\n",
    "print(seen_articles)"
   ]
  },
  {
   "cell_type": "code",
   "execution_count": 411,
   "metadata": {},
   "outputs": [],
   "source": [
    "#top neighbours dataframe for user_id\n",
    "top_neighbors_df=get_top_sorted_users(131)\n"
   ]
  },
  {
   "cell_type": "code",
   "execution_count": 412,
   "metadata": {
    "scrolled": true
   },
   "outputs": [
    {
     "name": "stdout",
     "output_type": "stream",
     "text": [
      "[3870, 3782, 23, 203, 4459, 98, 3764, 49, 3697, 242, 3910, 40, 4932, 58, 3740, 52, 3596, 290, 21, 4785, 912, 3540, 2982, 754, 170, 3169, 135, 3621, 4642, 184, 4892, 204, 5138, 256, 383, 322, 273, 619, 2926, 8, 2975, 696, 765, 3637, 211, 621, 3485, 3775, 3801, 295, 3006, 3622, 4134, 4293, 195, 3578, 38, 113, 4883, 4755, 214, 3141, 186, 3532, 45, 3500, 395, 5041, 3684, 187, 64, 3136, 168, 4517, 72, 60, 5140, 371, 3784, 46, 4201, 4934, 1059, 4595, 420, 3486, 4209, 1, 268, 288, 4706, 3, 3353, 125, 4774, 4900, 693, 4308, 409, 3829, 3933, 3651, 4778, 262, 55, 3417, 651, 3072, 591, 4277, 665, 67, 88, 3856, 169, 199, 4618, 1355, 445, 2205, 3147, 3632, 4076, 521, 4241, 6, 249, 3483, 4484, 750, 3967, 785, 173, 379, 829, 3570, 3007, 3693, 4901, 1035, 334, 4991, 4038, 535, 860, 4021, 3877, 1062, 3264, 11, 111, 3966, 347, 4511, 4904, 330, 669, 3208, 726, 5057, 418, 2903, 3238, 656, 319, 3898, 4145, 197, 1897, 3061, 2161, 5079, 324, 56, 404, 3408, 4471, 4427, 3960, 689, 1026, 3879, 3057, 215, 2790, 1240, 4933, 471, 697, 85, 132, 510, 261, 4268, 4272, 4685, 4788, 2989, 3197, 313, 688, 235, 4494, 4404, 304, 4725, 4, 28, 346, 4824, 176, 3414, 145, 312, 3986, 536, 3614, 4526, 69, 640, 760, 3211, 3783, 2007, 511, 3100, 3212, 641, 649, 3118, 3376, 4876, 82, 5077, 557, 1162, 4082, 2908, 3710, 4495, 209, 402, 3830, 163, 734, 362, 2981, 807, 5059, 3794, 129, 488, 700, 3024, 4497, 670, 2290, 3741, 126, 1068, 538, 644, 2913, 3172, 5118, 646, 820, 3058, 17, 3674, 4167, 4619, 121, 155, 3691, 4837, 65, 4792, 230, 791, 845, 4088, 1244, 1266, 3535, 37, 375, 3313, 4732, 5129, 492, 3654, 4037, 4842, 542, 763, 907, 4142, 4623, 1137, 5143, 607, 3518, 1384, 1110, 1262, 3310, 4010, 596, 4186, 196, 889, 3601, 1566, 87, 3818, 1040, 251, 926, 3949, 4515, 3005, 4206, 4660, 639, 4449, 490, 27, 90, 794, 4522, 4668, 220, 3553, 3611, 4231, 63, 3439, 134, 2194, 280, 438, 3477, 896, 2144, 3636, 648, 3292, 3812, 4274, 57, 323, 558, 1025, 4255, 456, 575, 1063, 2955, 4073, 4311, 10, 122, 1051, 4872, 120, 194, 1409, 3082, 4877, 568, 900, 1038, 4071, 4237, 4571, 107, 1577, 4647, 500, 939, 3338, 4099, 4855, 352, 4437, 118, 484, 955, 4230, 335, 3564, 5123, 3528, 4969, 1405, 1499, 4921, 223, 3358, 715, 3957, 355, 512, 2718, 647, 22, 3119, 3802, 4802, 4130, 213, 296, 722, 5023, 287, 3421, 9, 1401, 3633, 3336, 3938, 4204, 160, 4161, 4502, 181, 5053, 26, 207, 263, 661, 1058, 3430, 4768, 110, 3079, 3195, 3647, 4392, 4453, 54, 638, 3732, 4107, 2994, 4250, 266, 310, 1114, 3474, 239, 1668, 2487, 2901, 3354, 5048, 713, 923, 2646, 2912, 4197, 658, 681, 957, 1223, 1301, 3325, 3671, 4915, 5115, 354, 4553, 755, 2924, 3225, 4992, 5001, 227, 3878, 86, 153, 1446, 4331, 4386, 381, 1705, 4833, 5058, 51, 778, 3327, 180, 4914, 858, 3996, 321, 668, 5078, 5080, 745, 1281, 4323, 4393, 4943, 712, 103, 240, 927, 4367, 1018, 1272, 3970, 4137, 4254, 3245, 3968, 783, 970, 3705, 4487, 305, 3884, 5086, 94, 854, 149, 205, 3763, 4882, 1076, 1139, 3572, 3835, 2953, 4025, 244, 924, 1172, 365, 413, 1198, 1261, 1633, 4543, 5013, 13, 260, 662, 673, 938, 1481, 2430, 4248, 4557, 133, 2202, 2324, 3093, 3305, 3378, 4245, 5012, 434, 797, 833, 987, 1191, 2993, 3392, 3634, 3713, 5069, 598, 698, 751, 1082, 2688, 3724, 3807, 4100, 810, 2492, 2907, 3284, 3366, 3451, 3745, 4336, 4909, 419, 659, 746, 1511, 3043, 4552, 5070, 1350, 3476, 4298, 41, 464, 891, 2288, 2423, 3067, 4061, 4409, 285, 2242, 2270, 3618, 4429, 5139, 95, 411, 1264, 1671, 2983, 3329, 3703, 5105, 890, 971, 1984, 2186, 4013, 406, 1317, 2728, 2962, 3235, 3363, 4510, 43, 277, 2941, 4233, 33, 248, 631, 1208, 1309, 1634, 2159, 1219, 1443, 1698, 3883, 4482, 748, 1176, 66, 518, 2974, 3559, 723, 4450, 24, 988, 1048, 2197, 4200, 1197, 5127, 509, 2949, 4170, 4697, 2415, 4560, 140, 241, 4275, 208, 4588, 299, 470, 687, 1014, 2312, 3436, 3442, 3919, 707, 1251, 2978, 4015, 851, 3108, 3124, 4148, 5124, 271, 798, 825, 895, 1353, 2579, 4491, 761, 773, 1127, 1548, 3301, 3425, 3943, 3951, 4097, 5055, 652, 943, 1084, 1386, 3412, 3991, 4001, 4707, 706, 871, 887, 2251, 3196, 3969, 4527, 294, 359, 363, 516, 1764, 3176, 3466, 164, 360, 674, 738, 828, 844, 1325, 3377, 3404, 3876, 4213, 4720, 5103, 193, 292, 545, 843, 948, 1228, 1354, 1487, 2440, 3645, 4319, 4600, 4799, 5052, 71, 498, 762, 1033, 2935, 3042, 3244, 3589, 92, 100, 200, 246, 351, 472, 977, 1021, 3117, 3346, 3428, 3615, 3616, 4002, 4079, 5066, 225, 410, 1899, 2187, 2471, 3778, 4282, 4330, 4378, 4795, 450, 570, 585, 730, 1041, 1065, 1733, 3848, 3885, 4110, 4158, 4736, 5026, 102, 583, 609, 771, 1334, 1352, 1426, 1833, 2291, 2373, 2513, 3052, 3213, 3355, 4039, 4596, 237, 502, 753, 1486, 2206, 3101, 3159, 3927, 4516, 4801, 4857, 5095, 5134, 76, 156, 171, 212, 357, 2164, 2248, 2304, 2365, 3233, 3362, 3402, 3461, 3912, 4843, 5110, 75, 159, 166, 756, 942, 1046, 1459, 1507, 1915, 3191, 3320, 3888, 4628, 5011, 5062, 253, 482, 1331, 1476, 2586, 2842, 3094, 3190, 3314, 3488, 4270, 4289, 4445, 4548, 4834, 136, 475, 3217, 3738, 3803, 4986, 486, 824, 1775, 3045, 5034, 479, 3695, 555, 822, 3720, 4173, 1163, 3441, 152, 252, 4390, 582, 4285, 774, 2956, 3291, 733, 3566, 600, 4873, 114, 3765, 4225, 35, 842, 950, 3918, 790, 3237, 4098, 4861, 4910, 421, 612, 1105, 4356, 4385, 4942, 297, 315, 847, 969, 1330, 3520, 4086, 4215, 4401, 4432, 343, 727, 808, 2386, 3998, 4022, 4747, 5028, 198, 373, 534, 635, 637, 699, 741, 809, 992, 1071, 1303, 1395, 1567, 3269, 3434, 3641, 4300, 4648, 12, 32, 454, 513, 560, 563, 601, 666, 972, 1128, 2245, 2279, 2284, 3086, 4420, 4472, 4632, 31, 48, 391, 432, 453, 508, 533, 686, 1523, 2845, 2931, 2948, 3163, 3166, 3255, 3864, 3936, 4044, 4149, 4496, 4670, 4949, 370, 624, 642, 981, 1150, 1255, 1271, 1399, 1423, 1718, 1807, 2235, 2308, 2320, 2376, 2444, 2637, 3243, 3400, 3413, 3482, 3506, 3524, 3542, 4199, 4258, 4417, 4577, 4696, 4940, 144, 245, 442, 501, 683, 784, 953, 1069, 1543, 1685, 2154, 2354, 3046, 3627, 3640, 3857, 4057, 4122, 4584, 4907, 4925, 5043, 74, 233, 584, 975, 978, 1061, 1130, 1302, 1527, 2073, 2196, 2318, 2322, 2506, 3330, 3603, 4034, 4068, 4363, 4503, 4652, 4847, 5108, 185, 219, 443, 532, 650, 684, 685, 702, 709, 710, 719, 910, 998, 1022, 1031, 1054, 1338, 1449, 1485, 1493, 1673, 1712, 2199, 2416, 2450, 2593, 2898, 3107, 3638, 3805, 3975, 4143, 4326, 4786, 4815, 4908, 34, 36, 59, 104, 182, 229, 444, 587, 836, 884, 1108, 1225, 1408, 1509, 2176, 2274, 2342, 2387, 2558, 2751, 2932, 2992, 3337, 3610, 3824, 4506, 4591, 4663, 4848, 4898, 5075, 2, 148, 298, 303, 361, 551, 679, 711, 944, 967, 976, 999, 1087, 1149, 1245, 1347, 1392, 1406, 1542, 1583, 1636, 2391, 2407, 2435, 2813, 3009, 3155, 3324, 3328, 3350, 3368, 3383, 3548, 3562, 3584, 3629, 3676, 4132, 4295, 4321, 4512, 4518, 4655, 4718, 4727, 4749, 4772, 5021, 238, 417, 473, 547, 671, 737, 1045, 1177, 1387, 1410, 1684, 1975, 2022, 2029, 2211, 2355, 2377, 2418, 2815, 2826, 3060, 3395, 3678, 3714, 3781, 3956, 4349, 4414, 4716, 4784, 4995, 964, 1043, 1210, 1411, 1413, 1586, 1754, 1879, 2258, 2337, 2449, 2846, 3034, 3472, 3625, 3785, 3908, 4094, 4347, 117, 165, 1540, 1547, 2142, 3031, 4485, 4999, 1247, 115, 2488, 3247, 694, 14, 4364, 4820, 403, 5017, 2228, 61, 3727, 4867, 814, 3600, 3420, 721, 3323, 217, 267, 188, 823, 862, 2720, 3897, 15, 483, 561, 1310, 4416, 946, 2335, 3129, 3134, 3644, 4636, 44, 676, 1156, 2331, 2934, 3081, 3240, 3831, 4746, 4759, 4862, 190, 914, 918, 925, 959, 2410, 2421, 3495, 3889, 3971, 281, 667, 885, 913, 1273, 1437, 2422, 2897, 3087, 3296, 3907, 4620, 4711, 494, 995, 1050, 1199, 1215, 1313, 1674, 2037, 3012, 3335, 3369, 3832, 3846, 3930, 4127, 4826, 4947, 4958, 4965, 4987, 151, 183, 344, 469, 478, 530, 758, 789, 832, 932, 1002, 1079, 1081, 1132, 1498, 2336, 2841, 3047, 3230, 3344, 3397, 3554, 3797, 4212, 4658, 4809, 4984, 25, 83, 226, 480, 527, 539, 565, 692, 878, 958, 1297, 1463, 1477, 1478, 1516, 1943, 2180, 2317, 2510, 2561, 2585, 2685, 2899, 3015, 3048, 3063, 3206, 3262, 3316, 3523, 3605, 3944, 4047, 4075, 4210, 4572, 4667, 4673, 4683, 4839, 42, 210, 308, 460, 626, 796, 875, 920, 1003, 1004, 1023, 1152, 1158, 1169, 1227, 1265, 1307, 1560, 1627, 2307, 2374, 2484, 2504, 2768, 2910, 2911, 2915, 3054, 3080, 3109, 3319, 3446, 3504, 3749, 4085, 4187, 4384, 4419, 4426, 4545, 4586, 4691, 4806, 19, 81, 89, 139, 333, 405, 414, 487, 636, 680, 811, 855, 866, 894, 937, 966, 996, 1588, 2229, 2698, 2819, 3017, 3419, 3499, 3543, 3688, 3715, 3743, 3760, 3890, 3891, 4051, 4087, 4147, 4240, 4246, 4307, 4379, 4533, 4664, 4763, 4974, 5067, 79, 109, 291, 424, 474, 618, 664, 724, 736, 850, 973, 982, 984, 1017, 1057, 1064, 1098, 1115, 1118, 1129, 1238, 1258, 1282, 1385, 1455, 1605, 1608, 1709, 1747, 1769, 1823, 1983, 2204, 2556, 2979, 3135, 3193, 3254, 3282, 3467, 3580, 3581, 3694, 3753, 3854, 3917, 4108, 4203, 4266, 4329, 4607, 4635, 4700, 4783, 5089, 5111, 112, 119, 228, 301, 339, 345, 415, 441, 554, 714, 952, 961, 1067, 1070, 1099, 1144, 1189, 1214, 1361, 1520, 1541, 1604, 1664, 1702, 2227, 2241, 2283, 2311, 2341, 2417, 2661, 2684, 2830, 2951, 3091, 3187, 3309, 3391, 3406, 3410, 3579, 3595, 3650, 3711, 3737, 3757, 3787, 4091, 4092, 4128, 4297, 4354, 4421, 4423, 4724, 4794, 4853, 4980, 5009, 5, 68, 91, 272, 377, 431, 437, 523, 576, 606, 629, 780, 792, 879, 882, 990, 1005, 1013, 1049, 1091, 1148, 1187, 1204, 1235, 1248, 1263, 1278, 1336, 1359, 1418, 1461, 1491, 1513, 1618, 1629, 1783, 1890, 2051, 2174, 2250, 2343, 2442, 2446, 2447, 2475, 2482, 2516, 2541, 2562, 2682, 2730, 2747, 2814, 2916, 2933, 2940, 2971, 2999, 3001, 3092, 3177, 3194, 3209, 3222, 3396, 3403, 3409, 3416, 3426, 3490, 3561, 3565, 3612, 3672, 3790, 3859, 4009, 4141, 4252, 4291, 4341, 4836, 4871, 4970, 5005, 5049, 5083, 5093, 5117, 276, 284, 302, 318, 364, 382, 423, 573, 654, 908, 941, 1174, 1233, 1259, 1345, 1365, 1430, 1480, 1512, 1581, 1655, 1696, 1750, 1762, 1830, 1850, 1886, 1918, 1926, 1970, 1985, 2114, 2128, 2141, 2172, 2175, 2181, 2207, 2208, 2266, 2390, 2425, 2432, 2452, 2645, 2689, 2702, 3075, 3115, 3274, 3373, 3379, 3456, 3537, 3586, 3602, 3655, 3662, 3700, 3816, 3819, 3834, 3841, 3961, 4012, 4019, 4043, 4178, 4273, 4333, 4361, 4473, 4480, 4617, 4643, 4748, 4782, 4798, 4800, 4865, 4902, 4913, 4953, 4977, 5035, 5038, 5114, 5128, 16, 96, 250, 264, 546, 627, 690, 691, 731, 749, 857, 915, 930, 931, 947, 1011, 1027, 1133, 1320, 1357, 1373, 1378, 1394, 1427, 1436, 1439, 1561, 1575, 1621, 1645, 1649, 1665, 1760, 1791, 1816, 1920, 1951, 2076, 2127, 2160, 2163, 2212, 2216, 2225, 2257, 2260, 2268, 2372, 2473, 2501, 2552, 2631, 2653, 2725, 2729, 2745, 2800, 2850, 2891, 2914, 3088, 3144, 3229, 3317, 3607, 3609, 3628, 3667, 3733, 3814, 3833, 4016, 4036, 4054, 4058, 4113, 4238, 4265, 4317, 4398, 4448, 4486, 4504, 4654, 4776, 4816, 4852, 4860, 4911, 4912, 5050, 5081, 5096, 269, 306, 408, 541, 743, 852, 864, 1167, 1186, 1192, 1229, 1326, 1346, 1390, 1402, 1434, 1442, 1550, 1700, 1717, 1743, 1828, 1875, 1907, 1911, 1937, 1941, 2030, 2034, 2042, 2066, 2166, 2170, 2171, 2200, 2348, 2453, 2496, 2617, 2624, 2638, 2667, 2710, 2744, 2788, 2812, 3157, 3183, 3318, 3347, 3437, 3469, 3660, 3902, 3913, 4052, 4078, 4424, 4541, 4612, 4638, 4740, 4781, 4804, 4818, 4874, 4962, 3340, 786, 3754, 515, 962, 3090, 3768, 4599, 1343, 1857, 2731, 2917, 3360, 4026, 4316, 663, 1056, 1213, 4024, 332, 1374, 4049, 613, 735, 902, 2740, 4381, 4554, 525, 812, 886, 1230, 1289, 1337, 1360, 3180, 3300, 4408, 154, 439, 936, 985, 2397, 4093, 4194, 4598, 4717, 4813, 4840, 380, 757, 840, 870, 897, 922, 965, 1096, 1101, 1168, 1234, 1250, 1506, 2255, 2959, 3246, 3349, 3762, 4302, 4389, 4680, 243, 326, 387, 499, 816, 933, 1193, 1329, 1332, 1549, 1574, 1933, 2508, 3341, 3692, 3761, 3852, 3928, 3940, 4033, 4287, 4546, 4568, 4689, 4741, 4960, 5082, 732, 770, 917, 980, 1111, 1322, 1323, 1568, 2303, 3069, 3514, 3669, 3687, 4014, 4045, 4070, 4234, 4257, 4296, 4968, 4994, 5146, 50, 105, 147, 703, 720, 739, 787, 856, 906, 1097, 1182, 1291, 1299, 1340, 1458, 1591, 1715, 2263, 2385, 2465, 2478, 2644, 3033, 3111, 3198, 3201, 3303, 3746, 3780, 3786, 3806, 3880, 3925, 3972, 4116, 4163, 4214, 4465, 4564, 4828, 4849, 4869, 4948, 146, 150, 157, 172, 399, 422, 455, 705, 744, 821, 865, 880, 940, 1019, 1092, 1106, 1124, 1135, 1140, 1165, 1175, 1335, 1362, 1370, 1376, 1433, 1473, 1508, 1677, 1801, 2239, 2349, 2380, 2414, 3234, 3326, 3464, 3465, 3729, 3808, 3853, 3861, 3904, 4053, 4096, 4236, 4243, 4338, 4371, 4373, 4608, 4678, 4791, 4917, 5064, 73, 222, 231, 274, 283, 497, 614, 841, 874, 1044, 1142, 1178, 1239, 1283, 1285, 1311, 1349, 1383, 1612, 1799, 1813, 1836, 1874, 2254, 2310, 2405, 2498, 2657, 2696, 2766, 2796, 2823, 2919, 3076, 3168, 3199, 3214, 3231, 3268, 3375, 3478, 3487, 3538, 3837, 3892, 4004, 4095, 4104, 4119, 4129, 4242, 4294, 4418, 4456, 4519, 4561, 4624, 4695, 4698, 4704, 4790, 4821, 4850, 4891, 4896, 5014, 5046, 5054, 5097, 53, 320, 337, 426, 428, 448, 653, 660, 740, 752, 766, 945, 1007, 1009, 1030, 1037, 1047, 1080, 1134, 1136, 1157, 1201, 1232, 1270, 1279, 1284, 1288, 1400, 1415, 1447, 1488, 1555, 1617, 1729, 1734, 1735, 1913, 2038, 2140, 2165, 2209, 2305, 2316, 2360, 2371, 2399, 2526, 2621, 2666, 2674, 2741, 2847, 2946, 2958, 2960, 2964, 2980, 3059, 3065, 3102, 3154, 3170, 3203, 3381, 3432, 3433, 3492, 3527, 3534, 3571, 3683, 3872, 3896, 3935, 4003, 4105, 4144, 4171, 4235, 4269, 4279, 4454, 4492, 4594, 4626, 4823, 4899, 5004, 5018, 5020, 7, 77, 143, 167, 178, 289, 356, 389, 407, 430, 466, 476, 477, 489, 572, 672, 678, 777, 799, 830, 868, 893, 919, 1000, 1052, 1072, 1073, 1116, 1123, 1145, 1160, 1200, 1202, 1211, 1217, 1287, 1368, 1372, 1396, 1452, 1468, 1489, 1500, 1502, 1503, 1505, 1522, 1556, 1557, 1558, 1562, 1589, 1623, 1626, 1669, 1746, 1753, 1767, 1770, 1848, 1881, 1955, 1994, 2182, 2201, 2280, 2286, 2289, 2295, 2325, 2328, 2332, 2359, 2364, 2370, 2384, 2403, 2408, 2412, 2451, 2514, 2546, 2548, 2576, 2599, 2607, 2641, 2652, 2654, 2668, 2818, 2905, 2925, 2942, 2945, 2954, 3098, 3103, 3112, 3126, 3258, 3270, 3281, 3407, 3429, 3588, 3643, 3658, 3659, 3809, 3865, 3947, 3999, 4017, 4018, 4028, 4050, 4067, 4228, 4286, 4306, 4310, 4312, 4410, 4474, 4534, 4576, 4585, 4610, 4616, 4712, 4765, 4796, 4895, 5003, 18, 20, 161, 189, 206, 255, 325, 327, 336, 348, 459, 461, 491, 529, 552, 590, 630, 643, 764, 772, 781, 782, 803, 815, 831, 859, 901, 903, 916, 928, 935, 956, 983, 986, 1029, 1036, 1075, 1107, 1125, 1154, 1226, 1243, 1293, 1321, 1344, 1375, 1432, 1440, 1453, 1460, 1475, 1479, 1483, 1490, 1528, 1534, 1539, 1569, 1571, 1572, 1573, 1576, 1594, 1595, 1598, 1635, 1661, 1662, 1686, 1689, 1706, 1711, 1727, 1738, 1745, 1749, 1758, 1766, 1779, 1788, 1802, 1805, 1831, 1835, 1882, 1893, 1921, 1990, 2023, 2027, 2058, 2063, 2071, 2084, 2183, 2191, 2210, 2253, 2261, 2264, 2275, 2276, 2277, 2281, 2294, 2302, 2321, 2382, 2457, 2479, 2502, 2550, 2553, 2564, 2568, 2572, 2578, 2619, 2623, 2665, 2694, 2715, 2721, 2755, 2773, 2775, 2793, 2801, 2817, 2821, 2825, 2879, 2883, 2906, 2969, 2988, 3004, 3068, 3074, 3083, 3085, 3099, 3139, 3161, 3178, 3207, 3289, 3290, 3322, 3371, 3385, 3393, 3435, 3440, 3475, 3484, 3489, 3522, 3555, 3630, 3631, 3635, 3664, 3701, 3718, 3748, 3825, 3842, 3849, 3860, 3862, 3873, 3909, 3952, 3978, 3997, 4000, 4102, 4185, 4196, 4205, 4207, 4251, 4350, 4366, 4400, 4406, 4441, 4460, 4507, 4528, 4550, 4646, 4661, 4675, 4682, 4687, 4694, 4729, 4738, 4745, 4758, 4773, 4780, 4887, 4897, 4930, 4967, 4985, 5030, 5063, 5102, 5133, 39, 62, 84, 130, 142, 175, 247, 254, 258, 265, 275, 286, 307, 368, 369, 463, 467, 485, 514, 519, 522, 537, 562, 580, 620, 625, 677, 704, 725, 742, 775, 779, 805, 839, 869, 904, 911, 929, 968, 1001, 1016, 1024, 1028, 1088, 1090, 1093, 1109, 1119, 1147, 1161, 1185, 1190, 1206, 1216, 1253, 1254, 1256, 1268, 1274, 1327, 1328, 1342, 1363, 1377, 1388, 1393, 1421, 1428, 1444, 1448, 1467, 1471, 1482, 1492, 1514, 1526, 1529, 1533, 1537, 1552, 1563, 1565, 1587, 1600, 1614, 1625, 1638, 1640, 1659, 1666, 1672, 1679, 1690, 1692, 1695, 1699, 1701, 1722, 1732, 1744, 1755, 1761, 1776, 1781, 1782, 1792, 1795, 1803, 1806, 1820, 1825, 1832, 1839, 1846, 1865, 1873, 1902, 1903, 1906, 1909, 1914, 1916, 1936, 1947, 1948, 1956, 1967, 1968, 1969, 1973, 1974, 1977, 1978, 1980, 1988, 1993, 1997, 2003, 2006, 2019, 2036, 2041, 2059, 2062, 2095, 2132, 2143, 2149, 2153, 2156, 2192, 2213, 2219, 2231, 2233, 2234, 2240, 2272, 2296, 2299, 2306, 2319, 2326, 2330, 2356, 2361, 2362, 2369, 2375, 2378, 2436, 2454, 2455, 2458, 2461, 2467, 2480, 2515, 2542, 2547, 2555, 2563, 2565, 2569, 2618, 2620, 2625, 2634, 2650, 2675, 2691, 2699, 2711, 2712, 2726, 2727, 2743, 2756, 2794, 2795, 2798, 2803, 2811, 2822, 2829, 2837, 2843, 2849, 2867, 2875, 2889, 2894, 2936, 2947, 2991, 3014, 3021, 3044, 3077, 3123, 3132, 3137, 3164, 3200, 3205, 3226, 3251, 3302, 3352, 3443, 3450, 3460, 3471, 3480, 3481, 3496, 3502, 3503, 3505, 3512, 3545, 3604, 3656, 3675, 3702, 3736, 3766, 3789, 3796, 3845, 3915, 3916, 3926, 3980, 3994, 4011, 4030, 4035, 4046, 4069, 4080, 4111, 4131, 4138, 4156, 4162, 4244, 4288, 4292, 4301, 4303, 4309, 4320, 4327, 4360, 4376, 4391, 4394, 4442, 4447, 4452, 4462, 4464, 4466, 4476, 4536, 4558, 4563, 4573, 4580, 4609, 4634, 4672, 4701, 4705, 4713, 4721, 4761, 4771, 4797, 4851, 4888, 4929, 4937, 4941, 4952, 4956, 4959, 4964, 4973, 5015, 5022, 5039, 5061, 5088, 5136, 5137, 5142, 47, 99, 127, 201, 218, 224, 279, 282, 316, 331, 349, 353, 374, 378, 398, 447, 449, 504, 507, 528, 531, 566, 597, 604, 605, 610, 701, 767, 838, 861, 921, 1006, 1103, 1120, 1131, 1146, 1153, 1171, 1181, 1188, 1196, 1257, 1276, 1277, 1294, 1306, 1314, 1324, 1333, 1348, 1367, 1379, 1381, 1391, 1398, 1403, 1407, 1438, 1462, 1510, 1518, 1525, 1532, 1585, 1597, 1601, 1606, 1628, 1630, 1637, 1641, 1643, 1647, 1650, 1658, 1660, 1683, 1691, 1694, 1710, 1726, 1730, 1736, 1737, 1757, 1765, 1778, 1785, 1794, 1819, 1838, 1845, 1852, 1854, 1855, 1870, 1878, 1883, 1884, 1885, 1887, 1896, 1898, 1900, 1910, 1922, 1924, 1938, 1946, 1949, 1958, 1961, 1964, 1965, 1972, 1976, 1986, 1987, 1991, 2001, 2002, 2004, 2009, 2015, 2017, 2028, 2031, 2033, 2035, 2040, 2044, 2046, 2060, 2064, 2074, 2086, 2091, 2098, 2099, 2101, 2104, 2109, 2131, 2135, 2136, 2137, 2152, 2155, 2157, 2158, 2167, 2168, 2173, 2177, 2178, 2185, 2188, 2189, 2195, 2214, 2223, 2224, 2244, 2247, 2249, 2259, 2282, 2285, 2313, 2315, 2333, 2334, 2338, 2340, 2346, 2347, 2358, 2368, 2379, 2400, 2404, 2428, 2429, 2431, 2483, 2491, 2494, 2497, 2540, 2545, 2554, 2566, 2567, 2570, 2591, 2595, 2597, 2606, 2612, 2622, 2651, 2659, 2660, 2662, 2669, 2671, 2676, 2679, 2680, 2681, 2683, 2692, 2695, 2697, 2700, 2701, 2707, 2709, 2713, 2717, 2722, 2724, 2734, 2739, 2746, 2750, 2753, 2760, 2762, 2767, 2769, 2771, 2779, 2785, 2802, 2820, 2828, 2835, 2838, 2839, 2853, 2854, 2860, 2863, 2870, 2878, 2880, 2886, 2890, 2892, 2909, 2918, 2923, 2944, 2957, 2965, 2967, 3010, 3022, 3053, 3110, 3167, 3171, 3189, 3192, 3210, 3265, 3277, 3283, 3294, 3304, 3387, 3389, 3390, 3415, 3431, 3444, 3457, 3479, 3491, 3515, 3516, 3546, 3558, 3590, 3649, 3663, 3696, 3708, 3730, 3739, 3752, 3756, 3758, 3821, 3866, 3906, 3958, 3976, 3977, 3983, 4032, 4066, 4103, 4112, 4126, 4139, 4152, 4153, 4198, 4220, 4222, 4227, 4247, 4263, 4278, 4280, 4325, 4334, 4348, 4370, 4372, 4383, 4388, 4399, 4439, 4440, 4446, 4468, 4475, 4489, 4532, 4539, 4583, 4587, 4653, 4666, 4679, 4693, 4719, 4739, 4742, 4744, 4750, 4751, 4752, 4756, 4757, 4830, 4831, 4880, 4966, 4978, 4981, 5071, 5074, 5148, 192, 328, 4006, 4918, 1184, 682, 759, 1034, 3051, 457, 548, 1008, 2630, 4559, 4822, 1451, 2583, 3653, 3823, 3982, 4023, 4151, 4407, 997, 1155, 1183, 1300, 2986, 4125, 4549, 4574, 5040, 876, 881, 960, 974, 1170, 2443, 2636, 4172, 4733, 137, 232, 592, 801, 954, 1179, 1298, 1579, 1582, 1817, 2226, 2559, 2772, 2976, 3056, 3116, 3384, 3620, 3744, 3792, 191, 221, 340, 440, 567, 718, 729, 788, 819, 1218, 1249, 1286, 1389, 1457, 1678, 1856, 2252, 2582, 2782, 3041, 3227, 3278, 3438, 3591, 3747, 4027, 4041, 4135, 4176, 4180, 4217, 4264, 4324, 4339, 4922, 5145, 30, 70, 80, 385, 396, 728, 804, 813, 817, 826, 892, 898, 949, 1078, 1117, 1166, 1194, 1203, 1221, 1315, 1382, 1472, 1530, 1653, 1707, 1772, 1787, 1872, 1912, 2198, 2392, 2472, 2560, 2587, 2626, 2693, 2972, 2985, 3011, 3218, 3447, 3459, 3468, 3494, 3734, 3759, 3895, 3932, 4109, 4133, 4189, 4284, 4345, 4352, 4415, 4547, 4730, 4829, 4926, 4997, 78, 158, 259, 350, 393, 425, 427, 433, 495, 540, 549, 578, 586, 657, 675, 695, 837, 846, 849, 873, 909, 1032, 1083, 1112, 1122, 1237, 1241, 1252, 1290, 1304, 1305, 1316, 1318, 1319, 1424, 1425, 1454, 1464, 1465, 1474, 1497, 1524, 1536, 1615, 1644, 1687, 1721, 1771, 1863, 1932, 1963, 2056, 2072, 2116, 2117, 2238, 2297, 2309, 2357, 2406, 2445, 2486, 2507, 2527, 2584, 2604, 2640, 2732, 2742, 2882, 2939, 2943, 2990, 3026, 3186, 3223, 3253, 3297, 3372, 3388, 3517, 3521, 3536, 3556, 3820, 3931, 3946, 3962, 4005, 4064, 4081, 4183, 4195, 4256, 4428, 4436, 4505, 4514, 4542, 4578, 4605, 4665, 4955, 5027, 97, 108, 138, 270, 341, 416, 462, 481, 564, 716, 769, 776, 802, 806, 834, 835, 994, 1015, 1020, 1066, 1074, 1089, 1094, 1095, 1100, 1126, 1164, 1180, 1207, 1212, 1224, 1246, 1275, 1416, 1429, 1441, 1456, 1466, 1469, 1501, 1545, 1570, 1584, 1592, 1652, 1656, 1663, 1708, 1720, 1724, 1742, 1768, 1774, 1818, 1843, 1869, 1876, 1894, 1944, 2032, 2043, 2048, 2100, 2145, 2169, 2217, 2271, 2292, 2339, 2350, 2402, 2413, 2464, 2525, 2581, 2588, 2590, 2673, 2703, 2797, 2816, 2844, 2857, 2902, 2921, 2996, 3018, 3023, 3025, 3032, 3036, 3050, 3066, 3114, 3145, 3152, 3162, 3175, 3185, 3188, 3249, 3275, 3286, 3312, 3333, 3342, 3509, 3513, 3519, 3530, 3549, 3563, 3569, 3574, 3575, 3577, 3582, 3592, 3652, 3673, 3681, 3719, 3731, 3750, 3771, 3811, 3850, 3874, 3887, 3893, 3929, 3934, 3963, 3973, 4020, 4031, 4048, 4074, 4174, 4190, 4253, 4267, 4290, 4359, 4368, 4375, 4444, 4478, 4525, 4529, 4562, 4565, 4566, 4614, 4622, 4651, 4657, 4662, 4674, 4714, 4715, 4825, 4844, 4886, 4927, 4975, 5006, 5032, 5051, 5106, 5135, 106, 116, 123, 177, 216, 293, 300, 317, 329, 338, 358, 366, 367, 372, 376, 384, 390, 429, 435, 446, 451, 503, 517, 520, 550, 569, 581, 588, 593, 595, 616, 617, 623, 634, 708, 768, 818, 848, 863, 872, 883, 899, 934, 951, 979, 991, 993, 1012, 1042, 1053, 1060, 1086, 1121, 1141, 1151, 1159, 1173, 1209, 1222, 1267, 1269, 1280, 1292, 1295, 1308, 1339, 1351, 1366, 1369, 1404, 1412, 1420, 1422, 1450, 1470, 1484, 1495, 1521, 1544, 1553, 1554, 1559, 1590, 1603, 1611, 1616, 1620, 1622, 1631, 1642, 1651, 1680, 1681, 1713, 1728, 1740, 1751, 1752, 1773, 1780, 1784, 1786, 1790, 1808, 1814, 1815, 1834, 1860, 1867, 1908, 1919, 1929, 1931, 1939, 1940, 1982, 1999, 2005, 2039, 2057, 2068, 2069, 2077, 2080, 2097, 2108, 2147, 2193, 2203, 2220, 2221, 2246, 2256, 2269, 2273, 2278, 2287, 2293, 2301, 2344, 2367, 2388, 2395, 2401, 2420, 2427, 2437, 2439, 2466, 2476, 2485, 2499, 2512, 2517, 2520, 2521, 2528, 2531, 2577, 2598, 2600, 2601, 2602, 2603, 2609, 2610, 2627, 2629, 2642, 2664, 2672, 2677, 2714, 2733, 2752, 2761, 2770, 2774, 2778, 2804, 2834, 2852, 2858, 2871, 2873, 2893, 2920, 2922, 2930, 2937, 2966, 2970, 2995, 2998, 3000, 3008, 3037, 3040, 3078, 3122, 3138, 3174, 3179, 3216, 3232, 3252, 3272, 3285, 3293, 3295, 3311, 3321, 3332, 3343, 3351, 3411, 3418, 3448, 3525, 3531, 3567, 3568, 3597, 3657, 3709, 3728, 3735, 3751, 3755, 3777, 3799, 3810, 3822, 3836, 3847, 3851, 3863, 3869, 3871, 3900, 3914, 3923, 3948, 3950, 3964, 3965, 3984, 3989, 3990, 3993, 4007, 4065, 4072, 4084, 4117, 4182, 4211, 4223, 4224, 4226, 4261, 4314, 4337, 4369, 4374, 4387, 4395, 4422, 4434, 4435, 4443, 4455, 4461, 4477, 4493, 4498, 4499, 4521, 4537, 4544, 4575, 4589, 4592, 4606, 4649, 4677, 4681, 4728, 4735, 4764, 4766, 4767, 4779, 4789, 4808, 4810, 4814, 4875, 4906, 4928, 4931, 4976, 4990, 5037, 5072, 5094, 5099, 5126, 5132, 29, 93, 101, 124, 128, 141, 162, 174, 179, 202, 234, 236, 257, 278, 309, 311, 314, 342, 386, 388, 392, 394, 397, 400, 401, 412, 436, 452, 458, 465, 468, 493, 496, 505, 506, 524, 526, 543, 544, 553, 556, 559, 571, 574, 577, 579, 589, 594, 599, 602, 603, 608, 611, 615, 622, 628, 632, 633, 645, 655, 717, 747, 793, 795, 800, 827, 853, 867, 877, 888, 905, 963, 989, 1010, 1039, 1055, 1077, 1085, 1102, 1104, 1113, 1138, 1143, 1195, 1205, 1220, 1231, 1236, 1242, 1260, 1296, 1312, 1341, 1356, 1358, 1364, 1371, 1380, 1397, 1414, 1417, 1419, 1431, 1435, 1445, 1494, 1496, 1504, 1515, 1517, 1519, 1531, 1535, 1538, 1546, 1551, 1564, 1578, 1580, 1593, 1596, 1599, 1602, 1607, 1609, 1610, 1613, 1619, 1624, 1632, 1639, 1646, 1648, 1654, 1657, 1667, 1670, 1675, 1676, 1682, 1688, 1693, 1697, 1703, 1704, 1714, 1716, 1719, 1723, 1725, 1731, 1739, 1741, 1748, 1756, 1759, 1763, 1777, 1789, 1793, 1796, 1797, 1798, 1800, 1804, 1809, 1810, 1811, 1812, 1821, 1822, 1824, 1826, 1827, 1829, 1837, 1840, 1841, 1842, 1844, 1847, 1849, 1851, 1853, 1858, 1859, 1861, 1862, 1864, 1866, 1868, 1871, 1877, 1880, 1888, 1889, 1891, 1892, 1895, 1901, 1904, 1905, 1917, 1923, 1925, 1927, 1928, 1930, 1934, 1935, 1942, 1945, 1950, 1952, 1953, 1954, 1957, 1959, 1960, 1962, 1966, 1971, 1979, 1981, 1989, 1992, 1995, 1996, 1998, 2000, 2008, 2010, 2011, 2012, 2013, 2014, 2016, 2018, 2020, 2021, 2024, 2025, 2026, 2045, 2047, 2049, 2050, 2052, 2053, 2054, 2055, 2061, 2065, 2067, 2070, 2075, 2078, 2079, 2081, 2082, 2083, 2085, 2087, 2088, 2089, 2090, 2092, 2093, 2094, 2096, 2102, 2103, 2105, 2106, 2107, 2110, 2111, 2112, 2113, 2115, 2118, 2119, 2120, 2121, 2122, 2123, 2124, 2125, 2126, 2129, 2130, 2133, 2134, 2138, 2139, 2146, 2148, 2150, 2151, 2162, 2179, 2184, 2190, 2215, 2218, 2222, 2230, 2232, 2236, 2237, 2243, 2262, 2265, 2267, 2298, 2300, 2314, 2323, 2327, 2329, 2345, 2351, 2352, 2353, 2363, 2366, 2381, 2383, 2389, 2393, 2394, 2396, 2398, 2409, 2411, 2419, 2424, 2426, 2433, 2434, 2438, 2441, 2448, 2456, 2459, 2460, 2462, 2463, 2468, 2469, 2470, 2474, 2477, 2481, 2489, 2490, 2493, 2495, 2500, 2503, 2505, 2509, 2511, 2518, 2519, 2522, 2523, 2524, 2529, 2530, 2532, 2533, 2534, 2535, 2536, 2537, 2538, 2539, 2543, 2544, 2549, 2551, 2557, 2571, 2573, 2574, 2575, 2580, 2589, 2592, 2594, 2596, 2605, 2608, 2611, 2613, 2614, 2615, 2616, 2628, 2632, 2633, 2635, 2639, 2643, 2647, 2648, 2649, 2655, 2656, 2658, 2663, 2670, 2678, 2686, 2687, 2690, 2704, 2705, 2706, 2708, 2716, 2719, 2723, 2735, 2736, 2737, 2738, 2748, 2749, 2754, 2757, 2758, 2759, 2763, 2764, 2765, 2776, 2777, 2780, 2781, 2783, 2784, 2786, 2787, 2789, 2791, 2792, 2799, 2805, 2806, 2807, 2808, 2809, 2810, 2824, 2827, 2831, 2832, 2833, 2836, 2840, 2848, 2851, 2855, 2856, 2859, 2861, 2862, 2864, 2865, 2866, 2868, 2869, 2872, 2874, 2876, 2877, 2881, 2884, 2885, 2887, 2888, 2895, 2896, 2900, 2904, 2927, 2928, 2929, 2938, 2950, 2952, 2961, 2963, 2968, 2973, 2977, 2984, 2987, 2997, 3002, 3003, 3013, 3016, 3019, 3020, 3027, 3028, 3029, 3030, 3035, 3038, 3039, 3049, 3055, 3062, 3064, 3070, 3071, 3073, 3084, 3089, 3095, 3096, 3097, 3104, 3105, 3106, 3113, 3120, 3121, 3125, 3127, 3128, 3130, 3131, 3133, 3140, 3142, 3143, 3146, 3148, 3149, 3150, 3151, 3153, 3156, 3158, 3160, 3165, 3173, 3181, 3182, 3184, 3202, 3204, 3215, 3219, 3220, 3221, 3224, 3228, 3236, 3239, 3241, 3242, 3248, 3250, 3256, 3257, 3259, 3260, 3261, 3263, 3266, 3267, 3271, 3273, 3276, 3279, 3280, 3287, 3288, 3298, 3299, 3306, 3307, 3308, 3315, 3331, 3334, 3339, 3345, 3348, 3356, 3357, 3359, 3361, 3364, 3365, 3367, 3370, 3374, 3380, 3382, 3386, 3394, 3398, 3399, 3401, 3405, 3422, 3423, 3424, 3427, 3445, 3449, 3452, 3453, 3454, 3455, 3458, 3462, 3463, 3470, 3473, 3493, 3497, 3498, 3501, 3507, 3508, 3510, 3511, 3526, 3529, 3533, 3539, 3541, 3544, 3547, 3550, 3551, 3552, 3557, 3560, 3573, 3576, 3583, 3585, 3587, 3593, 3594, 3598, 3599, 3606, 3608, 3613, 3617, 3619, 3623, 3624, 3626, 3639, 3642, 3646, 3648, 3661, 3665, 3666, 3668, 3670, 3677, 3679, 3680, 3682, 3685, 3686, 3689, 3690, 3698, 3699, 3704, 3706, 3707, 3712, 3716, 3717, 3721, 3722, 3723, 3725, 3726, 3742, 3767, 3769, 3770, 3772, 3773, 3774, 3776, 3779, 3788, 3791, 3793, 3795, 3798, 3800, 3804, 3813, 3815, 3817, 3826, 3827, 3828, 3838, 3839, 3840, 3843, 3844, 3855, 3858, 3867, 3868, 3875, 3881, 3882, 3886, 3894, 3899, 3901, 3903, 3905, 3911, 3920, 3921, 3922, 3924, 3937, 3939, 3941, 3942, 3945, 3953, 3954, 3955, 3959, 3974, 3979, 3981, 3985, 3987, 3988, 3992, 3995, 4008, 4029, 4040, 4042, 4055, 4056, 4059, 4060, 4062, 4063, 4077, 4083, 4089, 4090, 4101, 4106, 4114, 4115, 4118, 4120, 4121, 4123, 4124, 4136, 4140, 4146, 4150, 4154, 4155, 4157, 4159, 4160, 4164, 4165, 4166, 4168, 4169, 4175, 4177, 4179, 4181, 4184, 4188, 4191, 4192, 4193, 4202, 4208, 4216, 4218, 4219, 4221, 4229, 4232, 4239, 4249, 4259, 4260, 4262, 4271, 4276, 4281, 4283, 4299, 4304, 4305, 4313, 4315, 4318, 4322, 4328, 4332, 4335, 4340, 4342, 4343, 4344, 4346, 4351, 4353, 4355, 4357, 4358, 4362, 4365, 4377, 4380, 4382, 4396, 4397, 4402, 4403, 4405, 4411, 4412, 4413, 4425, 4430, 4431, 4433, 4438, 4451, 4457, 4458, 4463, 4467, 4469, 4470, 4479, 4481, 4483, 4488, 4490, 4500, 4501, 4508, 4509, 4513, 4520, 4523, 4524, 4530, 4531, 4535, 4538, 4540, 4551, 4555, 4556, 4567, 4569, 4570, 4579, 4581, 4582, 4590, 4593, 4597, 4601, 4602, 4603, 4604, 4611, 4613, 4615, 4621, 4625, 4627, 4629, 4630, 4631, 4633, 4637, 4639, 4640, 4641, 4644, 4645, 4650, 4656, 4659, 4669, 4671, 4676, 4684, 4686, 4688, 4690, 4692, 4699, 4702, 4703, 4708, 4709, 4710, 4722, 4723, 4726, 4731, 4734, 4737, 4743, 4753, 4754, 4760, 4762, 4769, 4770, 4775, 4777, 4787, 4793, 4803, 4805, 4807, 4811, 4812, 4817, 4819, 4827, 4832, 4835, 4838, 4841, 4845, 4846, 4854, 4856, 4858, 4859, 4863, 4864, 4866, 4868, 4870, 4878, 4879, 4881, 4884, 4885, 4889, 4890, 4893, 4894, 4903, 4905, 4916, 4919, 4920, 4923, 4924, 4935, 4936, 4938, 4939, 4944, 4945, 4946, 4950, 4951, 4954, 4957, 4961, 4963, 4971, 4972, 4979, 4982, 4983, 4988, 4989, 4993, 4996, 4998, 5000, 5002, 5007, 5008, 5010, 5016, 5019, 5024, 5025, 5029, 5031, 5033, 5036, 5042, 5044, 5045, 5047, 5056, 5060, 5065, 5068, 5073, 5076, 5084, 5085, 5087, 5090, 5091, 5092, 5098, 5100, 5101, 5104, 5107, 5109, 5112, 5113, 5116, 5119, 5120, 5121, 5122, 5125, 5130, 5131, 5141, 5144, 5147, 5149, 0]\n"
     ]
    }
   ],
   "source": [
    "#a list of sorted neighbours\n",
    "similar_users=top_neighbors_df.iloc[:,0].tolist()\n",
    "print(similar_users)"
   ]
  },
  {
   "cell_type": "code",
   "execution_count": 422,
   "metadata": {},
   "outputs": [
    {
     "data": {
      "text/plain": [
       "(['12.0',\n",
       "  '14.0',\n",
       "  '40.0',\n",
       "  '74.0',\n",
       "  '98.0',\n",
       "  '120.0',\n",
       "  '151.0',\n",
       "  '152.0',\n",
       "  '195.0',\n",
       "  '215.0',\n",
       "  '223.0',\n",
       "  '225.0',\n",
       "  '230.0',\n",
       "  '310.0',\n",
       "  '314.0',\n",
       "  '319.0',\n",
       "  '349.0',\n",
       "  '382.0',\n",
       "  '390.0',\n",
       "  '475.0',\n",
       "  '656.0',\n",
       "  '665.0',\n",
       "  '723.0',\n",
       "  '729.0',\n",
       "  '766.0',\n",
       "  '825.0',\n",
       "  '957.0',\n",
       "  '969.0',\n",
       "  '1017.0',\n",
       "  '1052.0',\n",
       "  '1053.0',\n",
       "  '1054.0',\n",
       "  '1059.0',\n",
       "  '1152.0',\n",
       "  '1158.0',\n",
       "  '1160.0',\n",
       "  '1162.0',\n",
       "  '1163.0',\n",
       "  '1168.0',\n",
       "  '1174.0',\n",
       "  '1176.0',\n",
       "  '1181.0',\n",
       "  '1185.0',\n",
       "  '1186.0',\n",
       "  '1271.0',\n",
       "  '1276.0',\n",
       "  '1278.0',\n",
       "  '1282.0',\n",
       "  '1293.0',\n",
       "  '1296.0',\n",
       "  '1304.0',\n",
       "  '1314.0',\n",
       "  '1320.0',\n",
       "  '1328.0',\n",
       "  '1338.0',\n",
       "  '1343.0',\n",
       "  '1351.0',\n",
       "  '1354.0',\n",
       "  '1357.0',\n",
       "  '1360.0',\n",
       "  '1364.0',\n",
       "  '1366.0',\n",
       "  '1368.0',\n",
       "  '1386.0',\n",
       "  '1398.0',\n",
       "  '1400.0',\n",
       "  '1406.0',\n",
       "  '1423.0',\n",
       "  '1427.0',\n",
       "  '1429.0',\n",
       "  '1430.0',\n",
       "  '1431.0',\n",
       "  '1433.0',\n",
       "  '1435.0',\n",
       "  '1436.0'],\n",
       " ['using pixiedust for fast, flexible, and easier data analysis and experimentation',\n",
       "  'healthcare python streaming application demo',\n",
       "  'use deep learning for image classification',\n",
       "  'ml optimization using cognitive assistant',\n",
       "  'deploy your python model as a restful api',\n",
       "  'classify tumors with machine learning',\n",
       "  'got zip code data? prep it for analytics. – ibm watson data lab – medium',\n",
       "  'timeseries data analysis of iot events by using jupyter notebook',\n",
       "  'housing (2015): united states demographic measures',\n",
       "  'access db2 warehouse on cloud and db2 with python',\n",
       "  'predicting churn with the spss random tree algorithm',\n",
       "  'analyze energy consumption in buildings',\n",
       "  'visualize car data with brunel',\n",
       "  'use xgboost, scikit-learn & ibm watson machine learning apis',\n",
       "  'putting a human face on machine learning',\n",
       "  'access mysql with python',\n",
       "  'access mysql with r',\n",
       "  'ibm data science experience white paper - sparkr transforming r into a tool for big data analytics',\n",
       "  'gosales transactions for logistic regression model',\n",
       "  'welcome to pixiedust',\n",
       "  'maximize oil company profits',\n",
       "  'use sql with data in hadoop python',\n",
       "  'analyze open data sets with spark & pixiedust',\n",
       "  'uci ml repository: chronic kidney disease data set',\n",
       "  'income (2015): united states demographic measures',\n",
       "  'pixieapp for outlier detection',\n",
       "  'time series prediction using recurrent neural networks (lstms)',\n",
       "  'model bike sharing data with spss',\n",
       "  'airbnb data for analytics: amsterdam calendar',\n",
       "  'finding optimal locations of new store using decision optimization',\n",
       "  'analyze accident reports on amazon emr spark',\n",
       "  'breast cancer wisconsin (diagnostic) data set',\n",
       "  'fortune 100 companies',\n",
       "  'jupyter notebook tutorial',\n",
       "  'what is text analytics?',\n",
       "  'total population by country',\n",
       "  'movie recommender system with spark machine learning',\n",
       "  'car performance data',\n",
       "  'annual % population growth by country',\n",
       "  'build a python app on the streaming analytics service',\n",
       "  'uci: iris',\n",
       "  'customer demographics and sales',\n",
       "  'connect to db2 warehouse on cloud and db2 using scala',\n",
       "  'making data science a team sport',\n",
       "  'the pandas data analysis library',\n",
       "  'the 3 kinds of context: machine learning and the art of the frame',\n",
       "  'brunel interactive visualizations in jupyter notebooks',\n",
       "  'pixiedust 1.0 is here! – ibm watson data lab',\n",
       "  'how to map usa rivers using ggplot2',\n",
       "  'airbnb data for analytics: venice reviews',\n",
       "  'gradient boosting explained',\n",
       "  '10 essential algorithms for machine learning engineers',\n",
       "  'data wrangling with dplyr and tidyr cheat sheet',\n",
       "  'a dynamic duo – inside machine learning – medium',\n",
       "  'ensemble learning to improve machine learning results',\n",
       "  'employed population by occupation and age',\n",
       "  'flightpredict ii: the sequel  – ibm watson data lab',\n",
       "  'what is smote in an imbalanced class setting (e.g. fraud detection)?',\n",
       "  'some random weekend reading',\n",
       "  'artificial intelligence, ethically speaking – inside machine learning – medium',\n",
       "  'web picks (week of 23 january 2017)',\n",
       "  'airbnb data for analytics: washington d.c. reviews',\n",
       "  'a visual explanation of the back propagation algorithm for neural networks',\n",
       "  'get social with your notebooks in dsx',\n",
       "  'using bigdl in dsx for deep learning on spark',\n",
       "  'overlapping co-cluster recommendation algorithm (ocular)',\n",
       "  'deep learning achievements over the past year ',\n",
       "  'visualize the 1854 london cholera outbreak',\n",
       "  'process events from the watson iot platform in a streams python application',\n",
       "  'develop a scala spark model on chicago building violations',\n",
       "  'small steps to tensorflow',\n",
       "  'how to solve 90% of nlp problems',\n",
       "  'watson assistant workspace analysis with user logs',\n",
       "  'introducing ibm watson studio ',\n",
       "  'using shell scripts to control data flows created in watson applications'])"
      ]
     },
     "execution_count": 422,
     "metadata": {},
     "output_type": "execute_result"
    }
   ],
   "source": [
    "get_user_articles(3870)"
   ]
  },
  {
   "cell_type": "code",
   "execution_count": 424,
   "metadata": {},
   "outputs": [
    {
     "name": "stdout",
     "output_type": "stream",
     "text": [
      "[['12.0', '14.0', '40.0', '74.0', '98.0', '120.0', '151.0', '152.0', '195.0', '215.0', '223.0', '225.0', '230.0', '310.0', '314.0', '319.0', '349.0', '382.0', '390.0', '475.0', '656.0', '665.0', '723.0', '729.0', '766.0', '825.0', '957.0', '969.0', '1017.0', '1052.0', '1053.0', '1054.0', '1059.0', '1152.0', '1158.0', '1160.0', '1162.0', '1163.0', '1168.0', '1174.0', '1176.0', '1181.0', '1185.0', '1186.0', '1271.0', '1276.0', '1278.0', '1282.0', '1293.0', '1296.0', '1304.0', '1314.0', '1320.0', '1328.0', '1338.0', '1343.0', '1351.0', '1354.0', '1357.0', '1360.0', '1364.0', '1366.0', '1368.0', '1386.0', '1398.0', '1400.0', '1406.0', '1423.0', '1427.0', '1429.0', '1430.0', '1431.0', '1433.0', '1435.0', '1436.0'], ['2.0', '12.0', '14.0', '16.0', '26.0', '28.0', '29.0', '33.0', '43.0', '50.0', '74.0', '76.0', '108.0', '109.0', '120.0', '124.0', '131.0', '164.0', '193.0', '194.0', '210.0', '213.0', '221.0', '223.0', '225.0', '236.0', '237.0', '241.0', '252.0', '253.0', '283.0', '295.0', '299.0', '302.0', '316.0', '336.0', '337.0', '339.0', '348.0', '359.0', '362.0', '367.0', '409.0', '422.0', '444.0', '477.0', '482.0', '510.0', '517.0', '524.0', '617.0', '634.0', '641.0', '656.0', '658.0', '665.0', '682.0', '693.0', '720.0', '721.0', '729.0', '744.0', '761.0', '800.0', '812.0', '821.0', '825.0', '833.0', '843.0', '910.0', '939.0', '943.0', '952.0', '957.0', '967.0', '969.0', '973.0', '981.0', '996.0', '1000.0', '1014.0', '1025.0', '1051.0', '1052.0', '1101.0', '1148.0', '1159.0', '1160.0', '1162.0', '1163.0', '1164.0', '1165.0', '1166.0', '1170.0', '1171.0', '1172.0', '1176.0', '1181.0', '1185.0', '1276.0', '1277.0', '1291.0', '1293.0', '1298.0', '1299.0', '1304.0', '1305.0', '1314.0', '1330.0', '1332.0', '1336.0', '1338.0', '1343.0', '1351.0', '1354.0', '1357.0', '1360.0', '1364.0', '1366.0', '1367.0', '1368.0', '1386.0', '1391.0', '1393.0', '1395.0', '1396.0', '1423.0', '1427.0', '1428.0', '1429.0', '1430.0', '1431.0', '1432.0', '1436.0', '1439.0'], ['2.0', '12.0', '14.0', '16.0', '26.0', '28.0', '29.0', '33.0', '43.0', '50.0', '74.0', '76.0', '108.0', '109.0', '120.0', '124.0', '131.0', '164.0', '193.0', '194.0', '210.0', '213.0', '221.0', '223.0', '236.0', '237.0', '241.0', '252.0', '253.0', '283.0', '295.0', '299.0', '302.0', '316.0', '336.0', '337.0', '339.0', '348.0', '359.0', '362.0', '367.0', '409.0', '422.0', '444.0', '477.0', '482.0', '510.0', '517.0', '524.0', '617.0', '634.0', '641.0', '656.0', '658.0', '665.0', '682.0', '693.0', '720.0', '721.0', '729.0', '744.0', '761.0', '800.0', '812.0', '821.0', '825.0', '833.0', '843.0', '887.0', '910.0', '939.0', '943.0', '952.0', '957.0', '967.0', '969.0', '973.0', '981.0', '996.0', '1000.0', '1014.0', '1025.0', '1051.0', '1052.0', '1101.0', '1148.0', '1159.0', '1160.0', '1162.0', '1163.0', '1164.0', '1165.0', '1166.0', '1170.0', '1171.0', '1172.0', '1176.0', '1181.0', '1185.0', '1276.0', '1277.0', '1291.0', '1293.0', '1298.0', '1299.0', '1304.0', '1305.0', '1314.0', '1330.0', '1332.0', '1336.0', '1338.0', '1343.0', '1351.0', '1354.0', '1357.0', '1360.0', '1364.0', '1366.0', '1367.0', '1368.0', '1386.0', '1391.0', '1393.0', '1395.0', '1396.0', '1423.0', '1427.0', '1428.0', '1429.0', '1430.0', '1431.0', '1432.0', '1436.0', '1439.0'], ['18.0', '20.0', '32.0', '43.0', '64.0', '76.0', '98.0', '109.0', '124.0', '125.0', '193.0', '194.0', '241.0', '254.0', '268.0', '310.0', '319.0', '324.0', '329.0', '352.0', '353.0', '367.0', '390.0', '427.0', '428.0', '492.0', '510.0', '641.0', '669.0', '680.0', '681.0', '723.0', '785.0', '793.0', '833.0', '871.0', '905.0', '911.0', '930.0', '933.0', '975.0', '1014.0', '1017.0', '1025.0', '1044.0', '1053.0', '1054.0', '1056.0', '1057.0', '1058.0', '1059.0', '1060.0', '1061.0', '1163.0', '1166.0', '1169.0', '1171.0', '1185.0', '1226.0', '1276.0', '1277.0', '1278.0', '1282.0', '1293.0', '1298.0', '1314.0', '1324.0', '1329.0', '1332.0', '1336.0', '1338.0', '1343.0', '1351.0', '1357.0', '1360.0', '1361.0', '1364.0', '1366.0', '1367.0', '1368.0', '1386.0', '1391.0', '1393.0', '1395.0', '1396.0', '1398.0', '1416.0', '1427.0', '1429.0', '1430.0', '1431.0', '1432.0', '1433.0', '1435.0', '1436.0', '1437.0'], ['18.0', '20.0', '32.0', '43.0', '64.0', '76.0', '98.0', '109.0', '124.0', '125.0', '193.0', '194.0', '241.0', '254.0', '268.0', '310.0', '319.0', '324.0', '329.0', '352.0', '353.0', '367.0', '390.0', '427.0', '428.0', '492.0', '510.0', '641.0', '669.0', '680.0', '681.0', '723.0', '785.0', '793.0', '833.0', '871.0', '905.0', '911.0', '930.0', '933.0', '975.0', '1014.0', '1017.0', '1025.0', '1044.0', '1053.0', '1054.0', '1056.0', '1057.0', '1058.0', '1059.0', '1060.0', '1061.0', '1163.0', '1166.0', '1169.0', '1171.0', '1185.0', '1226.0', '1276.0', '1277.0', '1278.0', '1282.0', '1293.0', '1298.0', '1314.0', '1324.0', '1329.0', '1332.0', '1336.0', '1338.0', '1343.0', '1351.0', '1357.0', '1360.0', '1361.0', '1364.0', '1366.0', '1367.0', '1368.0', '1386.0', '1391.0', '1393.0', '1395.0', '1396.0', '1398.0', '1416.0', '1427.0', '1429.0', '1430.0', '1431.0', '1432.0', '1433.0', '1435.0', '1436.0', '1437.0'], ['2.0', '12.0', '14.0', '20.0', '30.0', '40.0', '43.0', '51.0', '57.0', '74.0', '101.0', '108.0', '110.0', '116.0', '120.0', '124.0', '130.0', '164.0', '173.0', '193.0', '194.0', '202.0', '205.0', '213.0', '263.0', '310.0', '336.0', '349.0', '353.0', '409.0', '462.0', '470.0', '477.0', '491.0', '522.0', '599.0', '645.0', '647.0', '651.0', '658.0', '665.0', '681.0', '684.0', '730.0', '744.0', '766.0', '812.0', '821.0', '825.0', '833.0', '844.0', '855.0', '898.0', '939.0', '969.0', '975.0', '986.0', '1018.0', '1024.0', '1025.0', '1047.0', '1054.0', '1116.0', '1160.0', '1162.0', '1163.0', '1165.0', '1170.0', '1171.0', '1172.0', '1175.0', '1176.0', '1185.0', '1186.0', '1198.0', '1274.0', '1276.0', '1286.0', '1293.0', '1299.0', '1314.0', '1324.0', '1330.0', '1351.0', '1354.0', '1360.0', '1363.0', '1364.0', '1367.0', '1368.0', '1393.0', '1422.0', '1425.0', '1427.0', '1429.0', '1430.0', '1432.0'], ['2.0', '12.0', '14.0', '20.0', '40.0', '43.0', '51.0', '57.0', '74.0', '101.0', '108.0', '110.0', '116.0', '120.0', '124.0', '130.0', '164.0', '173.0', '193.0', '194.0', '202.0', '205.0', '213.0', '263.0', '310.0', '336.0', '349.0', '353.0', '409.0', '462.0', '470.0', '477.0', '491.0', '522.0', '599.0', '645.0', '647.0', '651.0', '658.0', '665.0', '681.0', '684.0', '730.0', '744.0', '766.0', '812.0', '821.0', '825.0', '833.0', '844.0', '855.0', '898.0', '939.0', '969.0', '975.0', '986.0', '1018.0', '1024.0', '1025.0', '1047.0', '1048.0', '1054.0', '1116.0', '1160.0', '1162.0', '1163.0', '1165.0', '1170.0', '1171.0', '1172.0', '1175.0', '1176.0', '1185.0', '1186.0', '1198.0', '1274.0', '1276.0', '1286.0', '1293.0', '1299.0', '1314.0', '1324.0', '1330.0', '1351.0', '1354.0', '1360.0', '1363.0', '1364.0', '1367.0', '1368.0', '1393.0', '1422.0', '1425.0', '1427.0', '1429.0', '1430.0', '1432.0'], ['8.0', '16.0', '34.0', '40.0', '50.0', '53.0', '59.0', '74.0', '92.0', '111.0', '120.0', '152.0', '153.0', '173.0', '181.0', '194.0', '234.0', '253.0', '284.0', '295.0', '313.0', '315.0', '367.0', '379.0', '381.0', '398.0', '415.0', '468.0', '485.0', '528.0', '567.0', '583.0', '585.0', '599.0', '606.0', '665.0', '670.0', '681.0', '723.0', '768.0', '784.0', '812.0', '813.0', '833.0', '843.0', '861.0', '862.0', '865.0', '871.0', '887.0', '898.0', '911.0', '936.0', '939.0', '943.0', '996.0', '1044.0', '1047.0', '1053.0', '1160.0', '1162.0', '1163.0', '1164.0', '1165.0', '1166.0', '1172.0', '1174.0', '1176.0', '1185.0', '1188.0', '1274.0', '1276.0', '1293.0', '1305.0', '1314.0', '1317.0', '1330.0', '1336.0', '1337.0', '1338.0', '1350.0', '1351.0', '1354.0', '1360.0', '1364.0', '1368.0', '1386.0', '1391.0', '1393.0', '1395.0', '1396.0', '1400.0', '1420.0', '1422.0', '1423.0', '1427.0', '1429.0', '1431.0', '1432.0', '1436.0'], ['8.0', '16.0', '34.0', '40.0', '50.0', '53.0', '59.0', '74.0', '92.0', '111.0', '120.0', '152.0', '153.0', '173.0', '181.0', '194.0', '234.0', '253.0', '284.0', '295.0', '313.0', '315.0', '367.0', '379.0', '381.0', '398.0', '415.0', '426.0', '468.0', '485.0', '528.0', '567.0', '583.0', '585.0', '599.0', '606.0', '665.0', '670.0', '681.0', '723.0', '768.0', '784.0', '812.0', '813.0', '833.0', '843.0', '861.0', '862.0', '865.0', '871.0', '887.0', '898.0', '911.0', '936.0', '939.0', '943.0', '996.0', '1044.0', '1047.0', '1053.0', '1160.0', '1162.0', '1163.0', '1164.0', '1165.0', '1166.0', '1172.0', '1174.0', '1176.0', '1185.0', '1188.0', '1274.0', '1276.0', '1293.0', '1305.0', '1314.0', '1317.0', '1330.0', '1336.0', '1337.0', '1338.0', '1350.0', '1351.0', '1354.0', '1360.0', '1364.0', '1368.0', '1386.0', '1391.0', '1393.0', '1395.0', '1396.0', '1400.0', '1420.0', '1422.0', '1423.0', '1427.0', '1429.0', '1431.0', '1432.0', '1436.0'], ['32.0', '65.0', '109.0', '122.0', '184.0', '237.0', '299.0', '409.0', '477.0', '502.0', '673.0', '749.0', '760.0', '766.0', '933.0', '1014.0', '1047.0', '1053.0', '1057.0', '1152.0', '1159.0', '1160.0', '1163.0', '1170.0', '1171.0', '1172.0', '1174.0', '1176.0', '1183.0', '1185.0', '1271.0', '1274.0', '1276.0', '1282.0', '1293.0', '1304.0', '1314.0', '1321.0', '1324.0', '1330.0', '1332.0', '1336.0', '1338.0', '1343.0', '1351.0', '1354.0', '1364.0', '1367.0', '1386.0', '1391.0', '1394.0', '1396.0', '1398.0', '1427.0', '1429.0', '1431.0', '1432.0', '1436.0', '1437.0', '1439.0'], ['32.0', '65.0', '109.0', '122.0', '184.0', '237.0', '409.0', '477.0', '502.0', '673.0', '749.0', '760.0', '766.0', '933.0', '1014.0', '1047.0', '1053.0', '1057.0', '1152.0', '1159.0', '1160.0', '1163.0', '1170.0', '1171.0', '1172.0', '1174.0', '1176.0', '1183.0', '1185.0', '1271.0', '1274.0', '1276.0', '1282.0', '1293.0', '1304.0', '1314.0', '1321.0', '1324.0', '1330.0', '1332.0', '1336.0', '1338.0', '1343.0', '1351.0', '1354.0', '1364.0', '1367.0', '1386.0', '1391.0', '1394.0', '1396.0', '1398.0', '1427.0', '1429.0', '1431.0', '1432.0', '1436.0', '1437.0', '1439.0'], ['43.0', '109.0', '111.0', '112.0', '164.0', '213.0', '225.0', '232.0', '313.0', '337.0', '379.0', '482.0', '528.0', '667.0', '684.0', '723.0', '903.0', '939.0', '967.0', '1006.0', '1035.0', '1154.0', '1160.0', '1162.0', '1165.0', '1172.0', '1181.0', '1184.0', '1185.0', '1276.0', '1277.0', '1304.0', '1314.0', '1320.0', '1330.0', '1338.0', '1351.0', '1357.0', '1360.0', '1364.0', '1366.0', '1368.0', '1386.0', '1396.0', '1397.0', '1400.0', '1427.0', '1429.0', '1430.0', '1431.0', '1433.0', '1437.0'], ['43.0', '109.0', '111.0', '112.0', '164.0', '213.0', '225.0', '232.0', '313.0', '337.0', '379.0', '482.0', '528.0', '667.0', '684.0', '723.0', '903.0', '939.0', '967.0', '1006.0', '1035.0', '1154.0', '1160.0', '1162.0', '1165.0', '1172.0', '1181.0', '1184.0', '1185.0', '1276.0', '1277.0', '1304.0', '1314.0', '1320.0', '1330.0', '1338.0', '1351.0', '1357.0', '1360.0', '1364.0', '1366.0', '1368.0', '1386.0', '1396.0', '1397.0', '1400.0', '1427.0', '1429.0', '1430.0', '1431.0', '1433.0', '1437.0'], ['12.0', '16.0', '26.0', '53.0', '57.0', '102.0', '108.0', '109.0', '110.0', '193.0', '215.0', '221.0', '223.0', '236.0', '241.0', '302.0', '314.0', '362.0', '399.0', '412.0', '427.0', '448.0', '464.0', '470.0', '475.0', '477.0', '534.0', '553.0', '607.0', '609.0', '616.0', '618.0', '665.0', '680.0', '681.0', '682.0', '695.0', '729.0', '732.0', '744.0', '766.0', '903.0', '943.0', '969.0', '1047.0', '1162.0', '1163.0', '1166.0', '1171.0', '1172.0', '1181.0', '1271.0', '1304.0', '1305.0', '1307.0', '1314.0', '1317.0', '1338.0', '1354.0', '1364.0', '1367.0', '1368.0', '1405.0', '1409.0', '1416.0', '1420.0', '1423.0', '1427.0', '1430.0', '1436.0'], ['12.0', '16.0', '26.0', '28.0', '53.0', '57.0', '102.0', '108.0', '109.0', '110.0', '138.0', '193.0', '215.0', '221.0', '223.0', '236.0', '241.0', '302.0', '314.0', '362.0', '399.0', '412.0', '427.0', '448.0', '464.0', '470.0', '475.0', '477.0', '534.0', '553.0', '607.0', '609.0', '616.0', '618.0', '665.0', '680.0', '681.0', '682.0', '695.0', '729.0', '732.0', '766.0', '903.0', '943.0', '969.0', '1047.0', '1162.0', '1163.0', '1166.0', '1171.0', '1172.0', '1181.0', '1271.0', '1304.0', '1305.0', '1307.0', '1314.0', '1317.0', '1338.0', '1354.0', '1364.0', '1367.0', '1368.0', '1405.0', '1409.0', '1416.0', '1420.0', '1423.0', '1427.0', '1430.0', '1436.0'], ['26.0', '28.0', '34.0', '57.0', '74.0', '103.0', '116.0', '120.0', '173.0', '193.0', '194.0', '221.0', '237.0', '278.0', '315.0', '324.0', '465.0', '557.0', '651.0', '729.0', '833.0', '861.0', '865.0', '887.0', '943.0', '1018.0', '1160.0', '1162.0', '1170.0', '1171.0', '1172.0', '1174.0', '1185.0', '1274.0', '1293.0', '1304.0', '1314.0', '1317.0', '1330.0', '1336.0', '1338.0', '1343.0', '1350.0', '1351.0', '1360.0', '1364.0', '1368.0', '1393.0', '1395.0', '1397.0', '1398.0', '1400.0', '1429.0', '1430.0', '1431.0', '1432.0', '1433.0', '1436.0'], ['26.0', '28.0', '34.0', '57.0', '74.0', '78.0', '103.0', '116.0', '120.0', '173.0', '193.0', '194.0', '221.0', '237.0', '278.0', '315.0', '324.0', '465.0', '557.0', '651.0', '729.0', '833.0', '861.0', '865.0', '887.0', '943.0', '1018.0', '1160.0', '1162.0', '1170.0', '1171.0', '1172.0', '1174.0', '1185.0', '1274.0', '1293.0', '1304.0', '1314.0', '1317.0', '1330.0', '1336.0', '1338.0', '1343.0', '1350.0', '1351.0', '1360.0', '1364.0', '1368.0', '1393.0', '1395.0', '1397.0', '1398.0', '1400.0', '1429.0', '1430.0', '1431.0', '1432.0', '1433.0', '1436.0'], ['12.0', '14.0', '34.0', '40.0', '43.0', '101.0', '109.0', '110.0', '120.0', '124.0', '130.0', '164.0', '194.0', '195.0', '221.0', '295.0', '310.0', '336.0', '379.0', '398.0', '465.0', '468.0', '617.0', '681.0', '723.0', '729.0', '785.0', '833.0', '862.0', '871.0', '898.0', '911.0', '936.0', '943.0', '996.0', '1024.0', '1047.0', '1050.0', '1163.0', '1176.0', '1185.0', '1186.0', '1274.0', '1293.0', '1296.0', '1305.0', '1330.0', '1338.0', '1351.0', '1360.0', '1364.0', '1368.0', '1393.0', '1420.0', '1423.0', '1427.0', '1430.0', '1436.0'], ['631.0', '1052.0', '1053.0', '1054.0', '1055.0', '1056.0', '1160.0', '1162.0', '1164.0', '1165.0', '1166.0', '1170.0', '1171.0', '1172.0', '1176.0', '1185.0', '1186.0', '1274.0', '1293.0', '1314.0', '1317.0', '1330.0', '1336.0', '1338.0', '1343.0', '1350.0', '1351.0', '1364.0', '1368.0', '1391.0', '1393.0', '1395.0', '1420.0', '1423.0', '1424.0', '1425.0', '1426.0', '1427.0', '1428.0', '1429.0', '1431.0', '1432.0', '1435.0', '1436.0'], ['8.0', '12.0', '20.0', '103.0', '116.0', '120.0', '124.0', '125.0', '136.0', '151.0', '164.0', '193.0', '194.0', '241.0', '268.0', '278.0', '288.0', '329.0', '362.0', '369.0', '448.0', '477.0', '485.0', '491.0', '510.0', '547.0', '585.0', '593.0', '600.0', '647.0', '656.0', '684.0', '692.0', '723.0', '833.0', '943.0', '948.0', '969.0', '977.0', '1025.0', '1052.0', '1056.0', '1057.0', '1060.0', '1160.0', '1162.0', '1163.0', '1165.0', '1166.0', '1174.0', '1183.0', '1252.0', '1274.0', '1276.0', '1282.0', '1314.0', '1330.0', '1336.0', '1351.0', '1354.0', '1360.0', '1367.0', '1391.0', '1393.0', '1398.0', '1403.0', '1422.0', '1427.0', '1428.0', '1429.0', '1436.0'], ['14.0', '51.0', '53.0', '102.0', '108.0', '116.0', '120.0', '122.0', '145.0', '153.0', '162.0', '202.0', '221.0', '240.0', '349.0', '448.0', '465.0', '542.0', '600.0', '617.0', '641.0', '681.0', '813.0', '903.0', '1025.0', '1052.0', '1054.0', '1060.0', '1160.0', '1162.0', '1164.0', '1170.0', '1171.0', '1172.0', '1174.0', '1176.0', '1185.0', '1254.0', '1277.0', '1293.0', '1314.0', '1321.0', '1324.0', '1330.0', '1332.0', '1343.0', '1360.0', '1364.0', '1393.0', '1394.0', '1395.0', '1409.0', '1422.0', '1423.0', '1426.0', '1427.0', '1429.0', '1430.0', '1431.0', '1436.0', '1437.0'], ['8.0', '12.0', '20.0', '103.0', '116.0', '120.0', '124.0', '125.0', '136.0', '151.0', '164.0', '193.0', '194.0', '237.0', '241.0', '268.0', '278.0', '288.0', '329.0', '362.0', '369.0', '448.0', '477.0', '485.0', '491.0', '510.0', '547.0', '585.0', '593.0', '600.0', '647.0', '656.0', '684.0', '692.0', '723.0', '833.0', '943.0', '948.0', '969.0', '977.0', '1025.0', '1052.0', '1056.0', '1057.0', '1060.0', '1160.0', '1162.0', '1163.0', '1165.0', '1166.0', '1174.0', '1183.0', '1252.0', '1274.0', '1276.0', '1282.0', '1314.0', '1330.0', '1336.0', '1351.0', '1354.0', '1360.0', '1367.0', '1391.0', '1393.0', '1398.0', '1403.0', '1422.0', '1427.0', '1428.0', '1429.0', '1436.0'], ['14.0', '51.0', '53.0', '102.0', '108.0', '116.0', '120.0', '122.0', '145.0', '153.0', '162.0', '184.0', '202.0', '221.0', '240.0', '349.0', '448.0', '465.0', '542.0', '600.0', '617.0', '641.0', '681.0', '813.0', '903.0', '1025.0', '1052.0', '1054.0', '1060.0', '1160.0', '1162.0', '1164.0', '1170.0', '1171.0', '1172.0', '1174.0', '1176.0', '1185.0', '1254.0', '1277.0', '1293.0', '1314.0', '1321.0', '1324.0', '1330.0', '1332.0', '1343.0', '1360.0', '1364.0', '1393.0', '1394.0', '1395.0', '1409.0', '1422.0', '1423.0', '1426.0', '1427.0', '1429.0', '1430.0', '1431.0', '1436.0', '1437.0'], ['14.0', '34.0', '40.0', '43.0', '101.0', '109.0', '110.0', '120.0', '124.0', '130.0', '164.0', '184.0', '194.0', '195.0', '221.0', '295.0', '310.0', '336.0', '379.0', '398.0', '465.0', '468.0', '617.0', '681.0', '723.0', '729.0', '785.0', '833.0', '862.0', '871.0', '898.0', '911.0', '936.0', '943.0', '996.0', '1024.0', '1047.0', '1050.0', '1163.0', '1176.0', '1185.0', '1186.0', '1274.0', '1293.0', '1296.0', '1305.0', '1330.0', '1338.0', '1351.0', '1360.0', '1364.0', '1368.0', '1393.0', '1420.0', '1423.0', '1427.0', '1430.0', '1436.0'], ['12.0', '109.0', '125.0', '142.0', '164.0', '205.0', '232.0', '302.0', '336.0', '362.0', '465.0', '555.0', '651.0', '681.0', '686.0', '730.0', '761.0', '793.0', '844.0', '880.0', '911.0', '939.0', '981.0', '1024.0', '1085.0', '1150.0', '1151.0', '1152.0', '1153.0', '1154.0', '1157.0', '1160.0', '1162.0', '1163.0', '1166.0', '1170.0', '1172.0', '1176.0', '1276.0', '1278.0', '1296.0', '1304.0', '1324.0', '1329.0', '1330.0', '1331.0', '1335.0', '1336.0', '1338.0', '1346.0', '1351.0', '1354.0', '1356.0', '1357.0', '1360.0', '1364.0', '1367.0', '1368.0', '1386.0', '1391.0', '1396.0', '1407.0', '1409.0', '1410.0', '1411.0', '1420.0', '1424.0', '1426.0', '1427.0', '1433.0', '1444.0'], ['631.0', '1052.0', '1053.0', '1054.0', '1055.0', '1056.0', '1160.0', '1162.0', '1164.0', '1165.0', '1166.0', '1170.0', '1171.0', '1172.0', '1185.0', '1186.0', '1274.0', '1293.0', '1314.0', '1317.0', '1330.0', '1336.0', '1338.0', '1343.0', '1350.0', '1351.0', '1364.0', '1368.0', '1391.0', '1393.0', '1395.0', '1420.0', '1423.0', '1424.0', '1425.0', '1426.0', '1427.0', '1428.0', '1429.0', '1431.0', '1432.0', '1435.0', '1436.0'], ['12.0', '18.0', '53.0', '98.0', '108.0', '124.0', '173.0', '193.0', '194.0', '258.0', '362.0', '464.0', '567.0', '641.0', '667.0', '730.0', '732.0', '844.0', '880.0', '981.0', '1052.0', '1160.0', '1162.0', '1163.0', '1170.0', '1176.0', '1260.0', '1261.0', '1293.0', '1314.0', '1328.0', '1336.0', '1338.0', '1343.0', '1351.0', '1354.0', '1360.0', '1364.0', '1393.0', '1395.0', '1427.0', '1428.0', '1429.0', '1430.0', '1431.0'], ['12.0', '18.0', '53.0', '98.0', '108.0', '124.0', '173.0', '193.0', '194.0', '221.0', '258.0', '362.0', '464.0', '567.0', '641.0', '667.0', '730.0', '732.0', '844.0', '880.0', '981.0', '1052.0', '1160.0', '1162.0', '1163.0', '1170.0', '1176.0', '1260.0', '1261.0', '1293.0', '1314.0', '1328.0', '1336.0', '1338.0', '1343.0', '1351.0', '1354.0', '1360.0', '1364.0', '1393.0', '1395.0', '1427.0', '1428.0', '1429.0', '1430.0', '1431.0'], ['12.0', '109.0', '125.0', '142.0', '164.0', '205.0', '232.0', '302.0', '336.0', '362.0', '465.0', '555.0', '651.0', '681.0', '686.0', '730.0', '761.0', '793.0', '844.0', '880.0', '911.0', '939.0', '981.0', '1024.0', '1085.0', '1150.0', '1151.0', '1152.0', '1153.0', '1154.0', '1157.0', '1160.0', '1162.0', '1163.0', '1166.0', '1170.0', '1172.0', '1176.0', '1276.0', '1278.0', '1296.0', '1304.0', '1324.0', '1329.0', '1330.0', '1335.0', '1336.0', '1338.0', '1346.0', '1351.0', '1354.0', '1356.0', '1357.0', '1360.0', '1364.0', '1367.0', '1368.0', '1386.0', '1391.0', '1396.0', '1407.0', '1409.0', '1410.0', '1411.0', '1420.0', '1424.0', '1426.0', '1427.0', '1433.0', '1444.0'], ['2.0', '14.0', '18.0', '26.0', '43.0', '51.0', '109.0', '110.0', '122.0', '124.0', '131.0', '152.0', '173.0', '193.0', '221.0', '241.0', '250.0', '254.0', '347.0', '350.0', '415.0', '462.0', '494.0', '510.0', '522.0', '542.0', '559.0', '593.0', '617.0', '681.0', '729.0', '768.0', '853.0', '910.0', '911.0', '936.0', '939.0', '943.0', '952.0', '969.0', '996.0', '1047.0', '1053.0', '1054.0', '1159.0', '1162.0', '1176.0', '1184.0', '1276.0', '1296.0', '1324.0', '1329.0', '1330.0', '1332.0', '1351.0', '1364.0', '1366.0', '1367.0', '1368.0', '1386.0', '1431.0', '1433.0', '1436.0'], ['14.0', '53.0', '102.0', '108.0', '145.0', '232.0', '252.0', '253.0', '297.0', '310.0', '337.0', '390.0', '415.0', '455.0', '465.0', '528.0', '658.0', '749.0', '793.0', '865.0', '868.0', '880.0', '981.0', '1160.0', '1162.0', '1163.0', '1174.0', '1178.0', '1180.0', '1185.0', '1271.0', '1296.0', '1304.0', '1305.0', '1349.0', '1351.0', '1357.0', '1368.0', '1398.0', '1400.0', '1410.0', '1411.0', '1430.0', '1431.0', '1432.0'], ['12.0', '43.0', '111.0', '124.0', '151.0', '193.0', '260.0', '464.0', '655.0', '732.0', '788.0', '1017.0', '1138.0', '1160.0', '1162.0', '1165.0', '1166.0', '1176.0', '1271.0', '1296.0', '1314.0', '1320.0', '1338.0', '1351.0', '1354.0', '1357.0', '1364.0', '1367.0', '1398.0', '1400.0', '1405.0', '1436.0'], ['12.0', '14.0', '29.0', '33.0', '43.0', '51.0', '109.0', '111.0', '130.0', '142.0', '151.0', '153.0', '162.0', '221.0', '232.0', '237.0', '244.0', '253.0', '273.0', '302.0', '315.0', '316.0', '347.0', '379.0', '382.0', '390.0', '415.0', '464.0', '468.0', '491.0', '547.0', '607.0', '609.0', '692.0', '730.0', '761.0', '763.0', '813.0', '857.0', '858.0', '876.0', '880.0', '933.0', '939.0', '967.0', '981.0', '990.0', '1014.0', '1059.0', '1157.0', '1162.0', '1164.0', '1172.0', '1186.0', '1271.0', '1276.0', '1293.0', '1305.0', '1314.0', '1320.0', '1330.0', '1332.0', '1336.0', '1338.0', '1351.0', '1357.0', '1367.0', '1368.0', '1396.0', '1422.0', '1429.0', '1432.0'], ['2.0', '14.0', '18.0', '26.0', '43.0', '51.0', '109.0', '110.0', '122.0', '124.0', '131.0', '152.0', '173.0', '193.0', '221.0', '241.0', '250.0', '254.0', '347.0', '350.0', '415.0', '462.0', '494.0', '522.0', '542.0', '559.0', '593.0', '617.0', '681.0', '729.0', '768.0', '853.0', '910.0', '911.0', '936.0', '939.0', '943.0', '952.0', '969.0', '996.0', '1053.0', '1054.0', '1159.0', '1162.0', '1176.0', '1184.0', '1276.0', '1296.0', '1324.0', '1329.0', '1330.0', '1332.0', '1351.0', '1364.0', '1366.0', '1367.0', '1368.0', '1386.0', '1431.0', '1433.0', '1436.0'], ['12.0', '14.0', '29.0', '33.0', '43.0', '51.0', '109.0', '111.0', '130.0', '142.0', '151.0', '153.0', '162.0', '221.0', '232.0', '237.0', '244.0', '253.0', '273.0', '302.0', '315.0', '316.0', '379.0', '382.0', '390.0', '415.0', '464.0', '468.0', '491.0', '547.0', '607.0', '609.0', '692.0', '730.0', '761.0', '763.0', '813.0', '857.0', '858.0', '876.0', '880.0', '933.0', '939.0', '967.0', '981.0', '990.0', '1014.0', '1059.0', '1157.0', '1162.0', '1164.0', '1172.0', '1186.0', '1271.0', '1276.0', '1293.0', '1305.0', '1314.0', '1320.0', '1330.0', '1332.0', '1336.0', '1338.0', '1351.0', '1357.0', '1367.0', '1368.0', '1396.0', '1422.0', '1429.0', '1432.0'], ['43.0', '53.0', '80.0', '164.0', '173.0', '221.0', '237.0', '268.0', '295.0', '349.0', '390.0', '427.0', '479.0', '500.0', '525.0', '547.0', '645.0', '659.0', '667.0', '669.0', '670.0', '684.0', '705.0', '730.0', '735.0', '821.0', '864.0', '892.0', '933.0', '939.0', '981.0', '1053.0', '1055.0', '1163.0', '1170.0', '1171.0', '1172.0', '1174.0', '1181.0', '1185.0', '1276.0', '1314.0', '1330.0', '1350.0', '1354.0', '1360.0', '1368.0', '1386.0', '1422.0', '1423.0', '1427.0', '1429.0', '1436.0'], ['151.0', '224.0', '729.0', '843.0', '1054.0', '1165.0', '1170.0', '1172.0', '1179.0', '1186.0', '1271.0', '1273.0', '1280.0', '1296.0', '1304.0', '1305.0', '1313.0', '1314.0', '1320.0', '1328.0', '1330.0', '1336.0', '1338.0', '1343.0', '1351.0', '1356.0', '1362.0', '1364.0', '1368.0', '1393.0', '1410.0', '1424.0', '1429.0', '1436.0'], ['57.0', '151.0', '158.0', '213.0', '273.0', '415.0', '482.0', '668.0', '692.0', '723.0', '749.0', '955.0', '968.0', '969.0', '1047.0', '1160.0', '1162.0', '1163.0', '1170.0', '1171.0', '1172.0', '1174.0', '1176.0', '1177.0', '1185.0', '1271.0', '1293.0', '1296.0', '1314.0', '1324.0', '1343.0', '1368.0', '1395.0', '1420.0', '1429.0', '1430.0'], ['12.0', '43.0', '111.0', '124.0', '151.0', '193.0', '260.0', '464.0', '655.0', '732.0', '788.0', '1017.0', '1160.0', '1162.0', '1165.0', '1166.0', '1176.0', '1271.0', '1296.0', '1314.0', '1320.0', '1338.0', '1351.0', '1354.0', '1357.0', '1367.0', '1398.0', '1400.0', '1405.0', '1436.0'], ['12.0', '43.0', '50.0', '78.0', '107.0', '109.0', '132.0', '136.0', '151.0', '158.0', '194.0', '213.0', '225.0', '230.0', '237.0', '241.0', '258.0', '283.0', '303.0', '316.0', '349.0', '362.0', '409.0', '420.0', '440.0', '470.0', '525.0', '544.0', '585.0', '622.0', '682.0', '722.0', '795.0', '821.0', '833.0', '844.0', '846.0', '865.0', '868.0', '891.0', '898.0', '939.0', '957.0', '969.0', '990.0', '1035.0', '1052.0', '1054.0', '1055.0', '1149.0', '1165.0', '1168.0', '1184.0', '1274.0', '1276.0', '1314.0', '1330.0', '1332.0', '1337.0', '1338.0', '1351.0', '1367.0', '1412.0', '1423.0', '1427.0', '1431.0'], ['28.0', '43.0', '120.0', '136.0', '151.0', '295.0', '409.0', '474.0', '600.0', '632.0', '825.0', '1016.0', '1054.0', '1164.0', '1170.0', '1176.0', '1185.0', '1276.0', '1293.0', '1314.0', '1336.0', '1338.0', '1343.0', '1354.0', '1360.0', '1393.0', '1427.0', '1428.0', '1429.0', '1431.0', '1436.0'], ['12.0', '43.0', '50.0', '78.0', '107.0', '109.0', '132.0', '136.0', '151.0', '158.0', '194.0', '225.0', '230.0', '237.0', '241.0', '258.0', '283.0', '303.0', '316.0', '349.0', '362.0', '409.0', '420.0', '440.0', '470.0', '525.0', '544.0', '585.0', '622.0', '682.0', '695.0', '722.0', '795.0', '821.0', '833.0', '844.0', '846.0', '865.0', '868.0', '891.0', '898.0', '939.0', '957.0', '969.0', '990.0', '1035.0', '1052.0', '1054.0', '1055.0', '1149.0', '1165.0', '1168.0', '1184.0', '1274.0', '1276.0', '1314.0', '1330.0', '1332.0', '1337.0', '1338.0', '1351.0', '1367.0', '1412.0', '1423.0', '1427.0', '1431.0'], ['14.0', '34.0', '57.0', '111.0', '132.0', '142.0', '173.0', '189.0', '202.0', '302.0', '379.0', '390.0', '415.0', '427.0', '528.0', '542.0', '563.0', '583.0', '593.0', '606.0', '645.0', '692.0', '695.0', '723.0', '809.0', '878.0', '898.0', '943.0', '975.0', '981.0', '1017.0', '1042.0', '1047.0', '1052.0', '1053.0', '1160.0', '1163.0', '1164.0', '1166.0', '1170.0', '1171.0', '1172.0', '1174.0', '1185.0', '1198.0', '1276.0', '1313.0', '1314.0', '1328.0', '1336.0', '1338.0', '1351.0', '1364.0', '1393.0', '1397.0', '1402.0', '1428.0', '1436.0'], ['14.0', '53.0', '102.0', '145.0', '232.0', '240.0', '252.0', '253.0', '297.0', '310.0', '337.0', '390.0', '415.0', '455.0', '465.0', '528.0', '658.0', '749.0', '793.0', '865.0', '868.0', '880.0', '981.0', '1160.0', '1162.0', '1163.0', '1174.0', '1178.0', '1180.0', '1185.0', '1296.0', '1304.0', '1305.0', '1349.0', '1351.0', '1357.0', '1368.0', '1398.0', '1400.0', '1410.0', '1411.0', '1430.0', '1431.0', '1432.0'], ['20.0', '43.0', '57.0', '98.0', '116.0', '124.0', '125.0', '268.0', '833.0', '1017.0', '1025.0', '1048.0', '1139.0', '1140.0', '1141.0', '1142.0', '1143.0', '1144.0', '1145.0', '1146.0', '1147.0', '1148.0', '1149.0', '1150.0', '1151.0', '1152.0', '1153.0', '1154.0', '1155.0', '1157.0', '1158.0', '1160.0', '1166.0', '1170.0', '1171.0', '1172.0', '1176.0', '1274.0', '1282.0', '1293.0', '1304.0', '1305.0', '1314.0', '1317.0', '1330.0', '1343.0', '1351.0', '1354.0', '1364.0', '1391.0', '1393.0', '1394.0', '1398.0', '1416.0', '1429.0', '1432.0', '1436.0'], ['36.0', '260.0', '352.0', '390.0', '477.0', '499.0', '622.0', '656.0', '795.0', '843.0', '882.0', '903.0', '965.0', '1056.0', '1163.0', '1164.0', '1166.0', '1168.0', '1170.0', '1174.0', '1185.0', '1271.0', '1274.0', '1282.0', '1305.0', '1314.0', '1317.0', '1324.0', '1330.0', '1332.0', '1336.0', '1343.0', '1350.0', '1351.0', '1354.0', '1364.0', '1367.0', '1391.0', '1395.0', '1398.0', '1416.0', '1418.0', '1424.0', '1429.0', '1431.0', '1432.0', '1436.0'], ['151.0', '729.0', '843.0', '1054.0', '1165.0', '1170.0', '1172.0', '1179.0', '1186.0', '1271.0', '1273.0', '1280.0', '1296.0', '1304.0', '1305.0', '1313.0', '1314.0', '1320.0', '1328.0', '1330.0', '1336.0', '1338.0', '1343.0', '1351.0', '1356.0', '1362.0', '1364.0', '1368.0', '1393.0', '1410.0', '1424.0', '1429.0', '1436.0'], ['14.0', '34.0', '111.0', '132.0', '142.0', '173.0', '189.0', '202.0', '302.0', '379.0', '390.0', '415.0', '427.0', '528.0', '542.0', '563.0', '583.0', '593.0', '606.0', '645.0', '692.0', '695.0', '723.0', '809.0', '878.0', '898.0', '943.0', '975.0', '981.0', '1017.0', '1042.0', '1047.0', '1052.0', '1053.0', '1160.0', '1163.0', '1164.0', '1166.0', '1170.0', '1171.0', '1172.0', '1174.0', '1185.0', '1198.0', '1276.0', '1313.0', '1314.0', '1328.0', '1336.0', '1338.0', '1351.0', '1364.0', '1393.0', '1397.0', '1402.0', '1428.0', '1436.0'], ['18.0', '57.0', '151.0', '158.0', '213.0', '273.0', '415.0', '482.0', '668.0', '692.0', '723.0', '749.0', '955.0', '968.0', '969.0', '1047.0', '1160.0', '1162.0', '1163.0', '1170.0', '1171.0', '1172.0', '1174.0', '1176.0', '1177.0', '1185.0', '1271.0', '1293.0', '1296.0', '1314.0', '1324.0', '1343.0', '1368.0', '1395.0', '1420.0', '1429.0', '1430.0'], ['43.0', '53.0', '80.0', '164.0', '173.0', '221.0', '237.0', '268.0', '295.0', '349.0', '390.0', '427.0', '479.0', '500.0', '525.0', '547.0', '645.0', '659.0', '667.0', '669.0', '670.0', '684.0', '705.0', '730.0', '735.0', '821.0', '864.0', '892.0', '933.0', '939.0', '981.0', '1053.0', '1055.0', '1163.0', '1170.0', '1171.0', '1172.0', '1174.0', '1181.0', '1185.0', '1276.0', '1314.0', '1330.0', '1350.0', '1354.0', '1360.0', '1368.0', '1422.0', '1423.0', '1427.0', '1429.0', '1436.0'], ['89.0', '108.0', '110.0', '116.0', '151.0', '164.0', '244.0', '283.0', '369.0', '422.0', '468.0', '508.0', '647.0', '651.0', '681.0', '682.0', '727.0', '732.0', '764.0', '785.0', '812.0', '933.0', '957.0', '1042.0', '1048.0', '1056.0', '1059.0', '1062.0', '1172.0', '1253.0', '1293.0', '1296.0', '1304.0', '1314.0', '1330.0', '1332.0', '1338.0', '1343.0', '1351.0', '1354.0', '1360.0', '1368.0', '1393.0', '1398.0', '1410.0', '1427.0', '1428.0', '1436.0', '1437.0'], ['74.0', '109.0', '124.0', '164.0', '193.0', '213.0', '268.0', '362.0', '583.0', '645.0', '727.0', '813.0', '990.0', '1050.0', '1162.0', '1172.0', '1176.0', '1185.0', '1276.0', '1293.0', '1330.0', '1336.0', '1343.0', '1351.0', '1354.0', '1357.0', '1364.0', '1393.0', '1395.0', '1420.0', '1423.0', '1427.0', '1429.0', '1431.0', '1432.0', '1436.0'], ['28.0', '43.0', '136.0', '151.0', '295.0', '409.0', '474.0', '600.0', '632.0', '825.0', '1016.0', '1054.0', '1164.0', '1170.0', '1176.0', '1185.0', '1276.0', '1293.0', '1314.0', '1336.0', '1338.0', '1343.0', '1354.0', '1360.0', '1393.0', '1427.0', '1428.0', '1429.0', '1431.0', '1436.0'], ['74.0', '109.0', '124.0', '164.0', '193.0', '213.0', '268.0', '362.0', '583.0', '645.0', '727.0', '813.0', '990.0', '1050.0', '1162.0', '1172.0', '1176.0', '1185.0', '1276.0', '1293.0', '1330.0', '1336.0', '1343.0', '1351.0', '1354.0', '1357.0', '1364.0', '1393.0', '1395.0', '1420.0', '1423.0', '1427.0', '1429.0', '1431.0', '1436.0'], ['89.0', '108.0', '110.0', '116.0', '151.0', '164.0', '236.0', '244.0', '283.0', '369.0', '422.0', '468.0', '508.0', '647.0', '651.0', '681.0', '682.0', '727.0', '732.0', '764.0', '785.0', '812.0', '933.0', '957.0', '1025.0', '1042.0', '1048.0', '1056.0', '1059.0', '1062.0', '1172.0', '1253.0', '1293.0', '1296.0', '1304.0', '1314.0', '1330.0', '1332.0', '1338.0', '1343.0', '1351.0', '1354.0', '1360.0', '1368.0', '1393.0', '1398.0', '1410.0', '1427.0', '1428.0', '1436.0', '1437.0'], ['34.0', '124.0', '158.0', '164.0', '256.0', '314.0', '316.0', '337.0', '382.0', '444.0', '599.0', '617.0', '655.0', '695.0', '821.0', '844.0', '928.0', '933.0', '949.0', '1052.0', '1059.0', '1161.0', '1162.0', '1163.0', '1164.0', '1169.0', '1172.0', '1173.0', '1175.0', '1189.0', '1191.0', '1271.0', '1274.0', '1298.0', '1314.0', '1320.0', '1330.0', '1336.0', '1354.0', '1357.0', '1364.0', '1393.0', '1400.0', '1416.0', '1418.0', '1429.0', '1431.0', '1436.0', '1439.0'], ['20.0', '43.0', '57.0', '98.0', '116.0', '124.0', '125.0', '268.0', '833.0', '1017.0', '1025.0', '1048.0', '1139.0', '1140.0', '1141.0', '1142.0', '1143.0', '1144.0', '1145.0', '1146.0', '1147.0', '1148.0', '1149.0', '1150.0', '1151.0', '1152.0', '1153.0', '1154.0', '1155.0', '1157.0', '1158.0', '1160.0', '1170.0', '1171.0', '1172.0', '1176.0', '1274.0', '1282.0', '1293.0', '1304.0', '1305.0', '1317.0', '1330.0', '1343.0', '1351.0', '1354.0', '1364.0', '1391.0', '1393.0', '1394.0', '1398.0', '1416.0', '1429.0', '1432.0', '1436.0'], ['36.0', '260.0', '352.0', '390.0', '477.0', '499.0', '622.0', '656.0', '795.0', '843.0', '882.0', '903.0', '965.0', '1056.0', '1163.0', '1164.0', '1166.0', '1168.0', '1170.0', '1174.0', '1185.0', '1271.0', '1274.0', '1282.0', '1305.0', '1314.0', '1317.0', '1324.0', '1330.0', '1332.0', '1336.0', '1343.0', '1350.0', '1354.0', '1364.0', '1367.0', '1391.0', '1395.0', '1398.0', '1416.0', '1418.0', '1429.0', '1431.0', '1432.0', '1436.0'], ['12.0', '20.0', '39.0', '51.0', '108.0', '130.0', '151.0', '173.0', '369.0', '411.0', '477.0', '495.0', '508.0', '542.0', '563.0', '600.0', '641.0', '651.0', '665.0', '681.0', '722.0', '812.0', '821.0', '844.0', '846.0', '906.0', '936.0', '975.0', '1051.0', '1052.0', '1053.0', '1054.0', '1061.0', '1067.0', '1159.0', '1160.0', '1163.0', '1164.0', '1165.0', '1170.0', '1190.0', '1197.0', '1260.0', '1261.0', '1276.0', '1293.0', '1336.0', '1338.0', '1349.0', '1354.0', '1386.0', '1397.0', '1403.0', '1423.0', '1426.0', '1429.0', '1436.0', '1437.0'], ['12.0', '20.0', '39.0', '51.0', '108.0', '130.0', '151.0', '173.0', '189.0', '369.0', '411.0', '477.0', '495.0', '508.0', '522.0', '542.0', '563.0', '600.0', '641.0', '651.0', '665.0', '681.0', '722.0', '812.0', '821.0', '844.0', '846.0', '906.0', '936.0', '975.0', '1051.0', '1052.0', '1053.0', '1054.0', '1061.0', '1067.0', '1159.0', '1160.0', '1163.0', '1164.0', '1165.0', '1170.0', '1190.0', '1197.0', '1260.0', '1261.0', '1276.0', '1293.0', '1336.0', '1338.0', '1349.0', '1354.0', '1386.0', '1397.0', '1403.0', '1423.0', '1426.0', '1429.0', '1436.0', '1437.0'], ['14.0', '20.0', '236.0', '237.0', '260.0', '278.0', '314.0', '337.0', '480.0', '500.0', '508.0', '524.0', '641.0', '681.0', '788.0', '939.0', '977.0', '1030.0', '1055.0', '1160.0', '1166.0', '1170.0', '1174.0', '1185.0', '1274.0', '1278.0', '1305.0', '1314.0', '1329.0', '1336.0', '1338.0', '1354.0', '1364.0', '1366.0', '1368.0', '1400.0', '1422.0', '1427.0', '1429.0', '1433.0'], ['34.0', '124.0', '158.0', '164.0', '314.0', '316.0', '337.0', '382.0', '444.0', '563.0', '599.0', '617.0', '655.0', '695.0', '821.0', '844.0', '928.0', '933.0', '949.0', '1052.0', '1059.0', '1161.0', '1162.0', '1163.0', '1164.0', '1169.0', '1172.0', '1173.0', '1175.0', '1189.0', '1191.0', '1271.0', '1274.0', '1298.0', '1314.0', '1320.0', '1330.0', '1336.0', '1354.0', '1357.0', '1364.0', '1393.0', '1400.0', '1416.0', '1418.0', '1429.0', '1431.0', '1436.0', '1439.0'], ['14.0', '40.0', '43.0', '221.0', '250.0', '253.0', '367.0', '665.0', '681.0', '782.0', '911.0', '943.0', '1055.0', '1162.0', '1163.0', '1170.0', '1172.0', '1176.0', '1185.0', '1186.0', '1293.0', '1330.0', '1333.0', '1336.0', '1343.0', '1351.0', '1354.0', '1368.0', '1411.0', '1422.0', '1424.0', '1427.0', '1429.0'], ['14.0', '33.0', '43.0', '109.0', '124.0', '164.0', '194.0', '221.0', '239.0', '254.0', '362.0', '390.0', '494.0', '559.0', '617.0', '684.0', '853.0', '865.0', '880.0', '919.0', '933.0', '943.0', '981.0', '1017.0', '1052.0', '1160.0', '1166.0', '1169.0', '1170.0', '1171.0', '1172.0', '1186.0', '1321.0', '1336.0', '1349.0', '1351.0', '1360.0', '1368.0', '1386.0', '1396.0', '1423.0', '1424.0', '1429.0', '1430.0', '1431.0', '1436.0'], ['14.0', '33.0', '43.0', '109.0', '124.0', '164.0', '194.0', '221.0', '239.0', '254.0', '362.0', '390.0', '494.0', '559.0', '617.0', '684.0', '853.0', '865.0', '880.0', '943.0', '981.0', '1017.0', '1052.0', '1160.0', '1166.0', '1169.0', '1170.0', '1171.0', '1172.0', '1186.0', '1321.0', '1336.0', '1349.0', '1351.0', '1360.0', '1368.0', '1386.0', '1396.0', '1423.0', '1424.0', '1429.0', '1430.0', '1431.0', '1436.0'], ['111.0', '113.0', '236.0', '278.0', '295.0', '362.0', '412.0', '460.0', '502.0', '528.0', '583.0', '617.0', '634.0', '679.0', '898.0', '939.0', '1052.0', '1070.0', '1106.0', '1134.0', '1142.0', '1152.0', '1153.0', '1155.0', '1157.0', '1158.0', '1163.0', '1174.0', '1271.0', '1296.0', '1313.0', '1314.0', '1320.0', '1324.0', '1328.0', '1332.0', '1359.0', '1394.0', '1400.0', '1405.0', '1406.0', '1412.0', '1418.0', '1420.0', '1427.0', '1431.0', '1432.0', '1433.0', '1434.0', '1441.0', '1443.0', '1444.0'], ['36.0', '43.0', '109.0', '164.0', '353.0', '586.0', '622.0', '651.0', '667.0', '749.0', '844.0', '898.0', '957.0', '1047.0', '1052.0', '1075.0', '1077.0', '1160.0', '1162.0', '1163.0', '1166.0', '1171.0', '1185.0', '1186.0', '1274.0', '1276.0', '1282.0', '1305.0', '1314.0', '1324.0', '1330.0', '1332.0', '1336.0', '1338.0', '1343.0', '1368.0', '1406.0', '1410.0', '1416.0', '1431.0'], ['20.0', '68.0', '236.0', '237.0', '278.0', '314.0', '337.0', '480.0', '500.0', '508.0', '641.0', '681.0', '788.0', '939.0', '977.0', '1030.0', '1055.0', '1160.0', '1166.0', '1170.0', '1174.0', '1185.0', '1274.0', '1278.0', '1305.0', '1314.0', '1336.0', '1338.0', '1354.0', '1364.0', '1366.0', '1368.0', '1400.0', '1422.0', '1427.0', '1429.0', '1433.0'], ['111.0', '236.0', '278.0', '295.0', '362.0', '412.0', '460.0', '502.0', '528.0', '583.0', '617.0', '634.0', '679.0', '898.0', '939.0', '1052.0', '1070.0', '1106.0', '1134.0', '1142.0', '1152.0', '1153.0', '1155.0', '1157.0', '1158.0', '1163.0', '1174.0', '1263.0', '1271.0', '1296.0', '1313.0', '1314.0', '1320.0', '1324.0', '1328.0', '1332.0', '1359.0', '1394.0', '1400.0', '1405.0', '1406.0', '1412.0', '1418.0', '1420.0', '1427.0', '1431.0', '1432.0', '1433.0', '1434.0', '1441.0', '1443.0', '1444.0'], ['111.0', '181.0', '316.0', '415.0', '607.0', '788.0', '1000.0', '1025.0', '1052.0', '1053.0', '1162.0', '1165.0', '1174.0', '1185.0', '1276.0', '1296.0', '1320.0', '1324.0', '1328.0', '1338.0', '1354.0', '1364.0', '1391.0', '1394.0', '1398.0', '1420.0', '1424.0', '1429.0', '1430.0'], ['8.0', '12.0', '20.0', '43.0', '50.0', '110.0', '116.0', '130.0', '131.0', '233.0', '263.0', '278.0', '297.0', '310.0', '323.0', '348.0', '409.0', '415.0', '462.0', '482.0', '617.0', '695.0', '844.0', '898.0', '933.0', '981.0', '1016.0', '1024.0', '1051.0', '1052.0', '1170.0', '1171.0', '1172.0', '1174.0', '1186.0', '1276.0', '1282.0', '1289.0', '1338.0', '1354.0', '1358.0', '1364.0', '1396.0', '1398.0', '1420.0', '1423.0', '1424.0', '1427.0', '1429.0', '1436.0'], ['8.0', '12.0', '20.0', '43.0', '50.0', '110.0', '116.0', '130.0', '131.0', '263.0', '278.0', '297.0', '310.0', '323.0', '348.0', '409.0', '415.0', '462.0', '482.0', '617.0', '695.0', '844.0', '898.0', '933.0', '948.0', '981.0', '1016.0', '1024.0', '1051.0', '1052.0', '1170.0', '1171.0', '1172.0', '1174.0', '1186.0', '1276.0', '1282.0', '1289.0', '1330.0', '1338.0', '1354.0', '1358.0', '1364.0', '1396.0', '1398.0', '1420.0', '1423.0', '1424.0', '1427.0', '1429.0', '1436.0'], ['36.0', '43.0', '53.0', '109.0', '164.0', '353.0', '586.0', '622.0', '651.0', '667.0', '749.0', '844.0', '898.0', '957.0', '1047.0', '1052.0', '1075.0', '1077.0', '1160.0', '1162.0', '1163.0', '1166.0', '1171.0', '1185.0', '1186.0', '1274.0', '1276.0', '1282.0', '1305.0', '1314.0', '1324.0', '1330.0', '1332.0', '1336.0', '1338.0', '1343.0', '1368.0', '1406.0', '1410.0', '1416.0', '1431.0'], ['14.0', '43.0', '124.0', '302.0', '349.0', '510.0', '645.0', '1048.0', '1054.0', '1162.0', '1163.0', '1166.0', '1172.0', '1185.0', '1276.0', '1293.0', '1314.0', '1320.0', '1330.0', '1349.0', '1354.0', '1364.0', '1391.0', '1393.0', '1426.0', '1427.0', '1429.0', '1436.0'], ['111.0', '181.0', '316.0', '415.0', '607.0', '788.0', '1000.0', '1025.0', '1052.0', '1053.0', '1162.0', '1165.0', '1174.0', '1185.0', '1276.0', '1296.0', '1320.0', '1324.0', '1328.0', '1338.0', '1354.0', '1364.0', '1391.0', '1394.0', '1398.0', '1420.0', '1429.0', '1430.0'], ['2.0', '12.0', '20.0', '39.0', '43.0', '53.0', '57.0', '64.0', '98.0', '101.0', '103.0', '109.0', '124.0', '125.0', '131.0', '152.0', '153.0', '162.0', '164.0', '173.0', '191.0', '193.0', '221.0', '223.0', '241.0', '253.0', '278.0', '310.0', '314.0', '315.0', '367.0', '383.0', '409.0', '448.0', '460.0', '462.0', '470.0', '524.0', '542.0', '569.0', '606.0', '641.0', '645.0', '658.0', '665.0', '759.0', '764.0', '812.0', '813.0', '833.0', '843.0', '862.0', '933.0', '935.0', '936.0', '951.0', '958.0', '981.0', '1014.0', '1016.0', '1018.0', '1048.0', '1050.0', '1052.0', '1296.0', '1314.0', '1330.0', '1364.0', '1423.0', '1427.0', '1430.0'], ['29.0', '32.0', '53.0', '57.0', '120.0', '232.0', '241.0', '250.0', '349.0', '379.0', '470.0', '485.0', '495.0', '607.0', '617.0', '670.0', '730.0', '732.0', '930.0', '1166.0', '1176.0', '1186.0', '1271.0', '1293.0', '1304.0', '1338.0', '1351.0', '1354.0', '1364.0', '1368.0', '1393.0', '1396.0', '1403.0', '1407.0', '1412.0', '1426.0', '1429.0', '1435.0'], ['2.0', '43.0', '76.0', '89.0', '109.0', '184.0', '224.0', '295.0', '316.0', '336.0', '351.0', '525.0', '569.0', '692.0', '705.0', '868.0', '933.0', '962.0', '967.0', '1014.0', '1017.0', '1054.0', '1162.0', '1164.0', '1170.0', '1185.0', '1192.0', '1293.0', '1305.0', '1351.0', '1360.0', '1364.0', '1368.0', '1393.0', '1423.0', '1427.0', '1429.0', '1430.0', '1436.0', '1439.0'], ['32.0', '34.0', '111.0', '151.0', '223.0', '337.0', '390.0', '616.0', '721.0', '723.0', '846.0', '1047.0', '1053.0', '1160.0', '1163.0', '1164.0', '1170.0', '1172.0', '1183.0', '1184.0', '1276.0', '1330.0', '1336.0', '1357.0', '1364.0', '1367.0', '1391.0', '1394.0', '1407.0', '1420.0', '1424.0', '1429.0', '1430.0', '1431.0', '1436.0', '1437.0'], ['16.0', '20.0', '98.0', '120.0', '151.0', '191.0', '194.0', '241.0', '253.0', '260.0', '268.0', '314.0', '524.0', '559.0', '600.0', '730.0', '864.0', '933.0', '1016.0', '1017.0', '1025.0', '1028.0', '1165.0', '1176.0', '1274.0', '1282.0', '1293.0', '1305.0', '1350.0', '1351.0', '1354.0', '1364.0', '1395.0', '1398.0', '1429.0', '1436.0'], ['14.0', '40.0', '43.0', '221.0', '250.0', '288.0', '367.0', '665.0', '681.0', '782.0', '911.0', '943.0', '1055.0', '1162.0', '1163.0', '1170.0', '1172.0', '1176.0', '1185.0', '1186.0', '1293.0', '1330.0', '1333.0', '1336.0', '1351.0', '1354.0', '1368.0', '1411.0', '1422.0', '1424.0', '1427.0', '1429.0'], ['20.0', '43.0', '98.0', '124.0', '252.0', '260.0', '268.0', '359.0', '508.0', '525.0', '600.0', '681.0', '684.0', '812.0', '844.0', '868.0', '878.0', '943.0', '951.0', '1048.0', '1162.0', '1164.0', '1166.0', '1170.0', '1171.0', '1172.0', '1176.0', '1185.0', '1274.0', '1276.0', '1293.0', '1304.0', '1318.0', '1324.0', '1330.0', '1336.0', '1343.0', '1351.0', '1354.0', '1364.0', '1368.0', '1393.0', '1400.0', '1420.0', '1422.0', '1431.0'], ['43.0', '109.0', '151.0', '268.0', '310.0', '329.0', '346.0', '390.0', '494.0', '525.0', '585.0', '626.0', '668.0', '732.0', '768.0', '910.0', '968.0', '981.0', '1052.0', '1170.0', '1183.0', '1185.0', '1232.0', '1293.0', '1305.0', '1363.0', '1368.0', '1391.0', '1400.0', '1406.0', '1427.0', '1429.0', '1430.0', '1431.0', '1436.0', '1439.0'], ['29.0', '32.0', '53.0', '57.0', '120.0', '232.0', '241.0', '250.0', '349.0', '379.0', '470.0', '485.0', '495.0', '607.0', '617.0', '670.0', '730.0', '732.0', '930.0', '1166.0', '1176.0', '1186.0', '1271.0', '1293.0', '1304.0', '1338.0', '1351.0', '1354.0', '1364.0', '1368.0', '1393.0', '1394.0', '1396.0', '1403.0', '1407.0', '1412.0', '1426.0', '1429.0', '1435.0'], ['14.0', '43.0', '124.0', '302.0', '349.0', '510.0', '645.0', '1048.0', '1054.0', '1163.0', '1166.0', '1172.0', '1185.0', '1276.0', '1293.0', '1314.0', '1320.0', '1330.0', '1349.0', '1354.0', '1364.0', '1391.0', '1393.0', '1426.0', '1427.0', '1429.0', '1436.0'], ['20.0', '43.0', '92.0', '98.0', '124.0', '260.0', '268.0', '359.0', '508.0', '525.0', '600.0', '681.0', '684.0', '812.0', '844.0', '868.0', '878.0', '943.0', '951.0', '1048.0', '1162.0', '1164.0', '1166.0', '1170.0', '1171.0', '1172.0', '1176.0', '1185.0', '1274.0', '1276.0', '1293.0', '1304.0', '1318.0', '1324.0', '1330.0', '1336.0', '1343.0', '1351.0', '1354.0', '1364.0', '1368.0', '1393.0', '1400.0', '1420.0', '1422.0', '1431.0'], ['2.0', '43.0', '76.0', '89.0', '109.0', '184.0', '224.0', '295.0', '316.0', '336.0', '351.0', '525.0', '569.0', '692.0', '705.0', '868.0', '933.0', '962.0', '967.0', '1014.0', '1017.0', '1054.0', '1162.0', '1164.0', '1170.0', '1185.0', '1192.0', '1293.0', '1305.0', '1351.0', '1360.0', '1364.0', '1368.0', '1393.0', '1423.0', '1427.0', '1429.0', '1430.0', '1436.0', '1439.0'], ['2.0', '12.0', '20.0', '39.0', '43.0', '53.0', '57.0', '64.0', '98.0', '101.0', '103.0', '109.0', '124.0', '125.0', '131.0', '152.0', '153.0', '162.0', '164.0', '173.0', '191.0', '193.0', '221.0', '223.0', '241.0', '253.0', '278.0', '310.0', '314.0', '315.0', '367.0', '383.0', '409.0', '448.0', '460.0', '462.0', '470.0', '524.0', '542.0', '569.0', '606.0', '641.0', '645.0', '658.0', '665.0', '759.0', '764.0', '812.0', '813.0', '833.0', '843.0', '862.0', '911.0', '933.0', '935.0', '936.0', '951.0', '958.0', '981.0', '1014.0', '1016.0', '1018.0', '1048.0', '1050.0', '1052.0', '1296.0', '1314.0', '1330.0', '1364.0', '1423.0', '1427.0', '1430.0'], ['16.0', '20.0', '98.0', '120.0', '151.0', '191.0', '194.0', '241.0', '260.0', '268.0', '314.0', '524.0', '559.0', '600.0', '730.0', '864.0', '933.0', '1016.0', '1017.0', '1025.0', '1028.0', '1048.0', '1165.0', '1176.0', '1274.0', '1282.0', '1293.0', '1305.0', '1350.0', '1351.0', '1354.0', '1364.0', '1395.0', '1398.0', '1429.0', '1436.0'], ['80.0', '224.0', '252.0', '266.0', '495.0', '542.0', '641.0', '651.0', '723.0', '749.0', '981.0', '1054.0', '1160.0', '1163.0', '1172.0', '1176.0', '1271.0', '1274.0', '1276.0', '1277.0', '1278.0', '1330.0', '1338.0', '1360.0', '1366.0', '1386.0', '1397.0', '1405.0', '1422.0', '1427.0'], ['26.0', '74.0', '103.0', '109.0', '120.0', '125.0', '268.0', '349.0', '725.0', '729.0', '833.0', '878.0', '1014.0', '1025.0', '1160.0', '1171.0', '1172.0', '1174.0', '1185.0', '1304.0', '1305.0', '1314.0', '1317.0', '1330.0', '1338.0', '1343.0', '1368.0', '1393.0', '1394.0', '1395.0', '1396.0', '1433.0', '1437.0'], ['53.0', '98.0', '103.0', '109.0', '241.0', '291.0', '730.0', '749.0', '844.0', '958.0', '967.0', '975.0', '996.0', '1052.0', '1053.0', '1060.0', '1181.0', '1274.0', '1282.0', '1293.0', '1304.0', '1343.0', '1357.0', '1366.0', '1397.0', '1398.0', '1423.0', '1432.0', '1436.0'], ['16.0', '43.0', '109.0', '120.0', '124.0', '164.0', '194.0', '349.0', '622.0', '651.0', '957.0', '965.0', '1055.0', '1060.0', '1070.0', '1071.0', '1073.0', '1139.0', '1157.0', '1170.0', '1172.0', '1185.0', '1271.0', '1274.0', '1276.0', '1314.0', '1324.0', '1328.0', '1330.0', '1336.0', '1351.0', '1360.0', '1364.0', '1420.0', '1422.0', '1426.0', '1429.0', '1431.0', '1434.0', '1437.0', '1439.0'], ['16.0', '43.0', '109.0', '120.0', '122.0', '124.0', '164.0', '194.0', '349.0', '622.0', '651.0', '957.0', '965.0', '1055.0', '1060.0', '1070.0', '1071.0', '1073.0', '1139.0', '1157.0', '1170.0', '1172.0', '1185.0', '1271.0', '1274.0', '1276.0', '1314.0', '1324.0', '1328.0', '1330.0', '1336.0', '1351.0', '1360.0', '1364.0', '1420.0', '1422.0', '1426.0', '1429.0', '1431.0', '1434.0', '1437.0', '1439.0'], ['26.0', '103.0', '125.0', '164.0', '191.0', '194.0', '390.0', '412.0', '470.0', '482.0', '651.0', '684.0', '730.0', '732.0', '788.0', '1054.0', '1161.0', '1162.0', '1166.0', '1170.0', '1185.0', '1227.0', '1271.0', '1274.0', '1277.0', '1298.0', '1304.0', '1305.0', '1313.0', '1314.0', '1324.0', '1343.0', '1351.0', '1354.0', '1363.0', '1364.0', '1386.0', '1393.0', '1398.0'], ['33.0', '68.0', '74.0', '110.0', '120.0', '124.0', '176.0', '194.0', '313.0', '316.0', '444.0', '542.0', '729.0', '812.0', '821.0', '844.0', '855.0', '962.0', '967.0', '969.0', '1017.0', '1050.0', '1054.0', '1055.0', '1057.0', '1059.0', '1068.0', '1120.0', '1162.0', '1164.0', '1168.0', '1172.0', '1199.0', '1274.0', '1336.0', '1351.0', '1364.0', '1398.0', '1425.0', '1431.0'], ['20.0', '33.0', '34.0', '68.0', '98.0', '110.0', '124.0', '151.0', '189.0', '202.0', '240.0', '263.0', '268.0', '349.0', '353.0', '359.0', '415.0', '444.0', '462.0', '525.0', '542.0', '645.0', '681.0', '684.0', '692.0', '720.0', '812.0', '821.0', '878.0', '965.0', '967.0', '975.0', '1006.0', '1014.0', '1017.0', '1047.0', '1050.0', '1055.0', '1056.0', '1137.0', '1154.0', '1170.0', '1171.0', '1172.0', '1185.0', '1263.0', '1293.0', '1304.0', '1330.0', '1336.0', '1338.0', '1343.0', '1351.0', '1364.0', '1394.0', '1395.0', '1398.0', '1436.0'], ['32.0', '34.0', '111.0', '151.0', '223.0', '337.0', '390.0', '616.0', '721.0', '846.0', '1047.0', '1053.0', '1160.0', '1163.0', '1164.0', '1170.0', '1172.0', '1183.0', '1184.0', '1276.0', '1330.0', '1336.0', '1357.0', '1364.0', '1367.0', '1391.0', '1394.0', '1407.0', '1420.0', '1424.0', '1429.0', '1430.0', '1431.0', '1436.0', '1437.0'], ['53.0', '98.0', '103.0', '109.0', '241.0', '600.0', '730.0', '749.0', '844.0', '958.0', '967.0', '975.0', '996.0', '1052.0', '1053.0', '1060.0', '1181.0', '1274.0', '1282.0', '1293.0', '1304.0', '1343.0', '1357.0', '1366.0', '1397.0', '1398.0', '1423.0', '1432.0', '1436.0'], ['4.0', '33.0', '68.0', '74.0', '110.0', '120.0', '124.0', '176.0', '194.0', '313.0', '316.0', '542.0', '729.0', '812.0', '821.0', '844.0', '855.0', '962.0', '967.0', '969.0', '1017.0', '1050.0', '1054.0', '1055.0', '1057.0', '1059.0', '1068.0', '1120.0', '1162.0', '1164.0', '1168.0', '1172.0', '1199.0', '1274.0', '1336.0', '1351.0', '1364.0', '1398.0', '1425.0', '1431.0'], ['43.0', '109.0', '268.0', '310.0', '329.0', '346.0', '390.0', '494.0', '525.0', '585.0', '626.0', '668.0', '732.0', '768.0', '910.0', '968.0', '981.0', '1052.0', '1170.0', '1183.0', '1185.0', '1232.0', '1293.0', '1305.0', '1363.0', '1368.0', '1391.0', '1400.0', '1406.0', '1427.0', '1429.0', '1430.0', '1431.0', '1436.0', '1439.0'], ['20.0', '33.0', '34.0', '68.0', '98.0', '110.0', '124.0', '151.0', '189.0', '202.0', '240.0', '263.0', '268.0', '349.0', '359.0', '415.0', '444.0', '462.0', '525.0', '542.0', '645.0', '681.0', '684.0', '692.0', '720.0', '812.0', '821.0', '878.0', '965.0', '967.0', '975.0', '1006.0', '1014.0', '1017.0', '1047.0', '1050.0', '1055.0', '1056.0', '1137.0', '1154.0', '1170.0', '1171.0', '1172.0', '1185.0', '1263.0', '1293.0', '1304.0', '1330.0', '1336.0', '1338.0', '1343.0', '1351.0', '1364.0', '1394.0', '1395.0', '1398.0', '1436.0'], ['26.0', '103.0', '125.0', '164.0', '191.0', '194.0', '390.0', '412.0', '470.0', '482.0', '651.0', '684.0', '730.0', '732.0', '788.0', '1054.0', '1161.0', '1162.0', '1166.0', '1185.0', '1227.0', '1271.0', '1274.0', '1277.0', '1298.0', '1304.0', '1305.0', '1313.0', '1314.0', '1324.0', '1343.0', '1351.0', '1354.0', '1363.0', '1364.0', '1386.0', '1393.0', '1398.0'], ['74.0', '151.0', '152.0', '268.0', '311.0', '349.0', '359.0', '528.0', '641.0', '684.0', '735.0', '768.0', '910.0', '1162.0', '1172.0', '1174.0', '1271.0', '1279.0', '1293.0', '1305.0', '1314.0', '1336.0', '1343.0', '1364.0', '1368.0', '1393.0', '1395.0', '1427.0'], ['12.0', '20.0', '29.0', '43.0', '50.0', '62.0', '109.0', '116.0', '120.0', '193.0', '213.0', '381.0', '681.0', '720.0', '721.0', '735.0', '784.0', '788.0', '868.0', '957.0', '977.0', '1035.0', '1057.0', '1059.0', '1165.0', '1172.0', '1192.0', '1225.0', '1271.0', '1293.0', '1314.0', '1330.0', '1343.0', '1351.0', '1360.0', '1397.0', '1429.0', '1431.0', '1432.0', '1436.0'], ['12.0', '20.0', '29.0', '43.0', '50.0', '62.0', '109.0', '116.0', '120.0', '193.0', '213.0', '381.0', '681.0', '720.0', '721.0', '735.0', '784.0', '788.0', '868.0', '957.0', '977.0', '1035.0', '1057.0', '1059.0', '1165.0', '1172.0', '1192.0', '1225.0', '1271.0', '1293.0', '1314.0', '1330.0', '1343.0', '1351.0', '1360.0', '1397.0', '1429.0', '1431.0', '1432.0', '1436.0'], ['32.0', '43.0', '54.0', '76.0', '221.0', '225.0', '239.0', '240.0', '252.0', '310.0', '362.0', '369.0', '379.0', '411.0', '444.0', '473.0', '485.0', '510.0', '600.0', '609.0', '679.0', '721.0', '882.0', '892.0', '1014.0', '1055.0', '1160.0', '1163.0', '1170.0', '1171.0', '1172.0', '1173.0', '1286.0', '1304.0', '1305.0', '1330.0', '1338.0', '1351.0', '1354.0', '1420.0', '1423.0', '1429.0', '1430.0', '1431.0', '1432.0'], ['53.0', '109.0', '120.0', '151.0', '153.0', '164.0', '193.0', '205.0', '311.0', '415.0', '464.0', '477.0', '482.0', '508.0', '593.0', '732.0', '812.0', '1047.0', '1058.0', '1059.0', '1060.0', '1079.0', '1143.0', '1150.0', '1166.0', '1185.0', '1189.0', '1191.0', '1195.0', '1198.0', '1219.0', '1271.0', '1278.0', '1280.0', '1296.0', '1313.0', '1320.0', '1328.0', '1330.0', '1331.0', '1356.0', '1362.0', '1398.0', '1401.0', '1402.0', '1403.0', '1404.0', '1405.0', '1406.0', '1407.0', '1409.0', '1410.0', '1412.0', '1418.0', '1424.0', '1429.0'], ['51.0', '109.0', '164.0', '193.0', '329.0', '725.0', '1025.0', '1054.0', '1157.0', '1160.0', '1185.0', '1282.0', '1314.0', '1317.0', '1338.0', '1343.0', '1354.0', '1364.0', '1368.0', '1393.0', '1394.0', '1398.0', '1410.0', '1423.0', '1432.0'], ['26.0', '74.0', '103.0', '109.0', '125.0', '268.0', '349.0', '725.0', '729.0', '833.0', '878.0', '1014.0', '1025.0', '1160.0', '1171.0', '1172.0', '1174.0', '1185.0', '1304.0', '1305.0', '1313.0', '1314.0', '1317.0', '1330.0', '1338.0', '1343.0', '1368.0', '1393.0', '1394.0', '1395.0', '1396.0', '1433.0', '1437.0'], ['2.0', '8.0', '26.0', '74.0', '103.0', '109.0', '113.0', '120.0', '124.0', '130.0', '162.0', '184.0', '193.0', '251.0', '329.0', '336.0', '409.0', '422.0', '491.0', '510.0', '969.0', '1014.0', '1017.0', '1024.0', '1047.0', '1052.0', '1138.0', '1145.0', '1154.0', '1155.0', '1157.0', '1158.0', '1166.0', '1170.0', '1174.0', '1185.0', '1324.0', '1354.0', '1364.0', '1394.0', '1429.0', '1431.0', '1432.0'], ['162.0', '634.0', '658.0', '722.0', '821.0', '958.0', '1042.0', '1052.0', '1158.0', '1160.0', '1186.0', '1208.0', '1263.0', '1271.0', '1296.0', '1313.0', '1314.0', '1320.0', '1328.0', '1357.0', '1396.0', '1398.0', '1400.0', '1403.0', '1405.0', '1407.0', '1408.0', '1409.0', '1410.0', '1411.0', '1437.0', '1443.0'], ['152.0', '194.0', '237.0', '500.0', '656.0', '1314.0', '1338.0', '1351.0', '1360.0', '1364.0', '1386.0', '1393.0', '1394.0', '1427.0', '1429.0', '1431.0', '1432.0', '1436.0'], ['151.0', '152.0', '251.0', '268.0', '311.0', '349.0', '359.0', '525.0', '528.0', '641.0', '684.0', '735.0', '768.0', '910.0', '1162.0', '1172.0', '1174.0', '1271.0', '1279.0', '1293.0', '1305.0', '1314.0', '1336.0', '1343.0', '1364.0', '1368.0', '1393.0', '1395.0', '1427.0'], ['32.0', '43.0', '54.0', '76.0', '158.0', '221.0', '225.0', '239.0', '240.0', '252.0', '310.0', '362.0', '369.0', '379.0', '411.0', '444.0', '473.0', '485.0', '510.0', '600.0', '609.0', '679.0', '721.0', '882.0', '892.0', '1014.0', '1055.0', '1160.0', '1163.0', '1170.0', '1171.0', '1172.0', '1173.0', '1286.0', '1304.0', '1305.0', '1338.0', '1351.0', '1354.0', '1420.0', '1423.0', '1429.0', '1430.0', '1431.0', '1432.0'], ['8.0', '14.0', '57.0', '92.0', '98.0', '108.0', '111.0', '142.0', '202.0', '349.0', '415.0', '729.0', '795.0', '844.0', '969.0', '1025.0', '1160.0', '1163.0', '1164.0', '1165.0', '1170.0', '1172.0', '1175.0', '1276.0', '1321.0', '1329.0', '1330.0', '1331.0', '1336.0', '1360.0', '1430.0', '1433.0', '1436.0', '1437.0'], ['43.0', '53.0', '64.0', '65.0', '103.0', '107.0', '110.0', '122.0', '152.0', '205.0', '221.0', '237.0', '346.0', '349.0', '390.0', '409.0', '477.0', '723.0', '729.0', '813.0', '1014.0', '1052.0', '1163.0', '1172.0', '1278.0', '1368.0', '1386.0', '1427.0', '1436.0'], ['240.0', '359.0', '395.0', '1153.0', '1160.0', '1165.0', '1174.0', '1185.0', '1330.0', '1336.0', '1343.0', '1351.0', '1354.0', '1357.0', '1360.0', '1398.0', '1431.0', '1433.0', '1436.0'], ['359.0', '395.0', '1153.0', '1160.0', '1165.0', '1174.0', '1185.0', '1330.0', '1336.0', '1343.0', '1351.0', '1354.0', '1357.0', '1360.0', '1398.0', '1431.0', '1433.0', '1436.0'], ['53.0', '109.0', '120.0', '151.0', '153.0', '164.0', '193.0', '205.0', '311.0', '415.0', '464.0', '477.0', '482.0', '508.0', '593.0', '732.0', '812.0', '1047.0', '1058.0', '1059.0', '1060.0', '1079.0', '1143.0', '1150.0', '1166.0', '1185.0', '1189.0', '1191.0', '1195.0', '1198.0', '1219.0', '1271.0', '1278.0', '1280.0', '1296.0', '1313.0', '1320.0', '1328.0', '1330.0', '1331.0', '1356.0', '1362.0', '1398.0', '1401.0', '1402.0', '1403.0', '1404.0', '1405.0', '1406.0', '1407.0', '1409.0', '1410.0', '1412.0', '1418.0', '1424.0', '1429.0'], ['8.0', '12.0', '33.0', '110.0', '113.0', '124.0', '125.0', '131.0', '136.0', '151.0', '189.0', '210.0', '239.0', '260.0', '268.0', '382.0', '409.0', '440.0', '444.0', '547.0', '557.0', '593.0', '599.0', '645.0', '658.0', '677.0', '682.0', '692.0', '725.0', '729.0', '766.0', '788.0', '795.0', '882.0', '891.0', '919.0', '955.0', '957.0', '969.0', '1015.0', '1162.0', '1164.0', '1304.0', '1330.0', '1343.0', '1364.0', '1395.0', '1416.0', '1422.0', '1424.0', '1425.0', '1431.0'], ['43.0', '53.0', '64.0', '65.0', '103.0', '110.0', '122.0', '152.0', '221.0', '237.0', '346.0', '349.0', '390.0', '409.0', '477.0', '723.0', '729.0', '813.0', '1014.0', '1052.0', '1163.0', '1172.0', '1278.0', '1368.0', '1386.0', '1427.0', '1436.0'], ['51.0', '109.0', '193.0', '194.0', '329.0', '725.0', '1025.0', '1054.0', '1157.0', '1160.0', '1185.0', '1282.0', '1314.0', '1317.0', '1338.0', '1343.0', '1354.0', '1364.0', '1368.0', '1393.0', '1394.0', '1398.0', '1410.0', '1423.0', '1432.0'], ['162.0', '634.0', '658.0', '722.0', '821.0', '958.0', '1042.0', '1052.0', '1158.0', '1160.0', '1186.0', '1208.0', '1263.0', '1271.0', '1296.0', '1313.0', '1314.0', '1320.0', '1328.0', '1357.0', '1396.0', '1398.0', '1400.0', '1403.0', '1405.0', '1407.0', '1408.0', '1409.0', '1410.0', '1411.0', '1437.0', '1443.0'], ['8.0', '12.0', '33.0', '110.0', '113.0', '124.0', '125.0', '131.0', '136.0', '151.0', '189.0', '210.0', '239.0', '260.0', '268.0', '382.0', '409.0', '440.0', '444.0', '547.0', '557.0', '593.0', '599.0', '645.0', '658.0', '677.0', '682.0', '692.0', '725.0', '729.0', '766.0', '788.0', '795.0', '882.0', '891.0', '919.0', '955.0', '957.0', '969.0', '1015.0', '1162.0', '1164.0', '1304.0', '1330.0', '1343.0', '1364.0', '1395.0', '1416.0', '1422.0', '1424.0', '1425.0', '1431.0'], ['80.0', '224.0', '252.0', '266.0', '495.0', '542.0', '641.0', '651.0', '723.0', '749.0', '981.0', '1054.0', '1160.0', '1163.0', '1172.0', '1271.0', '1274.0', '1276.0', '1277.0', '1278.0', '1330.0', '1338.0', '1360.0', '1366.0', '1386.0', '1397.0', '1405.0', '1422.0', '1427.0'], ['15.0', '64.0', '117.0', '268.0', '349.0', '353.0', '389.0', '411.0', '485.0', '600.0', '684.0', '821.0', '891.0', '951.0', '968.0', '986.0', '1158.0', '1162.0', '1163.0', '1185.0', '1282.0', '1286.0', '1289.0', '1296.0', '1304.0', '1305.0', '1332.0', '1336.0', '1338.0', '1367.0', '1394.0', '1398.0', '1400.0', '1401.0', '1402.0', '1404.0', '1412.0', '1416.0', '1420.0', '1422.0', '1443.0'], ['20.0', '33.0', '43.0', '68.0', '76.0', '109.0', '116.0', '124.0', '210.0', '232.0', '237.0', '241.0', '268.0', '278.0', '284.0', '315.0', '409.0', '500.0', '600.0', '721.0', '725.0', '855.0', '864.0', '887.0', '1004.0', '1016.0', '1028.0', '1050.0', '1052.0', '1053.0', '1162.0', '1166.0', '1170.0', '1171.0', '1176.0', '1184.0', '1276.0', '1336.0', '1354.0', '1364.0', '1393.0', '1398.0', '1420.0', '1424.0', '1426.0', '1427.0', '1429.0', '1431.0'], ['8.0', '62.0', '237.0', '314.0', '409.0', '448.0', '470.0', '510.0', '544.0', '766.0', '957.0', '962.0', '975.0', '990.0', '1014.0', '1053.0', '1055.0', '1056.0', '1060.0', '1062.0', '1166.0', '1170.0', '1171.0', '1172.0', '1304.0', '1317.0', '1330.0', '1354.0', '1364.0', '1391.0', '1395.0', '1423.0', '1424.0', '1425.0', '1426.0', '1428.0', '1429.0', '1431.0', '1436.0'], ['8.0', '62.0', '237.0', '314.0', '409.0', '448.0', '470.0', '510.0', '544.0', '766.0', '957.0', '975.0', '990.0', '1014.0', '1053.0', '1055.0', '1056.0', '1060.0', '1062.0', '1166.0', '1170.0', '1171.0', '1172.0', '1304.0', '1330.0', '1354.0', '1364.0', '1391.0', '1395.0', '1423.0', '1424.0', '1425.0', '1426.0', '1428.0', '1429.0', '1431.0', '1436.0'], ['0.0', '12.0', '64.0', '120.0', '237.0', '409.0', '477.0', '547.0', '729.0', '910.0', '1054.0', '1066.0', '1112.0', '1124.0', '1155.0', '1160.0', '1171.0', '1176.0', '1274.0', '1292.0', '1296.0', '1338.0', '1364.0', '1387.0', '1394.0', '1422.0', '1426.0', '1428.0', '1429.0', '1439.0'], ['20.0', '33.0', '43.0', '68.0', '76.0', '109.0', '116.0', '124.0', '210.0', '232.0', '237.0', '241.0', '268.0', '278.0', '284.0', '315.0', '409.0', '500.0', '600.0', '721.0', '725.0', '855.0', '864.0', '887.0', '1004.0', '1016.0', '1028.0', '1050.0', '1052.0', '1053.0', '1162.0', '1166.0', '1170.0', '1171.0', '1176.0', '1184.0', '1276.0', '1336.0', '1354.0', '1364.0', '1393.0', '1398.0', '1420.0', '1424.0', '1426.0', '1427.0', '1429.0', '1431.0'], ['152.0', '237.0', '500.0', '656.0', '1314.0', '1351.0', '1360.0', '1364.0', '1386.0', '1393.0', '1394.0', '1427.0', '1429.0', '1431.0', '1432.0', '1436.0'], ['2.0', '8.0', '26.0', '74.0', '103.0', '109.0', '113.0', '120.0', '124.0', '162.0', '184.0', '193.0', '251.0', '329.0', '336.0', '409.0', '422.0', '491.0', '510.0', '969.0', '1014.0', '1017.0', '1024.0', '1047.0', '1052.0', '1138.0', '1145.0', '1154.0', '1155.0', '1157.0', '1158.0', '1166.0', '1170.0', '1174.0', '1185.0', '1324.0', '1364.0', '1394.0', '1429.0', '1431.0', '1432.0'], ['32.0', '62.0', '98.0', '162.0', '311.0', '462.0', '482.0', '542.0', '544.0', '681.0', '910.0', '957.0', '969.0', '1152.0', '1160.0', '1165.0', '1170.0', '1278.0', '1304.0', '1330.0', '1351.0', '1368.0', '1393.0', '1430.0', '1431.0'], ['8.0', '39.0', '138.0', '145.0', '152.0', '202.0', '237.0', '241.0', '253.0', '350.0', '362.0', '398.0', '444.0', '486.0', '528.0', '567.0', '645.0', '669.0', '730.0', '795.0', '846.0', '969.0', '975.0', '1164.0', '1186.0', '1276.0', '1277.0', '1338.0', '1354.0', '1357.0', '1360.0', '1364.0', '1368.0', '1427.0', '1443.0'], ['477.0', '1162.0', '1170.0', '1276.0', '1330.0', '1343.0', '1350.0', '1351.0', '1360.0', '1364.0', '1366.0', '1393.0', '1396.0', '1427.0', '1430.0', '1433.0', '1436.0'], ['15.0', '64.0', '117.0', '268.0', '349.0', '353.0', '389.0', '411.0', '485.0', '600.0', '684.0', '821.0', '891.0', '951.0', '968.0', '986.0', '1158.0', '1162.0', '1163.0', '1185.0', '1282.0', '1286.0', '1289.0', '1296.0', '1304.0', '1305.0', '1332.0', '1336.0', '1338.0', '1367.0', '1394.0', '1398.0', '1400.0', '1401.0', '1402.0', '1404.0', '1412.0', '1416.0', '1420.0', '1422.0', '1443.0'], ['51.0', '64.0', '138.0', '158.0', '336.0', '448.0', '1024.0', '1162.0', '1165.0', '1185.0', '1274.0', '1278.0', '1293.0', '1330.0', '1343.0', '1351.0', '1364.0', '1368.0', '1386.0', '1393.0', '1398.0', '1429.0'], ['33.0', '53.0', '112.0', '124.0', '221.0', '369.0', '382.0', '468.0', '651.0', '681.0', '682.0', '730.0', '805.0', '1008.0', '1054.0', '1055.0', '1165.0', '1176.0', '1198.0', '1257.0', '1274.0', '1277.0', '1286.0', '1304.0', '1305.0', '1314.0', '1317.0', '1329.0', '1343.0', '1360.0', '1364.0', '1366.0', '1395.0', '1400.0', '1423.0', '1428.0'], ['12.0', '29.0', '33.0', '43.0', '74.0', '164.0', '409.0', '460.0', '491.0', '495.0', '645.0', '720.0', '812.0', '957.0', '958.0', '968.0', '977.0', '993.0', '1025.0', '1271.0', '1276.0', '1314.0', '1330.0', '1358.0', '1360.0', '1364.0', '1427.0', '1429.0', '1431.0', '1432.0'], ['20.0', '51.0', '64.0', '138.0', '158.0', '336.0', '448.0', '1024.0', '1162.0', '1165.0', '1185.0', '1274.0', '1278.0', '1293.0', '1330.0', '1343.0', '1351.0', '1364.0', '1368.0', '1386.0', '1393.0', '1398.0', '1429.0'], ['0.0', '12.0', '64.0', '120.0', '237.0', '409.0', '477.0', '547.0', '729.0', '910.0', '1054.0', '1066.0', '1112.0', '1124.0', '1155.0', '1160.0', '1171.0', '1176.0', '1292.0', '1296.0', '1338.0', '1364.0', '1387.0', '1394.0', '1422.0', '1426.0', '1428.0', '1429.0', '1439.0'], ['12.0', '29.0', '33.0', '43.0', '74.0', '409.0', '460.0', '491.0', '495.0', '645.0', '720.0', '812.0', '957.0', '958.0', '968.0', '977.0', '993.0', '1025.0', '1271.0', '1276.0', '1314.0', '1330.0', '1358.0', '1360.0', '1364.0', '1427.0', '1429.0', '1431.0', '1432.0'], ['477.0', '1162.0', '1170.0', '1276.0', '1330.0', '1343.0', '1350.0', '1351.0', '1360.0', '1364.0', '1366.0', '1393.0', '1396.0', '1427.0', '1430.0', '1433.0', '1436.0'], ['28.0', '43.0', '50.0', '92.0', '109.0', '164.0', '339.0', '362.0', '440.0', '569.0', '681.0', '732.0', '910.0', '957.0', '958.0', '967.0', '969.0', '1057.0', '1066.0', '1168.0', '1169.0', '1180.0', '1185.0', '1274.0', '1276.0', '1296.0', '1304.0', '1349.0', '1351.0', '1427.0', '1429.0', '1431.0', '1437.0'], ['18.0', '50.0', '54.0', '108.0', '122.0', '152.0', '223.0', '311.0', '412.0', '415.0', '440.0', '464.0', '482.0', '532.0', '606.0', '732.0', '735.0', '744.0', '768.0', '812.0', '880.0', '910.0', '939.0', '943.0', '957.0', '958.0', '1162.0', '1185.0', '1271.0', '1295.0', '1338.0', '1366.0', '1367.0', '1368.0', '1404.0', '1409.0', '1427.0', '1435.0'], ['28.0', '43.0', '50.0', '92.0', '109.0', '131.0', '164.0', '339.0', '362.0', '440.0', '569.0', '681.0', '732.0', '910.0', '957.0', '958.0', '967.0', '969.0', '1057.0', '1066.0', '1168.0', '1169.0', '1180.0', '1185.0', '1274.0', '1276.0', '1296.0', '1304.0', '1349.0', '1351.0', '1427.0', '1429.0', '1431.0', '1437.0'], ['14.0', '18.0', '20.0', '101.0', '108.0', '240.0', '260.0', '346.0', '463.0', '479.0', '641.0', '681.0', '732.0', '782.0', '1024.0', '1053.0', '1054.0', '1055.0', '1056.0', '1135.0', '1157.0', '1160.0', '1170.0', '1186.0', '1198.0', '1279.0', '1282.0', '1294.0', '1321.0', '1348.0', '1354.0', '1360.0', '1361.0', '1393.0', '1398.0', '1403.0', '1406.0', '1407.0', '1415.0', '1436.0'], ['8.0', '18.0', '57.0', '92.0', '98.0', '108.0', '111.0', '142.0', '202.0', '349.0', '415.0', '729.0', '795.0', '844.0', '969.0', '1025.0', '1160.0', '1163.0', '1164.0', '1165.0', '1170.0', '1172.0', '1175.0', '1276.0', '1321.0', '1329.0', '1330.0', '1331.0', '1336.0', '1360.0', '1430.0', '1433.0', '1436.0', '1437.0'], ['62.0', '98.0', '162.0', '311.0', '462.0', '482.0', '542.0', '544.0', '681.0', '692.0', '910.0', '957.0', '969.0', '1152.0', '1160.0', '1165.0', '1170.0', '1278.0', '1304.0', '1330.0', '1351.0', '1368.0', '1393.0', '1430.0', '1431.0'], ['14.0', '20.0', '101.0', '108.0', '110.0', '240.0', '260.0', '346.0', '463.0', '479.0', '641.0', '681.0', '732.0', '1024.0', '1053.0', '1054.0', '1055.0', '1056.0', '1135.0', '1157.0', '1160.0', '1170.0', '1186.0', '1198.0', '1279.0', '1282.0', '1294.0', '1321.0', '1354.0', '1360.0', '1361.0', '1393.0', '1398.0', '1403.0', '1406.0', '1407.0', '1415.0', '1436.0'], ['39.0', '138.0', '145.0', '152.0', '202.0', '237.0', '241.0', '253.0', '350.0', '362.0', '398.0', '444.0', '486.0', '528.0', '567.0', '645.0', '669.0', '730.0', '795.0', '846.0', '969.0', '975.0', '1164.0', '1186.0', '1276.0', '1277.0', '1338.0', '1354.0', '1357.0', '1360.0', '1364.0', '1368.0', '1427.0', '1437.0', '1443.0'], ['50.0', '54.0', '108.0', '122.0', '152.0', '223.0', '284.0', '311.0', '412.0', '415.0', '440.0', '464.0', '482.0', '532.0', '606.0', '732.0', '735.0', '744.0', '768.0', '812.0', '880.0', '910.0', '939.0', '943.0', '957.0', '958.0', '990.0', '1162.0', '1185.0', '1271.0', '1295.0', '1338.0', '1366.0', '1367.0', '1368.0', '1404.0', '1409.0', '1427.0', '1435.0'], ['29.0', '39.0', '50.0', '103.0', '164.0', '194.0', '202.0', '237.0', '251.0', '310.0', '681.0', '821.0', '959.0', '1016.0', '1158.0', '1165.0', '1276.0', '1293.0', '1304.0', '1305.0', '1314.0', '1343.0', '1354.0', '1368.0', '1427.0', '1428.0', '1431.0'], ['43.0', '78.0', '92.0', '109.0', '113.0', '124.0', '131.0', '162.0', '164.0', '258.0', '260.0', '316.0', '352.0', '464.0', '495.0', '508.0', '606.0', '656.0', '684.0', '692.0', '795.0', '812.0', '1014.0', '1017.0', '1054.0', '1162.0', '1164.0', '1165.0', '1166.0', '1297.0', '1299.0', '1330.0', '1336.0', '1337.0', '1351.0', '1354.0', '1364.0', '1398.0', '1424.0', '1427.0', '1436.0'], ['12.0', '116.0', '122.0', '138.0', '194.0', '316.0', '428.0', '525.0', '600.0', '684.0', '693.0', '721.0', '732.0', '891.0', '1054.0', '1060.0', '1160.0', '1162.0', '1293.0', '1304.0', '1320.0', '1329.0', '1330.0', '1343.0', '1364.0', '1395.0', '1422.0', '1424.0', '1427.0', '1437.0'], ['12.0', '20.0', '116.0', '122.0', '138.0', '316.0', '428.0', '525.0', '600.0', '684.0', '693.0', '721.0', '732.0', '891.0', '1054.0', '1060.0', '1160.0', '1162.0', '1293.0', '1304.0', '1320.0', '1329.0', '1330.0', '1343.0', '1364.0', '1395.0', '1422.0', '1424.0', '1427.0', '1437.0'], ['57.0', '116.0', '162.0', '213.0', '221.0', '268.0', '303.0', '311.0', '314.0', '359.0', '508.0', '665.0', '670.0', '729.0', '732.0', '768.0', '865.0', '880.0', '981.0', '1114.0', '1162.0', '1166.0', '1185.0', '1271.0', '1281.0', '1293.0', '1299.0', '1314.0', '1329.0', '1364.0', '1393.0', '1412.0', '1433.0'], ['173.0', '1052.0', '1166.0', '1172.0', '1186.0', '1282.0', '1293.0', '1296.0', '1314.0', '1324.0', '1330.0', '1354.0', '1364.0', '1367.0', '1391.0', '1396.0', '1400.0', '1429.0', '1432.0'], ['173.0', '1052.0', '1166.0', '1172.0', '1183.0', '1186.0', '1282.0', '1293.0', '1296.0', '1314.0', '1324.0', '1330.0', '1354.0', '1364.0', '1367.0', '1391.0', '1396.0', '1400.0', '1429.0', '1432.0'], ['16.0', '26.0', '28.0', '116.0', '131.0', '138.0', '146.0', '151.0', '260.0', '314.0', '349.0', '381.0', '462.0', '525.0', '618.0', '645.0', '692.0', '788.0', '833.0', '962.0', '1017.0', '1052.0', '1160.0', '1181.0', '1282.0', '1304.0', '1336.0', '1354.0', '1403.0'], ['92.0', '122.0', '223.0', '237.0', '250.0', '324.0', '350.0', '352.0', '482.0', '494.0', '669.0', '670.0', '673.0', '843.0', '865.0', '880.0', '910.0', '1055.0', '1162.0', '1183.0', '1293.0', '1317.0', '1336.0', '1338.0', '1343.0', '1350.0', '1351.0', '1357.0', '1396.0', '1430.0', '1431.0', '1432.0', '1436.0'], ['12.0', '29.0', '43.0', '109.0', '142.0', '164.0', '232.0', '315.0', '616.0', '641.0', '681.0', '732.0', '784.0', '958.0', '996.0', '1052.0', '1059.0', '1172.0', '1181.0', '1271.0', '1321.0', '1357.0', '1366.0', '1368.0', '1386.0', '1412.0', '1429.0'], ['12.0', '20.0', '26.0', '33.0', '40.0', '43.0', '74.0', '116.0', '124.0', '151.0', '164.0', '194.0', '241.0', '260.0', '268.0', '278.0', '316.0', '600.0', '723.0', '744.0', '812.0', '882.0', '891.0', '951.0', '969.0', '1035.0', '1048.0', '1170.0', '1171.0', '1172.0', '1330.0', '1336.0', '1351.0', '1429.0', '1431.0', '1436.0'], ['36.0', '173.0', '254.0', '310.0', '339.0', '349.0', '427.0', '609.0', '727.0', '1038.0', '1052.0', '1159.0', '1165.0', '1171.0', '1271.0', '1277.0', '1298.0', '1299.0', '1328.0', '1398.0', '1400.0', '1410.0', '1427.0', '1435.0', '1436.0', '1437.0', '1439.0'], ['43.0', '53.0', '101.0', '120.0', '130.0', '132.0', '151.0', '162.0', '223.0', '253.0', '260.0', '311.0', '339.0', '352.0', '356.0', '362.0', '367.0', '390.0', '398.0', '444.0', '475.0', '479.0', '482.0', '485.0', '515.0', '566.0', '567.0', '606.0', '722.0', '723.0', '735.0', '795.0', '861.0', '865.0', '881.0', '892.0', '939.0', '952.0', '1025.0', '1172.0', '1338.0', '1360.0', '1427.0', '1430.0'], ['57.0', '108.0', '195.0', '525.0', '821.0', '1000.0', '1114.0', '1174.0', '1281.0', '1293.0', '1296.0', '1304.0', '1330.0', '1343.0', '1351.0', '1364.0', '1368.0', '1393.0', '1396.0', '1398.0', '1400.0'], ['33.0', '53.0', '112.0', '124.0', '221.0', '369.0', '382.0', '468.0', '651.0', '681.0', '682.0', '730.0', '805.0', '1008.0', '1054.0', '1055.0', '1165.0', '1176.0', '1198.0', '1257.0', '1274.0', '1277.0', '1286.0', '1304.0', '1305.0', '1314.0', '1317.0', '1329.0', '1343.0', '1360.0', '1364.0', '1366.0', '1395.0', '1400.0', '1428.0'], ['53.0', '353.0', '422.0', '935.0', '957.0', '981.0', '1017.0', '1047.0', '1166.0', '1170.0', '1171.0', '1172.0', '1176.0', '1271.0', '1274.0', '1282.0', '1293.0', '1304.0', '1305.0', '1314.0', '1364.0', '1424.0', '1432.0', '1436.0'], ['29.0', '39.0', '50.0', '103.0', '194.0', '237.0', '241.0', '251.0', '310.0', '681.0', '821.0', '959.0', '1016.0', '1158.0', '1165.0', '1276.0', '1293.0', '1304.0', '1305.0', '1314.0', '1343.0', '1354.0', '1427.0', '1428.0', '1431.0'], ['33.0', '51.0', '54.0', '124.0', '142.0', '189.0', '202.0', '223.0', '237.0', '241.0', '278.0', '302.0', '337.0', '349.0', '390.0', '524.0', '618.0', '766.0', '864.0', '871.0', '975.0', '1016.0', '1048.0', '1060.0', '1164.0', '1184.0', '1298.0', '1332.0', '1351.0', '1364.0', '1390.0', '1400.0', '1409.0', '1430.0', '1431.0', '1432.0', '1436.0'], ['250.0', '390.0', '681.0', '705.0', '744.0', '1160.0', '1162.0', '1279.0', '1293.0', '1330.0', '1343.0', '1351.0', '1357.0', '1393.0', '1422.0', '1427.0', '1428.0', '1429.0', '1431.0'], ['12.0', '29.0', '43.0', '109.0', '142.0', '164.0', '232.0', '315.0', '616.0', '641.0', '732.0', '784.0', '958.0', '996.0', '1052.0', '1059.0', '1172.0', '1181.0', '1271.0', '1321.0', '1357.0', '1366.0', '1368.0', '1386.0', '1412.0', '1429.0'], ['8.0', '20.0', '39.0', '43.0', '74.0', '103.0', '109.0', '124.0', '138.0', '143.0', '162.0', '237.0', '239.0', '260.0', '278.0', '284.0', '316.0', '348.0', '349.0', '369.0', '375.0', '379.0', '382.0', '409.0', '411.0', '500.0', '525.0', '682.0', '692.0', '725.0', '788.0', '812.0', '948.0', '986.0', '993.0', '1016.0', '1048.0', '1053.0', '1054.0', '1164.0', '1165.0', '1171.0', '1172.0', '1190.0', '1282.0', '1304.0', '1305.0', '1336.0', '1364.0', '1398.0', '1423.0', '1424.0', '1425.0', '1426.0'], ['108.0', '143.0', '221.0', '352.0', '583.0', '682.0', '1160.0', '1163.0', '1164.0', '1165.0', '1166.0', '1170.0', '1171.0', '1174.0', '1175.0', '1276.0', '1330.0', '1338.0', '1351.0', '1360.0', '1420.0', '1424.0', '1426.0', '1427.0', '1431.0', '1436.0'], ['14.0', '131.0', '422.0', '632.0', '1162.0', '1314.0', '1338.0', '1343.0', '1351.0', '1360.0', '1403.0', '1430.0', '1431.0', '1432.0', '1436.0'], ['43.0', '78.0', '92.0', '109.0', '113.0', '124.0', '131.0', '162.0', '164.0', '258.0', '260.0', '316.0', '352.0', '464.0', '495.0', '508.0', '606.0', '656.0', '684.0', '692.0', '795.0', '812.0', '1014.0', '1017.0', '1054.0', '1162.0', '1164.0', '1165.0', '1166.0', '1297.0', '1298.0', '1299.0', '1330.0', '1336.0', '1337.0', '1351.0', '1354.0', '1364.0', '1398.0', '1424.0', '1427.0', '1436.0'], ['20.0', '230.0', '350.0', '426.0', '510.0', '865.0', '887.0', '1160.0', '1162.0', '1166.0', '1276.0', '1296.0', '1305.0', '1314.0', '1330.0', '1338.0', '1351.0', '1364.0', '1391.0', '1393.0', '1394.0', '1409.0', '1420.0', '1424.0', '1426.0', '1427.0', '1432.0'], ['57.0', '108.0', '329.0', '495.0', '525.0', '821.0', '1000.0', '1114.0', '1174.0', '1281.0', '1293.0', '1296.0', '1304.0', '1330.0', '1343.0', '1351.0', '1364.0', '1368.0', '1393.0', '1396.0', '1398.0', '1400.0'], ['28.0', '33.0', '51.0', '107.0', '124.0', '142.0', '189.0', '202.0', '223.0', '237.0', '241.0', '278.0', '302.0', '337.0', '349.0', '390.0', '524.0', '618.0', '766.0', '864.0', '871.0', '975.0', '1016.0', '1048.0', '1060.0', '1164.0', '1184.0', '1298.0', '1332.0', '1351.0', '1364.0', '1390.0', '1400.0', '1409.0', '1430.0', '1431.0', '1432.0', '1436.0'], ['40.0', '112.0', '1162.0', '1276.0', '1282.0', '1293.0', '1296.0', '1305.0', '1330.0', '1364.0', '1398.0', '1400.0', '1423.0', '1425.0', '1426.0'], ['809.0', '898.0', '1163.0', '1185.0', '1276.0', '1305.0', '1330.0', '1338.0', '1360.0', '1364.0', '1367.0', '1368.0', '1391.0', '1393.0', '1395.0', '1409.0', '1418.0', '1422.0', '1426.0', '1427.0', '1429.0', '1430.0'], ['92.0', '122.0', '223.0', '237.0', '250.0', '324.0', '350.0', '352.0', '482.0', '494.0', '669.0', '670.0', '673.0', '843.0', '865.0', '880.0', '910.0', '1055.0', '1162.0', '1183.0', '1293.0', '1317.0', '1336.0', '1338.0', '1343.0', '1350.0', '1351.0', '1357.0', '1391.0', '1396.0', '1430.0', '1431.0', '1432.0', '1436.0'], ['108.0', '116.0', '138.0', '162.0', '221.0', '583.0', '865.0', '887.0', '1145.0', '1162.0', '1163.0', '1165.0', '1297.0', '1330.0', '1354.0', '1360.0', '1364.0', '1387.0', '1394.0', '1398.0', '1411.0', '1427.0', '1430.0', '1433.0', '1435.0'], ['108.0', '143.0', '221.0', '352.0', '583.0', '682.0', '1160.0', '1163.0', '1164.0', '1165.0', '1166.0', '1170.0', '1171.0', '1172.0', '1174.0', '1175.0', '1276.0', '1330.0', '1338.0', '1351.0', '1360.0', '1420.0', '1424.0', '1426.0', '1427.0', '1431.0', '1436.0'], ['16.0', '26.0', '116.0', '124.0', '131.0', '138.0', '146.0', '151.0', '260.0', '314.0', '349.0', '381.0', '462.0', '525.0', '618.0', '634.0', '645.0', '692.0', '788.0', '833.0', '962.0', '1017.0', '1052.0', '1160.0', '1181.0', '1282.0', '1304.0', '1336.0', '1354.0', '1403.0'], ['8.0', '20.0', '39.0', '43.0', '74.0', '103.0', '109.0', '124.0', '138.0', '143.0', '162.0', '237.0', '260.0', '278.0', '284.0', '316.0', '348.0', '349.0', '369.0', '375.0', '379.0', '382.0', '409.0', '411.0', '500.0', '525.0', '682.0', '692.0', '725.0', '788.0', '812.0', '933.0', '948.0', '986.0', '993.0', '1016.0', '1048.0', '1053.0', '1054.0', '1164.0', '1165.0', '1171.0', '1172.0', '1190.0', '1282.0', '1304.0', '1305.0', '1336.0', '1364.0', '1398.0', '1423.0', '1424.0', '1425.0', '1426.0'], ['43.0', '53.0', '101.0', '120.0', '130.0', '132.0', '151.0', '162.0', '223.0', '234.0', '253.0', '260.0', '311.0', '339.0', '352.0', '356.0', '362.0', '367.0', '390.0', '398.0', '444.0', '475.0', '479.0', '482.0', '485.0', '515.0', '566.0', '567.0', '606.0', '722.0', '723.0', '735.0', '795.0', '809.0', '861.0', '865.0', '881.0', '892.0', '939.0', '952.0', '1025.0', '1172.0', '1338.0', '1360.0', '1427.0', '1430.0'], ['116.0', '151.0', '241.0', '617.0', '1048.0', '1181.0', '1293.0', '1304.0', '1330.0', '1343.0', '1350.0', '1364.0', '1391.0', '1398.0', '1429.0', '1431.0', '1436.0'], ['40.0', '1162.0', '1171.0', '1276.0', '1282.0', '1293.0', '1296.0', '1305.0', '1330.0', '1364.0', '1398.0', '1400.0', '1423.0', '1425.0', '1426.0'], ['346.0', '415.0', '957.0', '959.0', '1163.0', '1183.0', '1185.0', '1271.0', '1314.0', '1328.0', '1330.0', '1338.0', '1360.0', '1386.0', '1394.0', '1405.0', '1430.0', '1437.0'], ['40.0', '43.0', '116.0', '151.0', '153.0', '221.0', '260.0', '336.0', '369.0', '465.0', '600.0', '641.0', '647.0', '730.0', '732.0', '788.0', '1017.0', '1048.0', '1052.0', '1163.0', '1165.0', '1166.0', '1314.0', '1336.0', '1364.0', '1423.0', '1427.0', '1430.0'], ['16.0', '34.0', '51.0', '76.0', '120.0', '125.0', '164.0', '336.0', '491.0', '559.0', '833.0', '861.0', '1047.0', '1174.0', '1276.0', '1314.0', '1324.0', '1332.0', '1338.0', '1360.0', '1398.0', '1427.0', '1430.0', '1431.0', '1432.0'], ['647.0', '1017.0', '1162.0', '1164.0', '1166.0', '1170.0', '1172.0', '1185.0', '1282.0', '1336.0', '1351.0', '1354.0', '1364.0', '1393.0', '1398.0', '1424.0', '1429.0', '1432.0', '1434.0', '1436.0'], ['809.0', '898.0', '1163.0', '1185.0', '1276.0', '1330.0', '1338.0', '1360.0', '1364.0', '1367.0', '1368.0', '1391.0', '1393.0', '1409.0', '1418.0', '1422.0', '1426.0', '1427.0', '1429.0', '1430.0'], ['173.0', '254.0', '310.0', '339.0', '349.0', '427.0', '609.0', '727.0', '1038.0', '1052.0', '1159.0', '1165.0', '1171.0', '1271.0', '1277.0', '1298.0', '1299.0', '1328.0', '1356.0', '1398.0', '1400.0', '1410.0', '1427.0', '1435.0', '1436.0', '1437.0', '1439.0'], ['62.0', '346.0', '415.0', '957.0', '959.0', '1163.0', '1183.0', '1185.0', '1271.0', '1314.0', '1328.0', '1330.0', '1338.0', '1360.0', '1386.0', '1394.0', '1405.0', '1430.0', '1437.0'], ['98.0', '109.0', '240.0', '273.0', '821.0', '844.0', '871.0', '1054.0', '1056.0', '1160.0', '1170.0', '1171.0', '1172.0', '1185.0', '1276.0', '1304.0', '1330.0', '1429.0', '1431.0', '1433.0'], ['32.0', '40.0', '43.0', '68.0', '124.0', '329.0', '390.0', '409.0', '681.0', '812.0', '943.0', '1017.0', '1123.0', '1124.0', '1125.0', '1163.0', '1185.0', '1338.0', '1364.0', '1368.0'], ['33.0', '92.0', '124.0', '153.0', '260.0', '283.0', '376.0', '448.0', '464.0', '485.0', '647.0', '651.0', '658.0', '681.0', '693.0', '732.0', '919.0', '955.0', '1017.0', '1160.0', '1176.0', '1180.0', '1273.0', '1274.0', '1304.0', '1314.0', '1329.0', '1338.0', '1351.0', '1366.0', '1431.0', '1432.0'], ['263.0', '278.0', '547.0', '632.0', '705.0', '1014.0', '1185.0', '1276.0', '1293.0', '1338.0', '1364.0', '1386.0', '1427.0', '1429.0', '1436.0'], ['33.0', '98.0', '193.0', '237.0', '903.0', '968.0', '981.0', '1014.0', '1055.0', '1141.0', '1165.0', '1172.0', '1176.0', '1185.0', '1221.0', '1314.0', '1336.0', '1354.0', '1367.0', '1368.0', '1395.0', '1423.0', '1429.0', '1431.0'], ['14.0', '53.0', '64.0', '221.0', '298.0', '415.0', '444.0', '470.0', '510.0', '658.0', '812.0', '943.0', '1014.0', '1035.0', '1089.0', '1148.0', '1162.0', '1170.0', '1296.0', '1360.0', '1364.0', '1368.0', '1393.0', '1398.0', '1429.0', '1436.0', '1437.0'], ['57.0', '116.0', '162.0', '213.0', '221.0', '268.0', '303.0', '311.0', '314.0', '359.0', '508.0', '665.0', '670.0', '729.0', '732.0', '768.0', '865.0', '880.0', '981.0', '1114.0', '1162.0', '1166.0', '1185.0', '1271.0', '1281.0', '1293.0', '1299.0', '1314.0', '1329.0', '1364.0', '1393.0', '1412.0'], ['68.0', '153.0', '225.0', '250.0', '390.0', '399.0', '599.0', '618.0', '681.0', '723.0', '732.0', '910.0', '957.0', '1160.0', '1176.0', '1278.0', '1330.0', '1336.0', '1364.0', '1391.0', '1395.0', '1400.0', '1422.0', '1437.0'], ['109.0', '138.0', '151.0', '164.0', '278.0', '369.0', '470.0', '479.0', '593.0', '669.0', '673.0', '905.0', '957.0', '1017.0', '1162.0', '1174.0', '1181.0', '1305.0', '1364.0', '1427.0', '1431.0'], ['16.0', '43.0', '124.0', '151.0', '223.0', '260.0', '510.0', '757.0', '795.0', '898.0', '1028.0', '1052.0', '1053.0', '1143.0', '1166.0', '1186.0', '1304.0', '1338.0', '1360.0', '1367.0', '1398.0', '1403.0', '1416.0', '1424.0', '1426.0'], ['4.0', '122.0', '132.0', '367.0', '415.0', '455.0', '486.0', '583.0', '658.0', '695.0', '723.0', '793.0', '809.0', '880.0', '892.0', '1186.0', '1271.0', '1293.0', '1304.0', '1332.0', '1338.0', '1360.0', '1364.0', '1367.0', '1368.0', '1422.0'], ['336.0', '928.0', '996.0', '1057.0', '1091.0', '1160.0', '1166.0', '1176.0', '1181.0', '1314.0', '1324.0', '1330.0', '1343.0', '1367.0', '1393.0', '1424.0', '1427.0', '1430.0', '1431.0', '1436.0'], ['98.0', '107.0', '125.0', '151.0', '428.0', '825.0', '1025.0', '1053.0', '1162.0', '1163.0', '1186.0', '1228.0', '1282.0', '1351.0'], ['20.0', '29.0', '39.0', '51.0', '116.0', '162.0', '205.0', '213.0', '260.0', '336.0', '607.0', '732.0', '993.0', '1017.0', '1025.0', '1048.0', '1052.0', '1162.0', '1181.0', '1183.0', '1185.0', '1276.0', '1278.0', '1427.0', '1431.0', '1437.0'], ['53.0', '446.0', '665.0', '682.0', '732.0', '1058.0', '1271.0', '1276.0', '1286.0', '1296.0', '1314.0', '1328.0', '1351.0', '1364.0', '1368.0', '1396.0', '1403.0', '1404.0', '1405.0', '1422.0'], ['109.0', '151.0', '164.0', '278.0', '369.0', '422.0', '470.0', '479.0', '593.0', '669.0', '673.0', '905.0', '957.0', '1017.0', '1162.0', '1174.0', '1181.0', '1305.0', '1364.0', '1427.0', '1431.0'], ['53.0', '353.0', '422.0', '935.0', '957.0', '981.0', '1017.0', '1047.0', '1166.0', '1170.0', '1176.0', '1271.0', '1274.0', '1282.0', '1293.0', '1305.0', '1314.0', '1364.0', '1424.0', '1432.0', '1436.0'], ['34.0', '43.0', '108.0', '221.0', '244.0', '254.0', '390.0', '462.0', '744.0', '761.0', '1163.0', '1172.0', '1185.0', '1314.0', '1338.0', '1340.0', '1343.0', '1364.0', '1395.0', '1400.0', '1410.0', '1429.0', '1437.0'], ['14.0', '43.0', '53.0', '64.0', '221.0', '298.0', '415.0', '444.0', '470.0', '510.0', '658.0', '943.0', '1014.0', '1035.0', '1089.0', '1148.0', '1162.0', '1170.0', '1296.0', '1360.0', '1364.0', '1368.0', '1393.0', '1398.0', '1429.0', '1436.0', '1437.0'], ['134.0', '647.0', '1017.0', '1162.0', '1164.0', '1166.0', '1170.0', '1185.0', '1282.0', '1336.0', '1351.0', '1354.0', '1364.0', '1393.0', '1424.0', '1429.0', '1432.0', '1434.0', '1436.0'], ['145.0', '254.0', '379.0', '390.0', '898.0', '1024.0', '1055.0', '1057.0', '1138.0', '1174.0', '1186.0', '1271.0', '1296.0', '1324.0', '1332.0', '1338.0', '1368.0', '1394.0', '1396.0', '1398.0', '1411.0', '1418.0', '1422.0', '1427.0', '1432.0'], ['20.0', '138.0', '162.0', '240.0', '241.0', '351.0', '485.0', '622.0', '632.0', '645.0', '681.0', '684.0', '868.0', '910.0', '911.0', '933.0', '959.0', '962.0', '1048.0', '1065.0', '1146.0', '1152.0', '1162.0', '1278.0', '1282.0', '1290.0', '1293.0', '1296.0', '1324.0', '1332.0', '1350.0', '1360.0', '1391.0', '1398.0', '1416.0', '1422.0', '1425.0', '1428.0', '1436.0'], ['145.0', '193.0', '254.0', '379.0', '390.0', '898.0', '1024.0', '1055.0', '1057.0', '1138.0', '1174.0', '1186.0', '1271.0', '1296.0', '1324.0', '1332.0', '1338.0', '1368.0', '1394.0', '1396.0', '1398.0', '1411.0', '1418.0', '1422.0', '1427.0', '1432.0'], ['20.0', '29.0', '39.0', '51.0', '116.0', '162.0', '205.0', '213.0', '236.0', '260.0', '607.0', '732.0', '993.0', '1017.0', '1025.0', '1048.0', '1052.0', '1162.0', '1181.0', '1185.0', '1276.0', '1278.0', '1427.0', '1431.0', '1437.0'], ['125.0', '465.0', '1044.0', '1053.0', '1160.0', '1162.0', '1186.0', '1296.0', '1330.0', '1336.0', '1338.0', '1368.0', '1423.0', '1431.0'], ['33.0', '98.0', '193.0', '237.0', '903.0', '968.0', '981.0', '1014.0', '1055.0', '1141.0', '1165.0', '1172.0', '1176.0', '1185.0', '1221.0', '1314.0', '1336.0', '1354.0', '1367.0', '1368.0', '1395.0', '1423.0', '1429.0', '1431.0'], ['48.0', '108.0', '116.0', '138.0', '162.0', '221.0', '583.0', '865.0', '887.0', '1145.0', '1162.0', '1163.0', '1165.0', '1297.0', '1330.0', '1354.0', '1364.0', '1387.0', '1394.0', '1398.0', '1411.0', '1427.0', '1430.0', '1433.0', '1435.0'], ['33.0', '92.0', '124.0', '153.0', '260.0', '283.0', '376.0', '448.0', '485.0', '647.0', '651.0', '658.0', '681.0', '693.0', '732.0', '919.0', '955.0', '1017.0', '1160.0', '1176.0', '1180.0', '1273.0', '1274.0', '1304.0', '1314.0', '1329.0', '1338.0', '1351.0', '1366.0', '1431.0', '1432.0'], ['43.0', '151.0', '152.0', '236.0', '379.0', '415.0', '645.0', '813.0', '1017.0', '1164.0', '1185.0', '1304.0', '1330.0', '1336.0', '1351.0', '1368.0', '1386.0', '1431.0'], ['1151.0', '1162.0', '1163.0', '1174.0', '1185.0', '1304.0', '1305.0', '1314.0', '1338.0', '1360.0', '1427.0'], ['336.0', '928.0', '996.0', '1057.0', '1091.0', '1160.0', '1166.0', '1176.0', '1181.0', '1314.0', '1324.0', '1330.0', '1343.0', '1367.0', '1393.0', '1424.0', '1427.0', '1430.0', '1431.0', '1436.0'], ['4.0', '122.0', '132.0', '367.0', '415.0', '455.0', '486.0', '583.0', '658.0', '695.0', '723.0', '793.0', '809.0', '880.0', '892.0', '932.0', '1186.0', '1271.0', '1293.0', '1304.0', '1332.0', '1338.0', '1360.0', '1364.0', '1367.0', '1368.0', '1422.0'], ['43.0', '116.0', '130.0', '151.0', '153.0', '221.0', '260.0', '336.0', '369.0', '465.0', '600.0', '641.0', '647.0', '730.0', '732.0', '788.0', '1017.0', '1048.0', '1052.0', '1163.0', '1165.0', '1166.0', '1314.0', '1336.0', '1364.0', '1423.0', '1427.0', '1430.0'], ['53.0', '446.0', '665.0', '682.0', '732.0', '1058.0', '1271.0', '1274.0', '1276.0', '1286.0', '1296.0', '1314.0', '1328.0', '1351.0', '1364.0', '1368.0', '1396.0', '1403.0', '1404.0', '1405.0', '1422.0'], ['173.0', '213.0', '236.0', '237.0', '400.0', '508.0', '542.0', '667.0', '730.0', '939.0', '977.0', '1024.0', '1056.0', '1162.0', '1163.0', '1164.0', '1170.0', '1172.0', '1185.0', '1254.0', '1276.0', '1304.0', '1330.0', '1351.0', '1368.0', '1386.0', '1396.0', '1400.0', '1420.0'], ['68.0', '153.0', '194.0', '225.0', '250.0', '390.0', '599.0', '618.0', '681.0', '723.0', '732.0', '910.0', '957.0', '1160.0', '1176.0', '1278.0', '1330.0', '1336.0', '1364.0', '1391.0', '1395.0', '1400.0', '1437.0'], ['98.0', '109.0', '240.0', '254.0', '273.0', '821.0', '844.0', '871.0', '1054.0', '1056.0', '1160.0', '1170.0', '1171.0', '1172.0', '1185.0', '1276.0', '1304.0', '1330.0', '1429.0', '1431.0', '1433.0'], ['12.0', '33.0', '43.0', '162.0', '213.0', '223.0', '310.0', '359.0', '547.0', '667.0', '813.0', '898.0', '943.0', '1162.0', '1165.0', '1170.0', '1171.0', '1172.0', '1293.0', '1324.0', '1330.0', '1351.0', '1364.0', '1368.0', '1431.0', '1432.0'], ['263.0', '278.0', '547.0', '632.0', '705.0', '1014.0', '1185.0', '1276.0', '1293.0', '1338.0', '1364.0', '1386.0', '1427.0', '1429.0', '1436.0'], ['98.0', '125.0', '151.0', '194.0', '428.0', '825.0', '1025.0', '1053.0', '1162.0', '1163.0', '1186.0', '1228.0', '1282.0', '1351.0'], ['213.0', '236.0', '237.0', '400.0', '508.0', '542.0', '667.0', '730.0', '939.0', '977.0', '1024.0', '1056.0', '1162.0', '1163.0', '1164.0', '1170.0', '1172.0', '1185.0', '1254.0', '1276.0', '1304.0', '1330.0', '1351.0', '1368.0', '1386.0', '1396.0', '1400.0', '1420.0'], ['33.0', '131.0', '422.0', '632.0', '1162.0', '1314.0', '1338.0', '1343.0', '1351.0', '1360.0', '1403.0', '1430.0', '1431.0', '1432.0', '1436.0'], ['16.0', '34.0', '51.0', '76.0', '120.0', '125.0', '164.0', '336.0', '491.0', '559.0', '833.0', '861.0', '1047.0', '1174.0', '1276.0', '1314.0', '1324.0', '1332.0', '1360.0', '1398.0', '1427.0', '1430.0', '1431.0', '1432.0'], ['43.0', '77.0', '151.0', '152.0', '236.0', '379.0', '645.0', '813.0', '1017.0', '1164.0', '1185.0', '1304.0', '1330.0', '1336.0', '1351.0', '1368.0', '1386.0', '1431.0'], ['32.0', '40.0', '43.0', '68.0', '124.0', '329.0', '390.0', '409.0', '681.0', '812.0', '943.0', '1017.0', '1123.0', '1124.0', '1125.0', '1163.0', '1185.0', '1338.0', '1364.0', '1368.0'], ['20.0', '350.0', '426.0', '510.0', '865.0', '887.0', '1160.0', '1162.0', '1166.0', '1276.0', '1296.0', '1305.0', '1314.0', '1330.0', '1338.0', '1351.0', '1364.0', '1391.0', '1393.0', '1394.0', '1409.0', '1420.0', '1424.0', '1426.0', '1427.0', '1432.0'], ['12.0', '33.0', '43.0', '64.0', '162.0', '223.0', '310.0', '359.0', '547.0', '667.0', '898.0', '943.0', '1162.0', '1165.0', '1170.0', '1171.0', '1172.0', '1293.0', '1324.0', '1330.0', '1351.0', '1364.0', '1368.0', '1431.0', '1432.0'], ['98.0', '101.0', '260.0', '600.0', '766.0', '1047.0', '1166.0', '1174.0', '1314.0', '1338.0', '1393.0', '1394.0', '1398.0', '1423.0', '1431.0', '1432.0'], ['43.0', '51.0', '101.0', '131.0', '138.0', '162.0', '193.0', '224.0', '329.0', '510.0', '645.0', '684.0', '795.0', '868.0', '962.0', '969.0', '981.0', '1014.0', '1016.0', '1017.0', '1028.0', '1158.0', '1160.0', '1274.0', '1278.0', '1314.0', '1343.0', '1429.0', '1432.0', '1437.0'], ['20.0', '74.0', '116.0', '143.0', '164.0', '189.0', '241.0', '510.0', '600.0', '692.0', '729.0', '730.0', '1018.0', '1025.0', '1028.0', '1050.0', '1053.0', '1170.0', '1314.0', '1336.0', '1343.0', '1354.0', '1393.0', '1398.0', '1436.0'], ['64.0', '260.0', '379.0', '477.0', '600.0', '626.0', '682.0', '788.0', '795.0', '809.0', '861.0', '892.0', '1017.0', '1054.0', '1160.0', '1163.0', '1174.0', '1276.0', '1305.0', '1317.0', '1319.0', '1337.0', '1367.0', '1427.0', '1430.0'], ['43.0', '57.0', '108.0', '124.0', '315.0', '336.0', '446.0', '681.0', '684.0', '730.0', '732.0', '939.0', '1025.0', '1054.0', '1059.0', '1060.0', '1077.0', '1163.0', '1176.0', '1271.0', '1290.0', '1296.0', '1321.0', '1333.0', '1386.0', '1409.0', '1429.0'], ['20.0', '51.0', '57.0', '111.0', '124.0', '213.0', '258.0', '1052.0', '1163.0', '1186.0', '1324.0', '1328.0', '1360.0', '1367.0', '1398.0', '1403.0', '1430.0', '1432.0', '1436.0'], ['480.0', '634.0', '1047.0', '1052.0', '1121.0', '1174.0', '1181.0', '1186.0', '1282.0', '1304.0', '1305.0', '1338.0', '1416.0', '1430.0'], ['39.0', '241.0', '268.0', '462.0', '525.0', '585.0', '809.0', '975.0', '1017.0', '1042.0', '1189.0', '1282.0', '1320.0', '1328.0', '1330.0', '1338.0', '1356.0', '1362.0', '1368.0', '1393.0', '1398.0', '1424.0', '1427.0'], ['16.0', '482.0', '681.0', '705.0', '1180.0', '1304.0', '1305.0', '1317.0', '1338.0', '1357.0', '1364.0', '1367.0', '1400.0', '1428.0', '1429.0', '1431.0', '1432.0', '1436.0'], ['20.0', '51.0', '101.0', '151.0', '193.0', '240.0', '329.0', '353.0', '525.0', '645.0', '759.0', '821.0', '833.0', '911.0', '975.0', '1025.0', '1054.0', '1160.0', '1162.0', '1166.0', '1170.0', '1181.0', '1296.0', '1308.0', '1330.0', '1351.0', '1429.0'], ['189.0', '353.0', '356.0', '482.0', '486.0', '600.0', '645.0', '695.0', '714.0', '721.0', '928.0', '933.0', '1074.0', '1077.0', '1163.0', '1185.0', '1191.0', '1314.0', '1338.0', '1424.0', '1426.0', '1427.0', '1430.0', '1431.0', '1436.0'], ['43.0', '51.0', '101.0', '131.0', '138.0', '162.0', '193.0', '202.0', '224.0', '329.0', '510.0', '645.0', '684.0', '795.0', '868.0', '962.0', '969.0', '981.0', '1014.0', '1016.0', '1017.0', '1028.0', '1158.0', '1160.0', '1274.0', '1278.0', '1314.0', '1343.0', '1429.0', '1432.0', '1437.0'], ['43.0', '51.0', '98.0', '109.0', '158.0', '234.0', '241.0', '254.0', '283.0', '336.0', '444.0', '482.0', '559.0', '606.0', '645.0', '659.0', '681.0', '684.0', '761.0', '795.0', '821.0', '833.0', '865.0', '868.0', '955.0', '957.0', '996.0', '1044.0', '1160.0', '1170.0', '1172.0', '1190.0', '1293.0', '1317.0', '1332.0', '1343.0', '1350.0', '1354.0', '1428.0', '1430.0', '1436.0'], ['98.0', '108.0', '109.0', '120.0', '125.0', '223.0', '609.0', '958.0', '969.0', '1047.0', '1174.0', '1271.0', '1296.0', '1356.0', '1394.0', '1398.0', '1403.0', '1410.0', '1411.0', '1414.0', '1415.0', '1416.0'], ['34.0', '43.0', '108.0', '221.0', '239.0', '244.0', '254.0', '390.0', '462.0', '744.0', '761.0', '1163.0', '1172.0', '1185.0', '1314.0', '1338.0', '1340.0', '1343.0', '1395.0', '1400.0', '1410.0', '1429.0', '1437.0'], ['29.0', '64.0', '138.0', '314.0', '821.0', '1053.0', '1172.0', '1174.0', '1176.0', '1185.0', '1274.0', '1314.0', '1330.0', '1354.0', '1391.0', '1393.0', '1429.0'], ['1053.0', '1054.0', '1123.0', '1125.0', '1162.0', '1164.0', '1165.0', '1176.0', '1185.0', '1299.0', '1330.0', '1350.0', '1391.0', '1425.0', '1426.0', '1427.0', '1431.0', '1436.0'], ['80.0', '124.0', '316.0', '723.0', '1052.0', '1276.0', '1351.0', '1364.0', '1368.0', '1386.0', '1427.0'], ['113.0', '202.0', '291.0', '462.0', '485.0', '495.0', '588.0', '1324.0', '1330.0', '1343.0', '1354.0', '1360.0', '1398.0', '1400.0', '1409.0', '1430.0', '1431.0', '1436.0'], ['98.0', '103.0', '108.0', '110.0', '131.0', '158.0', '189.0', '202.0', '263.0', '283.0', '415.0', '564.0', '617.0', '684.0', '764.0', '821.0', '844.0', '933.0', '955.0', '965.0', '1017.0', '1044.0', '1055.0', '1056.0', '1057.0', '1060.0', '1160.0', '1163.0', '1164.0', '1165.0', '1166.0', '1330.0', '1332.0', '1336.0', '1360.0', '1367.0', '1403.0', '1430.0', '1431.0', '1436.0'], ['20.0', '51.0', '101.0', '151.0', '193.0', '240.0', '329.0', '353.0', '525.0', '645.0', '759.0', '821.0', '833.0', '911.0', '975.0', '1025.0', '1054.0', '1160.0', '1162.0', '1166.0', '1170.0', '1181.0', '1296.0', '1308.0', '1330.0', '1351.0', '1429.0'], ['194.0', '415.0', '617.0', '682.0', '761.0', '766.0', '935.0', '990.0', '1059.0', '1060.0', '1061.0', '1062.0', '1063.0', '1064.0', '1065.0', '1123.0', '1124.0', '1125.0', '1174.0', '1274.0', '1276.0', '1292.0', '1304.0', '1305.0', '1330.0', '1336.0', '1394.0', '1427.0', '1436.0'], ['116.0', '151.0', '241.0', '617.0', '1048.0', '1181.0', '1293.0', '1330.0', '1343.0', '1350.0', '1364.0', '1391.0', '1398.0', '1431.0', '1436.0'], ['20.0', '51.0', '57.0', '111.0', '124.0', '213.0', '1052.0', '1163.0', '1186.0', '1324.0', '1328.0', '1360.0', '1367.0', '1398.0', '1403.0', '1430.0', '1432.0', '1436.0'], ['9.0', '18.0', '26.0', '98.0', '108.0', '124.0', '189.0', '237.0', '260.0', '268.0', '283.0', '330.0', '525.0', '575.0', '622.0', '634.0', '651.0', '681.0', '682.0', '692.0', '825.0', '951.0', '955.0', '967.0', '1017.0', '1028.0', '1044.0', '1050.0', '1053.0', '1163.0', '1164.0', '1165.0', '1391.0', '1425.0', '1430.0', '1431.0', '1432.0', '1436.0'], ['33.0', '57.0', '116.0', '131.0', '162.0', '237.0', '353.0', '400.0', '486.0', '681.0', '759.0', '910.0', '962.0', '969.0', '1048.0', '1160.0', '1165.0', '1166.0', '1170.0', '1171.0', '1172.0', '1293.0', '1317.0', '1336.0', '1343.0', '1350.0', '1354.0', '1360.0', '1426.0', '1427.0', '1429.0'], ['40.0', '132.0', '213.0', '240.0', '353.0', '362.0', '510.0', '525.0', '1162.0', '1163.0', '1164.0', '1271.0', '1296.0', '1314.0', '1354.0', '1431.0', '1432.0'], ['108.0', '146.0', '158.0', '162.0', '173.0', '253.0', '297.0', '323.0', '542.0', '634.0', '695.0', '764.0', '959.0', '981.0', '1051.0', '1158.0', '1162.0', '1163.0', '1172.0', '1176.0', '1184.0', '1286.0', '1296.0', '1351.0', '1360.0', '1411.0', '1420.0', '1427.0'], ['113.0', '202.0', '221.0', '291.0', '462.0', '485.0', '495.0', '588.0', '975.0', '1324.0', '1330.0', '1343.0', '1354.0', '1360.0', '1398.0', '1400.0', '1409.0', '1430.0', '1431.0', '1436.0'], ['20.0', '138.0', '162.0', '240.0', '241.0', '351.0', '485.0', '622.0', '632.0', '645.0', '681.0', '684.0', '868.0', '910.0', '911.0', '933.0', '959.0', '962.0', '1048.0', '1065.0', '1146.0', '1152.0', '1162.0', '1282.0', '1290.0', '1293.0', '1296.0', '1324.0', '1332.0', '1350.0', '1360.0', '1391.0', '1398.0', '1416.0', '1422.0', '1425.0', '1428.0', '1436.0'], ['12.0', '20.0', '26.0', '33.0', '43.0', '74.0', '116.0', '124.0', '151.0', '194.0', '241.0', '260.0', '268.0', '278.0', '316.0', '600.0', '744.0', '812.0', '882.0', '891.0', '969.0', '1035.0', '1048.0', '1170.0', '1171.0', '1172.0', '1330.0', '1336.0', '1351.0', '1429.0', '1431.0', '1436.0'], ['14.0', '68.0', '108.0', '151.0', '390.0', '477.0', '522.0', '593.0', '600.0', '729.0', '825.0', '853.0', '865.0', '958.0', '1014.0', '1042.0', '1050.0', '1164.0', '1174.0', '1290.0', '1336.0', '1368.0', '1394.0', '1436.0'], ['9.0', '18.0', '26.0', '98.0', '108.0', '124.0', '138.0', '189.0', '237.0', '260.0', '268.0', '283.0', '330.0', '525.0', '575.0', '622.0', '634.0', '651.0', '681.0', '682.0', '692.0', '825.0', '951.0', '955.0', '967.0', '1017.0', '1028.0', '1044.0', '1050.0', '1053.0', '1163.0', '1164.0', '1165.0', '1391.0', '1425.0', '1430.0', '1431.0', '1432.0', '1436.0'], ['20.0', '74.0', '116.0', '143.0', '164.0', '189.0', '241.0', '510.0', '600.0', '692.0', '729.0', '730.0', '1018.0', '1025.0', '1028.0', '1050.0', '1053.0', '1170.0', '1314.0', '1336.0', '1343.0', '1354.0', '1393.0', '1398.0', '1436.0'], ['151.0', '887.0', '1145.0', '1166.0', '1174.0', '1185.0', '1296.0', '1314.0', '1324.0', '1398.0', '1429.0', '1431.0'], ['14.0', '236.0', '593.0', '1048.0', '1157.0', '1165.0', '1174.0', '1185.0', '1296.0', '1364.0', '1400.0', '1410.0', '1427.0', '1429.0'], ['116.0', '164.0', '213.0', '336.0', '390.0', '409.0', '412.0', '609.0', '928.0', '933.0', '1050.0', '1054.0', '1162.0', '1176.0', '1274.0', '1276.0', '1314.0', '1317.0', '1330.0', '1338.0', '1364.0'], ['16.0', '43.0', '124.0', '151.0', '223.0', '260.0', '510.0', '757.0', '795.0', '898.0', '1028.0', '1052.0', '1053.0', '1143.0', '1166.0', '1186.0', '1338.0', '1360.0', '1367.0', '1398.0', '1403.0', '1416.0', '1424.0', '1426.0'], ['110.0', '844.0', '1059.0', '1163.0', '1314.0', '1320.0', '1330.0', '1351.0', '1360.0', '1396.0', '1433.0', '1436.0', '1437.0'], ['39.0', '202.0', '241.0', '268.0', '462.0', '525.0', '585.0', '809.0', '975.0', '1017.0', '1042.0', '1189.0', '1282.0', '1320.0', '1328.0', '1330.0', '1338.0', '1356.0', '1362.0', '1368.0', '1393.0', '1398.0', '1424.0', '1427.0'], ['101.0', '109.0', '120.0', '164.0', '194.0', '233.0', '337.0', '510.0', '641.0', '911.0', '981.0', '1014.0', '1025.0', '1054.0', '1057.0', '1164.0', '1170.0', '1174.0', '1338.0', '1343.0', '1351.0', '1354.0', '1369.0', '1398.0'], ['12.0', '20.0', '29.0', '43.0', '51.0', '98.0', '109.0', '124.0', '164.0', '260.0', '268.0', '382.0', '415.0', '491.0', '525.0', '668.0', '669.0', '721.0', '730.0', '793.0', '809.0', '951.0', '975.0', '1048.0', '1185.0', '1305.0', '1331.0', '1338.0', '1364.0', '1386.0', '1425.0', '1427.0'], ['98.0', '101.0', '600.0', '766.0', '1047.0', '1166.0', '1174.0', '1274.0', '1314.0', '1338.0', '1393.0', '1394.0', '1398.0', '1423.0', '1431.0', '1432.0'], ['34.0', '223.0', '310.0', '482.0', '682.0', '943.0', '1162.0', '1163.0', '1282.0', '1330.0', '1338.0', '1368.0', '1436.0'], ['108.0', '146.0', '158.0', '162.0', '173.0', '183.0', '253.0', '297.0', '323.0', '542.0', '634.0', '695.0', '764.0', '959.0', '981.0', '1051.0', '1158.0', '1162.0', '1163.0', '1172.0', '1176.0', '1184.0', '1286.0', '1296.0', '1351.0', '1360.0', '1411.0', '1420.0', '1427.0'], ['40.0', '43.0', '57.0', '130.0', '205.0', '260.0', '295.0', '415.0', '465.0', '486.0', '563.0', '795.0', '821.0', '903.0', '993.0', '1024.0', '1185.0', '1276.0', '1360.0', '1364.0', '1398.0', '1400.0', '1422.0', '1430.0'], ['33.0', '57.0', '116.0', '131.0', '162.0', '237.0', '353.0', '400.0', '486.0', '681.0', '759.0', '910.0', '962.0', '969.0', '1048.0', '1160.0', '1165.0', '1166.0', '1170.0', '1171.0', '1172.0', '1293.0', '1317.0', '1336.0', '1343.0', '1350.0', '1354.0', '1360.0', '1427.0', '1429.0'], ['116.0', '134.0', '164.0', '213.0', '336.0', '390.0', '412.0', '609.0', '928.0', '933.0', '1050.0', '1054.0', '1162.0', '1176.0', '1274.0', '1276.0', '1314.0', '1317.0', '1330.0', '1338.0', '1364.0'], ['14.0', '68.0', '108.0', '151.0', '241.0', '390.0', '477.0', '522.0', '593.0', '600.0', '729.0', '825.0', '853.0', '865.0', '958.0', '1014.0', '1042.0', '1050.0', '1164.0', '1174.0', '1290.0', '1336.0', '1368.0', '1394.0', '1436.0'], ['43.0', '101.0', '109.0', '120.0', '164.0', '194.0', '337.0', '510.0', '641.0', '911.0', '981.0', '1014.0', '1025.0', '1054.0', '1057.0', '1164.0', '1170.0', '1174.0', '1338.0', '1343.0', '1351.0', '1354.0', '1369.0', '1398.0'], ['189.0', '353.0', '356.0', '482.0', '486.0', '645.0', '695.0', '714.0', '721.0', '928.0', '933.0', '1074.0', '1077.0', '1163.0', '1185.0', '1191.0', '1314.0', '1338.0', '1424.0', '1426.0', '1427.0', '1430.0', '1431.0', '1436.0'], ['51.0', '107.0', '124.0', '205.0', '356.0', '858.0', '871.0', '1025.0', '1059.0', '1174.0', '1185.0', '1276.0', '1349.0', '1351.0', '1363.0', '1364.0', '1393.0', '1427.0', '1429.0'], ['260.0', '379.0', '477.0', '600.0', '626.0', '682.0', '788.0', '795.0', '809.0', '861.0', '892.0', '1017.0', '1054.0', '1160.0', '1163.0', '1174.0', '1276.0', '1305.0', '1317.0', '1319.0', '1337.0', '1367.0', '1427.0', '1430.0'], ['16.0', '482.0', '705.0', '1180.0', '1304.0', '1305.0', '1317.0', '1338.0', '1357.0', '1364.0', '1367.0', '1400.0', '1428.0', '1429.0', '1431.0', '1432.0', '1436.0'], ['131.0', '151.0', '189.0', '260.0', '288.0', '379.0', '542.0', '730.0', '795.0', '1160.0', '1162.0', '1164.0', '1276.0', '1304.0', '1305.0', '1314.0', '1330.0', '1338.0', '1391.0', '1394.0', '1395.0', '1398.0'], ['64.0', '138.0', '314.0', '821.0', '1053.0', '1165.0', '1172.0', '1174.0', '1176.0', '1185.0', '1274.0', '1314.0', '1330.0', '1354.0', '1391.0', '1393.0', '1429.0'], ['34.0', '64.0', '240.0', '502.0', '510.0', '559.0', '723.0', '1053.0', '1168.0', '1184.0', '1293.0', '1314.0', '1317.0', '1330.0', '1343.0', '1350.0', '1391.0', '1393.0', '1395.0', '1428.0', '1431.0', '1432.0', '1436.0'], ['250.0', '390.0', '681.0', '705.0', '744.0', '1160.0', '1162.0', '1279.0', '1293.0', '1330.0', '1343.0', '1357.0', '1393.0', '1422.0', '1428.0', '1429.0', '1431.0'], ['102.0', '125.0', '465.0', '1053.0', '1160.0', '1162.0', '1186.0', '1296.0', '1330.0', '1336.0', '1338.0', '1368.0', '1423.0'], ['98.0', '109.0', '120.0', '125.0', '223.0', '609.0', '958.0', '969.0', '1047.0', '1174.0', '1271.0', '1296.0', '1356.0', '1394.0', '1398.0', '1403.0', '1404.0', '1410.0', '1411.0', '1412.0', '1414.0', '1415.0', '1416.0'], ['122.0', '205.0', '221.0', '250.0', '302.0', '336.0', '339.0', '462.0', '482.0', '607.0', '641.0', '749.0', '833.0', '871.0', '911.0', '981.0', '1178.0', '1185.0', '1186.0', '1273.0', '1296.0', '1314.0', '1320.0', '1321.0', '1338.0', '1357.0', '1394.0', '1427.0'], ['131.0', '151.0', '189.0', '260.0', '288.0', '379.0', '542.0', '730.0', '795.0', '1160.0', '1162.0', '1276.0', '1304.0', '1305.0', '1314.0', '1330.0', '1338.0', '1391.0', '1394.0', '1395.0', '1398.0'], ['43.0', '57.0', '108.0', '124.0', '315.0', '336.0', '446.0', '681.0', '684.0', '730.0', '732.0', '939.0', '1025.0', '1054.0', '1059.0', '1060.0', '1077.0', '1163.0', '1176.0', '1178.0', '1271.0', '1290.0', '1296.0', '1313.0', '1321.0', '1333.0', '1386.0', '1409.0', '1429.0'], ['40.0', '108.0', '162.0', '221.0', '315.0', '379.0', '415.0', '617.0', '844.0', '865.0', '943.0', '1053.0', '1163.0', '1181.0', '1324.0', '1330.0', '1338.0', '1377.0', '1378.0', '1391.0', '1420.0', '1429.0', '1431.0', '1436.0'], ['51.0', '107.0', '124.0', '356.0', '858.0', '871.0', '1025.0', '1059.0', '1174.0', '1185.0', '1276.0', '1349.0', '1351.0', '1363.0', '1364.0', '1393.0', '1427.0', '1429.0'], ['40.0', '108.0', '162.0', '221.0', '379.0', '415.0', '617.0', '844.0', '865.0', '943.0', '1053.0', '1163.0', '1181.0', '1324.0', '1330.0', '1338.0', '1377.0', '1378.0', '1391.0', '1420.0', '1429.0', '1431.0', '1436.0'], ['43.0', '51.0', '98.0', '109.0', '158.0', '234.0', '241.0', '283.0', '336.0', '444.0', '465.0', '482.0', '559.0', '606.0', '645.0', '659.0', '681.0', '684.0', '761.0', '795.0', '821.0', '833.0', '865.0', '868.0', '955.0', '957.0', '996.0', '1044.0', '1160.0', '1170.0', '1172.0', '1190.0', '1293.0', '1317.0', '1332.0', '1343.0', '1350.0', '1354.0', '1428.0', '1430.0', '1436.0'], ['122.0', '205.0', '221.0', '250.0', '302.0', '336.0', '339.0', '462.0', '482.0', '607.0', '641.0', '749.0', '833.0', '871.0', '911.0', '981.0', '1178.0', '1185.0', '1186.0', '1296.0', '1314.0', '1320.0', '1338.0', '1357.0', '1394.0', '1427.0'], ['20.0', '39.0', '43.0', '51.0', '57.0', '74.0', '116.0', '120.0', '124.0', '125.0', '151.0', '260.0', '369.0', '593.0', '600.0', '723.0', '844.0', '959.0', '1025.0', '1050.0', '1166.0', '1336.0', '1343.0', '1351.0', '1364.0', '1429.0'], ['51.0', '260.0', '303.0', '310.0', '319.0', '390.0', '477.0', '681.0', '795.0', '812.0', '928.0', '969.0', '1053.0', '1168.0', '1180.0', '1298.0', '1351.0', '1387.0'], ['12.0', '20.0', '29.0', '43.0', '51.0', '98.0', '109.0', '124.0', '158.0', '164.0', '260.0', '268.0', '382.0', '415.0', '525.0', '668.0', '669.0', '721.0', '730.0', '793.0', '809.0', '951.0', '975.0', '1048.0', '1185.0', '1305.0', '1331.0', '1338.0', '1364.0', '1386.0', '1425.0'], ['151.0', '202.0', '1120.0', '1158.0', '1181.0', '1263.0', '1304.0', '1320.0', '1332.0', '1351.0', '1398.0', '1404.0', '1416.0', '1432.0'], ['43.0', '78.0', '98.0', '102.0', '109.0', '124.0', '244.0', '444.0', '667.0', '681.0', '969.0', '1018.0', '1172.0', '1185.0', '1189.0', '1279.0', '1324.0', '1398.0', '1403.0', '1429.0', '1431.0', '1436.0'], ['40.0', '310.0', '1163.0', '1274.0', '1351.0', '1364.0', '1368.0', '1436.0'], ['173.0', '310.0', '585.0', '898.0', '932.0', '939.0', '1170.0', '1171.0', '1172.0', '1174.0', '1185.0', '1305.0', '1314.0', '1330.0', '1336.0', '1360.0', '1422.0', '1427.0', '1429.0'], ['369.0', '593.0', '933.0', '1054.0', '1162.0', '1181.0', '1304.0', '1305.0', '1330.0', '1336.0', '1351.0', '1364.0', '1424.0', '1429.0'], ['116.0', '362.0', '730.0', '1160.0', '1176.0', '1276.0', '1354.0', '1427.0', '1429.0', '1430.0'], ['12.0', '18.0', '124.0', '444.0', '482.0', '681.0', '730.0', '812.0', '844.0', '1042.0', '1052.0', '1057.0', '1160.0', '1181.0', '1186.0', '1278.0', '1338.0', '1428.0'], ['20.0', '53.0', '116.0', '314.0', '315.0', '464.0', '491.0', '510.0', '525.0', '668.0', '871.0', '1060.0', '1108.0', '1162.0', '1172.0', '1278.0', '1281.0', '1282.0', '1364.0', '1405.0', '1416.0', '1430.0', '1431.0', '1432.0'], ['43.0', '109.0', '125.0', '130.0', '164.0', '323.0', '390.0', '444.0', '846.0', '881.0', '1025.0', '1047.0', '1276.0', '1298.0', '1351.0', '1360.0', '1427.0', '1429.0', '1435.0'], ['14.0', '26.0', '68.0', '98.0', '124.0', '158.0', '164.0', '260.0', '382.0', '460.0', '1017.0', '1163.0', '1170.0', '1304.0', '1305.0', '1354.0', '1422.0'], ['51.0', '74.0', '302.0', '382.0', '491.0', '528.0', '559.0', '681.0', '865.0', '996.0', '1024.0', '1025.0', '1061.0', '1314.0', '1336.0', '1338.0', '1360.0', '1427.0', '1428.0', '1436.0'], ['16.0', '33.0', '76.0', '98.0', '151.0', '164.0', '194.0', '213.0', '237.0', '260.0', '268.0', '278.0', '283.0', '422.0', '480.0', '557.0', '618.0', '730.0', '744.0', '968.0', '1014.0', '1025.0', '1044.0', '1048.0', '1054.0', '1160.0', '1277.0', '1293.0', '1429.0', '1431.0'], ['98.0', '508.0', '542.0', '563.0', '600.0', '1053.0', '1160.0', '1170.0', '1276.0', '1293.0', '1360.0', '1364.0'], ['92.0', '102.0', '111.0', '495.0', '695.0', '910.0', '1060.0', '1160.0', '1165.0', '1172.0', '1185.0', '1186.0', '1271.0', '1320.0', '1403.0', '1427.0', '1430.0'], ['51.0', '260.0', '303.0', '310.0', '319.0', '390.0', '477.0', '681.0', '795.0', '812.0', '928.0', '969.0', '1053.0', '1168.0', '1180.0', '1298.0', '1351.0', '1387.0'], ['1151.0', '1162.0', '1163.0', '1304.0', '1305.0', '1314.0', '1338.0', '1360.0', '1427.0'], ['51.0', '74.0', '224.0', '302.0', '316.0', '382.0', '491.0', '528.0', '559.0', '681.0', '865.0', '996.0', '1024.0', '1025.0', '1061.0', '1314.0', '1336.0', '1338.0', '1360.0', '1427.0', '1428.0', '1436.0'], ['124.0', '1053.0', '1054.0', '1123.0', '1125.0', '1162.0', '1164.0', '1165.0', '1176.0', '1185.0', '1299.0', '1330.0', '1350.0', '1391.0', '1425.0', '1426.0', '1427.0', '1436.0'], ['369.0', '593.0', '1054.0', '1162.0', '1181.0', '1304.0', '1305.0', '1330.0', '1336.0', '1351.0', '1364.0', '1424.0', '1429.0'], ['268.0', '486.0', '678.0', '684.0', '695.0', '881.0', '930.0', '993.0', '1059.0', '1276.0', '1293.0', '1360.0', '1393.0', '1400.0', '1427.0', '1430.0'], ['2.0', '40.0', '132.0', '213.0', '240.0', '353.0', '362.0', '510.0', '525.0', '1162.0', '1163.0', '1164.0', '1296.0', '1314.0', '1354.0', '1431.0', '1432.0'], ['20.0', '78.0', '268.0', '525.0', '600.0', '681.0', '788.0', '1006.0', '1053.0', '1185.0', '1338.0', '1343.0', '1364.0', '1367.0', '1393.0', '1395.0', '1400.0', '1405.0', '1410.0', '1433.0', '1434.0'], ['51.0', '132.0', '164.0', '1057.0', '1160.0', '1163.0', '1185.0', '1187.0', '1198.0', '1293.0', '1343.0', '1351.0', '1398.0', '1410.0'], ['16.0', '33.0', '76.0', '98.0', '151.0', '164.0', '194.0', '213.0', '237.0', '260.0', '268.0', '278.0', '283.0', '422.0', '480.0', '557.0', '618.0', '730.0', '744.0', '968.0', '1014.0', '1025.0', '1044.0', '1048.0', '1054.0', '1160.0', '1277.0', '1293.0', '1429.0', '1431.0'], ['12.0', '34.0', '101.0', '103.0', '268.0', '390.0', '409.0', '600.0', '729.0', '846.0', '1050.0', '1165.0', '1179.0', '1277.0', '1324.0', '1336.0', '1368.0', '1396.0', '1398.0', '1422.0', '1431.0', '1435.0'], ['33.0', '64.0', '108.0', '221.0', '283.0', '315.0', '330.0', '382.0', '508.0', '525.0', '542.0', '622.0', '682.0', '749.0', '865.0', '957.0', '959.0', '1014.0', '1044.0', '1160.0', '1276.0', '1314.0', '1330.0', '1332.0', '1338.0', '1351.0', '1410.0'], ['2.0', '74.0', '134.0', '184.0', '194.0', '833.0', '1057.0', '1160.0', '1282.0', '1304.0', '1330.0', '1338.0', '1394.0', '1398.0', '1431.0'], ['9.0', '14.0', '173.0', '337.0', '346.0', '723.0', '809.0', '861.0', '939.0', '1160.0', '1271.0', '1320.0', '1328.0', '1391.0', '1396.0', '1431.0', '1432.0'], ['0.0', '74.0', '122.0', '297.0', '569.0', '761.0', '766.0', '833.0', '1054.0', '1057.0', '1058.0', '1278.0', '1296.0', '1328.0', '1330.0', '1364.0'], ['18.0', '32.0', '33.0', '162.0', '202.0', '237.0', '241.0', '260.0', '263.0', '350.0', '381.0', '390.0', '409.0', '415.0', '426.0', '593.0', '607.0', '610.0', '730.0', '764.0', '766.0', '864.0', '903.0', '957.0', '1016.0', '1042.0', '1178.0', '1183.0', '1299.0', '1336.0', '1351.0', '1363.0', '1387.0', '1427.0', '1431.0', '1435.0', '1439.0'], ['887.0', '1145.0', '1166.0', '1174.0', '1185.0', '1296.0', '1306.0', '1314.0', '1324.0', '1398.0', '1429.0', '1431.0'], ['32.0', '39.0', '98.0', '107.0', '109.0', '124.0', '125.0', '151.0', '215.0', '260.0', '268.0', '369.0', '462.0', '588.0', '593.0', '600.0', '681.0', '729.0', '730.0', '932.0', '933.0', '1014.0', '1025.0', '1044.0', '1178.0', '1185.0', '1314.0', '1391.0', '1423.0'], ['299.0', '480.0', '634.0', '1047.0', '1052.0', '1121.0', '1174.0', '1181.0', '1282.0', '1304.0', '1305.0', '1338.0', '1416.0', '1430.0'], ['153.0', '427.0', '957.0', '1052.0', '1277.0', '1351.0', '1400.0', '1427.0', '1430.0', '1431.0', '1437.0'], ['57.0', '100.0', '131.0', '693.0', '732.0', '1017.0', '1164.0', '1174.0', '1225.0', '1304.0', '1305.0', '1313.0', '1314.0', '1364.0', '1400.0', '1405.0', '1430.0'], ['2.0', '20.0', '33.0', '51.0', '125.0', '130.0', '193.0', '223.0', '224.0', '250.0', '353.0', '440.0', '557.0', '600.0', '641.0', '933.0', '939.0', '1164.0', '1171.0', '1172.0', '1274.0', '1304.0', '1305.0', '1350.0', '1363.0', '1364.0', '1386.0', '1423.0', '1425.0', '1431.0', '1436.0'], ['4.0', '43.0', '58.0', '78.0', '98.0', '102.0', '244.0', '444.0', '667.0', '681.0', '969.0', '1018.0', '1172.0', '1185.0', '1189.0', '1279.0', '1324.0', '1398.0', '1403.0', '1429.0', '1431.0', '1436.0'], ['2.0', '263.0', '390.0', '400.0', '415.0', '455.0', '482.0', '525.0', '563.0', '583.0', '616.0', '911.0', '1025.0', '1042.0', '1055.0', '1172.0', '1261.0', '1296.0', '1304.0', '1305.0', '1315.0', '1329.0', '1330.0', '1336.0', '1348.0', '1354.0', '1357.0', '1400.0', '1427.0'], ['43.0', '124.0', '237.0', '278.0', '323.0', '415.0', '482.0', '673.0', '684.0', '809.0', '898.0', '939.0', '1050.0', '1170.0', '1171.0', '1172.0', '1198.0', '1271.0', '1293.0', '1304.0', '1364.0', '1368.0', '1400.0', '1423.0'], ['723.0', '898.0', '1162.0', '1163.0', '1282.0', '1296.0', '1330.0', '1400.0', '1436.0'], ['225.0', '232.0', '236.0', '362.0', '495.0', '732.0', '751.0', '880.0', '930.0', '939.0', '981.0', '1174.0', '1313.0', '1314.0', '1328.0', '1351.0', '1368.0', '1396.0', '1427.0'], ['34.0', '223.0', '310.0', '482.0', '943.0', '1163.0', '1282.0', '1330.0', '1338.0', '1368.0', '1436.0'], ['110.0', '146.0', '193.0', '225.0', '658.0', '695.0', '729.0', '833.0', '903.0', '910.0', '967.0', '1006.0', '1052.0', '1164.0', '1172.0', '1176.0', '1225.0', '1314.0', '1330.0', '1351.0', '1426.0', '1436.0'], ['32.0', '39.0', '98.0', '107.0', '109.0', '124.0', '125.0', '151.0', '215.0', '260.0', '268.0', '369.0', '462.0', '588.0', '593.0', '600.0', '681.0', '729.0', '730.0', '932.0', '933.0', '1014.0', '1025.0', '1044.0', '1178.0', '1185.0', '1314.0', '1391.0', '1423.0'], ['43.0', '124.0', '237.0', '278.0', '323.0', '415.0', '482.0', '673.0', '684.0', '809.0', '898.0', '939.0', '1050.0', '1170.0', '1171.0', '1172.0', '1198.0', '1271.0', '1293.0', '1304.0', '1364.0', '1368.0', '1400.0', '1423.0'], ['34.0', '64.0', '109.0', '240.0', '502.0', '510.0', '559.0', '723.0', '1053.0', '1168.0', '1184.0', '1293.0', '1314.0', '1317.0', '1330.0', '1343.0', '1350.0', '1391.0', '1393.0', '1395.0', '1428.0', '1431.0', '1432.0'], ['723.0', '898.0', '1162.0', '1163.0', '1282.0', '1296.0', '1330.0', '1400.0', '1436.0'], ['138.0', '302.0', '482.0', '606.0', '641.0', '658.0', '673.0', '693.0', '812.0', '843.0', '880.0', '891.0', '958.0', '1172.0', '1185.0', '1271.0', '1276.0', '1277.0', '1351.0', '1364.0', '1366.0', '1418.0', '1433.0'], ['33.0', '64.0', '108.0', '221.0', '283.0', '315.0', '330.0', '382.0', '508.0', '542.0', '622.0', '682.0', '749.0', '865.0', '957.0', '959.0', '1014.0', '1044.0', '1160.0', '1276.0', '1314.0', '1330.0', '1332.0', '1338.0', '1351.0', '1410.0'], ['14.0', '112.0', '236.0', '593.0', '1048.0', '1157.0', '1165.0', '1174.0', '1185.0', '1296.0', '1364.0', '1400.0', '1410.0', '1429.0'], ['12.0', '34.0', '101.0', '103.0', '268.0', '295.0', '390.0', '409.0', '600.0', '729.0', '846.0', '1050.0', '1165.0', '1179.0', '1277.0', '1324.0', '1336.0', '1368.0', '1396.0', '1398.0', '1431.0', '1435.0'], ['98.0', '103.0', '108.0', '110.0', '131.0', '158.0', '189.0', '202.0', '263.0', '283.0', '415.0', '564.0', '617.0', '764.0', '821.0', '844.0', '933.0', '955.0', '965.0', '1017.0', '1044.0', '1055.0', '1056.0', '1057.0', '1060.0', '1160.0', '1163.0', '1164.0', '1165.0', '1166.0', '1330.0', '1332.0', '1336.0', '1360.0', '1367.0', '1403.0', '1431.0', '1436.0'], ['8.0', '173.0', '184.0', '210.0', '260.0', '349.0', '350.0', '669.0', '729.0', '744.0', '766.0', '784.0', '939.0', '1052.0', '1053.0', '1162.0', '1278.0', '1336.0', '1361.0', '1401.0'], ['53.0', '151.0', '184.0', '606.0', '681.0', '682.0', '766.0', '1014.0', '1174.0', '1178.0', '1304.0', '1305.0', '1320.0', '1321.0', '1394.0', '1400.0', '1435.0'], ['101.0', '111.0', '164.0', '310.0', '336.0', '412.0', '468.0', '1162.0', '1164.0', '1165.0', '1305.0', '1314.0', '1330.0', '1338.0', '1351.0', '1354.0', '1367.0', '1423.0'], ['880.0', '1162.0', '1171.0', '1261.0', '1338.0', '1351.0', '1364.0', '1427.0', '1429.0', '1430.0'], ['302.0', '482.0', '606.0', '616.0', '641.0', '658.0', '673.0', '693.0', '812.0', '843.0', '880.0', '891.0', '958.0', '1172.0', '1185.0', '1271.0', '1276.0', '1277.0', '1351.0', '1364.0', '1366.0', '1418.0', '1433.0'], ['18.0', '32.0', '33.0', '162.0', '202.0', '237.0', '241.0', '260.0', '263.0', '350.0', '381.0', '390.0', '409.0', '415.0', '426.0', '593.0', '607.0', '610.0', '730.0', '764.0', '766.0', '864.0', '903.0', '957.0', '1016.0', '1042.0', '1178.0', '1183.0', '1299.0', '1336.0', '1351.0', '1363.0', '1387.0', '1427.0', '1431.0', '1435.0', '1439.0'], ['151.0', '673.0', '958.0', '996.0', '1052.0', '1057.0', '1142.0', '1160.0', '1165.0', '1172.0', '1180.0', '1184.0', '1280.0', '1328.0', '1336.0', '1387.0', '1400.0', '1427.0', '1435.0'], ['20.0', '78.0', '268.0', '525.0', '600.0', '681.0', '788.0', '1006.0', '1053.0', '1185.0', '1338.0', '1343.0', '1364.0', '1367.0', '1393.0', '1395.0', '1400.0', '1405.0', '1410.0', '1433.0', '1434.0'], ['299.0', '422.0', '455.0', '957.0', '1052.0', '1055.0', '1164.0', '1165.0', '1293.0', '1364.0', '1422.0', '1429.0', '1430.0', '1431.0', '1432.0'], ['138.0', '299.0', '422.0', '455.0', '957.0', '1052.0', '1164.0', '1165.0', '1293.0', '1364.0', '1422.0', '1429.0', '1430.0', '1431.0', '1432.0'], ['0.0', '74.0', '122.0', '297.0', '569.0', '761.0', '766.0', '833.0', '1054.0', '1057.0', '1278.0', '1296.0', '1328.0', '1330.0', '1364.0'], ['12.0', '50.0', '108.0', '111.0', '153.0', '173.0', '356.0', '381.0', '482.0', '542.0', '732.0', '880.0', '957.0', '958.0', '1163.0', '1172.0', '1274.0', '1276.0', '1358.0', '1429.0', '1431.0', '1432.0', '1436.0'], ['80.0', '124.0', '224.0', '316.0', '723.0', '1052.0', '1276.0', '1351.0', '1364.0', '1386.0', '1427.0'], ['2.0', '74.0', '184.0', '194.0', '833.0', '1057.0', '1160.0', '1282.0', '1304.0', '1330.0', '1338.0', '1393.0', '1394.0', '1398.0', '1431.0'], ['124.0', '151.0', '173.0', '782.0', '881.0', '943.0', '1164.0', '1165.0', '1166.0', '1171.0', '1274.0', '1282.0', '1293.0', '1317.0', '1320.0', '1330.0', '1343.0', '1351.0', '1354.0', '1393.0'], ['8.0', '36.0', '173.0', '184.0', '210.0', '260.0', '349.0', '350.0', '669.0', '729.0', '744.0', '766.0', '939.0', '1052.0', '1053.0', '1162.0', '1278.0', '1336.0', '1361.0', '1401.0'], ['14.0', '173.0', '337.0', '346.0', '723.0', '809.0', '861.0', '939.0', '1160.0', '1271.0', '1320.0', '1328.0', '1391.0', '1396.0', '1410.0', '1431.0', '1432.0', '1437.0'], ['110.0', '844.0', '1059.0', '1163.0', '1314.0', '1320.0', '1351.0', '1396.0', '1433.0', '1436.0', '1437.0'], ['880.0', '1162.0', '1171.0', '1261.0', '1338.0', '1351.0', '1364.0', '1427.0', '1429.0', '1430.0'], ['57.0', '658.0', '1017.0', '1164.0', '1168.0', '1276.0', '1314.0', '1337.0', '1364.0', '1368.0', '1398.0'], ['57.0', '82.0', '100.0', '131.0', '693.0', '732.0', '1017.0', '1164.0', '1174.0', '1225.0', '1304.0', '1305.0', '1313.0', '1314.0', '1364.0', '1400.0', '1405.0', '1430.0'], ['53.0', '151.0', '184.0', '606.0', '681.0', '682.0', '766.0', '1014.0', '1174.0', '1178.0', '1304.0', '1305.0', '1320.0', '1321.0', '1330.0', '1394.0', '1400.0', '1435.0'], ['2.0', '20.0', '33.0', '51.0', '125.0', '130.0', '193.0', '223.0', '224.0', '250.0', '353.0', '440.0', '600.0', '641.0', '933.0', '939.0', '1164.0', '1171.0', '1172.0', '1274.0', '1304.0', '1305.0', '1350.0', '1363.0', '1364.0', '1386.0', '1423.0', '1425.0', '1431.0', '1436.0'], ['92.0', '102.0', '111.0', '495.0', '695.0', '910.0', '1060.0', '1160.0', '1165.0', '1172.0', '1185.0', '1186.0', '1271.0', '1320.0', '1403.0', '1427.0', '1430.0'], ['53.0', '116.0', '236.0', '314.0', '315.0', '464.0', '491.0', '510.0', '525.0', '668.0', '871.0', '1060.0', '1108.0', '1162.0', '1278.0', '1281.0', '1282.0', '1364.0', '1405.0', '1416.0', '1430.0', '1431.0', '1432.0'], ['124.0', '138.0', '151.0', '782.0', '881.0', '1164.0', '1165.0', '1166.0', '1171.0', '1274.0', '1282.0', '1293.0', '1317.0', '1320.0', '1330.0', '1343.0', '1351.0', '1354.0', '1393.0'], ['122.0', '241.0', '263.0', '682.0', '911.0', '1017.0', '1162.0', '1186.0', '1304.0', '1305.0', '1351.0', '1386.0', '1431.0'], ['12.0', '18.0', '124.0', '400.0', '444.0', '482.0', '681.0', '730.0', '812.0', '844.0', '1042.0', '1052.0', '1057.0', '1160.0', '1181.0', '1186.0', '1278.0', '1338.0', '1428.0'], ['634.0', '681.0', '865.0', '1052.0', '1277.0', '1314.0', '1320.0', '1321.0', '1354.0', '1360.0', '1366.0', '1405.0', '1436.0'], ['310.0', '730.0', '1163.0', '1176.0', '1274.0', '1351.0', '1364.0', '1368.0', '1436.0'], ['98.0', '116.0', '1282.0', '1304.0', '1330.0', '1343.0', '1354.0', '1398.0'], ['16.0', '26.0', '32.0', '43.0', '51.0', '64.0', '78.0', '109.0', '116.0', '124.0', '151.0', '202.0', '260.0', '288.0', '381.0', '477.0', '547.0', '593.0', '825.0', '975.0', '1025.0', '1048.0', '1160.0', '1314.0', '1393.0', '1394.0', '1398.0', '1429.0', '1432.0'], ['40.0', '164.0', '253.0', '278.0', '288.0', '291.0', '1162.0', '1185.0', '1286.0', '1338.0', '1351.0', '1429.0'], ['50.0', '98.0', '124.0', '390.0', '681.0', '933.0', '1304.0', '1364.0', '1368.0', '1398.0'], ['14.0', '28.0', '109.0', '162.0', '224.0', '230.0', '237.0', '464.0', '482.0', '692.0', '809.0', '1172.0', '1181.0', '1276.0', '1296.0', '1429.0'], ['40.0', '164.0', '253.0', '278.0', '291.0', '1162.0', '1185.0', '1286.0', '1338.0', '1351.0', '1429.0'], ['20.0', '89.0', '103.0', '124.0', '138.0', '184.0', '366.0', '477.0', '524.0', '645.0', '684.0', '725.0', '855.0', '933.0', '1048.0', '1054.0', '1162.0', '1165.0', '1166.0', '1351.0', '1364.0', '1393.0', '1395.0', '1398.0', '1419.0', '1425.0', '1429.0'], ['120.0', '138.0', '193.0', '1153.0', '1162.0', '1165.0', '1176.0', '1274.0', '1330.0', '1336.0', '1393.0', '1398.0', '1429.0', '1431.0', '1432.0'], ['40.0', '43.0', '57.0', '130.0', '205.0', '260.0', '295.0', '415.0', '465.0', '486.0', '563.0', '795.0', '821.0', '903.0', '993.0', '1024.0', '1276.0', '1360.0', '1364.0', '1398.0', '1400.0', '1422.0'], ['184.0', '244.0', '367.0', '475.0', '482.0', '659.0', '723.0', '1047.0', '1328.0', '1351.0', '1357.0', '1393.0', '1396.0', '1398.0'], ['213.0', '250.0', '761.0', '853.0', '870.0', '1052.0', '1056.0', '1162.0', '1186.0', '1271.0', '1290.0', '1304.0', '1405.0', '1429.0'], ['102.0', '634.0', '681.0', '1052.0', '1277.0', '1314.0', '1320.0', '1321.0', '1354.0', '1366.0', '1405.0', '1436.0'], ['34.0', '50.0', '98.0', '124.0', '390.0', '681.0', '1304.0', '1364.0', '1368.0', '1398.0'], ['268.0', '486.0', '678.0', '684.0', '695.0', '881.0', '930.0', '993.0', '1059.0', '1276.0', '1293.0', '1393.0', '1400.0', '1427.0', '1430.0'], ['54.0', '263.0', '390.0', '400.0', '455.0', '482.0', '525.0', '563.0', '583.0', '616.0', '911.0', '1025.0', '1042.0', '1055.0', '1172.0', '1261.0', '1304.0', '1305.0', '1315.0', '1329.0', '1330.0', '1336.0', '1348.0', '1354.0', '1357.0', '1400.0', '1427.0'], ['647.0', '1160.0', '1282.0', '1293.0', '1304.0', '1398.0', '1429.0', '1432.0'], ['50.0', '65.0', '116.0', '210.0', '230.0', '241.0', '260.0', '422.0', '766.0', '795.0', '969.0', '1017.0', '1314.0', '1364.0'], ['213.0', '250.0', '761.0', '853.0', '870.0', '1052.0', '1056.0', '1162.0', '1186.0', '1271.0', '1290.0', '1304.0', '1405.0', '1429.0'], ['34.0', '101.0', '108.0', '359.0', '460.0', '1160.0', '1165.0', '1293.0', '1305.0', '1354.0', '1400.0', '1429.0', '1436.0'], ['98.0', '508.0', '542.0', '563.0', '1160.0', '1170.0', '1276.0', '1293.0', '1360.0', '1364.0'], ['50.0', '116.0', '131.0', '176.0', '239.0', '348.0', '1055.0', '1059.0', '1060.0', '1164.0', '1165.0', '1171.0', '1274.0', '1314.0', '1330.0', '1343.0', '1364.0', '1368.0', '1436.0'], ['390.0', '415.0', '905.0', '919.0', '1330.0', '1364.0', '1400.0', '1427.0', '1429.0', '1435.0'], ['585.0', '809.0', '1017.0', '1164.0', '1170.0', '1171.0', '1304.0', '1338.0', '1398.0', '1400.0', '1416.0', '1431.0'], ['14.0', '26.0', '68.0', '98.0', '124.0', '158.0', '260.0', '382.0', '460.0', '1017.0', '1170.0', '1304.0', '1305.0', '1354.0', '1422.0'], ['122.0', '241.0', '263.0', '911.0', '1017.0', '1162.0', '1186.0', '1304.0', '1305.0', '1351.0', '1386.0'], ['284.0', '647.0', '1160.0', '1282.0', '1293.0', '1304.0', '1398.0', '1429.0', '1432.0'], ['14.0', '34.0', '51.0', '240.0', '250.0', '415.0', '665.0', '678.0', '720.0', '887.0', '1052.0', '1170.0', '1186.0', '1304.0', '1351.0', '1359.0'], ['2.0', '50.0', '151.0', '369.0', '440.0', '593.0', '617.0', '740.0', '809.0', '861.0', '985.0', '1293.0', '1317.0', '1330.0', '1338.0', '1398.0', '1416.0', '1420.0', '1430.0', '1431.0'], ['113.0', '124.0', '125.0', '151.0', '260.0', '268.0', '600.0', '990.0', '1017.0', '1044.0', '1282.0', '1304.0', '1364.0', '1398.0', '1428.0'], ['12.0', '43.0', '111.0', '213.0', '544.0', '593.0', '865.0', '939.0', '981.0', '1276.0', '1304.0', '1305.0', '1364.0', '1367.0', '1400.0', '1431.0'], ['34.0', '173.0', '429.0', '1054.0', '1170.0', '1171.0', '1172.0', '1282.0', '1314.0', '1330.0', '1338.0', '1364.0', '1367.0', '1436.0', '1437.0'], ['609.0', '684.0', '785.0', '793.0', '891.0', '898.0', '955.0', '981.0', '1017.0', '1271.0', '1276.0', '1332.0', '1338.0', '1398.0', '1424.0', '1431.0', '1440.0'], ['151.0', '673.0', '958.0', '996.0', '1052.0', '1057.0', '1142.0', '1160.0', '1165.0', '1172.0', '1180.0', '1184.0', '1280.0', '1336.0', '1387.0', '1400.0', '1427.0', '1435.0'], ['14.0', '34.0', '51.0', '202.0', '250.0', '415.0', '665.0', '678.0', '720.0', '887.0', '1052.0', '1170.0', '1186.0', '1304.0', '1351.0', '1359.0'], ['29.0', '43.0', '164.0', '254.0', '349.0', '409.0', '415.0', '462.0', '651.0', '919.0', '1176.0', '1180.0', '1185.0', '1324.0', '1338.0', '1429.0', '1435.0'], ['12.0', '151.0', '202.0', '398.0', '486.0', '658.0', '809.0', '1053.0', '1055.0', '1160.0', '1163.0', '1170.0', '1336.0', '1424.0', '1427.0'], ['20.0', '173.0', '732.0', '880.0', '1162.0', '1280.0', '1314.0', '1338.0', '1351.0', '1368.0', '1400.0'], ['29.0', '422.0', '477.0', '1052.0', '1053.0', '1160.0', '1271.0', '1330.0', '1396.0', '1431.0', '1435.0'], ['2.0', '43.0', '116.0', '131.0', '153.0', '250.0', '260.0', '465.0', '510.0', '647.0', '878.0', '939.0', '1170.0', '1174.0', '1293.0', '1304.0', '1330.0', '1354.0', '1368.0', '1393.0', '1395.0', '1428.0', '1429.0'], ['122.0', '250.0', '367.0', '843.0', '876.0', '1059.0', '1154.0', '1163.0', '1172.0', '1277.0', '1296.0', '1336.0', '1360.0', '1366.0', '1386.0', '1422.0', '1424.0'], ['50.0', '116.0', '131.0', '239.0', '329.0', '348.0', '1055.0', '1059.0', '1060.0', '1164.0', '1165.0', '1171.0', '1274.0', '1314.0', '1330.0', '1343.0', '1364.0', '1368.0', '1436.0'], ['122.0', '542.0', '681.0', '943.0', '1165.0', '1174.0', '1282.0', '1314.0', '1332.0', '1366.0', '1386.0', '1404.0', '1409.0', '1429.0'], ['20.0', '116.0', '492.0', '730.0', '844.0', '898.0', '911.0', '1048.0', '1053.0', '1059.0', '1162.0', '1282.0', '1296.0', '1305.0', '1332.0', '1391.0', '1398.0', '1420.0'], ['390.0', '1159.0', '1164.0', '1165.0', '1169.0', '1172.0', '1174.0', '1175.0', '1185.0', '1263.0', '1330.0', '1400.0', '1429.0', '1433.0'], ['113.0', '124.0', '125.0', '151.0', '260.0', '268.0', '600.0', '990.0', '1017.0', '1282.0', '1304.0', '1364.0', '1398.0', '1428.0'], ['18.0', '43.0', '65.0', '103.0', '108.0', '164.0', '485.0', '1017.0', '1163.0', '1336.0', '1427.0', '1431.0', '1435.0', '1436.0'], ['145.0', '146.0', '193.0', '225.0', '658.0', '695.0', '833.0', '903.0', '910.0', '967.0', '1006.0', '1052.0', '1164.0', '1172.0', '1176.0', '1225.0', '1314.0', '1330.0', '1351.0', '1426.0', '1436.0'], ['57.0', '658.0', '1164.0', '1168.0', '1276.0', '1314.0', '1337.0', '1364.0', '1368.0', '1398.0'], ['359.0', '959.0', '1084.0', '1085.0', '1228.0', '1271.0', '1278.0', '1280.0', '1290.0', '1304.0', '1305.0', '1324.0', '1332.0', '1400.0', '1402.0', '1433.0', '1435.0'], ['101.0', '151.0', '288.0', '470.0', '542.0', '645.0', '812.0', '967.0', '1162.0', '1304.0', '1305.0', '1332.0', '1338.0', '1361.0', '1418.0', '1429.0', '1430.0', '1432.0'], ['12.0', '50.0', '108.0', '111.0', '153.0', '157.0', '173.0', '356.0', '381.0', '482.0', '542.0', '732.0', '880.0', '957.0', '958.0', '1163.0', '1172.0', '1274.0', '1276.0', '1358.0', '1429.0', '1432.0', '1436.0'], ['164.0', '194.0', '221.0', '375.0', '617.0', '730.0', '833.0', '951.0', '981.0', '1015.0', '1018.0', '1050.0', '1157.0', '1271.0', '1330.0', '1332.0', '1351.0', '1354.0', '1368.0', '1391.0', '1398.0', '1429.0'], ['2.0', '43.0', '116.0', '130.0', '131.0', '153.0', '260.0', '465.0', '510.0', '647.0', '878.0', '939.0', '1170.0', '1174.0', '1293.0', '1304.0', '1330.0', '1354.0', '1368.0', '1393.0', '1395.0', '1428.0', '1429.0'], ['76.0', '194.0', '415.0', '617.0', '682.0', '761.0', '990.0', '1059.0', '1060.0', '1061.0', '1062.0', '1063.0', '1064.0', '1065.0', '1123.0', '1124.0', '1125.0', '1274.0', '1276.0', '1292.0', '1304.0', '1305.0', '1330.0', '1336.0', '1427.0', '1436.0'], ['18.0', '20.0', '43.0', '164.0', '409.0', '440.0', '486.0', '600.0', '693.0', '821.0', '910.0', '1017.0', '1052.0', '1053.0', '1160.0', '1169.0', '1336.0', '1354.0', '1426.0', '1429.0'], ['101.0', '111.0', '164.0', '310.0', '336.0', '468.0', '1162.0', '1164.0', '1165.0', '1305.0', '1330.0', '1338.0', '1351.0', '1354.0', '1367.0', '1423.0'], ['273.0', '382.0', '761.0', '1186.0', '1276.0', '1296.0', '1320.0', '1332.0', '1429.0'], ['18.0', '20.0', '43.0', '164.0', '409.0', '440.0', '486.0', '600.0', '693.0', '761.0', '821.0', '910.0', '1017.0', '1052.0', '1053.0', '1160.0', '1169.0', '1336.0', '1354.0', '1426.0', '1429.0'], ['232.0', '236.0', '362.0', '495.0', '732.0', '751.0', '793.0', '880.0', '930.0', '939.0', '981.0', '1174.0', '1313.0', '1314.0', '1328.0', '1351.0', '1368.0', '1396.0', '1427.0'], ['108.0', '164.0', '241.0', '651.0', '785.0', '844.0', '1203.0', '1330.0', '1360.0', '1366.0', '1400.0', '1423.0', '1430.0', '1431.0'], ['34.0', '43.0', '51.0', '74.0', '108.0', '124.0', '164.0', '237.0', '336.0', '347.0', '349.0', '411.0', '470.0', '482.0', '723.0', '833.0', '858.0', '1054.0', '1063.0', '1186.0', '1276.0', '1426.0'], ['107.0', '124.0', '479.0', '715.0', '1052.0', '1160.0', '1165.0', '1330.0', '1336.0', '1338.0', '1367.0', '1368.0', '1429.0', '1431.0'], ['14.0', '164.0', '846.0', '858.0', '939.0', '1163.0', '1314.0', '1393.0', '1410.0', '1427.0', '1429.0', '1433.0'], ['43.0', '59.0', '162.0', '316.0', '382.0', '465.0', '482.0', '494.0', '583.0', '732.0', '1177.0', '1180.0', '1185.0', '1273.0', '1290.0', '1364.0', '1367.0', '1368.0', '1420.0', '1427.0', '1435.0'], ['26.0', '33.0', '40.0', '43.0', '68.0', '164.0', '284.0', '313.0', '411.0', '422.0', '542.0', '617.0', '1016.0', '1170.0', '1171.0', '1172.0', '1293.0', '1330.0', '1364.0', '1393.0', '1395.0', '1428.0', '1429.0', '1431.0', '1436.0'], ['34.0', '43.0', '51.0', '74.0', '124.0', '164.0', '237.0', '336.0', '347.0', '349.0', '411.0', '470.0', '482.0', '607.0', '723.0', '833.0', '858.0', '1054.0', '1063.0', '1186.0', '1276.0', '1426.0'], ['50.0', '153.0', '427.0', '957.0', '1052.0', '1277.0', '1351.0', '1400.0', '1430.0', '1431.0', '1437.0'], ['39.0', '43.0', '108.0', '124.0', '152.0', '273.0', '409.0', '510.0', '681.0', '730.0', '732.0', '1017.0', '1164.0', '1271.0', '1276.0', '1277.0', '1338.0', '1367.0', '1395.0', '1429.0'], ['310.0', '585.0', '898.0', '932.0', '939.0', '1170.0', '1171.0', '1172.0', '1174.0', '1185.0', '1305.0', '1314.0', '1330.0', '1336.0', '1360.0', '1422.0', '1427.0'], ['20.0', '609.0', '684.0', '785.0', '793.0', '891.0', '898.0', '951.0', '955.0', '981.0', '1017.0', '1271.0', '1276.0', '1332.0', '1338.0', '1398.0', '1424.0', '1431.0', '1440.0'], ['2.0', '50.0', '151.0', '369.0', '440.0', '593.0', '617.0', '740.0', '809.0', '861.0', '985.0', '1293.0', '1317.0', '1330.0', '1338.0', '1398.0', '1416.0', '1420.0', '1430.0', '1431.0'], ['382.0', '761.0', '1186.0', '1276.0', '1296.0', '1320.0', '1332.0', '1429.0'], ['164.0', '194.0', '221.0', '375.0', '617.0', '730.0', '833.0', '951.0', '981.0', '1015.0', '1018.0', '1050.0', '1157.0', '1271.0', '1330.0', '1332.0', '1351.0', '1354.0', '1368.0', '1391.0', '1398.0', '1429.0'], ['164.0', '349.0', '390.0', '1170.0', '1171.0', '1298.0', '1343.0', '1351.0', '1354.0', '1364.0'], ['57.0', '98.0', '230.0', '329.0', '422.0', '759.0', '858.0', '1165.0', '1185.0', '1351.0', '1364.0', '1426.0', '1431.0'], ['151.0', '202.0', '1120.0', '1158.0', '1181.0', '1263.0', '1304.0', '1332.0', '1351.0', '1398.0', '1404.0', '1416.0', '1432.0'], ['20.0', '39.0', '43.0', '51.0', '57.0', '74.0', '116.0', '120.0', '124.0', '125.0', '130.0', '260.0', '369.0', '593.0', '600.0', '844.0', '959.0', '1025.0', '1050.0', '1166.0', '1336.0', '1343.0', '1351.0', '1364.0', '1429.0'], ['162.0', '337.0', '680.0', '1160.0', '1169.0', '1176.0', '1314.0', '1360.0', '1427.0', '1430.0'], ['110.0', '120.0', '193.0', '1153.0', '1162.0', '1165.0', '1176.0', '1274.0', '1330.0', '1336.0', '1393.0', '1398.0', '1429.0', '1431.0'], ['20.0', '89.0', '103.0', '124.0', '138.0', '184.0', '366.0', '477.0', '524.0', '645.0', '684.0', '855.0', '933.0', '1048.0', '1054.0', '1162.0', '1165.0', '1166.0', '1351.0', '1364.0', '1393.0', '1395.0', '1398.0', '1419.0', '1425.0', '1429.0'], ['51.0', '132.0', '164.0', '1057.0', '1160.0', '1163.0', '1185.0', '1187.0', '1293.0', '1343.0', '1398.0', '1410.0'], ['184.0', '244.0', '367.0', '475.0', '482.0', '659.0', '723.0', '1047.0', '1173.0', '1328.0', '1351.0', '1357.0', '1393.0', '1396.0', '1398.0'], ['14.0', '16.0', '28.0', '32.0', '40.0', '57.0', '108.0', '109.0', '132.0', '173.0', '251.0', '252.0', '253.0', '263.0', '268.0', '310.0', '353.0', '460.0', '651.0', '658.0', '723.0', '813.0', '864.0', '933.0', '939.0', '975.0', '1024.0', '1044.0', '1314.0', '1430.0'], ['34.0', '40.0', '151.0', '865.0', '876.0', '1185.0', '1330.0', '1338.0', '1364.0', '1368.0', '1394.0'], ['20.0', '116.0', '492.0', '730.0', '844.0', '898.0', '911.0', '1053.0', '1059.0', '1162.0', '1282.0', '1296.0', '1305.0', '1332.0', '1391.0', '1398.0', '1420.0'], ['107.0', '124.0', '162.0', '479.0', '715.0', '1052.0', '1160.0', '1165.0', '1330.0', '1336.0', '1338.0', '1367.0', '1368.0', '1429.0', '1431.0'], ['34.0', '173.0', '429.0', '1054.0', '1170.0', '1171.0', '1172.0', '1282.0', '1314.0', '1330.0', '1336.0', '1338.0', '1364.0', '1367.0', '1436.0', '1437.0'], ['221.0', '260.0', '861.0', '1160.0', '1314.0', '1328.0', '1330.0', '1332.0', '1360.0', '1368.0', '1394.0', '1403.0', '1404.0', '1431.0'], ['43.0', '109.0', '116.0', '122.0', '124.0', '152.0', '162.0', '189.0', '213.0', '223.0', '225.0', '250.0', '390.0', '460.0', '482.0', '641.0', '730.0', '761.0', '764.0', '1276.0', '1298.0', '1336.0', '1396.0', '1424.0', '1427.0'], ['29.0', '422.0', '477.0', '1052.0', '1053.0', '1160.0', '1165.0', '1271.0', '1274.0', '1330.0', '1396.0', '1431.0', '1435.0'], ['34.0', '101.0', '108.0', '359.0', '460.0', '1160.0', '1165.0', '1293.0', '1305.0', '1354.0', '1400.0', '1429.0', '1436.0'], ['43.0', '48.0', '57.0', '237.0', '268.0', '482.0', '525.0', '729.0', '939.0', '951.0', '968.0', '969.0', '1056.0', '1166.0', '1304.0', '1368.0', '1406.0', '1420.0', '1436.0'], ['14.0', '28.0', '109.0', '162.0', '224.0', '237.0', '464.0', '482.0', '692.0', '809.0', '1172.0', '1181.0', '1276.0', '1296.0', '1427.0', '1429.0'], ['43.0', '109.0', '125.0', '130.0', '164.0', '323.0', '444.0', '846.0', '1025.0', '1047.0', '1276.0', '1298.0', '1351.0', '1360.0', '1427.0', '1429.0', '1435.0'], ['26.0', '33.0', '40.0', '43.0', '164.0', '284.0', '313.0', '411.0', '422.0', '542.0', '617.0', '1016.0', '1170.0', '1171.0', '1172.0', '1293.0', '1330.0', '1364.0', '1393.0', '1395.0', '1428.0', '1429.0', '1431.0', '1436.0'], ['12.0', '43.0', '111.0', '213.0', '544.0', '593.0', '730.0', '865.0', '939.0', '981.0', '1276.0', '1304.0', '1305.0', '1364.0', '1367.0', '1400.0', '1431.0'], ['26.0', '221.0', '224.0', '295.0', '315.0', '350.0', '351.0', '448.0', '607.0', '617.0', '701.0', '727.0', '782.0', '784.0', '878.0', '887.0', '943.0', '986.0', '1047.0', '1162.0', '1165.0', '1174.0', '1314.0', '1360.0', '1386.0', '1422.0', '1425.0', '1427.0'], ['142.0', '173.0', '732.0', '880.0', '1162.0', '1280.0', '1314.0', '1338.0', '1351.0', '1368.0', '1400.0'], ['103.0', '124.0', '164.0', '278.0', '1163.0', '1165.0', '1185.0', '1304.0', '1305.0', '1336.0', '1400.0', '1429.0'], ['223.0', '250.0', '715.0', '1160.0', '1163.0', '1183.0', '1271.0', '1278.0', '1313.0'], ['43.0', '109.0', '151.0', '164.0', '415.0', '542.0', '641.0', '865.0', '1185.0', '1304.0', '1364.0', '1368.0'], ['353.0', '468.0', '486.0', '593.0', '600.0', '957.0', '1017.0', '1181.0', '1305.0', '1364.0', '1402.0', '1431.0', '1437.0'], ['53.0', '89.0', '232.0', '495.0', '727.0', '793.0', '981.0', '1053.0', '1186.0', '1271.0', '1296.0', '1320.0'], ['33.0', '57.0', '64.0', '223.0', '422.0', '833.0', '1276.0', '1330.0', '1354.0', '1386.0', '1396.0', '1426.0', '1431.0'], ['81.0', '136.0', '191.0', '462.0', '813.0', '1271.0', '1278.0', '1314.0', '1320.0', '1400.0', '1410.0'], ['585.0', '809.0', '1017.0', '1164.0', '1170.0', '1171.0', '1338.0', '1398.0', '1400.0', '1416.0', '1431.0'], ['25.0', '54.0', '381.0', '463.0', '491.0', '609.0', '645.0', '721.0', '764.0', '880.0', '981.0', '1025.0', '1164.0', '1166.0', '1170.0', '1171.0', '1185.0', '1219.0', '1271.0', '1280.0', '1320.0', '1324.0', '1351.0', '1356.0', '1368.0', '1396.0', '1402.0', '1410.0', '1411.0'], ['151.0', '202.0', '398.0', '486.0', '658.0', '681.0', '809.0', '1053.0', '1055.0', '1160.0', '1163.0', '1170.0', '1336.0', '1424.0', '1427.0'], ['353.0', '468.0', '486.0', '593.0', '600.0', '957.0', '1017.0', '1181.0', '1305.0', '1364.0', '1402.0', '1426.0', '1431.0', '1437.0'], ['1343.0', '1351.0', '1368.0', '1400.0', '1430.0'], ['162.0', '337.0', '1169.0', '1176.0', '1314.0', '1360.0', '1427.0', '1430.0'], ['151.0', '260.0', '462.0', '969.0', '1017.0', '1044.0', '1164.0', '1296.0', '1324.0', '1351.0'], ['34.0', '43.0', '57.0', '116.0', '151.0', '250.0', '339.0', '415.0', '542.0', '600.0', '609.0', '669.0', '843.0', '1165.0', '1271.0', '1304.0', '1336.0', '1368.0', '1398.0'], ['124.0', '151.0', '213.0', '251.0', '316.0', '336.0', '409.0', '825.0', '1025.0', '1160.0', '1162.0', '1166.0', '1170.0', '1171.0', '1330.0', '1398.0'], ['120.0', '122.0', '319.0', '347.0', '390.0', '510.0', '542.0', '647.0', '669.0', '910.0', '993.0', '1017.0', '1024.0', '1052.0', '1170.0', '1298.0', '1432.0'], ['33.0', '189.0', '230.0', '270.0', '400.0', '415.0', '525.0', '632.0', '695.0', '732.0', '795.0', '891.0', '1059.0', '1286.0', '1293.0', '1424.0', '1430.0', '1431.0'], ['18.0', '124.0', '223.0', '237.0', '241.0', '260.0', '409.0', '617.0', '729.0', '744.0', '864.0', '969.0', '1048.0', '1057.0', '1151.0', '1276.0', '1304.0', '1332.0'], ['120.0', '1120.0', '1158.0', '1282.0', '1304.0', '1364.0'], ['14.0', '16.0', '28.0', '32.0', '57.0', '108.0', '109.0', '132.0', '173.0', '251.0', '252.0', '253.0', '263.0', '268.0', '310.0', '353.0', '460.0', '651.0', '658.0', '723.0', '813.0', '864.0', '933.0', '939.0', '975.0', '1024.0', '1044.0', '1314.0', '1430.0'], ['14.0', '136.0', '164.0', '846.0', '858.0', '939.0', '1163.0', '1314.0', '1393.0', '1410.0', '1429.0', '1433.0'], ['122.0', '250.0', '367.0', '843.0', '876.0', '1059.0', '1154.0', '1163.0', '1172.0', '1277.0', '1336.0', '1360.0', '1366.0', '1386.0', '1422.0', '1424.0'], ['124.0', '162.0', '173.0', '329.0', '542.0', '658.0', '723.0', '813.0', '939.0', '955.0', '958.0', '1054.0', '1163.0', '1173.0', '1185.0', '1274.0', '1368.0'], ['145.0', '349.0', '955.0', '1017.0', '1059.0', '1161.0', '1163.0', '1170.0', '1430.0'], ['943.0', '1165.0', '1304.0', '1330.0', '1364.0', '1368.0', '1427.0', '1429.0'], ['194.0', '1282.0', '1314.0', '1351.0', '1354.0', '1398.0'], ['8.0', '50.0', '252.0', '525.0', '684.0', '693.0', '732.0', '1174.0', '1176.0', '1274.0', '1296.0', '1336.0', '1364.0', '1400.0'], ['109.0', '120.0', '122.0', '319.0', '347.0', '390.0', '510.0', '542.0', '647.0', '669.0', '910.0', '993.0', '1017.0', '1024.0', '1052.0', '1170.0', '1298.0'], ['76.0', '164.0', '184.0', '194.0', '329.0', '510.0', '833.0', '858.0', '911.0', '1014.0', '1018.0', '1053.0', '1176.0', '1338.0', '1367.0', '1391.0', '1430.0', '1436.0'], ['390.0', '833.0', '959.0', '1160.0', '1232.0', '1282.0', '1296.0', '1305.0', '1314.0', '1330.0', '1337.0', '1393.0', '1416.0', '1432.0'], ['76.0', '164.0', '184.0', '194.0', '329.0', '510.0', '833.0', '858.0', '911.0', '1014.0', '1018.0', '1053.0', '1176.0', '1338.0', '1367.0', '1391.0', '1430.0', '1432.0', '1436.0'], ['33.0', '124.0', '125.0', '151.0', '194.0', '202.0', '349.0', '448.0', '470.0', '524.0', '617.0', '795.0', '864.0', '957.0', '990.0', '1017.0', '1048.0', '1170.0', '1436.0'], ['111.0', '132.0', '315.0', '379.0', '448.0', '723.0', '809.0', '1017.0', '1164.0', '1186.0', '1330.0', '1338.0', '1351.0'], ['33.0', '110.0', '125.0', '151.0', '202.0', '268.0', '295.0', '422.0', '673.0', '681.0', '729.0', '882.0', '957.0', '1174.0', '1178.0', '1332.0', '1429.0'], ['28.0', '103.0', '116.0', '151.0', '390.0', '446.0', '933.0', '1056.0', '1176.0', '1304.0', '1313.0', '1425.0', '1429.0'], ['57.0', '98.0', '329.0', '422.0', '682.0', '759.0', '858.0', '1165.0', '1185.0', '1351.0', '1364.0', '1426.0', '1431.0'], ['8.0', '50.0', '525.0', '547.0', '684.0', '693.0', '732.0', '1174.0', '1176.0', '1274.0', '1296.0', '1336.0', '1364.0', '1400.0'], ['14.0', '124.0', '673.0', '693.0', '821.0', '1176.0', '1351.0', '1393.0', '1423.0', '1427.0'], ['60.0', '151.0', '1165.0', '1170.0', '1185.0', '1338.0', '1406.0', '1436.0'], ['482.0', '641.0', '656.0', '1271.0', '1320.0', '1357.0', '1433.0'], ['225.0', '641.0', '670.0', '1097.0', '1271.0', '1277.0', '1314.0', '1360.0', '1422.0', '1433.0'], ['8.0', '18.0', '65.0', '109.0', '237.0', '241.0', '260.0', '349.0', '409.0', '547.0', '729.0', '766.0', '933.0', '1016.0', '1176.0', '1431.0'], ['108.0', '120.0', '522.0', '681.0', '729.0', '1336.0', '1360.0', '1430.0', '1436.0'], ['1351.0', '1360.0', '1364.0', '1422.0', '1430.0', '1436.0'], ['8.0', '57.0', '122.0', '232.0', '250.0', '482.0', '659.0', '695.0', '1025.0', '1149.0', '1165.0', '1170.0', '1313.0', '1330.0', '1351.0', '1360.0', '1368.0', '1398.0', '1403.0', '1429.0', '1432.0', '1439.0'], ['205.0', '647.0', '729.0', '975.0', '1024.0', '1157.0', '1160.0', '1314.0', '1360.0', '1416.0', '1424.0', '1427.0'], ['223.0', '250.0', '311.0', '350.0', '482.0', '641.0', '673.0', '732.0', '768.0', '880.0', '910.0', '958.0', '981.0', '1174.0', '1360.0', '1367.0', '1427.0', '1430.0'], ['314.0', '1138.0', '1176.0', '1282.0', '1314.0', '1398.0'], ['33.0', '1052.0', '1164.0', '1165.0', '1183.0', '1293.0', '1386.0', '1431.0', '1436.0'], ['65.0', '77.0', '120.0', '164.0', '547.0', '812.0', '821.0', '833.0', '1057.0', '1160.0', '1252.0', '1305.0', '1330.0', '1364.0', '1398.0', '1429.0'], ['18.0', '26.0', '43.0', '108.0', '193.0', '237.0', '465.0', '617.0', '933.0', '939.0', '943.0', '996.0', '1183.0', '1185.0', '1293.0', '1317.0', '1360.0', '1429.0', '1431.0'], ['254.0', '732.0', '967.0', '1160.0', '1314.0', '1336.0', '1351.0', '1354.0', '1393.0', '1398.0', '1432.0'], ['8.0', '411.0', '416.0', '470.0', '477.0', '542.0', '730.0', '903.0', '1053.0', '1166.0', '1176.0', '1184.0', '1274.0', '1314.0', '1416.0', '1423.0', '1424.0', '1431.0'], ['36.0', '53.0', '122.0', '158.0', '162.0', '254.0', '266.0', '390.0', '651.0', '730.0', '732.0', '844.0', '880.0', '939.0', '955.0', '965.0', '1160.0', '1190.0', '1261.0', '1336.0', '1348.0', '1349.0', '1364.0', '1405.0', '1429.0', '1431.0'], ['15.0', '43.0', '194.0', '268.0', '348.0', '651.0', '658.0', '684.0', '730.0', '761.0', '788.0', '865.0', '967.0', '977.0', '996.0', '1018.0', '1054.0', '1174.0', '1176.0', '1274.0', '1314.0', '1330.0', '1332.0', '1393.0', '1429.0'], ['43.0', '59.0', '162.0', '176.0', '316.0', '465.0', '482.0', '494.0', '583.0', '732.0', '1177.0', '1180.0', '1185.0', '1273.0', '1290.0', '1364.0', '1367.0', '1368.0', '1420.0', '1427.0', '1435.0'], ['8.0', '411.0', '416.0', '470.0', '477.0', '542.0', '730.0', '903.0', '1053.0', '1166.0', '1176.0', '1184.0', '1274.0', '1314.0', '1416.0', '1423.0', '1424.0', '1431.0'], ['8.0', '98.0', '1282.0', '1304.0', '1330.0', '1343.0', '1398.0'], ['36.0', '53.0', '122.0', '158.0', '162.0', '254.0', '266.0', '390.0', '651.0', '730.0', '732.0', '844.0', '939.0', '955.0', '965.0', '1160.0', '1190.0', '1261.0', '1336.0', '1348.0', '1349.0', '1364.0', '1405.0', '1429.0', '1431.0'], ['223.0', '250.0', '715.0', '1160.0', '1163.0', '1183.0', '1271.0', '1278.0', '1313.0'], ['151.0', '173.0', '189.0', '202.0', '369.0', '528.0', '600.0', '795.0', '1053.0', '1293.0', '1338.0', '1430.0'], ['151.0', '542.0', '1165.0', '1170.0', '1185.0', '1338.0', '1406.0', '1436.0'], ['250.0', '284.0', '510.0', '641.0', '656.0', '1063.0', '1170.0', '1172.0', '1314.0', '1354.0', '1357.0', '1364.0'], ['349.0', '955.0', '1017.0', '1057.0', '1059.0', '1161.0', '1163.0', '1170.0', '1430.0'], ['2.0', '8.0', '12.0', '68.0', '74.0', '103.0', '120.0', '143.0', '181.0', '193.0', '202.0', '205.0', '237.0', '329.0', '383.0', '390.0', '491.0', '510.0', '524.0', '542.0', '600.0', '617.0', '692.0', '764.0', '795.0', '812.0', '821.0', '833.0', '878.0', '935.0', '941.0', '957.0', '996.0', '1006.0', '1030.0', '1038.0', '1050.0', '1165.0', '1170.0', '1171.0', '1305.0', '1336.0', '1350.0', '1426.0'], ['117.0', '221.0', '260.0', '861.0', '1160.0', '1328.0', '1330.0', '1332.0', '1360.0', '1368.0', '1394.0', '1403.0', '1404.0', '1431.0'], ['57.0', '80.0', '122.0', '232.0', '250.0', '482.0', '659.0', '695.0', '1025.0', '1149.0', '1165.0', '1170.0', '1313.0', '1330.0', '1351.0', '1360.0', '1368.0', '1398.0', '1403.0', '1429.0', '1432.0', '1439.0'], ['116.0', '124.0', '151.0', '213.0', '251.0', '316.0', '336.0', '409.0', '825.0', '1025.0', '1080.0', '1160.0', '1162.0', '1166.0', '1170.0', '1171.0', '1330.0', '1398.0'], ['80.0', '254.0', '260.0', '384.0', '673.0', '732.0', '812.0', '1172.0', '1174.0', '1175.0', '1185.0', '1276.0', '1278.0', '1400.0'], ['68.0', '87.0', '109.0', '164.0', '193.0', '237.0', '278.0', '936.0', '1146.0', '1166.0', '1181.0', '1271.0', '1354.0', '1368.0', '1431.0'], ['26.0', '230.0', '250.0', '732.0', '891.0', '1052.0', '1055.0', '1164.0', '1276.0', '1314.0', '1330.0', '1360.0'], ['43.0', '48.0', '57.0', '237.0', '268.0', '482.0', '525.0', '729.0', '939.0', '951.0', '968.0', '1056.0', '1166.0', '1304.0', '1368.0', '1406.0', '1420.0', '1436.0'], ['2.0', '20.0', '107.0', '682.0', '1014.0', '1025.0', '1047.0', '1296.0', '1354.0', '1394.0', '1398.0', '1429.0', '1431.0'], ['254.0', '260.0', '384.0', '673.0', '732.0', '812.0', '1172.0', '1174.0', '1175.0', '1185.0', '1276.0', '1278.0', '1400.0'], ['18.0', '26.0', '43.0', '108.0', '193.0', '202.0', '237.0', '617.0', '933.0', '939.0', '996.0', '1183.0', '1185.0', '1293.0', '1317.0', '1360.0', '1429.0', '1431.0'], ['20.0', '40.0', '82.0', '98.0', '138.0', '162.0', '173.0', '224.0', '240.0', '260.0', '455.0', '508.0', '525.0', '528.0', '563.0', '600.0', '616.0', '684.0', '723.0', '732.0', '766.0', '930.0', '981.0', '1054.0', '1330.0', '1410.0', '1422.0', '1428.0'], ['223.0', '495.0', '609.0', '665.0', '1160.0', '1328.0', '1368.0', '1396.0'], ['39.0', '43.0', '108.0', '124.0', '152.0', '409.0', '510.0', '681.0', '730.0', '732.0', '1017.0', '1164.0', '1271.0', '1276.0', '1277.0', '1338.0', '1367.0', '1395.0'], ['14.0', '593.0', '732.0', '958.0', '981.0', '1304.0', '1360.0', '1368.0', '1400.0'], ['122.0', '151.0', '268.0', '316.0', '382.0', '462.0', '684.0', '1024.0', '1293.0', '1324.0', '1330.0', '1364.0', '1428.0', '1429.0'], ['108.0', '164.0', '241.0', '651.0', '785.0', '1203.0', '1330.0', '1360.0', '1400.0', '1423.0', '1430.0', '1431.0'], ['34.0', '153.0', '329.0', '1054.0', '1056.0', '1170.0', '1174.0', '1186.0', '1271.0', '1305.0', '1330.0', '1343.0', '1422.0', '1425.0', '1426.0', '1432.0'], ['324.0', '665.0', '958.0', '1057.0', '1271.0', '1304.0', '1360.0', '1400.0'], ['62.0', '311.0', '390.0', '426.0', '528.0', '593.0', '695.0', '905.0', '1313.0', '1314.0', '1320.0', '1356.0', '1386.0', '1396.0', '1429.0'], ['153.0', '250.0', '673.0', '844.0', '910.0', '939.0', '1165.0', '1263.0', '1271.0', '1304.0', '1328.0', '1330.0', '1368.0', '1400.0', '1425.0'], ['15.0', '43.0', '164.0', '194.0', '268.0', '348.0', '651.0', '658.0', '684.0', '730.0', '749.0', '761.0', '788.0', '865.0', '967.0', '977.0', '996.0', '1018.0', '1054.0', '1174.0', '1176.0', '1274.0', '1314.0', '1330.0', '1332.0', '1393.0', '1429.0'], ['15.0', '111.0', '132.0', '315.0', '723.0', '809.0', '1017.0', '1164.0', '1186.0', '1330.0', '1338.0', '1351.0'], ['12.0', '108.0', '382.0', '681.0', '880.0', '1271.0', '1277.0', '1324.0', '1351.0', '1409.0', '1430.0', '1434.0'], ['20.0', '379.0', '846.0', '1160.0', '1162.0', '1170.0', '1314.0', '1330.0', '1338.0', '1431.0'], ['1293.0', '1343.0', '1351.0', '1354.0', '1393.0', '1398.0'], ['142.0', '239.0', '268.0', '316.0', '528.0', '680.0', '681.0', '903.0', '996.0', '1053.0', '1160.0', '1164.0', '1330.0', '1364.0', '1393.0', '1422.0', '1427.0', '1431.0'], ['40.0', '64.0', '107.0', '120.0', '260.0', '440.0', '566.0', '730.0', '825.0', '959.0', '1047.0', '1048.0', '1271.0', '1393.0', '1400.0', '1410.0', '1432.0', '1437.0'], ['77.0', '120.0', '164.0', '547.0', '812.0', '821.0', '833.0', '1057.0', '1160.0', '1252.0', '1330.0', '1364.0', '1398.0', '1429.0'], ['25.0', '50.0', '54.0', '381.0', '463.0', '491.0', '609.0', '645.0', '721.0', '764.0', '880.0', '981.0', '1025.0', '1164.0', '1166.0', '1170.0', '1171.0', '1185.0', '1219.0', '1271.0', '1280.0', '1320.0', '1324.0', '1351.0', '1356.0', '1368.0', '1396.0', '1402.0', '1410.0', '1411.0'], ['151.0', '162.0', '486.0', '542.0', '645.0', '692.0', '1198.0', '1304.0', '1368.0', '1430.0', '1436.0'], ['33.0', '57.0', '64.0', '223.0', '422.0', '833.0', '1276.0', '1330.0', '1354.0', '1386.0', '1396.0', '1426.0', '1431.0'], ['277.0', '943.0', '1162.0', '1338.0', '1364.0', '1430.0', '1431.0'], ['359.0', '959.0', '1084.0', '1085.0', '1228.0', '1271.0', '1280.0', '1304.0', '1305.0', '1324.0', '1332.0', '1400.0', '1402.0', '1433.0', '1435.0'], ['29.0', '43.0', '164.0', '254.0', '409.0', '415.0', '462.0', '651.0', '919.0', '1176.0', '1180.0', '1185.0', '1324.0', '1338.0', '1429.0', '1435.0'], ['239.0', '268.0', '316.0', '528.0', '680.0', '681.0', '903.0', '996.0', '1053.0', '1160.0', '1164.0', '1330.0', '1364.0', '1393.0', '1394.0', '1422.0', '1427.0', '1431.0'], ['34.0', '151.0', '865.0', '876.0', '1024.0', '1185.0', '1330.0', '1338.0', '1364.0', '1368.0', '1394.0'], ['2.0', '8.0', '12.0', '68.0', '74.0', '103.0', '111.0', '120.0', '143.0', '181.0', '193.0', '202.0', '205.0', '237.0', '329.0', '383.0', '390.0', '491.0', '510.0', '524.0', '542.0', '600.0', '617.0', '692.0', '764.0', '795.0', '812.0', '821.0', '833.0', '878.0', '935.0', '941.0', '957.0', '996.0', '1006.0', '1030.0', '1038.0', '1050.0', '1165.0', '1170.0', '1171.0', '1305.0', '1336.0', '1350.0', '1426.0'], ['26.0', '221.0', '224.0', '284.0', '295.0', '315.0', '350.0', '351.0', '448.0', '607.0', '617.0', '701.0', '727.0', '782.0', '784.0', '878.0', '943.0', '986.0', '1047.0', '1162.0', '1165.0', '1314.0', '1360.0', '1386.0', '1422.0', '1425.0', '1427.0'], ['26.0', '43.0', '103.0', '124.0', '251.0', '314.0', '559.0', '729.0', '833.0', '864.0', '933.0', '1014.0', '1170.0', '1171.0', '1282.0', '1304.0', '1416.0', '1427.0'], ['943.0', '1162.0', '1338.0', '1364.0', '1422.0', '1430.0', '1431.0'], ['16.0', '26.0', '32.0', '43.0', '51.0', '64.0', '78.0', '109.0', '116.0', '124.0', '151.0', '260.0', '288.0', '381.0', '477.0', '547.0', '593.0', '825.0', '975.0', '1025.0', '1048.0', '1160.0', '1314.0', '1393.0', '1394.0', '1398.0', '1432.0'], ['124.0', '162.0', '329.0', '542.0', '658.0', '723.0', '813.0', '939.0', '955.0', '958.0', '1054.0', '1163.0', '1173.0', '1185.0', '1274.0', '1368.0'], ['33.0', '1052.0', '1164.0', '1165.0', '1183.0', '1293.0', '1386.0', '1431.0', '1436.0'], ['16.0', '26.0', '28.0', '29.0', '57.0', '103.0', '109.0', '125.0', '268.0', '477.0', '485.0', '681.0', '766.0', '933.0', '1163.0', '1314.0', '1364.0', '1368.0'], ['16.0', '18.0', '151.0', '369.0', '477.0', '969.0', '1025.0', '1048.0', '1172.0', '1314.0', '1354.0', '1393.0', '1424.0', '1436.0'], ['202.0', '390.0', '1159.0', '1164.0', '1165.0', '1169.0', '1172.0', '1174.0', '1175.0', '1185.0', '1263.0', '1330.0', '1400.0', '1433.0'], ['782.0', '1053.0', '1057.0', '1162.0', '1170.0', '1278.0', '1282.0', '1328.0', '1330.0', '1336.0', '1396.0', '1424.0'], ['2.0', '20.0', '162.0', '682.0', '1014.0', '1025.0', '1047.0', '1296.0', '1354.0', '1394.0', '1398.0', '1429.0', '1431.0'], ['34.0', '43.0', '57.0', '116.0', '151.0', '250.0', '339.0', '415.0', '600.0', '609.0', '669.0', '843.0', '1165.0', '1271.0', '1304.0', '1336.0', '1368.0', '1398.0'], ['1162.0', '1278.0', '1324.0', '1338.0', '1354.0', '1393.0', '1433.0'], ['33.0', '124.0', '151.0', '194.0', '202.0', '210.0', '349.0', '448.0', '470.0', '524.0', '795.0', '864.0', '957.0', '990.0', '1017.0', '1170.0', '1436.0'], ['260.0', '825.0', '846.0', '1160.0', '1162.0', '1172.0', '1293.0', '1314.0', '1355.0', '1393.0'], ['103.0', '124.0', '164.0', '278.0', '1163.0', '1165.0', '1185.0', '1304.0', '1305.0', '1336.0', '1400.0', '1429.0'], ['250.0', '673.0', '844.0', '910.0', '939.0', '1165.0', '1263.0', '1271.0', '1304.0', '1305.0', '1328.0', '1330.0', '1368.0', '1400.0', '1425.0'], ['43.0', '74.0', '125.0', '223.0', '278.0', '486.0', '1056.0', '1177.0', '1314.0', '1368.0', '1424.0', '1429.0'], ['53.0', '110.0', '1163.0', '1176.0', '1314.0', '1330.0', '1360.0', '1396.0', '1398.0'], ['43.0', '109.0', '116.0', '122.0', '124.0', '152.0', '162.0', '189.0', '213.0', '223.0', '250.0', '390.0', '460.0', '482.0', '641.0', '730.0', '761.0', '764.0', '1055.0', '1276.0', '1298.0', '1336.0', '1396.0', '1424.0', '1427.0'], ['641.0', '658.0', '898.0', '969.0', '1338.0', '1420.0', '1427.0', '1430.0', '1433.0'], ['18.0', '43.0', '109.0', '158.0', '475.0', '547.0', '634.0', '969.0', '1008.0', '1324.0', '1330.0', '1368.0', '1391.0', '1427.0', '1433.0'], ['87.0', '109.0', '164.0', '193.0', '237.0', '278.0', '569.0', '936.0', '1146.0', '1166.0', '1181.0', '1271.0', '1354.0', '1368.0', '1431.0'], ['48.0', '124.0', '223.0', '241.0', '316.0', '382.0', '542.0', '563.0', '1057.0', '1165.0', '1170.0', '1171.0', '1172.0', '1291.0', '1336.0', '1338.0', '1354.0', '1398.0', '1426.0'], ['43.0', '109.0', '151.0', '164.0', '542.0', '641.0', '865.0', '1185.0', '1304.0', '1364.0', '1368.0'], ['1054.0', '1158.0', '1174.0', '1293.0', '1394.0', '1429.0'], ['205.0', '647.0', '729.0', '975.0', '1024.0', '1157.0', '1160.0', '1314.0', '1360.0', '1416.0', '1424.0', '1427.0'], ['53.0', '232.0', '495.0', '727.0', '793.0', '981.0', '1053.0', '1186.0', '1271.0', '1296.0', '1320.0', '1324.0', '1396.0'], ['51.0', '81.0', '136.0', '191.0', '1271.0', '1278.0', '1314.0', '1320.0', '1400.0', '1410.0'], ['50.0', '65.0', '116.0', '230.0', '241.0', '260.0', '422.0', '795.0', '969.0', '1017.0', '1314.0', '1364.0'], ['34.0', '329.0', '1054.0', '1056.0', '1170.0', '1174.0', '1186.0', '1271.0', '1305.0', '1330.0', '1343.0', '1425.0', '1426.0', '1432.0'], ['101.0', '151.0', '241.0', '288.0', '470.0', '542.0', '645.0', '812.0', '967.0', '1162.0', '1304.0', '1305.0', '1338.0', '1361.0', '1418.0', '1430.0', '1432.0'], ['20.0', '40.0', '98.0', '138.0', '162.0', '173.0', '224.0', '240.0', '260.0', '302.0', '455.0', '508.0', '525.0', '528.0', '563.0', '600.0', '616.0', '684.0', '723.0', '732.0', '766.0', '930.0', '981.0', '1025.0', '1054.0', '1330.0', '1410.0', '1422.0', '1428.0'], ['390.0', '415.0', '905.0', '1330.0', '1364.0', '1400.0', '1427.0', '1435.0'], ['18.0', '124.0', '223.0', '237.0', '241.0', '260.0', '409.0', '559.0', '617.0', '729.0', '744.0', '864.0', '969.0', '1048.0', '1057.0', '1151.0', '1276.0', '1304.0', '1332.0', '1367.0'], ['782.0', '1053.0', '1057.0', '1162.0', '1170.0', '1273.0', '1278.0', '1282.0', '1328.0', '1330.0', '1336.0', '1396.0', '1424.0'], ['250.0', '284.0', '482.0', '510.0', '641.0', '656.0', '1063.0', '1170.0', '1172.0', '1314.0', '1354.0', '1357.0', '1364.0'], ['18.0', '43.0', '65.0', '103.0', '108.0', '164.0', '485.0', '1017.0', '1336.0', '1427.0', '1431.0', '1435.0', '1436.0'], ['223.0', '250.0', '311.0', '350.0', '482.0', '641.0', '673.0', '732.0', '880.0', '910.0', '958.0', '1174.0', '1360.0', '1367.0', '1427.0', '1430.0'], ['109.0', '124.0', '125.0', '164.0', '191.0', '260.0', '681.0', '730.0', '1160.0', '1166.0', '1314.0', '1364.0', '1427.0', '1429.0'], ['101.0', '103.0', '125.0', '151.0', '193.0', '240.0', '263.0', '510.0', '563.0', '600.0', '821.0', '1016.0', '1025.0', '1160.0', '1351.0', '1354.0', '1364.0', '1432.0'], ['40.0', '310.0', '314.0', '1162.0', '1163.0'], ['390.0', '833.0', '959.0', '1160.0', '1232.0', '1282.0', '1296.0', '1305.0', '1314.0', '1330.0', '1337.0', '1393.0', '1416.0', '1432.0'], ['14.0', '92.0', '153.0', '295.0', '302.0', '362.0', '485.0', '528.0', '593.0', '609.0', '898.0', '1293.0', '1317.0', '1343.0', '1393.0', '1395.0', '1400.0', '1428.0', '1430.0'], ['8.0', '33.0', '110.0', '125.0', '151.0', '202.0', '268.0', '295.0', '422.0', '673.0', '681.0', '729.0', '882.0', '957.0', '1174.0', '1178.0', '1332.0', '1429.0'], ['50.0', '57.0', '74.0', '109.0', '120.0', '162.0', '164.0', '210.0', '237.0', '260.0', '409.0', '462.0', '491.0', '600.0', '795.0', '969.0', '1025.0', '1254.0', '1351.0', '1364.0', '1391.0'], ['18.0', '43.0', '109.0', '158.0', '475.0', '547.0', '634.0', '795.0', '969.0', '1008.0', '1324.0', '1330.0', '1368.0', '1391.0', '1427.0', '1433.0'], ['12.0', '108.0', '153.0', '382.0', '681.0', '880.0', '1271.0', '1277.0', '1324.0', '1351.0', '1409.0', '1430.0', '1434.0'], ['20.0', '379.0', '846.0', '1160.0', '1162.0', '1170.0', '1314.0', '1338.0', '1431.0'], ['109.0', '124.0', '125.0', '164.0', '191.0', '260.0', '681.0', '730.0', '1160.0', '1166.0', '1314.0', '1364.0', '1427.0', '1429.0'], ['102.0', '1162.0', '1276.0', '1293.0', '1343.0', '1436.0'], ['80.0', '225.0', '670.0', '1097.0', '1271.0', '1277.0', '1314.0', '1360.0', '1433.0'], ['20.0', '254.0', '732.0', '967.0', '1160.0', '1314.0', '1336.0', '1351.0', '1354.0', '1393.0', '1398.0', '1432.0'], ['116.0', '260.0', '310.0', '390.0', '409.0', '470.0', '645.0', '898.0', '1006.0', '1279.0', '1298.0', '1368.0', '1427.0'], ['16.0', '18.0', '477.0', '969.0', '1025.0', '1048.0', '1172.0', '1314.0', '1354.0', '1393.0', '1424.0', '1436.0'], ['34.0', '51.0', '164.0', '263.0', '349.0', '379.0', '599.0', '723.0', '809.0', '871.0', '933.0', '1276.0', '1364.0'], ['43.0', '164.0', '379.0', '1178.0', '1183.0', '1293.0', '1330.0', '1351.0', '1391.0', '1394.0', '1429.0', '1436.0'], ['352.0', '1190.0', '1293.0', '1304.0', '1305.0', '1357.0', '1368.0'], ['53.0', '109.0', '116.0', '260.0', '266.0', '651.0', '667.0', '1017.0', '1018.0', '1048.0', '1172.0', '1286.0', '1304.0', '1305.0', '1354.0', '1364.0'], ['319.0', '665.0', '958.0', '1164.0', '1354.0', '1357.0', '1396.0', '1422.0', '1437.0'], ['482.0', '641.0', '656.0', '1271.0', '1320.0', '1433.0'], ['8.0', '462.0', '673.0', '1051.0', '1057.0', '1174.0', '1324.0', '1330.0', '1351.0', '1364.0', '1368.0', '1420.0', '1424.0', '1434.0'], ['230.0', '250.0', '732.0', '891.0', '1052.0', '1055.0', '1164.0', '1276.0', '1314.0', '1330.0'], ['482.0', '1160.0', '1172.0', '1278.0', '1336.0', '1364.0', '1386.0', '1410.0'], ['62.0', '311.0', '390.0', '426.0', '528.0', '593.0', '695.0', '905.0', '1313.0', '1314.0', '1320.0', '1356.0', '1396.0', '1429.0'], ['57.0', '120.0', '145.0', '336.0', '761.0', '813.0', '1052.0', '1338.0', '1427.0'], ['26.0', '151.0', '969.0', '1176.0', '1274.0', '1314.0'], ['20.0', '34.0', '116.0', '223.0', '302.0', '465.0', '673.0', '732.0', '1048.0', '1366.0', '1400.0', '1427.0'], ['43.0', '124.0', '173.0', '288.0', '349.0', '618.0', '732.0', '1162.0', '1232.0', '1314.0', '1337.0', '1354.0'], ['108.0', '122.0', '241.0', '350.0', '415.0', '658.0', '705.0', '749.0', '865.0', '1162.0', '1185.0', '1271.0', '1336.0', '1360.0', '1387.0', '1403.0', '1426.0'], ['673.0', '812.0', '1073.0', '1174.0', '1184.0', '1271.0', '1298.0', '1364.0', '1400.0'], ['40.0', '130.0', '253.0', '475.0', '658.0', '680.0', '723.0', '761.0', '795.0', '858.0', '880.0', '930.0', '962.0', '1162.0', '1336.0'], ['48.0', '124.0', '241.0', '316.0', '382.0', '542.0', '563.0', '600.0', '1057.0', '1165.0', '1170.0', '1171.0', '1172.0', '1291.0', '1336.0', '1338.0', '1354.0', '1398.0', '1426.0'], ['43.0', '57.0', '74.0', '260.0', '462.0', '981.0', '1048.0', '1172.0', '1271.0', '1328.0', '1431.0', '1437.0'], ['260.0', '844.0', '1052.0', '1053.0', '1055.0', '1351.0', '1364.0', '1425.0'], ['43.0', '164.0', '284.0', '1178.0', '1183.0', '1293.0', '1330.0', '1351.0', '1394.0', '1429.0', '1436.0'], ['20.0', '57.0', '76.0', '164.0', '362.0', '470.0', '510.0', '542.0', '600.0', '730.0', '795.0', '812.0', '833.0', '1057.0', '1186.0', '1274.0', '1304.0', '1354.0', '1420.0', '1428.0', '1429.0'], ['225.0', '1170.0', '1171.0', '1293.0', '1314.0', '1343.0'], ['110.0', '117.0', '146.0', '189.0', '266.0', '390.0', '411.0', '473.0', '634.0', '843.0', '862.0', '1072.0', '1163.0', '1170.0', '1336.0', '1366.0', '1436.0'], ['310.0', '809.0', '1052.0', '1368.0', '1423.0'], ['1185.0', '1368.0', '1429.0', '1436.0'], ['681.0', '957.0', '965.0', '1163.0', '1336.0', '1430.0', '1436.0'], ['1293.0', '1343.0', '1354.0', '1393.0', '1398.0'], ['39.0', '110.0', '136.0', '210.0', '263.0', '268.0', '462.0', '525.0', '729.0', '846.0', '855.0', '864.0', '1016.0', '1160.0', '1162.0', '1330.0', '1431.0'], ['43.0', '124.0', '125.0', '1025.0', '1048.0', '1147.0', '1148.0', '1149.0', '1304.0', '1305.0', '1324.0', '1364.0', '1368.0', '1429.0'], ['462.0', '673.0', '1051.0', '1057.0', '1174.0', '1324.0', '1330.0', '1351.0', '1364.0', '1368.0', '1420.0', '1424.0', '1434.0'], ['16.0', '26.0', '28.0', '29.0', '103.0', '109.0', '125.0', '213.0', '268.0', '477.0', '485.0', '681.0', '933.0', '1163.0', '1314.0', '1364.0', '1368.0'], ['784.0', '981.0', '1160.0', '1165.0', '1169.0', '1185.0', '1189.0', '1271.0', '1304.0', '1336.0', '1402.0', '1439.0'], ['213.0', '1053.0', '1162.0', '1293.0', '1433.0'], ['12.0', '43.0', '57.0', '108.0', '162.0', '241.0', '260.0', '311.0', '329.0', '462.0', '645.0', '857.0', '891.0', '892.0', '939.0', '957.0', '1183.0', '1271.0', '1304.0'], ['189.0', '729.0', '1017.0', '1052.0', '1163.0'], ['1160.0', '1181.0', '1398.0', '1429.0'], ['43.0', '109.0', '164.0', '260.0', '1165.0', '1175.0', '1185.0', '1298.0', '1315.0', '1324.0', '1326.0', '1333.0', '1349.0', '1358.0', '1364.0', '1406.0', '1410.0', '1427.0', '1440.0'], ['311.0', '880.0', '1163.0', '1271.0', '1278.0', '1336.0', '1357.0', '1422.0'], ['28.0', '32.0', '43.0', '130.0', '151.0', '162.0', '191.0', '295.0', '462.0', '681.0', '788.0', '1024.0', '1171.0', '1185.0', '1332.0', '1338.0', '1367.0', '1406.0'], ['26.0', '33.0', '124.0', '151.0', '544.0', '1017.0', '1293.0', '1431.0'], ['173.0', '237.0', '250.0', '329.0', '359.0', '415.0', '673.0', '905.0', '1018.0', '1042.0', '1053.0', '1165.0', '1192.0', '1293.0', '1343.0', '1364.0', '1393.0', '1394.0', '1395.0', '1428.0'], ['98.0', '283.0', '1170.0', '1314.0', '1391.0', '1429.0', '1436.0'], ['480.0', '651.0', '809.0', '1176.0', '1274.0', '1314.0', '1406.0', '1430.0'], ['108.0', '173.0', '205.0', '390.0', '609.0', '727.0', '740.0', '759.0', '812.0', '926.0', '1047.0', '1163.0', '1170.0', '1172.0', '1185.0', '1318.0', '1336.0', '1420.0', '1436.0', '1437.0'], ['20.0', '125.0', '252.0', '593.0', '647.0', '673.0', '928.0', '1017.0', '1048.0', '1162.0', '1165.0', '1276.0', '1360.0'], ['641.0', '729.0', '1278.0', '1354.0', '1368.0'], ['50.0', '390.0', '494.0', '768.0', '1177.0', '1183.0', '1278.0', '1328.0', '1433.0'], ['415.0', '444.0', '542.0', '673.0', '693.0', '732.0', '844.0', '958.0', '975.0', '1183.0', '1271.0', '1328.0', '1366.0', '1433.0'], ['1185.0', '1304.0', '1368.0', '1429.0'], ['122.0', '542.0', '681.0', '943.0', '1165.0', '1174.0', '1314.0', '1332.0', '1386.0', '1404.0', '1409.0', '1429.0'], ['14.0', '92.0', '153.0', '258.0', '295.0', '302.0', '362.0', '485.0', '528.0', '593.0', '609.0', '898.0', '1293.0', '1317.0', '1343.0', '1393.0', '1395.0', '1428.0', '1430.0'], ['98.0', '283.0', '1170.0', '1314.0', '1317.0', '1330.0', '1391.0', '1429.0', '1436.0'], ['43.0', '57.0', '109.0', '164.0', '189.0', '237.0', '278.0', '464.0', '477.0', '855.0', '940.0', '969.0', '1050.0', '1054.0', '1296.0', '1429.0', '1434.0'], ['14.0', '1163.0', '1324.0', '1398.0', '1400.0'], ['2.0', '8.0', '32.0', '43.0', '151.0', '237.0', '251.0', '288.0', '349.0', '369.0', '766.0', '864.0', '1429.0'], ['43.0', '109.0', '164.0', '260.0', '1165.0', '1175.0', '1185.0', '1298.0', '1315.0', '1324.0', '1326.0', '1333.0', '1349.0', '1358.0', '1364.0', '1406.0', '1410.0', '1427.0', '1440.0'], ['315.0', '583.0', '749.0', '1062.0', '1186.0', '1296.0', '1328.0', '1409.0', '1411.0', '1431.0'], ['125.0', '347.0', '369.0', '647.0', '1304.0', '1354.0', '1364.0', '1395.0', '1398.0'], ['14.0', '1163.0', '1324.0', '1398.0', '1400.0'], ['78.0', '221.0', '996.0', '1014.0', '1025.0', '1064.0', '1186.0', '1330.0', '1351.0', '1354.0', '1369.0', '1394.0', '1429.0'], ['473.0', '475.0', '1276.0', '1296.0', '1304.0', '1305.0', '1332.0'], ['958.0', '1057.0', '1271.0', '1304.0', '1360.0', '1400.0'], ['12.0', '20.0', '124.0', '153.0', '162.0', '164.0', '324.0', '464.0', '482.0', '542.0', '641.0', '812.0', '958.0', '1277.0', '1364.0', '1386.0', '1429.0'], ['34.0', '51.0', '89.0', '263.0', '349.0', '379.0', '599.0', '723.0', '809.0', '871.0', '933.0', '1276.0', '1364.0'], ['33.0', '399.0', '641.0', '667.0', '1164.0', '1171.0', '1181.0', '1185.0', '1330.0', '1334.0', '1386.0', '1431.0'], ['43.0', '173.0', '205.0', '288.0', '349.0', '618.0', '732.0', '1162.0', '1232.0', '1314.0', '1354.0'], ['50.0', '57.0', '74.0', '109.0', '162.0', '164.0', '210.0', '237.0', '260.0', '283.0', '409.0', '462.0', '491.0', '600.0', '795.0', '969.0', '1025.0', '1254.0', '1351.0', '1364.0'], ['346.0', '1174.0', '1296.0', '1351.0', '1398.0'], ['1050.0', '1293.0', '1343.0', '1364.0', '1393.0', '1398.0'], ['409.0', '975.0', '1053.0', '1054.0', '1150.0', '1282.0', '1398.0'], ['40.0', '232.0', '1271.0', '1320.0', '1328.0', '1402.0', '1410.0'], ['101.0', '1160.0', '1293.0', '1314.0', '1429.0', '1432.0'], ['173.0', '349.0', '383.0', '409.0', '906.0', '958.0', '1057.0', '1271.0', '1320.0', '1328.0'], ['213.0', '1054.0', '1174.0', '1293.0', '1429.0'], ['18.0', '43.0', '51.0', '74.0', '124.0', '241.0', '260.0', '415.0', '600.0', '607.0', '730.0', '812.0', '1017.0', '1314.0', '1364.0'], ['1185.0', '1400.0', '1424.0', '1427.0', '1429.0'], ['152.0', '362.0', '658.0', '708.0', '749.0', '972.0', '1282.0', '1296.0', '1304.0'], ['9.0', '103.0', '120.0', '184.0', '409.0', '563.0', '1056.0', '1170.0', '1171.0', '1180.0', '1305.0', '1393.0', '1416.0', '1429.0', '1431.0', '1436.0'], ['1293.0', '1304.0', '1305.0', '1330.0', '1338.0', '1368.0', '1428.0'], ['125.0', '721.0', '809.0', '861.0', '1138.0', '1170.0', '1172.0', '1330.0', '1351.0', '1368.0', '1425.0', '1427.0', '1428.0', '1430.0'], ['25.0', '57.0', '164.0', '244.0', '383.0', '593.0', '795.0', '812.0', '910.0', '1042.0', '1053.0', '1160.0', '1304.0', '1336.0', '1354.0'], ['108.0', '151.0', '225.0', '865.0', '977.0', '1025.0', '1053.0', '1169.0', '1187.0', '1263.0', '1271.0', '1358.0', '1397.0', '1414.0', '1415.0', '1434.0'], ['132.0', '251.0', '314.0', '349.0', '353.0', '933.0', '1054.0', '1160.0', '1418.0', '1422.0'], ['8.0', '18.0', '65.0', '109.0', '241.0', '260.0', '349.0', '409.0', '547.0', '729.0', '766.0', '933.0', '1016.0', '1176.0'], ['100.0', '729.0', '1278.0', '1354.0', '1368.0'], ['108.0', '138.0', '151.0', '225.0', '865.0', '977.0', '1025.0', '1053.0', '1169.0', '1187.0', '1271.0', '1358.0', '1397.0', '1414.0', '1415.0', '1434.0'], ['98.0', '1314.0', '1330.0', '1364.0', '1428.0', '1431.0'], ['349.0', '415.0', '846.0', '1084.0', '1086.0', '1282.0', '1351.0', '1364.0'], ['223.0', '1271.0', '1276.0', '1314.0', '1396.0', '1437.0'], ['108.0', '173.0', '176.0', '205.0', '390.0', '609.0', '727.0', '740.0', '759.0', '812.0', '926.0', '1047.0', '1163.0', '1170.0', '1172.0', '1185.0', '1318.0', '1336.0', '1420.0', '1436.0', '1437.0'], ['98.0', '205.0', '348.0', '559.0', '585.0', '692.0', '723.0', '749.0', '868.0', '898.0', '1017.0', '1286.0', '1330.0', '1337.0', '1398.0'], ['298.0', '1179.0', '1181.0', '1184.0', '1192.0', '1225.0', '1285.0', '1290.0', '1304.0', '1307.0', '1319.0', '1328.0', '1356.0', '1358.0', '1431.0', '1434.0', '1440.0', '1441.0'], ['16.0', '189.0', '1282.0', '1391.0', '1398.0', '1416.0', '1429.0', '1431.0'], ['223.0', '495.0', '665.0', '1160.0', '1368.0', '1396.0'], ['124.0', '486.0', '673.0', '693.0', '821.0', '1176.0', '1351.0', '1391.0', '1393.0', '1423.0', '1427.0'], ['844.0', '1162.0', '1165.0', '1185.0', '1293.0', '1320.0'], ['1160.0', '1276.0', '1314.0', '1330.0', '1336.0', '1430.0'], ['108.0', '151.0', '880.0', '1017.0', '1360.0', '1429.0'], ['124.0', '1186.0', '1276.0', '1304.0', '1305.0', '1400.0'], ['108.0', '189.0', '729.0', '1017.0', '1052.0', '1163.0'], ['164.0', '223.0', '237.0', '314.0', '480.0', '905.0', '939.0', '1354.0', '1405.0', '1429.0'], ['32.0', '194.0', '240.0', '409.0', '462.0', '903.0', '1017.0', '1189.0', '1274.0', '1282.0', '1398.0', '1424.0', '1431.0'], ['120.0', '379.0', '1162.0', '1164.0', '1174.0', '1436.0'], ['1320.0', '1324.0', '1328.0', '1356.0', '1403.0', '1430.0', '1436.0'], ['151.0', '470.0', '969.0', '1176.0', '1274.0', '1314.0'], ['8.0', '202.0', '225.0', '1060.0', '1159.0', '1163.0', '1271.0', '1278.0', '1292.0'], ['390.0', '593.0', '1052.0', '1165.0', '1170.0', '1171.0', '1184.0', '1186.0', '1293.0', '1424.0', '1425.0'], ['2.0', '8.0', '32.0', '43.0', '50.0', '151.0', '237.0', '251.0', '288.0', '349.0', '369.0', '593.0', '766.0', '864.0', '1429.0'], ['253.0', '482.0', '1160.0', '1278.0', '1364.0', '1386.0', '1410.0'], ['1170.0', '1171.0', '1293.0', '1314.0', '1343.0', '1360.0'], ['33.0', '108.0', '151.0', '189.0', '617.0', '681.0', '959.0', '1047.0', '1054.0', '1431.0', '1436.0'], ['213.0', '1053.0', '1162.0', '1293.0', '1433.0'], ['1160.0', '1181.0', '1398.0', '1429.0'], ['103.0', '120.0', '184.0', '409.0', '563.0', '1056.0', '1170.0', '1171.0', '1180.0', '1305.0', '1393.0', '1416.0', '1424.0', '1428.0', '1429.0', '1431.0', '1436.0'], ['34.0', '329.0', '517.0', '761.0', '1054.0', '1174.0', '1185.0', '1364.0'], ['111.0', '844.0', '1017.0', '1174.0', '1276.0', '1314.0', '1407.0', '1408.0'], ['673.0', '732.0', '1271.0', '1351.0', '1360.0', '1400.0'], ['299.0', '311.0', '1163.0', '1271.0', '1278.0', '1336.0', '1357.0'], ['151.0', '260.0', '969.0', '1044.0', '1164.0', '1296.0', '1324.0', '1351.0'], ['34.0', '39.0', '57.0', '111.0', '162.0', '252.0', '253.0', '260.0', '310.0', '329.0', '362.0', '379.0', '415.0', '492.0', '495.0', '508.0', '607.0', '644.0', '749.0', '809.0', '861.0', '878.0', '887.0', '981.0', '1025.0', '1028.0', '1047.0', '1053.0', '1276.0', '1332.0', '1338.0'], ['319.0', '665.0', '958.0', '1164.0', '1354.0', '1357.0', '1396.0', '1422.0', '1437.0'], ['1174.0', '1181.0', '1271.0', '1281.0', '1320.0', '1403.0', '1404.0', '1405.0', '1440.0'], ['76.0', '202.0', '237.0', '349.0', '409.0', '477.0', '569.0', '593.0', '651.0', '744.0', '758.0', '764.0', '800.0', '935.0', '936.0', '948.0', '957.0', '1035.0', '1050.0', '1164.0', '1343.0', '1350.0', '1395.0', '1428.0', '1431.0'], ['102.0', '1162.0', '1276.0', '1343.0', '1436.0'], ['20.0', '78.0', '98.0', '103.0', '152.0', '241.0', '251.0', '263.0', '268.0', '525.0', '563.0', '600.0', '723.0', '782.0', '844.0', '933.0', '975.0', '1016.0', '1047.0', '1180.0', '1185.0', '1332.0', '1336.0', '1422.0'], ['116.0', '310.0', '390.0', '409.0', '645.0', '898.0', '1006.0', '1298.0', '1368.0', '1427.0'], ['108.0', '122.0', '350.0', '658.0', '705.0', '749.0', '865.0', '1162.0', '1185.0', '1271.0', '1336.0', '1360.0', '1387.0', '1403.0', '1426.0'], ['12.0', '20.0', '132.0', '153.0', '162.0', '164.0', '324.0', '464.0', '482.0', '542.0', '641.0', '812.0', '958.0', '1364.0', '1386.0', '1429.0'], ['1179.0', '1181.0', '1184.0', '1192.0', '1225.0', '1285.0', '1290.0', '1304.0', '1307.0', '1319.0', '1328.0', '1356.0', '1358.0', '1431.0', '1434.0', '1440.0', '1441.0'], ['16.0', '164.0', '349.0', '390.0', '1170.0', '1171.0', '1298.0', '1351.0', '1354.0'], ['110.0', '117.0', '146.0', '189.0', '266.0', '390.0', '411.0', '473.0', '634.0', '843.0', '862.0', '1163.0', '1170.0', '1336.0', '1366.0', '1436.0'], ['43.0', '98.0', '124.0', '559.0', '600.0', '730.0', '1018.0', '1138.0', '1154.0', '1304.0', '1354.0', '1391.0', '1394.0', '1398.0'], ['18.0', '51.0', '74.0', '124.0', '260.0', '415.0', '600.0', '607.0', '730.0', '812.0', '1017.0', '1314.0', '1364.0'], ['108.0', '120.0', '522.0', '681.0', '1336.0', '1360.0', '1430.0', '1436.0'], ['43.0', '98.0', '124.0', '237.0', '559.0', '600.0', '1138.0', '1154.0', '1304.0', '1354.0', '1391.0', '1394.0', '1398.0'], ['164.0', '223.0', '237.0', '277.0', '314.0', '480.0', '905.0', '939.0', '1354.0', '1429.0'], ['347.0', '1163.0', '1183.0', '1185.0', '1431.0', '1436.0'], ['14.0', '732.0', '958.0', '981.0', '1360.0', '1368.0', '1400.0'], ['336.0', '910.0', '1180.0', '1183.0', '1273.0', '1277.0', '1293.0', '1364.0', '1367.0', '1386.0', '1422.0', '1429.0'], ['122.0', '151.0', '268.0', '382.0', '462.0', '684.0', '1024.0', '1293.0', '1324.0', '1330.0', '1364.0', '1428.0'], ['12.0', '43.0', '57.0', '108.0', '162.0', '241.0', '260.0', '311.0', '329.0', '462.0', '857.0', '891.0', '892.0', '939.0', '957.0', '1183.0', '1271.0', '1304.0'], ['1162.0', '1164.0', '1276.0', '1364.0', '1396.0', '1427.0'], ['53.0', '142.0', '164.0', '411.0', '440.0', '600.0', '788.0', '903.0', '969.0', '1271.0', '1354.0', '1431.0'], ['8.0', '33.0', '230.0', '288.0', '440.0', '600.0', '903.0', '1016.0', '1368.0', '1423.0', '1431.0'], ['15.0', '33.0', '109.0', '422.0', '515.0', '651.0', '681.0', '684.0', '729.0', '744.0', '957.0', '990.0', '1018.0', '1055.0', '1162.0', '1393.0', '1429.0'], ['28.0', '32.0', '43.0', '151.0', '162.0', '191.0', '295.0', '462.0', '681.0', '788.0', '1024.0', '1171.0', '1185.0', '1332.0', '1338.0', '1367.0', '1406.0'], ['25.0', '1360.0', '1364.0', '1430.0', '1436.0'], ['43.0', '362.0', '427.0', '930.0', '1276.0', '1336.0', '1343.0', '1360.0', '1386.0'], ['108.0', '193.0', '315.0', '485.0', '727.0', '865.0', '933.0', '1149.0', '1157.0', '1174.0', '1185.0', '1296.0', '1330.0', '1436.0'], ['673.0', '732.0', '1271.0', '1285.0', '1351.0', '1360.0', '1400.0'], ['109.0', '116.0', '260.0', '266.0', '651.0', '667.0', '1017.0', '1018.0', '1048.0', '1172.0', '1286.0', '1304.0', '1305.0', '1354.0', '1364.0'], ['158.0', '336.0', '910.0', '1180.0', '1183.0', '1273.0', '1277.0', '1293.0', '1364.0', '1367.0', '1386.0', '1422.0', '1429.0'], ['152.0', '253.0', '532.0', '669.0', '715.0', '896.0', '926.0', '952.0', '959.0', '1320.0', '1357.0', '1368.0'], ['151.0', '173.0', '189.0', '202.0', '369.0', '528.0', '600.0', '795.0', '1293.0', '1338.0', '1430.0'], ['131.0', '250.0', '311.0', '673.0', '735.0', '812.0', '1160.0', '1162.0', '1183.0', '1305.0', '1328.0', '1343.0', '1396.0'], ['50.0', '53.0', '109.0', '142.0', '164.0', '411.0', '440.0', '600.0', '788.0', '903.0', '969.0', '1271.0', '1354.0', '1431.0'], ['151.0', '162.0', '486.0', '542.0', '645.0', '692.0', '1198.0', '1368.0', '1430.0', '1436.0'], ['20.0', '57.0', '76.0', '138.0', '164.0', '470.0', '510.0', '542.0', '600.0', '730.0', '795.0', '812.0', '833.0', '1057.0', '1186.0', '1274.0', '1304.0', '1354.0', '1420.0', '1428.0', '1429.0'], ['152.0', '250.0', '362.0', '708.0', '749.0', '972.0', '1282.0', '1296.0', '1304.0'], ['81.0', '230.0', '1160.0', '1178.0', '1276.0', '1435.0'], ['1053.0', '1165.0', '1282.0', '1360.0', '1427.0'], ['108.0', '193.0', '234.0', '315.0', '485.0', '727.0', '865.0', '933.0', '1157.0', '1174.0', '1185.0', '1296.0', '1330.0', '1436.0'], ['53.0', '110.0', '1176.0', '1314.0', '1360.0', '1396.0', '1398.0'], ['215.0', '1052.0', '1271.0', '1304.0', '1349.0', '1403.0'], ['34.0', '329.0', '517.0', '1054.0', '1174.0', '1185.0', '1364.0'], ['87.0', '784.0', '981.0', '1160.0', '1165.0', '1169.0', '1185.0', '1189.0', '1271.0', '1304.0', '1336.0', '1402.0', '1439.0'], ['33.0', '108.0', '151.0', '173.0', '189.0', '617.0', '681.0', '959.0', '1054.0', '1431.0', '1436.0'], ['314.0', '1176.0', '1282.0', '1398.0'], ['125.0', '721.0', '809.0', '861.0', '1138.0', '1170.0', '1172.0', '1330.0', '1351.0', '1368.0', '1425.0', '1427.0', '1428.0', '1430.0'], ['12.0', '51.0', '193.0', '252.0', '730.0', '1160.0', '1173.0', '1354.0', '1425.0', '1432.0', '1433.0'], ['43.0', '316.0', '382.0', '593.0', '681.0', '1130.0', '1150.0', '1157.0', '1158.0', '1164.0', '1260.0', '1282.0', '1369.0', '1398.0', '1416.0'], ['34.0', '390.0', '1047.0', '1174.0', '1185.0', '1225.0', '1276.0', '1394.0'], ['215.0', '250.0', '534.0', '673.0', '730.0', '880.0', '1052.0', '1165.0', '1183.0', '1314.0', '1357.0', '1396.0'], ['98.0', '1160.0', '1276.0', '1314.0', '1330.0', '1336.0'], ['57.0', '98.0', '124.0', '151.0', '241.0', '283.0', '681.0', '729.0', '878.0', '955.0', '969.0', '1165.0', '1190.0', '1330.0', '1391.0'], ['98.0', '213.0', '732.0', '1028.0', '1181.0', '1330.0', '1422.0', '1429.0', '1431.0'], ['727.0', '1160.0', '1183.0', '1271.0', '1276.0', '1314.0'], ['681.0', '957.0', '965.0', '1163.0', '1430.0', '1436.0'], ['33.0', '399.0', '667.0', '1164.0', '1171.0', '1181.0', '1185.0', '1330.0', '1334.0', '1386.0', '1431.0'], ['30.0', '53.0', '223.0', '319.0', '981.0', '1271.0', '1368.0'], ['124.0', '462.0', '485.0', '1025.0', '1293.0', '1360.0', '1368.0', '1393.0', '1394.0', '1405.0', '1430.0'], ['124.0', '1186.0', '1276.0', '1304.0', '1305.0', '1400.0'], ['53.0', '223.0', '319.0', '495.0', '981.0', '1271.0', '1368.0'], ['98.0', '213.0', '732.0', '1028.0', '1181.0', '1422.0', '1429.0', '1431.0'], ['136.0', '1160.0', '1293.0', '1314.0', '1429.0', '1432.0'], ['382.0', '1185.0', '1293.0', '1428.0', '1436.0'], ['28.0', '32.0', '108.0', '152.0', '153.0', '157.0', '223.0', '236.0', '310.0', '314.0', '542.0', '669.0', '681.0', '784.0'], ['26.0', '43.0', '103.0', '124.0', '251.0', '314.0', '559.0', '729.0', '833.0', '864.0', '933.0', '1014.0', '1170.0', '1171.0', '1304.0', '1416.0', '1427.0'], ['1293.0', '1429.0', '1430.0', '1431.0'], ['152.0', '532.0', '669.0', '715.0', '735.0', '896.0', '926.0', '928.0', '952.0', '959.0', '1320.0', '1357.0', '1368.0'], ['12.0', '29.0', '153.0', '310.0', '464.0', '482.0', '634.0', '669.0', '809.0', '844.0', '871.0', '1174.0', '1366.0', '1410.0'], ['101.0', '103.0', '125.0', '151.0', '193.0', '263.0', '510.0', '563.0', '600.0', '821.0', '1016.0', '1025.0', '1351.0', '1354.0', '1364.0', '1432.0'], ['20.0', '390.0', '600.0', '727.0', '880.0', '1048.0', '1170.0', '1171.0', '1176.0', '1274.0', '1282.0', '1314.0', '1416.0'], ['1160.0', '1293.0', '1314.0', '1429.0', '1432.0'], ['221.0', '766.0', '1186.0', '1296.0', '1369.0', '1423.0'], ['183.0', '658.0', '898.0', '969.0', '1338.0', '1420.0', '1427.0', '1433.0'], ['20.0', '116.0', '223.0', '302.0', '465.0', '673.0', '732.0', '1048.0', '1366.0', '1400.0', '1427.0'], ['250.0', '311.0', '673.0', '735.0', '812.0', '1160.0', '1162.0', '1183.0', '1305.0', '1328.0', '1343.0', '1396.0'], ['353.0', '732.0', '761.0', '1293.0', '1317.0', '1343.0', '1364.0', '1393.0', '1405.0', '1427.0', '1428.0'], ['33.0', '330.0', '422.0', '882.0', '957.0', '1017.0', '1053.0', '1055.0', '1164.0', '1170.0', '1186.0', '1330.0', '1424.0'], ['40.0', '64.0', '107.0', '116.0', '120.0', '260.0', '440.0', '566.0', '730.0', '1047.0', '1048.0', '1271.0', '1393.0', '1400.0', '1410.0', '1432.0', '1437.0'], ['480.0', '651.0', '809.0', '1176.0', '1274.0', '1314.0', '1406.0', '1430.0'], ['43.0', '124.0', '237.0', '422.0', '491.0', '508.0', '647.0', '681.0', '1055.0', '1172.0', '1296.0', '1314.0', '1431.0', '1436.0'], ['349.0', '415.0', '846.0', '1084.0', '1085.0', '1086.0', '1282.0', '1351.0', '1364.0'], ['116.0', '362.0', '1160.0', '1276.0', '1427.0', '1430.0'], ['142.0', '1343.0', '1368.0', '1400.0', '1430.0'], ['28.0', '36.0', '103.0', '116.0', '151.0', '390.0', '446.0', '933.0', '1056.0', '1176.0', '1313.0', '1425.0', '1429.0'], ['352.0', '1190.0', '1293.0', '1304.0', '1305.0', '1357.0', '1368.0'], ['151.0', '369.0', '525.0', '1174.0', '1271.0', '1367.0', '1400.0', '1410.0'], ['1293.0', '1304.0', '1305.0', '1330.0', '1338.0', '1368.0', '1428.0'], ['205.0', '232.0', '268.0', '329.0', '1017.0', '1025.0', '1166.0', '1276.0', '1338.0', '1364.0'], ['33.0', '102.0', '142.0', '330.0', '422.0', '882.0', '957.0', '1017.0', '1053.0', '1055.0', '1164.0', '1170.0', '1186.0', '1330.0', '1424.0'], ['151.0', '1017.0', '1317.0', '1330.0', '1354.0', '1391.0', '1398.0'], ['40.0', '390.0', '1181.0', '1304.0', '1305.0', '1336.0'], ['176.0', '415.0', '444.0', '542.0', '693.0', '732.0', '844.0', '958.0', '975.0', '1271.0', '1328.0', '1366.0', '1433.0'], ['173.0', '237.0', '250.0', '329.0', '359.0', '415.0', '673.0', '905.0', '1042.0', '1053.0', '1165.0', '1192.0', '1293.0', '1343.0', '1364.0', '1393.0', '1394.0', '1395.0', '1428.0'], ['1293.0', '1429.0', '1430.0', '1431.0'], ['202.0', '225.0', '1060.0', '1159.0', '1163.0', '1271.0', '1278.0', '1290.0', '1292.0'], ['43.0', '57.0', '109.0', '164.0', '189.0', '237.0', '278.0', '477.0', '855.0', '940.0', '969.0', '1050.0', '1054.0', '1296.0', '1429.0', '1434.0'], ['1050.0', '1293.0', '1343.0', '1364.0', '1393.0', '1398.0'], ['202.0', '237.0', '349.0', '409.0', '477.0', '569.0', '593.0', '600.0', '651.0', '744.0', '758.0', '764.0', '800.0', '935.0', '936.0', '948.0', '957.0', '1035.0', '1050.0', '1164.0', '1343.0', '1350.0', '1391.0', '1395.0', '1428.0', '1431.0'], ['98.0', '146.0', '665.0', '1052.0', '1060.0', '1186.0', '1305.0'], ['39.0', '110.0', '136.0', '210.0', '263.0', '268.0', '295.0', '462.0', '525.0', '729.0', '846.0', '855.0', '864.0', '1016.0', '1160.0', '1162.0', '1330.0', '1431.0'], ['57.0', '164.0', '244.0', '383.0', '593.0', '795.0', '812.0', '910.0', '1042.0', '1053.0', '1160.0', '1304.0', '1336.0', '1354.0'], ['51.0', '390.0', '1047.0', '1174.0', '1185.0', '1225.0', '1276.0', '1394.0'], ['390.0', '494.0', '669.0', '768.0', '1043.0', '1177.0', '1183.0', '1278.0', '1328.0', '1433.0'], ['34.0', '39.0', '57.0', '111.0', '162.0', '252.0', '253.0', '260.0', '310.0', '362.0', '379.0', '492.0', '495.0', '508.0', '607.0', '644.0', '749.0', '809.0', '861.0', '878.0', '887.0', '981.0', '1025.0', '1028.0', '1047.0', '1053.0', '1276.0', '1332.0', '1338.0'], ['12.0', '1320.0', '1351.0', '1433.0'], ['20.0', '237.0', '239.0', '482.0', '600.0', '651.0', '681.0', '1017.0', '1176.0', '1305.0', '1423.0', '1433.0'], ['12.0', '29.0', '89.0', '153.0', '310.0', '464.0', '482.0', '634.0', '669.0', '809.0', '844.0', '871.0', '1174.0', '1366.0', '1410.0'], ['943.0', '1165.0', '1304.0', '1330.0', '1364.0', '1427.0', '1429.0'], ['109.0', '559.0', '599.0', '600.0', '693.0', '1138.0', '1304.0', '1351.0', '1354.0', '1364.0'], ['1162.0', '1278.0', '1324.0', '1354.0', '1393.0', '1433.0'], ['164.0', '1163.0', '1320.0', '1324.0', '1328.0', '1400.0', '1404.0', '1410.0'], ['158.0', '727.0', '1160.0', '1183.0', '1271.0', '1276.0', '1314.0'], ['32.0', '194.0', '409.0', '462.0', '903.0', '1017.0', '1164.0', '1189.0', '1274.0', '1282.0', '1398.0', '1424.0', '1431.0'], ['120.0', '415.0', '1364.0', '1368.0', '1430.0'], ['234.0', '1324.0', '1328.0', '1356.0', '1430.0', '1436.0'], ['164.0', '258.0', '316.0', '390.0', '658.0', '809.0', '855.0', '959.0', '1161.0', '1185.0', '1276.0', '1330.0'], ['250.0', '673.0', '732.0', '1296.0', '1332.0', '1338.0', '1400.0'], ['250.0', '673.0', '732.0', '1296.0', '1330.0', '1332.0', '1338.0', '1400.0'], ['109.0', '298.0', '559.0', '599.0', '600.0', '693.0', '1138.0', '1304.0', '1351.0', '1364.0'], ['221.0', '233.0', '766.0', '1186.0', '1423.0'], ['43.0', '369.0', '723.0', '1163.0', '1360.0', '1422.0'], ['138.0', '479.0', '1160.0', '1165.0', '1185.0', '1354.0'], ['0.0', '336.0', '427.0', '583.0', '1271.0', '1368.0', '1429.0'], ['173.0', '383.0', '906.0', '958.0', '1057.0', '1271.0', '1320.0', '1328.0'], ['1171.0', '1368.0', '1400.0', '1423.0', '1424.0', '1426.0'], ['1330.0', '1343.0', '1398.0', '1436.0'], ['164.0', '316.0', '390.0', '658.0', '809.0', '855.0', '959.0', '1185.0', '1276.0', '1330.0'], ['68.0', '315.0', '812.0', '1048.0', '1157.0', '1221.0', '1225.0', '1304.0', '1343.0', '1416.0', '1429.0'], ['996.0', '1017.0', '1274.0', '1276.0', '1293.0', '1432.0'], ['111.0', '809.0', '858.0', '1276.0', '1332.0', '1368.0', '1398.0'], ['138.0', '215.0', '250.0', '534.0', '673.0', '730.0', '880.0', '1165.0', '1183.0', '1314.0', '1357.0', '1396.0'], ['40.0', '705.0', '723.0', '1430.0'], ['98.0', '151.0', '1166.0', '1429.0'], ['232.0', '349.0', '593.0', '957.0', '1364.0'], ['1185.0', '1393.0', '1429.0', '1431.0'], ['409.0', '1053.0', '1054.0', '1150.0', '1398.0'], ['559.0', '1170.0', '1171.0', '1172.0', '1282.0', '1364.0', '1398.0'], ['241.0', '253.0', '362.0', '939.0', '1017.0', '1051.0', '1398.0', '1410.0', '1424.0', '1427.0'], ['146.0', '299.0', '427.0', '443.0', '634.0', '1052.0', '1170.0', '1186.0', '1271.0'], ['415.0', '892.0', '1053.0', '1170.0', '1296.0', '1332.0', '1429.0'], ['43.0', '1173.0', '1386.0', '1419.0', '1429.0', '1433.0'], ['43.0', '98.0', '109.0', '164.0', '181.0', '336.0', '969.0', '1210.0', '1364.0'], ['26.0', '33.0', '330.0', '477.0', '729.0', '744.0', '882.0', '957.0', '1016.0', '1017.0'], ['1400.0', '1406.0', '1430.0'], ['559.0', '1170.0', '1171.0', '1172.0', '1282.0', '1364.0', '1398.0'], ['8.0', '57.0', '109.0', '124.0', '151.0', '237.0', '349.0', '462.0', '547.0', '825.0', '855.0'], ['20.0', '193.0', '1024.0', '1282.0', '1304.0', '1398.0'], ['298.0', '316.0', '482.0', '486.0', '788.0', '1184.0', '1304.0', '1305.0', '1330.0', '1405.0', '1422.0', '1425.0', '1427.0', '1429.0'], ['583.0', '749.0', '1062.0', '1186.0', '1328.0', '1409.0', '1411.0', '1431.0'], ['645.0', '809.0', '880.0', '930.0', '969.0', '1160.0', '1332.0', '1343.0'], ['1160.0', '1166.0', '1336.0', '1429.0', '1431.0', '1432.0'], ['865.0', '1174.0', '1314.0', '1330.0', '1332.0', '1410.0', '1427.0'], ['111.0', '844.0', '1017.0', '1174.0', '1314.0', '1407.0', '1408.0'], ['26.0', '865.0', '1174.0', '1185.0', '1304.0', '1330.0'], ['33.0', '122.0', '1293.0', '1328.0', '1386.0', '1439.0'], ['43.0', '108.0', '109.0', '113.0', '124.0', '173.0', '241.0', '278.0', '470.0', '705.0', '1025.0', '1293.0', '1393.0', '1400.0', '1436.0'], ['1163.0', '1337.0', '1338.0', '1429.0'], ['12.0', '20.0', '29.0', '98.0', '109.0', '124.0', '125.0', '193.0', '310.0', '409.0', '1336.0', '1425.0'], ['28.0', '151.0', '369.0', '525.0', '1174.0', '1271.0', '1367.0', '1410.0'], ['33.0', '34.0', '51.0', '78.0', '761.0', '1364.0', '1394.0', '1398.0', '1431.0'], ['223.0', '673.0', '1180.0', '1271.0', '1273.0', '1357.0'], ['8.0', '33.0', '230.0', '288.0', '440.0', '600.0', '903.0', '1016.0', '1368.0', '1431.0'], ['195.0', '336.0', '1053.0', '1174.0', '1296.0'], ['1054.0', '1293.0', '1393.0', '1429.0', '1432.0'], ['112.0', '250.0', '669.0', '958.0', '1017.0', '1164.0', '1354.0', '1402.0', '1429.0'], ['43.0', '57.0', '101.0', '125.0', '162.0', '193.0', '205.0', '353.0', '389.0', '482.0', '510.0', '585.0', '600.0', '658.0', '721.0', '865.0', '993.0', '1025.0', '1170.0', '1185.0', '1276.0', '1278.0', '1305.0', '1330.0', '1336.0', '1432.0'], ['15.0', '20.0', '125.0', '593.0', '647.0', '673.0', '928.0', '1048.0', '1162.0', '1165.0', '1276.0', '1360.0'], ['113.0', '210.0', '470.0', '477.0', '1044.0', '1296.0', '1338.0', '1393.0', '1394.0', '1429.0', '1432.0'], ['78.0', '1158.0', '1282.0', '1394.0', '1398.0'], ['122.0', '250.0', '260.0', '350.0', '673.0', '958.0', '1314.0', '1366.0', '1420.0', '1430.0'], ['585.0', '658.0', '749.0', '858.0', '1025.0', '1160.0', '1282.0', '1338.0', '1420.0'], ['57.0', '138.0', '142.0', '681.0', '887.0', '996.0', '1165.0', '1176.0', '1185.0', '1354.0'], ['151.0', '191.0', '1314.0', '1423.0'], ['32.0', '43.0', '109.0', '310.0', '316.0', '319.0', '764.0', '1298.0', '1305.0', '1364.0', '1391.0'], ['346.0', '1174.0', '1351.0', '1398.0'], ['120.0', '1158.0', '1398.0', '1441.0'], ['120.0', '151.0', '193.0', '213.0', '462.0', '865.0', '903.0', '1162.0'], ['14.0', '310.0', '315.0', '858.0', '1276.0', '1324.0'], ['124.0', '151.0', '1314.0', '1423.0'], ['1053.0', '1165.0', '1360.0', '1427.0'], ['98.0', '146.0', '665.0', '1052.0', '1060.0'], ['20.0', '124.0', '151.0', '164.0', '189.0', '237.0', '260.0', '316.0', '349.0', '355.0', '600.0', '763.0', '812.0', '1164.0', '1170.0', '1293.0'], ['26.0', '43.0', '57.0', '98.0', '120.0', '124.0', '143.0', '542.0', '617.0', '833.0', '962.0', '965.0', '1050.0', '1070.0', '1160.0', '1165.0', '1172.0', '1305.0'], ['146.0', '151.0', '162.0', '673.0', '1165.0', '1186.0', '1336.0', '1436.0'], ['120.0', '273.0', '379.0', '1162.0', '1164.0', '1174.0'], ['14.0', '65.0', '124.0', '138.0', '151.0', '260.0', '600.0', '645.0', '809.0', '933.0', '962.0', '1166.0', '1170.0', '1304.0', '1330.0', '1336.0', '1391.0'], ['81.0', '310.0', '1055.0', '1305.0', '1354.0', '1429.0'], ['0.0', '33.0', '390.0', '868.0', '1052.0', '1398.0'], ['14.0', '40.0', '130.0', '253.0', '658.0', '680.0', '761.0', '795.0', '858.0', '880.0', '930.0', '962.0', '1162.0', '1336.0'], ['14.0', '108.0', '681.0', '682.0', '865.0', '1024.0', '1314.0', '1430.0'], ['943.0', '1162.0', '1296.0', '1433.0'], ['323.0', '390.0', '684.0', '896.0', '910.0', '936.0', '968.0', '1016.0', '1052.0', '1161.0', '1436.0'], ['152.0', '250.0', '542.0', '896.0', '981.0', '1162.0', '1164.0', '1177.0', '1178.0', '1386.0', '1394.0'], ['98.0', '855.0', '1181.0', '1336.0', '1423.0'], ['43.0', '116.0', '173.0', '221.0', '223.0', '316.0', '362.0', '542.0', '641.0', '656.0', '658.0', '722.0', '727.0', '730.0', '764.0', '788.0', '981.0', '1028.0', '1048.0', '1271.0'], ['32.0', '162.0', '164.0', '184.0', '194.0', '205.0', '409.0', '470.0', '559.0', '609.0', '876.0', '975.0', '1014.0', '1018.0', '1047.0', '1282.0', '1332.0', '1343.0', '1398.0'], ['39.0', '68.0', '108.0', '131.0', '542.0', '1053.0', '1164.0', '1330.0', '1343.0', '1398.0'], ['120.0', '415.0', '1364.0', '1430.0'], ['101.0', '491.0', '833.0', '1293.0', '1314.0', '1394.0', '1429.0', '1432.0'], ['43.0', '362.0', '427.0', '930.0', '1276.0', '1336.0', '1343.0', '1386.0'], ['43.0', '76.0', '705.0', '1018.0', '1164.0', '1330.0', '1351.0', '1364.0', '1431.0'], ['40.0', '1400.0', '1435.0'], ['241.0', '1160.0', '1171.0', '1351.0', '1431.0'], ['390.0', '1181.0', '1304.0', '1305.0', '1336.0'], ['18.0', '444.0', '500.0', '542.0', '599.0', '632.0', '729.0', '785.0', '868.0', '1044.0', '1184.0', '1364.0', '1431.0'], ['115.0', '353.0', '732.0', '761.0', '1293.0', '1317.0', '1343.0', '1393.0', '1405.0', '1427.0', '1428.0'], ['16.0', '189.0', '1282.0', '1391.0', '1398.0', '1416.0', '1431.0'], ['162.0', '221.0', '310.0', '1162.0', '1368.0'], ['1163.0', '1169.0', '1279.0', '1304.0', '1366.0'], ['40.0', '930.0', '1276.0', '1400.0', '1422.0'], ['43.0', '74.0', '125.0', '181.0', '223.0', '278.0', '486.0', '1056.0', '1177.0', '1314.0', '1424.0'], ['146.0', '153.0', '744.0', '1052.0', '1164.0', '1165.0', '1186.0', '1328.0', '1330.0'], ['223.0', '1163.0', '1166.0', '1170.0', '1171.0', '1172.0', '1299.0', '1357.0'], ['57.0', '236.0', '254.0', '641.0', '1165.0', '1271.0', '1290.0', '1354.0', '1367.0', '1386.0'], ['9.0', '473.0', '1276.0', '1296.0', '1304.0', '1332.0'], ['1330.0', '1343.0', '1398.0', '1436.0'], ['57.0', '952.0', '1053.0', '1057.0', '1163.0', '1271.0'], ['14.0', '108.0', '865.0', '1024.0', '1314.0', '1430.0'], ['125.0', '1174.0', '1271.0', '1281.0', '1320.0', '1403.0', '1404.0', '1440.0'], ['234.0', '398.0', '606.0', '939.0', '1304.0', '1368.0', '1391.0', '1400.0'], ['905.0', '1054.0', '1055.0', '1059.0', '1368.0'], ['266.0', '314.0', '1162.0', '1163.0'], ['390.0', '898.0', '1332.0', '1368.0', '1429.0'], ['1053.0', '1162.0', '1293.0'], ['33.0', '60.0', '189.0', '270.0', '400.0', '415.0', '525.0', '632.0', '695.0', '732.0', '795.0', '891.0', '1059.0', '1286.0', '1293.0', '1424.0', '1430.0'], ['681.0', '943.0', '1053.0', '1055.0', '1171.0', '1332.0', '1430.0', '1431.0', '1437.0'], ['1278.0', '1320.0', '1364.0'], ['74.0', '390.0', '470.0', '1387.0', '1427.0'], ['53.0', '223.0', '367.0', '495.0', '905.0', '1271.0', '1328.0', '1396.0', '1437.0'], ['16.0', '62.0', '138.0', '462.0', '1054.0', '1141.0', '1304.0', '1330.0', '1336.0', '1364.0'], ['14.0', '125.0', '1053.0', '1160.0'], ['98.0', '1314.0', '1330.0', '1364.0'], ['78.0', '221.0', '996.0', '1014.0', '1025.0', '1186.0', '1330.0', '1351.0', '1354.0', '1369.0', '1394.0'], ['310.0', '1055.0', '1305.0', '1354.0', '1429.0'], ['12.0', '29.0', '33.0', '110.0', '651.0', '761.0', '882.0', '910.0', '957.0', '1172.0', '1420.0', '1426.0', '1431.0'], ['1024.0', '1176.0', '1305.0', '1314.0', '1422.0', '1427.0'], ['43.0', '316.0', '382.0', '593.0', '681.0', '1130.0', '1150.0', '1157.0', '1158.0', '1164.0', '1260.0', '1369.0', '1398.0', '1416.0'], ['482.0', '1296.0', '1320.0', '1330.0', '1386.0', '1396.0', '1409.0', '1437.0'], ['33.0', '122.0', '1293.0', '1328.0', '1386.0', '1439.0'], ['768.0', '1305.0', '1314.0', '1336.0', '1386.0', '1400.0'], ['1162.0', '1185.0', '1368.0'], ['151.0', '373.0', '673.0', '732.0', '958.0', '1273.0', '1299.0', '1364.0', '1400.0'], ['153.0', '1278.0', '1282.0', '1330.0', '1338.0'], ['311.0', '350.0', '1183.0', '1271.0', '1277.0', '1328.0', '1386.0', '1396.0'], ['1054.0', '1293.0', '1364.0'], ['152.0', '858.0', '1330.0', '1368.0', '1410.0', '1436.0'], ['1053.0', '1173.0', '1271.0', '1304.0', '1305.0'], ['1271.0', '1328.0', '1427.0'], ['390.0', '695.0', '1360.0', '1430.0'], ['122.0', '164.0', '278.0', '398.0', '477.0', '482.0', '491.0', '812.0', '957.0', '1018.0', '1173.0', '1271.0', '1429.0'], ['40.0', '482.0', '910.0', '997.0', '1017.0', '1170.0', '1386.0'], ['232.0', '1271.0', '1280.0', '1320.0', '1328.0', '1402.0', '1403.0', '1410.0'], ['1329.0', '1336.0', '1351.0', '1427.0', '1430.0'], ['152.0', '250.0', '542.0', '896.0', '959.0', '981.0', '1162.0', '1164.0', '1177.0', '1178.0', '1386.0', '1394.0'], ['43.0', '1314.0', '1386.0', '1429.0'], ['768.0', '1305.0', '1314.0', '1336.0', '1386.0', '1400.0'], ['1165.0', '1271.0', '1304.0', '1332.0', '1368.0'], ['151.0', '669.0', '1271.0', '1282.0'], ['146.0', '162.0', '673.0', '957.0', '1165.0', '1186.0', '1336.0', '1436.0'], ['260.0', '825.0', '846.0', '1162.0', '1172.0', '1293.0', '1355.0', '1393.0'], ['495.0', '981.0', '1338.0', '1368.0', '1405.0', '1406.0', '1408.0', '1412.0'], ['20.0', '78.0', '98.0', '103.0', '152.0', '241.0', '251.0', '263.0', '268.0', '525.0', '563.0', '600.0', '723.0', '844.0', '933.0', '975.0', '1016.0', '1047.0', '1180.0', '1332.0', '1336.0', '1422.0'], ['669.0', '1271.0', '1278.0', '1320.0', '1336.0'], ['26.0', '33.0', '477.0', '729.0', '744.0', '882.0', '957.0', '1017.0'], ['164.0', '482.0', '641.0', '784.0', '910.0', '1174.0', '1271.0', '1405.0', '1410.0', '1429.0', '1437.0'], ['8.0', '781.0', '782.0', '1351.0', '1354.0', '1364.0'], ['146.0', '153.0', '634.0', '744.0', '1052.0', '1164.0', '1165.0', '1186.0', '1328.0', '1330.0'], ['81.0', '566.0', '959.0', '1160.0', '1178.0', '1276.0', '1435.0'], ['103.0', '390.0', '1332.0', '1368.0', '1429.0'], ['122.0', '250.0', '350.0', '673.0', '958.0', '1314.0', '1336.0', '1366.0', '1420.0', '1430.0'], ['205.0', '232.0', '268.0', '329.0', '1025.0', '1166.0', '1276.0', '1338.0', '1364.0'], ['1328.0', '1351.0', '1366.0', '1367.0'], ['250.0', '482.0', '494.0', '669.0', '958.0', '1017.0', '1164.0', '1354.0', '1402.0', '1429.0'], ['68.0', '173.0', '356.0', '1165.0', '1183.0', '1185.0', '1314.0', '1338.0', '1432.0'], ['1054.0', '1304.0', '1429.0'], ['359.0', '732.0', '1160.0', '1330.0', '1364.0', '1400.0', '1428.0'], ['151.0', '600.0', '788.0', '812.0', '1162.0', '1170.0', '1431.0'], ['40.0', '268.0', '566.0', '781.0', '1024.0', '1165.0', '1183.0', '1338.0', '1343.0'], ['184.0', '329.0', '1058.0', '1163.0', '1189.0', '1225.0', '1430.0', '1436.0'], ['53.0', '62.0', '495.0', '981.0', '1320.0', '1328.0', '1368.0', '1437.0'], ['1170.0', '1185.0', '1354.0', '1429.0'], ['359.0', '761.0', '1276.0', '1343.0', '1367.0', '1386.0', '1393.0'], ['124.0', '542.0', '658.0', '764.0', '855.0', '1053.0', '1160.0', '1165.0', '1170.0', '1171.0', '1186.0'], ['40.0', '109.0', '482.0', '997.0', '1017.0', '1386.0'], ['125.0', '347.0', '369.0', '647.0', '1304.0', '1364.0', '1395.0', '1398.0'], ['1160.0', '1282.0', '1409.0', '1427.0'], ['542.0', '695.0', '1163.0', '1314.0', '1430.0'], ['788.0', '1185.0', '1276.0', '1296.0'], ['68.0', '202.0', '316.0', '329.0', '383.0', '542.0', '1055.0', '1185.0', '1364.0', '1436.0'], ['164.0', '1163.0', '1324.0', '1328.0', '1400.0', '1410.0'], ['8.0', '34.0', '54.0', '87.0', '115.0', '120.0', '134.0', '213.0', '241.0', '244.0', '270.0', '313.0', '315.0', '381.0', '409.0', '495.0', '636.0', '682.0', '721.0', '732.0', '766.0', '833.0', '878.0', '906.0', '910.0', '911.0', '975.0', '985.0', '1006.0', '1035.0', '1050.0', '1164.0', '1170.0', '1171.0', '1330.0', '1364.0', '1432.0'], ['57.0', '145.0', '336.0', '761.0', '813.0', '1052.0', '1338.0', '1427.0'], ['122.0', '311.0', '426.0', '809.0', '1183.0', '1271.0', '1320.0', '1386.0'], ['350.0', '1174.0', '1366.0', '1398.0'], ['39.0', '43.0', '138.0', '470.0', '494.0', '522.0', '673.0', '732.0', '764.0', '973.0', '1048.0', '1329.0', '1332.0', '1354.0', '1367.0', '1386.0', '1396.0', '1435.0', '1437.0'], ['43.0', '57.0', '76.0', '102.0', '109.0', '124.0', '162.0', '164.0', '494.0', '730.0', '939.0', '969.0', '1429.0', '1431.0'], ['43.0', '124.0', '237.0', '422.0', '491.0', '508.0', '647.0', '681.0', '1055.0', '1172.0', '1296.0', '1431.0', '1436.0'], ['120.0', '151.0', '193.0', '213.0', '462.0', '865.0', '903.0', '1162.0'], ['254.0', '844.0', '1165.0', '1185.0', '1293.0', '1320.0'], ['723.0', '1299.0', '1343.0', '1368.0', '1422.0', '1424.0'], ['39.0', '68.0', '131.0', '542.0', '1053.0', '1164.0', '1330.0', '1343.0', '1398.0'], ['60.0', '142.0', '880.0', '1271.0', '1320.0', '1429.0'], ['43.0', '109.0', '124.0', '151.0', '260.0', '898.0', '1164.0', '1170.0', '1171.0', '1172.0', '1332.0', '1354.0', '1391.0', '1429.0', '1432.0'], ['131.0', '260.0', '464.0', '732.0', '1276.0', '1293.0', '1427.0', '1443.0'], ['1017.0', '1274.0', '1276.0', '1293.0', '1432.0'], ['299.0', '1271.0', '1328.0', '1427.0'], ['1052.0', '1160.0', '1314.0', '1330.0'], ['250.0', '955.0', '1160.0', '1162.0', '1364.0'], ['981.0', '1271.0', '1324.0', '1354.0', '1398.0', '1437.0'], ['122.0', '194.0', '1282.0', '1351.0', '1354.0'], ['43.0', '124.0', '125.0', '1025.0', '1048.0', '1147.0', '1148.0', '1149.0', '1304.0', '1305.0', '1324.0', '1364.0', '1429.0'], ['251.0', '349.0', '353.0', '933.0', '1054.0', '1160.0', '1418.0', '1422.0'], ['28.0', '32.0', '108.0', '152.0', '153.0', '157.0', '223.0', '314.0', '542.0', '669.0', '681.0', '784.0'], ['188.0', '1054.0', '1055.0', '1059.0', '1368.0'], ['124.0', '462.0', '485.0', '1360.0', '1368.0', '1393.0', '1394.0', '1405.0', '1430.0'], ['390.0', '919.0', '1078.0', '1282.0', '1398.0'], ['390.0', '782.0', '1053.0', '1159.0', '1164.0', '1435.0'], ['26.0', '33.0', '124.0', '151.0', '544.0', '1017.0', '1431.0'], ['152.0', '288.0', '858.0', '1368.0', '1410.0', '1436.0'], ['32.0', '1276.0', '1427.0', '1430.0'], ['390.0', '887.0', '1162.0', '1314.0'], ['809.0', '1400.0', '1406.0', '1418.0', '1430.0'], ['14.0', '237.0', '260.0', '969.0', '1423.0'], ['138.0', '193.0', '1160.0', '1165.0', '1185.0', '1354.0'], ['20.0', '57.0', '74.0', '260.0', '462.0', '981.0', '1048.0', '1172.0', '1271.0', '1328.0', '1437.0'], ['14.0', '310.0', '379.0', '658.0', '749.0', '1160.0', '1336.0', '1387.0'], ['202.0', '329.0', '383.0', '542.0', '1055.0', '1185.0', '1364.0', '1436.0'], ['268.0', '1052.0', '1282.0', '1296.0'], ['98.0', '205.0', '348.0', '559.0', '585.0', '692.0', '723.0', '749.0', '868.0', '1286.0', '1330.0', '1337.0', '1398.0'], ['43.0', '1173.0', '1386.0', '1419.0', '1429.0', '1433.0'], ['120.0', '1120.0', '1158.0', '1364.0'], ['20.0', '107.0', '111.0', '122.0', '164.0', '189.0', '250.0', '658.0', '695.0', '730.0', '861.0', '939.0', '1164.0', '1165.0', '1171.0', '1175.0', '1276.0', '1330.0', '1338.0', '1364.0', '1367.0', '1428.0'], ['100.0', '151.0', '260.0', '462.0', '732.0', '1017.0', '1185.0'], ['230.0', '390.0', '853.0', '1429.0'], ['120.0', '194.0', '375.0', '411.0', '542.0', '948.0', '1017.0', '1042.0', '1274.0', '1420.0', '1429.0'], ['143.0', '482.0', '1296.0', '1320.0', '1330.0', '1386.0', '1396.0', '1437.0'], ['43.0', '57.0', '101.0', '125.0', '162.0', '193.0', '205.0', '353.0', '389.0', '482.0', '510.0', '585.0', '600.0', '658.0', '721.0', '865.0', '993.0', '1025.0', '1170.0', '1185.0', '1276.0', '1278.0', '1305.0', '1330.0', '1336.0'], ['12.0', '1314.0', '1429.0', '1432.0'], ['1276.0', '1418.0', '1427.0', '1430.0'], ['1162.0', '1185.0', '1189.0', '1368.0'], ['108.0', '569.0', '723.0', '809.0', '821.0', '1286.0', '1293.0', '1393.0', '1436.0'], ['151.0', '232.0', '1431.0', '1436.0'], ['844.0', '1052.0', '1053.0', '1055.0', '1351.0', '1425.0'], ['138.0', '142.0', '681.0', '887.0', '996.0', '1165.0', '1176.0', '1185.0', '1354.0'], ['390.0', '593.0', '1052.0', '1165.0', '1170.0', '1171.0', '1184.0', '1293.0', '1424.0', '1425.0'], ['142.0', '404.0', '515.0', '1163.0', '1282.0', '1304.0'], ['32.0', '43.0', '108.0', '109.0', '113.0', '124.0', '173.0', '241.0', '278.0', '470.0', '705.0', '1025.0', '1293.0', '1393.0', '1400.0', '1436.0'], ['379.0', '981.0', '1271.0', '1324.0', '1354.0', '1398.0', '1437.0'], ['33.0', '34.0', '51.0', '78.0', '761.0', '884.0', '1172.0', '1364.0', '1394.0', '1398.0', '1431.0'], ['26.0', '43.0', '131.0', '470.0', '744.0', '1189.0', '1314.0', '1398.0', '1405.0', '1429.0'], ['53.0', '495.0', '981.0', '1320.0', '1328.0', '1368.0', '1437.0'], ['124.0', '151.0', '323.0', '682.0', '1276.0', '1427.0', '1432.0'], ['12.0', '98.0', '113.0', '616.0', '617.0', '821.0', '1025.0', '1170.0', '1337.0', '1436.0'], ['232.0', '349.0', '350.0', '593.0', '957.0', '1364.0'], ['337.0', '1176.0', '1296.0', '1324.0', '1351.0', '1409.0', '1411.0'], ['844.0', '1053.0', '1074.0', '1186.0', '1354.0', '1394.0'], ['108.0', '542.0', '695.0', '1163.0', '1173.0', '1314.0', '1430.0'], ['1282.0', '1343.0', '1398.0'], ['1282.0', '1343.0', '1393.0', '1436.0'], ['14.0', '237.0', '260.0', '444.0', '812.0', '969.0', '1423.0'], ['390.0', '600.0', '727.0', '880.0', '1048.0', '1170.0', '1171.0', '1176.0', '1274.0', '1282.0', '1416.0'], ['1054.0', '1293.0', '1393.0', '1429.0', '1432.0'], ['1320.0', '1328.0', '1338.0'], ['143.0', '151.0', '189.0', '193.0', '239.0', '369.0', '464.0', '508.0', '542.0', '593.0', '600.0', '729.0', '764.0', '795.0', '812.0', '1028.0', '1050.0', '1336.0', '1400.0'], ['101.0', '120.0', '124.0', '324.0', '336.0', '616.0', '682.0', '878.0', '1160.0', '1364.0'], ['146.0', '427.0', '443.0', '634.0', '1052.0', '1170.0', '1186.0', '1271.0', '1410.0'], ['8.0', '109.0', '124.0', '151.0', '237.0', '349.0', '462.0', '547.0', '761.0', '825.0', '855.0'], ['108.0', '122.0', '164.0', '278.0', '398.0', '477.0', '482.0', '491.0', '809.0', '812.0', '957.0', '1018.0', '1173.0', '1271.0', '1429.0'], ['87.0', '268.0', '599.0', '723.0', '846.0', '1055.0', '1293.0', '1330.0', '1359.0', '1364.0'], ['224.0', '1160.0', '1314.0', '1429.0', '1432.0'], ['444.0', '500.0', '542.0', '599.0', '632.0', '729.0', '785.0', '868.0', '1015.0', '1044.0', '1184.0', '1336.0', '1364.0', '1431.0'], ['1052.0', '1157.0', '1282.0', '1296.0', '1432.0'], ['26.0', '43.0', '124.0', '470.0', '482.0', '658.0', '1276.0', '1314.0', '1332.0', '1367.0', '1429.0'], ['1061.0', '1080.0', '1296.0', '1320.0', '1328.0', '1434.0'], ['51.0', '108.0', '223.0', '253.0', '260.0', '362.0', '398.0', '482.0', '585.0', '658.0', '833.0', '880.0', '932.0', '1162.0', '1357.0'], ['32.0', '162.0', '164.0', '184.0', '194.0', '205.0', '241.0', '409.0', '470.0', '559.0', '609.0', '876.0', '975.0', '1014.0', '1018.0', '1047.0', '1282.0', '1332.0', '1343.0', '1398.0'], ['962.0', '1174.0', '1198.0', '1364.0', '1398.0', '1432.0'], ['57.0', '103.0', '975.0', '1017.0', '1165.0', '1166.0', '1305.0', '1328.0', '1336.0', '1338.0', '1428.0', '1432.0'], ['1160.0', '1314.0', '1320.0', '1396.0'], ['359.0', '732.0', '1160.0', '1198.0', '1330.0', '1364.0', '1400.0', '1428.0'], ['20.0', '78.0', '151.0', '1025.0', '1050.0', '1282.0', '1393.0', '1398.0', '1416.0'], ['132.0', '241.0', '1168.0', '1306.0', '1320.0', '1338.0'], ['20.0', '43.0', '98.0', '151.0', '462.0', '969.0'], ['120.0', '375.0', '411.0', '542.0', '948.0', '1017.0', '1042.0', '1274.0', '1420.0', '1429.0'], ['120.0', '1158.0', '1394.0', '1398.0', '1416.0', '1441.0'], ['1282.0', '1343.0', '1393.0', '1436.0'], ['1170.0', '1185.0', '1354.0', '1429.0'], ['43.0', '76.0', '109.0', '705.0', '1014.0', '1018.0', '1164.0', '1330.0', '1351.0', '1364.0', '1431.0'], ['1276.0', '1427.0', '1430.0'], ['16.0', '138.0', '462.0', '1054.0', '1141.0', '1304.0', '1330.0', '1336.0', '1364.0', '1428.0'], ['20.0', '98.0', '349.0', '600.0', '959.0', '1298.0', '1354.0'], ['65.0', '108.0', '110.0', '151.0', '202.0', '241.0', '260.0', '369.0', '542.0', '681.0', '892.0', '1014.0', '1017.0', '1436.0'], ['865.0', '1174.0', '1185.0', '1304.0', '1330.0'], ['193.0', '504.0', '729.0', '981.0', '1079.0', '1165.0', '1166.0', '1321.0', '1324.0', '1360.0', '1367.0', '1432.0', '1436.0', '1437.0'], ['131.0', '173.0', '260.0', '464.0', '732.0', '1038.0', '1276.0', '1293.0', '1427.0', '1443.0'], ['735.0', '1174.0', '1271.0', '1338.0'], ['120.0', '162.0', '1160.0', '1163.0', '1164.0', '1170.0', '1171.0', '1330.0', '1432.0'], ['250.0', '427.0', '681.0', '749.0', '782.0', '939.0', '959.0', '1053.0', '1180.0', '1206.0', '1304.0', '1400.0'], ['20.0', '116.0', '151.0', '202.0', '260.0', '373.0', '525.0', '665.0', '812.0', '1184.0', '1320.0', '1336.0'], ['162.0', '221.0', '310.0', '1162.0', '1317.0', '1363.0', '1368.0'], ['153.0', '162.0', '1184.0', '1278.0', '1282.0', '1330.0', '1338.0'], ['40.0', '486.0', '880.0', '930.0', '1276.0', '1400.0', '1422.0'], ['20.0', '33.0', '53.0', '162.0', '232.0', '659.0', '669.0', '951.0', '957.0', '1170.0', '1351.0', '1431.0'], ['0.0', '336.0', '427.0', '583.0', '761.0', '1271.0', '1368.0', '1401.0', '1429.0'], ['39.0', '43.0', '138.0', '470.0', '494.0', '522.0', '673.0', '732.0', '764.0', '973.0', '1048.0', '1329.0', '1332.0', '1354.0', '1367.0', '1386.0', '1396.0', '1435.0', '1437.0'], ['15.0', '33.0', '53.0', '162.0', '232.0', '659.0', '951.0', '957.0', '1170.0', '1351.0', '1431.0'], ['151.0', '232.0', '260.0', '910.0', '1431.0', '1436.0'], ['634.0', '1052.0', '1271.0', '1354.0'], ['57.0', '213.0', '681.0', '996.0', '1162.0', '1184.0', '1189.0', '1196.0', '1283.0', '1296.0', '1304.0', '1318.0'], ['152.0', '793.0', '865.0', '911.0', '1320.0', '1387.0', '1436.0'], ['1354.0', '1368.0', '1430.0', '1437.0'], ['151.0', '164.0', '260.0', '462.0', '732.0', '1017.0', '1185.0', '1434.0'], ['125.0', '390.0', '542.0', '732.0', '1162.0', '1276.0'], ['1314.0', '1320.0', '1338.0'], ['151.0', '250.0', '669.0', '1170.0', '1332.0', '1343.0', '1423.0'], ['522.0', '682.0', '911.0', '1146.0', '1282.0', '1324.0', '1364.0', '1398.0'], ['957.0', '1160.0', '1271.0', '1330.0', '1336.0', '1396.0'], ['20.0', '124.0', '151.0', '164.0', '213.0', '237.0', '260.0', '316.0', '349.0', '355.0', '600.0', '681.0', '763.0', '812.0', '1164.0', '1170.0', '1293.0'], ['57.0', '98.0', '124.0', '241.0', '283.0', '681.0', '729.0', '878.0', '955.0', '969.0', '1165.0', '1190.0', '1330.0', '1391.0'], ['124.0', '131.0', '241.0', '310.0', '323.0', '409.0', '463.0', '559.0', '563.0', '855.0', '898.0', '930.0', '958.0', '1050.0', '1332.0', '1338.0', '1427.0'], ['20.0', '645.0', '809.0', '880.0', '930.0', '969.0', '1160.0', '1280.0', '1332.0', '1343.0'], ['232.0', '390.0', '1338.0', '1368.0', '1396.0'], ['14.0', '1163.0', '1330.0', '1367.0', '1400.0'], ['51.0', '223.0', '253.0', '260.0', '263.0', '362.0', '482.0', '585.0', '658.0', '833.0', '880.0', '932.0', '1162.0', '1357.0'], ['1017.0', '1145.0', '1186.0', '1431.0'], ['173.0', '464.0', '1314.0', '1328.0', '1338.0', '1422.0'], ['68.0', '315.0', '599.0', '764.0', '812.0', '1048.0', '1157.0', '1221.0', '1225.0', '1304.0', '1343.0', '1416.0', '1429.0'], ['8.0', '34.0', '51.0', '54.0', '115.0', '120.0', '134.0', '188.0', '213.0', '241.0', '244.0', '270.0', '313.0', '315.0', '381.0', '409.0', '495.0', '636.0', '682.0', '721.0', '732.0', '766.0', '833.0', '878.0', '906.0', '910.0', '911.0', '975.0', '985.0', '1006.0', '1035.0', '1050.0', '1164.0', '1170.0', '1171.0', '1330.0', '1364.0', '1432.0'], ['43.0', '164.0', '250.0', '353.0', '482.0', '566.0', '1160.0', '1172.0', '1271.0', '1314.0', '1422.0'], ['26.0', '43.0', '98.0', '120.0', '124.0', '143.0', '189.0', '542.0', '617.0', '833.0', '962.0', '965.0', '1050.0', '1070.0', '1160.0', '1165.0', '1172.0', '1305.0', '1425.0'], ['116.0', '151.0', '223.0', '390.0', '415.0', '692.0', '843.0', '910.0'], ['43.0', '116.0', '173.0', '221.0', '223.0', '316.0', '362.0', '398.0', '542.0', '641.0', '656.0', '658.0', '722.0', '727.0', '730.0', '764.0', '788.0', '812.0', '981.0', '1028.0', '1048.0', '1271.0'], ['1052.0', '1271.0', '1304.0', '1313.0', '1348.0', '1349.0', '1403.0'], ['20.0', '111.0', '122.0', '164.0', '189.0', '250.0', '658.0', '678.0', '695.0', '730.0', '861.0', '939.0', '1164.0', '1165.0', '1171.0', '1175.0', '1276.0', '1330.0', '1332.0', '1338.0', '1364.0', '1367.0', '1428.0'], ['1025.0', '1274.0', '1314.0', '1354.0', '1393.0', '1398.0'], ['1271.0', '1276.0', '1314.0', '1396.0', '1437.0'], ['20.0', '329.0', '1058.0', '1163.0', '1189.0', '1225.0', '1228.0', '1430.0', '1436.0'], ['142.0', '732.0', '880.0', '1271.0', '1320.0', '1429.0'], ['153.0', '1271.0', '1321.0', '1427.0', '1435.0'], ['39.0', '43.0', '98.0', '109.0', '164.0', '336.0', '884.0', '969.0', '1210.0', '1364.0'], ['8.0', '781.0', '782.0', '959.0', '1351.0', '1354.0', '1364.0'], ['14.0', '125.0', '962.0', '1053.0', '1160.0'], ['50.0', '51.0', '193.0', '730.0', '1160.0', '1173.0', '1354.0', '1425.0', '1432.0', '1433.0'], ['865.0', '1044.0', '1271.0', '1328.0', '1330.0', '1368.0'], ['681.0', '684.0', '943.0', '1053.0', '1055.0', '1171.0', '1332.0', '1430.0', '1431.0', '1437.0'], ['8.0', '151.0', '314.0', '969.0', '1396.0'], ['1054.0', '1185.0', '1364.0'], ['20.0', '151.0', '593.0', '1176.0', '1336.0', '1429.0'], ['76.0', '120.0', '600.0', '647.0', '1025.0', '1293.0', '1343.0'], ['153.0', '1271.0', '1313.0', '1321.0', '1427.0', '1435.0'], ['314.0', '464.0', '559.0', '730.0', '1138.0', '1165.0', '1184.0', '1293.0', '1319.0', '1391.0', '1393.0', '1398.0'], ['173.0', '356.0', '381.0', '494.0', '1165.0', '1183.0', '1185.0', '1314.0', '1338.0', '1432.0'], ['955.0', '1160.0', '1162.0', '1364.0'], ['98.0', '124.0', '855.0', '1181.0', '1336.0', '1423.0', '1424.0'], ['495.0', '732.0', '981.0', '1338.0', '1368.0', '1405.0', '1406.0', '1408.0', '1412.0'], ['151.0', '270.0', '1317.0', '1330.0', '1354.0', '1391.0', '1398.0'], ['865.0', '1165.0', '1174.0', '1314.0', '1330.0', '1332.0', '1410.0', '1427.0'], ['1054.0', '1296.0', '1377.0', '1427.0'], ['658.0', '1053.0', '1330.0', '1368.0', '1427.0'], ['943.0', '1053.0', '1162.0', '1293.0'], ['12.0', '29.0', '33.0', '651.0', '761.0', '882.0', '910.0', '957.0', '1172.0', '1420.0', '1426.0', '1431.0'], ['43.0', '109.0', '124.0', '151.0', '164.0', '260.0', '898.0', '1164.0', '1170.0', '1171.0', '1172.0', '1332.0', '1354.0', '1391.0', '1429.0', '1432.0'], ['316.0', '482.0', '486.0', '788.0', '1184.0', '1304.0', '1305.0', '1330.0', '1405.0', '1422.0', '1425.0', '1427.0', '1429.0'], ['151.0', '191.0', '959.0', '1177.0', '1314.0', '1321.0', '1330.0', '1360.0'], ['12.0', '20.0', '29.0', '43.0', '98.0', '109.0', '124.0', '125.0', '193.0', '310.0', '409.0', '1165.0', '1336.0', '1425.0'], ['1338.0', '1360.0', '1405.0', '1430.0'], ['329.0', '981.0', '1304.0', '1305.0', '1314.0', '1324.0', '1430.0', '1437.0'], ['65.0', '108.0', '110.0', '151.0', '202.0', '241.0', '260.0', '369.0', '542.0', '681.0', '892.0', '1014.0', '1017.0', '1436.0'], ['20.0', '844.0', '1053.0', '1074.0', '1186.0', '1354.0', '1394.0', '1428.0'], ['1038.0', '1171.0', '1336.0', '1368.0', '1400.0', '1423.0', '1424.0', '1426.0'], ['151.0', '162.0', '329.0', '336.0', '415.0', '1174.0', '1328.0'], ['14.0', '310.0', '379.0', '658.0', '749.0', '1047.0', '1160.0', '1336.0', '1387.0'], ['566.0', '1271.0', '1386.0', '1422.0', '1432.0', '1433.0', '1439.0'], ['108.0', '151.0', '336.0', '477.0', '547.0', '645.0', '744.0', '812.0', '1163.0', '1391.0', '1395.0', '1428.0', '1436.0'], ['142.0', '404.0', '515.0', '1163.0', '1166.0', '1282.0', '1304.0'], ['115.0', '124.0', '241.0', '323.0', '409.0', '463.0', '559.0', '563.0', '855.0', '898.0', '930.0', '958.0', '1050.0', '1332.0', '1338.0', '1427.0'], ['415.0', '1053.0', '1170.0', '1332.0', '1429.0'], ['943.0', '1162.0', '1433.0'], ['50.0', '244.0', '651.0', '729.0', '1171.0', '1172.0', '1190.0', '1359.0', '1420.0', '1429.0'], ['1170.0', '1282.0', '1398.0'], ['157.0', '359.0', '761.0', '1276.0', '1367.0', '1386.0', '1393.0'], ['732.0', '930.0', '981.0', '1271.0', '1368.0', '1396.0', '1437.0'], ['8.0', '1424.0', '1427.0', '1429.0'], ['12.0', '113.0', '732.0', '785.0', '939.0', '1181.0'], ['911.0', '1271.0', '1368.0'], ['33.0', '110.0', '681.0', '729.0', '939.0', '1431.0'], ['14.0', '250.0', '1330.0', '1400.0'], ['87.0', '268.0', '599.0', '846.0', '1055.0', '1293.0', '1330.0', '1359.0', '1364.0'], ['29.0', '43.0', '260.0', '411.0', '495.0', '681.0', '864.0', '1172.0', '1338.0', '1432.0', '1436.0'], ['124.0', '254.0', '390.0', '1386.0'], ['1018.0', '1271.0', '1433.0'], ['43.0', '51.0', '254.0', '295.0', '809.0', '884.0', '986.0', '1000.0', '1047.0', '1050.0', '1289.0', '1400.0', '1423.0'], ['462.0', '990.0', '1271.0', '1427.0'], ['1162.0', '1436.0'], ['102.0', '221.0', '460.0', '495.0', '1047.0', '1138.0', '1320.0', '1398.0'], ['16.0', '1271.0', '1430.0'], ['57.0', '122.0', '152.0', '297.0', '426.0', '1051.0', '1058.0', '1271.0', '1437.0'], ['53.0', '151.0', '369.0', '926.0', '957.0', '959.0', '1025.0', '1164.0', '1177.0', '1178.0'], ['57.0', '98.0', '145.0', '593.0', '641.0', '846.0', '1276.0', '1330.0'], ['151.0', '593.0', '1059.0'], ['124.0', '398.0', '1276.0', '1427.0'], ['40.0', '943.0', '1304.0', '1393.0'], ['8.0', '151.0', '176.0', '314.0', '1396.0'], ['768.0', '858.0', '1271.0', '1332.0', '1336.0', '1433.0'], ['969.0', '1282.0'], ['1185.0', '1429.0'], ['1328.0', '1351.0'], ['254.0', '955.0', '1052.0', '1079.0', '1178.0', '1180.0', '1181.0', '1184.0', '1225.0', '1235.0', '1253.0', '1303.0', '1420.0'], ['223.0', '981.0', '1406.0'], ['1176.0', '1398.0'], ['12.0', '213.0', '1162.0'], ['390.0', '782.0', '1053.0', '1159.0', '1164.0'], ['39.0', '116.0', '297.0', '1025.0', '1343.0', '1398.0'], ['108.0', '336.0', '547.0', '645.0', '744.0', '812.0', '1163.0', '1391.0', '1395.0', '1428.0', '1436.0'], ['98.0', '215.0'], ['57.0', '124.0', '260.0', '313.0', '462.0', '600.0', '1044.0', '1282.0', '1304.0', '1305.0', '1428.0', '1432.0'], ['122.0', '352.0', '722.0', '732.0', '812.0', '1048.0', '1199.0', '1304.0', '1330.0', '1332.0', '1367.0', '1429.0'], ['122.0', '152.0', '157.0', '297.0', '1051.0', '1058.0', '1271.0', '1437.0'], ['352.0', '1271.0', '1328.0', '1396.0'], ['54.0', '1017.0', '1055.0', '1166.0', '1189.0', '1436.0'], ['1159.0', '1314.0', '1396.0', '1398.0', '1437.0'], ['26.0', '237.0', '651.0', '1016.0', '1052.0', '1186.0', '1410.0'], ['120.0', '162.0', '1163.0', '1164.0', '1170.0', '1171.0', '1330.0', '1432.0'], ['151.0', '593.0', '1059.0'], ['98.0', '1436.0'], ['221.0', '465.0', '468.0', '593.0', '821.0', '1017.0', '1025.0', '1052.0', '1079.0', '1394.0'], ['1185.0', '1364.0'], ['14.0', '110.0', '415.0', '667.0', '720.0', '1169.0', '1403.0', '1406.0'], ['15.0', '369.0', '390.0', '1028.0', '1186.0'], ['494.0', '542.0', '566.0', '673.0', '715.0', '1165.0', '1368.0', '1400.0'], ['125.0', '482.0', '1166.0', '1170.0', '1171.0', '1172.0', '1304.0', '1398.0', '1416.0'], ['1160.0', '1427.0'], ['1185.0', '1396.0', '1429.0'], ['136.0', '230.0', '237.0', '1053.0'], ['26.0', '651.0', '1016.0', '1052.0', '1186.0', '1410.0'], ['108.0', '695.0', '1173.0', '1314.0', '1430.0'], ['76.0', '241.0', '1014.0', '1338.0', '1405.0', '1436.0'], ['221.0', '465.0', '1160.0', '1368.0'], ['1163.0', '1329.0', '1386.0'], ['1293.0', '1429.0', '1432.0'], ['241.0', '617.0', '681.0', '729.0', '969.0'], ['30.0', '151.0', '323.0', '682.0', '1276.0', '1432.0'], ['132.0', '241.0', '253.0', '315.0', '337.0', '399.0', '455.0', '485.0', '844.0', '887.0', '939.0', '1018.0', '1165.0', '1351.0', '1427.0'], ['1160.0', '1429.0', '1432.0'], ['250.0', '427.0', '681.0', '749.0', '782.0', '939.0', '959.0', '1053.0', '1180.0', '1206.0', '1304.0'], ['1174.0', '1198.0', '1398.0', '1432.0'], ['101.0', '120.0', '124.0', '324.0', '616.0', '682.0', '878.0', '1160.0'], ['861.0', '1158.0', '1225.0', '1411.0', '1430.0'], ['1364.0', '1429.0', '1432.0'], ['193.0', '1160.0', '1429.0', '1432.0'], ['57.0', '260.0', '1271.0', '1357.0'], ['232.0', '1338.0', '1368.0'], ['142.0', '202.0', '337.0', '732.0', '1162.0', '1368.0'], ['15.0', '43.0', '76.0', '102.0', '109.0', '124.0', '162.0', '164.0', '494.0', '730.0', '939.0', '969.0', '1431.0'], ['132.0', '146.0', '241.0', '253.0', '315.0', '337.0', '399.0', '455.0', '485.0', '844.0', '939.0', '1018.0', '1165.0', '1351.0', '1427.0'], ['26.0', '43.0', '59.0', '124.0', '164.0', '329.0', '462.0', '723.0', '749.0', '871.0', '1293.0', '1294.0'], ['131.0', '422.0', '957.0', '1426.0', '1431.0'], ['251.0', '957.0', '1328.0'], ['362.0', '939.0', '1051.0', '1398.0', '1410.0', '1427.0'], ['191.0', '1158.0', '1304.0'], ['162.0', '1158.0', '1304.0'], ['732.0', '1169.0', '1170.0', '1276.0', '1279.0', '1299.0', '1420.0', '1427.0'], ['151.0', '369.0', '593.0', '600.0', '1017.0'], ['151.0', '369.0', '464.0', '593.0', '600.0', '1017.0'], ['1054.0', '1377.0', '1427.0'], ['673.0', '1052.0', '1057.0', '1183.0', '1386.0', '1439.0'], ['51.0', '237.0', '314.0', '641.0', '1330.0', '1332.0', '1362.0', '1432.0', '1436.0'], ['26.0', '593.0', '1162.0', '1185.0'], ['125.0', '205.0', '336.0', '465.0', '761.0', '878.0', '959.0', '1155.0', '1163.0', '1184.0', '1296.0', '1305.0'], ['98.0', '237.0', '314.0', '448.0'], ['1173.0', '1314.0', '1396.0', '1430.0'], ['1056.0', '1172.0', '1271.0', '1324.0', '1328.0', '1330.0'], ['390.0', '887.0', '1162.0'], ['336.0', '1174.0', '1354.0'], ['76.0', '600.0', '647.0', '1025.0', '1293.0', '1343.0'], ['277.0', '788.0', '812.0', '1162.0', '1170.0', '1431.0'], ['263.0', '277.0', '477.0', '593.0', '969.0', '1042.0', '1180.0', '1354.0'], ['645.0', '681.0', '962.0', '996.0', '1175.0', '1185.0', '1423.0'], ['151.0', '162.0', '329.0', '415.0', '1174.0'], ['120.0', '607.0', '1054.0', '1166.0'], ['109.0', '349.0', '542.0', '764.0', '768.0', '1052.0', '1189.0'], ['1160.0', '1351.0'], ['16.0', '51.0', '237.0', '314.0', '641.0', '1330.0', '1332.0', '1362.0', '1432.0', '1436.0'], ['382.0', '1364.0'], ['162.0', '205.0', '1282.0', '1338.0', '1402.0'], ['43.0', '390.0', '681.0', '795.0', '813.0', '1330.0', '1398.0', '1410.0'], ['299.0', '486.0', '1171.0', '1330.0', '1424.0', '1427.0', '1430.0'], ['237.0', '258.0', '260.0', '390.0', '593.0', '1160.0'], ['111.0', '809.0', '858.0', '1276.0', '1332.0', '1398.0'], ['53.0', '57.0', '470.0', '600.0', '647.0', '730.0', '1176.0', '1274.0', '1314.0', '1405.0', '1432.0'], ['108.0', '695.0', '793.0', '1173.0', '1314.0', '1430.0'], ['223.0', '547.0', '1398.0'], ['1160.0', '1360.0'], ['162.0', '1047.0', '1119.0', '1158.0', '1304.0'], ['250.0', '1160.0', '1162.0'], ['111.0', '1368.0', '1436.0'], ['122.0', '1176.0', '1305.0', '1422.0', '1427.0'], ['1271.0', '1430.0'], ['43.0', '116.0', '390.0', '681.0', '795.0', '813.0', '1330.0', '1398.0', '1410.0'], ['1351.0', '1431.0'], ['310.0', '932.0', '1017.0'], ['108.0', '142.0', '695.0', '1173.0', '1225.0', '1314.0', '1430.0'], ['223.0', '732.0', '1271.0', '1396.0'], ['18.0', '33.0', '101.0', '109.0', '124.0', '125.0', '194.0', '241.0', '260.0', '462.0', '593.0', '725.0', '729.0', '1017.0', '1028.0', '1044.0', '1047.0'], ['1055.0', '1321.0', '1398.0', '1426.0', '1435.0'], ['98.0', '1017.0'], ['244.0', '1338.0', '1360.0'], ['369.0', '1052.0', '1186.0'], ['68.0', '92.0', '151.0', '213.0', '1054.0'], ['152.0', '260.0', '482.0', '641.0', '958.0', '1277.0', '1324.0', '1330.0', '1429.0'], ['390.0', '919.0', '1398.0'], ['1176.0', '1282.0'], ['145.0', '482.0', '641.0', '1166.0', '1170.0', '1290.0', '1349.0', '1427.0', '1429.0'], ['29.0', '43.0', '108.0', '260.0', '411.0', '495.0', '864.0', '1172.0', '1338.0', '1436.0'], ['910.0', '957.0', '1050.0', '1430.0'], ['12.0', '50.0', '213.0', '1162.0'], ['162.0', '1271.0', '1304.0', '1305.0'], ['1176.0', '1314.0'], ['59.0', '585.0', '658.0', '749.0', '1025.0', '1160.0', '1338.0', '1420.0'], ['996.0', '1160.0', '1314.0', '1432.0'], ['125.0', '205.0', '336.0', '465.0', '761.0', '878.0', '1155.0', '1163.0', '1184.0', '1296.0', '1305.0'], ['152.0', '162.0', '962.0', '1184.0', '1364.0'], ['26.0', '593.0', '1162.0', '1185.0', '1393.0'], ['2.0', '448.0', '617.0', '981.0', '1172.0', '1351.0', '1364.0'], ['151.0', '191.0', '194.0', '444.0', '1304.0'], ['164.0', '482.0', '641.0', '784.0', '910.0', '1174.0', '1405.0', '1410.0', '1429.0'], ['151.0', '1017.0'], ['723.0', '1398.0'], ['12.0', '969.0'], ['43.0', '254.0', '295.0', '809.0', '884.0', '986.0', '1000.0', '1047.0', '1050.0', '1289.0', '1400.0', '1423.0'], ['1168.0', '1354.0'], ['25.0', '195.0', '240.0', '379.0', '680.0', '764.0', '865.0', '1296.0', '1324.0', '1426.0', '1436.0'], ['20.0', '28.0', '101.0', '162.0', '254.0', '350.0', '390.0', '1014.0', '1368.0', '1393.0'], ['132.0', '202.0', '241.0', '1168.0', '1320.0'], ['57.0', '213.0', '681.0', '996.0', '1162.0', '1189.0', '1196.0', '1283.0', '1304.0', '1318.0'], ['68.0', '1053.0', '1054.0', '1184.0', '1244.0'], ['193.0', '1354.0', '1398.0'], ['766.0', '1158.0'], ['244.0', '1017.0', '1409.0', '1430.0'], ['131.0', '136.0', '632.0', '1293.0', '1317.0', '1336.0', '1343.0', '1350.0', '1393.0', '1395.0', '1428.0'], ['1304.0', '1429.0'], ['20.0', '151.0', '349.0', '353.0', '515.0', '593.0'], ['793.0', '1185.0', '1367.0', '1396.0', '1429.0'], ['151.0', '250.0', '415.0', '1017.0', '1184.0', '1432.0'], ['1314.0', '1396.0', '1430.0'], ['253.0', '1271.0', '1422.0', '1432.0', '1433.0', '1439.0'], ['34.0', '468.0', '1170.0', '1174.0', '1423.0'], ['116.0', '194.0', '1354.0', '1431.0'], ['33.0', '151.0', '283.0', '422.0', '464.0', '600.0', '725.0', '821.0', '882.0', '1044.0', '1053.0', '1232.0', '1336.0', '1369.0'], ['1282.0', '1354.0'], ['53.0', '223.0', '367.0', '495.0', '905.0', '1271.0', '1396.0', '1437.0'], ['14.0', '110.0', '667.0', '720.0', '1169.0', '1406.0'], ['151.0', '164.0', '665.0', '887.0', '1050.0', '1305.0', '1422.0'], ['215.0', '1436.0'], ['98.0', '1395.0', '1398.0'], ['682.0', '1314.0', '1396.0', '1430.0'], ['60.0', '723.0', '1299.0', '1368.0', '1424.0'], ['57.0', '236.0', '254.0', '291.0', '641.0', '1271.0', '1290.0', '1354.0', '1367.0'], ['152.0', '346.0', '566.0', '669.0', '939.0', '1278.0', '1439.0'], ['319.0', '1186.0', '1330.0'], ['363.0', '390.0', '1351.0'], ['315.0', '723.0', '1429.0', '1432.0'], ['390.0', '1427.0'], ['151.0', '158.0', '260.0', '1174.0'], ['122.0', '152.0', '1271.0'], ['254.0', '955.0', '1052.0', '1079.0', '1178.0', '1180.0', '1181.0', '1184.0', '1225.0', '1235.0', '1253.0', '1303.0', '1420.0', '1426.0'], ['151.0', '164.0', '665.0', '887.0', '898.0', '1050.0', '1305.0', '1422.0'], ['390.0', '1400.0'], ['164.0', '390.0', '1304.0'], ['673.0', '1052.0', '1057.0', '1183.0', '1386.0', '1439.0'], ['390.0', '686.0', '1304.0'], ['462.0', '600.0', '958.0', '1172.0', '1304.0', '1410.0', '1427.0', '1432.0'], ['80.0', '1175.0', '1276.0', '1298.0', '1431.0'], ['1162.0', '1304.0', '1332.0', '1393.0', '1394.0'], ['132.0', '236.0', '316.0', '482.0', '641.0', '681.0', '1060.0', '1290.0', '1354.0', '1368.0'], ['20.0', '1186.0', '1423.0'], ['108.0', '1163.0', '1183.0', '1271.0'], ['673.0', '1186.0', '1400.0'], ['2.0', '28.0', '314.0', '1055.0', '1170.0', '1171.0', '1172.0', '1314.0', '1415.0', '1416.0'], ['130.0', '151.0', '260.0', '390.0', '1014.0'], ['64.0', '1052.0', '1430.0'], ['1180.0', '1320.0', '1364.0'], ['223.0', '250.0', '316.0', '390.0', '444.0', '482.0', '939.0', '959.0', '1290.0'], ['1338.0', '1429.0'], ['28.0', '1017.0', '1430.0'], ['1183.0', '1271.0', '1433.0'], ['1053.0', '1427.0'], ['390.0', '1435.0'], ['151.0', '1430.0'], ['92.0', '390.0', '844.0', '1161.0', '1276.0', '1336.0', '1437.0'], ['43.0', '1128.0', '1234.0', '1304.0', '1398.0', '1416.0'], ['390.0', '1278.0'], ['1185.0', '1406.0'], ['202.0', '782.0', '933.0', '941.0', '1042.0', '1160.0', '1271.0', '1332.0'], ['124.0', '658.0', '1066.0', '1185.0', '1296.0'], ['120.0', '131.0', '189.0', '415.0', '444.0', '542.0', '593.0', '809.0', '812.0', '855.0', '1052.0', '1164.0'], ['43.0', '645.0', '1160.0', '1351.0'], ['2.0', '18.0', '260.0', '369.0', '1028.0', '1122.0', '1164.0', '1281.0', '1395.0', '1398.0', '1429.0'], ['68.0', '426.0', '542.0', '593.0', '695.0', '764.0', '855.0', '1017.0', '1048.0', '1050.0', '1053.0', '1055.0'], ['164.0', '858.0', '1271.0', '1336.0', '1433.0'], ['250.0', '350.0', '390.0', '468.0', '494.0', '495.0', '784.0', '1180.0', '1183.0', '1336.0', '1396.0', '1423.0', '1424.0'], ['482.0', '641.0', '1166.0', '1170.0', '1290.0', '1349.0', '1402.0', '1427.0', '1429.0'], ['191.0', '1138.0', '1398.0', '1429.0'], ['295.0', '475.0', '1360.0'], ['928.0', '1386.0', '1429.0'], ['350.0', '673.0', '751.0', '1166.0', '1175.0', '1400.0', '1427.0'], ['721.0', '1320.0', '1336.0', '1386.0'], ['1174.0', '1271.0'], ['195.0', '1282.0', '1427.0'], ['151.0', '260.0', '813.0', '1174.0', '1305.0'], ['43.0', '103.0', '151.0', '462.0', '969.0'], ['1181.0', '1435.0'], ['164.0', '390.0', '1386.0'], ['1160.0', '1180.0', '1290.0', '1435.0'], ['809.0', '1166.0', '1305.0', '1364.0', '1431.0'], ['250.0', '1430.0', '1433.0'], ['482.0', '1328.0', '1351.0'], ['1160.0', '1429.0', '1432.0'], ['50.0', '78.0', '109.0', '124.0', '125.0', '151.0', '202.0', '210.0', '330.0', '600.0', '682.0', '730.0', '975.0', '1025.0', '1160.0', '1286.0', '1330.0', '1391.0', '1424.0'], ['390.0', '1174.0'], ['18.0', '260.0', '1028.0', '1122.0', '1164.0', '1281.0', '1395.0', '1398.0', '1429.0'], ['494.0', '542.0', '566.0', '673.0', '715.0', '952.0', '1165.0', '1166.0', '1368.0', '1400.0'], ['415.0', '542.0', '1185.0', '1187.0', '1436.0'], ['53.0', '78.0', '670.0', '730.0', '1176.0', '1274.0', '1314.0', '1329.0'], ['1185.0', '1435.0'], ['240.0', '809.0', '1320.0', '1430.0'], ['20.0', '74.0', '98.0', '162.0', '260.0', '1394.0'], ['1276.0', '1408.0', '1429.0'], ['122.0', '151.0', '250.0', '313.0', '415.0', '444.0', '732.0', '805.0', '812.0', '1035.0', '1162.0', '1172.0', '1405.0'], ['20.0', '151.0', '1398.0'], ['20.0', '162.0', '607.0', '1431.0', '1432.0', '1436.0'], ['250.0', '1431.0', '1435.0'], ['29.0', '189.0', '241.0', '253.0', '349.0', '1017.0', '1025.0'], ['291.0', '1271.0', '1429.0'], ['18.0', '51.0', '74.0', '101.0', '120.0', '164.0', '184.0', '193.0', '194.0', '510.0', '522.0', '617.0', '833.0', '871.0', '933.0', '975.0', '1014.0', '1024.0', '1025.0', '1047.0'], ['349.0', '566.0', '1169.0', '1306.0', '1332.0', '1368.0'], ['693.0', '958.0', '1069.0', '1304.0', '1305.0', '1400.0'], ['1304.0', '1305.0', '1368.0'], ['18.0', '32.0', '98.0', '109.0', '116.0', '151.0', '210.0', '1014.0', '1016.0'], ['622.0', '634.0', '910.0', '957.0', '1050.0', '1430.0'], ['369.0', '494.0', '1052.0', '1328.0', '1332.0', '1336.0', '1396.0'], ['905.0', '1328.0', '1431.0'], ['183.0', '861.0', '1158.0', '1225.0', '1430.0'], ['673.0', '1180.0', '1271.0', '1273.0', '1357.0'], ['952.0', '1278.0', '1386.0'], ['98.0', '369.0', '1017.0'], ['1330.0', '1398.0', '1400.0', '1402.0', '1403.0'], ['1183.0', '1293.0', '1431.0'], ['43.0', '109.0', '645.0', '1160.0', '1351.0'], ['957.0', '1313.0', '1328.0', '1439.0'], ['957.0', '1160.0'], ['153.0', '382.0', '1185.0', '1428.0'], ['390.0', '1052.0'], ['116.0', '390.0', '1051.0', '1185.0', '1437.0'], ['788.0', '1059.0', '1435.0'], ['250.0', '390.0', '1276.0'], ['250.0', '494.0', '1431.0', '1435.0'], ['793.0', '911.0', '1320.0', '1387.0', '1436.0'], ['225.0', '367.0', '482.0', '693.0', '1368.0'], ['1017.0', '1171.0', '1314.0', '1432.0'], ['373.0', '1161.0', '1181.0', '1431.0'], ['566.0', '1052.0', '1183.0', '1320.0'], ['43.0', '250.0', '494.0', '566.0', '669.0', '793.0', '1160.0', '1386.0'], ['1054.0', '1400.0'], ['122.0', '151.0', '250.0', '313.0', '415.0', '444.0', '732.0', '805.0', '812.0', '1035.0', '1162.0', '1172.0', '1405.0'], ['462.0', '958.0', '1172.0', '1304.0', '1410.0', '1427.0', '1432.0'], ['1271.0', '1320.0'], ['1304.0', '1368.0'], ['2.0', '34.0', '911.0', '1304.0', '1368.0'], ['1271.0', '1406.0'], ['131.0', '202.0', '911.0', '981.0', '1017.0', '1430.0', '1437.0'], ['263.0', '821.0', '1054.0', '1422.0', '1427.0'], ['82.0', '153.0', '230.0', '437.0', '673.0', '686.0', '1274.0', '1400.0'], ['205.0', '1157.0', '1164.0', '1351.0', '1364.0'], ['390.0', '959.0', '1271.0', '1305.0'], ['20.0', '101.0', '237.0', '239.0', '283.0', '482.0', '600.0', '1305.0', '1423.0', '1433.0'], ['145.0', '1160.0', '1320.0', '1396.0'], ['723.0', '1276.0', '1332.0', '1367.0'], ['1351.0', '1364.0', '1393.0'], ['151.0', '373.0', '673.0', '732.0', '958.0', '1273.0', '1299.0', '1364.0'], ['152.0', '641.0', '1184.0', '1276.0'], ['43.0', '164.0', '812.0', '1024.0', '1165.0', '1185.0', '1429.0'], ['20.0', '98.0', '600.0', '959.0', '1298.0', '1354.0'], ['14.0', '390.0', '1290.0'], ['1183.0', '1185.0', '1394.0', '1400.0'], ['1163.0', '1386.0'], ['865.0', '1044.0', '1271.0', '1330.0', '1368.0'], ['111.0', '1351.0', '1364.0', '1426.0'], ['241.0', '250.0', '350.0', '390.0', '494.0', '495.0', '784.0', '1180.0', '1183.0', '1336.0', '1396.0', '1423.0', '1424.0'], ['78.0', '510.0', '1304.0', '1398.0', '1411.0'], ['1360.0', '1430.0'], ['57.0', '98.0', '124.0', '1364.0'], ['349.0', '566.0', '1169.0', '1306.0', '1332.0', '1368.0'], ['130.0', '669.0', '1271.0', '1278.0', '1336.0'], ['188.0', '673.0', '812.0', '1073.0', '1184.0', '1271.0', '1298.0', '1400.0'], ['50.0', '244.0', '477.0', '651.0', '729.0', '1171.0', '1172.0', '1190.0', '1359.0', '1420.0', '1429.0'], ['1181.0', '1320.0', '1396.0'], ['43.0', '225.0', '1364.0'], ['1304.0', '1305.0', '1400.0'], ['82.0', '253.0', '362.0', '939.0', '1160.0', '1360.0', '1410.0'], ['130.0', '241.0', '681.0', '729.0', '969.0'], ['81.0', '1271.0', '1366.0', '1408.0', '1410.0', '1411.0'], ['1271.0', '1320.0', '1362.0', '1411.0'], ['359.0', '482.0', '564.0', '673.0', '1061.0', '1183.0', '1271.0', '1336.0', '1364.0'], ['1351.0', '1364.0'], ['48.0', '108.0', '1017.0', '1164.0', '1320.0'], ['76.0', '221.0', '1354.0', '1398.0'], ['1175.0', '1276.0', '1298.0', '1431.0'], ['1171.0', '1186.0', '1423.0'], ['232.0', '1271.0', '1328.0'], ['252.0', '1171.0', '1186.0', '1423.0'], ['9.0', '957.0', '1271.0', '1330.0', '1336.0', '1396.0'], ['20.0', '151.0', '295.0', '647.0', '1400.0'], ['1276.0', '1304.0'], ['109.0', '113.0', '210.0', '470.0', '477.0', '1044.0', '1296.0', '1338.0', '1393.0', '1432.0'], ['101.0', '146.0', '525.0', '891.0', '951.0', '968.0', '1052.0', '1186.0', '1298.0'], ['89.0', '288.0', '547.0', '669.0', '673.0', '1271.0', '1296.0', '1439.0'], ['191.0', '329.0', '415.0', '566.0', '659.0', '1162.0', '1165.0', '1364.0'], ['151.0', '959.0', '969.0'], ['15.0', '1398.0', '1429.0'], ['363.0', '390.0', '853.0', '1336.0', '1427.0', '1437.0'], ['57.0', '151.0', '213.0', '240.0', '969.0'], ['125.0', '634.0', '1052.0', '1271.0'], ['32.0', '1282.0', '1398.0'], ['122.0', '352.0', '722.0', '732.0', '812.0', '996.0', '1048.0', '1199.0', '1304.0', '1330.0', '1332.0', '1336.0', '1367.0', '1429.0'], ['1164.0', '1276.0', '1396.0', '1427.0'], ['153.0', '234.0', '390.0', '1047.0', '1173.0', '1361.0', '1365.0', '1397.0', '1398.0'], ['146.0', '254.0', '525.0', '634.0', '891.0', '951.0', '968.0', '1052.0', '1186.0', '1298.0'], ['112.0', '359.0', '482.0', '564.0', '673.0', '1061.0', '1271.0', '1336.0', '1364.0'], ['337.0', '1296.0', '1324.0', '1351.0', '1409.0', '1411.0'], ['665.0', '1271.0'], ['1364.0', '1398.0'], ['82.0', '1304.0', '1351.0', '1437.0'], ['20.0', '108.0', '957.0', '1042.0', '1163.0'], ['108.0', '427.0', '600.0', '682.0', '1186.0', '1296.0', '1330.0'], ['12.0', '103.0', '125.0', '251.0', '268.0', '462.0', '600.0', '729.0', '821.0'], ['26.0', '43.0', '131.0', '470.0', '744.0', '1189.0', '1314.0', '1398.0', '1405.0'], ['352.0', '1271.0', '1328.0', '1396.0'], ['1293.0', '1368.0', '1393.0'], ['53.0', '670.0', '730.0', '1176.0', '1274.0', '1314.0', '1329.0'], ['482.0', '843.0', '1328.0', '1351.0'], ['40.0', '723.0'], ['68.0', '1053.0', '1054.0', '1184.0', '1244.0', '1289.0'], ['253.0', '362.0', '939.0', '1160.0', '1360.0', '1410.0'], ['2.0', '448.0', '981.0', '1172.0', '1351.0', '1364.0'], ['981.0', '1351.0', '1430.0'], ['686.0', '1271.0', '1328.0'], ['12.0', '1328.0', '1396.0'], ['43.0', '151.0', '390.0'], ['952.0', '1183.0', '1271.0', '1296.0'], ['1330.0', '1411.0', '1427.0', '1430.0'], ['1320.0', '1366.0'], ['18.0', '33.0', '101.0', '109.0', '124.0', '125.0', '193.0', '194.0', '241.0', '260.0', '462.0', '593.0', '725.0', '729.0', '833.0', '1017.0', '1028.0', '1044.0', '1047.0'], ['295.0', '475.0', '482.0', '1360.0'], ['233.0', '880.0', '1017.0', '1360.0'], ['124.0', '143.0', '369.0', '645.0', '1042.0', '1050.0', '1304.0', '1351.0'], ['1052.0', '1430.0'], ['82.0', '1304.0', '1331.0', '1400.0', '1404.0', '1437.0'], ['1163.0', '1232.0', '1271.0', '1336.0'], ['1271.0', '1328.0'], ['825.0', '1429.0'], ['1351.0', '1364.0'], ['382.0', '1061.0', '1364.0'], ['910.0', '1271.0', '1305.0', '1430.0'], ['843.0', '958.0', '1271.0', '1366.0'], ['943.0', '1296.0', '1400.0'], ['210.0', '1160.0', '1181.0', '1330.0'], ['693.0', '958.0', '1069.0', '1092.0', '1304.0', '1305.0', '1400.0'], ['658.0', '981.0', '1160.0', '1360.0'], ['33.0', '43.0', '98.0', '110.0', '131.0', '684.0', '1314.0'], ['239.0', '315.0', '415.0', '821.0', '833.0', '968.0', '1324.0', '1431.0', '1436.0'], ['1165.0', '1271.0', '1332.0', '1368.0'], ['329.0', '981.0', '1304.0', '1305.0', '1430.0', '1437.0'], ['236.0', '316.0', '482.0', '641.0', '1060.0', '1290.0', '1354.0', '1368.0'], ['43.0', '51.0', '782.0', '871.0', '1051.0', '1398.0', '1429.0'], ['1160.0', '1427.0'], ['730.0', '1017.0', '1271.0'], ['1271.0', '1357.0'], ['115.0', '124.0', '151.0', '369.0', '593.0', '933.0', '1017.0'], ['367.0', '482.0', '693.0', '958.0', '1304.0', '1368.0'], ['1271.0', '1405.0', '1406.0'], ['634.0', '1052.0', '1186.0', '1305.0'], ['693.0', '1357.0', '1400.0'], ['324.0', '1296.0', '1320.0'], ['369.0', '494.0', '1052.0', '1328.0', '1332.0', '1336.0', '1396.0'], ['205.0', '1057.0', '1059.0', '1060.0', '1168.0', '1190.0'], ['15.0', '33.0', '50.0', '109.0', '422.0', '515.0', '651.0', '681.0', '729.0', '744.0', '990.0', '1018.0', '1055.0', '1429.0'], ['1055.0', '1321.0', '1398.0', '1426.0', '1435.0'], ['871.0', '1172.0', '1271.0', '1336.0', '1398.0'], ['151.0', '415.0', '647.0', '749.0', '1017.0', '1025.0', '1332.0'], ['1368.0', '1429.0'], ['109.0', '124.0', '151.0', '369.0', '593.0', '933.0', '1017.0'], ['33.0', '422.0', '957.0', '1336.0', '1426.0', '1431.0'], ['98.0', '1368.0'], ['98.0', '844.0', '1053.0', '1330.0', '1409.0'], ['76.0', '1343.0', '1351.0'], ['32.0', '43.0', '109.0', '210.0', '310.0', '764.0', '1298.0', '1305.0', '1364.0', '1391.0'], ['53.0', '57.0', '470.0', '600.0', '647.0', '730.0', '1176.0', '1274.0', '1314.0', '1405.0', '1432.0'], ['390.0', '1278.0'], ['12.0', '645.0', '1351.0'], ['1398.0', '1436.0'], ['183.0', '1351.0', '1364.0'], ['116.0', '732.0', '930.0', '981.0', '1271.0', '1368.0', '1396.0'], ['930.0', '943.0', '1429.0', '1430.0'], ['324.0', '727.0', '843.0', '880.0', '1206.0', '1271.0', '1328.0', '1356.0', '1402.0', '1442.0'], ['18.0', '51.0', '74.0', '101.0', '120.0', '142.0', '184.0', '193.0', '194.0', '510.0', '522.0', '617.0', '833.0', '871.0', '933.0', '975.0', '1014.0', '1024.0', '1025.0', '1047.0'], ['43.0', '151.0', '390.0', '510.0'], ['268.0', '517.0', '686.0', '751.0', '880.0', '930.0', '968.0', '1008.0', '1168.0', '1271.0'], ['1304.0', '1368.0'], ['1174.0', '1324.0', '1330.0', '1368.0'], ['151.0', '194.0', '375.0', '444.0', '681.0', '1304.0'], ['336.0', '1052.0', '1186.0'], ['1053.0', '1274.0', '1293.0', '1317.0', '1393.0', '1394.0', '1428.0'], ['51.0', '491.0', '1282.0', '1398.0'], ['53.0', '470.0', '844.0', '1176.0', '1274.0', '1314.0', '1330.0'], ['263.0', '477.0', '593.0', '969.0', '1042.0', '1043.0', '1180.0', '1337.0', '1354.0'], ['151.0', '348.0', '1047.0', '1048.0', '1343.0'], ['20.0', '241.0', '310.0', '1047.0', '1393.0', '1398.0'], ['14.0', '194.0', '1354.0'], ['1053.0', '1274.0', '1293.0', '1317.0', '1393.0', '1394.0', '1428.0'], ['1304.0', '1354.0'], ['1185.0', '1431.0'], ['491.0', '833.0', '1314.0', '1354.0', '1432.0'], ['727.0', '1295.0', '1429.0', '1430.0'], ['1305.0', '1364.0', '1429.0'], ['236.0', '310.0', '1332.0', '1338.0'], ['34.0', '911.0', '1304.0', '1305.0', '1368.0'], ['1274.0', '1429.0', '1430.0'], ['1343.0', '1351.0'], ['20.0', '116.0', '151.0', '202.0', '260.0', '373.0', '525.0', '665.0', '1184.0', '1336.0'], ['16.0', '26.0', '43.0', '122.0', '250.0', '260.0', '910.0', '1048.0', '1053.0', '1420.0', '1429.0'], ['2.0', '40.0', '173.0', '336.0', '364.0', '510.0', '821.0', '1056.0', '1324.0', '1364.0', '1394.0', '1432.0', '1434.0'], ['241.0', '270.0', '1014.0', '1338.0', '1405.0', '1436.0'], ['310.0', '809.0', '1052.0'], ['43.0', '130.0', '164.0', '250.0', '353.0', '482.0', '566.0', '1160.0', '1172.0', '1314.0'], ['43.0', '164.0', '1155.0', '1181.0', '1267.0', '1305.0', '1398.0', '1403.0', '1405.0', '1407.0', '1408.0', '1411.0'], ['202.0', '491.0', '833.0', '1314.0', '1354.0', '1432.0'], ['1160.0', '1429.0', '1432.0'], ['110.0', '617.0', '681.0', '729.0', '1436.0'], ['205.0', '1185.0', '1398.0'], ['732.0', '1169.0', '1170.0', '1276.0', '1279.0', '1299.0', '1420.0', '1427.0'], ['20.0', '78.0', '510.0', '1304.0', '1394.0', '1398.0', '1411.0'], ['1271.0', '1427.0'], ['108.0', '569.0', '809.0', '821.0', '1286.0', '1293.0', '1436.0'], ['57.0', '109.0', '138.0', '153.0', '213.0', '223.0', '348.0', '645.0', '667.0', '686.0', '958.0', '1330.0', '1351.0', '1363.0'], ['124.0', '237.0', '260.0', '390.0', '482.0', '593.0', '1160.0'], ['20.0', '508.0', '542.0', '1166.0', '1169.0', '1343.0', '1354.0'], ['132.0', '173.0', '310.0', '482.0', '553.0', '723.0', '876.0'], ['143.0', '390.0', '1185.0', '1437.0'], ['645.0', '962.0', '1185.0', '1305.0', '1343.0'], ['101.0', '120.0', '295.0', '1047.0', '1343.0', '1393.0', '1428.0'], ['98.0', '821.0', '959.0', '1271.0', '1387.0'], ['1225.0', '1314.0', '1429.0', '1432.0'], ['336.0', '1052.0', '1170.0', '1186.0'], ['278.0', '390.0', '844.0', '1161.0', '1276.0', '1336.0', '1437.0'], ['903.0', '1276.0', '1427.0'], ['390.0', '470.0', '1387.0', '1427.0'], ['237.0', '260.0', '1017.0', '1018.0', '1282.0'], ['152.0', '336.0', '1047.0', '1429.0'], ['131.0', '632.0', '1293.0', '1317.0', '1336.0', '1343.0', '1350.0', '1393.0', '1395.0', '1428.0'], ['68.0', '151.0', '213.0', '1054.0', '1428.0', '1434.0'], ['194.0', '673.0', '751.0', '1166.0', '1400.0', '1427.0'], ['482.0', '618.0', '1166.0', '1170.0', '1171.0', '1172.0', '1304.0', '1398.0', '1416.0'], ['559.0', '730.0', '1138.0', '1165.0', '1184.0', '1293.0', '1319.0', '1391.0', '1393.0', '1398.0'], ['1314.0', '1429.0'], ['607.0', '939.0', '1059.0', '1178.0', '1180.0', '1427.0'], ['162.0', '1282.0', '1338.0', '1367.0', '1402.0'], ['146.0', '448.0', '542.0', '626.0', '634.0', '809.0', '1052.0', '1186.0', '1395.0'], ['273.0', '723.0', '749.0', '1276.0', '1332.0', '1367.0'], ['33.0', '1293.0', '1429.0', '1432.0'], ['234.0', '390.0', '1047.0', '1173.0', '1337.0', '1344.0', '1361.0', '1365.0', '1397.0', '1398.0'], ['898.0', '1163.0', '1338.0', '1434.0'], ['681.0', '1282.0', '1314.0'], ['57.0', '952.0', '1053.0', '1057.0', '1271.0'], ['1324.0', '1398.0', '1423.0', '1432.0'], ['232.0', '495.0', '1314.0', '1396.0', '1427.0'], ['164.0', '315.0', '465.0', '641.0', '858.0', '1160.0', '1172.0', '1386.0'], ['1057.0', '1058.0', '1059.0', '1060.0', '1168.0', '1184.0', '1190.0'], ['508.0', '1052.0', '1186.0', '1391.0'], ['323.0', '896.0', '910.0', '936.0', '968.0', '1016.0', '1052.0', '1161.0', '1436.0'], ['16.0', '43.0', '122.0', '250.0', '260.0', '910.0', '1048.0', '1053.0', '1055.0', '1420.0', '1429.0'], ['865.0', '1296.0', '1398.0'], ['268.0', '517.0', '686.0', '751.0', '880.0', '930.0', '968.0', '1008.0', '1168.0', '1271.0'], ['40.0', '43.0', '268.0', '566.0', '781.0', '1165.0', '1183.0', '1343.0'], ['1162.0', '1354.0'], ['0.0', '33.0', '132.0', '1052.0', '1398.0'], ['943.0', '1162.0', '1360.0'], ['18.0', '151.0', '241.0', '508.0', '1141.0', '1157.0', '1330.0', '1394.0', '1398.0', '1434.0'], ['880.0', '1050.0', '1328.0', '1396.0', '1433.0'], ['109.0', '316.0', '382.0', '667.0', '785.0', '862.0', '910.0', '1398.0', '1416.0'], ['136.0', '237.0', '600.0', '1017.0', '1053.0'], ['221.0', '455.0', '510.0', '911.0', '1052.0', '1170.0', '1427.0', '1432.0'], ['1017.0', '1171.0', '1314.0', '1432.0'], ['151.0', '766.0'], ['116.0', '593.0', '865.0', '1163.0', '1170.0', '1171.0', '1172.0', '1330.0', '1429.0'], ['20.0', '40.0', '173.0', '316.0', '607.0', '1024.0', '1050.0', '1400.0'], ['14.0', '409.0', '681.0', '933.0', '1351.0', '1391.0', '1393.0'], ['98.0', '1282.0'], ['98.0', '109.0', '1393.0', '1395.0', '1398.0'], ['65.0', '109.0', '996.0', '1183.0', '1336.0', '1354.0', '1398.0', '1402.0'], ['68.0', '426.0', '542.0', '593.0', '695.0', '764.0', '855.0', '1017.0', '1050.0', '1053.0', '1055.0'], ['15.0', '20.0', '151.0', '349.0', '353.0', '515.0', '593.0', '651.0'], ['173.0', '1314.0', '1328.0', '1422.0'], ['57.0', '101.0', '110.0', '120.0', '124.0', '193.0', '349.0', '600.0', '788.0', '965.0'], ['193.0', '348.0', '470.0', '1170.0', '1171.0', '1274.0', '1314.0', '1424.0', '1436.0'], ['1173.0', '1271.0', '1304.0', '1305.0'], ['1163.0', '1166.0', '1170.0', '1171.0', '1172.0', '1357.0'], ['131.0', '146.0', '542.0', '626.0', '634.0', '809.0', '1052.0', '1186.0'], ['68.0', '111.0', '131.0', '173.0', '250.0', '302.0', '669.0', '898.0', '967.0', '1017.0', '1354.0', '1393.0'], ['508.0', '681.0', '1052.0', '1186.0', '1391.0'], ['239.0', '315.0', '415.0', '525.0', '821.0', '833.0', '968.0', '1324.0', '1431.0', '1436.0'], ['1186.0', '1314.0', '1330.0', '1393.0', '1394.0'], ['26.0', '43.0', '124.0', '470.0', '482.0', '658.0', '1276.0', '1332.0', '1367.0', '1429.0'], ['962.0', '965.0', '1160.0', '1314.0'], ['151.0', '415.0', '647.0', '1017.0', '1025.0', '1332.0'], ['230.0', '1052.0', '1305.0'], ['8.0', '136.0', '237.0', '260.0', '303.0', '788.0', '973.0', '1000.0', '1008.0', '1053.0', '1054.0'], ['1293.0', '1364.0'], ['20.0', '508.0', '1169.0', '1343.0', '1354.0'], ['33.0', '1181.0', '1431.0'], ['20.0', '51.0', '101.0', '162.0', '254.0', '350.0', '390.0', '462.0', '1014.0', '1368.0', '1393.0'], ['336.0', '1047.0', '1338.0', '1393.0', '1429.0'], ['124.0', '398.0', '1276.0', '1427.0'], ['20.0', '108.0', '933.0', '957.0', '1042.0', '1163.0', '1274.0'], ['134.0', '1018.0', '1282.0', '1293.0', '1393.0'], ['1052.0', '1160.0', '1330.0'], ['132.0', '349.0', '764.0', '1052.0', '1189.0'], ['16.0', '547.0', '1017.0', '1398.0'], ['727.0', '1163.0', '1320.0'], ['124.0', '205.0', '542.0', '658.0', '764.0', '1053.0', '1165.0', '1170.0', '1171.0', '1186.0'], ['288.0', '547.0', '669.0', '673.0', '1271.0', '1296.0', '1439.0'], ['1429.0', '1431.0'], ['465.0', '844.0', '1053.0', '1296.0', '1420.0'], ['658.0', '1330.0', '1368.0', '1427.0'], ['65.0', '124.0', '138.0', '151.0', '260.0', '600.0', '645.0', '809.0', '933.0', '962.0', '1166.0', '1170.0', '1304.0', '1330.0', '1336.0', '1391.0'], ['151.0', '1282.0'], ['390.0', '465.0', '1017.0'], ['43.0', '164.0', '1024.0', '1165.0', '1185.0', '1429.0'], ['236.0', '315.0', '641.0', '813.0', '864.0', '865.0', '1044.0', '1162.0', '1186.0', '1321.0'], ['20.0', '76.0', '116.0', '1014.0', '1047.0', '1048.0', '1293.0', '1354.0', '1437.0'], ['194.0', '1282.0', '1354.0'], ['2.0', '34.0', '40.0', '125.0', '173.0', '336.0', '364.0', '510.0', '821.0', '933.0', '1056.0', '1164.0', '1324.0', '1364.0', '1394.0', '1432.0', '1434.0'], ['1017.0', '1166.0', '1314.0'], ['1056.0', '1172.0', '1271.0', '1328.0', '1330.0'], ['40.0', '173.0', '316.0', '607.0', '1016.0', '1024.0', '1048.0', '1050.0', '1400.0'], ['132.0', '310.0', '553.0', '723.0', '876.0'], ['53.0', '122.0', '151.0', '926.0', '957.0', '959.0', '1025.0', '1164.0', '1177.0'], ['12.0', '30.0', '151.0', '237.0', '260.0', '682.0', '795.0', '812.0'], ['1274.0', '1354.0', '1393.0', '1398.0'], ['78.0', '390.0', '465.0', '844.0', '1017.0'], ['195.0', '1174.0', '1304.0', '1367.0'], ['1282.0', '1398.0'], ['1304.0', '1394.0', '1398.0'], ['1293.0', '1429.0', '1432.0'], ['1304.0', '1338.0', '1432.0'], ['39.0', '237.0', '268.0', '349.0', '477.0', '544.0', '632.0', '729.0', '864.0'], ['887.0', '1368.0', '1436.0'], ['273.0', '1276.0', '1418.0', '1427.0'], ['20.0', '202.0', '782.0', '933.0', '941.0', '1042.0', '1160.0', '1271.0', '1332.0'], ['74.0', '833.0', '1354.0'], ['173.0', '1276.0', '1427.0'], ['39.0', '116.0', '448.0', '1025.0', '1170.0', '1343.0', '1398.0'], ['336.0', '1053.0', '1170.0', '1338.0'], ['108.0', '131.0', '202.0', '1017.0', '1028.0', '1055.0', '1164.0', '1426.0', '1430.0', '1432.0'], ['76.0', '1174.0', '1324.0', '1368.0'], ['20.0', '151.0', '1176.0', '1336.0'], ['151.0', '223.0', '252.0', '415.0', '692.0', '843.0', '910.0'], ['124.0', '125.0', '151.0', '1278.0'], ['151.0', '157.0', '1429.0'], ['116.0', '189.0', '943.0', '1160.0', '1163.0', '1330.0'], ['143.0', '191.0', '959.0', '1177.0', '1314.0', '1330.0', '1360.0'], ['1320.0', '1351.0'], ['369.0', '390.0', '876.0', '1014.0', '1028.0', '1186.0'], ['749.0', '809.0', '939.0', '1163.0', '1332.0', '1430.0'], ['108.0', '1271.0', '1338.0'], ['263.0', '284.0', '379.0', '600.0', '692.0', '1276.0', '1338.0', '1395.0'], ['43.0', '152.0', '367.0', '510.0', '1014.0', '1271.0'], ['151.0', '260.0', '390.0', '1014.0'], ['213.0', '876.0', '905.0', '1116.0', '1160.0', '1172.0', '1295.0', '1330.0', '1333.0', '1431.0'], ['315.0', '813.0', '887.0', '898.0', '943.0', '1162.0', '1296.0'], ['1162.0', '1304.0', '1332.0', '1393.0'], ['81.0', '1271.0', '1366.0', '1408.0'], ['57.0', '138.0', '153.0', '213.0', '223.0', '348.0', '645.0', '667.0', '686.0', '958.0', '1330.0', '1351.0', '1363.0'], ['43.0', '1314.0', '1429.0'], ['60.0', '291.0', '1271.0', '1429.0'], ['20.0', '151.0', '647.0', '673.0', '1400.0'], ['50.0', '1314.0', '1429.0'], ['26.0', '32.0', '730.0', '1017.0', '1271.0'], ['142.0', '232.0', '495.0', '1314.0', '1396.0', '1427.0'], ['40.0', '151.0', '409.0'], ['18.0', '32.0', '98.0', '109.0', '116.0', '151.0', '191.0', '210.0', '1014.0', '1016.0'], ['295.0', '347.0', '1163.0', '1183.0', '1185.0'], ['189.0', '256.0', '766.0', '969.0', '1324.0'], ['28.0', '43.0', '464.0', '825.0', '1016.0', '1429.0'], ['111.0', '213.0', '1293.0', '1427.0'], ['2.0', '324.0', '727.0', '843.0', '880.0', '1271.0', '1328.0', '1356.0', '1402.0', '1442.0'], ['193.0', '504.0', '729.0', '981.0', '1079.0', '1165.0', '1166.0', '1321.0', '1324.0', '1367.0', '1432.0', '1436.0', '1437.0'], ['928.0', '1386.0', '1429.0'], ['115.0', '1158.0', '1166.0', '1167.0', '1320.0', '1415.0', '1416.0'], ['1166.0', '1276.0', '1351.0'], ['120.0', '122.0', '223.0', '1008.0'], ['273.0', '1160.0', '1290.0', '1435.0'], ['12.0', '30.0', '92.0', '151.0', '237.0', '795.0', '812.0'], ['8.0', '98.0', '440.0', '600.0', '1364.0'], ['108.0', '390.0', '1368.0'], ['12.0', '732.0', '785.0', '880.0', '939.0', '1181.0'], ['788.0', '969.0', '1354.0'], ['120.0', '1314.0'], ['81.0', '390.0', '686.0', '1304.0'], ['195.0', '730.0', '1282.0', '1324.0', '1427.0'], ['195.0', '1174.0', '1304.0', '1367.0'], ['101.0', '1160.0', '1354.0', '1377.0', '1432.0'], ['8.0', '136.0', '237.0', '260.0', '303.0', '381.0', '788.0', '973.0', '1000.0', '1008.0', '1053.0', '1054.0'], ['1174.0', '1185.0'], ['865.0', '1172.0', '1198.0', '1257.0', '1289.0', '1305.0', '1314.0', '1364.0', '1442.0'], ['1172.0', '1304.0', '1330.0', '1431.0'], ['98.0', '230.0'], ['1314.0', '1396.0', '1398.0'], ['36.0', '108.0', '793.0', '1173.0', '1314.0', '1430.0'], ['25.0', '108.0', '195.0', '379.0', '680.0', '764.0', '865.0', '1296.0', '1426.0', '1436.0'], ['349.0', '1017.0'], ['1014.0', '1304.0', '1351.0'], ['120.0', '131.0', '189.0', '415.0', '444.0', '542.0', '593.0', '809.0', '812.0', '855.0', '1052.0', '1164.0'], ['82.0', '1304.0', '1331.0', '1400.0', '1404.0', '1437.0'], ['108.0', '131.0', '202.0', '1017.0', '1028.0', '1055.0', '1164.0', '1426.0', '1430.0', '1432.0'], ['809.0', '1320.0', '1409.0', '1430.0'], ['8.0', '1320.0', '1336.0', '1386.0'], ['110.0', '729.0', '939.0', '1431.0'], ['65.0', '109.0', '996.0', '1060.0', '1183.0', '1336.0', '1354.0', '1398.0', '1402.0'], ['1320.0', '1328.0'], ['12.0', '58.0', '103.0', '251.0', '268.0', '462.0', '600.0', '729.0', '821.0'], ['1181.0', '1435.0'], ['1170.0', '1304.0', '1398.0'], ['314.0', '1296.0'], ['347.0', '390.0', '843.0', '1162.0'], ['299.0', '1329.0', '1427.0', '1430.0'], ['486.0', '809.0', '1171.0', '1330.0', '1424.0', '1427.0', '1430.0'], ['109.0', '116.0', '120.0', '193.0', '910.0', '975.0', '1048.0', '1160.0'], ['1170.0', '1282.0', '1398.0'], ['962.0', '1429.0', '1430.0'], ['20.0', '1054.0', '1185.0'], ['316.0', '359.0', '641.0', '1163.0', '1172.0', '1276.0'], ['12.0', '122.0', '152.0'], ['115.0', '250.0', '1430.0', '1433.0'], ['1017.0', '1018.0', '1282.0'], ['89.0', '1354.0', '1368.0', '1437.0'], ['12.0', '593.0', '969.0'], ['617.0', '1017.0', '1055.0', '1166.0', '1189.0', '1336.0', '1436.0'], ['491.0', '1293.0', '1393.0', '1429.0'], ['34.0', '491.0', '1293.0', '1429.0'], ['57.0', '151.0', '213.0', '232.0', '240.0', '969.0'], ['871.0', '1271.0', '1398.0'], ['101.0', '311.0', '880.0', '1181.0', '1185.0', '1405.0', '1418.0'], ['600.0', '1017.0', '1398.0'], ['101.0', '1160.0', '1330.0', '1354.0', '1377.0', '1394.0', '1432.0'], ['125.0', '252.0', '542.0', '732.0', '1162.0', '1276.0'], ['1160.0', '1162.0'], ['215.0', '1160.0'], ['1158.0', '1166.0', '1167.0', '1320.0', '1415.0', '1416.0'], ['1160.0', '1429.0', '1432.0'], ['122.0', '152.0', '641.0', '681.0', '1184.0', '1276.0'], ['40.0', '1160.0'], ['234.0', '398.0', '606.0', '1304.0', '1368.0', '1391.0'], ['1314.0', '1398.0'], ['939.0', '1059.0', '1178.0', '1180.0', '1427.0'], ['151.0', '1282.0'], ['57.0', '98.0', '116.0', '593.0', '641.0', '846.0', '1276.0', '1330.0', '1426.0'], ['101.0', '120.0', '724.0', '1047.0', '1343.0', '1393.0', '1428.0'], ['260.0', '315.0', '723.0', '1429.0', '1432.0'], ['26.0', '905.0', '1328.0', '1431.0'], ['213.0', '673.0', '876.0', '905.0', '1116.0', '1160.0', '1172.0', '1295.0', '1330.0', '1333.0', '1431.0'], ['939.0', '1406.0'], ['132.0', '1160.0'], ['215.0', '534.0', '692.0'], ['1418.0', '1429.0'], ['809.0', '1430.0'], ['1418.0', '1430.0'], ['237.0', '427.0', '744.0', '1304.0'], ['1338.0'], ['236.0', '250.0', '669.0', '939.0', '952.0', '1166.0', '1278.0'], ['1430.0'], ['14.0', '362.0'], ['81.0', '1351.0'], ['51.0', '74.0', '491.0'], ['134.0', '508.0', '600.0', '668.0', '684.0', '788.0', '821.0', '962.0', '1276.0', '1393.0'], ['32.0', '1271.0'], ['809.0', '1338.0', '1420.0'], ['232.0', '427.0', '1271.0'], ['1435.0'], ['1271.0'], ['111.0', '1391.0', '1430.0'], ['813.0', '825.0'], ['1400.0'], ['1427.0'], ['122.0', '311.0', '426.0', '809.0', '1183.0', '1386.0'], ['253.0', '362.0', '939.0', '1160.0', '1418.0'], ['651.0', '1160.0', '1330.0', '1391.0'], ['1436.0'], ['18.0', '234.0', '241.0', '508.0', '1141.0', '1157.0', '1330.0', '1394.0', '1398.0', '1434.0'], ['36.0', '1427.0'], ['1171.0', '1276.0'], ['1409.0', '1430.0'], ['681.0', '809.0', '892.0', '1160.0', '1418.0'], ['1054.0', '1165.0'], ['939.0', '1427.0'], ['152.0', '878.0'], ['1429.0'], ['244.0', '705.0', '732.0', '813.0', '958.0', '1298.0', '1320.0'], ['16.0', '1431.0'], ['616.0', '1271.0', '1437.0'], ['1427.0'], ['230.0'], ['215.0'], ['74.0', '1391.0'], ['39.0', '268.0', '349.0', '477.0', '544.0', '632.0', '864.0'], ['1156.0', '1158.0', '1247.0', '1402.0', '1403.0'], ['20.0', '390.0'], ['1400.0'], ['337.0', '1296.0'], ['1293.0'], ['1429.0'], ['1427.0'], ['101.0', '559.0', '975.0', '1271.0', '1407.0'], ['475.0', '482.0'], ['607.0', '788.0', '1364.0'], ['12.0', '33.0', '202.0'], ['68.0', '108.0', '542.0', '864.0', '887.0', '1016.0', '1042.0', '1429.0'], ['1304.0'], ['1431.0'], ['1017.0'], ['1427.0'], ['98.0'], ['202.0', '1354.0'], ['263.0', '1054.0', '1422.0'], ['1418.0', '1430.0'], ['1162.0'], ['1430.0'], ['1338.0'], ['705.0', '1429.0'], ['14.0', '975.0'], ['244.0', '1185.0'], ['145.0', '1429.0', '1432.0'], ['40.0'], ['28.0', '43.0', '825.0', '1016.0'], ['1160.0'], ['477.0', '1162.0'], ['40.0'], ['32.0', '151.0', '1164.0'], ['1160.0'], ['224.0', '1364.0'], ['43.0', '51.0', '78.0', '1047.0', '1293.0'], ['1398.0'], ['1351.0'], ['723.0', '928.0', '1165.0', '1172.0', '1403.0', '1419.0', '1444.0'], ['194.0', '310.0', '464.0', '928.0', '1277.0'], ['1057.0', '1061.0', '1177.0', '1435.0'], ['193.0', '348.0', '470.0', '1171.0', '1274.0', '1424.0', '1436.0'], ['1435.0'], ['1304.0'], ['955.0', '957.0'], ['194.0', '1429.0', '1432.0'], ['18.0', '57.0', '98.0', '124.0', '268.0', '725.0'], ['939.0', '1160.0', '1290.0'], ['311.0', '350.0', '1183.0', '1277.0', '1328.0', '1396.0'], ['1160.0'], ['74.0'], ['1343.0'], ['693.0', '1351.0'], ['40.0', '146.0', '1439.0'], ['232.0', '844.0', '1320.0'], ['319.0', '1330.0'], ['32.0', '251.0', '314.0'], ['51.0', '120.0', '130.0', '191.0', '260.0', '366.0', '486.0', '812.0'], ['1435.0'], ['270.0', '1186.0'], ['1320.0'], ['390.0'], ['390.0'], ['16.0', '33.0', '151.0', '202.0'], ['943.0', '1162.0'], ['865.0', '1431.0'], ['390.0'], ['34.0', '347.0', '871.0', '887.0', '1160.0'], ['390.0'], ['254.0', '336.0', '390.0', '482.0'], ['1435.0'], ['390.0'], ['390.0'], ['390.0'], ['1276.0', '1321.0', '1437.0'], ['482.0', '1185.0'], ['673.0', '1400.0'], ['316.0', '349.0'], ['1162.0'], ['202.0', '283.0', '337.0', '732.0', '1368.0'], ['1059.0', '1405.0'], ['1314.0', '1432.0'], ['1314.0'], ['1368.0'], ['78.0', '1398.0'], ['928.0', '1320.0', '1426.0'], ['115.0', '1364.0', '1426.0'], ['53.0', '411.0', '959.0', '1055.0', '1184.0', '1271.0', '1305.0', '1324.0', '1434.0'], ['362.0', '479.0', '861.0', '903.0', '1367.0', '1418.0', '1430.0'], ['34.0', '76.0', '162.0', '184.0', '336.0', '607.0', '833.0', '1047.0', '1176.0', '1324.0'], ['1304.0'], ['1278.0'], ['143.0', '647.0', '1160.0'], ['65.0', '81.0', '1163.0'], ['1317.0', '1429.0'], ['1017.0', '1164.0'], ['20.0', '43.0', '120.0', '379.0', '932.0', '1014.0', '1332.0'], ['112.0', '522.0', '682.0', '911.0', '1146.0', '1324.0', '1364.0'], ['415.0', '1053.0'], ['347.0', '695.0', '1427.0'], ['1431.0'], ['1017.0'], ['101.0', '491.0', '833.0', '1314.0', '1394.0', '1432.0'], ['1427.0'], ['1364.0'], ['1185.0'], ['626.0', '926.0', '1180.0', '1427.0'], ['1185.0', '1396.0'], ['53.0', '390.0', '1332.0'], ['1185.0'], ['111.0', '116.0', '1163.0', '1170.0', '1172.0'], ['96.0', '151.0'], ['1304.0'], ['1336.0', '1361.0', '1368.0', '1369.0'], ['1368.0'], ['39.0', '609.0', '1351.0'], ['336.0', '1338.0'], ['969.0'], ['316.0', '542.0', '1163.0'], ['142.0', '221.0', '455.0', '510.0', '1170.0', '1427.0', '1432.0'], ['1427.0'], ['225.0'], ['390.0'], ['390.0'], ['310.0', '785.0'], ['20.0', '120.0', '193.0', '510.0', '618.0'], ['134.0', '151.0'], ['390.0'], ['1433.0'], ['1435.0'], ['865.0', '1074.0', '1435.0'], ['215.0'], ['390.0'], ['1317.0', '1429.0'], ['1435.0'], ['1186.0'], ['34.0', '230.0'], ['1156.0', '1158.0', '1247.0', '1402.0'], ['1435.0'], ['151.0'], ['675.0', '1435.0'], ['34.0', '76.0', '162.0', '184.0', '336.0', '607.0', '833.0', '1014.0', '1024.0', '1047.0', '1176.0', '1324.0'], ['111.0', '124.0', '250.0', '390.0', '473.0'], ['959.0', '1051.0', '1057.0', '1175.0', '1289.0', '1298.0', '1435.0'], ['390.0'], ['39.0', '51.0', '151.0', '205.0', '210.0', '237.0', '721.0', '812.0', '1170.0', '1171.0'], ['20.0', '221.0', '284.0', '379.0', '485.0', '563.0', '600.0', '844.0', '1160.0', '1172.0', '1305.0', '1330.0'], ['266.0', '1398.0'], ['151.0'], ['260.0', '1059.0'], ['1431.0'], ['213.0', '491.0', '1097.0', '1141.0', '1257.0', '1364.0'], ['138.0', '1014.0', '1165.0', '1185.0'], ['191.0', '495.0', '732.0', '793.0', '930.0', '981.0', '1271.0', '1279.0'], ['1435.0'], ['1051.0', '1160.0', '1170.0'], ['109.0', '316.0', '382.0', '785.0', '862.0', '910.0', '1416.0'], ['151.0'], ['64.0', '151.0', '795.0'], ['151.0'], ['1052.0'], ['68.0', '108.0', '146.0', '864.0', '887.0', '1016.0', '1429.0'], ['98.0'], ['390.0'], ['390.0', '684.0', '1161.0', '1332.0'], ['39.0', '57.0', '130.0', '237.0', '254.0', '381.0', '825.0', '903.0', '911.0', '1286.0'], ['108.0', '162.0', '622.0', '684.0', '981.0', '1030.0', '1163.0', '1437.0'], ['152.0', '1056.0'], ['162.0', '645.0', '821.0', '962.0', '1184.0', '1364.0'], ['152.0'], ['34.0', '162.0', '223.0', '732.0', '1170.0'], ['221.0', '390.0', '480.0', '761.0', '939.0'], ['390.0'], ['390.0'], ['390.0', '1043.0'], ['12.0', '145.0', '616.0', '617.0', '821.0', '1025.0', '1170.0', '1337.0'], ['390.0'], ['142.0', '1125.0', '1157.0', '1282.0', '1324.0', '1394.0', '1416.0'], ['153.0', '295.0', '1169.0', '1338.0'], ['111.0', '254.0', '390.0', '782.0', '896.0', '1299.0'], ['390.0'], ['1299.0', '1430.0'], ['1314.0', '1330.0'], ['225.0', '1394.0'], ['50.0', '353.0', '486.0', '1163.0', '1336.0'], ['1271.0'], ['254.0', '390.0'], ['151.0', '600.0', '1016.0'], ['390.0'], ['390.0'], ['254.0', '390.0'], ['1186.0'], ['96.0', '101.0', '124.0', '329.0', '542.0', '695.0', '768.0', '795.0', '905.0', '990.0', '1048.0', '1161.0', '1162.0', '1178.0', '1251.0'], ['80.0', '113.0', '124.0', '316.0', '409.0', '1044.0', '1427.0'], ['1359.0', '1427.0'], ['390.0', '1298.0'], ['30.0', '1278.0'], ['1304.0'], ['50.0', '78.0', '109.0', '124.0', '125.0', '202.0', '210.0', '236.0', '330.0', '600.0', '682.0', '730.0', '975.0', '1025.0', '1160.0', '1286.0', '1330.0', '1391.0', '1424.0'], ['390.0'], ['390.0', '1409.0', '1422.0'], ['362.0', '1398.0'], ['390.0'], ['1330.0', '1364.0'], ['297.0', '1160.0', '1349.0'], ['1165.0', '1169.0', '1368.0', '1411.0'], ['390.0'], ['390.0', '1424.0'], ['681.0', '1161.0', '1330.0', '1331.0', '1430.0'], ['16.0', '116.0', '158.0', '241.0', '283.0', '593.0', '844.0', '1017.0', '1166.0', '1420.0'], ['115.0', '273.0', '833.0', '1354.0', '1393.0'], ['53.0', '495.0', '1271.0'], ['26.0', '59.0', '124.0', '164.0', '329.0', '462.0', '723.0', '749.0', '871.0', '1294.0'], ['887.0', '1431.0'], ['53.0', '411.0', '948.0', '959.0', '1055.0', '1184.0', '1271.0', '1305.0', '1324.0', '1434.0'], ['1186.0'], ['1431.0'], ['532.0', '910.0', '1160.0'], ['225.0'], ['1330.0', '1431.0'], ['346.0', '566.0', '669.0', '939.0', '1278.0'], ['131.0', '202.0', '911.0', '981.0', '1430.0', '1437.0'], ['132.0', '404.0', '1169.0', '1320.0', '1336.0'], ['1054.0'], ['107.0', '125.0', '1017.0', '1028.0'], ['404.0', '693.0', '880.0', '1042.0', '1328.0'], ['210.0', '237.0', '744.0', '1304.0'], ['236.0', '1162.0'], ['1271.0'], ['232.0', '427.0', '479.0', '1025.0', '1271.0'], ['1429.0'], ['880.0', '1368.0'], ['151.0'], ['14.0', '68.0'], ['43.0', '250.0', '494.0', '566.0', '669.0', '1160.0'], ['250.0', '1435.0'], ['495.0', '1170.0', '1313.0', '1368.0', '1396.0', '1411.0'], ['390.0', '669.0'], ['92.0', '532.0', '1436.0'], ['30.0', '115.0', '151.0', '448.0', '730.0', '795.0'], ['205.0', '409.0', '1047.0', '1430.0'], ['43.0', '241.0', '310.0', '1047.0', '1393.0'], ['68.0', '952.0', '1433.0'], ['437.0', '521.0', '720.0', '764.0', '955.0', '1053.0', '1356.0', '1396.0', '1418.0'], ['1314.0'], ['260.0', '268.0', '951.0', '1016.0', '1360.0'], ['1398.0'], ['116.0', '189.0', '1163.0', '1330.0'], ['1330.0', '1336.0', '1368.0', '1397.0'], ['80.0', '113.0', '124.0', '316.0', '409.0', '1427.0'], ['600.0', '910.0', '1042.0', '1423.0'], ['1400.0'], ['215.0', '1408.0'], ['221.0', '379.0', '911.0', '1171.0', '1431.0', '1434.0'], ['298.0', '1398.0'], ['1364.0'], ['210.0', '1181.0', '1330.0'], ['1314.0', '1396.0'], ['880.0', '1328.0'], ['729.0'], ['681.0', '943.0', '996.0', '1324.0', '1430.0'], ['1324.0', '1330.0', '1368.0'], ['1429.0'], ['20.0', '43.0', '120.0', '932.0', '1014.0'], ['109.0', '113.0', '193.0', '975.0', '1160.0'], ['653.0', '1328.0'], ['188.0', '359.0', '1143.0', '1305.0', '1317.0', '1336.0', '1343.0', '1428.0'], ['18.0', '645.0', '957.0'], ['634.0', '981.0', '1271.0'], ['98.0'], ['1348.0', '1364.0'], ['12.0'], ['65.0', '1052.0'], ['53.0', '98.0', '880.0', '1047.0', '1437.0'], ['122.0', '415.0', '559.0', '812.0', '1166.0', '1398.0'], ['230.0'], ['8.0', '462.0', '682.0', '766.0', '990.0'], ['20.0', '1014.0', '1271.0'], ['1398.0'], ['116.0', '224.0', '593.0', '865.0', '1170.0', '1172.0', '1330.0', '1429.0'], ['1338.0'], ['1351.0'], ['1431.0'], ['20.0', '116.0', '680.0', '684.0', '868.0', '962.0', '1054.0'], ['390.0'], ['16.0', '151.0', '1330.0'], ['230.0'], ['125.0', '1166.0', '1351.0'], ['1429.0'], ['390.0', '480.0', '658.0', '761.0', '782.0', '939.0'], ['910.0', '997.0', '1278.0', '1336.0'], ['4.0', '1145.0', '1431.0'], ['723.0', '1165.0'], ['260.0', '951.0', '1360.0'], ['427.0', '600.0', '682.0', '1186.0', '1330.0'], ['250.0', '316.0', '390.0', '444.0', '482.0', '959.0', '1290.0'], ['865.0', '1172.0', '1198.0', '1257.0', '1289.0', '1305.0', '1314.0', '1442.0'], ['8.0', '843.0', '1271.0'], ['844.0', '1053.0'], ['1368.0'], ['363.0', '390.0', '1336.0', '1437.0'], ['1436.0'], ['40.0'], ['111.0', '270.0', '390.0', '782.0', '896.0'], ['14.0', '124.0', '239.0', '362.0', '977.0'], ['732.0', '1427.0'], ['681.0', '732.0', '1368.0'], ['33.0', '43.0', '98.0', '110.0', '131.0'], ['26.0', '53.0', '470.0', '1274.0', '1314.0', '1330.0'], ['880.0', '1053.0'], ['116.0', '232.0', '268.0', '525.0', '684.0', '962.0', '1431.0'], ['299.0', '1276.0', '1437.0'], ['641.0', '1363.0', '1398.0'], ['732.0', '1427.0'], ['18.0', '43.0', '109.0', '151.0', '164.0', '224.0', '465.0', '559.0'], ['1364.0', '1396.0'], ['1276.0'], ['151.0', '415.0', '809.0', '1407.0'], ['482.0', '1386.0'], ['34.0', '116.0', '542.0', '559.0', '673.0', '891.0', '968.0', '1025.0', '1164.0', '1172.0', '1180.0', '1400.0'], ['189.0', '681.0', '1161.0', '1330.0', '1331.0', '1430.0'], ['295.0', '1330.0', '1398.0'], ['224.0', '1061.0', '1080.0', '1296.0', '1434.0'], ['297.0', '878.0', '1431.0'], ['98.0'], ['1271.0'], ['732.0', '1427.0'], ['266.0', '1183.0', '1431.0'], ['1296.0'], ['373.0', '682.0', '1162.0'], ['81.0', '107.0', '110.0', '288.0', '542.0', '659.0', '778.0', '793.0', '1165.0', '1296.0'], ['20.0', '1054.0'], ['1427.0'], ['58.0', '1368.0'], ['415.0', '1017.0', '1184.0', '1432.0'], ['57.0', '362.0', '390.0', '495.0', '670.0', '732.0', '793.0', '880.0', '981.0', '1025.0', '1289.0', '1402.0'], ['1427.0'], ['1338.0'], ['101.0', '723.0', '833.0'], ['108.0', '1017.0', '1164.0'], ['1368.0'], ['1429.0'], ['74.0'], ['14.0', '250.0', '943.0'], ['732.0', '1330.0', '1398.0'], ['1368.0'], ['120.0'], ['316.0', '508.0', '542.0', '958.0', '1271.0'], ['1314.0'], ['491.0', '645.0', '1065.0', '1097.0', '1141.0', '1257.0', '1364.0'], ['727.0', '1314.0'], ['223.0'], ['681.0', '892.0', '1160.0', '1418.0'], ['1016.0', '1054.0'], ['151.0'], ['92.0', '315.0', '813.0', '887.0', '898.0', '943.0', '1162.0'], ['4.0', '1271.0'], ['1276.0'], ['74.0', '510.0', '609.0', '887.0'], ['28.0', '1055.0', '1170.0', '1171.0', '1172.0', '1314.0', '1415.0', '1416.0'], ['43.0', '260.0', '958.0', '1051.0', '1304.0', '1393.0'], ['68.0', '1296.0'], ['120.0'], ['89.0', '164.0', '1054.0'], ['59.0', '868.0', '1174.0'], ['59.0', '314.0', '448.0'], ['34.0', '347.0', '871.0', '887.0', '1160.0'], ['1366.0'], ['1271.0'], ['116.0', '353.0', '645.0', '1054.0', '1056.0', '1363.0'], ['43.0', '336.0', '1286.0', '1324.0', '1330.0', '1351.0'], ['143.0', '151.0', '189.0', '191.0', '236.0', '239.0', '369.0', '464.0', '508.0', '542.0', '593.0', '600.0', '764.0', '795.0', '812.0', '1028.0', '1050.0', '1336.0'], ['153.0', '1427.0'], ['117.0', '1052.0'], ['107.0', '110.0', '288.0', '508.0', '542.0', '659.0', '778.0', '793.0', '795.0', '1165.0', '1296.0'], ['821.0', '1052.0'], ['33.0', '51.0', '122.0', '263.0', '355.0', '409.0', '426.0', '693.0', '764.0', '821.0', '910.0', '930.0', '957.0', '958.0'], ['36.0', '1185.0'], ['1328.0'], ['43.0', '273.0', '559.0', '1055.0', '1164.0', '1170.0', '1171.0', '1172.0', '1336.0', '1398.0'], ['151.0', '291.0', '1047.0', '1048.0'], ['102.0', '221.0', '460.0', '495.0', '1138.0', '1320.0'], ['705.0', '732.0', '813.0', '958.0', '1298.0', '1320.0'], ['1357.0'], ['1170.0', '1364.0', '1432.0'], ['142.0', '475.0', '981.0'], ['600.0', '692.0', '735.0', '865.0', '1330.0', '1360.0'], ['14.0', '369.0'], ['51.0', '390.0'], ['1052.0', '1183.0'], ['194.0', '1354.0'], ['108.0', '162.0', '224.0', '1054.0', '1165.0', '1397.0'], ['880.0', '1328.0'], ['173.0', '359.0', '379.0', '898.0', '1338.0', '1422.0', '1437.0'], ['949.0', '1351.0', '1432.0'], ['310.0', '1437.0'], ['74.0'], ['1430.0'], ['101.0', '142.0', '1330.0', '1433.0'], ['609.0', '1291.0', '1351.0'], ['120.0', '784.0'], ['193.0', '390.0', '465.0', '641.0'], ['8.0', '98.0', '122.0', '440.0', '600.0'], ['310.0'], ['1304.0', '1403.0'], ['143.0', '223.0', '1008.0'], ['730.0', '1059.0', '1426.0'], ['173.0', '880.0', '1357.0', '1396.0', '1404.0', '1437.0'], ['143.0', '626.0', '1180.0', '1427.0'], ['437.0', '521.0', '720.0', '764.0', '955.0', '1053.0', '1313.0', '1356.0', '1396.0', '1418.0'], ['14.0'], ['310.0'], ['952.0', '1296.0'], ['191.0', '260.0', '415.0', '566.0', '659.0', '1165.0', '1364.0'], ['1271.0', '1321.0', '1329.0'], ['51.0', '241.0', '1429.0'], ['880.0', '1271.0'], ['1185.0'], ['1436.0'], ['0.0', '930.0', '1314.0'], ['151.0', '759.0', '1170.0'], ['232.0', '1174.0', '1324.0'], ['1436.0'], ['195.0', '336.0', '1296.0'], ['634.0', '1052.0'], ['1427.0'], ['224.0', '1435.0'], ['191.0', '1400.0'], ['727.0', '1429.0'], ['1368.0'], ['50.0', '101.0', '1429.0'], ['735.0', '865.0', '1057.0', '1059.0'], ['962.0', '965.0', '1160.0'], ['65.0', '600.0', '1052.0', '1187.0'], ['20.0', '116.0', '158.0', '1162.0'], ['310.0', '362.0', '460.0', '878.0'], ['43.0', '367.0', '510.0', '1014.0', '1271.0'], ['20.0', '193.0', '1024.0', '1398.0'], ['12.0'], ['101.0', '339.0', '1058.0', '1271.0'], ['60.0', '878.0', '1174.0'], ['57.0', '101.0', '120.0', '124.0', '193.0', '260.0', '600.0', '788.0', '965.0'], ['14.0', '1330.0'], ['124.0', '369.0', '1017.0'], ['1170.0', '1405.0', '1427.0'], ['1052.0'], ['20.0', '107.0', '116.0', '1014.0', '1047.0', '1048.0', '1354.0', '1437.0'], ['760.0', '1152.0'], ['843.0', '880.0', '1271.0'], ['173.0', '1338.0'], ['30.0', '962.0', '1305.0', '1343.0'], ['254.0', '681.0', '943.0', '1430.0'], ['43.0', '1128.0', '1234.0', '1398.0'], ['858.0', '1293.0'], ['78.0', '260.0', '600.0', '795.0', '825.0'], ['1431.0'], ['1320.0'], ['1400.0', '1412.0'], ['162.0', '202.0', '382.0', '460.0', '641.0', '936.0', '1024.0', '1047.0', '1048.0'], ['54.0', '195.0', '440.0', '600.0', '744.0', '766.0', '795.0'], ['1052.0'], ['1168.0'], ['230.0'], ['223.0'], ['256.0', '1163.0'], ['1271.0'], ['1351.0'], ['120.0'], ['390.0', '684.0', '1161.0', '1332.0'], ['1320.0'], ['244.0', '310.0', '1332.0'], ['981.0', '1048.0', '1160.0', '1170.0', '1171.0', '1172.0'], ['12.0'], ['20.0', '162.0', '607.0', '1436.0'], ['109.0', '124.0', '194.0', '213.0', '1393.0', '1431.0'], ['1271.0'], ['20.0', '62.0', '162.0', '224.0', '268.0', '415.0', '647.0', '846.0', '961.0', '965.0', '1016.0', '1174.0', '1393.0'], ['193.0', '221.0', '1017.0', '1028.0'], ['162.0', '853.0', '1429.0'], ['1400.0'], ['100.0', '1183.0', '1185.0'], ['34.0', '468.0', '1423.0'], ['132.0', '1368.0'], ['98.0', '682.0', '1407.0'], ['87.0', '1435.0'], ['1396.0', '1423.0'], ['316.0', '359.0', '641.0', '1276.0'], ['124.0', '1314.0'], ['57.0', '641.0', '1386.0'], ['1409.0', '1427.0'], ['230.0'], ['53.0', '880.0', '1047.0', '1271.0', '1437.0'], ['53.0', '232.0', '495.0', '732.0', '793.0', '930.0', '981.0', '1271.0', '1279.0'], ['120.0'], ['1436.0'], ['202.0', '237.0', '1162.0', '1172.0'], ['14.0', '103.0', '409.0', '681.0', '933.0', '1391.0', '1393.0'], ['1343.0'], ['223.0'], ['12.0'], ['12.0', '53.0', '373.0', '732.0', '943.0', '1042.0', '1058.0'], ['78.0', '244.0', '1394.0', '1398.0'], ['25.0', '124.0', '151.0'], ['1427.0'], ['1160.0', '1432.0'], ['110.0', '283.0', '617.0', '681.0', '1436.0'], ['626.0', '1052.0'], ['230.0'], ['102.0', '311.0', '880.0', '1181.0', '1405.0', '1418.0'], ['495.0', '732.0', '761.0', '1314.0'], ['34.0', '1338.0'], ['53.0', '974.0', '1171.0', '1398.0'], ['51.0', '1386.0'], ['645.0', '681.0', '996.0', '1175.0', '1185.0'], ['215.0'], ['1185.0', '1189.0'], ['1274.0', '1280.0', '1320.0'], ['232.0', '981.0', '1052.0', '1172.0'], ['130.0', '223.0'], ['14.0'], ['1324.0', '1332.0', '1400.0'], ['20.0', '230.0'], ['278.0', '1430.0'], ['124.0', '1181.0', '1410.0'], ['1160.0'], ['15.0', '1017.0'], ['225.0', '547.0'], ['78.0', '1274.0', '1314.0'], ['20.0', '124.0', '164.0', '252.0', '260.0', '525.0', '542.0', '593.0', '673.0', '1025.0', '1351.0'], ['20.0', '409.0', '865.0', '1042.0', '1314.0'], ['1176.0'], ['1271.0'], ['732.0', '939.0', '1163.0'], ['25.0', '1330.0', '1411.0', '1430.0'], ['1271.0'], ['1320.0'], ['379.0', '898.0', '1338.0', '1422.0', '1437.0'], ['74.0'], ['39.0', '162.0', '232.0', '346.0', '1271.0', '1332.0'], ['651.0', '1368.0'], ['151.0', '973.0'], ['151.0', '542.0'], ['40.0'], ['184.0', '1025.0', '1054.0', '1393.0', '1394.0'], ['80.0', '173.0', '250.0', '721.0', '812.0', '967.0', '1017.0'], ['53.0', '310.0', '460.0'], ['1338.0'], ['1400.0'], ['485.0', '1296.0'], ['40.0', '43.0', '51.0', '109.0', '1048.0'], ['446.0', '669.0', '1271.0'], ['1400.0'], ['111.0', '788.0', '1276.0'], ['1271.0'], ['116.0', '232.0', '268.0', '525.0', '684.0', '1431.0'], ['102.0', '962.0', '1430.0'], ['189.0', '297.0', '766.0', '1324.0'], ['1271.0', '1330.0'], ['880.0', '1160.0', '1313.0', '1394.0', '1396.0', '1403.0', '1405.0'], ['92.0', '880.0', '1160.0', '1313.0', '1394.0', '1396.0', '1403.0', '1405.0'], ['152.0', '618.0'], ['236.0', '315.0', '641.0', '813.0', '864.0', '1044.0', '1162.0', '1321.0'], ['8.0', '43.0', '109.0', '455.0', '524.0', '559.0', '812.0', '1427.0'], ['39.0', '1314.0', '1432.0'], ['1364.0', '1426.0'], ['101.0', '1183.0', '1330.0', '1433.0'], ['495.0', '1351.0'], ['1277.0', '1427.0'], ['20.0', '130.0', '194.0', '1423.0'], ['98.0', '1142.0', '1165.0'], ['108.0', '162.0', '622.0', '684.0', '981.0', '1030.0', '1163.0', '1437.0'], ['1431.0'], ['1391.0', '1398.0'], ['1431.0'], ['64.0', '254.0', '353.0', '390.0', '865.0'], ['234.0', '1398.0', '1416.0'], ['111.0', '348.0', '390.0'], ['766.0'], ['1354.0'], ['329.0', '878.0', '1174.0'], ['124.0', '151.0', '237.0', '369.0', '464.0', '477.0', '1030.0'], ['1051.0', '1354.0', '1421.0'], ['298.0', '1329.0', '1394.0', '1398.0'], ['788.0', '878.0', '1423.0'], ['221.0', '1186.0'], ['74.0', '622.0', '843.0'], ['1343.0'], ['1053.0'], ['237.0', '705.0', '1429.0'], ['315.0', '865.0', '1163.0'], ['631.0', '1160.0', '1330.0'], ['1198.0', '1282.0'], ['1185.0'], ['1314.0'], ['98.0', '1142.0', '1165.0', '1169.0', '1170.0'], ['225.0'], ['120.0', '607.0', '858.0'], ['1368.0'], ['43.0', '1155.0', '1267.0', '1305.0', '1398.0', '1403.0', '1405.0', '1407.0', '1408.0', '1411.0'], ['215.0'], ['833.0', '1174.0'], ['1431.0'], ['124.0', '658.0', '1185.0'], ['151.0', '761.0'], ['1351.0'], ['109.0', '151.0', '1172.0'], ['39.0', '162.0', '665.0', '784.0'], ['43.0', '1047.0', '1364.0', '1391.0'], ['1360.0', '1403.0'], ['865.0', '1368.0'], ['865.0', '1368.0'], ['337.0', '1162.0', '1424.0'], ['162.0', '224.0', '692.0', '1054.0', '1165.0', '1172.0', '1397.0'], ['315.0', '316.0', '382.0', '659.0', '981.0'], ['239.0', '1330.0', '1400.0', '1403.0'], ['89.0', '1429.0'], ['1170.0', '1398.0'], ['1338.0'], ['542.0', '1429.0'], ['1368.0'], ['33.0', '151.0', '283.0', '422.0', '464.0', '600.0', '725.0', '821.0', '882.0', '1044.0', '1232.0', '1336.0'], ['103.0', '124.0', '1364.0'], ['195.0', '508.0', '600.0', '668.0', '680.0', '684.0', '788.0', '821.0', '962.0', '1276.0', '1393.0'], ['1398.0'], ['310.0'], ['43.0', '1364.0'], ['1400.0', '1432.0'], ['108.0', '1351.0'], ['1169.0', '1176.0', '1279.0'], ['1293.0'], ['193.0', '390.0'], ['195.0', '1185.0', '1330.0'], ['898.0', '1338.0'], ['485.0', '952.0', '1183.0', '1433.0'], ['26.0', '98.0', '125.0', '260.0', '313.0', '607.0', '788.0'], ['369.0', '525.0', '1160.0', '1165.0', '1330.0'], ['107.0', '125.0', '241.0', '795.0', '1017.0', '1028.0'], ['1314.0'], ['151.0'], ['74.0', '124.0'], ['1429.0'], ['1185.0'], ['254.0', '1336.0', '1427.0'], ['348.0', '1436.0'], ['1436.0'], ['1423.0'], ['1025.0', '1314.0'], ['1018.0', '1354.0'], ['1364.0'], ['1330.0', '1429.0', '1432.0'], ['1364.0'], ['1364.0'], ['112.0', '723.0', '844.0', '1165.0'], ['1354.0', '1416.0'], ['865.0', '1330.0', '1368.0'], ['53.0', '465.0', '1368.0'], ['132.0', '655.0', '1053.0', '1330.0'], ['12.0', '57.0', '108.0', '116.0', '202.0', '239.0', '315.0', '316.0', '329.0', '411.0', '415.0', '444.0', '462.0', '464.0', '485.0', '641.0', '680.0', '749.0', '761.0', '865.0', '943.0', '1044.0'], ['1024.0', '1423.0'], ['109.0', '482.0', '542.0', '1170.0', '1171.0', '1364.0', '1395.0'], ['1057.0', '1330.0', '1336.0', '1368.0', '1397.0', '1420.0'], ['273.0', '833.0', '1354.0', '1393.0'], ['766.0'], ['15.0', '26.0', '337.0', '720.0', '1165.0', '1176.0'], ['254.0', '369.0', '525.0', '1160.0', '1165.0', '1330.0'], ['1332.0', '1338.0'], ['109.0', '1391.0', '1398.0'], ['1274.0', '1314.0', '1426.0'], ['124.0', '299.0', '1431.0'], ['1053.0'], ['230.0'], ['138.0', '390.0', '1055.0'], ['1368.0'], ['215.0'], ['1059.0', '1061.0'], ['788.0', '969.0'], ['101.0', '723.0', '833.0', '1330.0'], ['310.0', '939.0'], ['1338.0'], ['297.0', '1017.0'], ['1174.0'], ['76.0', '1174.0'], ['138.0', '164.0', '1160.0'], ['1398.0'], ['593.0', '1016.0', '1351.0'], ['221.0', '1368.0'], ['1354.0'], ['151.0'], ['184.0', '939.0', '1276.0'], ['136.0', '390.0'], ['20.0', '98.0', '124.0', '162.0', '194.0', '260.0', '1394.0'], ['142.0', '1160.0'], ['268.0', '729.0'], ['138.0', '975.0', '1053.0', '1165.0'], ['1160.0'], ['57.0', '153.0', '975.0', '1354.0'], ['109.0', '1398.0'], ['14.0', '250.0', '735.0', '943.0'], ['57.0', '124.0', '284.0', '1017.0', '1047.0', '1336.0'], ['336.0', '1398.0'], ['1017.0'], ['1338.0'], ['1053.0'], ['440.0', '1430.0'], ['1368.0'], ['723.0'], ['1053.0'], ['54.0', '237.0', '260.0', '349.0', '547.0', '744.0', '812.0', '1004.0'], ['1423.0'], ['1185.0', '1394.0'], ['723.0', '812.0'], ['18.0', '1330.0', '1364.0'], ['98.0'], ['108.0', '152.0'], ['729.0', '1393.0'], ['1398.0'], ['116.0', '151.0', '153.0', '508.0', '681.0', '722.0', '1024.0', '1025.0', '1047.0'], ['1431.0'], ['12.0', '1409.0'], ['236.0', '250.0', '669.0', '939.0', '952.0', '1166.0', '1183.0', '1278.0'], ['1162.0'], ['43.0', '162.0', '729.0'], ['959.0', '1271.0'], ['1024.0', '1059.0', '1061.0', '1065.0', '1068.0', '1071.0', '1074.0', '1077.0', '1080.0', '1083.0', '1143.0', '1155.0', '1305.0'], ['1282.0'], ['152.0'], ['729.0'], ['1354.0'], ['131.0', '260.0', '547.0', '969.0'], ['1398.0', '1432.0'], ['1398.0'], ['40.0', '681.0', '730.0', '910.0', '993.0', '1166.0', '1170.0'], ['278.0', '729.0'], ['673.0', '1186.0'], ['1186.0'], ['138.0', '221.0', '1014.0', '1185.0'], ['1343.0'], ['1436.0'], ['205.0', '1157.0', '1164.0', '1364.0'], ['1164.0', '1282.0'], ['1304.0'], ['1166.0', '1398.0'], ['1314.0'], ['1296.0'], ['50.0', '111.0', '260.0', '316.0', '381.0', '382.0', '415.0', '485.0', '681.0', '943.0', '996.0', '1432.0'], ['1138.0', '1174.0'], ['329.0', '833.0', '878.0', '1431.0'], ['729.0', '1393.0'], ['1296.0'], ['151.0', '260.0', '795.0'], ['151.0', '250.0', '669.0', '1170.0', '1332.0'], ['43.0', '1429.0'], ['1053.0'], ['151.0'], ['1166.0', '1336.0', '1431.0', '1432.0'], ['1354.0'], ['464.0', '1160.0'], ['670.0', '1398.0'], ['1025.0', '1354.0'], ['151.0', '647.0'], ['224.0', '1278.0'], ['1282.0', '1416.0'], ['1435.0'], ['50.0', '316.0', '381.0', '382.0', '415.0', '485.0', '681.0', '943.0', '996.0', '1432.0'], ['1014.0', '1017.0'], ['33.0', '51.0', '122.0', '263.0', '355.0', '409.0', '426.0', '693.0', '764.0', '821.0', '910.0', '930.0', '957.0', '958.0', '1050.0'], ['1351.0'], ['1354.0'], ['1436.0'], ['20.0', '732.0', '1054.0'], ['18.0', '316.0', '1163.0'], ['1053.0'], ['1364.0'], ['57.0', '124.0', '260.0', '462.0', '600.0', '1044.0', '1282.0', '1305.0', '1428.0', '1432.0'], ['314.0', '1016.0'], ['151.0'], ['1162.0'], ['1170.0', '1171.0', '1172.0', '1398.0'], ['138.0', '1165.0', '1174.0'], ['53.0', '125.0', '1271.0'], ['310.0', '609.0'], ['108.0', '1296.0', '1330.0'], ['43.0', '486.0', '1017.0', '1140.0', '1155.0', '1170.0'], ['390.0', '967.0', '1060.0'], ['51.0', '120.0', '130.0', '260.0', '366.0', '369.0', '486.0', '812.0'], ['273.0', '825.0'], ['48.0', '399.0', '462.0', '962.0', '1351.0'], ['1394.0', '1436.0'], ['1176.0'], ['26.0', '124.0', '260.0', '600.0', '1053.0'], ['241.0', '1171.0', '1431.0'], ['1293.0'], ['1014.0', '1343.0'], ['20.0', '1293.0'], ['36.0', '795.0', '951.0', '957.0', '965.0'], ['1368.0'], ['1047.0', '1436.0'], ['138.0', '1160.0'], ['26.0', '98.0'], ['809.0', '1054.0'], ['110.0', '1354.0'], ['957.0'], ['124.0', '221.0', '379.0', '911.0', '1171.0', '1431.0', '1434.0'], ['151.0'], ['1429.0'], ['76.0', '221.0', '1354.0'], ['244.0', '329.0', '1053.0'], ['1282.0'], ['1163.0'], ['766.0'], ['1436.0'], ['1296.0'], ['1364.0'], ['996.0', '1293.0', '1432.0'], ['81.0', '641.0', '939.0', '1276.0'], ['1282.0'], ['26.0', '1017.0'], ['1431.0'], ['379.0', '957.0'], ['14.0'], ['1304.0'], ['1404.0', '1430.0'], ['151.0', '1050.0'], ['1368.0'], ['16.0', '108.0', '116.0', '158.0', '241.0', '283.0', '593.0', '844.0', '1017.0', '1044.0', '1166.0', '1420.0'], ['51.0', '74.0', '959.0', '975.0', '1437.0'], ['64.0', '1016.0', '1054.0', '1424.0'], ['205.0', '409.0', '440.0', '1047.0', '1166.0', '1430.0'], ['16.0', '43.0', '51.0', '241.0', '1429.0'], ['193.0', '730.0', '1059.0', '1324.0', '1426.0'], ['1017.0'], ['14.0', '162.0', '379.0', '1025.0', '1047.0'], ['1398.0'], ['151.0'], ['1170.0', '1429.0'], ['78.0', '1305.0', '1331.0', '1354.0'], ['39.0', '260.0', '1048.0', '1314.0', '1432.0'], ['1162.0'], ['26.0', '1276.0', '1305.0'], ['232.0', '1163.0'], ['390.0', '482.0'], ['1429.0'], ['1163.0', '1330.0'], ['32.0', '64.0', '251.0', '314.0', '409.0'], ['1304.0', '1305.0'], ['1044.0', '1293.0'], ['1180.0', '1320.0'], ['20.0', '116.0', '138.0', '680.0', '684.0', '692.0', '868.0', '962.0', '1054.0'], ['213.0', '1113.0', '1293.0'], ['273.0', '495.0', '1170.0', '1313.0', '1368.0', '1411.0'], ['57.0', '1304.0'], ['735.0', '865.0', '1057.0', '1059.0', '1157.0', '1324.0'], ['898.0', '1185.0'], ['39.0', '415.0', '730.0', '1060.0', '1304.0', '1305.0', '1330.0', '1391.0', '1424.0'], ['1368.0'], ['124.0', '369.0', '1017.0'], ['684.0', '821.0', '1398.0'], ['1160.0'], ['1253.0', '1304.0'], ['68.0', '96.0', '124.0', '329.0', '542.0', '695.0', '768.0', '795.0', '905.0', '981.0', '990.0', '1048.0', '1161.0', '1162.0', '1178.0', '1251.0'], ['379.0', '1364.0'], ['43.0', '486.0', '681.0', '1017.0', '1025.0', '1140.0', '1155.0', '1170.0'], ['1057.0', '1282.0', '1416.0'], ['20.0', '124.0', '164.0', '260.0', '525.0', '542.0', '593.0', '600.0', '673.0', '764.0', '1025.0', '1351.0'], ['1165.0', '1371.0', '1372.0', '1393.0', '1394.0', '1430.0'], ['1282.0'], ['50.0', '353.0', '486.0', '1163.0', '1170.0', '1336.0'], ['164.0', '194.0', '1018.0', '1054.0'], ['43.0', '57.0', '116.0', '164.0', '194.0', '1170.0', '1354.0'], ['1048.0', '1053.0'], ['1296.0'], ['1343.0'], ['362.0', '479.0', '861.0', '903.0', '1367.0', '1418.0', '1430.0'], ['260.0', '600.0', '692.0', '735.0', '865.0', '1330.0', '1360.0'], ['336.0', '1014.0', '1304.0'], ['20.0', '78.0', '1025.0', '1050.0', '1393.0', '1398.0', '1416.0'], ['969.0'], ['12.0', '103.0', '116.0', '138.0', '224.0', '369.0', '645.0', '684.0', '692.0', '941.0', '962.0', '986.0', '1050.0'], ['241.0', '1165.0', '1336.0', '1436.0'], ['224.0', '1320.0'], ['1160.0'], ['1314.0', '1336.0'], ['1429.0', '1432.0'], ['18.0', '33.0', '645.0', '957.0', '962.0'], ['8.0', '260.0', '482.0', '641.0', '958.0', '1277.0', '1324.0', '1330.0', '1429.0'], ['1314.0'], ['51.0', '78.0', '566.0', '1047.0', '1293.0'], ['1330.0', '1398.0'], ['57.0', '191.0', '194.0', '1014.0', '1025.0', '1354.0', '1394.0'], ['26.0', '124.0', '131.0', '260.0', '600.0', '812.0', '1053.0'], ['1017.0'], ['34.0', '124.0', '237.0', '415.0', '464.0', '645.0', '812.0', '878.0', '969.0', '1014.0', '1018.0'], ['162.0', '193.0', '223.0', '732.0', '1170.0', '1425.0'], ['1304.0', '1391.0', '1424.0'], ['761.0', '1186.0'], ['14.0', '492.0', '768.0', '975.0'], ['51.0', '57.0', '116.0', '975.0', '1354.0'], ['62.0', '263.0', '284.0', '600.0', '692.0', '1338.0', '1395.0'], ['1391.0', '1436.0'], ['151.0'], ['898.0', '1276.0'], ['98.0'], ['2.0', '868.0', '1165.0', '1174.0'], ['547.0', '1056.0', '1171.0', '1172.0', '1274.0', '1314.0'], ['415.0', '559.0', '812.0', '1166.0', '1170.0', '1398.0'], ['1024.0', '1368.0'], ['1338.0'], ['34.0', '833.0', '1025.0', '1351.0'], ['20.0', '116.0', '158.0', '239.0', '1018.0', '1162.0'], ['101.0', '120.0', '162.0', '193.0', '1025.0'], ['1314.0'], ['151.0', '795.0'], ['194.0', '491.0', '681.0', '969.0'], ['151.0', '600.0', '760.0'], ['184.0', '1025.0', '1054.0', '1393.0', '1394.0'], ['2.0', '844.0', '1053.0', '1420.0'], ['162.0', '193.0', '390.0', '465.0', '641.0', '959.0'], ['39.0', '51.0', '151.0', '205.0', '210.0', '237.0', '477.0', '721.0', '812.0', '1024.0', '1170.0', '1171.0'], ['51.0', '1436.0'], ['547.0', '1314.0', '1324.0'], ['16.0', '234.0', '348.0', '1330.0', '1429.0'], ['8.0', '237.0', '462.0', '682.0', '766.0', '812.0', '990.0'], ['1176.0'], ['878.0', '1054.0'], ['189.0', '1163.0', '1232.0', '1336.0'], ['26.0', '39.0', '57.0', '130.0', '237.0', '381.0', '409.0', '825.0', '903.0', '911.0', '1286.0'], ['566.0', '943.0', '1351.0'], ['151.0', '795.0'], ['20.0', '116.0', '268.0', '542.0', '559.0', '673.0', '891.0', '968.0', '1025.0', '1164.0', '1172.0', '1180.0', '1400.0'], ['1054.0'], ['110.0', '390.0', '809.0', '833.0'], ['1423.0', '1424.0'], ['232.0', '1293.0'], ['50.0', '1008.0', '1429.0'], ['795.0', '1170.0', '1330.0', '1398.0'], ['43.0', '1391.0', '1398.0', '1416.0'], ['43.0', '482.0', '542.0', '1050.0', '1170.0', '1171.0', '1364.0', '1395.0'], ['59.0', '1427.0'], ['1293.0'], ['1430.0'], ['162.0', '205.0', '379.0', '382.0', '460.0', '641.0', '936.0', '1024.0', '1047.0', '1048.0'], ['898.0', '1338.0'], ['1054.0'], ['33.0', '1398.0'], ['221.0', '379.0', '465.0', '1296.0'], ['125.0', '329.0', '415.0', '943.0', '1059.0'], ['1185.0'], ['34.0', '1181.0'], ['1163.0', '1424.0'], ['943.0', '1053.0'], ['1059.0'], ['415.0', '1017.0'], ['64.0', '162.0', '1423.0'], ['18.0', '136.0', '195.0', '210.0', '409.0', '547.0', '569.0', '1025.0', '1053.0', '1391.0'], ['251.0', '1364.0'], ['1296.0'], ['213.0', '962.0', '1293.0'], ['39.0', '151.0'], ['1368.0'], ['230.0', '1317.0'], ['1276.0'], ['124.0', '205.0', '865.0', '996.0', '1014.0', '1017.0', '1048.0'], ['1398.0'], ['43.0', '260.0', '486.0', '844.0', '958.0', '1051.0', '1304.0', '1393.0'], ['760.0', '1152.0'], ['43.0', '51.0', '244.0', '871.0', '1051.0', '1398.0'], ['43.0', '194.0', '1354.0'], ['113.0', '250.0', '482.0', '1435.0'], ['887.0', '1330.0', '1367.0', '1431.0'], ['268.0', '315.0', '858.0', '1276.0', '1324.0'], ['448.0', '1398.0'], ['1180.0', '1296.0'], ['39.0', '131.0', '239.0', '1017.0'], ['20.0', '34.0', '485.0', '1174.0', '1393.0'], ['1176.0', '1393.0', '1432.0'], ['68.0', '111.0', '131.0', '173.0', '250.0', '302.0', '669.0', '898.0', '967.0', '1017.0', '1393.0'], ['766.0', '990.0', '1330.0'], ['68.0', '1429.0'], ['1004.0', '1138.0', '1429.0'], ['43.0', '1108.0', '1429.0'], ['1398.0', '1416.0'], ['20.0', '130.0', '194.0', '240.0', '821.0', '1423.0'], ['316.0', '382.0', '659.0', '981.0'], ['975.0', '1174.0', '1324.0'], ['1296.0'], ['1278.0', '1330.0'], ['1176.0'], ['958.0', '1366.0'], ['120.0', '1403.0'], ['240.0', '1056.0', '1343.0'], ['18.0', '43.0', '109.0', '151.0', '164.0', '241.0', '465.0', '559.0', '1336.0'], ['310.0', '1420.0'], ['20.0', '1057.0', '1398.0'], ['415.0', '1296.0', '1324.0'], ['193.0', '617.0', '1436.0'], ['18.0', '98.0', '124.0', '268.0', '725.0'], ['241.0', '1398.0'], ['871.0', '1296.0'], ['151.0', '464.0', '788.0', '795.0'], ['1354.0'], ['600.0', '673.0', '795.0', '1351.0'], ['20.0', '485.0', '1296.0', '1324.0'], ['641.0', '1299.0', '1330.0', '1363.0', '1398.0'], ['1024.0', '1314.0'], ['116.0', '151.0', '224.0', '508.0', '681.0', '722.0', '809.0', '1024.0', '1025.0', '1047.0'], ['681.0', '1166.0', '1173.0', '1225.0', '1314.0', '1416.0'], ['943.0', '1163.0'], ['16.0', '409.0', '1429.0'], ['78.0', '1354.0'], ['234.0', '1430.0'], ['116.0', '1314.0'], ['16.0', '32.0', '348.0', '1330.0', '1429.0'], ['74.0'], ['12.0', '373.0', '732.0', '943.0', '1042.0', '1058.0'], ['120.0'], ['124.0', '939.0', '1181.0', '1410.0'], ['14.0', '125.0'], ['151.0'], ['151.0', '462.0', '464.0', '812.0'], ['244.0', '382.0'], ['729.0', '1416.0'], ['125.0', '151.0', '933.0'], ['1343.0'], ['125.0', '729.0'], ['33.0', '593.0', '1014.0', '1017.0'], ['557.0', '651.0', '1160.0', '1330.0', '1391.0'], ['1351.0'], ['1162.0'], ['1436.0'], ['263.0', '607.0', '1054.0', '1055.0', '1166.0'], ['33.0', '1431.0', '1432.0'], ['34.0', '68.0', '103.0', '164.0', '336.0', '455.0', '569.0', '600.0', '673.0', '761.0', '984.0', '1014.0', '1017.0', '1279.0'], ['1024.0', '1047.0', '1427.0'], ['58.0', '463.0', '525.0', '761.0', '1054.0', '1172.0', '1391.0'], ['375.0', '600.0', '969.0', '1394.0'], ['40.0'], ['1047.0', '1430.0'], ['124.0', '125.0', '542.0', '692.0', '1398.0'], ['39.0', '645.0', '1164.0', '1165.0', '1304.0'], ['29.0', '189.0', '241.0', '253.0', '1017.0', '1025.0'], ['164.0', '315.0', '465.0', '641.0', '858.0', '1172.0', '1386.0'], ['362.0', '1141.0', '1398.0', '1426.0'], ['1174.0', '1330.0'], ['1433.0'], ['120.0'], ['415.0', '865.0', '1431.0'], ['1054.0', '1055.0'], ['124.0', '462.0', '1017.0'], ['1429.0'], ['151.0'], ['151.0', '865.0'], ['57.0', '124.0', '130.0', '284.0', '1017.0', '1047.0', '1048.0', '1336.0'], ['933.0', '1017.0', '1418.0'], ['20.0', '260.0', '1014.0', '1343.0'], ['542.0', '1276.0'], ['33.0', '415.0', '795.0', '1191.0', '1431.0'], ['1059.0', '1065.0', '1068.0', '1071.0', '1074.0', '1077.0', '1080.0', '1083.0', '1143.0', '1155.0', '1305.0'], ['491.0', '1314.0'], ['230.0'], ['32.0', '967.0', '1364.0'], ['1436.0'], ['634.0', '910.0', '949.0', '1351.0', '1432.0'], ['39.0', '210.0', '237.0', '1162.0', '1172.0', '1317.0', '1330.0'], ['132.0', '1180.0', '1296.0'], ['232.0', '1398.0'], ['244.0', '1160.0'], ['16.0', '124.0', '193.0', '1017.0', '1028.0'], ['1282.0'], ['455.0', '833.0', '1429.0'], ['559.0', '975.0', '1271.0', '1407.0', '1428.0'], ['730.0', '1314.0'], ['532.0', '896.0', '910.0', '1160.0'], ['730.0', '1274.0', '1314.0', '1432.0'], ['43.0', '559.0', '1055.0', '1164.0', '1166.0', '1170.0', '1171.0', '1172.0', '1336.0', '1398.0'], ['124.0', '692.0', '1398.0'], ['20.0', '1180.0', '1185.0', '1393.0', '1394.0', '1396.0'], ['673.0', '821.0', '959.0', '1056.0', '1271.0', '1387.0'], ['362.0', '1332.0', '1357.0', '1396.0'], ['749.0', '809.0', '939.0', '1332.0', '1430.0'], ['8.0', '43.0', '109.0', '189.0', '455.0', '524.0', '559.0', '812.0', '1028.0', '1427.0'], ['1431.0'], ['223.0'], ['1305.0', '1324.0', '1330.0', '1332.0', '1400.0'], ['1271.0', '1412.0'], ['223.0', '618.0', '732.0'], ['1276.0'], ['1271.0'], ['295.0', '981.0', '1048.0', '1160.0', '1170.0', '1171.0'], ['1174.0'], ['258.0', '973.0', '1357.0'], ['482.0', '566.0', '1052.0', '1408.0'], ['109.0', '124.0', '194.0', '213.0', '1393.0', '1431.0'], ['1357.0'], ['390.0', '669.0'], ['1305.0', '1364.0'], ['124.0', '151.0'], ['232.0', '446.0', '669.0', '782.0', '1271.0'], ['43.0', '57.0', '116.0', '164.0', '194.0', '1354.0'], ['191.0', '1158.0'], ['465.0', '965.0', '1420.0', '1436.0'], ['205.0', '600.0', '1017.0'], ['1427.0'], ['962.0', '1277.0', '1336.0', '1427.0'], ['1320.0', '1332.0'], ['1328.0'], ['981.0', '1360.0'], ['253.0', '362.0', '1160.0'], ['958.0', '1276.0'], ['223.0'], ['1271.0'], ['20.0', '967.0', '1160.0'], ['1053.0'], ['350.0', '669.0', '1386.0', '1402.0'], ['250.0', '1343.0'], ['50.0', '254.0', '415.0', '723.0', '975.0', '1170.0'], ['695.0', '1430.0'], ['1400.0'], ['1278.0'], ['1162.0'], ['1271.0'], ['669.0', '1386.0'], ['482.0', '1427.0'], ['40.0'], ['359.0', '1143.0', '1305.0', '1317.0', '1336.0', '1343.0', '1428.0'], ['64.0', '253.0', '390.0', '865.0'], ['350.0', '422.0', '1431.0'], ['1183.0', '1293.0'], ['693.0', '1364.0'], ['78.0', '260.0', '508.0', '600.0', '795.0', '825.0', '903.0'], ['78.0', '390.0', '959.0', '1299.0'], ['768.0', '1053.0'], ['422.0', '1386.0'], ['1305.0', '1364.0'], ['74.0', '959.0', '1437.0'], ['1338.0'], ['1430.0'], ['230.0'], ['1429.0'], ['681.0', '730.0', '910.0', '993.0', '1166.0', '1170.0', '1171.0', '1176.0'], ['14.0'], ['669.0', '1427.0'], ['33.0', '1276.0'], ['146.0', '1293.0', '1439.0'], ['125.0', '329.0', '415.0', '943.0', '1059.0'], ['1282.0', '1410.0'], ['116.0', '1163.0', '1170.0', '1172.0'], ['1271.0'], ['1364.0'], ['18.0', '1304.0', '1305.0'], ['1276.0'], ['673.0', '1304.0'], ['34.0', '1354.0'], ['1400.0'], ['122.0', '153.0', '1169.0', '1338.0'], ['57.0', '1293.0'], ['225.0'], ['116.0', '1164.0', '1330.0', '1364.0'], ['1314.0'], ['223.0'], ['111.0', '236.0', '1014.0', '1393.0', '1394.0', '1398.0'], ['395.0', '1160.0'], ['665.0'], ['36.0', '1427.0'], ['482.0', '1271.0'], ['1271.0'], ['1278.0'], ['151.0', '1330.0'], ['641.0', '1017.0'], ['641.0', '1435.0'], ['482.0', '525.0', '1386.0'], ['258.0', '932.0', '1386.0'], ['18.0', '241.0', '1398.0', '1424.0'], ['784.0', '1271.0'], ['1165.0', '1180.0', '1271.0', '1321.0', '1329.0'], ['1366.0'], ['295.0', '1282.0'], ['1364.0'], ['1276.0'], ['122.0', '1278.0'], ['122.0', '910.0', '1279.0', '1400.0'], ['732.0', '809.0', '1320.0', '1418.0'], ['57.0', '124.0', '415.0', '910.0', '1364.0'], ['51.0', '74.0', '833.0'], ['1008.0', '1185.0'], ['92.0', '151.0', '346.0', '525.0', '768.0'], ['241.0', '729.0'], ['116.0', '353.0', '369.0', '645.0', '1054.0', '1056.0', '1165.0', '1363.0'], ['153.0', '494.0', '1328.0'], ['33.0', '880.0', '1050.0', '1433.0'], ['43.0', '1386.0'], ['14.0'], ['122.0', '350.0', '1405.0', '1433.0'], ['1386.0'], ['1278.0'], ['975.0', '1025.0', '1354.0'], ['57.0', '399.0', '462.0', '962.0', '1055.0', '1351.0'], ['1400.0'], ['1357.0'], ['98.0'], ['20.0', '221.0', '284.0', '379.0', '485.0', '563.0', '600.0', '813.0', '844.0', '1160.0', '1172.0', '1305.0', '1330.0'], ['1276.0'], ['813.0', '1398.0'], ['224.0', '1271.0'], ['1351.0'], ['475.0', '881.0'], ['1336.0', '1427.0'], ['30.0', '115.0', '151.0', '448.0', '681.0', '730.0', '795.0', '996.0'], ['1427.0'], ['1320.0'], ['152.0'], ['641.0', '1336.0', '1386.0'], ['1386.0'], ['1271.0'], ['92.0', '120.0', '426.0', '784.0'], ['1271.0', '1336.0'], ['593.0', '1014.0', '1351.0'], ['1271.0'], ['40.0', '409.0', '864.0', '1048.0'], ['610.0', '1431.0'], ['910.0', '997.0', '1278.0', '1336.0'], ['316.0', '508.0', '525.0', '542.0', '958.0', '1271.0'], ['43.0', '109.0', '336.0', '667.0', '1286.0', '1324.0', '1330.0', '1351.0'], ['641.0', '843.0', '1433.0'], ['1271.0'], ['641.0', '681.0', '843.0', '943.0', '1431.0'], ['1433.0'], ['843.0', '952.0', '1366.0'], ['415.0', '542.0', '1185.0'], ['730.0', '1125.0', '1157.0', '1282.0', '1324.0', '1394.0', '1416.0'], ['1304.0'], ['50.0', '78.0', '184.0', '415.0', '723.0', '975.0', '1170.0'], ['1433.0'], ['1354.0'], ['221.0', '409.0', '474.0', '1364.0'], ['1430.0'], ['1271.0'], ['82.0', '153.0', '437.0', '673.0', '686.0', '1274.0', '1400.0'], ['157.0', '1366.0'], ['122.0', '151.0', '542.0', '768.0'], ['254.0', '933.0', '1435.0'], ['92.0', '715.0', '1271.0', '1336.0'], ['81.0', '122.0', '1163.0'], ['1160.0', '1336.0'], ['645.0', '1047.0', '1304.0'], ['39.0', '415.0', '730.0', '1060.0', '1304.0', '1305.0', '1330.0', '1391.0'], ['151.0', '462.0'], ['1293.0'], ['1163.0', '1336.0'], ['1052.0'], ['1368.0'], ['1054.0', '1056.0'], ['1386.0'], ['278.0', '1165.0', '1279.0', '1304.0'], ['1386.0'], ['482.0', '659.0', '665.0'], ['266.0', '1423.0'], ['311.0', '1164.0', '1181.0'], ['404.0', '1169.0', '1320.0', '1336.0'], ['821.0', '1052.0'], ['1396.0', '1400.0'], ['74.0'], ['122.0', '1185.0'], ['1296.0'], ['1271.0'], ['1180.0', '1320.0', '1402.0', '1439.0'], ['58.0', '122.0', '463.0', '525.0', '1054.0', '1172.0'], ['566.0', '928.0', '952.0', '1320.0', '1426.0'], ['54.0', '1400.0'], ['1271.0'], ['1431.0'], ['151.0'], ['26.0', '98.0', '125.0', '260.0', '313.0', '788.0'], ['865.0', '1430.0'], ['1304.0'], ['1400.0'], ['239.0', '1304.0'], ['39.0', '60.0', '346.0', '1271.0', '1332.0'], ['1271.0'], ['20.0', '400.0', '409.0', '865.0', '933.0', '1042.0', '1314.0'], ['1398.0'], ['1320.0', '1439.0'], ['723.0'], ['532.0', '1436.0'], ['15.0', '681.0', '1166.0', '1173.0', '1314.0', '1416.0'], ['1051.0', '1057.0', '1175.0', '1289.0', '1298.0', '1435.0'], ['1431.0'], ['1304.0', '1393.0'], ['12.0', '57.0', '108.0', '116.0', '202.0', '239.0', '315.0', '316.0', '329.0', '411.0', '415.0', '444.0', '462.0', '464.0', '485.0', '641.0', '680.0', '865.0', '943.0', '1044.0'], ['1017.0'], ['1271.0'], ['1160.0'], ['12.0', '356.0', '910.0'], ['74.0'], ['12.0'], ['1431.0'], ['34.0', '68.0', '103.0', '164.0', '336.0', '455.0', '569.0', '600.0', '673.0', '761.0', '1017.0', '1279.0'], ['766.0'], ['225.0'], ['43.0', '369.0', '1163.0', '1422.0'], ['959.0', '1165.0', '1276.0'], ['250.0', '339.0', '1058.0', '1183.0', '1271.0'], ['409.0', '474.0', '1364.0'], ['1271.0', '1336.0'], ['20.0', '1394.0', '1398.0'], ['1293.0'], ['310.0'], ['1183.0', '1271.0'], ['482.0', '910.0', '1174.0'], ['151.0', '244.0'], ['1183.0', '1185.0', '1396.0'], ['278.0', '1170.0', '1172.0', '1364.0', '1432.0'], ['223.0', '1396.0'], ['8.0', '15.0', '26.0', '337.0', '720.0', '1165.0', '1176.0'], ['82.0', '1304.0', '1437.0'], ['39.0', '80.0', '173.0', '250.0', '658.0', '721.0', '812.0', '967.0', '1017.0'], ['1400.0'], ['64.0', '784.0', '1278.0'], ['111.0', '164.0', '390.0'], ['1314.0', '1391.0'], ['910.0', '1271.0'], ['903.0', '1427.0'], ['1169.0', '1279.0', '1304.0'], ['933.0', '1052.0', '1439.0'], ['1054.0'], ['390.0', '669.0'], ['1052.0'], ['1398.0'], ['103.0', '125.0', '136.0', '202.0', '547.0', '692.0', '795.0', '1398.0'], ['230.0'], ['1351.0', '1439.0'], ['943.0', '1431.0'], ['1354.0'], ['1398.0'], ['57.0', '189.0', '362.0', '390.0', '495.0', '732.0', '793.0', '880.0', '981.0', '1289.0', '1402.0'], ['1354.0'], ['151.0', '162.0'], ['1351.0'], ['339.0', '1165.0', '1431.0'], ['1351.0', '1356.0'], ['15.0', '645.0', '1164.0', '1165.0', '1304.0', '1336.0'], ['54.0', '440.0', '600.0', '682.0', '744.0', '766.0', '795.0'], ['1054.0'], ['1431.0'], ['723.0'], ['943.0', '1431.0'], ['60.0', '390.0'], ['1398.0'], ['57.0', '103.0', '975.0', '1165.0', '1166.0', '1305.0', '1336.0', '1338.0', '1428.0', '1432.0'], ['68.0', '124.0', '237.0', '415.0', '464.0', '645.0', '812.0', '878.0', '969.0', '1018.0'], ['1337.0', '1338.0'], ['57.0', '1160.0'], ['1165.0', '1279.0', '1304.0', '1404.0'], ['1271.0'], ['350.0', '1174.0'], ['766.0']]\n"
     ]
    }
   ],
   "source": [
    "similar_user_articles_lists=[get_user_articles(user)[0] for user in similar_user]\n",
    "print(similar_user_articles_lists)\n",
    "#prints([0,4,6],[9,7,4])"
   ]
  },
  {
   "cell_type": "code",
   "execution_count": 414,
   "metadata": {
    "scrolled": true
   },
   "outputs": [
    {
     "name": "stdout",
     "output_type": "stream",
     "text": [
      "['16.0', '33.0', '76.0', '98.0', '151.0', '164.0', '194.0', '213.0', '237.0', '260.0', '268.0', '278.0', '283.0', '422.0', '480.0', '557.0', '618.0', '730.0', '744.0', '968.0', '1014.0', '1025.0', '1044.0', '1048.0', '1054.0', '1160.0', '1277.0', '1293.0', '1429.0', '1431.0', '20.0', '33.0', '34.0', '68.0', '98.0', '110.0', '124.0', '151.0', '189.0', '202.0', '240.0', '263.0', '268.0', '349.0', '359.0', '415.0', '444.0', '462.0', '525.0', '542.0', '645.0', '681.0', '684.0', '692.0', '720.0', '812.0', '821.0', '878.0', '965.0', '967.0', '975.0', '1006.0', '1014.0', '1017.0', '1047.0', '1050.0', '1055.0', '1056.0', '1137.0', '1154.0', '1170.0', '1171.0', '1172.0', '1185.0', '1263.0', '1293.0', '1304.0', '1330.0', '1336.0', '1338.0', '1343.0', '1351.0', '1364.0', '1394.0', '1395.0', '1398.0', '1436.0', '16.0', '26.0', '32.0', '43.0', '51.0', '64.0', '78.0', '109.0', '116.0', '124.0', '151.0', '202.0', '260.0', '288.0', '381.0', '477.0', '547.0', '593.0', '825.0', '975.0', '1025.0', '1048.0', '1160.0', '1314.0', '1393.0', '1394.0', '1398.0', '1429.0', '1432.0', '20.0', '33.0', '34.0', '68.0', '98.0', '110.0', '124.0', '151.0', '189.0', '202.0', '240.0', '263.0', '268.0', '349.0', '353.0', '359.0', '415.0', '444.0', '462.0', '525.0', '542.0', '645.0', '681.0', '684.0', '692.0', '720.0', '812.0', '821.0', '878.0', '965.0', '967.0', '975.0', '1006.0', '1014.0', '1017.0', '1047.0', '1050.0', '1055.0', '1056.0', '1137.0', '1154.0', '1170.0', '1171.0', '1172.0', '1185.0', '1263.0', '1293.0', '1304.0', '1330.0', '1336.0', '1338.0', '1343.0', '1351.0', '1364.0', '1394.0', '1395.0', '1398.0', '1436.0', '8.0', '33.0', '110.0', '125.0', '151.0', '202.0', '268.0', '295.0', '422.0', '673.0', '681.0', '729.0', '882.0', '957.0', '1174.0', '1178.0', '1332.0', '1429.0', '33.0', '124.0', '151.0', '194.0', '202.0', '210.0', '349.0', '448.0', '470.0', '524.0', '795.0', '864.0', '957.0', '990.0', '1017.0', '1170.0', '1436.0', '33.0', '124.0', '125.0', '151.0', '194.0', '202.0', '349.0', '448.0', '470.0', '524.0', '617.0', '795.0', '864.0', '957.0', '990.0', '1017.0', '1048.0', '1170.0', '1436.0', '16.0', '33.0', '76.0', '98.0', '151.0', '164.0', '194.0', '213.0', '237.0', '260.0', '268.0', '278.0', '283.0', '422.0', '480.0', '557.0', '618.0', '730.0', '744.0', '968.0', '1014.0', '1025.0', '1044.0', '1048.0', '1054.0', '1160.0', '1277.0', '1293.0', '1429.0', '1431.0', '33.0', '110.0', '125.0', '151.0', '202.0', '268.0', '295.0', '422.0', '673.0', '681.0', '729.0', '882.0', '957.0', '1174.0', '1178.0', '1332.0', '1429.0', '16.0', '43.0', '124.0', '151.0', '223.0', '260.0', '510.0', '757.0', '795.0', '898.0', '1028.0', '1052.0', '1053.0', '1143.0', '1166.0', '1186.0', '1338.0', '1360.0', '1367.0', '1398.0', '1403.0', '1416.0', '1424.0', '1426.0', '16.0', '26.0', '32.0', '43.0', '51.0', '64.0', '78.0', '109.0', '116.0', '124.0', '151.0', '260.0', '288.0', '381.0', '477.0', '547.0', '593.0', '825.0', '975.0', '1025.0', '1048.0', '1160.0', '1314.0', '1393.0', '1394.0', '1398.0', '1432.0', '16.0', '151.0', '1330.0', '20.0', '116.0', '151.0', '202.0', '260.0', '373.0', '525.0', '665.0', '1184.0', '1336.0', '12.0', '33.0', '202.0', '50.0', '78.0', '109.0', '124.0', '125.0', '151.0', '202.0', '210.0', '330.0', '600.0', '682.0', '730.0', '975.0', '1025.0', '1160.0', '1286.0', '1330.0', '1391.0', '1424.0', '18.0', '32.0', '33.0', '162.0', '202.0', '237.0', '241.0', '260.0', '263.0', '350.0', '381.0', '390.0', '409.0', '415.0', '426.0', '593.0', '607.0', '610.0', '730.0', '764.0', '766.0', '864.0', '903.0', '957.0', '1016.0', '1042.0', '1178.0', '1183.0', '1299.0', '1336.0', '1351.0', '1363.0', '1387.0', '1427.0', '1431.0', '1435.0', '1439.0', '33.0', '151.0', '283.0', '422.0', '464.0', '600.0', '725.0', '821.0', '882.0', '1044.0', '1232.0', '1336.0', '151.0', '202.0', '1120.0', '1158.0', '1181.0', '1263.0', '1304.0', '1332.0', '1351.0', '1398.0', '1404.0', '1416.0', '1432.0', '16.0', '43.0', '124.0', '151.0', '223.0', '260.0', '510.0', '757.0', '795.0', '898.0', '1028.0', '1052.0', '1053.0', '1143.0', '1166.0', '1186.0', '1304.0', '1338.0', '1360.0', '1367.0', '1398.0', '1403.0', '1416.0', '1424.0', '1426.0', '16.0', '20.0', '98.0', '120.0', '151.0', '191.0', '194.0', '241.0', '260.0', '268.0', '314.0', '524.0', '559.0', '600.0', '730.0', '864.0', '933.0', '1016.0', '1017.0', '1025.0', '1028.0', '1048.0', '1165.0', '1176.0', '1274.0', '1282.0', '1293.0', '1305.0', '1350.0', '1351.0', '1354.0', '1364.0', '1395.0', '1398.0', '1429.0', '1436.0', '26.0', '33.0', '124.0', '151.0', '544.0', '1017.0', '1293.0', '1431.0', '16.0', '18.0', '151.0', '369.0', '477.0', '969.0', '1025.0', '1048.0', '1172.0', '1314.0', '1354.0', '1393.0', '1424.0', '1436.0', '33.0', '108.0', '151.0', '189.0', '617.0', '681.0', '959.0', '1047.0', '1054.0', '1431.0', '1436.0', '65.0', '108.0', '110.0', '151.0', '202.0', '241.0', '260.0', '369.0', '542.0', '681.0', '892.0', '1014.0', '1017.0', '1436.0', '16.0', '20.0', '98.0', '120.0', '151.0', '191.0', '194.0', '241.0', '253.0', '260.0', '268.0', '314.0', '524.0', '559.0', '600.0', '730.0', '864.0', '933.0', '1016.0', '1017.0', '1025.0', '1028.0', '1165.0', '1176.0', '1274.0', '1282.0', '1293.0', '1305.0', '1350.0', '1351.0', '1354.0', '1364.0', '1395.0', '1398.0', '1429.0', '1436.0', '151.0', '173.0', '189.0', '202.0', '369.0', '528.0', '600.0', '795.0', '1293.0', '1338.0', '1430.0', '26.0', '33.0', '124.0', '151.0', '544.0', '1017.0', '1431.0', '16.0', '26.0', '28.0', '116.0', '131.0', '138.0', '146.0', '151.0', '260.0', '314.0', '349.0', '381.0', '462.0', '525.0', '618.0', '645.0', '692.0', '788.0', '833.0', '962.0', '1017.0', '1052.0', '1160.0', '1181.0', '1282.0', '1304.0', '1336.0', '1354.0', '1403.0', '12.0', '151.0', '202.0', '398.0', '486.0', '658.0', '809.0', '1053.0', '1055.0', '1160.0', '1163.0', '1170.0', '1336.0', '1424.0', '1427.0', '33.0', '151.0', '283.0', '422.0', '464.0', '600.0', '725.0', '821.0', '882.0', '1044.0', '1053.0', '1232.0', '1336.0', '1369.0', '33.0', '51.0', '54.0', '124.0', '142.0', '189.0', '202.0', '223.0', '237.0', '241.0', '278.0', '302.0', '337.0', '349.0', '390.0', '524.0', '618.0', '766.0', '864.0', '871.0', '975.0', '1016.0', '1048.0', '1060.0', '1164.0', '1184.0', '1298.0', '1332.0', '1351.0', '1364.0', '1390.0', '1400.0', '1409.0', '1430.0', '1431.0', '1432.0', '1436.0', '12.0', '20.0', '26.0', '33.0', '40.0', '43.0', '74.0', '116.0', '124.0', '151.0', '164.0', '194.0', '241.0', '260.0', '268.0', '278.0', '316.0', '600.0', '723.0', '744.0', '812.0', '882.0', '891.0', '951.0', '969.0', '1035.0', '1048.0', '1170.0', '1171.0', '1172.0', '1330.0', '1336.0', '1351.0', '1429.0', '1431.0', '1436.0', '151.0', '202.0', '1120.0', '1158.0', '1181.0', '1263.0', '1304.0', '1320.0', '1332.0', '1351.0', '1398.0', '1404.0', '1416.0', '1432.0', '151.0', '202.0', '398.0', '486.0', '658.0', '681.0', '809.0', '1053.0', '1055.0', '1160.0', '1163.0', '1170.0', '1336.0', '1424.0', '1427.0', '12.0', '20.0', '26.0', '33.0', '43.0', '74.0', '116.0', '124.0', '151.0', '194.0', '241.0', '260.0', '268.0', '278.0', '316.0', '600.0', '744.0', '812.0', '882.0', '891.0', '969.0', '1035.0', '1048.0', '1170.0', '1171.0', '1172.0', '1330.0', '1336.0', '1351.0', '1429.0', '1431.0', '1436.0', '33.0', '108.0', '151.0', '173.0', '189.0', '617.0', '681.0', '959.0', '1054.0', '1431.0', '1436.0', '12.0', '14.0', '29.0', '33.0', '43.0', '51.0', '109.0', '111.0', '130.0', '142.0', '151.0', '153.0', '162.0', '221.0', '232.0', '237.0', '244.0', '253.0', '273.0', '302.0', '315.0', '316.0', '347.0', '379.0', '382.0', '390.0', '415.0', '464.0', '468.0', '491.0', '547.0', '607.0', '609.0', '692.0', '730.0', '761.0', '763.0', '813.0', '857.0', '858.0', '876.0', '880.0', '933.0', '939.0', '967.0', '981.0', '990.0', '1014.0', '1059.0', '1157.0', '1162.0', '1164.0', '1172.0', '1186.0', '1271.0', '1276.0', '1293.0', '1305.0', '1314.0', '1320.0', '1330.0', '1332.0', '1336.0', '1338.0', '1351.0', '1357.0', '1367.0', '1368.0', '1396.0', '1422.0', '1429.0', '1432.0', '16.0', '26.0', '116.0', '124.0', '131.0', '138.0', '146.0', '151.0', '260.0', '314.0', '349.0', '381.0', '462.0', '525.0', '618.0', '634.0', '645.0', '692.0', '788.0', '833.0', '962.0', '1017.0', '1052.0', '1160.0', '1181.0', '1282.0', '1304.0', '1336.0', '1354.0', '1403.0', '20.0', '116.0', '151.0', '202.0', '260.0', '373.0', '525.0', '665.0', '812.0', '1184.0', '1320.0', '1336.0', '28.0', '33.0', '51.0', '107.0', '124.0', '142.0', '189.0', '202.0', '223.0', '237.0', '241.0', '278.0', '302.0', '337.0', '349.0', '390.0', '524.0', '618.0', '766.0', '864.0', '871.0', '975.0', '1016.0', '1048.0', '1060.0', '1164.0', '1184.0', '1298.0', '1332.0', '1351.0', '1364.0', '1390.0', '1400.0', '1409.0', '1430.0', '1431.0', '1432.0', '1436.0', '2.0', '12.0', '14.0', '16.0', '26.0', '28.0', '29.0', '33.0', '43.0', '50.0', '74.0', '76.0', '108.0', '109.0', '120.0', '124.0', '131.0', '164.0', '193.0', '194.0', '210.0', '213.0', '221.0', '223.0', '236.0', '237.0', '241.0', '252.0', '253.0', '283.0', '295.0', '299.0', '302.0', '316.0', '336.0', '337.0', '339.0', '348.0', '359.0', '362.0', '367.0', '409.0', '422.0', '444.0', '477.0', '482.0', '510.0', '517.0', '524.0', '617.0', '634.0', '641.0', '656.0', '658.0', '665.0', '682.0', '693.0', '720.0', '721.0', '729.0', '744.0', '761.0', '800.0', '812.0', '821.0', '825.0', '833.0', '843.0', '887.0', '910.0', '939.0', '943.0', '952.0', '957.0', '967.0', '969.0', '973.0', '981.0', '996.0', '1000.0', '1014.0', '1025.0', '1051.0', '1052.0', '1101.0', '1148.0', '1159.0', '1160.0', '1162.0', '1163.0', '1164.0', '1165.0', '1166.0', '1170.0', '1171.0', '1172.0', '1176.0', '1181.0', '1185.0', '1276.0', '1277.0', '1291.0', '1293.0', '1298.0', '1299.0', '1304.0', '1305.0', '1314.0', '1330.0', '1332.0', '1336.0', '1338.0', '1343.0', '1351.0', '1354.0', '1357.0', '1360.0', '1364.0', '1366.0', '1367.0', '1368.0', '1386.0', '1391.0', '1393.0', '1395.0', '1396.0', '1423.0', '1427.0', '1428.0', '1429.0', '1430.0', '1431.0', '1432.0', '1436.0', '1439.0', '8.0', '12.0', '33.0', '110.0', '113.0', '124.0', '125.0', '131.0', '136.0', '151.0', '189.0', '210.0', '239.0', '260.0', '268.0', '382.0', '409.0', '440.0', '444.0', '547.0', '557.0', '593.0', '599.0', '645.0', '658.0', '677.0', '682.0', '692.0', '725.0', '729.0', '766.0', '788.0', '795.0', '882.0', '891.0', '919.0', '955.0', '957.0', '969.0', '1015.0', '1162.0', '1164.0', '1304.0', '1330.0', '1343.0', '1364.0', '1395.0', '1416.0', '1422.0', '1424.0', '1425.0', '1431.0', '8.0', '12.0', '33.0', '110.0', '113.0', '124.0', '125.0', '131.0', '136.0', '151.0', '189.0', '210.0', '239.0', '260.0', '268.0', '382.0', '409.0', '440.0', '444.0', '547.0', '557.0', '593.0', '599.0', '645.0', '658.0', '677.0', '682.0', '692.0', '725.0', '729.0', '766.0', '788.0', '795.0', '882.0', '891.0', '919.0', '955.0', '957.0', '969.0', '1015.0', '1162.0', '1164.0', '1304.0', '1330.0', '1343.0', '1364.0', '1395.0', '1416.0', '1422.0', '1424.0', '1425.0', '1431.0', '18.0', '32.0', '33.0', '162.0', '202.0', '237.0', '241.0', '260.0', '263.0', '350.0', '381.0', '390.0', '409.0', '415.0', '426.0', '593.0', '607.0', '610.0', '730.0', '764.0', '766.0', '864.0', '903.0', '957.0', '1016.0', '1042.0', '1178.0', '1183.0', '1299.0', '1336.0', '1351.0', '1363.0', '1387.0', '1427.0', '1431.0', '1435.0', '1439.0', '65.0', '108.0', '110.0', '151.0', '202.0', '241.0', '260.0', '369.0', '542.0', '681.0', '892.0', '1014.0', '1017.0', '1436.0', '151.0', '173.0', '189.0', '202.0', '369.0', '528.0', '600.0', '795.0', '1053.0', '1293.0', '1338.0', '1430.0', '2.0', '12.0', '14.0', '16.0', '26.0', '28.0', '29.0', '33.0', '43.0', '50.0', '74.0', '76.0', '108.0', '109.0', '120.0', '124.0', '131.0', '164.0', '193.0', '194.0', '210.0', '213.0', '221.0', '223.0', '225.0', '236.0', '237.0', '241.0', '252.0', '253.0', '283.0', '295.0', '299.0', '302.0', '316.0', '336.0', '337.0', '339.0', '348.0', '359.0', '362.0', '367.0', '409.0', '422.0', '444.0', '477.0', '482.0', '510.0', '517.0', '524.0', '617.0', '634.0', '641.0', '656.0', '658.0', '665.0', '682.0', '693.0', '720.0', '721.0', '729.0', '744.0', '761.0', '800.0', '812.0', '821.0', '825.0', '833.0', '843.0', '910.0', '939.0', '943.0', '952.0', '957.0', '967.0', '969.0', '973.0', '981.0', '996.0', '1000.0', '1014.0', '1025.0', '1051.0', '1052.0', '1101.0', '1148.0', '1159.0', '1160.0', '1162.0', '1163.0', '1164.0', '1165.0', '1166.0', '1170.0', '1171.0', '1172.0', '1176.0', '1181.0', '1185.0', '1276.0', '1277.0', '1291.0', '1293.0', '1298.0', '1299.0', '1304.0', '1305.0', '1314.0', '1330.0', '1332.0', '1336.0', '1338.0', '1343.0', '1351.0', '1354.0', '1357.0', '1360.0', '1364.0', '1366.0', '1367.0', '1368.0', '1386.0', '1391.0', '1393.0', '1395.0', '1396.0', '1423.0', '1427.0', '1428.0', '1429.0', '1430.0', '1431.0', '1432.0', '1436.0', '1439.0', '12.0', '14.0', '29.0', '33.0', '43.0', '51.0', '109.0', '111.0', '130.0', '142.0', '151.0', '153.0', '162.0', '221.0', '232.0', '237.0', '244.0', '253.0', '273.0', '302.0', '315.0', '316.0', '379.0', '382.0', '390.0', '415.0', '464.0', '468.0', '491.0', '547.0', '607.0', '609.0', '692.0', '730.0', '761.0', '763.0', '813.0', '857.0', '858.0', '876.0', '880.0', '933.0', '939.0', '967.0', '981.0', '990.0', '1014.0', '1059.0', '1157.0', '1162.0', '1164.0', '1172.0', '1186.0', '1271.0', '1276.0', '1293.0', '1305.0', '1314.0', '1320.0', '1330.0', '1332.0', '1336.0', '1338.0', '1351.0', '1357.0', '1367.0', '1368.0', '1396.0', '1422.0', '1429.0', '1432.0', '43.0', '151.0', '152.0', '236.0', '379.0', '415.0', '645.0', '813.0', '1017.0', '1164.0', '1185.0', '1304.0', '1330.0', '1336.0', '1351.0', '1368.0', '1386.0', '1431.0', '124.0', '125.0', '151.0', '1278.0', '151.0', '151.0', '1282.0', '151.0', '462.0', '464.0', '812.0', '33.0', '1431.0', '1432.0', '124.0', '151.0', '1314.0', '1423.0', '33.0', '1398.0', '101.0', '103.0', '125.0', '151.0', '193.0', '240.0', '263.0', '510.0', '563.0', '600.0', '821.0', '1016.0', '1025.0', '1160.0', '1351.0', '1354.0', '1364.0', '1432.0', '151.0', '152.0', '251.0', '268.0', '311.0', '349.0', '359.0', '525.0', '528.0', '641.0', '684.0', '735.0', '768.0', '910.0', '1162.0', '1172.0', '1174.0', '1271.0', '1279.0', '1293.0', '1305.0', '1314.0', '1336.0', '1343.0', '1364.0', '1368.0', '1393.0', '1395.0', '1427.0', '120.0', '151.0', '193.0', '213.0', '462.0', '865.0', '903.0', '1162.0', '151.0', '260.0', '390.0', '1014.0', '39.0', '51.0', '151.0', '205.0', '210.0', '237.0', '477.0', '721.0', '812.0', '1024.0', '1170.0', '1171.0', '16.0', '1330.0', '151.0', '795.0', '33.0', '369.0', '109.0', '124.0', '151.0', '369.0', '593.0', '933.0', '1017.0', '0.0', '33.0', '390.0', '868.0', '1052.0', '1398.0', '12.0', '30.0', '151.0', '237.0', '260.0', '682.0', '795.0', '812.0', '16.0', '108.0', '116.0', '158.0', '241.0', '283.0', '593.0', '844.0', '1017.0', '1044.0', '1166.0', '1420.0', '16.0', '43.0', '51.0', '241.0', '1429.0', '151.0', '16.0', '26.0', '28.0', '29.0', '57.0', '103.0', '109.0', '125.0', '268.0', '477.0', '485.0', '681.0', '766.0', '933.0', '1163.0', '1314.0', '1364.0', '1368.0', '26.0', '33.0', '330.0', '477.0', '729.0', '744.0', '882.0', '957.0', '1016.0', '1017.0', '65.0', '124.0', '138.0', '151.0', '260.0', '600.0', '645.0', '809.0', '933.0', '962.0', '1166.0', '1170.0', '1304.0', '1330.0', '1336.0', '1391.0', '39.0', '202.0', '241.0', '268.0', '462.0', '525.0', '585.0', '809.0', '975.0', '1017.0', '1042.0', '1189.0', '1282.0', '1320.0', '1328.0', '1330.0', '1338.0', '1356.0', '1362.0', '1368.0', '1393.0', '1398.0', '1424.0', '1427.0', '16.0', '34.0', '51.0', '76.0', '120.0', '125.0', '164.0', '336.0', '491.0', '559.0', '833.0', '861.0', '1047.0', '1174.0', '1276.0', '1314.0', '1324.0', '1332.0', '1338.0', '1360.0', '1398.0', '1427.0', '1430.0', '1431.0', '1432.0', '18.0', '33.0', '645.0', '957.0', '962.0', '43.0', '109.0', '151.0', '268.0', '310.0', '329.0', '346.0', '390.0', '494.0', '525.0', '585.0', '626.0', '668.0', '732.0', '768.0', '910.0', '968.0', '981.0', '1052.0', '1170.0', '1183.0', '1185.0', '1232.0', '1293.0', '1305.0', '1363.0', '1368.0', '1391.0', '1400.0', '1406.0', '1427.0', '1429.0', '1430.0', '1431.0', '1436.0', '1439.0', '43.0', '151.0', '390.0', '510.0', '2.0', '50.0', '151.0', '369.0', '440.0', '593.0', '617.0', '740.0', '809.0', '861.0', '985.0', '1293.0', '1317.0', '1330.0', '1338.0', '1398.0', '1416.0', '1420.0', '1430.0', '1431.0', '92.0', '151.0', '346.0', '525.0', '768.0', '151.0', '33.0', '51.0', '122.0', '263.0', '355.0', '409.0', '426.0', '693.0', '764.0', '821.0', '910.0', '930.0', '957.0', '958.0', '1050.0', '151.0', '151.0', '647.0', '151.0', '151.0', '260.0', '795.0', '151.0', '959.0', '969.0', '151.0', '151.0', '673.0', '958.0', '996.0', '1052.0', '1057.0', '1142.0', '1160.0', '1165.0', '1172.0', '1180.0', '1184.0', '1280.0', '1328.0', '1336.0', '1387.0', '1400.0', '1427.0', '1435.0', '151.0', '1330.0', '202.0', '782.0', '933.0', '941.0', '1042.0', '1160.0', '1271.0', '1332.0', '98.0', '151.0', '1166.0', '1429.0', '151.0', '373.0', '673.0', '732.0', '958.0', '1273.0', '1299.0', '1364.0', '1400.0', '122.0', '151.0', '542.0', '768.0', '151.0', '669.0', '1271.0', '1282.0', '33.0', '1052.0', '1164.0', '1165.0', '1183.0', '1293.0', '1386.0', '1431.0', '1436.0', '33.0', '122.0', '1293.0', '1328.0', '1386.0', '1439.0', '33.0', '1276.0', '122.0', '151.0', '250.0', '313.0', '415.0', '444.0', '732.0', '805.0', '812.0', '1035.0', '1162.0', '1172.0', '1405.0', '202.0', '225.0', '1060.0', '1159.0', '1163.0', '1271.0', '1278.0', '1290.0', '1292.0', '151.0', '244.0', '151.0', '16.0', '241.0', '268.0', '369.0', '593.0', '1044.0', '109.0', '151.0', '1172.0', '151.0', '761.0', '151.0', '1017.0', '202.0', '260.0', '795.0', '16.0', '547.0', '1017.0', '1398.0', '16.0', '43.0', '122.0', '250.0', '260.0', '910.0', '1048.0', '1053.0', '1055.0', '1420.0', '1429.0', '151.0', '766.0', '33.0', '415.0', '795.0', '1191.0', '1431.0', '151.0', '865.0', '151.0', '16.0', '409.0', '1429.0', '16.0', '151.0', '415.0', '647.0', '749.0', '1017.0', '1025.0', '1332.0', '39.0', '151.0', '116.0', '151.0', '224.0', '508.0', '681.0', '722.0', '809.0', '1024.0', '1025.0', '1047.0', '151.0', '464.0', '788.0', '795.0', '18.0', '43.0', '109.0', '151.0', '164.0', '241.0', '465.0', '559.0', '1336.0', '151.0', '1050.0', '20.0', '151.0', '647.0', '673.0', '1400.0', '40.0', '151.0', '409.0', '151.0', '151.0', '600.0', '788.0', '812.0', '1162.0', '1170.0', '1431.0', '202.0', '600.0', '714.0', '939.0', '1425.0', '33.0', '110.0', '681.0', '729.0', '939.0', '1431.0', '151.0', '108.0', '151.0', '225.0', '865.0', '977.0', '1025.0', '1053.0', '1169.0', '1187.0', '1263.0', '1271.0', '1358.0', '1397.0', '1414.0', '1415.0', '1434.0', '18.0', '32.0', '98.0', '109.0', '116.0', '151.0', '191.0', '210.0', '1014.0', '1016.0', '202.0', '237.0', '349.0', '409.0', '477.0', '569.0', '593.0', '600.0', '651.0', '744.0', '758.0', '764.0', '800.0', '935.0', '936.0', '948.0', '957.0', '1035.0', '1050.0', '1164.0', '1343.0', '1350.0', '1391.0', '1395.0', '1428.0', '1431.0', '20.0', '151.0', '1398.0', '33.0', '68.0', '74.0', '110.0', '120.0', '124.0', '176.0', '194.0', '313.0', '316.0', '444.0', '542.0', '729.0', '812.0', '821.0', '844.0', '855.0', '962.0', '967.0', '969.0', '1017.0', '1050.0', '1054.0', '1055.0', '1057.0', '1059.0', '1068.0', '1120.0', '1162.0', '1164.0', '1168.0', '1172.0', '1199.0', '1274.0', '1336.0', '1351.0', '1364.0', '1398.0', '1425.0', '1431.0', '122.0', '151.0', '268.0', '316.0', '382.0', '462.0', '684.0', '1024.0', '1293.0', '1324.0', '1330.0', '1364.0', '1428.0', '1429.0', '15.0', '33.0', '109.0', '422.0', '515.0', '651.0', '681.0', '684.0', '729.0', '744.0', '957.0', '990.0', '1018.0', '1055.0', '1162.0', '1393.0', '1429.0', '28.0', '32.0', '43.0', '151.0', '162.0', '191.0', '295.0', '462.0', '681.0', '788.0', '1024.0', '1171.0', '1185.0', '1332.0', '1338.0', '1367.0', '1406.0', '151.0', '162.0', '329.0', '336.0', '415.0', '1174.0', '1328.0', '20.0', '151.0', '593.0', '1176.0', '1336.0', '1429.0', '202.0', '411.0', '600.0', '681.0', '151.0', '191.0', '959.0', '1177.0', '1314.0', '1321.0', '1330.0', '1360.0', '108.0', '151.0', '336.0', '477.0', '547.0', '645.0', '744.0', '812.0', '1163.0', '1391.0', '1395.0', '1428.0', '1436.0', '101.0', '151.0', '288.0', '470.0', '542.0', '645.0', '812.0', '967.0', '1162.0', '1304.0', '1305.0', '1332.0', '1338.0', '1361.0', '1418.0', '1429.0', '1430.0', '1432.0', '8.0', '20.0', '33.0', '131.0', '617.0', '1018.0', '103.0', '125.0', '136.0', '202.0', '547.0', '692.0', '795.0', '1398.0', '43.0', '109.0', '124.0', '151.0', '164.0', '260.0', '898.0', '1164.0', '1170.0', '1171.0', '1172.0', '1332.0', '1354.0', '1391.0', '1429.0', '1432.0', '151.0', '1017.0', '1317.0', '1330.0', '1354.0', '1391.0', '1398.0', '8.0', '33.0', '230.0', '288.0', '440.0', '600.0', '903.0', '1016.0', '1368.0', '1423.0', '1431.0', '151.0', '260.0', '813.0', '1174.0', '1305.0', '20.0', '78.0', '151.0', '1025.0', '1050.0', '1282.0', '1393.0', '1398.0', '1416.0', '30.0', '115.0', '151.0', '448.0', '681.0', '730.0', '795.0', '996.0', '20.0', '39.0', '43.0', '51.0', '57.0', '74.0', '116.0', '120.0', '124.0', '125.0', '151.0', '260.0', '369.0', '593.0', '600.0', '723.0', '844.0', '959.0', '1025.0', '1050.0', '1166.0', '1336.0', '1343.0', '1351.0', '1364.0', '1429.0', '116.0', '151.0', '241.0', '617.0', '1048.0', '1181.0', '1293.0', '1304.0', '1330.0', '1343.0', '1350.0', '1364.0', '1391.0', '1398.0', '1429.0', '1431.0', '1436.0', '116.0', '124.0', '151.0', '213.0', '251.0', '316.0', '336.0', '409.0', '825.0', '1025.0', '1080.0', '1160.0', '1162.0', '1166.0', '1170.0', '1171.0', '1330.0', '1398.0', '33.0', '124.0', '1024.0', '12.0', '43.0', '50.0', '78.0', '107.0', '109.0', '132.0', '136.0', '151.0', '158.0', '194.0', '225.0', '230.0', '237.0', '241.0', '258.0', '283.0', '303.0', '316.0', '349.0', '362.0', '409.0', '420.0', '440.0', '470.0', '525.0', '544.0', '585.0', '622.0', '682.0', '695.0', '722.0', '795.0', '821.0', '833.0', '844.0', '846.0', '865.0', '868.0', '891.0', '898.0', '939.0', '957.0', '969.0', '990.0', '1035.0', '1052.0', '1054.0', '1055.0', '1149.0', '1165.0', '1168.0', '1184.0', '1274.0', '1276.0', '1314.0', '1330.0', '1332.0', '1337.0', '1338.0', '1351.0', '1367.0', '1412.0', '1423.0', '1427.0', '1431.0', '8.0', '109.0', '124.0', '151.0', '237.0', '349.0', '462.0', '547.0', '761.0', '825.0', '855.0', '53.0', '151.0', '369.0', '926.0', '957.0', '959.0', '1025.0', '1164.0', '1177.0', '1178.0', '151.0', '164.0', '260.0', '462.0', '732.0', '1017.0', '1185.0', '1434.0', '43.0', '51.0', '101.0', '131.0', '138.0', '162.0', '193.0', '202.0', '224.0', '329.0', '510.0', '645.0', '684.0', '795.0', '868.0', '962.0', '969.0', '981.0', '1014.0', '1016.0', '1017.0', '1028.0', '1158.0', '1160.0', '1274.0', '1278.0', '1314.0', '1343.0', '1429.0', '1432.0', '1437.0', '113.0', '202.0', '221.0', '291.0', '462.0', '485.0', '495.0', '588.0', '975.0', '1324.0', '1330.0', '1343.0', '1354.0', '1360.0', '1398.0', '1400.0', '1409.0', '1430.0', '1431.0', '1436.0', '20.0', '33.0', '53.0', '162.0', '232.0', '659.0', '669.0', '951.0', '957.0', '1170.0', '1351.0', '1431.0', '151.0', '369.0', '525.0', '1174.0', '1271.0', '1367.0', '1400.0', '1410.0', '53.0', '109.0', '120.0', '151.0', '153.0', '164.0', '193.0', '205.0', '311.0', '415.0', '464.0', '477.0', '482.0', '508.0', '593.0', '732.0', '812.0', '1047.0', '1058.0', '1059.0', '1060.0', '1079.0', '1143.0', '1150.0', '1166.0', '1185.0', '1189.0', '1191.0', '1195.0', '1198.0', '1219.0', '1271.0', '1278.0', '1280.0', '1296.0', '1313.0', '1320.0', '1328.0', '1330.0', '1331.0', '1356.0', '1362.0', '1398.0', '1401.0', '1402.0', '1403.0', '1404.0', '1405.0', '1406.0', '1407.0', '1409.0', '1410.0', '1412.0', '1418.0', '1424.0', '1429.0', '33.0', '189.0', '230.0', '270.0', '400.0', '415.0', '525.0', '632.0', '695.0', '732.0', '795.0', '891.0', '1059.0', '1286.0', '1293.0', '1424.0', '1430.0', '1431.0', '57.0', '151.0', '158.0', '213.0', '273.0', '415.0', '482.0', '668.0', '692.0', '723.0', '749.0', '955.0', '968.0', '969.0', '1047.0', '1160.0', '1162.0', '1163.0', '1170.0', '1171.0', '1172.0', '1174.0', '1176.0', '1177.0', '1185.0', '1271.0', '1293.0', '1296.0', '1314.0', '1324.0', '1343.0', '1368.0', '1395.0', '1420.0', '1429.0', '1430.0', '151.0', '600.0', '1016.0', '131.0', '202.0', '911.0', '981.0', '1017.0', '1430.0', '1437.0', '14.0', '34.0', '51.0', '202.0', '250.0', '415.0', '665.0', '678.0', '720.0', '887.0', '1052.0', '1170.0', '1186.0', '1304.0', '1351.0', '1359.0', '109.0', '151.0', '164.0', '278.0', '369.0', '422.0', '470.0', '479.0', '593.0', '669.0', '673.0', '905.0', '957.0', '1017.0', '1162.0', '1174.0', '1181.0', '1305.0', '1364.0', '1427.0', '1431.0', '16.0', '138.0', '462.0', '1054.0', '1141.0', '1304.0', '1330.0', '1336.0', '1364.0', '1428.0', '43.0', '109.0', '151.0', '164.0', '415.0', '542.0', '641.0', '865.0', '1185.0', '1304.0', '1364.0', '1368.0', '28.0', '103.0', '116.0', '151.0', '390.0', '446.0', '933.0', '1056.0', '1176.0', '1304.0', '1313.0', '1425.0', '1429.0', '151.0', '164.0', '665.0', '887.0', '898.0', '1050.0', '1305.0', '1422.0', '2.0', '8.0', '12.0', '68.0', '74.0', '103.0', '120.0', '143.0', '181.0', '193.0', '202.0', '205.0', '237.0', '329.0', '383.0', '390.0', '491.0', '510.0', '524.0', '542.0', '600.0', '617.0', '692.0', '764.0', '795.0', '812.0', '821.0', '833.0', '878.0', '935.0', '941.0', '957.0', '996.0', '1006.0', '1030.0', '1038.0', '1050.0', '1165.0', '1170.0', '1171.0', '1305.0', '1336.0', '1350.0', '1426.0', '20.0', '51.0', '101.0', '151.0', '193.0', '240.0', '329.0', '353.0', '525.0', '645.0', '759.0', '821.0', '833.0', '911.0', '975.0', '1025.0', '1054.0', '1160.0', '1162.0', '1166.0', '1170.0', '1181.0', '1296.0', '1308.0', '1330.0', '1351.0', '1429.0', '2.0', '20.0', '33.0', '51.0', '125.0', '130.0', '193.0', '223.0', '224.0', '250.0', '353.0', '440.0', '557.0', '600.0', '641.0', '933.0', '939.0', '1164.0', '1171.0', '1172.0', '1274.0', '1304.0', '1305.0', '1350.0', '1363.0', '1364.0', '1386.0', '1423.0', '1425.0', '1431.0', '1436.0', '151.0', '462.0', '18.0', '33.0', '101.0', '109.0', '124.0', '125.0', '193.0', '194.0', '241.0', '260.0', '462.0', '593.0', '725.0', '729.0', '833.0', '1017.0', '1028.0', '1044.0', '1047.0', '151.0', '470.0', '969.0', '1176.0', '1274.0', '1314.0', '33.0', '399.0', '641.0', '667.0', '1164.0', '1171.0', '1181.0', '1185.0', '1330.0', '1334.0', '1386.0', '1431.0', '151.0', '348.0', '1047.0', '1048.0', '1343.0', '116.0', '151.0', '223.0', '390.0', '415.0', '692.0', '843.0', '910.0', '16.0', '124.0', '193.0', '1017.0', '1028.0', '151.0', '194.0', '375.0', '444.0', '681.0', '1304.0', '16.0', '32.0', '348.0', '1330.0', '1429.0', '125.0', '151.0', '933.0', '33.0', '593.0', '1014.0', '1017.0', '151.0', '250.0', '669.0', '1170.0', '1332.0', '1343.0', '1423.0', '39.0', '138.0', '145.0', '152.0', '202.0', '237.0', '241.0', '253.0', '350.0', '362.0', '398.0', '444.0', '486.0', '528.0', '567.0', '645.0', '669.0', '730.0', '795.0', '846.0', '969.0', '975.0', '1164.0', '1186.0', '1276.0', '1277.0', '1338.0', '1354.0', '1357.0', '1360.0', '1364.0', '1368.0', '1427.0', '1437.0', '1443.0', '131.0', '151.0', '189.0', '260.0', '288.0', '379.0', '542.0', '730.0', '795.0', '1160.0', '1162.0', '1164.0', '1276.0', '1304.0', '1305.0', '1314.0', '1330.0', '1338.0', '1391.0', '1394.0', '1395.0', '1398.0', '151.0', '1430.0', '33.0', '422.0', '957.0', '1336.0', '1426.0', '1431.0', '33.0', '34.0', '51.0', '78.0', '761.0', '884.0', '1172.0', '1364.0', '1394.0', '1398.0', '1431.0', '15.0', '20.0', '151.0', '349.0', '353.0', '515.0', '593.0', '651.0', '18.0', '151.0', '241.0', '508.0', '1141.0', '1157.0', '1330.0', '1394.0', '1398.0', '1434.0', '68.0', '151.0', '213.0', '1054.0', '1428.0', '1434.0', '12.0', '29.0', '33.0', '651.0', '761.0', '882.0', '910.0', '957.0', '1172.0', '1420.0', '1426.0', '1431.0', '151.0', '600.0', '760.0', '151.0', '795.0', '20.0', '43.0', '98.0', '151.0', '462.0', '969.0', '57.0', '151.0', '213.0', '232.0', '240.0', '969.0', '151.0', '260.0', '462.0', '969.0', '1017.0', '1044.0', '1164.0', '1296.0', '1324.0', '1351.0', '34.0', '43.0', '57.0', '116.0', '151.0', '250.0', '339.0', '415.0', '542.0', '600.0', '609.0', '669.0', '843.0', '1165.0', '1271.0', '1304.0', '1336.0', '1368.0', '1398.0', '143.0', '151.0', '189.0', '193.0', '239.0', '369.0', '464.0', '508.0', '542.0', '593.0', '600.0', '729.0', '764.0', '795.0', '812.0', '1028.0', '1050.0', '1336.0', '1400.0', '124.0', '151.0', '20.0', '124.0', '151.0', '164.0', '213.0', '237.0', '260.0', '316.0', '349.0', '355.0', '600.0', '681.0', '763.0', '812.0', '1164.0', '1170.0', '1293.0', '14.0', '68.0', '108.0', '151.0', '241.0', '390.0', '477.0', '522.0', '593.0', '600.0', '729.0', '825.0', '853.0', '865.0', '958.0', '1014.0', '1042.0', '1050.0', '1164.0', '1174.0', '1290.0', '1336.0', '1368.0', '1394.0', '1436.0', '33.0', '43.0', '98.0', '110.0', '131.0', '684.0', '1314.0', '151.0', '162.0', '16.0', '189.0', '1282.0', '1391.0', '1398.0', '1416.0', '1429.0', '1431.0', '151.0', '593.0', '1059.0', '151.0', '232.0', '260.0', '910.0', '1431.0', '1436.0', '151.0', '542.0', '1165.0', '1170.0', '1185.0', '1338.0', '1406.0', '1436.0', '2.0', '8.0', '32.0', '43.0', '50.0', '151.0', '237.0', '251.0', '288.0', '349.0', '369.0', '593.0', '766.0', '864.0', '1429.0', '8.0', '12.0', '20.0', '103.0', '116.0', '120.0', '124.0', '125.0', '136.0', '151.0', '164.0', '193.0', '194.0', '241.0', '268.0', '278.0', '288.0', '329.0', '362.0', '369.0', '448.0', '477.0', '485.0', '491.0', '510.0', '547.0', '585.0', '593.0', '600.0', '647.0', '656.0', '684.0', '692.0', '723.0', '833.0', '943.0', '948.0', '969.0', '977.0', '1025.0', '1052.0', '1056.0', '1057.0', '1060.0', '1160.0', '1162.0', '1163.0', '1165.0', '1166.0', '1174.0', '1183.0', '1252.0', '1274.0', '1276.0', '1282.0', '1314.0', '1330.0', '1336.0', '1351.0', '1354.0', '1360.0', '1367.0', '1391.0', '1393.0', '1398.0', '1403.0', '1422.0', '1427.0', '1428.0', '1429.0', '1436.0', '151.0', '369.0', '464.0', '593.0', '600.0', '1017.0', '32.0', '39.0', '98.0', '107.0', '109.0', '124.0', '125.0', '151.0', '215.0', '260.0', '268.0', '369.0', '462.0', '588.0', '593.0', '600.0', '681.0', '729.0', '730.0', '932.0', '933.0', '1014.0', '1025.0', '1044.0', '1178.0', '1185.0', '1314.0', '1391.0', '1423.0', '16.0', '51.0', '237.0', '314.0', '641.0', '1330.0', '1332.0', '1362.0', '1432.0', '1436.0', '124.0', '151.0', '237.0', '369.0', '464.0', '477.0', '1030.0', '202.0', '369.0', '542.0', '645.0', '764.0', '113.0', '124.0', '125.0', '151.0', '260.0', '268.0', '600.0', '990.0', '1017.0', '1044.0', '1282.0', '1304.0', '1364.0', '1398.0', '1428.0', '12.0', '57.0', '108.0', '116.0', '202.0', '239.0', '315.0', '316.0', '329.0', '411.0', '415.0', '444.0', '462.0', '464.0', '485.0', '641.0', '680.0', '749.0', '761.0', '865.0', '943.0', '1044.0', '151.0', '151.0', '973.0', '68.0', '202.0', '316.0', '329.0', '383.0', '542.0', '1055.0', '1185.0', '1364.0', '1436.0', '20.0', '151.0', '349.0', '353.0', '515.0', '593.0', '96.0', '151.0', '122.0', '151.0', '250.0', '313.0', '415.0', '444.0', '732.0', '805.0', '812.0', '1035.0', '1162.0', '1172.0', '1405.0', '18.0', '32.0', '98.0', '109.0', '116.0', '151.0', '210.0', '1014.0', '1016.0', '16.0', '189.0', '1282.0', '1391.0', '1398.0', '1416.0', '1431.0', '33.0', '98.0', '193.0', '237.0', '903.0', '968.0', '981.0', '1014.0', '1055.0', '1141.0', '1165.0', '1172.0', '1176.0', '1185.0', '1221.0', '1314.0', '1336.0', '1354.0', '1367.0', '1368.0', '1395.0', '1423.0', '1429.0', '1431.0', '151.0', '158.0', '260.0', '1174.0', '33.0', '16.0', '26.0', '28.0', '29.0', '103.0', '109.0', '125.0', '213.0', '268.0', '477.0', '485.0', '681.0', '933.0', '1163.0', '1314.0', '1364.0', '1368.0', '33.0', '880.0', '1050.0', '1433.0', '33.0', '92.0', '124.0', '153.0', '260.0', '283.0', '376.0', '448.0', '485.0', '647.0', '651.0', '658.0', '681.0', '693.0', '732.0', '919.0', '955.0', '1017.0', '1160.0', '1176.0', '1180.0', '1273.0', '1274.0', '1304.0', '1314.0', '1329.0', '1338.0', '1351.0', '1366.0', '1431.0', '1432.0', '43.0', '151.0', '390.0', '60.0', '151.0', '1165.0', '1170.0', '1185.0', '1338.0', '1406.0', '1436.0', '18.0', '26.0', '43.0', '108.0', '193.0', '202.0', '237.0', '617.0', '933.0', '939.0', '996.0', '1183.0', '1185.0', '1293.0', '1317.0', '1360.0', '1429.0', '1431.0', '151.0', '373.0', '673.0', '732.0', '958.0', '1273.0', '1299.0', '1364.0', '12.0', '57.0', '108.0', '116.0', '202.0', '239.0', '315.0', '316.0', '329.0', '411.0', '415.0', '444.0', '462.0', '464.0', '485.0', '641.0', '680.0', '865.0', '943.0', '1044.0', '131.0', '151.0', '189.0', '260.0', '288.0', '379.0', '542.0', '730.0', '795.0', '1160.0', '1162.0', '1276.0', '1304.0', '1305.0', '1314.0', '1330.0', '1338.0', '1391.0', '1394.0', '1395.0', '1398.0', '151.0', '250.0', '669.0', '1170.0', '1332.0', '202.0', '16.0', '1271.0', '1430.0', '53.0', '151.0', '184.0', '606.0', '681.0', '682.0', '766.0', '1014.0', '1174.0', '1178.0', '1304.0', '1305.0', '1320.0', '1321.0', '1394.0', '1400.0', '1435.0', '98.0', '103.0', '108.0', '110.0', '131.0', '158.0', '189.0', '202.0', '263.0', '283.0', '415.0', '564.0', '617.0', '764.0', '821.0', '844.0', '933.0', '955.0', '965.0', '1017.0', '1044.0', '1055.0', '1056.0', '1057.0', '1060.0', '1160.0', '1163.0', '1164.0', '1165.0', '1166.0', '1330.0', '1332.0', '1336.0', '1360.0', '1367.0', '1403.0', '1431.0', '1436.0', '33.0', '60.0', '189.0', '270.0', '400.0', '415.0', '525.0', '632.0', '695.0', '732.0', '795.0', '891.0', '1059.0', '1286.0', '1293.0', '1424.0', '1430.0', '57.0', '98.0', '124.0', '151.0', '241.0', '283.0', '681.0', '729.0', '878.0', '955.0', '969.0', '1165.0', '1190.0', '1330.0', '1391.0', '4.0', '33.0', '68.0', '74.0', '110.0', '120.0', '124.0', '176.0', '194.0', '313.0', '316.0', '542.0', '729.0', '812.0', '821.0', '844.0', '855.0', '962.0', '967.0', '969.0', '1017.0', '1050.0', '1054.0', '1055.0', '1057.0', '1059.0', '1068.0', '1120.0', '1162.0', '1164.0', '1168.0', '1172.0', '1199.0', '1274.0', '1336.0', '1351.0', '1364.0', '1398.0', '1425.0', '1431.0', '20.0', '33.0', '51.0', '131.0', '617.0', '151.0', '162.0', '329.0', '415.0', '1174.0', '151.0', '191.0', '1314.0', '1423.0', '28.0', '43.0', '136.0', '151.0', '295.0', '409.0', '474.0', '600.0', '632.0', '825.0', '1016.0', '1054.0', '1164.0', '1170.0', '1176.0', '1185.0', '1276.0', '1293.0', '1314.0', '1336.0', '1338.0', '1343.0', '1354.0', '1360.0', '1393.0', '1427.0', '1428.0', '1429.0', '1431.0', '1436.0', '8.0', '151.0', '176.0', '314.0', '1396.0', '33.0', '399.0', '667.0', '1164.0', '1171.0', '1181.0', '1185.0', '1330.0', '1334.0', '1386.0', '1431.0', '14.0', '65.0', '124.0', '138.0', '151.0', '260.0', '600.0', '645.0', '809.0', '933.0', '962.0', '1166.0', '1170.0', '1304.0', '1330.0', '1336.0', '1391.0', '103.0', '125.0', '136.0', '202.0', '795.0', '202.0', '411.0', '600.0', '681.0', '151.0', '887.0', '1145.0', '1166.0', '1174.0', '1185.0', '1296.0', '1314.0', '1324.0', '1398.0', '1429.0', '1431.0', '76.0', '202.0', '237.0', '349.0', '409.0', '477.0', '569.0', '593.0', '651.0', '744.0', '758.0', '764.0', '800.0', '935.0', '936.0', '948.0', '957.0', '1035.0', '1050.0', '1164.0', '1343.0', '1350.0', '1395.0', '1428.0', '1431.0', '43.0', '103.0', '151.0', '462.0', '969.0', '202.0', '43.0', '109.0', '124.0', '151.0', '260.0', '898.0', '1164.0', '1170.0', '1171.0', '1172.0', '1332.0', '1354.0', '1391.0', '1429.0', '1432.0', '115.0', '124.0', '151.0', '369.0', '593.0', '933.0', '1017.0', '33.0', '362.0', '1332.0', '53.0', '109.0', '120.0', '151.0', '153.0', '164.0', '193.0', '205.0', '311.0', '415.0', '464.0', '477.0', '482.0', '508.0', '593.0', '732.0', '812.0', '1047.0', '1058.0', '1059.0', '1060.0', '1079.0', '1143.0', '1150.0', '1166.0', '1185.0', '1189.0', '1191.0', '1195.0', '1198.0', '1219.0', '1271.0', '1278.0', '1280.0', '1296.0', '1313.0', '1320.0', '1328.0', '1330.0', '1331.0', '1356.0', '1362.0', '1398.0', '1401.0', '1402.0', '1403.0', '1404.0', '1405.0', '1406.0', '1407.0', '1409.0', '1410.0', '1412.0', '1418.0', '1424.0', '1429.0', '202.0', '151.0', '162.0', '486.0', '542.0', '645.0', '692.0', '1198.0', '1368.0', '1430.0', '1436.0', '39.0', '51.0', '151.0', '205.0', '210.0', '237.0', '721.0', '812.0', '1170.0', '1171.0', '134.0', '151.0', '100.0', '151.0', '260.0', '462.0', '732.0', '1017.0', '1185.0', '2.0', '8.0', '32.0', '43.0', '151.0', '237.0', '251.0', '288.0', '349.0', '369.0', '766.0', '864.0', '1429.0', '33.0', '51.0', '122.0', '263.0', '355.0', '409.0', '426.0', '693.0', '764.0', '821.0', '910.0', '930.0', '957.0', '958.0', '151.0', '232.0', '1431.0', '1436.0', '15.0', '33.0', '53.0', '162.0', '232.0', '659.0', '951.0', '957.0', '1170.0', '1351.0', '1431.0', '116.0', '151.0', '153.0', '508.0', '681.0', '722.0', '1024.0', '1025.0', '1047.0', '20.0', '151.0', '295.0', '647.0', '1400.0', '16.0', '455.0', '33.0', '8.0', '39.0', '138.0', '145.0', '152.0', '202.0', '237.0', '241.0', '253.0', '350.0', '362.0', '398.0', '444.0', '486.0', '528.0', '567.0', '645.0', '669.0', '730.0', '795.0', '846.0', '969.0', '975.0', '1164.0', '1186.0', '1276.0', '1277.0', '1338.0', '1354.0', '1357.0', '1360.0', '1364.0', '1368.0', '1427.0', '1443.0', '33.0', '130.0', '151.0', '260.0', '390.0', '1014.0', '33.0', '16.0', '164.0', '349.0', '390.0', '1170.0', '1171.0', '1298.0', '1351.0', '1354.0', '16.0', '14.0', '33.0', '43.0', '109.0', '124.0', '164.0', '194.0', '221.0', '239.0', '254.0', '362.0', '390.0', '494.0', '559.0', '617.0', '684.0', '853.0', '865.0', '880.0', '943.0', '981.0', '1017.0', '1052.0', '1160.0', '1166.0', '1169.0', '1170.0', '1171.0', '1172.0', '1186.0', '1321.0', '1336.0', '1349.0', '1351.0', '1360.0', '1368.0', '1386.0', '1396.0', '1423.0', '1424.0', '1429.0', '1430.0', '1431.0', '1436.0', '57.0', '151.0', '213.0', '240.0', '969.0', '202.0', '25.0', '124.0', '151.0', '2.0', '8.0', '12.0', '68.0', '74.0', '103.0', '111.0', '120.0', '143.0', '181.0', '193.0', '202.0', '205.0', '237.0', '329.0', '383.0', '390.0', '491.0', '510.0', '524.0', '542.0', '600.0', '617.0', '692.0', '764.0', '795.0', '812.0', '821.0', '833.0', '878.0', '935.0', '941.0', '957.0', '996.0', '1006.0', '1030.0', '1038.0', '1050.0', '1165.0', '1170.0', '1171.0', '1305.0', '1336.0', '1350.0', '1426.0', '151.0', '270.0', '1317.0', '1330.0', '1354.0', '1391.0', '1398.0', '28.0', '32.0', '43.0', '130.0', '151.0', '162.0', '191.0', '295.0', '462.0', '681.0', '788.0', '1024.0', '1171.0', '1185.0', '1332.0', '1338.0', '1367.0', '1406.0', '108.0', '138.0', '151.0', '225.0', '865.0', '977.0', '1025.0', '1053.0', '1169.0', '1187.0', '1271.0', '1358.0', '1397.0', '1414.0', '1415.0', '1434.0', '202.0', '1354.0', '113.0', '202.0', '291.0', '462.0', '485.0', '495.0', '588.0', '1324.0', '1330.0', '1343.0', '1354.0', '1360.0', '1398.0', '1400.0', '1409.0', '1430.0', '1431.0', '1436.0', '16.0', '26.0', '43.0', '122.0', '250.0', '260.0', '910.0', '1048.0', '1053.0', '1420.0', '1429.0', '33.0', '202.0', '390.0', '1159.0', '1164.0', '1165.0', '1169.0', '1172.0', '1174.0', '1175.0', '1185.0', '1263.0', '1330.0', '1400.0', '1433.0', '0.0', '33.0', '132.0', '1052.0', '1398.0', '14.0', '68.0', '108.0', '151.0', '390.0', '477.0', '522.0', '593.0', '600.0', '729.0', '825.0', '853.0', '865.0', '958.0', '1014.0', '1042.0', '1050.0', '1164.0', '1174.0', '1290.0', '1336.0', '1368.0', '1394.0', '1436.0', '151.0', '151.0', '673.0', '958.0', '996.0', '1052.0', '1057.0', '1142.0', '1160.0', '1165.0', '1172.0', '1180.0', '1184.0', '1280.0', '1336.0', '1387.0', '1400.0', '1427.0', '1435.0', '16.0', '43.0', '109.0', '120.0', '124.0', '164.0', '194.0', '349.0', '622.0', '651.0', '957.0', '965.0', '1055.0', '1060.0', '1070.0', '1071.0', '1073.0', '1139.0', '1157.0', '1170.0', '1172.0', '1185.0', '1271.0', '1274.0', '1276.0', '1314.0', '1324.0', '1328.0', '1330.0', '1336.0', '1351.0', '1360.0', '1364.0', '1420.0', '1422.0', '1426.0', '1429.0', '1431.0', '1434.0', '1437.0', '1439.0', '74.0', '151.0', '152.0', '268.0', '311.0', '349.0', '359.0', '528.0', '641.0', '684.0', '735.0', '768.0', '910.0', '1162.0', '1172.0', '1174.0', '1271.0', '1279.0', '1293.0', '1305.0', '1314.0', '1336.0', '1343.0', '1364.0', '1368.0', '1393.0', '1395.0', '1427.0', '151.0', '223.0', '252.0', '415.0', '692.0', '843.0', '910.0', '14.0', '51.0', '53.0', '102.0', '108.0', '116.0', '120.0', '122.0', '145.0', '153.0', '162.0', '184.0', '202.0', '221.0', '240.0', '349.0', '448.0', '465.0', '542.0', '600.0', '617.0', '641.0', '681.0', '813.0', '903.0', '1025.0', '1052.0', '1054.0', '1060.0', '1160.0', '1162.0', '1164.0', '1170.0', '1171.0', '1172.0', '1174.0', '1176.0', '1185.0', '1254.0', '1277.0', '1293.0', '1314.0', '1321.0', '1324.0', '1330.0', '1332.0', '1343.0', '1360.0', '1364.0', '1393.0', '1394.0', '1395.0', '1409.0', '1422.0', '1423.0', '1426.0', '1427.0', '1429.0', '1430.0', '1431.0', '1436.0', '1437.0', '116.0', '151.0', '241.0', '617.0', '1048.0', '1181.0', '1293.0', '1330.0', '1343.0', '1350.0', '1364.0', '1391.0', '1398.0', '1431.0', '1436.0', '12.0', '33.0', '43.0', '64.0', '162.0', '223.0', '310.0', '359.0', '547.0', '667.0', '898.0', '943.0', '1162.0', '1165.0', '1170.0', '1171.0', '1172.0', '1293.0', '1324.0', '1330.0', '1351.0', '1364.0', '1368.0', '1431.0', '1432.0', '33.0', '1181.0', '1431.0', '16.0', '241.0', '268.0', '593.0', '1044.0', '8.0', '202.0', '225.0', '1060.0', '1159.0', '1163.0', '1271.0', '1278.0', '1292.0', '20.0', '124.0', '151.0', '164.0', '189.0', '237.0', '260.0', '316.0', '349.0', '355.0', '600.0', '763.0', '812.0', '1164.0', '1170.0', '1293.0', '108.0', '131.0', '202.0', '1017.0', '1028.0', '1055.0', '1164.0', '1426.0', '1430.0', '1432.0', '16.0', '34.0', '51.0', '76.0', '120.0', '125.0', '164.0', '336.0', '491.0', '559.0', '833.0', '861.0', '1047.0', '1174.0', '1276.0', '1314.0', '1324.0', '1332.0', '1360.0', '1398.0', '1427.0', '1430.0', '1431.0', '1432.0', '202.0', '241.0', '260.0', '16.0', '234.0', '348.0', '1330.0', '1429.0', '28.0', '151.0', '369.0', '525.0', '1174.0', '1271.0', '1367.0', '1410.0', '101.0', '151.0', '241.0', '288.0', '470.0', '542.0', '645.0', '812.0', '967.0', '1162.0', '1304.0', '1305.0', '1338.0', '1361.0', '1418.0', '1430.0', '1432.0', '8.0', '33.0', '230.0', '288.0', '440.0', '600.0', '903.0', '1016.0', '1368.0', '1431.0', '18.0', '43.0', '109.0', '151.0', '164.0', '224.0', '465.0', '559.0', '151.0', '291.0', '1047.0', '1048.0', '43.0', '53.0', '101.0', '120.0', '130.0', '132.0', '151.0', '162.0', '223.0', '253.0', '260.0', '311.0', '339.0', '352.0', '356.0', '362.0', '367.0', '390.0', '398.0', '444.0', '475.0', '479.0', '482.0', '485.0', '515.0', '566.0', '567.0', '606.0', '722.0', '723.0', '735.0', '795.0', '861.0', '865.0', '881.0', '892.0', '939.0', '952.0', '1025.0', '1172.0', '1338.0', '1360.0', '1427.0', '1430.0', '151.0', '224.0', '729.0', '843.0', '1054.0', '1165.0', '1170.0', '1172.0', '1179.0', '1186.0', '1271.0', '1273.0', '1280.0', '1296.0', '1304.0', '1305.0', '1313.0', '1314.0', '1320.0', '1328.0', '1330.0', '1336.0', '1338.0', '1343.0', '1351.0', '1356.0', '1362.0', '1364.0', '1368.0', '1393.0', '1410.0', '1424.0', '1429.0', '1436.0', '32.0', '33.0', '732.0', '1164.0', '151.0', '164.0', '665.0', '887.0', '1050.0', '1305.0', '1422.0', '33.0', '53.0', '112.0', '124.0', '221.0', '369.0', '382.0', '468.0', '651.0', '681.0', '682.0', '730.0', '805.0', '1008.0', '1054.0', '1055.0', '1165.0', '1176.0', '1198.0', '1257.0', '1274.0', '1277.0', '1286.0', '1304.0', '1305.0', '1314.0', '1317.0', '1329.0', '1343.0', '1360.0', '1364.0', '1366.0', '1395.0', '1400.0', '1428.0', '15.0', '33.0', '50.0', '109.0', '422.0', '515.0', '651.0', '681.0', '729.0', '744.0', '990.0', '1018.0', '1055.0', '1429.0', '151.0', '8.0', '57.0', '109.0', '124.0', '151.0', '237.0', '349.0', '462.0', '547.0', '825.0', '855.0', '151.0', '369.0', '593.0', '600.0', '1017.0', '151.0', '18.0', '33.0', '101.0', '109.0', '124.0', '125.0', '194.0', '241.0', '260.0', '462.0', '593.0', '725.0', '729.0', '1017.0', '1028.0', '1044.0', '1047.0', '34.0', '40.0', '151.0', '865.0', '876.0', '1185.0', '1330.0', '1338.0', '1364.0', '1368.0', '1394.0', '33.0', '1052.0', '1164.0', '1165.0', '1183.0', '1293.0', '1386.0', '1431.0', '1436.0', '2.0', '50.0', '151.0', '369.0', '440.0', '593.0', '617.0', '740.0', '809.0', '861.0', '985.0', '1293.0', '1317.0', '1330.0', '1338.0', '1398.0', '1416.0', '1420.0', '1430.0', '1431.0', '143.0', '151.0', '189.0', '191.0', '236.0', '239.0', '369.0', '464.0', '508.0', '542.0', '593.0', '600.0', '764.0', '795.0', '812.0', '1028.0', '1050.0', '1336.0', '26.0', '33.0', '40.0', '43.0', '68.0', '164.0', '284.0', '313.0', '411.0', '422.0', '542.0', '617.0', '1016.0', '1170.0', '1171.0', '1172.0', '1293.0', '1330.0', '1364.0', '1393.0', '1395.0', '1428.0', '1429.0', '1431.0', '1436.0', '33.0', '43.0', '98.0', '110.0', '131.0', '109.0', '138.0', '151.0', '164.0', '278.0', '369.0', '470.0', '479.0', '593.0', '669.0', '673.0', '905.0', '957.0', '1017.0', '1162.0', '1174.0', '1181.0', '1305.0', '1364.0', '1427.0', '1431.0', '30.0', '151.0', '323.0', '682.0', '1276.0', '1432.0', '122.0', '151.0', '268.0', '382.0', '462.0', '684.0', '1024.0', '1293.0', '1324.0', '1330.0', '1364.0', '1428.0', '124.0', '138.0', '151.0', '782.0', '881.0', '1164.0', '1165.0', '1166.0', '1171.0', '1274.0', '1282.0', '1293.0', '1317.0', '1320.0', '1330.0', '1343.0', '1351.0', '1354.0', '1393.0', '20.0', '202.0', '782.0', '933.0', '941.0', '1042.0', '1160.0', '1271.0', '1332.0', '33.0', '57.0', '64.0', '223.0', '422.0', '833.0', '1276.0', '1330.0', '1354.0', '1386.0', '1396.0', '1426.0', '1431.0', '132.0', '202.0', '241.0', '1168.0', '1320.0', '28.0', '36.0', '103.0', '116.0', '151.0', '390.0', '446.0', '933.0', '1056.0', '1176.0', '1313.0', '1425.0', '1429.0', '151.0', '191.0', '194.0', '444.0', '1304.0', '33.0', '57.0', '64.0', '223.0', '422.0', '833.0', '1276.0', '1330.0', '1354.0', '1386.0', '1396.0', '1426.0', '1431.0', '113.0', '124.0', '125.0', '151.0', '260.0', '268.0', '600.0', '990.0', '1017.0', '1282.0', '1304.0', '1364.0', '1398.0', '1428.0', '12.0', '43.0', '50.0', '78.0', '107.0', '109.0', '132.0', '136.0', '151.0', '158.0', '194.0', '213.0', '225.0', '230.0', '237.0', '241.0', '258.0', '283.0', '303.0', '316.0', '349.0', '362.0', '409.0', '420.0', '440.0', '470.0', '525.0', '544.0', '585.0', '622.0', '682.0', '722.0', '795.0', '821.0', '833.0', '844.0', '846.0', '865.0', '868.0', '891.0', '898.0', '939.0', '957.0', '969.0', '990.0', '1035.0', '1052.0', '1054.0', '1055.0', '1149.0', '1165.0', '1168.0', '1184.0', '1274.0', '1276.0', '1314.0', '1330.0', '1332.0', '1337.0', '1338.0', '1351.0', '1367.0', '1412.0', '1423.0', '1427.0', '1431.0', '33.0', '330.0', '422.0', '882.0', '957.0', '1017.0', '1053.0', '1055.0', '1164.0', '1170.0', '1186.0', '1330.0', '1424.0', '120.0', '151.0', '193.0', '213.0', '462.0', '865.0', '903.0', '1162.0', '16.0', '116.0', '158.0', '241.0', '283.0', '593.0', '844.0', '1017.0', '1166.0', '1420.0', '14.0', '34.0', '57.0', '111.0', '132.0', '142.0', '173.0', '189.0', '202.0', '302.0', '379.0', '390.0', '415.0', '427.0', '528.0', '542.0', '563.0', '583.0', '593.0', '606.0', '645.0', '692.0', '695.0', '723.0', '809.0', '878.0', '898.0', '943.0', '975.0', '981.0', '1017.0', '1042.0', '1047.0', '1052.0', '1053.0', '1160.0', '1163.0', '1164.0', '1166.0', '1170.0', '1171.0', '1172.0', '1174.0', '1185.0', '1198.0', '1276.0', '1313.0', '1314.0', '1328.0', '1336.0', '1338.0', '1351.0', '1364.0', '1393.0', '1397.0', '1402.0', '1428.0', '1436.0', '32.0', '39.0', '98.0', '107.0', '109.0', '124.0', '125.0', '151.0', '215.0', '260.0', '268.0', '369.0', '462.0', '588.0', '593.0', '600.0', '681.0', '729.0', '730.0', '932.0', '933.0', '1014.0', '1025.0', '1044.0', '1178.0', '1185.0', '1314.0', '1391.0', '1423.0', '12.0', '20.0', '39.0', '51.0', '108.0', '130.0', '151.0', '173.0', '369.0', '411.0', '477.0', '495.0', '508.0', '542.0', '563.0', '600.0', '641.0', '651.0', '665.0', '681.0', '722.0', '812.0', '821.0', '844.0', '846.0', '906.0', '936.0', '975.0', '1051.0', '1052.0', '1053.0', '1054.0', '1061.0', '1067.0', '1159.0', '1160.0', '1163.0', '1164.0', '1165.0', '1170.0', '1190.0', '1197.0', '1260.0', '1261.0', '1276.0', '1293.0', '1336.0', '1338.0', '1349.0', '1354.0', '1386.0', '1397.0', '1403.0', '1423.0', '1426.0', '1429.0', '1436.0', '1437.0', '8.0', '18.0', '57.0', '92.0', '98.0', '108.0', '111.0', '142.0', '202.0', '349.0', '415.0', '729.0', '795.0', '844.0', '969.0', '1025.0', '1160.0', '1163.0', '1164.0', '1165.0', '1170.0', '1172.0', '1175.0', '1276.0', '1321.0', '1329.0', '1330.0', '1331.0', '1336.0', '1360.0', '1430.0', '1433.0', '1436.0', '1437.0', '146.0', '151.0', '162.0', '673.0', '1165.0', '1186.0', '1336.0', '1436.0', '68.0', '92.0', '151.0', '213.0', '1054.0', '43.0', '109.0', '151.0', '164.0', '542.0', '641.0', '865.0', '1185.0', '1304.0', '1364.0', '1368.0', '151.0', '260.0', '969.0', '1044.0', '1164.0', '1296.0', '1324.0', '1351.0', '202.0', '202.0', '237.0', '1162.0', '1172.0', '101.0', '103.0', '125.0', '151.0', '193.0', '263.0', '510.0', '563.0', '600.0', '821.0', '1016.0', '1025.0', '1351.0', '1354.0', '1364.0', '1432.0', '151.0', '593.0', '1059.0', '33.0', '122.0', '1293.0', '1328.0', '1386.0', '1439.0', '33.0', '34.0', '51.0', '78.0', '761.0', '1364.0', '1394.0', '1398.0', '1431.0', '33.0', '57.0', '116.0', '131.0', '162.0', '237.0', '353.0', '400.0', '486.0', '681.0', '759.0', '910.0', '962.0', '969.0', '1048.0', '1160.0', '1165.0', '1166.0', '1170.0', '1171.0', '1172.0', '1293.0', '1317.0', '1336.0', '1343.0', '1350.0', '1354.0', '1360.0', '1427.0', '1429.0', '20.0', '33.0', '43.0', '68.0', '76.0', '109.0', '116.0', '124.0', '210.0', '232.0', '237.0', '241.0', '268.0', '278.0', '284.0', '315.0', '409.0', '500.0', '600.0', '721.0', '725.0', '855.0', '864.0', '887.0', '1004.0', '1016.0', '1028.0', '1050.0', '1052.0', '1053.0', '1162.0', '1166.0', '1170.0', '1171.0', '1176.0', '1184.0', '1276.0', '1336.0', '1354.0', '1364.0', '1393.0', '1398.0', '1420.0', '1424.0', '1426.0', '1427.0', '1429.0', '1431.0', '30.0', '115.0', '151.0', '448.0', '730.0', '795.0', '151.0', '157.0', '1429.0', '202.0', '491.0', '833.0', '1314.0', '1354.0', '1432.0', '16.0', '32.0', '151.0', '1164.0', '12.0', '16.0', '26.0', '28.0', '53.0', '57.0', '102.0', '108.0', '109.0', '110.0', '138.0', '193.0', '215.0', '221.0', '223.0', '236.0', '241.0', '302.0', '314.0', '362.0', '399.0', '412.0', '427.0', '448.0', '464.0', '470.0', '475.0', '477.0', '534.0', '553.0', '607.0', '609.0', '616.0', '618.0', '665.0', '680.0', '681.0', '682.0', '695.0', '729.0', '732.0', '766.0', '903.0', '943.0', '969.0', '1047.0', '1162.0', '1163.0', '1166.0', '1171.0', '1172.0', '1181.0', '1271.0', '1304.0', '1305.0', '1307.0', '1314.0', '1317.0', '1338.0', '1354.0', '1364.0', '1367.0', '1368.0', '1405.0', '1409.0', '1416.0', '1420.0', '1423.0', '1427.0', '1430.0', '1436.0', '20.0', '51.0', '101.0', '151.0', '193.0', '240.0', '329.0', '353.0', '525.0', '645.0', '759.0', '821.0', '833.0', '911.0', '975.0', '1025.0', '1054.0', '1160.0', '1162.0', '1166.0', '1170.0', '1181.0', '1296.0', '1308.0', '1330.0', '1351.0', '1429.0', '64.0', '151.0', '795.0', '151.0', '151.0', '415.0', '647.0', '1017.0', '1025.0', '1332.0', '2.0', '12.0', '14.0', '20.0', '30.0', '40.0', '43.0', '51.0', '57.0', '74.0', '101.0', '108.0', '110.0', '116.0', '120.0', '124.0', '130.0', '164.0', '173.0', '193.0', '194.0', '202.0', '205.0', '213.0', '263.0', '310.0', '336.0', '349.0', '353.0', '409.0', '462.0', '470.0', '477.0', '491.0', '522.0', '599.0', '645.0', '647.0', '651.0', '658.0', '665.0', '681.0', '684.0', '730.0', '744.0', '766.0', '812.0', '821.0', '825.0', '833.0', '844.0', '855.0', '898.0', '939.0', '969.0', '975.0', '986.0', '1018.0', '1024.0', '1025.0', '1047.0', '1054.0', '1116.0', '1160.0', '1162.0', '1163.0', '1165.0', '1170.0', '1171.0', '1172.0', '1175.0', '1176.0', '1185.0', '1186.0', '1198.0', '1274.0', '1276.0', '1286.0', '1293.0', '1299.0', '1314.0', '1324.0', '1330.0', '1351.0', '1354.0', '1360.0', '1363.0', '1364.0', '1367.0', '1368.0', '1393.0', '1422.0', '1425.0', '1427.0', '1429.0', '1430.0', '1432.0', '50.0', '78.0', '109.0', '124.0', '125.0', '202.0', '210.0', '236.0', '330.0', '600.0', '682.0', '730.0', '975.0', '1025.0', '1160.0', '1286.0', '1330.0', '1391.0', '1424.0', '18.0', '57.0', '151.0', '158.0', '213.0', '273.0', '415.0', '482.0', '668.0', '692.0', '723.0', '749.0', '955.0', '968.0', '969.0', '1047.0', '1160.0', '1162.0', '1163.0', '1170.0', '1171.0', '1172.0', '1174.0', '1176.0', '1177.0', '1185.0', '1271.0', '1293.0', '1296.0', '1314.0', '1324.0', '1343.0', '1368.0', '1395.0', '1420.0', '1429.0', '1430.0', '12.0', '43.0', '111.0', '124.0', '151.0', '193.0', '260.0', '464.0', '655.0', '732.0', '788.0', '1017.0', '1160.0', '1162.0', '1165.0', '1166.0', '1176.0', '1271.0', '1296.0', '1314.0', '1320.0', '1338.0', '1351.0', '1354.0', '1357.0', '1367.0', '1398.0', '1400.0', '1405.0', '1436.0', '98.0', '125.0', '151.0', '194.0', '428.0', '825.0', '1025.0', '1053.0', '1162.0', '1163.0', '1186.0', '1228.0', '1282.0', '1351.0', '20.0', '151.0', '1176.0', '1336.0', '12.0', '14.0', '40.0', '74.0', '98.0', '120.0', '151.0', '152.0', '195.0', '215.0', '223.0', '225.0', '230.0', '310.0', '314.0', '319.0', '349.0', '382.0', '390.0', '475.0', '656.0', '665.0', '723.0', '729.0', '766.0', '825.0', '957.0', '969.0', '1017.0', '1052.0', '1053.0', '1054.0', '1059.0', '1152.0', '1158.0', '1160.0', '1162.0', '1163.0', '1168.0', '1174.0', '1176.0', '1181.0', '1185.0', '1186.0', '1271.0', '1276.0', '1278.0', '1282.0', '1293.0', '1296.0', '1304.0', '1314.0', '1320.0', '1328.0', '1338.0', '1343.0', '1351.0', '1354.0', '1357.0', '1360.0', '1364.0', '1366.0', '1368.0', '1386.0', '1398.0', '1400.0', '1406.0', '1423.0', '1427.0', '1429.0', '1430.0', '1431.0', '1433.0', '1435.0', '1436.0', '202.0', '283.0', '337.0', '732.0', '1368.0', '40.0', '43.0', '116.0', '151.0', '153.0', '221.0', '260.0', '336.0', '369.0', '465.0', '600.0', '641.0', '647.0', '730.0', '732.0', '788.0', '1017.0', '1048.0', '1052.0', '1163.0', '1165.0', '1166.0', '1314.0', '1336.0', '1364.0', '1423.0', '1427.0', '1430.0', '34.0', '43.0', '57.0', '116.0', '151.0', '250.0', '339.0', '415.0', '600.0', '609.0', '669.0', '843.0', '1165.0', '1271.0', '1304.0', '1336.0', '1368.0', '1398.0', '151.0', '16.0', '1431.0', '12.0', '29.0', '33.0', '43.0', '74.0', '409.0', '460.0', '491.0', '495.0', '645.0', '720.0', '812.0', '957.0', '958.0', '968.0', '977.0', '993.0', '1025.0', '1271.0', '1276.0', '1314.0', '1330.0', '1358.0', '1360.0', '1364.0', '1427.0', '1429.0', '1431.0', '1432.0', '131.0', '202.0', '911.0', '981.0', '1430.0', '1437.0', '124.0', '151.0', '213.0', '251.0', '316.0', '336.0', '409.0', '825.0', '1025.0', '1160.0', '1162.0', '1166.0', '1170.0', '1171.0', '1330.0', '1398.0', '43.0', '77.0', '151.0', '152.0', '236.0', '379.0', '645.0', '813.0', '1017.0', '1164.0', '1185.0', '1304.0', '1330.0', '1336.0', '1351.0', '1368.0', '1386.0', '1431.0', '14.0', '16.0', '28.0', '32.0', '57.0', '108.0', '109.0', '132.0', '173.0', '251.0', '252.0', '253.0', '263.0', '268.0', '310.0', '353.0', '460.0', '651.0', '658.0', '723.0', '813.0', '864.0', '933.0', '939.0', '975.0', '1024.0', '1044.0', '1314.0', '1430.0', '26.0', '33.0', '477.0', '729.0', '744.0', '882.0', '957.0', '1017.0', '53.0', '122.0', '151.0', '926.0', '957.0', '959.0', '1025.0', '1164.0', '1177.0', '33.0', '415.0', '1191.0', '12.0', '29.0', '33.0', '110.0', '651.0', '761.0', '882.0', '910.0', '957.0', '1172.0', '1420.0', '1426.0', '1431.0', '16.0', '482.0', '705.0', '1180.0', '1304.0', '1305.0', '1317.0', '1338.0', '1357.0', '1364.0', '1367.0', '1400.0', '1428.0', '1429.0', '1431.0', '1432.0', '1436.0', '8.0', '12.0', '20.0', '103.0', '116.0', '120.0', '124.0', '125.0', '136.0', '151.0', '164.0', '193.0', '194.0', '237.0', '241.0', '268.0', '278.0', '288.0', '329.0', '362.0', '369.0', '448.0', '477.0', '485.0', '491.0', '510.0', '547.0', '585.0', '593.0', '600.0', '647.0', '656.0', '684.0', '692.0', '723.0', '833.0', '943.0', '948.0', '969.0', '977.0', '1025.0', '1052.0', '1056.0', '1057.0', '1060.0', '1160.0', '1162.0', '1163.0', '1165.0', '1166.0', '1174.0', '1183.0', '1252.0', '1274.0', '1276.0', '1282.0', '1314.0', '1330.0', '1336.0', '1351.0', '1354.0', '1360.0', '1367.0', '1391.0', '1393.0', '1398.0', '1403.0', '1422.0', '1427.0', '1428.0', '1429.0', '1436.0', '33.0', '64.0', '108.0', '221.0', '283.0', '315.0', '330.0', '382.0', '508.0', '542.0', '622.0', '682.0', '749.0', '865.0', '957.0', '959.0', '1014.0', '1044.0', '1160.0', '1276.0', '1314.0', '1330.0', '1332.0', '1338.0', '1351.0', '1410.0', '202.0', '369.0', '764.0', '89.0', '108.0', '110.0', '116.0', '151.0', '164.0', '244.0', '283.0', '369.0', '422.0', '468.0', '508.0', '647.0', '651.0', '681.0', '682.0', '727.0', '732.0', '764.0', '785.0', '812.0', '933.0', '957.0', '1042.0', '1048.0', '1056.0', '1059.0', '1062.0', '1172.0', '1253.0', '1293.0', '1296.0', '1304.0', '1314.0', '1330.0', '1332.0', '1338.0', '1343.0', '1351.0', '1354.0', '1360.0', '1368.0', '1393.0', '1398.0', '1410.0', '1427.0', '1428.0', '1436.0', '1437.0', '33.0', '1293.0', '1429.0', '1432.0', '151.0', '542.0', '8.0', '16.0', '34.0', '40.0', '50.0', '53.0', '59.0', '74.0', '92.0', '111.0', '120.0', '152.0', '153.0', '173.0', '181.0', '194.0', '234.0', '253.0', '284.0', '295.0', '313.0', '315.0', '367.0', '379.0', '381.0', '398.0', '415.0', '468.0', '485.0', '528.0', '567.0', '583.0', '585.0', '599.0', '606.0', '665.0', '670.0', '681.0', '723.0', '768.0', '784.0', '812.0', '813.0', '833.0', '843.0', '861.0', '862.0', '865.0', '871.0', '887.0', '898.0', '911.0', '936.0', '939.0', '943.0', '996.0', '1044.0', '1047.0', '1053.0', '1160.0', '1162.0', '1163.0', '1164.0', '1165.0', '1166.0', '1172.0', '1174.0', '1176.0', '1185.0', '1188.0', '1274.0', '1276.0', '1293.0', '1305.0', '1314.0', '1317.0', '1330.0', '1336.0', '1337.0', '1338.0', '1350.0', '1351.0', '1354.0', '1360.0', '1364.0', '1368.0', '1386.0', '1391.0', '1393.0', '1395.0', '1396.0', '1400.0', '1420.0', '1422.0', '1423.0', '1427.0', '1429.0', '1431.0', '1432.0', '1436.0', '151.0', '1282.0', '2.0', '20.0', '33.0', '51.0', '125.0', '130.0', '193.0', '223.0', '224.0', '250.0', '353.0', '440.0', '600.0', '641.0', '933.0', '939.0', '1164.0', '1171.0', '1172.0', '1274.0', '1304.0', '1305.0', '1350.0', '1363.0', '1364.0', '1386.0', '1423.0', '1425.0', '1431.0', '1436.0', '26.0', '151.0', '969.0', '1176.0', '1274.0', '1314.0', '16.0', '18.0', '477.0', '969.0', '1025.0', '1048.0', '1172.0', '1314.0', '1354.0', '1393.0', '1424.0', '1436.0', '16.0', '62.0', '138.0', '462.0', '1054.0', '1141.0', '1304.0', '1330.0', '1336.0', '1364.0', '202.0', '329.0', '383.0', '542.0', '1055.0', '1185.0', '1364.0', '1436.0', '32.0', '34.0', '111.0', '151.0', '223.0', '337.0', '390.0', '616.0', '721.0', '846.0', '1047.0', '1053.0', '1160.0', '1163.0', '1164.0', '1170.0', '1172.0', '1183.0', '1184.0', '1276.0', '1330.0', '1336.0', '1357.0', '1364.0', '1367.0', '1391.0', '1394.0', '1407.0', '1420.0', '1424.0', '1429.0', '1430.0', '1431.0', '1436.0', '1437.0', '162.0', '202.0', '382.0', '460.0', '641.0', '936.0', '1024.0', '1047.0', '1048.0', '12.0', '30.0', '92.0', '151.0', '237.0', '795.0', '812.0', '151.0', '250.0', '415.0', '1017.0', '1184.0', '1432.0', '16.0', '12.0', '33.0', '43.0', '162.0', '213.0', '223.0', '310.0', '359.0', '547.0', '667.0', '813.0', '898.0', '943.0', '1162.0', '1165.0', '1170.0', '1171.0', '1172.0', '1293.0', '1324.0', '1330.0', '1351.0', '1364.0', '1368.0', '1431.0', '1432.0', '12.0', '14.0', '40.0', '74.0', '98.0', '120.0', '151.0', '152.0', '215.0', '223.0', '225.0', '230.0', '310.0', '314.0', '319.0', '349.0', '382.0', '390.0', '475.0', '656.0', '665.0', '723.0', '729.0', '766.0', '825.0', '957.0', '969.0', '1017.0', '1052.0', '1053.0', '1054.0', '1059.0', '1124.0', '1152.0', '1158.0', '1160.0', '1162.0', '1163.0', '1168.0', '1174.0', '1176.0', '1181.0', '1185.0', '1186.0', '1271.0', '1276.0', '1278.0', '1282.0', '1293.0', '1296.0', '1304.0', '1314.0', '1320.0', '1328.0', '1338.0', '1343.0', '1351.0', '1354.0', '1357.0', '1360.0', '1364.0', '1366.0', '1368.0', '1386.0', '1398.0', '1400.0', '1406.0', '1423.0', '1427.0', '1429.0', '1430.0', '1431.0', '1433.0', '1435.0', '1436.0', '146.0', '202.0', '373.0', '8.0', '151.0', '314.0', '969.0', '1396.0', '43.0', '53.0', '101.0', '120.0', '130.0', '132.0', '151.0', '162.0', '223.0', '234.0', '253.0', '260.0', '311.0', '339.0', '352.0', '356.0', '362.0', '367.0', '390.0', '398.0', '444.0', '475.0', '479.0', '482.0', '485.0', '515.0', '566.0', '567.0', '606.0', '722.0', '723.0', '735.0', '795.0', '809.0', '861.0', '865.0', '881.0', '892.0', '939.0', '952.0', '1025.0', '1172.0', '1338.0', '1360.0', '1427.0', '1430.0', '16.0', '482.0', '681.0', '705.0', '1180.0', '1304.0', '1305.0', '1317.0', '1338.0', '1357.0', '1364.0', '1367.0', '1400.0', '1428.0', '1429.0', '1431.0', '1432.0', '1436.0', '108.0', '131.0', '202.0', '1017.0', '1028.0', '1055.0', '1164.0', '1426.0', '1430.0', '1432.0', '33.0', '53.0', '112.0', '124.0', '221.0', '369.0', '382.0', '468.0', '651.0', '681.0', '682.0', '730.0', '805.0', '1008.0', '1054.0', '1055.0', '1165.0', '1176.0', '1198.0', '1257.0', '1274.0', '1277.0', '1286.0', '1304.0', '1305.0', '1314.0', '1317.0', '1329.0', '1343.0', '1360.0', '1364.0', '1366.0', '1395.0', '1400.0', '1423.0', '1428.0', '33.0', '102.0', '142.0', '330.0', '422.0', '882.0', '957.0', '1017.0', '1053.0', '1055.0', '1164.0', '1170.0', '1186.0', '1330.0', '1424.0', '151.0', '729.0', '843.0', '1054.0', '1165.0', '1170.0', '1172.0', '1179.0', '1186.0', '1271.0', '1273.0', '1280.0', '1296.0', '1304.0', '1305.0', '1313.0', '1314.0', '1320.0', '1328.0', '1330.0', '1336.0', '1338.0', '1343.0', '1351.0', '1356.0', '1362.0', '1364.0', '1368.0', '1393.0', '1410.0', '1424.0', '1429.0', '1436.0', '12.0', '16.0', '26.0', '53.0', '57.0', '102.0', '108.0', '109.0', '110.0', '193.0', '215.0', '221.0', '223.0', '236.0', '241.0', '302.0', '314.0', '362.0', '399.0', '412.0', '427.0', '448.0', '464.0', '470.0', '475.0', '477.0', '534.0', '553.0', '607.0', '609.0', '616.0', '618.0', '665.0', '680.0', '681.0', '682.0', '695.0', '729.0', '732.0', '744.0', '766.0', '903.0', '943.0', '969.0', '1047.0', '1162.0', '1163.0', '1166.0', '1171.0', '1172.0', '1181.0', '1271.0', '1304.0', '1305.0', '1307.0', '1314.0', '1317.0', '1338.0', '1354.0', '1364.0', '1367.0', '1368.0', '1405.0', '1409.0', '1416.0', '1420.0', '1423.0', '1427.0', '1430.0', '1436.0', '33.0', '64.0', '108.0', '221.0', '283.0', '315.0', '330.0', '382.0', '508.0', '525.0', '542.0', '622.0', '682.0', '749.0', '865.0', '957.0', '959.0', '1014.0', '1044.0', '1160.0', '1276.0', '1314.0', '1330.0', '1332.0', '1338.0', '1351.0', '1410.0', '34.0', '151.0', '865.0', '876.0', '1024.0', '1185.0', '1330.0', '1338.0', '1364.0', '1368.0', '1394.0', '14.0', '34.0', '111.0', '132.0', '142.0', '173.0', '189.0', '202.0', '302.0', '379.0', '390.0', '415.0', '427.0', '528.0', '542.0', '563.0', '583.0', '593.0', '606.0', '645.0', '692.0', '695.0', '723.0', '809.0', '878.0', '898.0', '943.0', '975.0', '981.0', '1017.0', '1042.0', '1047.0', '1052.0', '1053.0', '1160.0', '1163.0', '1164.0', '1166.0', '1170.0', '1171.0', '1172.0', '1174.0', '1185.0', '1198.0', '1276.0', '1313.0', '1314.0', '1328.0', '1336.0', '1338.0', '1351.0', '1364.0', '1393.0', '1397.0', '1402.0', '1428.0', '1436.0', '33.0', '98.0', '193.0', '237.0', '903.0', '968.0', '981.0', '1014.0', '1055.0', '1141.0', '1165.0', '1172.0', '1176.0', '1185.0', '1221.0', '1314.0', '1336.0', '1354.0', '1367.0', '1368.0', '1395.0', '1423.0', '1429.0', '1431.0', '33.0', '131.0', '422.0', '632.0', '1162.0', '1314.0', '1338.0', '1343.0', '1351.0', '1360.0', '1403.0', '1430.0', '1431.0', '1432.0', '1436.0', '29.0', '39.0', '50.0', '103.0', '164.0', '194.0', '202.0', '237.0', '251.0', '310.0', '681.0', '821.0', '959.0', '1016.0', '1158.0', '1165.0', '1276.0', '1293.0', '1304.0', '1305.0', '1314.0', '1343.0', '1354.0', '1368.0', '1427.0', '1428.0', '1431.0', '98.0', '107.0', '125.0', '151.0', '428.0', '825.0', '1025.0', '1053.0', '1162.0', '1163.0', '1186.0', '1228.0', '1282.0', '1351.0', '16.0', '43.0', '109.0', '120.0', '122.0', '124.0', '164.0', '194.0', '349.0', '622.0', '651.0', '957.0', '965.0', '1055.0', '1060.0', '1070.0', '1071.0', '1073.0', '1139.0', '1157.0', '1170.0', '1172.0', '1185.0', '1271.0', '1274.0', '1276.0', '1314.0', '1324.0', '1328.0', '1330.0', '1336.0', '1351.0', '1360.0', '1364.0', '1420.0', '1422.0', '1426.0', '1429.0', '1431.0', '1434.0', '1437.0', '1439.0', '2.0', '12.0', '14.0', '20.0', '40.0', '43.0', '51.0', '57.0', '74.0', '101.0', '108.0', '110.0', '116.0', '120.0', '124.0', '130.0', '164.0', '173.0', '193.0', '194.0', '202.0', '205.0', '213.0', '263.0', '310.0', '336.0', '349.0', '353.0', '409.0', '462.0', '470.0', '477.0', '491.0', '522.0', '599.0', '645.0', '647.0', '651.0', '658.0', '665.0', '681.0', '684.0', '730.0', '744.0', '766.0', '812.0', '821.0', '825.0', '833.0', '844.0', '855.0', '898.0', '939.0', '969.0', '975.0', '986.0', '1018.0', '1024.0', '1025.0', '1047.0', '1048.0', '1054.0', '1116.0', '1160.0', '1162.0', '1163.0', '1165.0', '1170.0', '1171.0', '1172.0', '1175.0', '1176.0', '1185.0', '1186.0', '1198.0', '1274.0', '1276.0', '1286.0', '1293.0', '1299.0', '1314.0', '1324.0', '1330.0', '1351.0', '1354.0', '1360.0', '1363.0', '1364.0', '1367.0', '1368.0', '1393.0', '1422.0', '1425.0', '1427.0', '1429.0', '1430.0', '1432.0', '20.0', '33.0', '43.0', '68.0', '76.0', '109.0', '116.0', '124.0', '210.0', '232.0', '237.0', '241.0', '268.0', '278.0', '284.0', '315.0', '409.0', '500.0', '600.0', '721.0', '725.0', '855.0', '864.0', '887.0', '1004.0', '1016.0', '1028.0', '1050.0', '1052.0', '1053.0', '1162.0', '1166.0', '1170.0', '1171.0', '1176.0', '1184.0', '1276.0', '1336.0', '1354.0', '1364.0', '1393.0', '1398.0', '1420.0', '1424.0', '1426.0', '1427.0', '1429.0', '1431.0', '12.0', '20.0', '39.0', '51.0', '108.0', '130.0', '151.0', '173.0', '189.0', '369.0', '411.0', '477.0', '495.0', '508.0', '522.0', '542.0', '563.0', '600.0', '641.0', '651.0', '665.0', '681.0', '722.0', '812.0', '821.0', '844.0', '846.0', '906.0', '936.0', '975.0', '1051.0', '1052.0', '1053.0', '1054.0', '1061.0', '1067.0', '1159.0', '1160.0', '1163.0', '1164.0', '1165.0', '1170.0', '1190.0', '1197.0', '1260.0', '1261.0', '1276.0', '1293.0', '1336.0', '1338.0', '1349.0', '1354.0', '1386.0', '1397.0', '1403.0', '1423.0', '1426.0', '1429.0', '1436.0', '1437.0', '8.0', '14.0', '57.0', '92.0', '98.0', '108.0', '111.0', '142.0', '202.0', '349.0', '415.0', '729.0', '795.0', '844.0', '969.0', '1025.0', '1160.0', '1163.0', '1164.0', '1165.0', '1170.0', '1172.0', '1175.0', '1276.0', '1321.0', '1329.0', '1330.0', '1331.0', '1336.0', '1360.0', '1430.0', '1433.0', '1436.0', '1437.0', '14.0', '33.0', '43.0', '109.0', '124.0', '164.0', '194.0', '221.0', '239.0', '254.0', '362.0', '390.0', '494.0', '559.0', '617.0', '684.0', '853.0', '865.0', '880.0', '919.0', '933.0', '943.0', '981.0', '1017.0', '1052.0', '1160.0', '1166.0', '1169.0', '1170.0', '1171.0', '1172.0', '1186.0', '1321.0', '1336.0', '1349.0', '1351.0', '1360.0', '1368.0', '1386.0', '1396.0', '1423.0', '1424.0', '1429.0', '1430.0', '1431.0', '1436.0', '53.0', '151.0', '184.0', '606.0', '681.0', '682.0', '766.0', '1014.0', '1174.0', '1178.0', '1304.0', '1305.0', '1320.0', '1321.0', '1330.0', '1394.0', '1400.0', '1435.0', '33.0', '299.0', '732.0', '1164.0', '1313.0', '142.0', '202.0', '337.0', '732.0', '1162.0', '1368.0', '124.0', '151.0', '323.0', '682.0', '1276.0', '1427.0', '1432.0', '89.0', '108.0', '110.0', '116.0', '151.0', '164.0', '236.0', '244.0', '283.0', '369.0', '422.0', '468.0', '508.0', '647.0', '651.0', '681.0', '682.0', '727.0', '732.0', '764.0', '785.0', '812.0', '933.0', '957.0', '1025.0', '1042.0', '1048.0', '1056.0', '1059.0', '1062.0', '1172.0', '1253.0', '1293.0', '1296.0', '1304.0', '1314.0', '1330.0', '1332.0', '1338.0', '1343.0', '1351.0', '1354.0', '1360.0', '1368.0', '1393.0', '1398.0', '1410.0', '1427.0', '1428.0', '1436.0', '1437.0', '33.0', '92.0', '124.0', '153.0', '260.0', '283.0', '376.0', '448.0', '464.0', '485.0', '647.0', '651.0', '658.0', '681.0', '693.0', '732.0', '919.0', '955.0', '1017.0', '1160.0', '1176.0', '1180.0', '1273.0', '1274.0', '1304.0', '1314.0', '1329.0', '1338.0', '1351.0', '1366.0', '1431.0', '1432.0', '108.0', '151.0', '880.0', '1017.0', '1360.0', '1429.0', '14.0', '16.0', '28.0', '32.0', '40.0', '57.0', '108.0', '109.0', '132.0', '173.0', '251.0', '252.0', '253.0', '263.0', '268.0', '310.0', '353.0', '460.0', '651.0', '658.0', '723.0', '813.0', '864.0', '933.0', '939.0', '975.0', '1024.0', '1044.0', '1314.0', '1430.0', '8.0', '16.0', '34.0', '40.0', '50.0', '53.0', '59.0', '74.0', '92.0', '111.0', '120.0', '152.0', '153.0', '173.0', '181.0', '194.0', '234.0', '253.0', '284.0', '295.0', '313.0', '315.0', '367.0', '379.0', '381.0', '398.0', '415.0', '426.0', '468.0', '485.0', '528.0', '567.0', '583.0', '585.0', '599.0', '606.0', '665.0', '670.0', '681.0', '723.0', '768.0', '784.0', '812.0', '813.0', '833.0', '843.0', '861.0', '862.0', '865.0', '871.0', '887.0', '898.0', '911.0', '936.0', '939.0', '943.0', '996.0', '1044.0', '1047.0', '1053.0', '1160.0', '1162.0', '1163.0', '1164.0', '1165.0', '1166.0', '1172.0', '1174.0', '1176.0', '1185.0', '1188.0', '1274.0', '1276.0', '1293.0', '1305.0', '1314.0', '1317.0', '1330.0', '1336.0', '1337.0', '1338.0', '1350.0', '1351.0', '1354.0', '1360.0', '1364.0', '1368.0', '1386.0', '1391.0', '1393.0', '1395.0', '1396.0', '1400.0', '1420.0', '1422.0', '1423.0', '1427.0', '1429.0', '1431.0', '1432.0', '1436.0', '26.0', '33.0', '40.0', '43.0', '164.0', '284.0', '313.0', '411.0', '422.0', '542.0', '617.0', '1016.0', '1170.0', '1171.0', '1172.0', '1293.0', '1330.0', '1364.0', '1393.0', '1395.0', '1428.0', '1429.0', '1431.0', '1436.0', '28.0', '43.0', '120.0', '136.0', '151.0', '295.0', '409.0', '474.0', '600.0', '632.0', '825.0', '1016.0', '1054.0', '1164.0', '1170.0', '1176.0', '1185.0', '1276.0', '1293.0', '1314.0', '1336.0', '1338.0', '1343.0', '1354.0', '1360.0', '1393.0', '1427.0', '1428.0', '1429.0', '1431.0', '1436.0', '12.0', '29.0', '33.0', '43.0', '74.0', '164.0', '409.0', '460.0', '491.0', '495.0', '645.0', '720.0', '812.0', '957.0', '958.0', '968.0', '977.0', '993.0', '1025.0', '1271.0', '1276.0', '1314.0', '1330.0', '1358.0', '1360.0', '1364.0', '1427.0', '1429.0', '1431.0', '1432.0', '151.0', '415.0', '809.0', '1407.0', '33.0', '57.0', '116.0', '131.0', '162.0', '237.0', '353.0', '400.0', '486.0', '681.0', '759.0', '910.0', '962.0', '969.0', '1048.0', '1160.0', '1165.0', '1166.0', '1170.0', '1171.0', '1172.0', '1293.0', '1317.0', '1336.0', '1343.0', '1350.0', '1354.0', '1360.0', '1426.0', '1427.0', '1429.0', '124.0', '151.0', '173.0', '782.0', '881.0', '943.0', '1164.0', '1165.0', '1166.0', '1171.0', '1274.0', '1282.0', '1293.0', '1317.0', '1320.0', '1330.0', '1343.0', '1351.0', '1354.0', '1393.0', '151.0', '759.0', '1170.0', '32.0', '34.0', '111.0', '151.0', '223.0', '337.0', '390.0', '616.0', '721.0', '723.0', '846.0', '1047.0', '1053.0', '1160.0', '1163.0', '1164.0', '1170.0', '1172.0', '1183.0', '1184.0', '1276.0', '1330.0', '1336.0', '1357.0', '1364.0', '1367.0', '1391.0', '1394.0', '1407.0', '1420.0', '1424.0', '1429.0', '1430.0', '1431.0', '1436.0', '1437.0', '151.0', '162.0', '486.0', '542.0', '645.0', '692.0', '1198.0', '1304.0', '1368.0', '1430.0', '1436.0', '14.0', '51.0', '53.0', '102.0', '108.0', '116.0', '120.0', '122.0', '145.0', '153.0', '162.0', '202.0', '221.0', '240.0', '349.0', '448.0', '465.0', '542.0', '600.0', '617.0', '641.0', '681.0', '813.0', '903.0', '1025.0', '1052.0', '1054.0', '1060.0', '1160.0', '1162.0', '1164.0', '1170.0', '1171.0', '1172.0', '1174.0', '1176.0', '1185.0', '1254.0', '1277.0', '1293.0', '1314.0', '1321.0', '1324.0', '1330.0', '1332.0', '1343.0', '1360.0', '1364.0', '1393.0', '1394.0', '1395.0', '1409.0', '1422.0', '1423.0', '1426.0', '1427.0', '1429.0', '1430.0', '1431.0', '1436.0', '1437.0', '98.0', '103.0', '108.0', '110.0', '131.0', '158.0', '189.0', '202.0', '263.0', '283.0', '415.0', '564.0', '617.0', '684.0', '764.0', '821.0', '844.0', '933.0', '955.0', '965.0', '1017.0', '1044.0', '1055.0', '1056.0', '1057.0', '1060.0', '1160.0', '1163.0', '1164.0', '1165.0', '1166.0', '1330.0', '1332.0', '1336.0', '1360.0', '1367.0', '1403.0', '1430.0', '1431.0', '1436.0', '12.0', '43.0', '111.0', '124.0', '151.0', '193.0', '260.0', '464.0', '655.0', '732.0', '788.0', '1017.0', '1138.0', '1160.0', '1162.0', '1165.0', '1166.0', '1176.0', '1271.0', '1296.0', '1314.0', '1320.0', '1338.0', '1351.0', '1354.0', '1357.0', '1364.0', '1367.0', '1398.0', '1400.0', '1405.0', '1436.0', '43.0', '116.0', '130.0', '151.0', '153.0', '221.0', '260.0', '336.0', '369.0', '465.0', '600.0', '641.0', '647.0', '730.0', '732.0', '788.0', '1017.0', '1048.0', '1052.0', '1163.0', '1165.0', '1166.0', '1314.0', '1336.0', '1364.0', '1423.0', '1427.0', '1430.0']\n"
     ]
    }
   ],
   "source": [
    "similar_user_articles=sum(similar_user_articles_lists,[])\n",
    "print(similar_user_articles)\n",
    "#prints [0,4,6,9,7,4]"
   ]
  },
  {
   "cell_type": "code",
   "execution_count": 419,
   "metadata": {},
   "outputs": [],
   "source": [
    "rec=[]\n",
    "\n",
    "for article in similar_user_articles:\n",
    "    if article not in seen_articles:\n",
    "         rec.append(article)"
   ]
  },
  {
   "cell_type": "code",
   "execution_count": 421,
   "metadata": {
    "scrolled": true
   },
   "outputs": [
    {
     "name": "stdout",
     "output_type": "stream",
     "text": [
      "['16.0', '33.0', '76.0', '164.0', '194.0', '213.0', '237.0', '260.0', '268.0', '278.0', '283.0', '422.0', '480.0', '557.0', '618.0', '730.0', '744.0', '968.0', '1014.0', '1025.0', '1044.0', '1048.0', '1277.0', '20.0', '33.0', '34.0', '68.0', '110.0', '124.0', '189.0', '202.0', '240.0', '263.0', '268.0', '359.0', '415.0', '444.0', '462.0', '525.0', '542.0', '645.0', '681.0', '684.0', '692.0', '720.0', '812.0', '821.0', '878.0', '965.0', '967.0', '975.0', '1006.0', '1014.0', '1047.0', '1050.0', '1055.0', '1056.0', '1137.0', '1154.0', '1170.0', '1171.0', '1172.0', '1263.0', '1330.0', '1336.0', '1394.0', '1395.0', '16.0', '26.0', '32.0', '43.0', '51.0', '64.0', '78.0', '109.0', '116.0', '124.0', '202.0', '260.0', '288.0', '381.0', '477.0', '547.0', '593.0', '975.0', '1025.0', '1048.0', '1393.0', '1394.0', '1432.0', '20.0', '33.0', '34.0', '68.0', '110.0', '124.0', '189.0', '202.0', '240.0', '263.0', '268.0', '353.0', '359.0', '415.0', '444.0', '462.0', '525.0', '542.0', '645.0', '681.0', '684.0', '692.0', '720.0', '812.0', '821.0', '878.0', '965.0', '967.0', '975.0', '1006.0', '1014.0', '1047.0', '1050.0', '1055.0', '1056.0', '1137.0', '1154.0', '1170.0', '1171.0', '1172.0', '1263.0', '1330.0', '1336.0', '1394.0', '1395.0', '8.0', '33.0', '110.0', '125.0', '202.0', '268.0', '295.0', '422.0', '673.0', '681.0', '882.0', '1178.0', '1332.0', '33.0', '124.0', '194.0', '202.0', '210.0', '448.0', '470.0', '524.0', '795.0', '864.0', '990.0', '1170.0', '33.0', '124.0', '125.0', '194.0', '202.0', '448.0', '470.0', '524.0', '617.0', '795.0', '864.0', '990.0', '1048.0', '1170.0', '16.0', '33.0', '76.0', '164.0', '194.0', '213.0', '237.0', '260.0', '268.0', '278.0', '283.0', '422.0', '480.0', '557.0', '618.0', '730.0', '744.0', '968.0', '1014.0', '1025.0', '1044.0', '1048.0', '1277.0', '33.0', '110.0', '125.0', '202.0', '268.0', '295.0', '422.0', '673.0', '681.0', '882.0', '1178.0', '1332.0', '16.0', '43.0', '124.0', '260.0', '510.0', '757.0', '795.0', '898.0', '1028.0', '1143.0', '1166.0', '1367.0', '1403.0', '1416.0', '1424.0', '1426.0', '16.0', '26.0', '32.0', '43.0', '51.0', '64.0', '78.0', '109.0', '116.0', '124.0', '260.0', '288.0', '381.0', '477.0', '547.0', '593.0', '975.0', '1025.0', '1048.0', '1393.0', '1394.0', '1432.0', '16.0', '1330.0', '20.0', '116.0', '202.0', '260.0', '373.0', '525.0', '1184.0', '1336.0', '33.0', '202.0', '50.0', '78.0', '109.0', '124.0', '125.0', '202.0', '210.0', '330.0', '600.0', '682.0', '730.0', '975.0', '1025.0', '1286.0', '1330.0', '1391.0', '1424.0', '18.0', '32.0', '33.0', '162.0', '202.0', '237.0', '241.0', '260.0', '263.0', '350.0', '381.0', '409.0', '415.0', '426.0', '593.0', '607.0', '610.0', '730.0', '764.0', '864.0', '903.0', '1016.0', '1042.0', '1178.0', '1183.0', '1299.0', '1336.0', '1363.0', '1387.0', '1439.0', '33.0', '283.0', '422.0', '464.0', '600.0', '725.0', '821.0', '882.0', '1044.0', '1232.0', '1336.0', '202.0', '1120.0', '1263.0', '1332.0', '1404.0', '1416.0', '1432.0', '16.0', '43.0', '124.0', '260.0', '510.0', '757.0', '795.0', '898.0', '1028.0', '1143.0', '1166.0', '1367.0', '1403.0', '1416.0', '1424.0', '1426.0', '16.0', '20.0', '191.0', '194.0', '241.0', '260.0', '268.0', '524.0', '559.0', '600.0', '730.0', '864.0', '933.0', '1016.0', '1025.0', '1028.0', '1048.0', '1165.0', '1274.0', '1305.0', '1350.0', '1395.0', '26.0', '33.0', '124.0', '544.0', '16.0', '18.0', '369.0', '477.0', '1025.0', '1048.0', '1172.0', '1393.0', '1424.0', '33.0', '108.0', '189.0', '617.0', '681.0', '959.0', '1047.0', '65.0', '108.0', '110.0', '202.0', '241.0', '260.0', '369.0', '542.0', '681.0', '892.0', '1014.0', '16.0', '20.0', '191.0', '194.0', '241.0', '253.0', '260.0', '268.0', '524.0', '559.0', '600.0', '730.0', '864.0', '933.0', '1016.0', '1025.0', '1028.0', '1165.0', '1274.0', '1305.0', '1350.0', '1395.0', '173.0', '189.0', '202.0', '369.0', '528.0', '600.0', '795.0', '26.0', '33.0', '124.0', '544.0', '16.0', '26.0', '28.0', '116.0', '131.0', '138.0', '146.0', '260.0', '381.0', '462.0', '525.0', '618.0', '645.0', '692.0', '788.0', '833.0', '962.0', '1336.0', '1403.0', '202.0', '398.0', '486.0', '658.0', '809.0', '1055.0', '1170.0', '1336.0', '1424.0', '33.0', '283.0', '422.0', '464.0', '600.0', '725.0', '821.0', '882.0', '1044.0', '1232.0', '1336.0', '1369.0', '33.0', '51.0', '54.0', '124.0', '142.0', '189.0', '202.0', '237.0', '241.0', '278.0', '302.0', '337.0', '524.0', '618.0', '864.0', '871.0', '975.0', '1016.0', '1048.0', '1060.0', '1164.0', '1184.0', '1298.0', '1332.0', '1390.0', '1409.0', '1432.0', '20.0', '26.0', '33.0', '43.0', '116.0', '124.0', '164.0', '194.0', '241.0', '260.0', '268.0', '278.0', '316.0', '600.0', '744.0', '812.0', '882.0', '891.0', '951.0', '1035.0', '1048.0', '1170.0', '1171.0', '1172.0', '1330.0', '1336.0', '202.0', '1120.0', '1263.0', '1332.0', '1404.0', '1416.0', '1432.0', '202.0', '398.0', '486.0', '658.0', '681.0', '809.0', '1055.0', '1170.0', '1336.0', '1424.0', '20.0', '26.0', '33.0', '43.0', '116.0', '124.0', '194.0', '241.0', '260.0', '268.0', '278.0', '316.0', '600.0', '744.0', '812.0', '882.0', '891.0', '1035.0', '1048.0', '1170.0', '1171.0', '1172.0', '1330.0', '1336.0', '33.0', '108.0', '173.0', '189.0', '617.0', '681.0', '959.0', '29.0', '33.0', '43.0', '51.0', '109.0', '111.0', '130.0', '142.0', '153.0', '162.0', '221.0', '232.0', '237.0', '244.0', '253.0', '273.0', '302.0', '315.0', '316.0', '347.0', '379.0', '415.0', '464.0', '468.0', '491.0', '547.0', '607.0', '609.0', '692.0', '730.0', '761.0', '763.0', '813.0', '857.0', '858.0', '876.0', '880.0', '933.0', '939.0', '967.0', '981.0', '990.0', '1014.0', '1157.0', '1164.0', '1172.0', '1305.0', '1330.0', '1332.0', '1336.0', '1367.0', '1396.0', '1422.0', '1432.0', '16.0', '26.0', '116.0', '124.0', '131.0', '138.0', '146.0', '260.0', '381.0', '462.0', '525.0', '618.0', '634.0', '645.0', '692.0', '788.0', '833.0', '962.0', '1336.0', '1403.0', '20.0', '116.0', '202.0', '260.0', '373.0', '525.0', '812.0', '1184.0', '1336.0', '28.0', '33.0', '51.0', '107.0', '124.0', '142.0', '189.0', '202.0', '237.0', '241.0', '278.0', '302.0', '337.0', '524.0', '618.0', '864.0', '871.0', '975.0', '1016.0', '1048.0', '1060.0', '1164.0', '1184.0', '1298.0', '1332.0', '1390.0', '1409.0', '1432.0', '2.0', '16.0', '26.0', '28.0', '29.0', '33.0', '43.0', '50.0', '76.0', '108.0', '109.0', '124.0', '131.0', '164.0', '193.0', '194.0', '210.0', '213.0', '221.0', '236.0', '237.0', '241.0', '252.0', '253.0', '283.0', '295.0', '299.0', '302.0', '316.0', '336.0', '337.0', '339.0', '348.0', '359.0', '362.0', '367.0', '409.0', '422.0', '444.0', '477.0', '482.0', '510.0', '517.0', '524.0', '617.0', '634.0', '641.0', '658.0', '682.0', '693.0', '720.0', '721.0', '744.0', '761.0', '800.0', '812.0', '821.0', '833.0', '843.0', '887.0', '910.0', '939.0', '943.0', '952.0', '967.0', '973.0', '981.0', '996.0', '1000.0', '1014.0', '1025.0', '1051.0', '1101.0', '1148.0', '1159.0', '1164.0', '1165.0', '1166.0', '1170.0', '1171.0', '1172.0', '1277.0', '1291.0', '1298.0', '1299.0', '1305.0', '1330.0', '1332.0', '1336.0', '1367.0', '1391.0', '1393.0', '1395.0', '1396.0', '1428.0', '1432.0', '1439.0', '8.0', '33.0', '110.0', '113.0', '124.0', '125.0', '131.0', '136.0', '189.0', '210.0', '239.0', '260.0', '268.0', '409.0', '440.0', '444.0', '547.0', '557.0', '593.0', '599.0', '645.0', '658.0', '677.0', '682.0', '692.0', '725.0', '788.0', '795.0', '882.0', '891.0', '919.0', '955.0', '1015.0', '1164.0', '1330.0', '1395.0', '1416.0', '1422.0', '1424.0', '1425.0', '8.0', '33.0', '110.0', '113.0', '124.0', '125.0', '131.0', '136.0', '189.0', '210.0', '239.0', '260.0', '268.0', '409.0', '440.0', '444.0', '547.0', '557.0', '593.0', '599.0', '645.0', '658.0', '677.0', '682.0', '692.0', '725.0', '788.0', '795.0', '882.0', '891.0', '919.0', '955.0', '1015.0', '1164.0', '1330.0', '1395.0', '1416.0', '1422.0', '1424.0', '1425.0', '18.0', '32.0', '33.0', '162.0', '202.0', '237.0', '241.0', '260.0', '263.0', '350.0', '381.0', '409.0', '415.0', '426.0', '593.0', '607.0', '610.0', '730.0', '764.0', '864.0', '903.0', '1016.0', '1042.0', '1178.0', '1183.0', '1299.0', '1336.0', '1363.0', '1387.0', '1439.0', '65.0', '108.0', '110.0', '202.0', '241.0', '260.0', '369.0', '542.0', '681.0', '892.0', '1014.0', '173.0', '189.0', '202.0', '369.0', '528.0', '600.0', '795.0', '2.0', '16.0', '26.0', '28.0', '29.0', '33.0', '43.0', '50.0', '76.0', '108.0', '109.0', '124.0', '131.0', '164.0', '193.0', '194.0', '210.0', '213.0', '221.0', '236.0', '237.0', '241.0', '252.0', '253.0', '283.0', '295.0', '299.0', '302.0', '316.0', '336.0', '337.0', '339.0', '348.0', '359.0', '362.0', '367.0', '409.0', '422.0', '444.0', '477.0', '482.0', '510.0', '517.0', '524.0', '617.0', '634.0', '641.0', '658.0', '682.0', '693.0', '720.0', '721.0', '744.0', '761.0', '800.0', '812.0', '821.0', '833.0', '843.0', '910.0', '939.0', '943.0', '952.0', '967.0', '973.0', '981.0', '996.0', '1000.0', '1014.0', '1025.0', '1051.0', '1101.0', '1148.0', '1159.0', '1164.0', '1165.0', '1166.0', '1170.0', '1171.0', '1172.0', '1277.0', '1291.0', '1298.0', '1299.0', '1305.0', '1330.0', '1332.0', '1336.0', '1367.0', '1391.0', '1393.0', '1395.0', '1396.0', '1428.0', '1432.0', '1439.0', '29.0', '33.0', '43.0', '51.0', '109.0', '111.0', '130.0', '142.0', '153.0', '162.0', '221.0', '232.0', '237.0', '244.0', '253.0', '273.0', '302.0', '315.0', '316.0', '379.0', '415.0', '464.0', '468.0', '491.0', '547.0', '607.0', '609.0', '692.0', '730.0', '761.0', '763.0', '813.0', '857.0', '858.0', '876.0', '880.0', '933.0', '939.0', '967.0', '981.0', '990.0', '1014.0', '1157.0', '1164.0', '1172.0', '1305.0', '1330.0', '1332.0', '1336.0', '1367.0', '1396.0', '1422.0', '1432.0', '43.0', '236.0', '379.0', '415.0', '645.0', '813.0', '1164.0', '1330.0', '1336.0', '124.0', '125.0', '462.0', '464.0', '812.0', '33.0', '1432.0', '124.0', '33.0', '101.0', '103.0', '125.0', '193.0', '240.0', '263.0', '510.0', '563.0', '600.0', '821.0', '1016.0', '1025.0', '1432.0', '251.0', '268.0', '311.0', '359.0', '525.0', '528.0', '641.0', '684.0', '735.0', '768.0', '910.0', '1172.0', '1279.0', '1305.0', '1336.0', '1393.0', '1395.0', '193.0', '213.0', '462.0', '865.0', '903.0', '260.0', '1014.0', '39.0', '51.0', '205.0', '210.0', '237.0', '477.0', '721.0', '812.0', '1024.0', '1170.0', '1171.0', '16.0', '1330.0', '795.0', '33.0', '369.0', '109.0', '124.0', '369.0', '593.0', '933.0', '0.0', '33.0', '868.0', '30.0', '237.0', '260.0', '682.0', '795.0', '812.0', '16.0', '108.0', '116.0', '158.0', '241.0', '283.0', '593.0', '844.0', '1044.0', '1166.0', '1420.0', '16.0', '43.0', '51.0', '241.0', '16.0', '26.0', '28.0', '29.0', '57.0', '103.0', '109.0', '125.0', '268.0', '477.0', '485.0', '681.0', '933.0', '26.0', '33.0', '330.0', '477.0', '744.0', '882.0', '1016.0', '65.0', '124.0', '138.0', '260.0', '600.0', '645.0', '809.0', '933.0', '962.0', '1166.0', '1170.0', '1330.0', '1336.0', '1391.0', '39.0', '202.0', '241.0', '268.0', '462.0', '525.0', '585.0', '809.0', '975.0', '1042.0', '1189.0', '1330.0', '1356.0', '1362.0', '1393.0', '1424.0', '16.0', '34.0', '51.0', '76.0', '125.0', '164.0', '336.0', '491.0', '559.0', '833.0', '861.0', '1047.0', '1324.0', '1332.0', '1432.0', '18.0', '33.0', '645.0', '962.0', '43.0', '109.0', '268.0', '329.0', '346.0', '494.0', '525.0', '585.0', '626.0', '668.0', '732.0', '768.0', '910.0', '968.0', '981.0', '1170.0', '1183.0', '1232.0', '1305.0', '1363.0', '1391.0', '1439.0', '43.0', '510.0', '2.0', '50.0', '369.0', '440.0', '593.0', '617.0', '740.0', '809.0', '861.0', '985.0', '1317.0', '1330.0', '1416.0', '1420.0', '92.0', '346.0', '525.0', '768.0', '33.0', '51.0', '122.0', '263.0', '355.0', '409.0', '426.0', '693.0', '764.0', '821.0', '910.0', '930.0', '958.0', '1050.0', '647.0', '260.0', '795.0', '959.0', '673.0', '958.0', '996.0', '1057.0', '1142.0', '1165.0', '1172.0', '1180.0', '1184.0', '1280.0', '1336.0', '1387.0', '1330.0', '202.0', '782.0', '933.0', '941.0', '1042.0', '1332.0', '1166.0', '373.0', '673.0', '732.0', '958.0', '1273.0', '1299.0', '122.0', '542.0', '768.0', '669.0', '33.0', '1164.0', '1165.0', '1183.0', '33.0', '122.0', '1439.0', '33.0', '122.0', '250.0', '313.0', '415.0', '444.0', '732.0', '805.0', '812.0', '1035.0', '1172.0', '1405.0', '202.0', '1060.0', '1159.0', '1290.0', '1292.0', '244.0', '16.0', '241.0', '268.0', '369.0', '593.0', '1044.0', '109.0', '1172.0', '761.0', '202.0', '260.0', '795.0', '16.0', '547.0', '16.0', '43.0', '122.0', '250.0', '260.0', '910.0', '1048.0', '1055.0', '1420.0', '33.0', '415.0', '795.0', '1191.0', '865.0', '16.0', '409.0', '16.0', '415.0', '647.0', '749.0', '1025.0', '1332.0', '39.0', '116.0', '224.0', '508.0', '681.0', '722.0', '809.0', '1024.0', '1025.0', '1047.0', '464.0', '788.0', '795.0', '18.0', '43.0', '109.0', '164.0', '241.0', '465.0', '559.0', '1336.0', '1050.0', '20.0', '647.0', '673.0', '409.0', '600.0', '788.0', '812.0', '1170.0', '202.0', '600.0', '714.0', '939.0', '1425.0', '33.0', '110.0', '681.0', '939.0', '108.0', '865.0', '977.0', '1025.0', '1169.0', '1187.0', '1263.0', '1358.0', '1397.0', '1414.0', '1415.0', '1434.0', '18.0', '32.0', '109.0', '116.0', '191.0', '210.0', '1014.0', '1016.0', '202.0', '237.0', '409.0', '477.0', '569.0', '593.0', '600.0', '651.0', '744.0', '758.0', '764.0', '800.0', '935.0', '936.0', '948.0', '1035.0', '1050.0', '1164.0', '1350.0', '1391.0', '1395.0', '1428.0', '20.0', '33.0', '68.0', '110.0', '124.0', '176.0', '194.0', '313.0', '316.0', '444.0', '542.0', '812.0', '821.0', '844.0', '855.0', '962.0', '967.0', '1050.0', '1055.0', '1057.0', '1068.0', '1120.0', '1164.0', '1172.0', '1199.0', '1274.0', '1336.0', '1425.0', '122.0', '268.0', '316.0', '462.0', '684.0', '1024.0', '1324.0', '1330.0', '1428.0', '15.0', '33.0', '109.0', '422.0', '515.0', '651.0', '681.0', '684.0', '744.0', '990.0', '1018.0', '1055.0', '1393.0', '28.0', '32.0', '43.0', '162.0', '191.0', '295.0', '462.0', '681.0', '788.0', '1024.0', '1171.0', '1332.0', '1367.0', '162.0', '329.0', '336.0', '415.0', '20.0', '593.0', '1336.0', '202.0', '411.0', '600.0', '681.0', '191.0', '959.0', '1177.0', '1321.0', '1330.0', '108.0', '336.0', '477.0', '547.0', '645.0', '744.0', '812.0', '1391.0', '1395.0', '1428.0', '101.0', '288.0', '470.0', '542.0', '645.0', '812.0', '967.0', '1305.0', '1332.0', '1361.0', '1418.0', '1432.0', '8.0', '20.0', '33.0', '131.0', '617.0', '1018.0', '103.0', '125.0', '136.0', '202.0', '547.0', '692.0', '795.0', '43.0', '109.0', '124.0', '164.0', '260.0', '898.0', '1164.0', '1170.0', '1171.0', '1172.0', '1332.0', '1391.0', '1432.0', '1317.0', '1330.0', '1391.0', '8.0', '33.0', '288.0', '440.0', '600.0', '903.0', '1016.0', '260.0', '813.0', '1305.0', '20.0', '78.0', '1025.0', '1050.0', '1393.0', '1416.0', '30.0', '115.0', '448.0', '681.0', '730.0', '795.0', '996.0', '20.0', '39.0', '43.0', '51.0', '57.0', '116.0', '124.0', '125.0', '260.0', '369.0', '593.0', '600.0', '844.0', '959.0', '1025.0', '1050.0', '1166.0', '1336.0', '116.0', '241.0', '617.0', '1048.0', '1330.0', '1350.0', '1391.0', '116.0', '124.0', '213.0', '251.0', '316.0', '336.0', '409.0', '1025.0', '1080.0', '1166.0', '1170.0', '1171.0', '1330.0', '33.0', '124.0', '1024.0', '43.0', '50.0', '78.0', '107.0', '109.0', '132.0', '136.0', '158.0', '194.0', '237.0', '241.0', '258.0', '283.0', '303.0', '316.0', '362.0', '409.0', '420.0', '440.0', '470.0', '525.0', '544.0', '585.0', '622.0', '682.0', '695.0', '722.0', '795.0', '821.0', '833.0', '844.0', '846.0', '865.0', '868.0', '891.0', '898.0', '939.0', '990.0', '1035.0', '1055.0', '1149.0', '1165.0', '1184.0', '1274.0', '1330.0', '1332.0', '1337.0', '1367.0', '1412.0', '8.0', '109.0', '124.0', '237.0', '462.0', '547.0', '761.0', '855.0', '53.0', '369.0', '926.0', '959.0', '1025.0', '1164.0', '1177.0', '1178.0', '164.0', '260.0', '462.0', '732.0', '1434.0', '43.0', '51.0', '101.0', '131.0', '138.0', '162.0', '193.0', '202.0', '224.0', '329.0', '510.0', '645.0', '684.0', '795.0', '868.0', '962.0', '981.0', '1014.0', '1016.0', '1028.0', '1274.0', '1432.0', '1437.0', '113.0', '202.0', '221.0', '291.0', '462.0', '485.0', '495.0', '588.0', '975.0', '1324.0', '1330.0', '1409.0', '20.0', '33.0', '53.0', '162.0', '232.0', '659.0', '669.0', '951.0', '1170.0', '369.0', '525.0', '1367.0', '1410.0', '53.0', '109.0', '153.0', '164.0', '193.0', '205.0', '311.0', '415.0', '464.0', '477.0', '482.0', '508.0', '593.0', '732.0', '812.0', '1047.0', '1058.0', '1060.0', '1079.0', '1143.0', '1150.0', '1166.0', '1189.0', '1191.0', '1195.0', '1198.0', '1219.0', '1280.0', '1313.0', '1330.0', '1331.0', '1356.0', '1362.0', '1401.0', '1402.0', '1403.0', '1404.0', '1405.0', '1407.0', '1409.0', '1410.0', '1412.0', '1418.0', '1424.0', '33.0', '189.0', '270.0', '400.0', '415.0', '525.0', '632.0', '695.0', '732.0', '795.0', '891.0', '1286.0', '1424.0', '57.0', '158.0', '213.0', '273.0', '415.0', '482.0', '668.0', '692.0', '749.0', '955.0', '968.0', '1047.0', '1170.0', '1171.0', '1172.0', '1177.0', '1324.0', '1395.0', '1420.0', '600.0', '1016.0', '131.0', '202.0', '911.0', '981.0', '1437.0', '34.0', '51.0', '202.0', '250.0', '415.0', '678.0', '720.0', '887.0', '1170.0', '1359.0', '109.0', '164.0', '278.0', '369.0', '422.0', '470.0', '479.0', '593.0', '669.0', '673.0', '905.0', '1305.0', '16.0', '138.0', '462.0', '1141.0', '1330.0', '1336.0', '1428.0', '43.0', '109.0', '164.0', '415.0', '542.0', '641.0', '865.0', '28.0', '103.0', '116.0', '446.0', '933.0', '1056.0', '1313.0', '1425.0', '164.0', '887.0', '898.0', '1050.0', '1305.0', '1422.0', '2.0', '8.0', '68.0', '103.0', '143.0', '181.0', '193.0', '202.0', '205.0', '237.0', '329.0', '383.0', '491.0', '510.0', '524.0', '542.0', '600.0', '617.0', '692.0', '764.0', '795.0', '812.0', '821.0', '833.0', '878.0', '935.0', '941.0', '996.0', '1006.0', '1030.0', '1038.0', '1050.0', '1165.0', '1170.0', '1171.0', '1305.0', '1336.0', '1350.0', '1426.0', '20.0', '51.0', '101.0', '193.0', '240.0', '329.0', '353.0', '525.0', '645.0', '759.0', '821.0', '833.0', '911.0', '975.0', '1025.0', '1166.0', '1170.0', '1308.0', '1330.0', '2.0', '20.0', '33.0', '51.0', '125.0', '130.0', '193.0', '224.0', '250.0', '353.0', '440.0', '557.0', '600.0', '641.0', '933.0', '939.0', '1164.0', '1171.0', '1172.0', '1274.0', '1305.0', '1350.0', '1363.0', '1425.0', '462.0', '18.0', '33.0', '101.0', '109.0', '124.0', '125.0', '193.0', '194.0', '241.0', '260.0', '462.0', '593.0', '725.0', '833.0', '1028.0', '1044.0', '1047.0', '470.0', '1274.0', '33.0', '399.0', '641.0', '667.0', '1164.0', '1171.0', '1330.0', '1334.0', '348.0', '1047.0', '1048.0', '116.0', '415.0', '692.0', '843.0', '910.0', '16.0', '124.0', '193.0', '1028.0', '194.0', '375.0', '444.0', '681.0', '16.0', '32.0', '348.0', '1330.0', '125.0', '933.0', '33.0', '593.0', '1014.0', '250.0', '669.0', '1170.0', '1332.0', '39.0', '138.0', '145.0', '202.0', '237.0', '241.0', '253.0', '350.0', '362.0', '398.0', '444.0', '486.0', '528.0', '567.0', '645.0', '669.0', '730.0', '795.0', '846.0', '975.0', '1164.0', '1277.0', '1437.0', '1443.0', '131.0', '189.0', '260.0', '288.0', '379.0', '542.0', '730.0', '795.0', '1164.0', '1305.0', '1330.0', '1391.0', '1394.0', '1395.0', '33.0', '422.0', '1336.0', '1426.0', '33.0', '34.0', '51.0', '78.0', '761.0', '884.0', '1172.0', '1394.0', '15.0', '20.0', '353.0', '515.0', '593.0', '651.0', '18.0', '241.0', '508.0', '1141.0', '1157.0', '1330.0', '1394.0', '1434.0', '68.0', '213.0', '1428.0', '1434.0', '29.0', '33.0', '651.0', '761.0', '882.0', '910.0', '1172.0', '1420.0', '1426.0', '600.0', '760.0', '795.0', '20.0', '43.0', '462.0', '57.0', '213.0', '232.0', '240.0', '260.0', '462.0', '1044.0', '1164.0', '1324.0', '34.0', '43.0', '57.0', '116.0', '250.0', '339.0', '415.0', '542.0', '600.0', '609.0', '669.0', '843.0', '1165.0', '1336.0', '143.0', '189.0', '193.0', '239.0', '369.0', '464.0', '508.0', '542.0', '593.0', '600.0', '764.0', '795.0', '812.0', '1028.0', '1050.0', '1336.0', '124.0', '20.0', '124.0', '164.0', '213.0', '237.0', '260.0', '316.0', '355.0', '600.0', '681.0', '763.0', '812.0', '1164.0', '1170.0', '68.0', '108.0', '241.0', '477.0', '522.0', '593.0', '600.0', '853.0', '865.0', '958.0', '1014.0', '1042.0', '1050.0', '1164.0', '1290.0', '1336.0', '1394.0', '33.0', '43.0', '110.0', '131.0', '684.0', '162.0', '16.0', '189.0', '1391.0', '1416.0', '593.0', '232.0', '260.0', '910.0', '542.0', '1165.0', '1170.0', '2.0', '8.0', '32.0', '43.0', '50.0', '237.0', '251.0', '288.0', '369.0', '593.0', '864.0', '8.0', '20.0', '103.0', '116.0', '124.0', '125.0', '136.0', '164.0', '193.0', '194.0', '241.0', '268.0', '278.0', '288.0', '329.0', '362.0', '369.0', '448.0', '477.0', '485.0', '491.0', '510.0', '547.0', '585.0', '593.0', '600.0', '647.0', '684.0', '692.0', '833.0', '943.0', '948.0', '977.0', '1025.0', '1056.0', '1057.0', '1060.0', '1165.0', '1166.0', '1183.0', '1252.0', '1274.0', '1330.0', '1336.0', '1367.0', '1391.0', '1393.0', '1403.0', '1422.0', '1428.0', '369.0', '464.0', '593.0', '600.0', '32.0', '39.0', '107.0', '109.0', '124.0', '125.0', '260.0', '268.0', '369.0', '462.0', '588.0', '593.0', '600.0', '681.0', '730.0', '932.0', '933.0', '1014.0', '1025.0', '1044.0', '1178.0', '1391.0', '16.0', '51.0', '237.0', '641.0', '1330.0', '1332.0', '1362.0', '1432.0', '124.0', '237.0', '369.0', '464.0', '477.0', '1030.0', '202.0', '369.0', '542.0', '645.0', '764.0', '113.0', '124.0', '125.0', '260.0', '268.0', '600.0', '990.0', '1044.0', '1428.0', '57.0', '108.0', '116.0', '202.0', '239.0', '315.0', '316.0', '329.0', '411.0', '415.0', '444.0', '462.0', '464.0', '485.0', '641.0', '680.0', '749.0', '761.0', '865.0', '943.0', '1044.0', '973.0', '68.0', '202.0', '316.0', '329.0', '383.0', '542.0', '1055.0', '20.0', '353.0', '515.0', '593.0', '96.0', '122.0', '250.0', '313.0', '415.0', '444.0', '732.0', '805.0', '812.0', '1035.0', '1172.0', '1405.0', '18.0', '32.0', '109.0', '116.0', '210.0', '1014.0', '1016.0', '16.0', '189.0', '1391.0', '1416.0', '33.0', '193.0', '237.0', '903.0', '968.0', '981.0', '1014.0', '1055.0', '1141.0', '1165.0', '1172.0', '1221.0', '1336.0', '1367.0', '1395.0', '158.0', '260.0', '33.0', '16.0', '26.0', '28.0', '29.0', '103.0', '109.0', '125.0', '213.0', '268.0', '477.0', '485.0', '681.0', '933.0', '33.0', '880.0', '1050.0', '33.0', '92.0', '124.0', '153.0', '260.0', '283.0', '376.0', '448.0', '485.0', '647.0', '651.0', '658.0', '681.0', '693.0', '732.0', '919.0', '955.0', '1180.0', '1273.0', '1274.0', '1329.0', '1432.0', '43.0', '60.0', '1165.0', '1170.0', '18.0', '26.0', '43.0', '108.0', '193.0', '202.0', '237.0', '617.0', '933.0', '939.0', '996.0', '1183.0', '1317.0', '373.0', '673.0', '732.0', '958.0', '1273.0', '1299.0', '57.0', '108.0', '116.0', '202.0', '239.0', '315.0', '316.0', '329.0', '411.0', '415.0', '444.0', '462.0', '464.0', '485.0', '641.0', '680.0', '865.0', '943.0', '1044.0', '131.0', '189.0', '260.0', '288.0', '379.0', '542.0', '730.0', '795.0', '1305.0', '1330.0', '1391.0', '1394.0', '1395.0', '250.0', '669.0', '1170.0', '1332.0', '202.0', '16.0', '53.0', '184.0', '606.0', '681.0', '682.0', '1014.0', '1178.0', '1305.0', '1321.0', '1394.0', '103.0', '108.0', '110.0', '131.0', '158.0', '189.0', '202.0', '263.0', '283.0', '415.0', '564.0', '617.0', '764.0', '821.0', '844.0', '933.0', '955.0', '965.0', '1044.0', '1055.0', '1056.0', '1057.0', '1060.0', '1164.0', '1165.0', '1166.0', '1330.0', '1332.0', '1336.0', '1367.0', '1403.0', '33.0', '60.0', '189.0', '270.0', '400.0', '415.0', '525.0', '632.0', '695.0', '732.0', '795.0', '891.0', '1286.0', '1424.0', '57.0', '124.0', '241.0', '283.0', '681.0', '878.0', '955.0', '1165.0', '1190.0', '1330.0', '1391.0', '4.0', '33.0', '68.0', '110.0', '124.0', '176.0', '194.0', '313.0', '316.0', '542.0', '812.0', '821.0', '844.0', '855.0', '962.0', '967.0', '1050.0', '1055.0', '1057.0', '1068.0', '1120.0', '1164.0', '1172.0', '1199.0', '1274.0', '1336.0', '1425.0', '20.0', '33.0', '51.0', '131.0', '617.0', '162.0', '329.0', '415.0', '191.0', '28.0', '43.0', '136.0', '295.0', '409.0', '474.0', '600.0', '632.0', '1016.0', '1164.0', '1170.0', '1336.0', '1393.0', '1428.0', '8.0', '176.0', '1396.0', '33.0', '399.0', '667.0', '1164.0', '1171.0', '1330.0', '1334.0', '65.0', '124.0', '138.0', '260.0', '600.0', '645.0', '809.0', '933.0', '962.0', '1166.0', '1170.0', '1330.0', '1336.0', '1391.0', '103.0', '125.0', '136.0', '202.0', '795.0', '202.0', '411.0', '600.0', '681.0', '887.0', '1145.0', '1166.0', '1324.0', '76.0', '202.0', '237.0', '409.0', '477.0', '569.0', '593.0', '651.0', '744.0', '758.0', '764.0', '800.0', '935.0', '936.0', '948.0', '1035.0', '1050.0', '1164.0', '1350.0', '1395.0', '1428.0', '43.0', '103.0', '462.0', '202.0', '43.0', '109.0', '124.0', '260.0', '898.0', '1164.0', '1170.0', '1171.0', '1172.0', '1332.0', '1391.0', '1432.0', '115.0', '124.0', '369.0', '593.0', '933.0', '33.0', '362.0', '1332.0', '53.0', '109.0', '153.0', '164.0', '193.0', '205.0', '311.0', '415.0', '464.0', '477.0', '482.0', '508.0', '593.0', '732.0', '812.0', '1047.0', '1058.0', '1060.0', '1079.0', '1143.0', '1150.0', '1166.0', '1189.0', '1191.0', '1195.0', '1198.0', '1219.0', '1280.0', '1313.0', '1330.0', '1331.0', '1356.0', '1362.0', '1401.0', '1402.0', '1403.0', '1404.0', '1405.0', '1407.0', '1409.0', '1410.0', '1412.0', '1418.0', '1424.0', '202.0', '162.0', '486.0', '542.0', '645.0', '692.0', '1198.0', '39.0', '51.0', '205.0', '210.0', '237.0', '721.0', '812.0', '1170.0', '1171.0', '134.0', '100.0', '260.0', '462.0', '732.0', '2.0', '8.0', '32.0', '43.0', '237.0', '251.0', '288.0', '369.0', '864.0', '33.0', '51.0', '122.0', '263.0', '355.0', '409.0', '426.0', '693.0', '764.0', '821.0', '910.0', '930.0', '958.0', '232.0', '15.0', '33.0', '53.0', '162.0', '232.0', '659.0', '951.0', '1170.0', '116.0', '153.0', '508.0', '681.0', '722.0', '1024.0', '1025.0', '1047.0', '20.0', '295.0', '647.0', '16.0', '455.0', '33.0', '8.0', '39.0', '138.0', '145.0', '202.0', '237.0', '241.0', '253.0', '350.0', '362.0', '398.0', '444.0', '486.0', '528.0', '567.0', '645.0', '669.0', '730.0', '795.0', '846.0', '975.0', '1164.0', '1277.0', '1443.0', '33.0', '130.0', '260.0', '1014.0', '33.0', '16.0', '164.0', '1170.0', '1171.0', '1298.0', '16.0', '33.0', '43.0', '109.0', '124.0', '164.0', '194.0', '221.0', '239.0', '254.0', '362.0', '494.0', '559.0', '617.0', '684.0', '853.0', '865.0', '880.0', '943.0', '981.0', '1166.0', '1169.0', '1170.0', '1171.0', '1172.0', '1321.0', '1336.0', '1349.0', '1396.0', '1424.0', '57.0', '213.0', '240.0', '202.0', '25.0', '124.0', '2.0', '8.0', '68.0', '103.0', '111.0', '143.0', '181.0', '193.0', '202.0', '205.0', '237.0', '329.0', '383.0', '491.0', '510.0', '524.0', '542.0', '600.0', '617.0', '692.0', '764.0', '795.0', '812.0', '821.0', '833.0', '878.0', '935.0', '941.0', '996.0', '1006.0', '1030.0', '1038.0', '1050.0', '1165.0', '1170.0', '1171.0', '1305.0', '1336.0', '1350.0', '1426.0', '270.0', '1317.0', '1330.0', '1391.0', '28.0', '32.0', '43.0', '130.0', '162.0', '191.0', '295.0', '462.0', '681.0', '788.0', '1024.0', '1171.0', '1332.0', '1367.0', '108.0', '138.0', '865.0', '977.0', '1025.0', '1169.0', '1187.0', '1358.0', '1397.0', '1414.0', '1415.0', '1434.0', '202.0', '113.0', '202.0', '291.0', '462.0', '485.0', '495.0', '588.0', '1324.0', '1330.0', '1409.0', '16.0', '26.0', '43.0', '122.0', '250.0', '260.0', '910.0', '1048.0', '1420.0', '33.0', '202.0', '1159.0', '1164.0', '1165.0', '1169.0', '1172.0', '1175.0', '1263.0', '1330.0', '0.0', '33.0', '132.0', '68.0', '108.0', '477.0', '522.0', '593.0', '600.0', '853.0', '865.0', '958.0', '1014.0', '1042.0', '1050.0', '1164.0', '1290.0', '1336.0', '1394.0', '673.0', '958.0', '996.0', '1057.0', '1142.0', '1165.0', '1172.0', '1180.0', '1184.0', '1280.0', '1336.0', '1387.0', '16.0', '43.0', '109.0', '124.0', '164.0', '194.0', '622.0', '651.0', '965.0', '1055.0', '1060.0', '1070.0', '1071.0', '1073.0', '1139.0', '1157.0', '1170.0', '1172.0', '1274.0', '1324.0', '1330.0', '1336.0', '1420.0', '1422.0', '1426.0', '1434.0', '1437.0', '1439.0', '268.0', '311.0', '359.0', '528.0', '641.0', '684.0', '735.0', '768.0', '910.0', '1172.0', '1279.0', '1305.0', '1336.0', '1393.0', '1395.0', '252.0', '415.0', '692.0', '843.0', '910.0', '51.0', '53.0', '102.0', '108.0', '116.0', '122.0', '145.0', '153.0', '162.0', '184.0', '202.0', '221.0', '240.0', '448.0', '465.0', '542.0', '600.0', '617.0', '641.0', '681.0', '813.0', '903.0', '1025.0', '1060.0', '1164.0', '1170.0', '1171.0', '1172.0', '1254.0', '1277.0', '1321.0', '1324.0', '1330.0', '1332.0', '1393.0', '1394.0', '1395.0', '1409.0', '1422.0', '1426.0', '1437.0', '116.0', '241.0', '617.0', '1048.0', '1330.0', '1350.0', '1391.0', '33.0', '43.0', '64.0', '162.0', '359.0', '547.0', '667.0', '898.0', '943.0', '1165.0', '1170.0', '1171.0', '1172.0', '1324.0', '1330.0', '1432.0', '33.0', '16.0', '241.0', '268.0', '593.0', '1044.0', '8.0', '202.0', '1060.0', '1159.0', '1292.0', '20.0', '124.0', '164.0', '189.0', '237.0', '260.0', '316.0', '355.0', '600.0', '763.0', '812.0', '1164.0', '1170.0', '108.0', '131.0', '202.0', '1028.0', '1055.0', '1164.0', '1426.0', '1432.0', '16.0', '34.0', '51.0', '76.0', '125.0', '164.0', '336.0', '491.0', '559.0', '833.0', '861.0', '1047.0', '1324.0', '1332.0', '1432.0', '202.0', '241.0', '260.0', '16.0', '234.0', '348.0', '1330.0', '28.0', '369.0', '525.0', '1367.0', '1410.0', '101.0', '241.0', '288.0', '470.0', '542.0', '645.0', '812.0', '967.0', '1305.0', '1361.0', '1418.0', '1432.0', '8.0', '33.0', '288.0', '440.0', '600.0', '903.0', '1016.0', '18.0', '43.0', '109.0', '164.0', '224.0', '465.0', '559.0', '291.0', '1047.0', '1048.0', '43.0', '53.0', '101.0', '130.0', '132.0', '162.0', '253.0', '260.0', '311.0', '339.0', '352.0', '356.0', '362.0', '367.0', '398.0', '444.0', '479.0', '482.0', '485.0', '515.0', '566.0', '567.0', '606.0', '722.0', '735.0', '795.0', '861.0', '865.0', '881.0', '892.0', '939.0', '952.0', '1025.0', '1172.0', '224.0', '843.0', '1165.0', '1170.0', '1172.0', '1179.0', '1273.0', '1280.0', '1305.0', '1313.0', '1330.0', '1336.0', '1356.0', '1362.0', '1393.0', '1410.0', '1424.0', '32.0', '33.0', '732.0', '1164.0', '164.0', '887.0', '1050.0', '1305.0', '1422.0', '33.0', '53.0', '112.0', '124.0', '221.0', '369.0', '468.0', '651.0', '681.0', '682.0', '730.0', '805.0', '1008.0', '1055.0', '1165.0', '1198.0', '1257.0', '1274.0', '1277.0', '1286.0', '1305.0', '1317.0', '1329.0', '1395.0', '1428.0', '15.0', '33.0', '50.0', '109.0', '422.0', '515.0', '651.0', '681.0', '744.0', '990.0', '1018.0', '1055.0', '8.0', '57.0', '109.0', '124.0', '237.0', '462.0', '547.0', '855.0', '369.0', '593.0', '600.0', '18.0', '33.0', '101.0', '109.0', '124.0', '125.0', '194.0', '241.0', '260.0', '462.0', '593.0', '725.0', '1028.0', '1044.0', '1047.0', '34.0', '865.0', '876.0', '1330.0', '1394.0', '33.0', '1164.0', '1165.0', '1183.0', '2.0', '50.0', '369.0', '440.0', '593.0', '617.0', '740.0', '809.0', '861.0', '985.0', '1317.0', '1330.0', '1416.0', '1420.0', '143.0', '189.0', '191.0', '236.0', '239.0', '369.0', '464.0', '508.0', '542.0', '593.0', '600.0', '764.0', '795.0', '812.0', '1028.0', '1050.0', '1336.0', '26.0', '33.0', '43.0', '68.0', '164.0', '284.0', '313.0', '411.0', '422.0', '542.0', '617.0', '1016.0', '1170.0', '1171.0', '1172.0', '1330.0', '1393.0', '1395.0', '1428.0', '33.0', '43.0', '110.0', '131.0', '109.0', '138.0', '164.0', '278.0', '369.0', '470.0', '479.0', '593.0', '669.0', '673.0', '905.0', '1305.0', '30.0', '323.0', '682.0', '1432.0', '122.0', '268.0', '462.0', '684.0', '1024.0', '1324.0', '1330.0', '1428.0', '124.0', '138.0', '782.0', '881.0', '1164.0', '1165.0', '1166.0', '1171.0', '1274.0', '1317.0', '1330.0', '1393.0', '20.0', '202.0', '782.0', '933.0', '941.0', '1042.0', '1332.0', '33.0', '57.0', '64.0', '422.0', '833.0', '1330.0', '1396.0', '1426.0', '132.0', '202.0', '241.0', '28.0', '36.0', '103.0', '116.0', '446.0', '933.0', '1056.0', '1313.0', '1425.0', '191.0', '194.0', '444.0', '33.0', '57.0', '64.0', '422.0', '833.0', '1330.0', '1396.0', '1426.0', '113.0', '124.0', '125.0', '260.0', '268.0', '600.0', '990.0', '1428.0', '43.0', '50.0', '78.0', '107.0', '109.0', '132.0', '136.0', '158.0', '194.0', '213.0', '237.0', '241.0', '258.0', '283.0', '303.0', '316.0', '362.0', '409.0', '420.0', '440.0', '470.0', '525.0', '544.0', '585.0', '622.0', '682.0', '722.0', '795.0', '821.0', '833.0', '844.0', '846.0', '865.0', '868.0', '891.0', '898.0', '939.0', '990.0', '1035.0', '1055.0', '1149.0', '1165.0', '1184.0', '1274.0', '1330.0', '1332.0', '1337.0', '1367.0', '1412.0', '33.0', '330.0', '422.0', '882.0', '1055.0', '1164.0', '1170.0', '1330.0', '1424.0', '193.0', '213.0', '462.0', '865.0', '903.0', '16.0', '116.0', '158.0', '241.0', '283.0', '593.0', '844.0', '1166.0', '1420.0', '34.0', '57.0', '111.0', '132.0', '142.0', '173.0', '189.0', '202.0', '302.0', '379.0', '415.0', '427.0', '528.0', '542.0', '563.0', '583.0', '593.0', '606.0', '645.0', '692.0', '695.0', '809.0', '878.0', '898.0', '943.0', '975.0', '981.0', '1042.0', '1047.0', '1164.0', '1166.0', '1170.0', '1171.0', '1172.0', '1198.0', '1313.0', '1336.0', '1393.0', '1397.0', '1402.0', '1428.0', '32.0', '39.0', '107.0', '109.0', '124.0', '125.0', '260.0', '268.0', '369.0', '462.0', '588.0', '593.0', '600.0', '681.0', '730.0', '932.0', '933.0', '1014.0', '1025.0', '1044.0', '1178.0', '1391.0', '20.0', '39.0', '51.0', '108.0', '130.0', '173.0', '369.0', '411.0', '477.0', '495.0', '508.0', '542.0', '563.0', '600.0', '641.0', '651.0', '681.0', '722.0', '812.0', '821.0', '844.0', '846.0', '906.0', '936.0', '975.0', '1051.0', '1061.0', '1067.0', '1159.0', '1164.0', '1165.0', '1170.0', '1190.0', '1197.0', '1260.0', '1261.0', '1336.0', '1349.0', '1397.0', '1403.0', '1426.0', '1437.0', '8.0', '18.0', '57.0', '92.0', '108.0', '111.0', '142.0', '202.0', '415.0', '795.0', '844.0', '1025.0', '1164.0', '1165.0', '1170.0', '1172.0', '1175.0', '1321.0', '1329.0', '1330.0', '1331.0', '1336.0', '1437.0', '146.0', '162.0', '673.0', '1165.0', '1336.0', '68.0', '92.0', '213.0', '43.0', '109.0', '164.0', '542.0', '641.0', '865.0', '260.0', '1044.0', '1164.0', '1324.0', '202.0', '202.0', '237.0', '1172.0', '101.0', '103.0', '125.0', '193.0', '263.0', '510.0', '563.0', '600.0', '821.0', '1016.0', '1025.0', '1432.0', '593.0', '33.0', '122.0', '1439.0', '33.0', '34.0', '51.0', '78.0', '761.0', '1394.0', '33.0', '57.0', '116.0', '131.0', '162.0', '237.0', '353.0', '400.0', '486.0', '681.0', '759.0', '910.0', '962.0', '1048.0', '1165.0', '1166.0', '1170.0', '1171.0', '1172.0', '1317.0', '1336.0', '1350.0', '20.0', '33.0', '43.0', '68.0', '76.0', '109.0', '116.0', '124.0', '210.0', '232.0', '237.0', '241.0', '268.0', '278.0', '284.0', '315.0', '409.0', '500.0', '600.0', '721.0', '725.0', '855.0', '864.0', '887.0', '1004.0', '1016.0', '1028.0', '1050.0', '1166.0', '1170.0', '1171.0', '1184.0', '1336.0', '1393.0', '1420.0', '1424.0', '1426.0', '30.0', '115.0', '448.0', '730.0', '795.0', '157.0', '202.0', '491.0', '833.0', '1432.0', '16.0', '32.0', '1164.0', '16.0', '26.0', '28.0', '53.0', '57.0', '102.0', '108.0', '109.0', '110.0', '138.0', '193.0', '221.0', '236.0', '241.0', '302.0', '362.0', '399.0', '412.0', '427.0', '448.0', '464.0', '470.0', '477.0', '534.0', '553.0', '607.0', '609.0', '616.0', '618.0', '680.0', '681.0', '682.0', '695.0', '732.0', '903.0', '943.0', '1047.0', '1166.0', '1171.0', '1172.0', '1305.0', '1307.0', '1317.0', '1367.0', '1405.0', '1409.0', '1416.0', '1420.0', '20.0', '51.0', '101.0', '193.0', '240.0', '329.0', '353.0', '525.0', '645.0', '759.0', '821.0', '833.0', '911.0', '975.0', '1025.0', '1166.0', '1170.0', '1308.0', '1330.0', '64.0', '795.0', '415.0', '647.0', '1025.0', '1332.0', '2.0', '20.0', '30.0', '43.0', '51.0', '57.0', '101.0', '108.0', '110.0', '116.0', '124.0', '130.0', '164.0', '173.0', '193.0', '194.0', '202.0', '205.0', '213.0', '263.0', '336.0', '353.0', '409.0', '462.0', '470.0', '477.0', '491.0', '522.0', '599.0', '645.0', '647.0', '651.0', '658.0', '681.0', '684.0', '730.0', '744.0', '812.0', '821.0', '833.0', '844.0', '855.0', '898.0', '939.0', '975.0', '986.0', '1018.0', '1024.0', '1025.0', '1047.0', '1116.0', '1165.0', '1170.0', '1171.0', '1172.0', '1175.0', '1198.0', '1274.0', '1286.0', '1299.0', '1324.0', '1330.0', '1363.0', '1367.0', '1393.0', '1422.0', '1425.0', '1432.0', '50.0', '78.0', '109.0', '124.0', '125.0', '202.0', '210.0', '236.0', '330.0', '600.0', '682.0', '730.0', '975.0', '1025.0', '1286.0', '1330.0', '1391.0', '1424.0', '18.0', '57.0', '158.0', '213.0', '273.0', '415.0', '482.0', '668.0', '692.0', '749.0', '955.0', '968.0', '1047.0', '1170.0', '1171.0', '1172.0', '1177.0', '1324.0', '1395.0', '1420.0', '43.0', '111.0', '124.0', '193.0', '260.0', '464.0', '655.0', '732.0', '788.0', '1165.0', '1166.0', '1367.0', '1405.0', '125.0', '194.0', '428.0', '1025.0', '1228.0', '20.0', '1336.0', '195.0', '202.0', '283.0', '337.0', '732.0', '43.0', '116.0', '153.0', '221.0', '260.0', '336.0', '369.0', '465.0', '600.0', '641.0', '647.0', '730.0', '732.0', '788.0', '1048.0', '1165.0', '1166.0', '1336.0', '34.0', '43.0', '57.0', '116.0', '250.0', '339.0', '415.0', '600.0', '609.0', '669.0', '843.0', '1165.0', '1336.0', '16.0', '29.0', '33.0', '43.0', '409.0', '460.0', '491.0', '495.0', '645.0', '720.0', '812.0', '958.0', '968.0', '977.0', '993.0', '1025.0', '1330.0', '1358.0', '1432.0', '131.0', '202.0', '911.0', '981.0', '1437.0', '124.0', '213.0', '251.0', '316.0', '336.0', '409.0', '1025.0', '1166.0', '1170.0', '1171.0', '1330.0', '43.0', '77.0', '236.0', '379.0', '645.0', '813.0', '1164.0', '1330.0', '1336.0', '16.0', '28.0', '32.0', '57.0', '108.0', '109.0', '132.0', '173.0', '251.0', '252.0', '253.0', '263.0', '268.0', '353.0', '460.0', '651.0', '658.0', '813.0', '864.0', '933.0', '939.0', '975.0', '1024.0', '1044.0', '26.0', '33.0', '477.0', '744.0', '882.0', '53.0', '122.0', '926.0', '959.0', '1025.0', '1164.0', '1177.0', '33.0', '415.0', '1191.0', '29.0', '33.0', '110.0', '651.0', '761.0', '882.0', '910.0', '1172.0', '1420.0', '1426.0', '16.0', '482.0', '705.0', '1180.0', '1305.0', '1317.0', '1367.0', '1428.0', '1432.0', '8.0', '20.0', '103.0', '116.0', '124.0', '125.0', '136.0', '164.0', '193.0', '194.0', '237.0', '241.0', '268.0', '278.0', '288.0', '329.0', '362.0', '369.0', '448.0', '477.0', '485.0', '491.0', '510.0', '547.0', '585.0', '593.0', '600.0', '647.0', '684.0', '692.0', '833.0', '943.0', '948.0', '977.0', '1025.0', '1056.0', '1057.0', '1060.0', '1165.0', '1166.0', '1183.0', '1252.0', '1274.0', '1330.0', '1336.0', '1367.0', '1391.0', '1393.0', '1403.0', '1422.0', '1428.0', '33.0', '64.0', '108.0', '221.0', '283.0', '315.0', '330.0', '508.0', '542.0', '622.0', '682.0', '749.0', '865.0', '959.0', '1014.0', '1044.0', '1330.0', '1332.0', '1410.0', '202.0', '369.0', '764.0', '89.0', '108.0', '110.0', '116.0', '164.0', '244.0', '283.0', '369.0', '422.0', '468.0', '508.0', '647.0', '651.0', '681.0', '682.0', '727.0', '732.0', '764.0', '785.0', '812.0', '933.0', '1042.0', '1048.0', '1056.0', '1062.0', '1172.0', '1253.0', '1330.0', '1332.0', '1393.0', '1410.0', '1428.0', '1437.0', '33.0', '1432.0', '542.0', '8.0', '16.0', '34.0', '50.0', '53.0', '59.0', '92.0', '111.0', '153.0', '173.0', '181.0', '194.0', '234.0', '253.0', '284.0', '295.0', '313.0', '315.0', '367.0', '379.0', '381.0', '398.0', '415.0', '468.0', '485.0', '528.0', '567.0', '583.0', '585.0', '599.0', '606.0', '670.0', '681.0', '768.0', '784.0', '812.0', '813.0', '833.0', '843.0', '861.0', '862.0', '865.0', '871.0', '887.0', '898.0', '911.0', '936.0', '939.0', '943.0', '996.0', '1044.0', '1047.0', '1164.0', '1165.0', '1166.0', '1172.0', '1188.0', '1274.0', '1305.0', '1317.0', '1330.0', '1336.0', '1337.0', '1350.0', '1391.0', '1393.0', '1395.0', '1396.0', '1420.0', '1422.0', '1432.0', '2.0', '20.0', '33.0', '51.0', '125.0', '130.0', '193.0', '224.0', '250.0', '353.0', '440.0', '600.0', '641.0', '933.0', '939.0', '1164.0', '1171.0', '1172.0', '1274.0', '1305.0', '1350.0', '1363.0', '1425.0', '26.0', '1274.0', '16.0', '18.0', '477.0', '1025.0', '1048.0', '1172.0', '1393.0', '1424.0', '16.0', '62.0', '138.0', '462.0', '1141.0', '1330.0', '1336.0', '202.0', '329.0', '383.0', '542.0', '1055.0', '32.0', '34.0', '111.0', '337.0', '616.0', '721.0', '846.0', '1047.0', '1164.0', '1170.0', '1172.0', '1183.0', '1184.0', '1330.0', '1336.0', '1367.0', '1391.0', '1394.0', '1407.0', '1420.0', '1424.0', '1437.0', '162.0', '202.0', '460.0', '641.0', '936.0', '1024.0', '1047.0', '1048.0', '30.0', '92.0', '237.0', '795.0', '812.0', '250.0', '415.0', '1184.0', '1432.0', '16.0', '33.0', '43.0', '162.0', '213.0', '359.0', '547.0', '667.0', '813.0', '898.0', '943.0', '1165.0', '1170.0', '1171.0', '1172.0', '1324.0', '1330.0', '1432.0', '146.0', '202.0', '373.0', '8.0', '1396.0', '43.0', '53.0', '101.0', '130.0', '132.0', '162.0', '234.0', '253.0', '260.0', '311.0', '339.0', '352.0', '356.0', '362.0', '367.0', '398.0', '444.0', '479.0', '482.0', '485.0', '515.0', '566.0', '567.0', '606.0', '722.0', '735.0', '795.0', '809.0', '861.0', '865.0', '881.0', '892.0', '939.0', '952.0', '1025.0', '1172.0', '16.0', '482.0', '681.0', '705.0', '1180.0', '1305.0', '1317.0', '1367.0', '1428.0', '1432.0', '108.0', '131.0', '202.0', '1028.0', '1055.0', '1164.0', '1426.0', '1432.0', '33.0', '53.0', '112.0', '124.0', '221.0', '369.0', '468.0', '651.0', '681.0', '682.0', '730.0', '805.0', '1008.0', '1055.0', '1165.0', '1198.0', '1257.0', '1274.0', '1277.0', '1286.0', '1305.0', '1317.0', '1329.0', '1395.0', '1428.0', '33.0', '102.0', '142.0', '330.0', '422.0', '882.0', '1055.0', '1164.0', '1170.0', '1330.0', '1424.0', '843.0', '1165.0', '1170.0', '1172.0', '1179.0', '1273.0', '1280.0', '1305.0', '1313.0', '1330.0', '1336.0', '1356.0', '1362.0', '1393.0', '1410.0', '1424.0', '16.0', '26.0', '53.0', '57.0', '102.0', '108.0', '109.0', '110.0', '193.0', '221.0', '236.0', '241.0', '302.0', '362.0', '399.0', '412.0', '427.0', '448.0', '464.0', '470.0', '477.0', '534.0', '553.0', '607.0', '609.0', '616.0', '618.0', '680.0', '681.0', '682.0', '695.0', '732.0', '744.0', '903.0', '943.0', '1047.0', '1166.0', '1171.0', '1172.0', '1305.0', '1307.0', '1317.0', '1367.0', '1405.0', '1409.0', '1416.0', '1420.0', '33.0', '64.0', '108.0', '221.0', '283.0', '315.0', '330.0', '508.0', '525.0', '542.0', '622.0', '682.0', '749.0', '865.0', '959.0', '1014.0', '1044.0', '1330.0', '1332.0', '1410.0', '34.0', '865.0', '876.0', '1024.0', '1330.0', '1394.0', '34.0', '111.0', '132.0', '142.0', '173.0', '189.0', '202.0', '302.0', '379.0', '415.0', '427.0', '528.0', '542.0', '563.0', '583.0', '593.0', '606.0', '645.0', '692.0', '695.0', '809.0', '878.0', '898.0', '943.0', '975.0', '981.0', '1042.0', '1047.0', '1164.0', '1166.0', '1170.0', '1171.0', '1172.0', '1198.0', '1313.0', '1336.0', '1393.0', '1397.0', '1402.0', '1428.0', '33.0', '193.0', '237.0', '903.0', '968.0', '981.0', '1014.0', '1055.0', '1141.0', '1165.0', '1172.0', '1221.0', '1336.0', '1367.0', '1395.0', '33.0', '131.0', '422.0', '632.0', '1403.0', '1432.0', '29.0', '39.0', '50.0', '103.0', '164.0', '194.0', '202.0', '237.0', '251.0', '681.0', '821.0', '959.0', '1016.0', '1165.0', '1305.0', '1428.0', '107.0', '125.0', '428.0', '1025.0', '1228.0', '16.0', '43.0', '109.0', '122.0', '124.0', '164.0', '194.0', '622.0', '651.0', '965.0', '1055.0', '1060.0', '1070.0', '1071.0', '1073.0', '1139.0', '1157.0', '1170.0', '1172.0', '1274.0', '1324.0', '1330.0', '1336.0', '1420.0', '1422.0', '1426.0', '1434.0', '1437.0', '1439.0', '2.0', '20.0', '43.0', '51.0', '57.0', '101.0', '108.0', '110.0', '116.0', '124.0', '130.0', '164.0', '173.0', '193.0', '194.0', '202.0', '205.0', '213.0', '263.0', '336.0', '353.0', '409.0', '462.0', '470.0', '477.0', '491.0', '522.0', '599.0', '645.0', '647.0', '651.0', '658.0', '681.0', '684.0', '730.0', '744.0', '812.0', '821.0', '833.0', '844.0', '855.0', '898.0', '939.0', '975.0', '986.0', '1018.0', '1024.0', '1025.0', '1047.0', '1048.0', '1116.0', '1165.0', '1170.0', '1171.0', '1172.0', '1175.0', '1198.0', '1274.0', '1286.0', '1299.0', '1324.0', '1330.0', '1363.0', '1367.0', '1393.0', '1422.0', '1425.0', '1432.0', '20.0', '33.0', '43.0', '68.0', '76.0', '109.0', '116.0', '124.0', '210.0', '232.0', '237.0', '241.0', '268.0', '278.0', '284.0', '315.0', '409.0', '500.0', '600.0', '721.0', '725.0', '855.0', '864.0', '887.0', '1004.0', '1016.0', '1028.0', '1050.0', '1166.0', '1170.0', '1171.0', '1184.0', '1336.0', '1393.0', '1420.0', '1424.0', '1426.0', '20.0', '39.0', '51.0', '108.0', '130.0', '173.0', '189.0', '369.0', '411.0', '477.0', '495.0', '508.0', '522.0', '542.0', '563.0', '600.0', '641.0', '651.0', '681.0', '722.0', '812.0', '821.0', '844.0', '846.0', '906.0', '936.0', '975.0', '1051.0', '1061.0', '1067.0', '1159.0', '1164.0', '1165.0', '1170.0', '1190.0', '1197.0', '1260.0', '1261.0', '1336.0', '1349.0', '1397.0', '1403.0', '1426.0', '1437.0', '8.0', '57.0', '92.0', '108.0', '111.0', '142.0', '202.0', '415.0', '795.0', '844.0', '1025.0', '1164.0', '1165.0', '1170.0', '1172.0', '1175.0', '1321.0', '1329.0', '1330.0', '1331.0', '1336.0', '1437.0', '33.0', '43.0', '109.0', '124.0', '164.0', '194.0', '221.0', '239.0', '254.0', '362.0', '494.0', '559.0', '617.0', '684.0', '853.0', '865.0', '880.0', '919.0', '933.0', '943.0', '981.0', '1166.0', '1169.0', '1170.0', '1171.0', '1172.0', '1321.0', '1336.0', '1349.0', '1396.0', '1424.0', '53.0', '184.0', '606.0', '681.0', '682.0', '1014.0', '1178.0', '1305.0', '1321.0', '1330.0', '1394.0', '33.0', '299.0', '732.0', '1164.0', '1313.0', '142.0', '202.0', '337.0', '732.0', '124.0', '323.0', '682.0', '1432.0', '89.0', '108.0', '110.0', '116.0', '164.0', '236.0', '244.0', '283.0', '369.0', '422.0', '468.0', '508.0', '647.0', '651.0', '681.0', '682.0', '727.0', '732.0', '764.0', '785.0', '812.0', '933.0', '1025.0', '1042.0', '1048.0', '1056.0', '1062.0', '1172.0', '1253.0', '1330.0', '1332.0', '1393.0', '1410.0', '1428.0', '1437.0', '33.0', '92.0', '124.0', '153.0', '260.0', '283.0', '376.0', '448.0', '464.0', '485.0', '647.0', '651.0', '658.0', '681.0', '693.0', '732.0', '919.0', '955.0', '1180.0', '1273.0', '1274.0', '1329.0', '1432.0', '108.0', '880.0', '16.0', '28.0', '32.0', '57.0', '108.0', '109.0', '132.0', '173.0', '251.0', '252.0', '253.0', '263.0', '268.0', '353.0', '460.0', '651.0', '658.0', '813.0', '864.0', '933.0', '939.0', '975.0', '1024.0', '1044.0', '8.0', '16.0', '34.0', '50.0', '53.0', '59.0', '92.0', '111.0', '153.0', '173.0', '181.0', '194.0', '234.0', '253.0', '284.0', '295.0', '313.0', '315.0', '367.0', '379.0', '381.0', '398.0', '415.0', '426.0', '468.0', '485.0', '528.0', '567.0', '583.0', '585.0', '599.0', '606.0', '670.0', '681.0', '768.0', '784.0', '812.0', '813.0', '833.0', '843.0', '861.0', '862.0', '865.0', '871.0', '887.0', '898.0', '911.0', '936.0', '939.0', '943.0', '996.0', '1044.0', '1047.0', '1164.0', '1165.0', '1166.0', '1172.0', '1188.0', '1274.0', '1305.0', '1317.0', '1330.0', '1336.0', '1337.0', '1350.0', '1391.0', '1393.0', '1395.0', '1396.0', '1420.0', '1422.0', '1432.0', '26.0', '33.0', '43.0', '164.0', '284.0', '313.0', '411.0', '422.0', '542.0', '617.0', '1016.0', '1170.0', '1171.0', '1172.0', '1330.0', '1393.0', '1395.0', '1428.0', '28.0', '43.0', '136.0', '295.0', '409.0', '474.0', '600.0', '632.0', '1016.0', '1164.0', '1170.0', '1336.0', '1393.0', '1428.0', '29.0', '33.0', '43.0', '164.0', '409.0', '460.0', '491.0', '495.0', '645.0', '720.0', '812.0', '958.0', '968.0', '977.0', '993.0', '1025.0', '1330.0', '1358.0', '1432.0', '415.0', '809.0', '1407.0', '33.0', '57.0', '116.0', '131.0', '162.0', '237.0', '353.0', '400.0', '486.0', '681.0', '759.0', '910.0', '962.0', '1048.0', '1165.0', '1166.0', '1170.0', '1171.0', '1172.0', '1317.0', '1336.0', '1350.0', '1426.0', '124.0', '173.0', '782.0', '881.0', '943.0', '1164.0', '1165.0', '1166.0', '1171.0', '1274.0', '1317.0', '1330.0', '1393.0', '759.0', '1170.0', '32.0', '34.0', '111.0', '337.0', '616.0', '721.0', '846.0', '1047.0', '1164.0', '1170.0', '1172.0', '1183.0', '1184.0', '1330.0', '1336.0', '1367.0', '1391.0', '1394.0', '1407.0', '1420.0', '1424.0', '1437.0', '162.0', '486.0', '542.0', '645.0', '692.0', '1198.0', '51.0', '53.0', '102.0', '108.0', '116.0', '122.0', '145.0', '153.0', '162.0', '202.0', '221.0', '240.0', '448.0', '465.0', '542.0', '600.0', '617.0', '641.0', '681.0', '813.0', '903.0', '1025.0', '1060.0', '1164.0', '1170.0', '1171.0', '1172.0', '1254.0', '1277.0', '1321.0', '1324.0', '1330.0', '1332.0', '1393.0', '1394.0', '1395.0', '1409.0', '1422.0', '1426.0', '1437.0', '103.0', '108.0', '110.0', '131.0', '158.0', '189.0', '202.0', '263.0', '283.0', '415.0', '564.0', '617.0', '684.0', '764.0', '821.0', '844.0', '933.0', '955.0', '965.0', '1044.0', '1055.0', '1056.0', '1057.0', '1060.0', '1164.0', '1165.0', '1166.0', '1330.0', '1332.0', '1336.0', '1367.0', '1403.0', '43.0', '111.0', '124.0', '193.0', '260.0', '464.0', '655.0', '732.0', '788.0', '1138.0', '1165.0', '1166.0', '1367.0', '1405.0', '43.0', '116.0', '130.0', '153.0', '221.0', '260.0', '336.0', '369.0', '465.0', '600.0', '641.0', '647.0', '730.0', '732.0', '788.0', '1048.0', '1165.0', '1166.0', '1336.0']\n"
     ]
    }
   ],
   "source": [
    "print(rec)"
   ]
  },
  {
   "cell_type": "markdown",
   "metadata": {},
   "source": [
    "## Test Case B"
   ]
  },
  {
   "cell_type": "code",
   "execution_count": 417,
   "metadata": {},
   "outputs": [
    {
     "name": "stdout",
     "output_type": "stream",
     "text": [
      "[3870, 3782, 23, 4459, 203, 3764, 98, 3697, 49, 3910, 242, 4932, 40, 58, 3740, 52, 3596, 290, 754, 912, 21, 3540, 4785, 2982, 170, 4642, 3621, 135, 3169, 184, 256, 383, 204, 4892, 5138, 322, 3485, 621, 3801, 2926, 273, 619, 2975, 3637, 765, 696, 211, 8, 3775, 3622, 3578, 214, 4134, 3141, 195, 4883, 4755, 4293, 3006, 295, 38, 113, 72, 395, 5041, 3500, 64, 3684, 45, 168, 3532, 186, 3136, 187, 4517, 5140, 3486, 4201, 268, 4595, 4209, 371, 1, 420, 4934, 3784, 46, 60, 1059, 262, 4900, 3417, 4774, 125, 409, 693, 288, 3651, 55, 4308, 3933, 4706, 3829, 4778, 3353, 3, 67, 591, 521, 88, 665, 4076, 6, 1355, 3856, 169, 445, 4618, 199, 4277, 3072, 3632, 4241, 2205, 651, 3147, 4901, 249, 750, 3967, 785, 3483, 4904, 4484, 3264, 4991, 4511, 829, 860, 173, 11, 3877, 3570, 3966, 347, 334, 3693, 4038, 535, 3007, 1062, 4021, 1035, 379, 111, 5057, 3061, 197, 330, 4788, 261, 4427, 5079, 2161, 656, 3408, 2903, 4268, 3238, 471, 3057, 3898, 215, 4471, 3208, 3960, 2989, 726, 4145, 510, 319, 4685, 2790, 1897, 1026, 56, 404, 669, 418, 689, 132, 85, 3879, 1240, 697, 4933, 324, 4272, 312, 557, 313, 4082, 235, 649, 3197, 304, 3376, 760, 3986, 536, 402, 511, 3212, 641, 2908, 640, 3118, 5077, 346, 688, 3414, 3100, 734, 4404, 3211, 4494, 1162, 163, 3783, 176, 69, 2007, 145, 4725, 4526, 28, 82, 3830, 3614, 209, 4876, 3710, 4495, 4, 4824, 4010, 3058, 3674, 3654, 2913, 4842, 596, 4037, 65, 670, 155, 538, 3794, 3313, 4167, 3310, 907, 1566, 5143, 129, 3741, 121, 4792, 375, 2981, 126, 1384, 3691, 542, 5059, 3024, 4732, 362, 646, 4186, 607, 644, 4837, 196, 1244, 4142, 488, 1110, 889, 17, 763, 3172, 5118, 845, 492, 4088, 1137, 37, 3535, 820, 1262, 1068, 4623, 3601, 1266, 230, 4619, 2290, 700, 3518, 4497, 807, 5129, 791, 1025, 4206, 568, 90, 4921, 10, 575, 1405, 2955, 438, 456, 1409, 3082, 87, 484, 4071, 4073, 4230, 1063, 3292, 4877, 63, 4872, 3812, 500, 3818, 490, 27, 4099, 3338, 1051, 1040, 1038, 3005, 4855, 558, 57, 794, 4231, 639, 4515, 939, 4522, 3564, 648, 926, 251, 4449, 4437, 3477, 3553, 4311, 4668, 4660, 194, 4647, 900, 4969, 2194, 3949, 2144, 896, 280, 3636, 4571, 134, 3528, 1577, 220, 4237, 107, 5123, 335, 118, 4255, 120, 3611, 122, 4274, 3439, 955, 323, 352, 1499, 858, 722, 4553, 778, 5001, 1223, 715, 755, 3195, 3119, 2487, 4992, 4914, 4502, 4130, 1114, 713, 4915, 4453, 5058, 4392, 1705, 1446, 2912, 4833, 2901, 4250, 1401, 957, 5023, 2994, 5048, 4768, 638, 1668, 4197, 5053, 4386, 647, 923, 1058, 658, 661, 2718, 2924, 1301, 3079, 4331, 2646, 681, 4161, 512, 4802, 4204, 3430, 3325, 180, 181, 213, 86, 3647, 3421, 153, 263, 3358, 207, 3732, 310, 3354, 266, 3336, 3996, 3802, 381, 5115, 3671, 3938, 51, 3878, 3957, 3225, 355, 9, 3327, 4107, 296, 110, 239, 3633, 227, 26, 54, 354, 3474, 223, 22, 287, 160, 305, 3476, 659, 4025, 4298, 3451, 1984, 4013, 321, 2324, 149, 631, 2941, 971, 970, 3713, 1633, 598, 3392, 1634, 3705, 3703, 2907, 133, 4233, 1671, 1698, 4245, 4248, 4254, 938, 927, 924, 891, 4336, 662, 833, 260, 4429, 4510, 2242, 2270, 810, 2288, 248, 745, 746, 2430, 748, 2423, 751, 244, 797, 4487, 240, 3968, 3572, 783, 4482, 3970, 2492, 205, 890, 4409, 2728, 668, 3634, 4323, 673, 2688, 2953, 285, 5013, 4557, 4552, 4543, 4367, 2159, 5012, 277, 698, 3618, 854, 2186, 2202, 4393, 712, 5139, 5105, 411, 1443, 3763, 1082, 3043, 5080, 41, 434, 3883, 3745, 3807, 94, 95, 5078, 3245, 1018, 33, 4137, 4100, 3329, 1261, 1350, 4943, 3284, 413, 3884, 1309, 3093, 1317, 4882, 1281, 1264, 406, 1272, 43, 3305, 1076, 5086, 3067, 1219, 4061, 419, 2962, 3366, 3835, 4909, 103, 3363, 1481, 1191, 1511, 5070, 5069, 3378, 1172, 1176, 2993, 13, 987, 1139, 365, 464, 3235, 1198, 1208, 2983, 3724, 843, 3616, 844, 193, 2197, 851, 2187, 3848, 3969, 3885, 2365, 4527, 1065, 3615, 3876, 200, 825, 2291, 1228, 1197, 225, 212, 3589, 208, 3888, 2251, 2248, 824, 2304, 3803, 798, 828, 1084, 4491, 2312, 3217, 1251, 4986, 4516, 24, 2206, 5124, 977, 66, 4843, 3912, 140, 100, 1733, 4736, 1764, 1775, 4720, 3951, 1426, 1014, 3738, 4707, 4697, 1833, 1021, 942, 943, 1459, 5134, 1548, 4799, 988, 4795, 3919, 1507, 1487, 1486, 3927, 1476, 102, 4834, 948, 136, 2373, 3943, 92, 1386, 887, 1048, 1334, 4600, 4596, 5127, 1331, 3778, 4801, 4588, 1325, 4560, 871, 4548, 71, 2164, 171, 166, 156, 1046, 1899, 3645, 1915, 159, 1033, 4857, 164, 895, 4628, 76, 1354, 75, 1041, 1353, 1352, 237, 3213, 3362, 3101, 518, 3355, 516, 4200, 3094, 687, 4002, 4001, 3412, 509, 5026, 5103, 1127, 4079, 4378, 3991, 4158, 2586, 5062, 2579, 3404, 3108, 502, 3117, 773, 706, 707, 5011, 609, 271, 410, 3301, 3425, 4330, 3436, 4275, 545, 4282, 3442, 5095, 4270, 2842, 5055, 5110, 4289, 3461, 4015, 3042, 3045, 3466, 3346, 652, 3052, 299, 3320, 4319, 294, 292, 3488, 4170, 3428, 674, 3314, 498, 5052, 3402, 475, 2440, 4450, 5034, 472, 470, 3124, 246, 753, 756, 3233, 359, 2415, 241, 2935, 3176, 583, 761, 762, 3190, 3191, 3196, 2949, 585, 4110, 450, 360, 771, 3159, 4213, 2974, 253, 2513, 4148, 5066, 723, 570, 4097, 3377, 730, 2471, 3559, 486, 351, 2978, 4039, 363, 4445, 357, 3244, 738, 482, 3368, 1523, 3337, 1527, 4215, 3350, 1406, 1493, 2992, 4815, 3009, 1408, 4057, 4044, 1509, 1485, 2956, 1410, 1411, 3383, 1413, 4848, 4847, 1423, 4199, 1449, 2376, 4068, 1399, 3031, 1255, 3255, 1245, 4098, 4143, 3805, 1225, 3243, 4898, 4132, 3155, 3237, 1210, 3163, 4907, 3166, 4908, 4910, 1177, 3824, 4122, 1163, 3864, 1150, 1149, 3857, 1130, 4149, 4094, 1271, 3060, 3908, 1395, 1392, 1387, 3034, 3330, 4861, 3765, 3046, 3328, 4173, 3324, 1347, 3269, 1338, 1542, 1330, 3086, 3781, 3291, 4873, 1303, 3785, 1302, 3107, 4086, 1540, 1684, 1543, 4420, 4390, 4401, 4414, 2211, 4518, 4417, 3542, 2196, 2235, 4512, 3956, 2506, 3548, 4432, 2199, 2558, 4347, 2593, 4349, 4356, 4363, 2142, 3629, 2154, 3627, 3524, 3625, 3998, 2176, 3520, 2, 4385, 2245, 2450, 4506, 4485, 2320, 3584, 2322, 2337, 2342, 2407, 2391, 2258, 4472, 2387, 2354, 2355, 2386, 2377, 2318, 2416, 2418, 2308, 3975, 4496, 3566, 2435, 3603, 2284, 3562, 2279, 2274, 3610, 2444, 4503, 2449, 2637, 4577, 1547, 4747, 1673, 1685, 2898, 3413, 4749, 1712, 1718, 4772, 4258, 2846, 3678, 1754, 2845, 4727, 3695, 4034, 2073, 1586, 3720, 1567, 3918, 2948, 2932, 1583, 2931, 3400, 4225, 4786, 3714, 4784, 1636, 3395, 3936, 3676, 3434, 3638, 4632, 4295, 4300, 1975, 2751, 3482, 4321, 2826, 2022, 2029, 4326, 4591, 3506, 4584, 3640, 3472, 3641, 4652, 4655, 4285, 4663, 1879, 4022, 4670, 3441, 4696, 2813, 2815, 1807, 4716, 4718, 1128, 4648, 5043, 114, 534, 1071, 809, 432, 104, 442, 443, 981, 5021, 444, 967, 5075, 1069, 4940, 1061, 117, 822, 624, 453, 454, 808, 635, 4995, 637, 671, 666, 303, 969, 774, 1087, 972, 417, 421, 784, 298, 975, 297, 976, 978, 650, 790, 4999, 642, 910, 4942, 836, 582, 245, 238, 508, 513, 563, 182, 1022, 185, 560, 233, 555, 4949, 884, 551, 198, 229, 547, 532, 219, 165, 1031, 1054, 584, 842, 847, 612, 144, 473, 1045, 5028, 1043, 148, 992, 479, 601, 600, 998, 152, 587, 252, 999, 501, 74, 533, 4925, 953, 684, 12, 699, 59, 370, 361, 737, 711, 683, 31, 315, 48, 944, 1108, 373, 5108, 32, 679, 34, 36, 1105, 733, 35, 719, 741, 964, 343, 950, 710, 685, 709, 686, 702, 727, 391, 3134, 4128, 3379, 4636, 4043, 4635, 487, 3373, 3135, 1920, 1702, 4748, 4127, 469, 1926, 1951, 483, 364, 1941, 478, 4643, 1943, 480, 5067, 3144, 474, 941, 4141, 1709, 1937, 4638, 3157, 3129, 930, 1700, 344, 3403, 3406, 3087, 4612, 1674, 3081, 3080, 3075, 4607, 523, 527, 3063, 882, 2030, 530, 2034, 2037, 3409, 4763, 3054, 2042, 3088, 4617, 4147, 3091, 494, 1696, 1970, 894, 937, 3391, 946, 3396, 3397, 3115, 3109, 1983, 947, 4970, 1985, 4036, 345, 4620, 4759, 885, 3092, 4654, 3193, 1918, 5096, 4711, 3282, 920, 3274, 3335, 4085, 5093, 918, 1750, 423, 424, 4058, 1816, 4087, 4700, 3262, 1823, 4091, 4092, 1747, 1828, 932, 4078, 5089, 925, 3316, 4724, 3309, 403, 405, 3317, 3318, 1783, 3319, 931, 5083, 408, 3296, 1762, 1791, 414, 415, 3323, 4075, 1760, 5081, 1830, 3177, 3344, 4113, 1875, 4047, 4667, 3209, 3206, 1886, 1890, 4664, 908, 3369, 3194, 1769, 460, 3187, 4658, 1717, 1907, 3183, 4746, 1911, 913, 4673, 3222, 4965, 3254, 915, 1743, 382, 3247, 3347, 4691, 437, 441, 4054, 4108, 377, 1850, 914, 4052, 4051, 4683, 3230, 4740, 3229, 431, 3859, 3048, 2374, 2730, 2729, 664, 2725, 4473, 2390, 2720, 667, 2710, 2702, 2410, 2698, 758, 2417, 2421, 2422, 749, 2425, 2689, 676, 5005, 4329, 2432, 2685, 743, 4317, 2372, 2812, 2744, 2800, 2307, 796, 2311, 2788, 2317, 792, 5017, 4291, 789, 2331, 4297, 2335, 2336, 654, 4486, 2341, 2768, 2343, 2348, 4480, 780, 4307, 2747, 2745, 2684, 2682, 2442, 4448, 724, 721, 2624, 4419, 2510, 2516, 4416, 2617, 4361, 5009, 690, 4364, 691, 714, 4398, 692, 2541, 694, 2585, 4379, 2552, 4384, 2556, 2561, 2562, 4421, 2504, 2501, 731, 2446, 2447, 736, 2452, 2453, 4333, 2667, 2661, 2653, 2473, 2475, 4341, 4423, 680, 2645, 2482, 2484, 2638, 2488, 4426, 2496, 2631, 4354, 4424, 636, 2814, 3047, 952, 576, 4212, 4977, 2971, 2114, 4545, 5038, 866, 2951, 2127, 2128, 4541, 2940, 2141, 2934, 2933, 864, 5035, 4533, 2916, 2915, 862, 2160, 2914, 2163, 4210, 2979, 2283, 573, 539, 541, 2051, 879, 4178, 878, 546, 4187, 3017, 4974, 2066, 3015, 4586, 3012, 875, 2076, 5050, 554, 5049, 3001, 2999, 561, 4203, 4572, 565, 2911, 2910, 2166, 2170, 2229, 4252, 618, 832, 4987, 2241, 2850, 823, 2250, 4265, 626, 2841, 4266, 2257, 2260, 627, 4504, 2266, 2830, 2268, 814, 629, 4273, 811, 2819, 2228, 2227, 2225, 852, 2171, 2172, 2174, 2175, 857, 606, 2180, 2181, 855, 2899, 4980, 2897, 4984, 850, 2891, 4238, 2200, 4240, 2204, 2207, 2208, 2212, 2216, 4246, 3410, 3240, 1050, 1091, 1516, 3913, 1227, 1070, 4818, 1520, 1027, 3523, 3727, 5128, 1394, 1390, 4816, 3917, 276, 281, 4820, 1513, 61, 269, 1235, 1017, 3537, 267, 1233, 188, 183, 990, 1282, 3628, 3897, 1402, 1229, 1023, 272, 1512, 68, 984, 264, 1550, 4809, 4947, 3644, 3797, 3711, 4958, 1199, 3499, 1541, 1067, 1378, 44, 1064, 4874, 4806, 3495, 982, 1385, 109, 3790, 112, 3715, 3787, 1215, 1214, 3891, 339, 1098, 1204, 4902, 115, 1099, 3890, 1297, 3889, 284, 79, 81, 42, 1258, 3581, 1002, 1259, 1439, 3580, 1461, 3579, 1463, 1455, 3737, 3971, 1437, 1436, 3600, 3749, 1434, 4836, 96, 1081, 228, 226, 1005, 89, 3595, 1442, 1265, 3743, 1004, 3961, 1263, 4839, 3907, 1079, 3586, 83, 1003, 3602, 3753, 3543, 190, 996, 995, 1418, 3554, 1491, 3760, 3733, 4826, 3902, 5117, 4852, 1498, 1013, 4853, 1238, 1278, 4953, 3612, 1430, 250, 3605, 1273, 1427, 1248, 3565, 1247, 3607, 3609, 3757, 1477, 1478, 1480, 217, 1011, 3561, 210, 4009, 3504, 1307, 3700, 1618, 4782, 4781, 1621, 1359, 16, 1152, 1320, 4871, 3446, 1357, 318, 1118, 1148, 15, 3841, 3834, 4783, 1365, 4016, 1115, 5111, 3660, 1604, 1605, 3662, 19, 1608, 1361, 3831, 1158, 3832, 3456, 1156, 3833, 4019, 1627, 3667, 1629, 333, 1649, 1132, 3426, 1336, 1129, 1655, 3930, 3420, 4865, 3419, 5, 1049, 3416, 3688, 1664, 1665, 139, 1133, 4962, 3854, 961, 1144, 3672, 959, 1346, 958, 1345, 3437, 4776, 3694, 3846, 1326, 1645, 14, 4867, 4862, 91, 5114, 3816, 1313, 306, 3944, 4912, 1373, 1186, 1174, 3819, 151, 1588, 1189, 302, 4913, 301, 4911, 3655, 3814, 4798, 1581, 966, 1187, 4800, 973, 4860, 291, 1575, 1057, 3467, 25, 4804, 1560, 1561, 119, 3469, 3650, 1192, 3490, 1167, 308, 1169, 4794, 4012, 1310, 2875, 2843, 2883, 2837, 2795, 2794, 614, 4247, 3925, 625, 2849, 3736, 643, 4287, 4244, 2793, 5133, 3739, 2878, 2879, 130, 2880, 2838, 4243, 2847, 4286, 2839, 3692, 4242, 2818, 2803, 2796, 2811, 2829, 5022, 2828, 4257, 3916, 630, 2825, 3708, 3730, 3915, 3729, 2823, 3702, 2863, 2822, 2860, 2821, 2820, 5020, 620, 2817, 3701, 105, 2798, 99, 4263, 2835, 3696, 5137, 3909, 2801, 127, 2802, 2870, 4251, 5142, 5136, 4269, 4280, 4279, 2853, 2867, 4278, 3718, 2854, 3926, 5018, 4032, 4288, 2644, 2657, 2654, 3808, 2652, 2651, 2650, 3809, 3880, 2641, 4338, 5148, 3821, 4348, 2634, 4350, 20, 3825, 3873, 3806, 2659, 84, 47, 2680, 2679, 678, 53, 3796, 2676, 50, 2675, 2674, 2660, 4334, 2671, 2669, 2668, 2666, 2665, 39, 2662, 3872, 2625, 18, 701, 2591, 4376, 3865, 3849, 3852, 3853, 4381, 4383, 2578, 2623, 3862, 7, 2576, 703, 3861, 704, 2572, 2570, 3845, 4373, 2595, 4372, 2622, 2621, 2620, 2619, 2618, 3837, 4360, 2612, 2607, 2606, 4366, 3842, 4370, 2599, 4371, 2597, 3866, 2681, 2683, 677, 660, 4303, 2760, 4306, 2756, 2755, 3756, 2753, 5015, 2750, 2739, 4309, 4310, 2746, 3758, 2743, 663, 2741, 2740, 2762, 4302, 3754, 4301, 2785, 4292, 2779, 4294, 653, 4296, 2775, 2773, 3746, 3906, 3748, 2771, 2769, 3904, 3752, 2767, 2766, 3761, 3762, 3789, 73, 4325, 5014, 3892, 2701, 2700, 2699, 3780, 2697, 5146, 4312, 2696, 2695, 2694, 62, 4327, 3786, 2692, 2691, 672, 2707, 2709, 2711, 2734, 4316, 613, 2727, 2726, 3766, 2724, 3768, 2722, 2721, 3896, 2717, 4320, 2715, 77, 2713, 2712, 2731, 2959, 3928, 430, 3246, 3502, 439, 3503, 2568, 4102, 4103, 3505, 3234, 4004, 4104, 3231, 4003, 283, 4105, 3226, 447, 448, 282, 286, 3251, 4080, 4096, 3480, 422, 3481, 3484, 3487, 3270, 3268, 3489, 5082, 3265, 426, 3491, 3492, 3258, 4093, 289, 428, 3496, 4095, 3512, 449, 4000, 4111, 275, 3192, 274, 461, 3189, 4119, 3527, 463, 3180, 3178, 466, 4126, 467, 3171, 3994, 3170, 3168, 3167, 3534, 459, 5071, 3198, 279, 4112, 5074, 3514, 3515, 3214, 3516, 3999, 3210, 455, 3199, 3207, 3205, 3997, 3203, 4116, 3201, 3522, 3200, 3277, 3281, 2886, 3431, 3381, 3433, 3435, 327, 3375, 4026, 368, 326, 3371, 3440, 325, 4045, 369, 4046, 320, 3443, 4049, 3360, 4050, 3432, 3385, 3479, 3387, 337, 3407, 3415, 336, 4033, 4030, 348, 4035, 4028, 332, 331, 349, 5102, 3393, 353, 3390, 3389, 3429, 356, 374, 3444, 5097, 378, 399, 307, 4066, 4067, 4069, 3304, 3303, 3302, 3471, 407, 3300, 4070, 4011, 3294, 3475, 3290, 3289, 3478, 3283, 398, 3465, 3464, 3340, 3352, 4053, 380, 3349, 4024, 3450, 316, 3341, 4018, 4014, 387, 3457, 4017, 389, 3326, 5088, 3460, 3322, 3164, 3538, 265, 172, 2969, 580, 2967, 2965, 2964, 167, 5039, 2960, 2958, 2957, 161, 2954, 3643, 157, 3947, 154, 4220, 3649, 2947, 4214, 3635, 3161, 175, 3010, 201, 552, 189, 3004, 4198, 3952, 562, 3630, 3631, 2991, 4205, 566, 2988, 5046, 4207, 572, 2980, 178, 2946, 2945, 2944, 2942, 2906, 3669, 147, 2905, 146, 610, 4234, 3675, 143, 142, 3935, 4235, 4236, 2894, 3683, 2892, 2890, 2889, 3687, 3940, 605, 604, 2923, 4222, 2936, 590, 3656, 4227, 4228, 597, 2925, 150, 2909, 3658, 2919, 2918, 2917, 3659, 5030, 3663, 3664, 4196, 3014, 206, 5061, 491, 3126, 5064, 3978, 3123, 4152, 497, 499, 4153, 247, 3112, 3111, 3110, 3977, 3976, 243, 3571, 5063, 504, 3132, 4144, 254, 3983, 4129, 476, 4131, 477, 3545, 3154, 3546, 258, 255, 489, 4138, 4139, 3555, 3980, 485, 3139, 3558, 3137, 4156, 3103, 4194, 3102, 3590, 528, 529, 3059, 531, 224, 4171, 3053, 222, 537, 3044, 3604, 3958, 5054, 3033, 4185, 218, 3022, 3021, 3065, 3588, 3068, 3085, 507, 3972, 3099, 3098, 514, 515, 3090, 4162, 4163, 3069, 3083, 519, 231, 522, 3077, 3076, 3074, 525, 2569, 1125, 2567, 1735, 4729, 1758, 1757, 1755, 1753, 933, 1749, 1746, 1745, 1744, 1738, 1737, 1736, 1734, 2027, 935, 1732, 4738, 1730, 1729, 4739, 1727, 1726, 4741, 4742, 1722, 4744, 4745, 1761, 1765, 1766, 1767, 919, 1806, 1805, 1803, 1802, 1801, 1799, 4712, 4713, 1795, 1794, 1792, 921, 4717, 1788, 922, 4719, 1785, 1782, 1781, 4721, 1779, 1778, 1776, 928, 929, 1770, 936, 1715, 940, 1660, 1658, 4771, 1650, 1647, 4773, 956, 1643, 1641, 1640, 1638, 1637, 1635, 1630, 1628, 1626, 1625, 1623, 4780, 1617, 962, 1614, 4960, 1612, 965, 1606, 4790, 4791, 1659, 1661, 1711, 1662, 1710, 4750, 1706, 4751, 4752, 1701, 1699, 945, 1695, 1694, 1692, 1691, 1690, 1689, 4756, 1686, 4964, 1683, 4757, 4758, 1679, 1677, 4761, 1672, 1669, 1666, 4765, 4705, 1813, 4704, 1974, 1972, 1969, 1968, 1967, 1965, 1964, 1961, 897, 1958, 4634, 1956, 1955, 1949, 1948, 1947, 1946, 4968, 1938, 1936, 1933, 4646, 901, 3860, 902, 1924, 4653, 1922, 1973, 893, 903, 1976, 4608, 2019, 4609, 2017, 4610, 2015, 2009, 4616, 2006, 2004, 2003, 2002, 2001, 886, 1997, 1994, 1993, 1991, 1990, 4624, 1988, 1987, 1986, 4626, 1980, 1978, 1977, 1921, 1916, 4701, 1865, 4679, 4680, 4682, 1857, 1855, 1854, 1852, 1848, 4687, 1846, 1845, 4689, 1839, 1838, 4693, 1836, 1835, 4694, 1832, 1831, 4695, 916, 917, 1825, 4698, 1820, 1819, 4678, 4675, 904, 4672, 1914, 1913, 1910, 1909, 1906, 1903, 1902, 4967, 1900, 906, 1898, 1896, 4661, 1893, 4966, 4666, 1887, 1885, 1884, 1883, 1882, 1881, 1878, 911, 2566, 1873, 1870, 1601, 1600, 1598, 4880, 1289, 1288, 1287, 1285, 1284, 1283, 1072, 1279, 1277, 1276, 1274, 1073, 1270, 1268, 1075, 4937, 4887, 1257, 1256, 1080, 1254, 1253, 4888, 1250, 1243, 4891, 1088, 1291, 1293, 1234, 1294, 1044, 1349, 1348, 1344, 1343, 1342, 1340, 1047, 1337, 1335, 1333, 1332, 1052, 1329, 1328, 1327, 1324, 1323, 1322, 1321, 4869, 1314, 1056, 1311, 4941, 1306, 1299, 1239, 1232, 1360, 1181, 1178, 1109, 1175, 1111, 1171, 1168, 1165, 1116, 1161, 1160, 1157, 4917, 1154, 1153, 1147, 1146, 1145, 1142, 1140, 1119, 1120, 1136, 1135, 1134, 1131, 1123, 1124, 1107, 1182, 4895, 1106, 1230, 1090, 1226, 4896, 1092, 4897, 1093, 4899, 1096, 1217, 1216, 1213, 1097, 1211, 1206, 4930, 1202, 1201, 1200, 1101, 4929, 1196, 1103, 1193, 1190, 1188, 1185, 1037, 1362, 1597, 1537, 1534, 1533, 1532, 1529, 1528, 985, 1526, 1525, 986, 1522, 1518, 1514, 1510, 1508, 4956, 1506, 1505, 4821, 1503, 1502, 1500, 4823, 1492, 1490, 1489, 1488, 1483, 4813, 1539, 1479, 983, 1595, 1594, 1591, 4796, 1589, 1587, 968, 1585, 4797, 4959, 1576, 1574, 1573, 1572, 1571, 1569, 1568, 1565, 1563, 1562, 1558, 1557, 1556, 1555, 1552, 1549, 980, 1482, 1475, 1363, 4851, 1016, 1019, 1407, 4948, 1403, 1400, 1024, 1398, 1396, 1028, 1393, 1029, 1391, 1388, 1030, 1383, 1381, 1379, 1377, 1376, 1375, 1374, 1372, 1370, 1368, 1367, 1036, 1415, 4850, 4828, 4849, 1473, 1471, 4830, 4831, 1468, 1467, 1000, 1001, 1462, 1460, 1458, 1453, 1452, 1448, 1447, 4840, 1444, 1006, 1440, 1438, 1007, 1433, 1432, 4952, 1428, 1009, 1421, 2023, 1874, 725, 2399, 2209, 840, 4460, 841, 2414, 2201, 5004, 757, 4981, 2195, 752, 2192, 2191, 2189, 2188, 4456, 2185, 2183, 2182, 856, 2178, 2412, 2210, 839, 2405, 4465, 4464, 830, 831, 2234, 2403, 2233, 2404, 2231, 4985, 2213, 2224, 2223, 764, 838, 2408, 2219, 4519, 4462, 2214, 2428, 2429, 2431, 4536, 2149, 4532, 735, 4534, 2457, 2458, 2143, 865, 2140, 2461, 2454, 4442, 4441, 2137, 2136, 4440, 2135, 2465, 4439, 2467, 2455, 2451, 4454, 859, 744, 2177, 2173, 4528, 2168, 2436, 4452, 2167, 2165, 742, 4446, 740, 861, 2158, 739, 2156, 2155, 4447, 2153, 2152, 2400, 2239, 2132, 2240, 2364, 2321, 777, 2319, 2316, 2315, 4476, 2368, 2313, 2369, 2370, 2310, 2371, 799, 2306, 2305, 775, 2303, 2302, 4492, 2375, 4489, 2325, 2326, 2338, 781, 2349, 2347, 2346, 782, 786, 2340, 779, 2356, 2358, 2362, 2359, 787, 2360, 2334, 2333, 2332, 2330, 2361, 2328, 2299, 772, 2296, 5003, 2264, 2385, 2263, 770, 2261, 2259, 2255, 2254, 2253, 4507, 816, 767, 821, 2249, 2247, 766, 2244, 4468, 2397, 4466, 2384, 815, 2295, 2280, 2294, 803, 4994, 805, 2289, 2286, 2285, 2282, 2281, 2378, 4474, 2379, 2277, 2276, 2275, 2380, 812, 2272, 4475, 2382, 4539, 2157, 2546, 4561, 2498, 4573, 2540, 2542, 2091, 4568, 2095, 2497, 2494, 4394, 4594, 2545, 880, 2098, 2547, 2099, 2548, 4564, 4598, 2101, 4563, 4599, 2046, 2491, 2104, 2502, 2086, 4399, 2131, 4408, 2064, 4587, 4585, 2063, 2526, 4406, 2062, 2071, 4583, 2074, 4580, 2058, 2515, 2514, 874, 4576, 720, 4418, 2508, 2060, 2084, 4400, 2059, 2550, 4410, 4550, 2479, 2040, 2480, 2478, 868, 732, 4388, 2553, 2563, 2109, 4978, 4554, 2028, 869, 2554, 2564, 2555, 705, 870, 2041, 2044, 2033, 2565, 4973, 2035, 4389, 4546, 4391, 2036, 2038, 2483, 4558, 2031]\n"
     ]
    }
   ],
   "source": [
    "# Your code here\n",
    "#correct its working\n",
    "seen_articles=get_user_articles(131)[0]\n",
    "similar_user=find_similar_users(131)# a list of similar users\n",
    "print(similar_user)"
   ]
  },
  {
   "cell_type": "code",
   "execution_count": 427,
   "metadata": {},
   "outputs": [
    {
     "ename": "KeyError",
     "evalue": "'article_views'",
     "output_type": "error",
     "traceback": [
      "\u001b[1;31m---------------------------------------------------------------------------\u001b[0m",
      "\u001b[1;31mKeyError\u001b[0m                                  Traceback (most recent call last)",
      "\u001b[1;32m~\\AppData\\Local\\Temp\\ipykernel_158928\\935858576.py\u001b[0m in \u001b[0;36m?\u001b[1;34m()\u001b[0m\n\u001b[1;32m----> 2\u001b[1;33m \u001b[1;31m#user with the highest article views are on top\u001b[0m\u001b[1;33m\u001b[0m\u001b[1;33m\u001b[0m\u001b[1;33m\u001b[0m\u001b[0m\n\u001b[0m\u001b[0;32m      3\u001b[0m \u001b[0muser_article_views\u001b[0m\u001b[1;33m=\u001b[0m\u001b[0mneighbors_df\u001b[0m\u001b[1;33m.\u001b[0m\u001b[0msort_values\u001b[0m\u001b[1;33m(\u001b[0m\u001b[0mby\u001b[0m\u001b[1;33m=\u001b[0m\u001b[1;33m[\u001b[0m\u001b[1;34m\"article_views\"\u001b[0m\u001b[1;33m]\u001b[0m\u001b[1;33m,\u001b[0m\u001b[0mascending\u001b[0m \u001b[1;33m=\u001b[0m \u001b[1;32mFalse\u001b[0m\u001b[1;33m)\u001b[0m\u001b[1;33m[\u001b[0m\u001b[1;34m\"user_id\"\u001b[0m\u001b[1;33m]\u001b[0m\u001b[1;33m.\u001b[0m\u001b[0mindex\u001b[0m\u001b[1;33m.\u001b[0m\u001b[0mtolist\u001b[0m\u001b[1;33m(\u001b[0m\u001b[1;33m)\u001b[0m\u001b[1;33m\u001b[0m\u001b[1;33m\u001b[0m\u001b[0m\n\u001b[0;32m      4\u001b[0m \u001b[0mprint\u001b[0m\u001b[1;33m(\u001b[0m\u001b[0muser_article_views\u001b[0m\u001b[1;33m)\u001b[0m\u001b[1;33m\u001b[0m\u001b[1;33m\u001b[0m\u001b[0m\n",
      "\u001b[1;32mc:\\program files\\python38\\lib\\site-packages\\pandas\\core\\frame.py\u001b[0m in \u001b[0;36m?\u001b[1;34m(self, by, axis, ascending, inplace, kind, na_position, ignore_index, key)\u001b[0m\n\u001b[0;32m   6754\u001b[0m         \u001b[1;32melif\u001b[0m \u001b[0mlen\u001b[0m\u001b[1;33m(\u001b[0m\u001b[0mby\u001b[0m\u001b[1;33m)\u001b[0m\u001b[1;33m:\u001b[0m\u001b[1;33m\u001b[0m\u001b[1;33m\u001b[0m\u001b[0m\n\u001b[0;32m   6755\u001b[0m             \u001b[1;31m# len(by) == 1\u001b[0m\u001b[1;33m\u001b[0m\u001b[1;33m\u001b[0m\u001b[1;33m\u001b[0m\u001b[0m\n\u001b[0;32m   6756\u001b[0m \u001b[1;33m\u001b[0m\u001b[0m\n\u001b[0;32m   6757\u001b[0m             \u001b[0mby\u001b[0m \u001b[1;33m=\u001b[0m \u001b[0mby\u001b[0m\u001b[1;33m[\u001b[0m\u001b[1;36m0\u001b[0m\u001b[1;33m]\u001b[0m\u001b[1;33m\u001b[0m\u001b[1;33m\u001b[0m\u001b[0m\n\u001b[1;32m-> 6758\u001b[1;33m             \u001b[0mk\u001b[0m \u001b[1;33m=\u001b[0m \u001b[0mself\u001b[0m\u001b[1;33m.\u001b[0m\u001b[0m_get_label_or_level_values\u001b[0m\u001b[1;33m(\u001b[0m\u001b[0mby\u001b[0m\u001b[1;33m,\u001b[0m \u001b[0maxis\u001b[0m\u001b[1;33m=\u001b[0m\u001b[0maxis\u001b[0m\u001b[1;33m)\u001b[0m\u001b[1;33m\u001b[0m\u001b[1;33m\u001b[0m\u001b[0m\n\u001b[0m\u001b[0;32m   6759\u001b[0m \u001b[1;33m\u001b[0m\u001b[0m\n\u001b[0;32m   6760\u001b[0m             \u001b[1;31m# need to rewrap column in Series to apply key function\u001b[0m\u001b[1;33m\u001b[0m\u001b[1;33m\u001b[0m\u001b[1;33m\u001b[0m\u001b[0m\n\u001b[0;32m   6761\u001b[0m             \u001b[1;32mif\u001b[0m \u001b[0mkey\u001b[0m \u001b[1;32mis\u001b[0m \u001b[1;32mnot\u001b[0m \u001b[1;32mNone\u001b[0m\u001b[1;33m:\u001b[0m\u001b[1;33m\u001b[0m\u001b[1;33m\u001b[0m\u001b[0m\n",
      "\u001b[1;32mc:\\program files\\python38\\lib\\site-packages\\pandas\\core\\generic.py\u001b[0m in \u001b[0;36m?\u001b[1;34m(self, key, axis)\u001b[0m\n\u001b[0;32m   1774\u001b[0m             \u001b[0mvalues\u001b[0m \u001b[1;33m=\u001b[0m \u001b[0mself\u001b[0m\u001b[1;33m.\u001b[0m\u001b[0mxs\u001b[0m\u001b[1;33m(\u001b[0m\u001b[0mkey\u001b[0m\u001b[1;33m,\u001b[0m \u001b[0maxis\u001b[0m\u001b[1;33m=\u001b[0m\u001b[0mother_axes\u001b[0m\u001b[1;33m[\u001b[0m\u001b[1;36m0\u001b[0m\u001b[1;33m]\u001b[0m\u001b[1;33m)\u001b[0m\u001b[1;33m.\u001b[0m\u001b[0m_values\u001b[0m\u001b[1;33m\u001b[0m\u001b[1;33m\u001b[0m\u001b[0m\n\u001b[0;32m   1775\u001b[0m         \u001b[1;32melif\u001b[0m \u001b[0mself\u001b[0m\u001b[1;33m.\u001b[0m\u001b[0m_is_level_reference\u001b[0m\u001b[1;33m(\u001b[0m\u001b[0mkey\u001b[0m\u001b[1;33m,\u001b[0m \u001b[0maxis\u001b[0m\u001b[1;33m=\u001b[0m\u001b[0maxis\u001b[0m\u001b[1;33m)\u001b[0m\u001b[1;33m:\u001b[0m\u001b[1;33m\u001b[0m\u001b[1;33m\u001b[0m\u001b[0m\n\u001b[0;32m   1776\u001b[0m             \u001b[0mvalues\u001b[0m \u001b[1;33m=\u001b[0m \u001b[0mself\u001b[0m\u001b[1;33m.\u001b[0m\u001b[0maxes\u001b[0m\u001b[1;33m[\u001b[0m\u001b[0maxis\u001b[0m\u001b[1;33m]\u001b[0m\u001b[1;33m.\u001b[0m\u001b[0mget_level_values\u001b[0m\u001b[1;33m(\u001b[0m\u001b[0mkey\u001b[0m\u001b[1;33m)\u001b[0m\u001b[1;33m.\u001b[0m\u001b[0m_values\u001b[0m\u001b[1;33m\u001b[0m\u001b[1;33m\u001b[0m\u001b[0m\n\u001b[0;32m   1777\u001b[0m         \u001b[1;32melse\u001b[0m\u001b[1;33m:\u001b[0m\u001b[1;33m\u001b[0m\u001b[1;33m\u001b[0m\u001b[0m\n\u001b[1;32m-> 1778\u001b[1;33m             \u001b[1;32mraise\u001b[0m \u001b[0mKeyError\u001b[0m\u001b[1;33m(\u001b[0m\u001b[0mkey\u001b[0m\u001b[1;33m)\u001b[0m\u001b[1;33m\u001b[0m\u001b[1;33m\u001b[0m\u001b[0m\n\u001b[0m\u001b[0;32m   1779\u001b[0m \u001b[1;33m\u001b[0m\u001b[0m\n\u001b[0;32m   1780\u001b[0m         \u001b[1;31m# Check for duplicates\u001b[0m\u001b[1;33m\u001b[0m\u001b[1;33m\u001b[0m\u001b[1;33m\u001b[0m\u001b[0m\n\u001b[0;32m   1781\u001b[0m         \u001b[1;32mif\u001b[0m \u001b[0mvalues\u001b[0m\u001b[1;33m.\u001b[0m\u001b[0mndim\u001b[0m \u001b[1;33m>\u001b[0m \u001b[1;36m1\u001b[0m\u001b[1;33m:\u001b[0m\u001b[1;33m\u001b[0m\u001b[1;33m\u001b[0m\u001b[0m\n",
      "\u001b[1;31mKeyError\u001b[0m: 'article_views'"
     ]
    }
   ],
   "source": [
    "#user with the highest article views are on top\n",
    "user_article_views=neighbors_df.sort_values(by=[\"article_views\"],ascending = False)[\"user_id\"].index.tolist()\n",
    "print(user_article_views)"
   ]
  },
  {
   "cell_type": "code",
   "execution_count": null,
   "metadata": {
    "scrolled": true
   },
   "outputs": [],
   "source": [
    "#similar users with the most article views in order of views\n",
    "\n",
    "article_view_similar=[]\n",
    "for user in similar_user:\n",
    "    if user in user_article_views:\n",
    "        article_view_similar.append(user)\n",
    "        \n",
    "print(article_view_similar)       "
   ]
  },
  {
   "cell_type": "code",
   "execution_count": null,
   "metadata": {},
   "outputs": [],
   "source": [
    "similar_user_articles_lists=[get_user_articles(user)[0] for user in article_view_similar]\n",
    "#prints([0,4,6],[9,7,4])"
   ]
  },
  {
   "cell_type": "code",
   "execution_count": null,
   "metadata": {
    "scrolled": true
   },
   "outputs": [],
   "source": [
    "print(similar_user_articles_lists)"
   ]
  },
  {
   "cell_type": "code",
   "execution_count": null,
   "metadata": {},
   "outputs": [],
   "source": [
    "\n",
    "#articles from similar users with the most viewed articles\n",
    "similar_user_articles=sum(similar_user_articles_lists,[])\n",
    "#prints([0,4,6,9,7,4])"
   ]
  },
  {
   "cell_type": "code",
   "execution_count": null,
   "metadata": {
    "scrolled": true
   },
   "outputs": [],
   "source": [
    "print(similar_user_articles)"
   ]
  },
  {
   "cell_type": "code",
   "execution_count": null,
   "metadata": {},
   "outputs": [],
   "source": []
  },
  {
   "cell_type": "code",
   "execution_count": 98,
   "metadata": {
    "scrolled": true
   },
   "outputs": [
    {
     "name": "stdout",
     "output_type": "stream",
     "text": [
      "['1429.0', '1330.0', '1431.0', '1427.0', '1364.0', '1314.0', '1293.0', '1170.0', '1162.0', '1304.0', '1436.0', '1271.0', '1398.0', '43.0', '1351.0', '1393.0', '1185.0', '1160.0', '1354.0', '1368.0', '1305.0', '1338.0', '1336.0', '1165.0', '1172.0', '151.0', '1276.0', '1432.0', '1430.0', '1052.0', '124.0', '1343.0', '1163.0', '1400.0', '390.0', '1164.0', '20.0', '732.0', '1017.0', '260.0', '164.0', '681.0', '1054.0', '1437.0', '1053.0', '1360.0', '1174.0', '1171.0', '600.0', '1396.0', '1332.0', '1274.0', '237.0', '109.0', '1296.0', '1166.0', '1282.0', '1391.0', '108.0', '1386.0', '1367.0', '1324.0', '1025.0', '1394.0', '542.0', '1176.0', '241.0', '1183.0', '1422.0', '116.0', '482.0', '1320.0', '12.0', '250.0', '1423.0', '415.0', '98.0', '812.0', '268.0', '162.0', '1328.0', '1186.0', '730.0', '33.0', '57.0', '969.0', '1426.0', '1047.0', '1405.0', '939.0', '409.0', '1424.0', '981.0', '120.0', '593.0', '125.0', '943.0', '910.0', '51.0', '641.0', '193.0', '1357.0', '865.0', '1395.0', '729.0', '1435.0', '1428.0', '1181.0', '1014.0', '194.0', '53.0', '213.0', '510.0', '1420.0', '221.0', '795.0', '122.0', '1410.0', '651.0', '1048.0', '809.0', '1433.0', '684.0', '673.0', '933.0', '880.0', '1278.0', '1055.0', '1416.0', '645.0', '833.0', '957.0', '844.0', '462.0', '1317.0', '723.0', '34.0', '369.0', '477.0', '173.0', '316.0', '14.0', '202.0', '26.0', '101.0', '50.0', '1050.0', '8.0', '336.0', '525.0', '349.0', '153.0', '223.0', '310.0', '669.0', '821.0', '658.0', '958.0', '1016.0', '362.0', '1057.0', '18.0', '189.0', '1180.0', '103.0', '486.0', '29.0', '138.0', '131.0', '1277.0', '975.0', '1024.0', '682.0', '379.0', '1184.0', '1425.0', '40.0', '1366.0', '1403.0', '74.0', '788.0', '39.0', '111.0', '232.0', '495.0', '692.0', '353.0', '1059.0', '1018.0', '329.0', '959.0', '32.0', '617.0', '110.0', '766.0', '898.0', '205.0', '996.0', '16.0', '1298.0', '470.0', '315.0', '278.0', '508.0', '152.0', '254.0', '1439.0', '1321.0', '695.0', '1056.0', '1406.0', '2.0', '1169.0', '68.0', '76.0', '1060.0', '78.0', '761.0', '464.0', '559.0', '1175.0', '1158.0', '647.0', '64.0', '444.0', '1409.0', '903.0', '547.0', '130.0', '210.0', '1402.0', '911.0', '749.0', '1044.0', '314.0', '1028.0', '962.0', '1404.0', '485.0', '448.0', '465.0', '491.0', '494.0', '240.0', '1313.0', '422.0', '744.0', '764.0', '253.0', '607.0', '283.0', '967.0', '1042.0', '887.0', '843.0', '263.0', '382.0', '930.0', '132.0', '609.0', '350.0', '1418.0', '1350.0', '251.0', '28.0', '1434.0', '1411.0', '1157.0', '224.0', '1051.0', '142.0', '566.0', '236.0', '295.0', '725.0', '1356.0', '878.0', '825.0', '1329.0', '184.0', '440.0', '813.0', '1299.0', '1290.0', '665.0', '1178.0', '158.0', '92.0', '871.0', '634.0', '288.0', '136.0', '1337.0', '244.0', '793.0', '1159.0', '977.0', '864.0', '693.0', '855.0', '846.0', '955.0', '411.0', '891.0', '302.0', '311.0', '337.0', '191.0', '359.0', '146.0', '230.0', '239.0', '606.0', '1189.0', '705.0', '868.0', '427.0', '1173.0', '528.0', '1263.0', '727.0', '721.0', '225.0', '1225.0', '1286.0', '936.0', '1279.0', '563.0', '1331.0', '65.0', '381.0', '102.0', '858.0', '782.0', '297.0', '107.0', '113.0', '951.0', '965.0', '768.0', '667.0', '1168.0', '861.0', '143.0', '1138.0', '968.0', '1387.0', '15.0', '990.0', '585.0', '928.0', '1155.0', '1412.0', '735.0', '346.0', '952.0', '1280.0', '784.0', '284.0', '367.0', '1161.0', '273.0', '1397.0', '1273.0', '905.0', '81.0', '89.0', '1349.0', '252.0', '892.0', '1150.0', '348.0', '455.0', '583.0', '299.0', '1219.0', '1198.0', '659.0', '1061.0', '145.0', '1363.0', '524.0', '1443.0', '1407.0', '1058.0', '468.0', '347.0', '1177.0', '622.0', '599.0', '398.0', '195.0', '616.0', '722.0', '62.0', '215.0', '234.0', '618.0', '112.0', '460.0', '54.0', '266.0', '80.0', '475.0', '993.0', '876.0', '656.0', '339.0', '352.0', '1358.0', '720.0', '323.0', '632.0', '87.0', '569.0', '882.0', '1035.0', '291.0', '298.0', '686.0', '680.0', '36.0', '324.0', '785.0', '1281.0', '479.0', '1008.0', '30.0', '522.0', '1152.0', '1408.0', '480.0', '670.0', '233.0', '115.0', '1000.0', '181.0', '1362.0', '270.0', '60.0', '1190.0', '258.0', '1292.0', '25.0', '313.0', '853.0', '319.0', '426.0', '0.0', '1006.0', '277.0', '557.0', '544.0', '1149.0', '935.0', '1154.0', '4.0', '678.0', '1359.0', '986.0', '1289.0', '157.0', '59.0', '356.0', '412.0', '176.0', '715.0', '500.0', '862.0', '82.0', '668.0', '399.0', '759.0', '1261.0', '1145.0', '1361.0', '1143.0', '492.0', '1232.0', '58.0', '463.0', '373.0', '366.0', '1415.0', '881.0', '77.0', '949.0', '1141.0', '48.0', '932.0', '1377.0', '383.0', '117.0', '1153.0', '400.0', '919.0', '926.0', '626.0', '1440.0', '1295.0', '256.0', '428.0', '134.0', '1191.0', '9.0', '532.0', '948.0', '896.0', '751.0', '437.0', '1369.0', '303.0', '781.0', '973.0', '473.0', '330.0', '100.0', '183.0', '1124.0', '375.0', '1142.0', '1077.0', '1074.0', '655.0', '1065.0', '1114.0', '1079.0', '1062.0', '1148.0', '1125.0', '515.0', '1038.0', '517.0', '1120.0', '1441.0', '534.0', '1306.0', '1333.0', '1151.0', '1146.0', '1221.0', '446.0', '567.0', '1260.0', '1030.0', '1097.0', '857.0', '1192.0', '1004.0', '96.0', '188.0', '1253.0', '1348.0', '1401.0', '404.0', '906.0', '1291.0', '760.0', '1070.0', '502.0', '1318.0', '1063.0', '679.0', '763.0', '1254.0', '1179.0', '1187.0', '1319.0', '1139.0', '1123.0', '1140.0', '1257.0', '588.0', '351.0', '941.0', '714.0', '1419.0', '1228.0', '355.0', '1085.0', '1080.0', '1066.0', '805.0', '1444.0', '564.0', '1073.0', '1015.0', '474.0', '1252.0', '1199.0', '610.0', '1414.0', '1116.0', '997.0', '555.0', '701.0', '553.0', '1234.0', '1247.0', '389.0', '1371.0', '1147.0', '429.0', '1071.0', '1442.0', '1297.0', '985.0', '800.0', '884.0', '420.0', '1068.0', '1043.0', '1084.0', '1267.0', '1294.0', '1315.0', '1308.0', '740.0', '521.0', '1307.0', '961.0', '1128.0', '363.0', '1106.0', '1206.0', '1355.0', '1064.0', '1108.0', '1285.0', '1078.0', '631.0', '1421.0', '395.0', '1390.0', '708.0', '575.0', '1372.0', '1167.0', '384.0', '1303.0', '1227.0', '1235.0', '1156.0', '1091.0', '1135.0', '1086.0', '1251.0', '870.0', '757.0', '636.0', '586.0', '1101.0', '1144.0', '1334.0', '1112.0', '1067.0', '416.0', '1203.0', '430.0', '1122.0', '1340.0', '1083.0', '1283.0', '1335.0', '1244.0', '1346.0', '758.0', '1089.0', '1137.0', '1196.0', '1121.0', '1210.0', '1230.0', '1197.0', '1075.0', '1365.0', '644.0', '940.0', '947.0', '443.0', '1195.0', '1226.0', '1326.0', '1069.0', '1208.0', '364.0', '778.0', '1130.0', '1134.0', '677.0', '972.0', '1378.0', '1188.0', '376.0', '504.0', '499.0', '1200.0', '1119.0', '653.0', '417.0', '1202.0', '1233.0', '974.0', '1092.0', '1237.0', '724.0', '1072.0', '1127.0', '1266.0', '1344.0', '984.0', '1113.0', '675.0', '662.0']\n"
     ]
    }
   ],
   "source": [
    "#sorted article_views\n",
    "article_views=df[\"article_id\"].value_counts().index.tolist()\n",
    "print(article_views)"
   ]
  },
  {
   "cell_type": "code",
   "execution_count": 99,
   "metadata": {},
   "outputs": [],
   "source": [
    "similar_article_views=[]\n",
    "for article in article_views:\n",
    "    if article in similar_user_articles:\n",
    "        similar_article_views.append(article)\n",
    "        "
   ]
  },
  {
   "cell_type": "code",
   "execution_count": 100,
   "metadata": {
    "scrolled": true
   },
   "outputs": [
    {
     "name": "stdout",
     "output_type": "stream",
     "text": [
      "['1429.0', '1330.0', '1431.0', '1427.0', '1364.0', '1314.0', '1293.0', '1170.0', '1162.0', '1304.0', '1436.0', '1271.0', '1398.0', '43.0', '1351.0', '1393.0', '1185.0', '1160.0', '1354.0', '1368.0', '1305.0', '1338.0', '1336.0', '1165.0', '1172.0', '151.0', '1276.0', '1432.0', '1430.0', '1052.0', '124.0', '1343.0', '1163.0', '1400.0', '390.0', '1164.0', '20.0', '732.0', '1017.0', '260.0', '164.0', '681.0', '1054.0', '1437.0', '1053.0', '1360.0', '1174.0', '1171.0', '600.0', '1396.0', '1332.0', '1274.0', '237.0', '109.0', '1296.0', '1166.0', '1282.0', '1391.0', '108.0', '1386.0', '1367.0', '1324.0', '1025.0', '1394.0', '542.0', '1176.0', '241.0', '1183.0', '1422.0', '116.0', '482.0', '1320.0', '12.0', '250.0', '1423.0', '415.0', '98.0', '812.0', '268.0', '162.0', '1328.0', '1186.0', '730.0', '33.0', '57.0', '969.0', '1426.0', '1047.0', '1405.0', '939.0', '409.0', '1424.0', '981.0', '120.0', '593.0', '125.0', '943.0', '910.0', '51.0', '641.0', '193.0', '1357.0', '865.0', '1395.0', '729.0', '1435.0', '1428.0', '1181.0', '1014.0', '194.0', '53.0', '213.0', '510.0', '1420.0', '221.0', '795.0', '122.0', '1410.0', '651.0', '1048.0', '809.0', '1433.0', '684.0', '673.0', '933.0', '880.0', '1278.0', '1055.0', '1416.0', '645.0', '833.0', '957.0', '844.0', '462.0', '1317.0', '723.0', '34.0', '369.0', '477.0', '173.0', '316.0', '14.0', '202.0', '26.0', '101.0', '50.0', '1050.0', '8.0', '336.0', '525.0', '349.0', '153.0', '223.0', '310.0', '669.0', '821.0', '658.0', '958.0', '1016.0', '362.0', '1057.0', '18.0', '189.0', '1180.0', '103.0', '486.0', '29.0', '138.0', '131.0', '1277.0', '975.0', '1024.0', '682.0', '379.0', '1184.0', '1425.0', '40.0', '1366.0', '1403.0', '74.0', '788.0', '39.0', '111.0', '232.0', '495.0', '692.0', '353.0', '1059.0', '1018.0', '329.0', '959.0', '32.0', '617.0', '110.0', '766.0', '898.0', '205.0', '996.0', '16.0', '1298.0', '470.0', '315.0', '278.0', '508.0', '152.0', '254.0', '1439.0', '1321.0', '695.0', '1056.0', '1406.0', '2.0', '1169.0', '68.0', '76.0', '1060.0', '78.0', '761.0', '464.0', '559.0', '1175.0', '1158.0', '647.0', '64.0', '444.0', '1409.0', '903.0', '547.0', '130.0', '210.0', '1402.0', '911.0', '749.0', '1044.0', '314.0', '1028.0', '962.0', '1404.0', '485.0', '448.0', '465.0', '491.0', '494.0', '240.0', '1313.0', '422.0', '744.0', '764.0', '253.0', '607.0', '283.0', '967.0', '1042.0', '887.0', '843.0', '263.0', '382.0', '930.0', '132.0', '609.0', '350.0', '1418.0', '1350.0', '251.0', '28.0', '1434.0', '1411.0', '1157.0', '224.0', '1051.0', '142.0', '566.0', '236.0', '295.0', '725.0', '1356.0', '878.0', '825.0', '1329.0', '184.0', '440.0', '813.0', '1299.0', '1290.0', '665.0', '1178.0', '158.0', '92.0', '871.0', '634.0', '288.0', '136.0', '1337.0', '244.0', '793.0', '1159.0', '977.0', '864.0', '693.0', '855.0', '846.0', '955.0', '411.0', '891.0', '302.0', '311.0', '337.0', '191.0', '359.0', '146.0', '230.0', '239.0', '606.0', '1189.0', '705.0', '868.0', '427.0', '1173.0', '528.0', '1263.0', '727.0', '721.0', '225.0', '1225.0', '1286.0', '936.0', '1279.0', '563.0', '1331.0', '65.0', '381.0', '102.0', '858.0', '782.0', '297.0', '107.0', '113.0', '951.0', '965.0', '768.0', '667.0', '1168.0', '861.0', '143.0', '1138.0', '968.0', '1387.0', '15.0', '990.0', '585.0', '928.0', '1155.0', '1412.0', '735.0', '346.0', '952.0', '1280.0', '784.0', '284.0', '367.0', '1161.0', '273.0', '1397.0', '1273.0', '905.0', '81.0', '89.0', '1349.0', '252.0', '892.0', '1150.0', '348.0', '455.0', '583.0', '299.0', '1219.0', '1198.0', '659.0', '1061.0', '145.0', '1363.0', '524.0', '1443.0', '1407.0', '1058.0', '468.0', '347.0', '1177.0', '622.0', '599.0', '398.0', '195.0', '616.0', '722.0', '62.0', '215.0', '234.0', '618.0', '112.0', '460.0', '54.0', '266.0', '80.0', '475.0', '993.0', '876.0', '656.0', '339.0', '352.0', '1358.0', '720.0', '323.0', '632.0', '87.0', '569.0', '882.0', '1035.0', '291.0', '298.0', '686.0', '680.0', '36.0', '324.0', '785.0', '1281.0', '479.0', '1008.0', '30.0', '522.0', '1152.0', '1408.0', '480.0', '670.0', '233.0', '115.0', '1000.0', '181.0', '1362.0', '270.0', '60.0', '1190.0', '258.0', '1292.0', '25.0', '313.0', '853.0', '319.0', '426.0', '0.0', '1006.0', '277.0', '557.0', '544.0', '1149.0', '935.0', '1154.0', '4.0', '678.0', '1359.0', '986.0', '1289.0', '157.0', '59.0', '356.0', '412.0', '176.0', '715.0', '500.0', '862.0', '82.0', '668.0', '399.0', '759.0', '1261.0', '1145.0', '1361.0', '1143.0', '492.0', '1232.0', '58.0', '463.0', '373.0', '366.0', '1415.0', '881.0', '77.0', '949.0', '1141.0', '48.0', '932.0', '1377.0', '383.0', '117.0', '1153.0', '400.0', '919.0', '926.0', '626.0', '1440.0', '1295.0', '256.0', '428.0', '134.0', '1191.0', '9.0', '532.0', '948.0', '896.0', '751.0', '437.0', '1369.0', '303.0', '781.0', '973.0', '473.0', '330.0', '100.0', '183.0', '1124.0', '375.0', '1142.0', '1077.0', '1074.0', '655.0', '1065.0', '1114.0', '1079.0', '1062.0', '1148.0', '1125.0', '515.0', '1038.0', '517.0', '1120.0', '1441.0', '534.0', '1306.0', '1333.0', '1151.0', '1146.0', '1221.0', '446.0', '567.0', '1260.0', '1030.0', '1097.0', '857.0', '1192.0', '1004.0', '96.0', '188.0', '1253.0', '1348.0', '1401.0', '404.0', '906.0', '1291.0', '760.0', '1070.0', '502.0', '1318.0', '1063.0', '679.0', '763.0', '1254.0', '1179.0', '1187.0', '1319.0', '1139.0', '1123.0', '1140.0', '1257.0', '588.0', '351.0', '941.0', '714.0', '1419.0', '1228.0', '355.0', '1085.0', '1080.0', '1066.0', '805.0', '1444.0', '564.0', '1073.0', '1015.0', '474.0', '1252.0', '1199.0', '610.0', '1414.0', '1116.0', '997.0', '555.0', '701.0', '553.0', '1234.0', '1247.0', '389.0', '1371.0', '1147.0', '429.0', '1071.0', '1442.0', '1297.0', '985.0', '800.0', '884.0', '420.0', '1068.0', '1043.0', '1084.0', '1267.0', '1294.0', '1315.0', '1308.0', '740.0', '521.0', '1307.0', '961.0', '1128.0', '363.0', '1106.0', '1206.0', '1355.0', '1064.0', '1108.0', '1285.0', '1078.0', '631.0', '1421.0', '395.0', '1390.0', '708.0', '575.0', '1372.0', '1167.0', '384.0', '1303.0', '1227.0', '1235.0', '1156.0', '1091.0', '1135.0', '1086.0', '1251.0', '870.0', '757.0', '636.0', '586.0', '1101.0', '1144.0', '1334.0', '1112.0', '1067.0', '416.0', '1203.0', '1122.0', '1340.0', '1083.0', '1283.0', '1335.0', '1244.0', '1346.0', '758.0', '1089.0', '1137.0', '1196.0', '1121.0', '1210.0', '1197.0', '1075.0', '1365.0', '644.0', '940.0', '443.0', '1195.0', '1226.0', '1326.0', '1069.0', '1208.0', '364.0', '778.0', '1130.0', '1134.0', '677.0', '972.0', '1378.0', '1188.0', '376.0', '504.0', '499.0', '1119.0', '653.0', '974.0', '1092.0', '724.0', '1072.0', '1344.0', '984.0', '1113.0', '675.0']\n"
     ]
    }
   ],
   "source": [
    "print(similar_article_views)"
   ]
  },
  {
   "cell_type": "code",
   "execution_count": 101,
   "metadata": {},
   "outputs": [
    {
     "name": "stdout",
     "output_type": "stream",
     "text": [
      "['12.0', '14.0', '40.0', '74.0', '98.0', '120.0', '151.0', '152.0', '215.0', '223.0', '225.0', '230.0', '310.0', '314.0', '319.0', '349.0', '382.0', '390.0', '475.0', '656.0', '665.0', '723.0', '729.0', '766.0', '825.0', '957.0', '969.0', '1017.0', '1052.0', '1053.0', '1054.0', '1059.0', '1124.0', '1152.0', '1158.0', '1160.0', '1162.0', '1163.0', '1168.0', '1174.0', '1176.0', '1181.0', '1185.0', '1186.0', '1271.0', '1276.0', '1278.0', '1282.0', '1293.0', '1296.0', '1304.0', '1314.0', '1320.0', '1328.0', '1338.0', '1343.0', '1351.0', '1354.0', '1357.0', '1360.0', '1364.0', '1366.0', '1368.0', '1386.0', '1398.0', '1400.0', '1406.0', '1423.0', '1427.0', '1429.0', '1430.0', '1431.0', '1433.0', '1435.0', '1436.0']\n"
     ]
    }
   ],
   "source": [
    "print(seen_articles)"
   ]
  },
  {
   "cell_type": "code",
   "execution_count": 102,
   "metadata": {
    "scrolled": true
   },
   "outputs": [
    {
     "name": "stdout",
     "output_type": "stream",
     "text": [
      "['1330.0', '1170.0', '43.0', '1393.0', '1305.0', '1336.0', '1165.0', '1172.0', '1432.0', '124.0', '1164.0', '20.0', '732.0', '260.0', '164.0', '681.0', '1437.0', '1171.0', '600.0', '1396.0', '1332.0', '1274.0', '237.0', '109.0', '1166.0', '1391.0', '108.0', '1367.0', '1324.0', '1025.0', '1394.0', '542.0', '241.0', '1183.0', '1422.0', '116.0', '482.0', '250.0', '415.0', '812.0', '268.0', '162.0', '730.0', '33.0', '57.0', '1426.0', '1047.0', '1405.0', '939.0', '409.0', '1424.0', '981.0', '593.0', '125.0', '943.0', '910.0', '51.0', '641.0', '193.0', '865.0', '1395.0', '1428.0', '1014.0', '194.0', '53.0', '213.0', '510.0', '1420.0', '221.0', '795.0', '122.0', '1410.0', '651.0', '1048.0', '809.0', '684.0', '673.0', '933.0', '880.0', '1055.0', '1416.0', '645.0', '833.0', '844.0', '462.0', '1317.0', '34.0', '369.0', '477.0', '173.0', '316.0', '202.0', '26.0', '101.0', '50.0', '1050.0', '8.0', '336.0', '525.0', '153.0', '669.0', '821.0', '658.0', '958.0', '1016.0', '362.0', '1057.0', '18.0', '189.0', '1180.0', '103.0', '486.0', '29.0', '138.0', '131.0', '1277.0', '975.0', '1024.0', '682.0', '379.0', '1184.0', '1425.0', '1403.0', '788.0', '39.0', '111.0', '232.0', '495.0', '692.0', '353.0', '1018.0', '329.0', '959.0', '32.0', '617.0', '110.0', '898.0', '205.0', '996.0', '16.0', '1298.0', '470.0', '315.0', '278.0', '508.0', '254.0', '1439.0', '1321.0', '695.0', '1056.0', '2.0', '1169.0', '68.0', '76.0', '1060.0', '78.0', '761.0', '464.0', '559.0', '1175.0', '647.0', '64.0', '444.0', '1409.0', '903.0', '547.0', '130.0', '210.0', '1402.0', '911.0', '749.0', '1044.0', '1028.0', '962.0', '1404.0', '485.0', '448.0', '465.0', '491.0', '494.0', '240.0', '1313.0', '422.0', '744.0', '764.0', '253.0', '607.0', '283.0', '967.0', '1042.0', '887.0', '843.0', '263.0', '930.0', '132.0', '609.0', '350.0', '1418.0', '1350.0', '251.0', '28.0', '1434.0', '1411.0', '1157.0', '224.0', '1051.0', '142.0', '566.0', '236.0', '295.0', '725.0', '1356.0', '878.0', '1329.0', '184.0', '440.0', '813.0', '1299.0', '1290.0', '1178.0', '158.0', '92.0', '871.0', '634.0', '288.0', '136.0', '1337.0', '244.0', '793.0', '1159.0', '977.0', '864.0', '693.0', '855.0', '846.0', '955.0', '411.0', '891.0', '302.0', '311.0', '337.0', '191.0', '359.0', '146.0', '239.0', '606.0', '1189.0', '705.0', '868.0', '427.0', '1173.0', '528.0', '1263.0', '727.0', '721.0', '1225.0', '1286.0', '936.0', '1279.0', '563.0', '1331.0', '65.0', '381.0', '102.0', '858.0', '782.0', '297.0', '107.0', '113.0', '951.0', '965.0', '768.0', '667.0', '861.0', '143.0', '1138.0', '968.0', '1387.0', '15.0', '990.0', '585.0', '928.0', '1155.0', '1412.0', '735.0', '346.0', '952.0', '1280.0', '784.0', '284.0', '367.0', '1161.0', '273.0', '1397.0', '1273.0', '905.0', '81.0', '89.0', '1349.0', '252.0', '892.0', '1150.0', '348.0', '455.0', '583.0', '299.0', '1219.0', '1198.0', '659.0', '1061.0', '145.0', '1363.0', '524.0', '1443.0', '1407.0', '1058.0', '468.0', '347.0', '1177.0', '622.0', '599.0', '398.0', '195.0', '616.0', '722.0', '62.0', '234.0', '618.0', '112.0', '460.0', '54.0', '266.0', '80.0', '993.0', '876.0', '339.0', '352.0', '1358.0', '720.0', '323.0', '632.0', '87.0', '569.0', '882.0', '1035.0', '291.0', '298.0', '686.0', '680.0', '36.0', '324.0', '785.0', '1281.0', '479.0', '1008.0', '30.0', '522.0', '1408.0', '480.0', '670.0', '233.0', '115.0', '1000.0', '181.0', '1362.0', '270.0', '60.0', '1190.0', '258.0', '1292.0', '25.0', '313.0', '853.0', '426.0', '0.0', '1006.0', '277.0', '557.0', '544.0', '1149.0', '935.0', '1154.0', '4.0', '678.0', '1359.0', '986.0', '1289.0', '157.0', '59.0', '356.0', '412.0', '176.0', '715.0', '500.0', '862.0', '82.0', '668.0', '399.0', '759.0', '1261.0', '1145.0', '1361.0', '1143.0', '492.0', '1232.0', '58.0', '463.0', '373.0', '366.0', '1415.0', '881.0', '77.0', '949.0', '1141.0', '48.0', '932.0', '1377.0', '383.0', '117.0', '1153.0', '400.0', '919.0', '926.0', '626.0', '1440.0', '1295.0', '256.0', '428.0', '134.0', '1191.0', '9.0', '532.0', '948.0', '896.0', '751.0', '437.0', '1369.0', '303.0', '781.0', '973.0', '473.0', '330.0', '100.0', '183.0', '375.0', '1142.0', '1077.0', '1074.0', '655.0', '1065.0', '1114.0', '1079.0', '1062.0', '1148.0', '1125.0', '515.0', '1038.0', '517.0', '1120.0', '1441.0', '534.0', '1306.0', '1333.0', '1151.0', '1146.0', '1221.0', '446.0', '567.0', '1260.0', '1030.0', '1097.0', '857.0', '1192.0', '1004.0', '96.0', '188.0', '1253.0', '1348.0', '1401.0', '404.0', '906.0', '1291.0', '760.0', '1070.0', '502.0', '1318.0', '1063.0', '679.0', '763.0', '1254.0', '1179.0', '1187.0', '1319.0', '1139.0', '1123.0', '1140.0', '1257.0', '588.0', '351.0', '941.0', '714.0', '1419.0', '1228.0', '355.0', '1085.0', '1080.0', '1066.0', '805.0', '1444.0', '564.0', '1073.0', '1015.0', '474.0', '1252.0', '1199.0', '610.0', '1414.0', '1116.0', '997.0', '555.0', '701.0', '553.0', '1234.0', '1247.0', '389.0', '1371.0', '1147.0', '429.0', '1071.0', '1442.0', '1297.0', '985.0', '800.0', '884.0', '420.0', '1068.0', '1043.0', '1084.0', '1267.0', '1294.0', '1315.0', '1308.0', '740.0', '521.0', '1307.0', '961.0', '1128.0', '363.0', '1106.0', '1206.0', '1355.0', '1064.0', '1108.0', '1285.0', '1078.0', '631.0', '1421.0', '395.0', '1390.0', '708.0', '575.0', '1372.0', '1167.0', '384.0', '1303.0', '1227.0', '1235.0', '1156.0', '1091.0', '1135.0', '1086.0', '1251.0', '870.0', '757.0', '636.0', '586.0', '1101.0', '1144.0', '1334.0', '1112.0', '1067.0', '416.0', '1203.0', '1122.0', '1340.0', '1083.0', '1283.0', '1335.0', '1244.0', '1346.0', '758.0', '1089.0', '1137.0', '1196.0', '1121.0', '1210.0', '1197.0', '1075.0', '1365.0', '644.0', '940.0', '443.0', '1195.0', '1226.0', '1326.0', '1069.0', '1208.0', '364.0', '778.0', '1130.0', '1134.0', '677.0', '972.0', '1378.0', '1188.0', '376.0', '504.0', '499.0', '1119.0', '653.0', '974.0', '1092.0', '724.0', '1072.0', '1344.0', '984.0', '1113.0', '675.0']\n"
     ]
    }
   ],
   "source": [
    "rec=[]\n",
    "\n",
    "for article in similar_article_views:\n",
    "    if article not in seen_articles:\n",
    "         rec.append(article)\n",
    "\n",
    "print(rec)"
   ]
  },
  {
   "cell_type": "code",
   "execution_count": 103,
   "metadata": {},
   "outputs": [
    {
     "name": "stdout",
     "output_type": "stream",
     "text": [
      "These are the 10 recommendations:['1330.0', '1170.0', '43.0', '1393.0', '1305.0', '1336.0', '1165.0', '1172.0', '1432.0', '124.0']\n"
     ]
    }
   ],
   "source": [
    "if len(rec)>10:#going to replace 10 with m\n",
    "    recs=rec[:10] \n",
    "print(\"These are the 10 recommendations:{}\".format(recs)) "
   ]
  },
  {
   "cell_type": "code",
   "execution_count": 355,
   "metadata": {},
   "outputs": [
    {
     "data": {
      "text/plain": [
       "['data science for real-time streaming analytics',\n",
       " 'learn tensorflow and deep learning together and now!',\n",
       " 'deep learning trends and an example',\n",
       " 'modeling energy usage in new york city',\n",
       " 'deep learning with data science experience',\n",
       " 'sector correlations shiny app',\n",
       " 'how to map usa rivers using ggplot2',\n",
       " 'the machine learning database',\n",
       " 'this week in data science (may 2, 2017)',\n",
       " 'twelve\\xa0ways to color a map of africa using brunel']"
      ]
     },
     "execution_count": 355,
     "metadata": {},
     "output_type": "execute_result"
    }
   ],
   "source": [
    "get_article_names(recs)"
   ]
  },
  {
   "cell_type": "markdown",
   "metadata": {},
   "source": [
    "## --------------------------------------------------- Done ---------------------------------------------------------------"
   ]
  },
  {
   "cell_type": "code",
   "execution_count": 428,
   "metadata": {},
   "outputs": [
    {
     "name": "stdout",
     "output_type": "stream",
     "text": [
      "The top 10 recommendations for user 20 are the following article ids:\n",
      "['12.0', '14.0', '40.0', '74.0', '98.0', '120.0', '151.0', '152.0', '195.0', '215.0']\n",
      "\n",
      "The top 10 recommendations for user 20 are the following article names:\n",
      "['got zip code data? prep it for analytics. – ibm watson data lab – medium', 'timeseries data analysis of iot events by using jupyter notebook', 'jupyter notebook tutorial', 'the 3 kinds of context: machine learning and the art of the frame', 'how to map usa rivers using ggplot2', 'data wrangling with dplyr and tidyr cheat sheet', 'a dynamic duo – inside machine learning – medium', 'ensemble learning to improve machine learning results', 'artificial intelligence, ethically speaking – inside machine learning – medium', 'how to solve 90% of nlp problems']\n"
     ]
    }
   ],
   "source": [
    "# Quick spot check - don't change this code - just use it to test your functions\n",
    "rec_ids, rec_names = user_user_recs_part2(20, 10)\n",
    "print(\"The top 10 recommendations for user 20 are the following article ids:\")\n",
    "print(rec_ids)\n",
    "print()\n",
    "print(\"The top 10 recommendations for user 20 are the following article names:\")\n",
    "print(rec_names)"
   ]
  },
  {
   "cell_type": "markdown",
   "metadata": {},
   "source": [
    "`5.` Use your functions from above to correctly fill in the solutions to the dictionary below.  Then test your dictionary against the solution.  Provide the code you need to answer each following the comments below."
   ]
  },
  {
   "cell_type": "code",
   "execution_count": 358,
   "metadata": {},
   "outputs": [],
   "source": [
    "### Tests with a dictionary of results\n",
    "\n",
    "user1_most_sim =get_top_sorted_users(1).iloc[0,0] # Find the user that is most similar to user 1 \n",
    "user131_10th_sim =get_top_sorted_users(131).iloc[9,0] # Find the 10th most similar user to user 131"
   ]
  },
  {
   "cell_type": "code",
   "execution_count": 359,
   "metadata": {},
   "outputs": [
    {
     "name": "stdout",
     "output_type": "stream",
     "text": [
      "This all looks good!  Nice job!\n"
     ]
    }
   ],
   "source": [
    "## Dictionary Test Here\n",
    "sol_5_dict = {\n",
    "    'The user that is most similar to user 1.': user1_most_sim, \n",
    "    'The user that is the 10th most similar to user 131': user131_10th_sim,\n",
    "}\n",
    "\n",
    "t.sol_5_test(sol_5_dict)"
   ]
  },
  {
   "cell_type": "markdown",
   "metadata": {},
   "source": [
    "`6.` If we were given a new user, which of the above functions would you be able to use to make recommendations?  Explain.  Can you think of a better way we might make recommendations?  Use the cell below to explain a better method for new users."
   ]
  },
  {
   "cell_type": "markdown",
   "metadata": {},
   "source": [
    "**Provide your response here.**"
   ]
  },
  {
   "cell_type": "markdown",
   "metadata": {},
   "source": [
    "`7.` Using your existing functions, provide the top 10 recommended articles you would provide for the a new user below.  You can test your function against our thoughts to make sure we are all on the same page with how we might make a recommendation."
   ]
  },
  {
   "cell_type": "code",
   "execution_count": 360,
   "metadata": {},
   "outputs": [],
   "source": [
    "new_user = '0.0'\n",
    "\n",
    "# What would your recommendations be for this new user '0.0'?  As a new user, they have no observed articles.\n",
    "# Provide a list of the top 10 article ids you would give to \n",
    "new_user_recs =get_top_article_ids(10, df) # Your recommendations here\n",
    "\n"
   ]
  },
  {
   "cell_type": "code",
   "execution_count": 361,
   "metadata": {},
   "outputs": [
    {
     "name": "stdout",
     "output_type": "stream",
     "text": [
      "That's right!  Nice job!\n"
     ]
    }
   ],
   "source": [
    "assert set(new_user_recs) == set(['1314.0','1429.0','1293.0','1427.0','1162.0','1364.0','1304.0','1170.0','1431.0','1330.0']), \"Oops!  It makes sense that in this case we would want to recommend the most popular articles, because we don't know anything about these users.\"\n",
    "\n",
    "print(\"That's right!  Nice job!\")"
   ]
  },
  {
   "cell_type": "markdown",
   "metadata": {},
   "source": [
    "### <a class=\"anchor\" id=\"Content-Recs\">Part IV: Content Based Recommendations (EXTRA - NOT REQUIRED)</a>\n",
    "\n",
    "Another method we might use to make recommendations is to perform a ranking of the highest ranked articles associated with some term.  You might consider content to be the **doc_body**, **doc_description**, or **doc_full_name**.  There isn't one way to create a content based recommendation, especially considering that each of these columns hold content related information.  \n",
    "\n",
    "`1.` Use the function body below to create a content based recommender.  Since there isn't one right answer for this recommendation tactic, no test functions are provided.  Feel free to change the function inputs if you decide you want to try a method that requires more input values.  The input values are currently set with one idea in mind that you may use to make content based recommendations.  One additional idea is that you might want to choose the most popular recommendations that meet your 'content criteria', but again, there is a lot of flexibility in how you might make these recommendations.\n",
    "\n",
    "### This part is NOT REQUIRED to pass this project.  However, you may choose to take this on as an extra way to show off your skills."
   ]
  },
  {
   "cell_type": "code",
   "execution_count": null,
   "metadata": {},
   "outputs": [],
   "source": [
    "def make_content_recs():\n",
    "    '''\n",
    "    INPUT:\n",
    "    \n",
    "    OUTPUT:\n",
    "    \n",
    "    '''"
   ]
  },
  {
   "cell_type": "markdown",
   "metadata": {},
   "source": [
    "`2.` Now that you have put together your content-based recommendation system, use the cell below to write a summary explaining how your content based recommender works.  Do you see any possible improvements that could be made to your function?  Is there anything novel about your content based recommender?\n",
    "\n",
    "### This part is NOT REQUIRED to pass this project.  However, you may choose to take this on as an extra way to show off your skills."
   ]
  },
  {
   "cell_type": "markdown",
   "metadata": {},
   "source": [
    "**Write an explanation of your content based recommendation system here.**"
   ]
  },
  {
   "cell_type": "markdown",
   "metadata": {},
   "source": [
    "`3.` Use your content-recommendation system to make recommendations for the below scenarios based on the comments.  Again no tests are provided here, because there isn't one right answer that could be used to find these content based recommendations.\n",
    "\n",
    "### This part is NOT REQUIRED to pass this project.  However, you may choose to take this on as an extra way to show off your skills."
   ]
  },
  {
   "cell_type": "code",
   "execution_count": null,
   "metadata": {},
   "outputs": [],
   "source": [
    "# make recommendations for a brand new user\n",
    "\n",
    "\n",
    "# make a recommendations for a user who only has interacted with article id '1427.0'\n",
    "\n"
   ]
  },
  {
   "cell_type": "markdown",
   "metadata": {},
   "source": [
    "### <a class=\"anchor\" id=\"Matrix-Fact\">Part V: Matrix Factorization</a>\n",
    "\n",
    "In this part of the notebook, you will build use matrix factorization to make article recommendations to the users on the IBM Watson Studio platform.\n",
    "\n",
    "`1.` You should have already created a **user_item** matrix above in **question 1** of **Part III** above.  This first question here will just require that you run the cells to get things set up for the rest of **Part V** of the notebook. "
   ]
  },
  {
   "cell_type": "code",
   "execution_count": 429,
   "metadata": {},
   "outputs": [],
   "source": [
    "# Load the matrix here\n",
    "user_item_matrix = pd.read_pickle('user_item_matrix.p')"
   ]
  },
  {
   "cell_type": "code",
   "execution_count": 430,
   "metadata": {},
   "outputs": [
    {
     "data": {
      "text/html": [
       "<div>\n",
       "<style scoped>\n",
       "    .dataframe tbody tr th:only-of-type {\n",
       "        vertical-align: middle;\n",
       "    }\n",
       "\n",
       "    .dataframe tbody tr th {\n",
       "        vertical-align: top;\n",
       "    }\n",
       "\n",
       "    .dataframe thead th {\n",
       "        text-align: right;\n",
       "    }\n",
       "</style>\n",
       "<table border=\"1\" class=\"dataframe\">\n",
       "  <thead>\n",
       "    <tr style=\"text-align: right;\">\n",
       "      <th>article_id</th>\n",
       "      <th>0.0</th>\n",
       "      <th>100.0</th>\n",
       "      <th>1000.0</th>\n",
       "      <th>1004.0</th>\n",
       "      <th>1006.0</th>\n",
       "      <th>1008.0</th>\n",
       "      <th>101.0</th>\n",
       "      <th>1014.0</th>\n",
       "      <th>1015.0</th>\n",
       "      <th>1016.0</th>\n",
       "      <th>...</th>\n",
       "      <th>977.0</th>\n",
       "      <th>98.0</th>\n",
       "      <th>981.0</th>\n",
       "      <th>984.0</th>\n",
       "      <th>985.0</th>\n",
       "      <th>986.0</th>\n",
       "      <th>990.0</th>\n",
       "      <th>993.0</th>\n",
       "      <th>996.0</th>\n",
       "      <th>997.0</th>\n",
       "    </tr>\n",
       "    <tr>\n",
       "      <th>user_id</th>\n",
       "      <th></th>\n",
       "      <th></th>\n",
       "      <th></th>\n",
       "      <th></th>\n",
       "      <th></th>\n",
       "      <th></th>\n",
       "      <th></th>\n",
       "      <th></th>\n",
       "      <th></th>\n",
       "      <th></th>\n",
       "      <th></th>\n",
       "      <th></th>\n",
       "      <th></th>\n",
       "      <th></th>\n",
       "      <th></th>\n",
       "      <th></th>\n",
       "      <th></th>\n",
       "      <th></th>\n",
       "      <th></th>\n",
       "      <th></th>\n",
       "      <th></th>\n",
       "    </tr>\n",
       "  </thead>\n",
       "  <tbody>\n",
       "    <tr>\n",
       "      <th>1</th>\n",
       "      <td>0.0</td>\n",
       "      <td>0.0</td>\n",
       "      <td>0.0</td>\n",
       "      <td>0.0</td>\n",
       "      <td>0.0</td>\n",
       "      <td>0.0</td>\n",
       "      <td>0.0</td>\n",
       "      <td>0.0</td>\n",
       "      <td>0.0</td>\n",
       "      <td>0.0</td>\n",
       "      <td>...</td>\n",
       "      <td>0.0</td>\n",
       "      <td>0.0</td>\n",
       "      <td>1.0</td>\n",
       "      <td>0.0</td>\n",
       "      <td>0.0</td>\n",
       "      <td>0.0</td>\n",
       "      <td>0.0</td>\n",
       "      <td>0.0</td>\n",
       "      <td>0.0</td>\n",
       "      <td>0.0</td>\n",
       "    </tr>\n",
       "    <tr>\n",
       "      <th>2</th>\n",
       "      <td>0.0</td>\n",
       "      <td>0.0</td>\n",
       "      <td>0.0</td>\n",
       "      <td>0.0</td>\n",
       "      <td>0.0</td>\n",
       "      <td>0.0</td>\n",
       "      <td>0.0</td>\n",
       "      <td>0.0</td>\n",
       "      <td>0.0</td>\n",
       "      <td>0.0</td>\n",
       "      <td>...</td>\n",
       "      <td>0.0</td>\n",
       "      <td>0.0</td>\n",
       "      <td>0.0</td>\n",
       "      <td>0.0</td>\n",
       "      <td>0.0</td>\n",
       "      <td>0.0</td>\n",
       "      <td>0.0</td>\n",
       "      <td>0.0</td>\n",
       "      <td>0.0</td>\n",
       "      <td>0.0</td>\n",
       "    </tr>\n",
       "    <tr>\n",
       "      <th>3</th>\n",
       "      <td>0.0</td>\n",
       "      <td>0.0</td>\n",
       "      <td>0.0</td>\n",
       "      <td>0.0</td>\n",
       "      <td>0.0</td>\n",
       "      <td>0.0</td>\n",
       "      <td>0.0</td>\n",
       "      <td>0.0</td>\n",
       "      <td>0.0</td>\n",
       "      <td>0.0</td>\n",
       "      <td>...</td>\n",
       "      <td>1.0</td>\n",
       "      <td>0.0</td>\n",
       "      <td>0.0</td>\n",
       "      <td>0.0</td>\n",
       "      <td>0.0</td>\n",
       "      <td>0.0</td>\n",
       "      <td>0.0</td>\n",
       "      <td>0.0</td>\n",
       "      <td>0.0</td>\n",
       "      <td>0.0</td>\n",
       "    </tr>\n",
       "    <tr>\n",
       "      <th>4</th>\n",
       "      <td>0.0</td>\n",
       "      <td>0.0</td>\n",
       "      <td>0.0</td>\n",
       "      <td>0.0</td>\n",
       "      <td>0.0</td>\n",
       "      <td>0.0</td>\n",
       "      <td>0.0</td>\n",
       "      <td>0.0</td>\n",
       "      <td>0.0</td>\n",
       "      <td>0.0</td>\n",
       "      <td>...</td>\n",
       "      <td>0.0</td>\n",
       "      <td>0.0</td>\n",
       "      <td>0.0</td>\n",
       "      <td>0.0</td>\n",
       "      <td>0.0</td>\n",
       "      <td>0.0</td>\n",
       "      <td>0.0</td>\n",
       "      <td>0.0</td>\n",
       "      <td>0.0</td>\n",
       "      <td>0.0</td>\n",
       "    </tr>\n",
       "    <tr>\n",
       "      <th>5</th>\n",
       "      <td>0.0</td>\n",
       "      <td>0.0</td>\n",
       "      <td>0.0</td>\n",
       "      <td>0.0</td>\n",
       "      <td>0.0</td>\n",
       "      <td>0.0</td>\n",
       "      <td>0.0</td>\n",
       "      <td>0.0</td>\n",
       "      <td>0.0</td>\n",
       "      <td>0.0</td>\n",
       "      <td>...</td>\n",
       "      <td>0.0</td>\n",
       "      <td>0.0</td>\n",
       "      <td>0.0</td>\n",
       "      <td>0.0</td>\n",
       "      <td>0.0</td>\n",
       "      <td>0.0</td>\n",
       "      <td>0.0</td>\n",
       "      <td>0.0</td>\n",
       "      <td>0.0</td>\n",
       "      <td>0.0</td>\n",
       "    </tr>\n",
       "  </tbody>\n",
       "</table>\n",
       "<p>5 rows × 714 columns</p>\n",
       "</div>"
      ],
      "text/plain": [
       "article_id  0.0  100.0  1000.0  1004.0  1006.0  1008.0  101.0  1014.0  1015.0  \\\n",
       "user_id                                                                         \n",
       "1           0.0    0.0     0.0     0.0     0.0     0.0    0.0     0.0     0.0   \n",
       "2           0.0    0.0     0.0     0.0     0.0     0.0    0.0     0.0     0.0   \n",
       "3           0.0    0.0     0.0     0.0     0.0     0.0    0.0     0.0     0.0   \n",
       "4           0.0    0.0     0.0     0.0     0.0     0.0    0.0     0.0     0.0   \n",
       "5           0.0    0.0     0.0     0.0     0.0     0.0    0.0     0.0     0.0   \n",
       "\n",
       "article_id  1016.0  ...  977.0  98.0  981.0  984.0  985.0  986.0  990.0  \\\n",
       "user_id             ...                                                   \n",
       "1              0.0  ...    0.0   0.0    1.0    0.0    0.0    0.0    0.0   \n",
       "2              0.0  ...    0.0   0.0    0.0    0.0    0.0    0.0    0.0   \n",
       "3              0.0  ...    1.0   0.0    0.0    0.0    0.0    0.0    0.0   \n",
       "4              0.0  ...    0.0   0.0    0.0    0.0    0.0    0.0    0.0   \n",
       "5              0.0  ...    0.0   0.0    0.0    0.0    0.0    0.0    0.0   \n",
       "\n",
       "article_id  993.0  996.0  997.0  \n",
       "user_id                          \n",
       "1             0.0    0.0    0.0  \n",
       "2             0.0    0.0    0.0  \n",
       "3             0.0    0.0    0.0  \n",
       "4             0.0    0.0    0.0  \n",
       "5             0.0    0.0    0.0  \n",
       "\n",
       "[5 rows x 714 columns]"
      ]
     },
     "execution_count": 430,
     "metadata": {},
     "output_type": "execute_result"
    }
   ],
   "source": [
    "# quick look at the matrix\n",
    "user_item_matrix.head()"
   ]
  },
  {
   "cell_type": "markdown",
   "metadata": {},
   "source": [
    "`2.` In this situation, you can use Singular Value Decomposition from [numpy](https://docs.scipy.org/doc/numpy-1.14.0/reference/generated/numpy.linalg.svd.html) on the user-item matrix.  Use the cell to perform SVD, and explain why this is different than in the lesson."
   ]
  },
  {
   "cell_type": "code",
   "execution_count": null,
   "metadata": {},
   "outputs": [],
   "source": [
    "# Perform SVD on the User-Item Matrix Here\n",
    "\n",
    "u, s, vt = # use the built in to get the three matrices"
   ]
  },
  {
   "cell_type": "markdown",
   "metadata": {},
   "source": [
    "**Provide your response here.**"
   ]
  },
  {
   "cell_type": "markdown",
   "metadata": {},
   "source": [
    "`3.` Now for the tricky part, how do we choose the number of latent features to use?  Running the below cell, you can see that as the number of latent features increases, we obtain a lower error rate on making predictions for the 1 and 0 values in the user-item matrix.  Run the cell below to get an idea of how the accuracy improves as we increase the number of latent features."
   ]
  },
  {
   "cell_type": "code",
   "execution_count": null,
   "metadata": {},
   "outputs": [],
   "source": [
    "num_latent_feats = np.arange(10,700+10,20)\n",
    "sum_errs = []\n",
    "\n",
    "for k in num_latent_feats:\n",
    "    # restructure with k latent features\n",
    "    s_new, u_new, vt_new = np.diag(s[:k]), u[:, :k], vt[:k, :]\n",
    "    \n",
    "    # take dot product\n",
    "    user_item_est = np.around(np.dot(np.dot(u_new, s_new), vt_new))\n",
    "    \n",
    "    # compute error for each prediction to actual value\n",
    "    diffs = np.subtract(user_item_matrix, user_item_est)\n",
    "    \n",
    "    # total errors and keep track of them\n",
    "    err = np.sum(np.sum(np.abs(diffs)))\n",
    "    sum_errs.append(err)\n",
    "    \n",
    "    \n",
    "plt.plot(num_latent_feats, 1 - np.array(sum_errs)/df.shape[0]);\n",
    "plt.xlabel('Number of Latent Features');\n",
    "plt.ylabel('Accuracy');\n",
    "plt.title('Accuracy vs. Number of Latent Features');"
   ]
  },
  {
   "cell_type": "markdown",
   "metadata": {},
   "source": [
    "`4.` From the above, we can't really be sure how many features to use, because simply having a better way to predict the 1's and 0's of the matrix doesn't exactly give us an indication of if we are able to make good recommendations.  Instead, we might split our dataset into a training and test set of data, as shown in the cell below.  \n",
    "\n",
    "Use the code from question 3 to understand the impact on accuracy of the training and test sets of data with different numbers of latent features. Using the split below: \n",
    "\n",
    "* How many users can we make predictions for in the test set?  \n",
    "* How many users are we not able to make predictions for because of the cold start problem?\n",
    "* How many articles can we make predictions for in the test set?  \n",
    "* How many articles are we not able to make predictions for because of the cold start problem?"
   ]
  },
  {
   "cell_type": "code",
   "execution_count": null,
   "metadata": {},
   "outputs": [],
   "source": [
    "df_train = df.head(40000)\n",
    "df_test = df.tail(5993)\n",
    "\n",
    "def create_test_and_train_user_item(df_train, df_test):\n",
    "    '''\n",
    "    INPUT:\n",
    "    df_train - training dataframe\n",
    "    df_test - test dataframe\n",
    "    \n",
    "    OUTPUT:\n",
    "    user_item_train - a user-item matrix of the training dataframe \n",
    "                      (unique users for each row and unique articles for each column)\n",
    "    user_item_test - a user-item matrix of the testing dataframe \n",
    "                    (unique users for each row and unique articles for each column)\n",
    "    test_idx - all of the test user ids\n",
    "    test_arts - all of the test article ids\n",
    "    \n",
    "    '''\n",
    "    # Your code here\n",
    "    \n",
    "    return user_item_train, user_item_test, test_idx, test_arts\n",
    "\n",
    "user_item_train, user_item_test, test_idx, test_arts = create_test_and_train_user_item(df_train, df_test)"
   ]
  },
  {
   "cell_type": "code",
   "execution_count": null,
   "metadata": {},
   "outputs": [],
   "source": [
    "# Replace the values in the dictionary below\n",
    "a = 662 \n",
    "b = 574 \n",
    "c = 20 \n",
    "d = 0 \n",
    "\n",
    "\n",
    "sol_4_dict = {\n",
    "    'How many users can we make predictions for in the test set?': # letter here, \n",
    "    'How many users in the test set are we not able to make predictions for because of the cold start problem?': # letter here, \n",
    "    'How many articles can we make predictions for in the test set?': # letter here,\n",
    "    'How many articles in the test set are we not able to make predictions for because of the cold start problem?': # letter here\n",
    "}\n",
    "\n",
    "t.sol_4_test(sol_4_dict)"
   ]
  },
  {
   "cell_type": "markdown",
   "metadata": {},
   "source": [
    "`5.` Now use the **user_item_train** dataset from above to find U, S, and V transpose using SVD. Then find the subset of rows in the **user_item_test** dataset that you can predict using this matrix decomposition with different numbers of latent features to see how many features makes sense to keep based on the accuracy on the test data. This will require combining what was done in questions `2` - `4`.\n",
    "\n",
    "Use the cells below to explore how well SVD works towards making predictions for recommendations on the test data.  "
   ]
  },
  {
   "cell_type": "code",
   "execution_count": null,
   "metadata": {},
   "outputs": [],
   "source": [
    "# fit SVD on the user_item_train matrix\n",
    "u_train, s_train, vt_train = # fit svd similar to above then use the cells below"
   ]
  },
  {
   "cell_type": "code",
   "execution_count": null,
   "metadata": {},
   "outputs": [],
   "source": [
    "# Use these cells to see how well you can use the training \n",
    "# decomposition to predict on test data"
   ]
  },
  {
   "cell_type": "code",
   "execution_count": null,
   "metadata": {},
   "outputs": [],
   "source": []
  },
  {
   "cell_type": "code",
   "execution_count": null,
   "metadata": {},
   "outputs": [],
   "source": []
  },
  {
   "cell_type": "markdown",
   "metadata": {
    "collapsed": true,
    "jupyter": {
     "outputs_hidden": true
    }
   },
   "source": [
    "`6.` Use the cell below to comment on the results you found in the previous question. Given the circumstances of your results, discuss what you might do to determine if the recommendations you make with any of the above recommendation systems are an improvement to how users currently find articles? "
   ]
  },
  {
   "cell_type": "markdown",
   "metadata": {},
   "source": [
    "**Your response here.**"
   ]
  },
  {
   "cell_type": "markdown",
   "metadata": {
    "collapsed": true,
    "jupyter": {
     "outputs_hidden": true
    }
   },
   "source": [
    "<a id='conclusions'></a>\n",
    "### Extras\n",
    "Using your workbook, you could now save your recommendations for each user, develop a class to make new predictions and update your results, and make a flask app to deploy your results.  These tasks are beyond what is required for this project.  However, from what you learned in the lessons, you certainly capable of taking these tasks on to improve upon your work here!\n",
    "\n",
    "\n",
    "## Conclusion\n",
    "\n",
    "> Congratulations!  You have reached the end of the Recommendations with IBM project! \n",
    "\n",
    "> **Tip**: Once you are satisfied with your work here, check over your report to make sure that it is satisfies all the areas of the [rubric](https://review.udacity.com/#!/rubrics/2322/view). You should also probably remove all of the \"Tips\" like this one so that the presentation is as polished as possible.\n",
    "\n",
    "\n",
    "## Directions to Submit\n",
    "\n",
    "> Before you submit your project, you need to create a .html or .pdf version of this notebook in the workspace here. To do that, run the code cell below. If it worked correctly, you should get a return code of 0, and you should see the generated .html file in the workspace directory (click on the orange Jupyter icon in the upper left).\n",
    "\n",
    "> Alternatively, you can download this report as .html via the **File** > **Download as** submenu, and then manually upload it into the workspace directory by clicking on the orange Jupyter icon in the upper left, then using the Upload button.\n",
    "\n",
    "> Once you've done this, you can submit your project by clicking on the \"Submit Project\" button in the lower right here. This will create and submit a zip file with this .ipynb doc and the .html or .pdf version you created. Congratulations! "
   ]
  },
  {
   "cell_type": "code",
   "execution_count": null,
   "metadata": {},
   "outputs": [],
   "source": [
    "from subprocess import call\n",
    "call(['python', '-m', 'nbconvert', 'Recommendations_with_IBM.ipynb'])"
   ]
  }
 ],
 "metadata": {
  "kernelspec": {
   "display_name": "Python 3 (ipykernel)",
   "language": "python",
   "name": "python3"
  },
  "language_info": {
   "codemirror_mode": {
    "name": "ipython",
    "version": 3
   },
   "file_extension": ".py",
   "mimetype": "text/x-python",
   "name": "python",
   "nbconvert_exporter": "python",
   "pygments_lexer": "ipython3",
   "version": "3.8.5"
  }
 },
 "nbformat": 4,
 "nbformat_minor": 4
}
